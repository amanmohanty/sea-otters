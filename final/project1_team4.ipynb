{
 "cells": [
  {
   "cell_type": "markdown",
   "metadata": {
    "id": "yg09uPg0Y6hw"
   },
   "source": [
    "<center>\n",
    "    <h1> Analysis of Dynamics of Sea Otter Population in California for Guiding Conservational Efforts </h1>\n",
    "    <img src=\"https://cosmosmagazine.com/wp-content/uploads/2020/02/190624_sea_otters_full.jpg\" alt=\"Sea Otter\" width=\"900\" height=\"500\">\n",
    "</center>\n",
    "\n",
    "<h4>Authors:</h4>\n",
    "<blockquote>Jui-Chia Chung (juichiac)<br>Aman Mohanty (amanmoha)</blockquote>"
   ]
  },
  {
   "cell_type": "markdown",
   "metadata": {},
   "source": [
    "## Abstract\n",
    "\n",
    "Southern sea otters in California are extremely cute and important for maintaining a balanced ecosystem. This report aims to understand the dynamics of sea otter population in California by analyzing data about census, stranding cases and mortality in sea otters. We want to understand the sea otter population both chronologically and geographically by asking main questions about the general trend over the years and geographical distributions of both living population and stranded sea otters. We also addressed important questions including the what are leading causes of death in sea otters across sex and age class distribution. Our results suggest that though the sea otter population is increasing over the past decades from 1985-2014, population size (~ 3000 in year 2015) is still small according to Red List criterion [[5, 9]](#References). Habitats with better environment and conservational efforts, such as Monetery Bay National Marine Sanctuary, demonstrates tremendous increase in sea otter population over time. There is also an increasing trend of stranded sea otter counts and more stranded sea otters were found in the north of California coastline. A seasonal trend is also observed in stranded sea otters, where the average stranded counts decreases from spring, summer, autumn, to winter. Pups are especially more susceptible to stranding in spring and winter. Among the 6 types of threat (infection, disease, human disturbance, injury, poor condition, and predator), infection is the main threat posed to sea otter population, especially to younger otters (<= 3 years old). Specifically, acanthocephalan infection and T. gondii encephalitis are the leading primary causes of sea otter death. Furthermore, T. gondii encephalitis is the leading cause of death in males. Disease is another top threat, especially to older otters (>= 4 years old), and cardiac disease is found to be the leading cause of death in females. Emaciation is the leading contributing cause of death. While our result suggests that human disturbance poses the least threat, it is important to realize that our activities may lead to increased exposure of pathogens and protozoans to the otters, leading to massive infection. We should prioritze our conservational efforts in evaluating and containing the sources of pathogens near coastline and increase natural filter of watershed runoff. Also, though there are only a few deaths that are caused by human disturbances in our analysis, human distrubances are more often primary causes rather than contributing causes of death. Therefore, these disturbances, especially boat strike (the most common cause of death in human disturbance category), should be reduced to help increase the population size."
   ]
  },
  {
   "cell_type": "markdown",
   "metadata": {
    "id": "wIv5bd0w75Ht"
   },
   "source": [
    "## Introduction and Motivation\n",
    "\n",
    "Along the central California coast lives a population of adorable Southern sea otters (*Enhydra lutris nereis*)[[4]](#References). We know about them from watching videos of these furry otters holding hands together and rubbing their faces. They are actually very important for maintaining a balanced nearshore ecosystem, such as kelp forest. Without sea otters, the urchins will be feeding on kelps aggressively and destroying the ecosystem [[7]](#References).  Often, we know how cute they are, but have no idea how vulnerable they can be. Sea otters are currently on the IUCN Red List of Endangered Species [[5]](#References). Besides predators and infectious diseases, human activities such as oil spills are polluting sea otters’ natural habitat and posing more threats [[6]](#References). We are interested in understanding the dynamics of sea otter population in California, including their population growth, stranding and mortality cases. (Stranding is when a sea otter is found above the high tide line on shore that os dead, or would have died without intervention [[8]](#References)). We want to know how the population is doing both chronologically and geographically so as to make better conservation decisions to protect these cute and important creatures. "
   ]
  },
  {
   "cell_type": "markdown",
   "metadata": {},
   "source": [
    "## Datasets\n",
    "\n",
    "This is a list of all datasets used and brief descriptions. More descriptions about the dataset is included in the analysis.\n",
    "\n",
    "**For census analysis:**\n",
    "\n",
    "<a href=\"https://www.sciencebase.gov/catalog/item/5a32d390e4b08e6a89d88583\" target=\"_blank\">Annual California Sea Otter Census - 1985-2014 Spring Census Summary</a> is tidy and clean and has 17 columns and 53,781 rows. Columns include perimeter, area, zone code, linear density, area density, 5 year trend, and so on. It also has PDF reports each year from which the raw counts of census data can be extracted. \n",
    "\n",
    "\n",
    "<a href=\"https://pubs.usgs.gov/of/2019/1022/ofr20191022.pdf\" target=\"_blank\">Southern Sea Otter (Enhydra lutris nereis) Population Biology at Big Sur and Monterey, California—Investigating the Consequences of Resource Abundance and Anthropogenic Stressors for Sea Otter Recovery</a>  is a PDF report from which many data tables can be extracted. For example, table 36 is an overview of implant history, and primary and contributing causes of death for tagged, necropsied sea otters from Monterey Peninsula and Big Sur coast study sites, central California. This table is tidy and has 7 columns and 18 rows. This dataset is used for verifying the census data from the previous dataset. \n",
    "\n",
    "<a href=\"https://www.sciencebase.gov/catalog/item/5a32d390e4b08e6a89d88583\" target=\"_blank\">Spring 2014 Census summary</a> contains the census data for Spring 2014. From this data, we only use the shapefile for geographical analysis. The table has the same structure as the census table with an additional geometry column representing the geometrical shape of the habitats. \n",
    "\n",
    "**For stranding analysis:**\n",
    "\n",
    "<a href=\"https://www.sciencebase.gov/catalog/item/598e1cf6e4b09fa1cb14e184\" target=\"_blank\">Summary of stranded southern sea otters, 1985-2017</a> includes 3 tables in .csv format. \n",
    "Table 1: 16 columns, 34 rows. Columns are year, total count, and various locations.\n",
    "Table 2: 20 columns, 34 rows. Columns are year, total count and various life stages for different genders (Female, Male, Unknown). \n",
    "Table 3: 15 columns, 198 rows. Columns are year, age groups and months.\n",
    "All the tables are tidy and clean. Table 1 is used for geographical stranding analysis. Table 3 is used for seasonal and chhronological stranding analysis. Table 2 is not used.\n",
    "\n",
    "**For mortality analysis:**\n",
    "\n",
    "<a href=\"https://pubmed.ncbi.nlm.nih.gov/14567210/\" target=\"_blank\">Patterns of mortality in southern sea otters 1998-2001</a> is a PDF report from which we can extract a table about primary and contributing causes of death in 105 southern sea otters from February 1998 to July 2001. This table has 9 columns and 26 rows. The table is not tidy. "
   ]
  },
  {
   "cell_type": "markdown",
   "metadata": {},
   "source": [
    "## Questions and Results\n",
    "\n",
    "Here is an overview of the main questions addressed and the important results we found in our analyses.\n",
    "\n",
    "*Census related questions:*\n",
    "\n",
    "1. **How well is the total population doing over the years? Is the population growth slow or fast?**\n",
    "\n",
    "  In general, the sea otter population shows a steady increase from 1985-2014. There were declines observed around year 2000 and 2010. \n",
    "\n",
    "2. **Are there locations that have higher population density than other locations?**\n",
    "\n",
    "  We found that the region from Cape San Martin to San Simeon Point and from Capitola to Seaside have higher population density and contribute immensely to the population growth. <a href=\"maps/region_map.html\" target=\"_blank\">Click here</a> to see where these points are.\n",
    "\n",
    "3. **Are some habitats more suitable for sea otters?**\n",
    "\n",
    "  We found that at Monetery Bay National Marine Sanctuary, sea otter population showed tremendous increase over time compared to other habitats.\n",
    "We also found that more sea otters were found in the shallower regions than in the deeper regions.\n",
    "\n",
    "\n",
    "\n",
    "*Stranding related questions:*\n",
    "\n",
    "4. **Is there a particular area with more cases of stranding?**\n",
    "\n",
    "  More stranded sea otters were found from Capitola to Point Lobos. Many stranded sea otters were also found from Cayucos to Hazard Canyon.  <a href=\"maps/region_map.html\" target=\"_blank\">Click here</a> to see where these points are.\n",
    "  \n",
    "5. **What is the trend of stranded sea otter counts over the years?**\n",
    "\n",
    "  There is an increasing overall trend in stranded sea otter counts from 1985-2017. Year 1985 has the lowest number of strandings of 72 cases and year 2016 has the highest number of strandings of 474 cases, which is a ~ 6.5 times increase. \n",
    "\n",
    "6. **Is there a correlation between season and stranded sea otter counts?**\n",
    "\n",
    "  More stranded sea otters were observed in months around April and August and fewer were observed from November to January. The average stranded counts decreases from spring, summer, autumn, to winter, with 63.9 average stranded counts in spring and 43.2 average counts in winter.\n",
    "\n",
    "7. **How does season affect different age classes of sea otters?**\n",
    "\n",
    "  Most stranded sea otters are adults in all seasons. Pups are more likely to be stranded in spring and winter. \n",
    "\n",
    "\n",
    "*Mortality related questions:*\n",
    "\n",
    "8. **What are the main threats to sea otter population?**\n",
    "\n",
    "  Infection and disease are the top two threats. Human disturbance poses the least threat. (Threats included in the analysis are infection, disease, human disturbance, poor condition, injury, and predator.)\n",
    "\n",
    "9. **What are the most common cause of death within each category of threat?**\n",
    "\n",
    "  We focused on three categories: infection, disease, and human disturbance and found that T. gondii encephalitis, cardiac disease, and boat strike are the most common causes in each category respectively.\n",
    "  \n",
    "10. **What are the leading primary causes and contributing causes of death in sea otters?**\n",
    "\n",
    "  The leading primary causes are acanthocephalan infection and T. gondii encephalitis and the leading contributing cause is emaciation.\n",
    "\n",
    "11. **Are the leading primary causes of death different between genders?**\n",
    "\n",
    "  The leading primary cause of death in females and males is cardiac disease and T. gondii encephalitis respectively.\n",
    "\n",
    "12. **What is the leading primary cause of death in different age classes?**\n",
    "\n",
    "  The leading primary cause of death of acanthocephalan infection in juveniles, T.godii encephalitis and shark attack in subadults, cardiac disease in both adults and aged adults."
   ]
  },
  {
   "cell_type": "markdown",
   "metadata": {},
   "source": [
    "## Discussion and Limitations\n",
    "\n",
    "Datasets used in our analyses do not include the most recent data, so our results are limited in understanding current sea otter population dynamics. However, these results demonstrate a general trend over the past decades and a geographical distribution of otter population and stranded otters. \n",
    "\n",
    "The dataset for mortality includes only 105 sea otters, so our results for mortality analysis are based on a small sample size and may not be very representative. We are focusing on sea otter population in California in this report, but we noticed that there are datasets about mortality in sea otter populations in Washington, which we may include in further analysis to look at mortality in a larger sample size not limited to California. Since our analysis is limited to California, the results may not apply to sea otter populations in other geographical areas. \n",
    "\n",
    "We do not have data about the causes of stranded sea otters, which would have make our analysis more complete and thorough. For now, a lot of our reasoning will have to depend on information from the websites and reports. "
   ]
  },
  {
   "cell_type": "markdown",
   "metadata": {},
   "source": [
    "#### Libraries and Packages\n",
    "For our analysis, we use the basic python data analysis packages, `numpy, pandas, matplotlib and altair`. We also use some in-built python packages for processing.\n",
    "Apart from these, we use some advanced packages to handle the geographical data and plot maps. We need to install these packages.\n",
    "\n",
    "```python\n",
    "!pip install folium, geopandas, Shapely\n",
    "```\n",
    "\n",
    "**Before installing check your pip command**"
   ]
  },
  {
   "cell_type": "code",
   "execution_count": 1,
   "metadata": {
    "executionInfo": {
     "elapsed": 1822,
     "status": "ok",
     "timestamp": 1616819858770,
     "user": {
      "displayName": "Jui-Chia Chung",
      "photoUrl": "",
      "userId": "07884676406703548290"
     },
     "user_tz": -480
    },
    "id": "gDTl1PLvY6h2"
   },
   "outputs": [],
   "source": [
    "import pandas as pd\n",
    "import numpy as np\n",
    "import altair as alt\n",
    "alt.data_transformers.disable_max_rows()  #handle large datasets\n",
    "import matplotlib.pyplot as plt\n",
    "\n",
    "import math\n",
    "import warnings\n",
    "warnings.filterwarnings('ignore')\n",
    "import pickle\n",
    "\n",
    "import geopandas as gpd\n",
    "from shapely.geometry import Point\n",
    "import folium"
   ]
  },
  {
   "cell_type": "code",
   "execution_count": 2,
   "metadata": {
    "executionInfo": {
     "elapsed": 693,
     "status": "ok",
     "timestamp": 1616819890858,
     "user": {
      "displayName": "Jui-Chia Chung",
      "photoUrl": "",
      "userId": "07884676406703548290"
     },
     "user_tz": -480
    },
    "id": "GRh7_QV4Y6h3"
   },
   "outputs": [],
   "source": [
    "DATAPATH = '../data/'   # set path to data folder"
   ]
  },
  {
   "cell_type": "markdown",
   "metadata": {},
   "source": [
    "## Census analysis"
   ]
  },
  {
   "cell_type": "markdown",
   "metadata": {},
   "source": [
    "We start our analysis with the census data to look into how the general population trend has been doing over time."
   ]
  },
  {
   "cell_type": "code",
   "execution_count": 3,
   "metadata": {
    "id": "FabvcHxVY6h4",
    "outputId": "870efac2-eeee-4b9a-abb3-04b99413e31a"
   },
   "outputs": [
    {
     "data": {
      "text/html": [
       "<div>\n",
       "<style scoped>\n",
       "    .dataframe tbody tr th:only-of-type {\n",
       "        vertical-align: middle;\n",
       "    }\n",
       "\n",
       "    .dataframe tbody tr th {\n",
       "        vertical-align: top;\n",
       "    }\n",
       "\n",
       "    .dataframe thead th {\n",
       "        text-align: right;\n",
       "    }\n",
       "</style>\n",
       "<table border=\"1\" class=\"dataframe\">\n",
       "  <thead>\n",
       "    <tr style=\"text-align: right;\">\n",
       "      <th></th>\n",
       "      <th>FID</th>\n",
       "      <th>PERIMETER</th>\n",
       "      <th>AREA</th>\n",
       "      <th>DEPTH</th>\n",
       "      <th>ATOS_ID</th>\n",
       "      <th>HAB_ID</th>\n",
       "      <th>ACRES</th>\n",
       "      <th>HECTARES</th>\n",
       "      <th>ZONE_CODE</th>\n",
       "      <th>ZONE</th>\n",
       "      <th>Year</th>\n",
       "      <th>POLY_ID</th>\n",
       "      <th>dens_sm</th>\n",
       "      <th>pupratio</th>\n",
       "      <th>lin_dens</th>\n",
       "      <th>trend5yr</th>\n",
       "      <th>Sect_ID</th>\n",
       "    </tr>\n",
       "  </thead>\n",
       "  <tbody>\n",
       "    <tr>\n",
       "      <th>0</th>\n",
       "      <td>0</td>\n",
       "      <td>7.674904</td>\n",
       "      <td>1.502586</td>\n",
       "      <td>0 to -30m</td>\n",
       "      <td>960</td>\n",
       "      <td>960n</td>\n",
       "      <td>371.297008</td>\n",
       "      <td>150.258568</td>\n",
       "      <td>n</td>\n",
       "      <td>2</td>\n",
       "      <td>1985.0</td>\n",
       "      <td>960n</td>\n",
       "      <td>0.074644</td>\n",
       "      <td>0.0</td>\n",
       "      <td>0.133333</td>\n",
       "      <td>0.0</td>\n",
       "      <td>12.0</td>\n",
       "    </tr>\n",
       "    <tr>\n",
       "      <th>1</th>\n",
       "      <td>1</td>\n",
       "      <td>8.150749</td>\n",
       "      <td>1.932601</td>\n",
       "      <td>0 to -30m</td>\n",
       "      <td>958</td>\n",
       "      <td>958n</td>\n",
       "      <td>477.556112</td>\n",
       "      <td>193.260102</td>\n",
       "      <td>n</td>\n",
       "      <td>2</td>\n",
       "      <td>1985.0</td>\n",
       "      <td>958n</td>\n",
       "      <td>0.071625</td>\n",
       "      <td>0.0</td>\n",
       "      <td>0.133333</td>\n",
       "      <td>0.0</td>\n",
       "      <td>12.0</td>\n",
       "    </tr>\n",
       "    <tr>\n",
       "      <th>2</th>\n",
       "      <td>2</td>\n",
       "      <td>11.311080</td>\n",
       "      <td>2.835678</td>\n",
       "      <td>-30 to -60m</td>\n",
       "      <td>956</td>\n",
       "      <td>956o</td>\n",
       "      <td>700.711413</td>\n",
       "      <td>283.567848</td>\n",
       "      <td>o</td>\n",
       "      <td>3</td>\n",
       "      <td>1985.0</td>\n",
       "      <td>956o</td>\n",
       "      <td>0.000000</td>\n",
       "      <td>0.0</td>\n",
       "      <td>0.133333</td>\n",
       "      <td>0.0</td>\n",
       "      <td>12.0</td>\n",
       "    </tr>\n",
       "    <tr>\n",
       "      <th>3</th>\n",
       "      <td>3</td>\n",
       "      <td>7.708984</td>\n",
       "      <td>1.791305</td>\n",
       "      <td>0 to -30m</td>\n",
       "      <td>961</td>\n",
       "      <td>961n</td>\n",
       "      <td>442.641052</td>\n",
       "      <td>179.130478</td>\n",
       "      <td>n</td>\n",
       "      <td>2</td>\n",
       "      <td>1985.0</td>\n",
       "      <td>961n</td>\n",
       "      <td>0.063913</td>\n",
       "      <td>0.0</td>\n",
       "      <td>0.117460</td>\n",
       "      <td>0.0</td>\n",
       "      <td>12.0</td>\n",
       "    </tr>\n",
       "    <tr>\n",
       "      <th>4</th>\n",
       "      <td>4</td>\n",
       "      <td>7.862669</td>\n",
       "      <td>1.523677</td>\n",
       "      <td>0 to -30m</td>\n",
       "      <td>959</td>\n",
       "      <td>959n</td>\n",
       "      <td>376.508706</td>\n",
       "      <td>152.367667</td>\n",
       "      <td>n</td>\n",
       "      <td>2</td>\n",
       "      <td>1985.0</td>\n",
       "      <td>959n</td>\n",
       "      <td>0.074456</td>\n",
       "      <td>0.0</td>\n",
       "      <td>0.133333</td>\n",
       "      <td>0.0</td>\n",
       "      <td>12.0</td>\n",
       "    </tr>\n",
       "  </tbody>\n",
       "</table>\n",
       "</div>"
      ],
      "text/plain": [
       "   FID  PERIMETER      AREA        DEPTH  ATOS_ID HAB_ID       ACRES  \\\n",
       "0    0   7.674904  1.502586    0 to -30m      960   960n  371.297008   \n",
       "1    1   8.150749  1.932601    0 to -30m      958   958n  477.556112   \n",
       "2    2  11.311080  2.835678  -30 to -60m      956   956o  700.711413   \n",
       "3    3   7.708984  1.791305    0 to -30m      961   961n  442.641052   \n",
       "4    4   7.862669  1.523677    0 to -30m      959   959n  376.508706   \n",
       "\n",
       "     HECTARES ZONE_CODE  ZONE    Year POLY_ID   dens_sm  pupratio  lin_dens  \\\n",
       "0  150.258568         n     2  1985.0    960n  0.074644       0.0  0.133333   \n",
       "1  193.260102         n     2  1985.0    958n  0.071625       0.0  0.133333   \n",
       "2  283.567848         o     3  1985.0    956o  0.000000       0.0  0.133333   \n",
       "3  179.130478         n     2  1985.0    961n  0.063913       0.0  0.117460   \n",
       "4  152.367667         n     2  1985.0    959n  0.074456       0.0  0.133333   \n",
       "\n",
       "   trend5yr  Sect_ID  \n",
       "0       0.0     12.0  \n",
       "1       0.0     12.0  \n",
       "2       0.0     12.0  \n",
       "3       0.0     12.0  \n",
       "4       0.0     12.0  "
      ]
     },
     "execution_count": 3,
     "metadata": {},
     "output_type": "execute_result"
    }
   ],
   "source": [
    "census = pd.read_csv(DATAPATH+'population/annual_census_1985-2014.csv')\n",
    "census.head()"
   ]
  },
  {
   "cell_type": "markdown",
   "metadata": {
    "id": "8fbNukPfY6h5"
   },
   "source": [
    "#### Some information on the dataset:\n",
    "\n",
    "This dataset contains information about sea otters population over time across different habitats. It also has information habitat properties like  **DEPTH**, **PERIMETER** and **AREA**. Each habitat has a unique id, **HAB_ID**. Otter information has been provided in terms of density per square kilometer, **dens_sm**. This is the independent otter (like adults) information. **pup_ratio** provides pup otter (the babies) count relative to independent otter count. More details <a href=\"https://www.sciencebase.gov/catalog/item/5a32d390e4b08e6a89d88583\" target=\"_blank\">here</a>. All these information are recorded every year and for every habitat surveyed that year. (It turns out that not all habitats are surveyed every year). \n",
    "\n",
    "**Note:** There are 53780 samples, 17 attributes in this dataset. In total, 2285 habitats are surveyed from 1985-2014."
   ]
  },
  {
   "cell_type": "code",
   "execution_count": 4,
   "metadata": {
    "id": "Dj0MFf_6Y6h6",
    "outputId": "d4414663-4ee3-4230-c7f3-8d223dcf03e3"
   },
   "outputs": [
    {
     "name": "stdout",
     "output_type": "stream",
     "text": [
      "<class 'pandas.core.frame.DataFrame'>\n",
      "RangeIndex: 53780 entries, 0 to 53779\n",
      "Data columns (total 17 columns):\n",
      " #   Column     Non-Null Count  Dtype  \n",
      "---  ------     --------------  -----  \n",
      " 0   FID        53780 non-null  int64  \n",
      " 1   PERIMETER  53780 non-null  float64\n",
      " 2   AREA       53780 non-null  float64\n",
      " 3   DEPTH      53780 non-null  object \n",
      " 4   ATOS_ID    53780 non-null  int64  \n",
      " 5   HAB_ID     53780 non-null  object \n",
      " 6   ACRES      53780 non-null  float64\n",
      " 7   HECTARES   53780 non-null  float64\n",
      " 8   ZONE_CODE  53780 non-null  object \n",
      " 9   ZONE       53780 non-null  int64  \n",
      " 10  Year       53780 non-null  float64\n",
      " 11  POLY_ID    53780 non-null  object \n",
      " 12  dens_sm    53780 non-null  float64\n",
      " 13  pupratio   53780 non-null  float64\n",
      " 14  lin_dens   53780 non-null  float64\n",
      " 15  trend5yr   53780 non-null  float64\n",
      " 16  Sect_ID    53780 non-null  float64\n",
      "dtypes: float64(10), int64(3), object(4)\n",
      "memory usage: 7.0+ MB\n"
     ]
    }
   ],
   "source": [
    "census.info()"
   ]
  },
  {
   "cell_type": "code",
   "execution_count": 5,
   "metadata": {
    "id": "O8kDMJ_LY6h6",
    "outputId": "20999498-ee74-4932-f46d-2baba8c06860"
   },
   "outputs": [
    {
     "data": {
      "text/plain": [
       "FID          53780\n",
       "PERIMETER     2286\n",
       "AREA          2286\n",
       "DEPTH            4\n",
       "ATOS_ID       1142\n",
       "HAB_ID        2285\n",
       "ACRES         2286\n",
       "HECTARES      2286\n",
       "ZONE_CODE        4\n",
       "ZONE             4\n",
       "Year            29\n",
       "POLY_ID       2285\n",
       "dens_sm      28134\n",
       "pupratio     10263\n",
       "lin_dens      3663\n",
       "trend5yr     22711\n",
       "Sect_ID         14\n",
       "dtype: int64"
      ]
     },
     "execution_count": 5,
     "metadata": {},
     "output_type": "execute_result"
    }
   ],
   "source": [
    "census.nunique()"
   ]
  },
  {
   "cell_type": "code",
   "execution_count": 6,
   "metadata": {
    "id": "UULk1w2NY6h7",
    "outputId": "e3b5e144-746c-489a-ad53-3001c99884e0"
   },
   "outputs": [
    {
     "data": {
      "text/plain": [
       "53780"
      ]
     },
     "execution_count": 6,
     "metadata": {},
     "output_type": "execute_result"
    }
   ],
   "source": [
    "(census.HAB_ID == census.POLY_ID).sum()"
   ]
  },
  {
   "cell_type": "markdown",
   "metadata": {
    "id": "aSEuI8olY6h7"
   },
   "source": [
    "**POLY_ID** is same as **HAB_ID** for all samples."
   ]
  },
  {
   "cell_type": "code",
   "execution_count": 7,
   "metadata": {
    "id": "ii9bDAWcY6h7",
    "outputId": "f1061267-0b85-42ea-e933-1e6b2134ba7c"
   },
   "outputs": [
    {
     "data": {
      "text/plain": [
       "53776"
      ]
     },
     "execution_count": 7,
     "metadata": {},
     "output_type": "execute_result"
    }
   ],
   "source": [
    "census['ATOS_ZONE'] = census.ATOS_ID.astype(str)+census.ZONE_CODE\n",
    "(census.HAB_ID == census.ATOS_ZONE).sum()"
   ]
  },
  {
   "cell_type": "markdown",
   "metadata": {
    "id": "2CF2AOoWY6h7"
   },
   "source": [
    "**ATOS_ID**+**ZONE_CODE** is same as **HAB_ID** for almost all samples."
   ]
  },
  {
   "cell_type": "code",
   "execution_count": 8,
   "metadata": {
    "id": "yiA_xC_sY6h8",
    "outputId": "2b289cf2-263a-40db-fc16-2add0badbea0"
   },
   "outputs": [
    {
     "data": {
      "text/plain": [
       "(array([2, 3, 1, 4]), array(['n', 'o', 'b', 'w'], dtype=object))"
      ]
     },
     "execution_count": 8,
     "metadata": {},
     "output_type": "execute_result"
    }
   ],
   "source": [
    "census.ZONE.unique(),census.ZONE_CODE.unique()"
   ]
  },
  {
   "cell_type": "markdown",
   "metadata": {
    "id": "zfMGUVuUY6h8"
   },
   "source": [
    "**ZONE** is numeric identifier of **ZONE_CODE**."
   ]
  },
  {
   "cell_type": "markdown",
   "metadata": {
    "id": "oVtWyfIBY6h8"
   },
   "source": [
    "Based on a quick analysis, and intuition about our requirement we select **AREA, DEPTH, HAB_ID, ZONE_CODE, Year, dens_sm, pupratio, lin_dens, trend5yr** attributes."
   ]
  },
  {
   "cell_type": "code",
   "execution_count": 9,
   "metadata": {
    "id": "Vqi96cOsY6h9",
    "outputId": "a53826af-e69d-47ff-a497-5dae59376e54"
   },
   "outputs": [
    {
     "data": {
      "text/html": [
       "<div>\n",
       "<style scoped>\n",
       "    .dataframe tbody tr th:only-of-type {\n",
       "        vertical-align: middle;\n",
       "    }\n",
       "\n",
       "    .dataframe tbody tr th {\n",
       "        vertical-align: top;\n",
       "    }\n",
       "\n",
       "    .dataframe thead th {\n",
       "        text-align: right;\n",
       "    }\n",
       "</style>\n",
       "<table border=\"1\" class=\"dataframe\">\n",
       "  <thead>\n",
       "    <tr style=\"text-align: right;\">\n",
       "      <th></th>\n",
       "      <th>AREA</th>\n",
       "      <th>DEPTH</th>\n",
       "      <th>HAB_ID</th>\n",
       "      <th>ZONE_CODE</th>\n",
       "      <th>Year</th>\n",
       "      <th>dens_sm</th>\n",
       "      <th>pupratio</th>\n",
       "      <th>lin_dens</th>\n",
       "      <th>trend5yr</th>\n",
       "    </tr>\n",
       "  </thead>\n",
       "  <tbody>\n",
       "    <tr>\n",
       "      <th>0</th>\n",
       "      <td>1.502586</td>\n",
       "      <td>0 to -30m</td>\n",
       "      <td>960n</td>\n",
       "      <td>n</td>\n",
       "      <td>1985.0</td>\n",
       "      <td>0.074644</td>\n",
       "      <td>0.0</td>\n",
       "      <td>0.133333</td>\n",
       "      <td>0.0</td>\n",
       "    </tr>\n",
       "    <tr>\n",
       "      <th>1</th>\n",
       "      <td>1.932601</td>\n",
       "      <td>0 to -30m</td>\n",
       "      <td>958n</td>\n",
       "      <td>n</td>\n",
       "      <td>1985.0</td>\n",
       "      <td>0.071625</td>\n",
       "      <td>0.0</td>\n",
       "      <td>0.133333</td>\n",
       "      <td>0.0</td>\n",
       "    </tr>\n",
       "    <tr>\n",
       "      <th>2</th>\n",
       "      <td>2.835678</td>\n",
       "      <td>-30 to -60m</td>\n",
       "      <td>956o</td>\n",
       "      <td>o</td>\n",
       "      <td>1985.0</td>\n",
       "      <td>0.000000</td>\n",
       "      <td>0.0</td>\n",
       "      <td>0.133333</td>\n",
       "      <td>0.0</td>\n",
       "    </tr>\n",
       "    <tr>\n",
       "      <th>3</th>\n",
       "      <td>1.791305</td>\n",
       "      <td>0 to -30m</td>\n",
       "      <td>961n</td>\n",
       "      <td>n</td>\n",
       "      <td>1985.0</td>\n",
       "      <td>0.063913</td>\n",
       "      <td>0.0</td>\n",
       "      <td>0.117460</td>\n",
       "      <td>0.0</td>\n",
       "    </tr>\n",
       "    <tr>\n",
       "      <th>4</th>\n",
       "      <td>1.523677</td>\n",
       "      <td>0 to -30m</td>\n",
       "      <td>959n</td>\n",
       "      <td>n</td>\n",
       "      <td>1985.0</td>\n",
       "      <td>0.074456</td>\n",
       "      <td>0.0</td>\n",
       "      <td>0.133333</td>\n",
       "      <td>0.0</td>\n",
       "    </tr>\n",
       "  </tbody>\n",
       "</table>\n",
       "</div>"
      ],
      "text/plain": [
       "       AREA        DEPTH HAB_ID ZONE_CODE    Year   dens_sm  pupratio  \\\n",
       "0  1.502586    0 to -30m   960n         n  1985.0  0.074644       0.0   \n",
       "1  1.932601    0 to -30m   958n         n  1985.0  0.071625       0.0   \n",
       "2  2.835678  -30 to -60m   956o         o  1985.0  0.000000       0.0   \n",
       "3  1.791305    0 to -30m   961n         n  1985.0  0.063913       0.0   \n",
       "4  1.523677    0 to -30m   959n         n  1985.0  0.074456       0.0   \n",
       "\n",
       "   lin_dens  trend5yr  \n",
       "0  0.133333       0.0  \n",
       "1  0.133333       0.0  \n",
       "2  0.133333       0.0  \n",
       "3  0.117460       0.0  \n",
       "4  0.133333       0.0  "
      ]
     },
     "execution_count": 9,
     "metadata": {},
     "output_type": "execute_result"
    }
   ],
   "source": [
    "attributes = ['AREA','DEPTH','HAB_ID','ZONE_CODE','Year','dens_sm','pupratio','lin_dens','trend5yr']\n",
    "org_data = census.copy()   \n",
    "census = org_data[attributes] \n",
    "census.head()"
   ]
  },
  {
   "cell_type": "markdown",
   "metadata": {
    "id": "tFi2CsSvY6h9"
   },
   "source": [
    "### How well is the total population doing over the years? Is the population growth slow or fast?\n",
    "\n",
    "We want to look into how sea otter population has been doing over time.\n",
    "\n",
    "#### Get Otter counts\n",
    "Our first task is to find otter count in each habitat for each year. In the `census` dataset, we have density of otter in square kilometer, **dens_sm**, of a habitat and area of habitat, **AREA**. Using these two attribute, we find the total independent otter count. And using pup to independent ratio, **pup_ratio**, we  find pup otter count. Also, we sum the independent and pup otter count to get the total otter count."
   ]
  },
  {
   "cell_type": "code",
   "execution_count": 10,
   "metadata": {
    "colab": {
     "base_uri": "https://localhost:8080/",
     "height": 232
    },
    "executionInfo": {
     "elapsed": 1300,
     "status": "error",
     "timestamp": 1616726352420,
     "user": {
      "displayName": "Jui-Chia Chung",
      "photoUrl": "",
      "userId": "07884676406703548290"
     },
     "user_tz": -480
    },
    "id": "ukQKIkwYY6h9",
    "outputId": "e84f6240-2ef4-4269-c88b-757620813a81"
   },
   "outputs": [
    {
     "data": {
      "text/html": [
       "<div>\n",
       "<style scoped>\n",
       "    .dataframe tbody tr th:only-of-type {\n",
       "        vertical-align: middle;\n",
       "    }\n",
       "\n",
       "    .dataframe tbody tr th {\n",
       "        vertical-align: top;\n",
       "    }\n",
       "\n",
       "    .dataframe thead th {\n",
       "        text-align: right;\n",
       "    }\n",
       "</style>\n",
       "<table border=\"1\" class=\"dataframe\">\n",
       "  <thead>\n",
       "    <tr style=\"text-align: right;\">\n",
       "      <th></th>\n",
       "      <th>AREA</th>\n",
       "      <th>DEPTH</th>\n",
       "      <th>HAB_ID</th>\n",
       "      <th>ZONE_CODE</th>\n",
       "      <th>Year</th>\n",
       "      <th>dens_sm</th>\n",
       "      <th>pupratio</th>\n",
       "      <th>lin_dens</th>\n",
       "      <th>trend5yr</th>\n",
       "      <th>independent_otters</th>\n",
       "      <th>pup_otters</th>\n",
       "      <th>total_otters</th>\n",
       "    </tr>\n",
       "  </thead>\n",
       "  <tbody>\n",
       "    <tr>\n",
       "      <th>0</th>\n",
       "      <td>1.502586</td>\n",
       "      <td>0 to -30m</td>\n",
       "      <td>960n</td>\n",
       "      <td>n</td>\n",
       "      <td>1985.0</td>\n",
       "      <td>0.074644</td>\n",
       "      <td>0.0</td>\n",
       "      <td>0.133333</td>\n",
       "      <td>0.0</td>\n",
       "      <td>0</td>\n",
       "      <td>0</td>\n",
       "      <td>0</td>\n",
       "    </tr>\n",
       "    <tr>\n",
       "      <th>1</th>\n",
       "      <td>1.932601</td>\n",
       "      <td>0 to -30m</td>\n",
       "      <td>958n</td>\n",
       "      <td>n</td>\n",
       "      <td>1985.0</td>\n",
       "      <td>0.071625</td>\n",
       "      <td>0.0</td>\n",
       "      <td>0.133333</td>\n",
       "      <td>0.0</td>\n",
       "      <td>0</td>\n",
       "      <td>0</td>\n",
       "      <td>0</td>\n",
       "    </tr>\n",
       "    <tr>\n",
       "      <th>2</th>\n",
       "      <td>2.835678</td>\n",
       "      <td>-30 to -60m</td>\n",
       "      <td>956o</td>\n",
       "      <td>o</td>\n",
       "      <td>1985.0</td>\n",
       "      <td>0.000000</td>\n",
       "      <td>0.0</td>\n",
       "      <td>0.133333</td>\n",
       "      <td>0.0</td>\n",
       "      <td>0</td>\n",
       "      <td>0</td>\n",
       "      <td>0</td>\n",
       "    </tr>\n",
       "    <tr>\n",
       "      <th>3</th>\n",
       "      <td>1.791305</td>\n",
       "      <td>0 to -30m</td>\n",
       "      <td>961n</td>\n",
       "      <td>n</td>\n",
       "      <td>1985.0</td>\n",
       "      <td>0.063913</td>\n",
       "      <td>0.0</td>\n",
       "      <td>0.117460</td>\n",
       "      <td>0.0</td>\n",
       "      <td>0</td>\n",
       "      <td>0</td>\n",
       "      <td>0</td>\n",
       "    </tr>\n",
       "    <tr>\n",
       "      <th>4</th>\n",
       "      <td>1.523677</td>\n",
       "      <td>0 to -30m</td>\n",
       "      <td>959n</td>\n",
       "      <td>n</td>\n",
       "      <td>1985.0</td>\n",
       "      <td>0.074456</td>\n",
       "      <td>0.0</td>\n",
       "      <td>0.133333</td>\n",
       "      <td>0.0</td>\n",
       "      <td>0</td>\n",
       "      <td>0</td>\n",
       "      <td>0</td>\n",
       "    </tr>\n",
       "  </tbody>\n",
       "</table>\n",
       "</div>"
      ],
      "text/plain": [
       "       AREA        DEPTH HAB_ID ZONE_CODE    Year   dens_sm  pupratio  \\\n",
       "0  1.502586    0 to -30m   960n         n  1985.0  0.074644       0.0   \n",
       "1  1.932601    0 to -30m   958n         n  1985.0  0.071625       0.0   \n",
       "2  2.835678  -30 to -60m   956o         o  1985.0  0.000000       0.0   \n",
       "3  1.791305    0 to -30m   961n         n  1985.0  0.063913       0.0   \n",
       "4  1.523677    0 to -30m   959n         n  1985.0  0.074456       0.0   \n",
       "\n",
       "   lin_dens  trend5yr  independent_otters  pup_otters  total_otters  \n",
       "0  0.133333       0.0                   0           0             0  \n",
       "1  0.133333       0.0                   0           0             0  \n",
       "2  0.133333       0.0                   0           0             0  \n",
       "3  0.117460       0.0                   0           0             0  \n",
       "4  0.133333       0.0                   0           0             0  "
      ]
     },
     "execution_count": 10,
     "metadata": {},
     "output_type": "execute_result"
    }
   ],
   "source": [
    "census['independent_otters'] = census.dens_sm * census.AREA\n",
    "census['independent_otters'] = census.independent_otters.apply(math.floor)\n",
    "\n",
    "census['pup_otters'] = census.independent_otters * census.pupratio\n",
    "census['pup_otters'] = census.pup_otters.apply(math.floor)\n",
    "\n",
    "census['total_otters'] = census.independent_otters + census.pup_otters\n",
    "\n",
    "census.head()"
   ]
  },
  {
   "cell_type": "markdown",
   "metadata": {
    "id": "YB4xx5pgY6iA"
   },
   "source": [
    "We start by looking into how the population trend of sea otters has been doing over time. We find otter count for each year and plot a simple line graph to visualize the trend."
   ]
  },
  {
   "cell_type": "code",
   "execution_count": 11,
   "metadata": {
    "id": "JNNE4BsMY6iB"
   },
   "outputs": [],
   "source": [
    "otter_count_group_year = pd.DataFrame(census.groupby('Year')['independent_otters','pup_otters','total_otters'].sum()).reset_index()\n",
    "melted_df = pd.melt(otter_count_group_year, \n",
    "                id_vars='Year', \n",
    "                value_vars=otter_count_group_year.columns[1:],\n",
    "                var_name='Otter_type',\n",
    "                value_name='Otter_count')"
   ]
  },
  {
   "cell_type": "code",
   "execution_count": 12,
   "metadata": {
    "executionInfo": {
     "elapsed": 1283,
     "status": "aborted",
     "timestamp": 1616726352418,
     "user": {
      "displayName": "Jui-Chia Chung",
      "photoUrl": "",
      "userId": "07884676406703548290"
     },
     "user_tz": -480
    },
    "id": "cQ-xJx3pY6iC",
    "outputId": "b702a38f-f8fd-43cb-bbe4-170eeb18a48d"
   },
   "outputs": [
    {
     "data": {
      "text/html": [
       "\n",
       "<div id=\"altair-viz-234264d4b4e2430fa9a91ad453d41d97\"></div>\n",
       "<script type=\"text/javascript\">\n",
       "  (function(spec, embedOpt){\n",
       "    let outputDiv = document.currentScript.previousElementSibling;\n",
       "    if (outputDiv.id !== \"altair-viz-234264d4b4e2430fa9a91ad453d41d97\") {\n",
       "      outputDiv = document.getElementById(\"altair-viz-234264d4b4e2430fa9a91ad453d41d97\");\n",
       "    }\n",
       "    const paths = {\n",
       "      \"vega\": \"https://cdn.jsdelivr.net/npm//vega@5?noext\",\n",
       "      \"vega-lib\": \"https://cdn.jsdelivr.net/npm//vega-lib?noext\",\n",
       "      \"vega-lite\": \"https://cdn.jsdelivr.net/npm//vega-lite@4.8.1?noext\",\n",
       "      \"vega-embed\": \"https://cdn.jsdelivr.net/npm//vega-embed@6?noext\",\n",
       "    };\n",
       "\n",
       "    function loadScript(lib) {\n",
       "      return new Promise(function(resolve, reject) {\n",
       "        var s = document.createElement('script');\n",
       "        s.src = paths[lib];\n",
       "        s.async = true;\n",
       "        s.onload = () => resolve(paths[lib]);\n",
       "        s.onerror = () => reject(`Error loading script: ${paths[lib]}`);\n",
       "        document.getElementsByTagName(\"head\")[0].appendChild(s);\n",
       "      });\n",
       "    }\n",
       "\n",
       "    function showError(err) {\n",
       "      outputDiv.innerHTML = `<div class=\"error\" style=\"color:red;\">${err}</div>`;\n",
       "      throw err;\n",
       "    }\n",
       "\n",
       "    function displayChart(vegaEmbed) {\n",
       "      vegaEmbed(outputDiv, spec, embedOpt)\n",
       "        .catch(err => showError(`Javascript Error: ${err.message}<br>This usually means there's a typo in your chart specification. See the javascript console for the full traceback.`));\n",
       "    }\n",
       "\n",
       "    if(typeof define === \"function\" && define.amd) {\n",
       "      requirejs.config({paths});\n",
       "      require([\"vega-embed\"], displayChart, err => showError(`Error loading script: ${err.message}`));\n",
       "    } else if (typeof vegaEmbed === \"function\") {\n",
       "      displayChart(vegaEmbed);\n",
       "    } else {\n",
       "      loadScript(\"vega\")\n",
       "        .then(() => loadScript(\"vega-lite\"))\n",
       "        .then(() => loadScript(\"vega-embed\"))\n",
       "        .catch(showError)\n",
       "        .then(() => displayChart(vegaEmbed));\n",
       "    }\n",
       "  })({\"config\": {\"view\": {\"continuousWidth\": 400, \"continuousHeight\": 300}, \"axis\": {\"grid\": false, \"labelFontSize\": 12, \"titleFontSize\": 12}, \"legend\": {\"labelFontSize\": 12, \"titleFontSize\": 12}, \"title\": {\"fontSize\": 13}}, \"data\": {\"name\": \"data-0effc3404190d4d7cecf95c73c4b8a82\"}, \"mark\": \"line\", \"encoding\": {\"color\": {\"type\": \"nominal\", \"field\": \"Otter_type\"}, \"x\": {\"type\": \"quantitative\", \"field\": \"Year\"}, \"y\": {\"type\": \"quantitative\", \"field\": \"Otter_count\"}}, \"height\": 400, \"title\": [\"Increasing population trend of sea otters from 1985-2014.\"], \"width\": 600, \"$schema\": \"https://vega.github.io/schema/vega-lite/v4.8.1.json\", \"datasets\": {\"data-0effc3404190d4d7cecf95c73c4b8a82\": [{\"Year\": 1985.0, \"Otter_type\": \"independent_otters\", \"Otter_count\": 942}, {\"Year\": 1986.0, \"Otter_type\": \"independent_otters\", \"Otter_count\": 1059}, {\"Year\": 1987.0, \"Otter_type\": \"independent_otters\", \"Otter_count\": 1175}, {\"Year\": 1988.0, \"Otter_type\": \"independent_otters\", \"Otter_count\": 1287}, {\"Year\": 1989.0, \"Otter_type\": \"independent_otters\", \"Otter_count\": 1384}, {\"Year\": 1990.0, \"Otter_type\": \"independent_otters\", \"Otter_count\": 1368}, {\"Year\": 1991.0, \"Otter_type\": \"independent_otters\", \"Otter_count\": 1399}, {\"Year\": 1992.0, \"Otter_type\": \"independent_otters\", \"Otter_count\": 1459}, {\"Year\": 1993.0, \"Otter_type\": \"independent_otters\", \"Otter_count\": 1626}, {\"Year\": 1994.0, \"Otter_type\": \"independent_otters\", \"Otter_count\": 1770}, {\"Year\": 1995.0, \"Otter_type\": \"independent_otters\", \"Otter_count\": 1856}, {\"Year\": 1996.0, \"Otter_type\": \"independent_otters\", \"Otter_count\": 1872}, {\"Year\": 1997.0, \"Otter_type\": \"independent_otters\", \"Otter_count\": 1828}, {\"Year\": 1998.0, \"Otter_type\": \"independent_otters\", \"Otter_count\": 1718}, {\"Year\": 1999.0, \"Otter_type\": \"independent_otters\", \"Otter_count\": 1580}, {\"Year\": 2000.0, \"Otter_type\": \"independent_otters\", \"Otter_count\": 1573}, {\"Year\": 2001.0, \"Otter_type\": \"independent_otters\", \"Otter_count\": 1589}, {\"Year\": 2002.0, \"Otter_type\": \"independent_otters\", \"Otter_count\": 1681}, {\"Year\": 2003.0, \"Otter_type\": \"independent_otters\", \"Otter_count\": 1724}, {\"Year\": 2004.0, \"Otter_type\": \"independent_otters\", \"Otter_count\": 1950}, {\"Year\": 2005.0, \"Otter_type\": \"independent_otters\", \"Otter_count\": 2112}, {\"Year\": 2006.0, \"Otter_type\": \"independent_otters\", \"Otter_count\": 2180}, {\"Year\": 2007.0, \"Otter_type\": \"independent_otters\", \"Otter_count\": 2202}, {\"Year\": 2008.0, \"Otter_type\": \"independent_otters\", \"Otter_count\": 2171}, {\"Year\": 2009.0, \"Otter_type\": \"independent_otters\", \"Otter_count\": 2161}, {\"Year\": 2010.0, \"Otter_type\": \"independent_otters\", \"Otter_count\": 2109}, {\"Year\": 2012.0, \"Otter_type\": \"independent_otters\", \"Otter_count\": 2172}, {\"Year\": 2013.0, \"Otter_type\": \"independent_otters\", \"Otter_count\": 2263}, {\"Year\": 2014.0, \"Otter_type\": \"independent_otters\", \"Otter_count\": 2355}, {\"Year\": 1985.0, \"Otter_type\": \"pup_otters\", \"Otter_count\": 8}, {\"Year\": 1986.0, \"Otter_type\": \"pup_otters\", \"Otter_count\": 22}, {\"Year\": 1987.0, \"Otter_type\": \"pup_otters\", \"Otter_count\": 50}, {\"Year\": 1988.0, \"Otter_type\": \"pup_otters\", \"Otter_count\": 40}, {\"Year\": 1989.0, \"Otter_type\": \"pup_otters\", \"Otter_count\": 54}, {\"Year\": 1990.0, \"Otter_type\": \"pup_otters\", \"Otter_count\": 53}, {\"Year\": 1991.0, \"Otter_type\": \"pup_otters\", \"Otter_count\": 55}, {\"Year\": 1992.0, \"Otter_type\": \"pup_otters\", \"Otter_count\": 41}, {\"Year\": 1993.0, \"Otter_type\": \"pup_otters\", \"Otter_count\": 43}, {\"Year\": 1994.0, \"Otter_type\": \"pup_otters\", \"Otter_count\": 57}, {\"Year\": 1995.0, \"Otter_type\": \"pup_otters\", \"Otter_count\": 44}, {\"Year\": 1996.0, \"Otter_type\": \"pup_otters\", \"Otter_count\": 61}, {\"Year\": 1997.0, \"Otter_type\": \"pup_otters\", \"Otter_count\": 78}, {\"Year\": 1998.0, \"Otter_type\": \"pup_otters\", \"Otter_count\": 44}, {\"Year\": 1999.0, \"Otter_type\": \"pup_otters\", \"Otter_count\": 25}, {\"Year\": 2000.0, \"Otter_type\": \"pup_otters\", \"Otter_count\": 11}, {\"Year\": 2001.0, \"Otter_type\": \"pup_otters\", \"Otter_count\": 25}, {\"Year\": 2002.0, \"Otter_type\": \"pup_otters\", \"Otter_count\": 38}, {\"Year\": 2003.0, \"Otter_type\": \"pup_otters\", \"Otter_count\": 34}, {\"Year\": 2004.0, \"Otter_type\": \"pup_otters\", \"Otter_count\": 34}, {\"Year\": 2005.0, \"Otter_type\": \"pup_otters\", \"Otter_count\": 38}, {\"Year\": 2006.0, \"Otter_type\": \"pup_otters\", \"Otter_count\": 51}, {\"Year\": 2007.0, \"Otter_type\": \"pup_otters\", \"Otter_count\": 59}, {\"Year\": 2008.0, \"Otter_type\": \"pup_otters\", \"Otter_count\": 52}, {\"Year\": 2009.0, \"Otter_type\": \"pup_otters\", \"Otter_count\": 67}, {\"Year\": 2010.0, \"Otter_type\": \"pup_otters\", \"Otter_count\": 32}, {\"Year\": 2012.0, \"Otter_type\": \"pup_otters\", \"Otter_count\": 54}, {\"Year\": 2013.0, \"Otter_type\": \"pup_otters\", \"Otter_count\": 96}, {\"Year\": 2014.0, \"Otter_type\": \"pup_otters\", \"Otter_count\": 147}, {\"Year\": 1985.0, \"Otter_type\": \"total_otters\", \"Otter_count\": 950}, {\"Year\": 1986.0, \"Otter_type\": \"total_otters\", \"Otter_count\": 1081}, {\"Year\": 1987.0, \"Otter_type\": \"total_otters\", \"Otter_count\": 1225}, {\"Year\": 1988.0, \"Otter_type\": \"total_otters\", \"Otter_count\": 1327}, {\"Year\": 1989.0, \"Otter_type\": \"total_otters\", \"Otter_count\": 1438}, {\"Year\": 1990.0, \"Otter_type\": \"total_otters\", \"Otter_count\": 1421}, {\"Year\": 1991.0, \"Otter_type\": \"total_otters\", \"Otter_count\": 1454}, {\"Year\": 1992.0, \"Otter_type\": \"total_otters\", \"Otter_count\": 1500}, {\"Year\": 1993.0, \"Otter_type\": \"total_otters\", \"Otter_count\": 1669}, {\"Year\": 1994.0, \"Otter_type\": \"total_otters\", \"Otter_count\": 1827}, {\"Year\": 1995.0, \"Otter_type\": \"total_otters\", \"Otter_count\": 1900}, {\"Year\": 1996.0, \"Otter_type\": \"total_otters\", \"Otter_count\": 1933}, {\"Year\": 1997.0, \"Otter_type\": \"total_otters\", \"Otter_count\": 1906}, {\"Year\": 1998.0, \"Otter_type\": \"total_otters\", \"Otter_count\": 1762}, {\"Year\": 1999.0, \"Otter_type\": \"total_otters\", \"Otter_count\": 1605}, {\"Year\": 2000.0, \"Otter_type\": \"total_otters\", \"Otter_count\": 1584}, {\"Year\": 2001.0, \"Otter_type\": \"total_otters\", \"Otter_count\": 1614}, {\"Year\": 2002.0, \"Otter_type\": \"total_otters\", \"Otter_count\": 1719}, {\"Year\": 2003.0, \"Otter_type\": \"total_otters\", \"Otter_count\": 1758}, {\"Year\": 2004.0, \"Otter_type\": \"total_otters\", \"Otter_count\": 1984}, {\"Year\": 2005.0, \"Otter_type\": \"total_otters\", \"Otter_count\": 2150}, {\"Year\": 2006.0, \"Otter_type\": \"total_otters\", \"Otter_count\": 2231}, {\"Year\": 2007.0, \"Otter_type\": \"total_otters\", \"Otter_count\": 2261}, {\"Year\": 2008.0, \"Otter_type\": \"total_otters\", \"Otter_count\": 2223}, {\"Year\": 2009.0, \"Otter_type\": \"total_otters\", \"Otter_count\": 2228}, {\"Year\": 2010.0, \"Otter_type\": \"total_otters\", \"Otter_count\": 2141}, {\"Year\": 2012.0, \"Otter_type\": \"total_otters\", \"Otter_count\": 2226}, {\"Year\": 2013.0, \"Otter_type\": \"total_otters\", \"Otter_count\": 2359}, {\"Year\": 2014.0, \"Otter_type\": \"total_otters\", \"Otter_count\": 2502}]}}, {\"mode\": \"vega-lite\"});\n",
       "</script>"
      ],
      "text/plain": [
       "alt.Chart(...)"
      ]
     },
     "execution_count": 12,
     "metadata": {},
     "output_type": "execute_result"
    }
   ],
   "source": [
    "chart_title = 'Increasing population trend of sea otters from 1985-2014.'\n",
    "alt.Chart(melted_df).mark_line().encode(\n",
    "    x='Year',\n",
    "    y='Otter_count',\n",
    "    color='Otter_type'\n",
    ").properties(\n",
    "    width=600,\n",
    "    height=400,\n",
    "    title=chart_title.split(':')\n",
    ").configure_axis(\n",
    "    grid=False,\n",
    "    labelFontSize=12,\n",
    "    titleFontSize=12\n",
    ").configure_legend(\n",
    "    labelFontSize=12,\n",
    "    titleFontSize=12\n",
    ").configure_title(\n",
    "    #fontWeight='normal',\n",
    "    fontSize=13\n",
    ")"
   ]
  },
  {
   "cell_type": "markdown",
   "metadata": {
    "id": "d3aGA2qsY6iC"
   },
   "source": [
    "We can clearly observe an increasing trend in sea otter population. That's good news. We see that pup otter population had not increased till 2011, while the independent otter population was steadily increasing. Apart from that, we see two bumps in the trend, one from around 1992-1998 and the next one from 2004-2010.\n",
    "\n",
    "While we see an increasing growth over time, the sea otters are currently on the IUCN Red List of Endangered Species based on past large-scale population declines and the total population number is still small."
   ]
  },
  {
   "cell_type": "markdown",
   "metadata": {
    "id": "TJwmJi-LY6iD"
   },
   "source": [
    "#### Otter count verification\n",
    "\n",
    "We calculated independent and pup otter count using a simple (but hopefully effective) formula. Using another dataset, we verify our calculation. \n",
    "\n",
    "We scraped otter population data from 1990-2015 from a report. The dataset contains raw counts and average counts. We only make use of the raw counts. Data is avaliable for both independent and pup otters."
   ]
  },
  {
   "cell_type": "code",
   "execution_count": 13,
   "metadata": {
    "id": "-v9dix8lY6iD"
   },
   "outputs": [],
   "source": [
    "otter_raw = pd.read_excel(DATAPATH+'population/otter_raw_mainland.xlsx')\n",
    "cols = ['Year','Independent_raw','Pup_raw','Total_raw','Pup_per_100_ind','Independent_avg','Pup_avg','Total_avg']\n",
    "otter_raw.columns = cols"
   ]
  },
  {
   "cell_type": "code",
   "execution_count": 14,
   "metadata": {
    "id": "YJ6qm9sMY6iD",
    "outputId": "1490351a-f63c-4a29-fa40-5fda84d38894"
   },
   "outputs": [
    {
     "name": "stdout",
     "output_type": "stream",
     "text": [
      "<class 'pandas.core.frame.DataFrame'>\n",
      "RangeIndex: 26 entries, 0 to 25\n",
      "Data columns (total 8 columns):\n",
      " #   Column           Non-Null Count  Dtype  \n",
      "---  ------           --------------  -----  \n",
      " 0   Year             26 non-null     int64  \n",
      " 1   Independent_raw  25 non-null     float64\n",
      " 2   Pup_raw          25 non-null     float64\n",
      " 3   Total_raw        25 non-null     float64\n",
      " 4   Pup_per_100_ind  25 non-null     float64\n",
      " 5   Independent_avg  26 non-null     int64  \n",
      " 6   Pup_avg          26 non-null     int64  \n",
      " 7   Total_avg        26 non-null     int64  \n",
      "dtypes: float64(4), int64(4)\n",
      "memory usage: 1.8 KB\n"
     ]
    }
   ],
   "source": [
    "otter_raw.info()"
   ]
  },
  {
   "cell_type": "markdown",
   "metadata": {
    "id": "gD_xYy9wY6iE"
   },
   "source": [
    "We impute the NaN value with mean of the corresponding attribute. Also, we drop the *average count* attributes for simplicity."
   ]
  },
  {
   "cell_type": "code",
   "execution_count": 15,
   "metadata": {
    "id": "m749VqtxY6iE"
   },
   "outputs": [],
   "source": [
    "na_values = {'Independent_raw':otter_raw.Independent_raw.mean(),\n",
    "            'Pup_raw':otter_raw.Pup_raw.mean(),\n",
    "            'Total_raw':otter_raw.Total_raw.mean(),\n",
    "            'Pup_per_100_ind':(otter_raw.Pup_raw.mean()/otter_raw.Independent_raw.mean())*100}\n",
    "otter_raw.fillna(value=na_values,inplace=True)\n",
    "otter_raw.drop('Pup_per_100_ind Independent_avg Pup_avg Total_avg'.split(),axis=1,inplace=True)"
   ]
  },
  {
   "cell_type": "code",
   "execution_count": 16,
   "metadata": {
    "id": "Iq2YQDWEY6iE"
   },
   "outputs": [],
   "source": [
    "melted_df = pd.melt(otter_raw,\n",
    "                    id_vars='Year',\n",
    "                    value_vars=otter_raw.columns[1:],\n",
    "                    var_name='Otter_type',\n",
    "                    value_name='Otter_count')"
   ]
  },
  {
   "cell_type": "code",
   "execution_count": 17,
   "metadata": {
    "id": "cKIVBnoUY6iE",
    "outputId": "c907f00d-34c5-4b77-cd3d-704561b75c67"
   },
   "outputs": [
    {
     "data": {
      "text/html": [
       "\n",
       "<div id=\"altair-viz-ed736952d12b4d56b57ea1f1c4d6e1c5\"></div>\n",
       "<script type=\"text/javascript\">\n",
       "  (function(spec, embedOpt){\n",
       "    let outputDiv = document.currentScript.previousElementSibling;\n",
       "    if (outputDiv.id !== \"altair-viz-ed736952d12b4d56b57ea1f1c4d6e1c5\") {\n",
       "      outputDiv = document.getElementById(\"altair-viz-ed736952d12b4d56b57ea1f1c4d6e1c5\");\n",
       "    }\n",
       "    const paths = {\n",
       "      \"vega\": \"https://cdn.jsdelivr.net/npm//vega@5?noext\",\n",
       "      \"vega-lib\": \"https://cdn.jsdelivr.net/npm//vega-lib?noext\",\n",
       "      \"vega-lite\": \"https://cdn.jsdelivr.net/npm//vega-lite@4.8.1?noext\",\n",
       "      \"vega-embed\": \"https://cdn.jsdelivr.net/npm//vega-embed@6?noext\",\n",
       "    };\n",
       "\n",
       "    function loadScript(lib) {\n",
       "      return new Promise(function(resolve, reject) {\n",
       "        var s = document.createElement('script');\n",
       "        s.src = paths[lib];\n",
       "        s.async = true;\n",
       "        s.onload = () => resolve(paths[lib]);\n",
       "        s.onerror = () => reject(`Error loading script: ${paths[lib]}`);\n",
       "        document.getElementsByTagName(\"head\")[0].appendChild(s);\n",
       "      });\n",
       "    }\n",
       "\n",
       "    function showError(err) {\n",
       "      outputDiv.innerHTML = `<div class=\"error\" style=\"color:red;\">${err}</div>`;\n",
       "      throw err;\n",
       "    }\n",
       "\n",
       "    function displayChart(vegaEmbed) {\n",
       "      vegaEmbed(outputDiv, spec, embedOpt)\n",
       "        .catch(err => showError(`Javascript Error: ${err.message}<br>This usually means there's a typo in your chart specification. See the javascript console for the full traceback.`));\n",
       "    }\n",
       "\n",
       "    if(typeof define === \"function\" && define.amd) {\n",
       "      requirejs.config({paths});\n",
       "      require([\"vega-embed\"], displayChart, err => showError(`Error loading script: ${err.message}`));\n",
       "    } else if (typeof vegaEmbed === \"function\") {\n",
       "      displayChart(vegaEmbed);\n",
       "    } else {\n",
       "      loadScript(\"vega\")\n",
       "        .then(() => loadScript(\"vega-lite\"))\n",
       "        .then(() => loadScript(\"vega-embed\"))\n",
       "        .catch(showError)\n",
       "        .then(() => displayChart(vegaEmbed));\n",
       "    }\n",
       "  })({\"config\": {\"view\": {\"continuousWidth\": 400, \"continuousHeight\": 300}, \"axis\": {\"grid\": false, \"labelFontSize\": 12, \"titleFontSize\": 12}, \"legend\": {\"labelFontSize\": 12, \"titleFontSize\": 12}, \"title\": {\"fontSize\": 13}}, \"data\": {\"name\": \"data-5ac09c35b06bbf698125b7f8fa1ce1ca\"}, \"mark\": \"line\", \"encoding\": {\"color\": {\"type\": \"nominal\", \"field\": \"Otter_type\"}, \"x\": {\"type\": \"quantitative\", \"field\": \"Year\"}, \"y\": {\"type\": \"quantitative\", \"field\": \"Otter_count\"}}, \"height\": 400, \"title\": [\"Otter count trend verification. On comparing the two charts, similarity can be observed.\"], \"width\": 600, \"$schema\": \"https://vega.github.io/schema/vega-lite/v4.8.1.json\", \"datasets\": {\"data-5ac09c35b06bbf698125b7f8fa1ce1ca\": [{\"Year\": 1990, \"Otter_type\": \"Independent_raw\", \"Otter_count\": 1466.0}, {\"Year\": 1991, \"Otter_type\": \"Independent_raw\", \"Otter_count\": 1700.0}, {\"Year\": 1992, \"Otter_type\": \"Independent_raw\", \"Otter_count\": 1810.0}, {\"Year\": 1993, \"Otter_type\": \"Independent_raw\", \"Otter_count\": 2022.0}, {\"Year\": 1994, \"Otter_type\": \"Independent_raw\", \"Otter_count\": 2076.0}, {\"Year\": 1995, \"Otter_type\": \"Independent_raw\", \"Otter_count\": 2095.0}, {\"Year\": 1996, \"Otter_type\": \"Independent_raw\", \"Otter_count\": 1963.0}, {\"Year\": 1997, \"Otter_type\": \"Independent_raw\", \"Otter_count\": 1919.0}, {\"Year\": 1998, \"Otter_type\": \"Independent_raw\", \"Otter_count\": 1955.0}, {\"Year\": 1999, \"Otter_type\": \"Independent_raw\", \"Otter_count\": 1858.0}, {\"Year\": 2000, \"Otter_type\": \"Independent_raw\", \"Otter_count\": 2053.0}, {\"Year\": 2001, \"Otter_type\": \"Independent_raw\", \"Otter_count\": 1863.0}, {\"Year\": 2002, \"Otter_type\": \"Independent_raw\", \"Otter_count\": 1846.0}, {\"Year\": 2003, \"Otter_type\": \"Independent_raw\", \"Otter_count\": 2270.0}, {\"Year\": 2004, \"Otter_type\": \"Independent_raw\", \"Otter_count\": 2495.0}, {\"Year\": 2005, \"Otter_type\": \"Independent_raw\", \"Otter_count\": 2417.0}, {\"Year\": 2006, \"Otter_type\": \"Independent_raw\", \"Otter_count\": 2369.0}, {\"Year\": 2007, \"Otter_type\": \"Independent_raw\", \"Otter_count\": 2637.0}, {\"Year\": 2008, \"Otter_type\": \"Independent_raw\", \"Otter_count\": 2434.0}, {\"Year\": 2009, \"Otter_type\": \"Independent_raw\", \"Otter_count\": 2263.0}, {\"Year\": 2010, \"Otter_type\": \"Independent_raw\", \"Otter_count\": 2452.0}, {\"Year\": 2011, \"Otter_type\": \"Independent_raw\", \"Otter_count\": 2159.64}, {\"Year\": 2012, \"Otter_type\": \"Independent_raw\", \"Otter_count\": 2486.0}, {\"Year\": 2013, \"Otter_type\": \"Independent_raw\", \"Otter_count\": 2444.0}, {\"Year\": 2014, \"Otter_type\": \"Independent_raw\", \"Otter_count\": 2410.0}, {\"Year\": 2015, \"Otter_type\": \"Independent_raw\", \"Otter_count\": 2688.0}, {\"Year\": 1990, \"Otter_type\": \"Pup_raw\", \"Otter_count\": 214.0}, {\"Year\": 1991, \"Otter_type\": \"Pup_raw\", \"Otter_count\": 241.0}, {\"Year\": 1992, \"Otter_type\": \"Pup_raw\", \"Otter_count\": 291.0}, {\"Year\": 1993, \"Otter_type\": \"Pup_raw\", \"Otter_count\": 217.0}, {\"Year\": 1994, \"Otter_type\": \"Pup_raw\", \"Otter_count\": 283.0}, {\"Year\": 1995, \"Otter_type\": \"Pup_raw\", \"Otter_count\": 282.0}, {\"Year\": 1996, \"Otter_type\": \"Pup_raw\", \"Otter_count\": 315.0}, {\"Year\": 1997, \"Otter_type\": \"Pup_raw\", \"Otter_count\": 310.0}, {\"Year\": 1998, \"Otter_type\": \"Pup_raw\", \"Otter_count\": 159.0}, {\"Year\": 1999, \"Otter_type\": \"Pup_raw\", \"Otter_count\": 232.0}, {\"Year\": 2000, \"Otter_type\": \"Pup_raw\", \"Otter_count\": 264.0}, {\"Year\": 2001, \"Otter_type\": \"Pup_raw\", \"Otter_count\": 298.0}, {\"Year\": 2002, \"Otter_type\": \"Pup_raw\", \"Otter_count\": 293.0}, {\"Year\": 2003, \"Otter_type\": \"Pup_raw\", \"Otter_count\": 235.0}, {\"Year\": 2004, \"Otter_type\": \"Pup_raw\", \"Otter_count\": 330.0}, {\"Year\": 2005, \"Otter_type\": \"Pup_raw\", \"Otter_count\": 318.0}, {\"Year\": 2006, \"Otter_type\": \"Pup_raw\", \"Otter_count\": 323.0}, {\"Year\": 2007, \"Otter_type\": \"Pup_raw\", \"Otter_count\": 389.0}, {\"Year\": 2008, \"Otter_type\": \"Pup_raw\", \"Otter_count\": 326.0}, {\"Year\": 2009, \"Otter_type\": \"Pup_raw\", \"Otter_count\": 391.0}, {\"Year\": 2010, \"Otter_type\": \"Pup_raw\", \"Otter_count\": 267.0}, {\"Year\": 2011, \"Otter_type\": \"Pup_raw\", \"Otter_count\": 311.44}, {\"Year\": 2012, \"Otter_type\": \"Pup_raw\", \"Otter_count\": 379.0}, {\"Year\": 2013, \"Otter_type\": \"Pup_raw\", \"Otter_count\": 455.0}, {\"Year\": 2014, \"Otter_type\": \"Pup_raw\", \"Otter_count\": 469.0}, {\"Year\": 2015, \"Otter_type\": \"Pup_raw\", \"Otter_count\": 505.0}, {\"Year\": 1990, \"Otter_type\": \"Total_raw\", \"Otter_count\": 1680.0}, {\"Year\": 1991, \"Otter_type\": \"Total_raw\", \"Otter_count\": 1941.0}, {\"Year\": 1992, \"Otter_type\": \"Total_raw\", \"Otter_count\": 2101.0}, {\"Year\": 1993, \"Otter_type\": \"Total_raw\", \"Otter_count\": 2239.0}, {\"Year\": 1994, \"Otter_type\": \"Total_raw\", \"Otter_count\": 2359.0}, {\"Year\": 1995, \"Otter_type\": \"Total_raw\", \"Otter_count\": 2377.0}, {\"Year\": 1996, \"Otter_type\": \"Total_raw\", \"Otter_count\": 2278.0}, {\"Year\": 1997, \"Otter_type\": \"Total_raw\", \"Otter_count\": 2229.0}, {\"Year\": 1998, \"Otter_type\": \"Total_raw\", \"Otter_count\": 2114.0}, {\"Year\": 1999, \"Otter_type\": \"Total_raw\", \"Otter_count\": 2090.0}, {\"Year\": 2000, \"Otter_type\": \"Total_raw\", \"Otter_count\": 2317.0}, {\"Year\": 2001, \"Otter_type\": \"Total_raw\", \"Otter_count\": 2161.0}, {\"Year\": 2002, \"Otter_type\": \"Total_raw\", \"Otter_count\": 2139.0}, {\"Year\": 2003, \"Otter_type\": \"Total_raw\", \"Otter_count\": 2505.0}, {\"Year\": 2004, \"Otter_type\": \"Total_raw\", \"Otter_count\": 2825.0}, {\"Year\": 2005, \"Otter_type\": \"Total_raw\", \"Otter_count\": 2735.0}, {\"Year\": 2006, \"Otter_type\": \"Total_raw\", \"Otter_count\": 2692.0}, {\"Year\": 2007, \"Otter_type\": \"Total_raw\", \"Otter_count\": 3026.0}, {\"Year\": 2008, \"Otter_type\": \"Total_raw\", \"Otter_count\": 2760.0}, {\"Year\": 2009, \"Otter_type\": \"Total_raw\", \"Otter_count\": 2654.0}, {\"Year\": 2010, \"Otter_type\": \"Total_raw\", \"Otter_count\": 2719.0}, {\"Year\": 2011, \"Otter_type\": \"Total_raw\", \"Otter_count\": 2471.08}, {\"Year\": 2012, \"Otter_type\": \"Total_raw\", \"Otter_count\": 2865.0}, {\"Year\": 2013, \"Otter_type\": \"Total_raw\", \"Otter_count\": 2899.0}, {\"Year\": 2014, \"Otter_type\": \"Total_raw\", \"Otter_count\": 2879.0}, {\"Year\": 2015, \"Otter_type\": \"Total_raw\", \"Otter_count\": 3193.0}]}}, {\"mode\": \"vega-lite\"});\n",
       "</script>"
      ],
      "text/plain": [
       "alt.Chart(...)"
      ]
     },
     "execution_count": 17,
     "metadata": {},
     "output_type": "execute_result"
    }
   ],
   "source": [
    "chart_title = 'Otter count trend verification. On comparing the two charts, similarity can be observed.'\n",
    "alt.Chart(melted_df).mark_line().encode(\n",
    "    x='Year',\n",
    "    y='Otter_count',\n",
    "    color='Otter_type'\n",
    ").properties(\n",
    "    width=600,\n",
    "    height=400,\n",
    "    title=chart_title.split(':')\n",
    ").configure_axis(\n",
    "    grid=False,\n",
    "    labelFontSize=12,\n",
    "    titleFontSize=12\n",
    ").configure_legend(\n",
    "    labelFontSize=12,\n",
    "    titleFontSize=12\n",
    ").configure_title(\n",
    "    #fontWeight='normal',\n",
    "    fontSize=13\n",
    ")"
   ]
  },
  {
   "cell_type": "markdown",
   "metadata": {
    "id": "k4LcCdacY6iF"
   },
   "source": [
    "From this chart, it can be seen that the trend is similar to the one that we found using the formula. If we look at the previous chart, after 1990, we can see a similar increase. There seems to be a bit of noise in the data. But the trend seems to similar along with the two bumps. Hence, our calculations are validated."
   ]
  },
  {
   "cell_type": "markdown",
   "metadata": {
    "id": "_iDFKesqY6iF"
   },
   "source": [
    "### Are some habitats more suitable for sea otters?\n",
    "Now that we have seen how the general population of sea otters has been doing over time, we analyse habitat properties and look for regions which might be habitable for sea otters. As stated before, there are 2285 habitats along the coastline of South-Western California. We group the census dataset by habitats and perform our analysis.\n",
    "\n",
    "We hypothesized that habitats closer to human population may not be habitable for sea otters due to human intervention. While data on human effects on sea otter population was not available, we made use of the habitat properties to look into what kind of habitats support sea otter eco-system."
   ]
  },
  {
   "cell_type": "code",
   "execution_count": 18,
   "metadata": {
    "id": "D_JBWQa7Y6iG"
   },
   "outputs": [],
   "source": [
    "hab_groups = census.groupby('HAB_ID')"
   ]
  },
  {
   "cell_type": "code",
   "execution_count": 19,
   "metadata": {
    "id": "HAqhYdAUY6iG"
   },
   "outputs": [],
   "source": [
    "otter_groups_habitat = pd.DataFrame(hab_groups.total_otters.sum())\n",
    "otter_groups_habitat = otter_groups_habitat.reset_index()"
   ]
  },
  {
   "cell_type": "code",
   "execution_count": 20,
   "metadata": {
    "id": "ySyp9qsqY6iG",
    "outputId": "a62e69a2-2e14-49be-a5b4-55184e55cd75"
   },
   "outputs": [
    {
     "data": {
      "text/html": [
       "\n",
       "<div id=\"altair-viz-65d71223fed24316bf8bf100159fc1c3\"></div>\n",
       "<script type=\"text/javascript\">\n",
       "  (function(spec, embedOpt){\n",
       "    let outputDiv = document.currentScript.previousElementSibling;\n",
       "    if (outputDiv.id !== \"altair-viz-65d71223fed24316bf8bf100159fc1c3\") {\n",
       "      outputDiv = document.getElementById(\"altair-viz-65d71223fed24316bf8bf100159fc1c3\");\n",
       "    }\n",
       "    const paths = {\n",
       "      \"vega\": \"https://cdn.jsdelivr.net/npm//vega@5?noext\",\n",
       "      \"vega-lib\": \"https://cdn.jsdelivr.net/npm//vega-lib?noext\",\n",
       "      \"vega-lite\": \"https://cdn.jsdelivr.net/npm//vega-lite@4.8.1?noext\",\n",
       "      \"vega-embed\": \"https://cdn.jsdelivr.net/npm//vega-embed@6?noext\",\n",
       "    };\n",
       "\n",
       "    function loadScript(lib) {\n",
       "      return new Promise(function(resolve, reject) {\n",
       "        var s = document.createElement('script');\n",
       "        s.src = paths[lib];\n",
       "        s.async = true;\n",
       "        s.onload = () => resolve(paths[lib]);\n",
       "        s.onerror = () => reject(`Error loading script: ${paths[lib]}`);\n",
       "        document.getElementsByTagName(\"head\")[0].appendChild(s);\n",
       "      });\n",
       "    }\n",
       "\n",
       "    function showError(err) {\n",
       "      outputDiv.innerHTML = `<div class=\"error\" style=\"color:red;\">${err}</div>`;\n",
       "      throw err;\n",
       "    }\n",
       "\n",
       "    function displayChart(vegaEmbed) {\n",
       "      vegaEmbed(outputDiv, spec, embedOpt)\n",
       "        .catch(err => showError(`Javascript Error: ${err.message}<br>This usually means there's a typo in your chart specification. See the javascript console for the full traceback.`));\n",
       "    }\n",
       "\n",
       "    if(typeof define === \"function\" && define.amd) {\n",
       "      requirejs.config({paths});\n",
       "      require([\"vega-embed\"], displayChart, err => showError(`Error loading script: ${err.message}`));\n",
       "    } else if (typeof vegaEmbed === \"function\") {\n",
       "      displayChart(vegaEmbed);\n",
       "    } else {\n",
       "      loadScript(\"vega\")\n",
       "        .then(() => loadScript(\"vega-lite\"))\n",
       "        .then(() => loadScript(\"vega-embed\"))\n",
       "        .catch(showError)\n",
       "        .then(() => displayChart(vegaEmbed));\n",
       "    }\n",
       "  })({\"config\": {\"view\": {\"continuousWidth\": 400, \"continuousHeight\": 300}, \"axis\": {\"grid\": false, \"labelFontSize\": 12, \"titleFontSize\": 12}, \"title\": {\"fontSize\": 13}}, \"layer\": [{\"data\": {\"name\": \"data-b2103f3240f3959497ee3d6fd06d7dc2\"}, \"mark\": \"bar\", \"encoding\": {\"x\": {\"type\": \"nominal\", \"axis\": {\"labels\": false}, \"field\": \"HAB_ID\"}, \"y\": {\"type\": \"quantitative\", \"field\": \"total_otters\"}}}, {\"data\": {\"name\": \"data-66aa2ae3a4da3dc1e23a1818198a99c7\"}, \"mark\": {\"type\": \"rule\", \"color\": \"red\"}, \"encoding\": {\"y\": {\"type\": \"quantitative\", \"field\": \"y\"}}}], \"height\": 400, \"title\": [\"Distribution of sea otter count across different habitats.\"], \"width\": 750, \"$schema\": \"https://vega.github.io/schema/vega-lite/v4.8.1.json\", \"datasets\": {\"data-b2103f3240f3959497ee3d6fd06d7dc2\": [{\"HAB_ID\": \"1000n\", \"total_otters\": 0}, {\"HAB_ID\": \"1000o\", \"total_otters\": 0}, {\"HAB_ID\": \"1001n\", \"total_otters\": 0}, {\"HAB_ID\": \"1001o\", \"total_otters\": 0}, {\"HAB_ID\": \"1002n\", \"total_otters\": 0}, {\"HAB_ID\": \"1002o\", \"total_otters\": 0}, {\"HAB_ID\": \"1003n\", \"total_otters\": 0}, {\"HAB_ID\": \"1003o\", \"total_otters\": 0}, {\"HAB_ID\": \"1004n\", \"total_otters\": 0}, {\"HAB_ID\": \"1004o\", \"total_otters\": 0}, {\"HAB_ID\": \"1005n\", \"total_otters\": 0}, {\"HAB_ID\": \"1005o\", \"total_otters\": 0}, {\"HAB_ID\": \"1006n\", \"total_otters\": 0}, {\"HAB_ID\": \"1006o\", \"total_otters\": 0}, {\"HAB_ID\": \"1007n\", \"total_otters\": 0}, {\"HAB_ID\": \"1007o\", \"total_otters\": 0}, {\"HAB_ID\": \"1008n\", \"total_otters\": 0}, {\"HAB_ID\": \"1008o\", \"total_otters\": 0}, {\"HAB_ID\": \"1009n\", \"total_otters\": 0}, {\"HAB_ID\": \"1009o\", \"total_otters\": 0}, {\"HAB_ID\": \"100n\", \"total_otters\": 0}, {\"HAB_ID\": \"100o\", \"total_otters\": 0}, {\"HAB_ID\": \"1010n\", \"total_otters\": 5}, {\"HAB_ID\": \"1010o\", \"total_otters\": 0}, {\"HAB_ID\": \"1011n\", \"total_otters\": 0}, {\"HAB_ID\": \"1011o\", \"total_otters\": 0}, {\"HAB_ID\": \"1012n\", \"total_otters\": 0}, {\"HAB_ID\": \"1012o\", \"total_otters\": 0}, {\"HAB_ID\": \"1013n\", \"total_otters\": 0}, {\"HAB_ID\": \"1013o\", \"total_otters\": 0}, {\"HAB_ID\": \"1014n\", \"total_otters\": 0}, {\"HAB_ID\": \"1014o\", \"total_otters\": 0}, {\"HAB_ID\": \"1015n\", \"total_otters\": 0}, {\"HAB_ID\": \"1015o\", \"total_otters\": 0}, {\"HAB_ID\": \"1016n\", \"total_otters\": 0}, {\"HAB_ID\": \"1016o\", \"total_otters\": 0}, {\"HAB_ID\": \"1017n\", \"total_otters\": 2}, {\"HAB_ID\": \"1017o\", \"total_otters\": 0}, {\"HAB_ID\": \"1018n\", \"total_otters\": 2}, {\"HAB_ID\": \"1018o\", \"total_otters\": 0}, {\"HAB_ID\": \"1019n\", \"total_otters\": 2}, {\"HAB_ID\": \"1019o\", \"total_otters\": 0}, {\"HAB_ID\": \"101n\", \"total_otters\": 0}, {\"HAB_ID\": \"101o\", \"total_otters\": 0}, {\"HAB_ID\": \"1020n\", \"total_otters\": 2}, {\"HAB_ID\": \"1020o\", \"total_otters\": 0}, {\"HAB_ID\": \"1021n\", \"total_otters\": 2}, {\"HAB_ID\": \"1021o\", \"total_otters\": 0}, {\"HAB_ID\": \"1022n\", \"total_otters\": 7}, {\"HAB_ID\": \"1022o\", \"total_otters\": 0}, {\"HAB_ID\": \"1023n\", \"total_otters\": 10}, {\"HAB_ID\": \"1023o\", \"total_otters\": 0}, {\"HAB_ID\": \"1024n\", \"total_otters\": 12}, {\"HAB_ID\": \"1024o\", \"total_otters\": 0}, {\"HAB_ID\": \"1025n\", \"total_otters\": 4}, {\"HAB_ID\": \"1025o\", \"total_otters\": 0}, {\"HAB_ID\": \"1026n\", \"total_otters\": 12}, {\"HAB_ID\": \"1026o\", \"total_otters\": 0}, {\"HAB_ID\": \"1027n\", \"total_otters\": 15}, {\"HAB_ID\": \"1027o\", \"total_otters\": 0}, {\"HAB_ID\": \"1028n\", \"total_otters\": 10}, {\"HAB_ID\": \"1028o\", \"total_otters\": 0}, {\"HAB_ID\": \"1029n\", \"total_otters\": 11}, {\"HAB_ID\": \"1029o\", \"total_otters\": 0}, {\"HAB_ID\": \"102n\", \"total_otters\": 0}, {\"HAB_ID\": \"102o\", \"total_otters\": 0}, {\"HAB_ID\": \"1030n\", \"total_otters\": 4}, {\"HAB_ID\": \"1030o\", \"total_otters\": 0}, {\"HAB_ID\": \"1031n\", \"total_otters\": 2}, {\"HAB_ID\": \"1031o\", \"total_otters\": 0}, {\"HAB_ID\": \"1032n\", \"total_otters\": 2}, {\"HAB_ID\": \"1032o\", \"total_otters\": 0}, {\"HAB_ID\": \"1033n\", \"total_otters\": 2}, {\"HAB_ID\": \"1033o\", \"total_otters\": 0}, {\"HAB_ID\": \"1034n\", \"total_otters\": 2}, {\"HAB_ID\": \"1034o\", \"total_otters\": 0}, {\"HAB_ID\": \"1035n\", \"total_otters\": 2}, {\"HAB_ID\": \"1035o\", \"total_otters\": 0}, {\"HAB_ID\": \"1036n\", \"total_otters\": 2}, {\"HAB_ID\": \"1036o\", \"total_otters\": 0}, {\"HAB_ID\": \"1037n\", \"total_otters\": 0}, {\"HAB_ID\": \"1037o\", \"total_otters\": 0}, {\"HAB_ID\": \"1038n\", \"total_otters\": 0}, {\"HAB_ID\": \"1038o\", \"total_otters\": 0}, {\"HAB_ID\": \"1039n\", \"total_otters\": 0}, {\"HAB_ID\": \"1039o\", \"total_otters\": 0}, {\"HAB_ID\": \"103n\", \"total_otters\": 0}, {\"HAB_ID\": \"103o\", \"total_otters\": 0}, {\"HAB_ID\": \"1040n\", \"total_otters\": 0}, {\"HAB_ID\": \"1040o\", \"total_otters\": 0}, {\"HAB_ID\": \"1041n\", \"total_otters\": 0}, {\"HAB_ID\": \"1041o\", \"total_otters\": 0}, {\"HAB_ID\": \"1042n\", \"total_otters\": 0}, {\"HAB_ID\": \"1042o\", \"total_otters\": 0}, {\"HAB_ID\": \"1043n\", \"total_otters\": 0}, {\"HAB_ID\": \"1043o\", \"total_otters\": 0}, {\"HAB_ID\": \"1044n\", \"total_otters\": 0}, {\"HAB_ID\": \"1044o\", \"total_otters\": 0}, {\"HAB_ID\": \"1045n\", \"total_otters\": 0}, {\"HAB_ID\": \"1045o\", \"total_otters\": 0}, {\"HAB_ID\": \"1046n\", \"total_otters\": 0}, {\"HAB_ID\": \"1046o\", \"total_otters\": 0}, {\"HAB_ID\": \"1047n\", \"total_otters\": 0}, {\"HAB_ID\": \"1047o\", \"total_otters\": 0}, {\"HAB_ID\": \"1048n\", \"total_otters\": 0}, {\"HAB_ID\": \"1048o\", \"total_otters\": 0}, {\"HAB_ID\": \"1049n\", \"total_otters\": 0}, {\"HAB_ID\": \"1049o\", \"total_otters\": 0}, {\"HAB_ID\": \"104n\", \"total_otters\": 0}, {\"HAB_ID\": \"104o\", \"total_otters\": 0}, {\"HAB_ID\": \"1050n\", \"total_otters\": 0}, {\"HAB_ID\": \"1050o\", \"total_otters\": 0}, {\"HAB_ID\": \"1051n\", \"total_otters\": 0}, {\"HAB_ID\": \"1051o\", \"total_otters\": 0}, {\"HAB_ID\": \"1052n\", \"total_otters\": 0}, {\"HAB_ID\": \"1052o\", \"total_otters\": 0}, {\"HAB_ID\": \"1053n\", \"total_otters\": 0}, {\"HAB_ID\": \"1053o\", \"total_otters\": 0}, {\"HAB_ID\": \"1054n\", \"total_otters\": 0}, {\"HAB_ID\": \"1054o\", \"total_otters\": 0}, {\"HAB_ID\": \"1055n\", \"total_otters\": 0}, {\"HAB_ID\": \"1055o\", \"total_otters\": 0}, {\"HAB_ID\": \"1056n\", \"total_otters\": 0}, {\"HAB_ID\": \"1056o\", \"total_otters\": 0}, {\"HAB_ID\": \"1057n\", \"total_otters\": 0}, {\"HAB_ID\": \"1057o\", \"total_otters\": 0}, {\"HAB_ID\": \"1058n\", \"total_otters\": 0}, {\"HAB_ID\": \"1058o\", \"total_otters\": 0}, {\"HAB_ID\": \"1059n\", \"total_otters\": 0}, {\"HAB_ID\": \"1059o\", \"total_otters\": 0}, {\"HAB_ID\": \"105n\", \"total_otters\": 0}, {\"HAB_ID\": \"105o\", \"total_otters\": 0}, {\"HAB_ID\": \"1060n\", \"total_otters\": 0}, {\"HAB_ID\": \"1060o\", \"total_otters\": 0}, {\"HAB_ID\": \"1061n\", \"total_otters\": 0}, {\"HAB_ID\": \"1061o\", \"total_otters\": 0}, {\"HAB_ID\": \"1062n\", \"total_otters\": 0}, {\"HAB_ID\": \"1062o\", \"total_otters\": 0}, {\"HAB_ID\": \"1063n\", \"total_otters\": 0}, {\"HAB_ID\": \"1063o\", \"total_otters\": 0}, {\"HAB_ID\": \"1064n\", \"total_otters\": 2}, {\"HAB_ID\": \"1064o\", \"total_otters\": 0}, {\"HAB_ID\": \"1065n\", \"total_otters\": 2}, {\"HAB_ID\": \"1065o\", \"total_otters\": 0}, {\"HAB_ID\": \"1066n\", \"total_otters\": 2}, {\"HAB_ID\": \"1066o\", \"total_otters\": 0}, {\"HAB_ID\": \"1067n\", \"total_otters\": 0}, {\"HAB_ID\": \"1067o\", \"total_otters\": 0}, {\"HAB_ID\": \"1068n\", \"total_otters\": 0}, {\"HAB_ID\": \"1068o\", \"total_otters\": 0}, {\"HAB_ID\": \"1069n\", \"total_otters\": 0}, {\"HAB_ID\": \"1069o\", \"total_otters\": 0}, {\"HAB_ID\": \"106n\", \"total_otters\": 0}, {\"HAB_ID\": \"106o\", \"total_otters\": 0}, {\"HAB_ID\": \"1070n\", \"total_otters\": 1}, {\"HAB_ID\": \"1070o\", \"total_otters\": 0}, {\"HAB_ID\": \"1071n\", \"total_otters\": 5}, {\"HAB_ID\": \"1071o\", \"total_otters\": 0}, {\"HAB_ID\": \"1072n\", \"total_otters\": 8}, {\"HAB_ID\": \"1072o\", \"total_otters\": 0}, {\"HAB_ID\": \"1073n\", \"total_otters\": 8}, {\"HAB_ID\": \"1073o\", \"total_otters\": 0}, {\"HAB_ID\": \"1074n\", \"total_otters\": 9}, {\"HAB_ID\": \"1074o\", \"total_otters\": 0}, {\"HAB_ID\": \"1075n\", \"total_otters\": 14}, {\"HAB_ID\": \"1075o\", \"total_otters\": 0}, {\"HAB_ID\": \"1076n\", \"total_otters\": 13}, {\"HAB_ID\": \"1076o\", \"total_otters\": 0}, {\"HAB_ID\": \"1077n\", \"total_otters\": 13}, {\"HAB_ID\": \"1077o\", \"total_otters\": 0}, {\"HAB_ID\": \"1078n\", \"total_otters\": 24}, {\"HAB_ID\": \"1078o\", \"total_otters\": 0}, {\"HAB_ID\": \"1079n\", \"total_otters\": 17}, {\"HAB_ID\": \"1079o\", \"total_otters\": 0}, {\"HAB_ID\": \"107n\", \"total_otters\": 0}, {\"HAB_ID\": \"107o\", \"total_otters\": 0}, {\"HAB_ID\": \"1080n\", \"total_otters\": 18}, {\"HAB_ID\": \"1080o\", \"total_otters\": 0}, {\"HAB_ID\": \"1081n\", \"total_otters\": 23}, {\"HAB_ID\": \"1081o\", \"total_otters\": 0}, {\"HAB_ID\": \"1082n\", \"total_otters\": 25}, {\"HAB_ID\": \"1082o\", \"total_otters\": 0}, {\"HAB_ID\": \"1083n\", \"total_otters\": 20}, {\"HAB_ID\": \"1083o\", \"total_otters\": 0}, {\"HAB_ID\": \"1084n\", \"total_otters\": 18}, {\"HAB_ID\": \"1084o\", \"total_otters\": 0}, {\"HAB_ID\": \"1085n\", \"total_otters\": 19}, {\"HAB_ID\": \"1085o\", \"total_otters\": 0}, {\"HAB_ID\": \"1086n\", \"total_otters\": 22}, {\"HAB_ID\": \"1086o\", \"total_otters\": 0}, {\"HAB_ID\": \"1087n\", \"total_otters\": 17}, {\"HAB_ID\": \"1087o\", \"total_otters\": 0}, {\"HAB_ID\": \"1088n\", \"total_otters\": 24}, {\"HAB_ID\": \"1088o\", \"total_otters\": 0}, {\"HAB_ID\": \"1089n\", \"total_otters\": 12}, {\"HAB_ID\": \"1089o\", \"total_otters\": 0}, {\"HAB_ID\": \"108n\", \"total_otters\": 0}, {\"HAB_ID\": \"108o\", \"total_otters\": 0}, {\"HAB_ID\": \"1090n\", \"total_otters\": 23}, {\"HAB_ID\": \"1090o\", \"total_otters\": 0}, {\"HAB_ID\": \"1091n\", \"total_otters\": 22}, {\"HAB_ID\": \"1091o\", \"total_otters\": 0}, {\"HAB_ID\": \"1092n\", \"total_otters\": 22}, {\"HAB_ID\": \"1092o\", \"total_otters\": 0}, {\"HAB_ID\": \"1093n\", \"total_otters\": 22}, {\"HAB_ID\": \"1093o\", \"total_otters\": 0}, {\"HAB_ID\": \"1094n\", \"total_otters\": 20}, {\"HAB_ID\": \"1094o\", \"total_otters\": 0}, {\"HAB_ID\": \"1095n\", \"total_otters\": 22}, {\"HAB_ID\": \"1095o\", \"total_otters\": 0}, {\"HAB_ID\": \"1096n\", \"total_otters\": 14}, {\"HAB_ID\": \"1096o\", \"total_otters\": 0}, {\"HAB_ID\": \"1097n\", \"total_otters\": 16}, {\"HAB_ID\": \"1097o\", \"total_otters\": 0}, {\"HAB_ID\": \"1098n\", \"total_otters\": 18}, {\"HAB_ID\": \"1098o\", \"total_otters\": 0}, {\"HAB_ID\": \"1099n\", \"total_otters\": 11}, {\"HAB_ID\": \"1099o\", \"total_otters\": 0}, {\"HAB_ID\": \"109n\", \"total_otters\": 0}, {\"HAB_ID\": \"109o\", \"total_otters\": 0}, {\"HAB_ID\": \"1100n\", \"total_otters\": 10}, {\"HAB_ID\": \"1100o\", \"total_otters\": 0}, {\"HAB_ID\": \"1101n\", \"total_otters\": 7}, {\"HAB_ID\": \"1101o\", \"total_otters\": 0}, {\"HAB_ID\": \"1102n\", \"total_otters\": 3}, {\"HAB_ID\": \"1102o\", \"total_otters\": 0}, {\"HAB_ID\": \"1103n\", \"total_otters\": 6}, {\"HAB_ID\": \"1103o\", \"total_otters\": 0}, {\"HAB_ID\": \"1104n\", \"total_otters\": 3}, {\"HAB_ID\": \"1104o\", \"total_otters\": 0}, {\"HAB_ID\": \"1105n\", \"total_otters\": 4}, {\"HAB_ID\": \"1105o\", \"total_otters\": 0}, {\"HAB_ID\": \"1106n\", \"total_otters\": 4}, {\"HAB_ID\": \"1106o\", \"total_otters\": 0}, {\"HAB_ID\": \"1107n\", \"total_otters\": 4}, {\"HAB_ID\": \"1107o\", \"total_otters\": 0}, {\"HAB_ID\": \"1108n\", \"total_otters\": 7}, {\"HAB_ID\": \"1108o\", \"total_otters\": 0}, {\"HAB_ID\": \"1109n\", \"total_otters\": 6}, {\"HAB_ID\": \"1109o\", \"total_otters\": 0}, {\"HAB_ID\": \"110n\", \"total_otters\": 0}, {\"HAB_ID\": \"110o\", \"total_otters\": 0}, {\"HAB_ID\": \"1110n\", \"total_otters\": 2}, {\"HAB_ID\": \"1110o\", \"total_otters\": 0}, {\"HAB_ID\": \"1111n\", \"total_otters\": 0}, {\"HAB_ID\": \"1111o\", \"total_otters\": 0}, {\"HAB_ID\": \"1112n\", \"total_otters\": 0}, {\"HAB_ID\": \"1112o\", \"total_otters\": 0}, {\"HAB_ID\": \"1113n\", \"total_otters\": 0}, {\"HAB_ID\": \"1113o\", \"total_otters\": 0}, {\"HAB_ID\": \"1114n\", \"total_otters\": 0}, {\"HAB_ID\": \"1114o\", \"total_otters\": 0}, {\"HAB_ID\": \"1115n\", \"total_otters\": 0}, {\"HAB_ID\": \"1115o\", \"total_otters\": 0}, {\"HAB_ID\": \"1116n\", \"total_otters\": 0}, {\"HAB_ID\": \"1116o\", \"total_otters\": 0}, {\"HAB_ID\": \"1117n\", \"total_otters\": 4}, {\"HAB_ID\": \"1117o\", \"total_otters\": 0}, {\"HAB_ID\": \"1118n\", \"total_otters\": 4}, {\"HAB_ID\": \"1118o\", \"total_otters\": 0}, {\"HAB_ID\": \"1119n\", \"total_otters\": 7}, {\"HAB_ID\": \"1119o\", \"total_otters\": 0}, {\"HAB_ID\": \"111n\", \"total_otters\": 0}, {\"HAB_ID\": \"111o\", \"total_otters\": 0}, {\"HAB_ID\": \"1120n\", \"total_otters\": 5}, {\"HAB_ID\": \"1120o\", \"total_otters\": 0}, {\"HAB_ID\": \"1121n\", \"total_otters\": 10}, {\"HAB_ID\": \"1121o\", \"total_otters\": 0}, {\"HAB_ID\": \"1122n\", \"total_otters\": 9}, {\"HAB_ID\": \"1122o\", \"total_otters\": 0}, {\"HAB_ID\": \"1123n\", \"total_otters\": 12}, {\"HAB_ID\": \"1123o\", \"total_otters\": 0}, {\"HAB_ID\": \"1124n\", \"total_otters\": 15}, {\"HAB_ID\": \"1124o\", \"total_otters\": 0}, {\"HAB_ID\": \"1125n\", \"total_otters\": 18}, {\"HAB_ID\": \"1125o\", \"total_otters\": 0}, {\"HAB_ID\": \"1126n\", \"total_otters\": 25}, {\"HAB_ID\": \"1126o\", \"total_otters\": 0}, {\"HAB_ID\": \"1127n\", \"total_otters\": 27}, {\"HAB_ID\": \"1127o\", \"total_otters\": 0}, {\"HAB_ID\": \"1128n\", \"total_otters\": 29}, {\"HAB_ID\": \"1128o\", \"total_otters\": 0}, {\"HAB_ID\": \"1129n\", \"total_otters\": 27}, {\"HAB_ID\": \"1129o\", \"total_otters\": 0}, {\"HAB_ID\": \"112n\", \"total_otters\": 0}, {\"HAB_ID\": \"112o\", \"total_otters\": 0}, {\"HAB_ID\": \"1130n\", \"total_otters\": 28}, {\"HAB_ID\": \"1130o\", \"total_otters\": 0}, {\"HAB_ID\": \"1131n\", \"total_otters\": 24}, {\"HAB_ID\": \"1131o\", \"total_otters\": 0}, {\"HAB_ID\": \"1132n\", \"total_otters\": 31}, {\"HAB_ID\": \"1132o\", \"total_otters\": 0}, {\"HAB_ID\": \"1133n\", \"total_otters\": 26}, {\"HAB_ID\": \"1133o\", \"total_otters\": 0}, {\"HAB_ID\": \"1134n\", \"total_otters\": 23}, {\"HAB_ID\": \"1134o\", \"total_otters\": 0}, {\"HAB_ID\": \"1135n\", \"total_otters\": 20}, {\"HAB_ID\": \"1135o\", \"total_otters\": 0}, {\"HAB_ID\": \"1136n\", \"total_otters\": 11}, {\"HAB_ID\": \"1136o\", \"total_otters\": 0}, {\"HAB_ID\": \"1137n\", \"total_otters\": 7}, {\"HAB_ID\": \"1137o\", \"total_otters\": 0}, {\"HAB_ID\": \"1138n\", \"total_otters\": 6}, {\"HAB_ID\": \"1138o\", \"total_otters\": 0}, {\"HAB_ID\": \"1139n\", \"total_otters\": 4}, {\"HAB_ID\": \"1139o\", \"total_otters\": 0}, {\"HAB_ID\": \"113n\", \"total_otters\": 1}, {\"HAB_ID\": \"113o\", \"total_otters\": 0}, {\"HAB_ID\": \"1140n\", \"total_otters\": 4}, {\"HAB_ID\": \"1140o\", \"total_otters\": 0}, {\"HAB_ID\": \"1141n\", \"total_otters\": 1}, {\"HAB_ID\": \"1141o\", \"total_otters\": 0}, {\"HAB_ID\": \"1142n\", \"total_otters\": 1}, {\"HAB_ID\": \"1142o\", \"total_otters\": 0}, {\"HAB_ID\": \"1143n\", \"total_otters\": 2}, {\"HAB_ID\": \"1143o\", \"total_otters\": 0}, {\"HAB_ID\": \"1144n\", \"total_otters\": 1}, {\"HAB_ID\": \"1144o\", \"total_otters\": 0}, {\"HAB_ID\": \"1145n\", \"total_otters\": 1}, {\"HAB_ID\": \"1145o\", \"total_otters\": 0}, {\"HAB_ID\": \"1146n\", \"total_otters\": 0}, {\"HAB_ID\": \"1146o\", \"total_otters\": 0}, {\"HAB_ID\": \"1147n\", \"total_otters\": 2}, {\"HAB_ID\": \"1147o\", \"total_otters\": 0}, {\"HAB_ID\": \"1148n\", \"total_otters\": 2}, {\"HAB_ID\": \"1148o\", \"total_otters\": 0}, {\"HAB_ID\": \"1149n\", \"total_otters\": 2}, {\"HAB_ID\": \"1149o\", \"total_otters\": 0}, {\"HAB_ID\": \"114n\", \"total_otters\": 0}, {\"HAB_ID\": \"114o\", \"total_otters\": 0}, {\"HAB_ID\": \"1150n\", \"total_otters\": 2}, {\"HAB_ID\": \"1150o\", \"total_otters\": 0}, {\"HAB_ID\": \"1151n\", \"total_otters\": 2}, {\"HAB_ID\": \"1151o\", \"total_otters\": 0}, {\"HAB_ID\": \"1152n\", \"total_otters\": 2}, {\"HAB_ID\": \"1152o\", \"total_otters\": 0}, {\"HAB_ID\": \"1153n\", \"total_otters\": 1}, {\"HAB_ID\": \"1153o\", \"total_otters\": 0}, {\"HAB_ID\": \"1154n\", \"total_otters\": 1}, {\"HAB_ID\": \"1154o\", \"total_otters\": 0}, {\"HAB_ID\": \"1155n\", \"total_otters\": 1}, {\"HAB_ID\": \"1155o\", \"total_otters\": 0}, {\"HAB_ID\": \"1156n\", \"total_otters\": 1}, {\"HAB_ID\": \"1156o\", \"total_otters\": 0}, {\"HAB_ID\": \"1157n\", \"total_otters\": 1}, {\"HAB_ID\": \"1157o\", \"total_otters\": 0}, {\"HAB_ID\": \"1158n\", \"total_otters\": 1}, {\"HAB_ID\": \"1158o\", \"total_otters\": 0}, {\"HAB_ID\": \"1159n\", \"total_otters\": 1}, {\"HAB_ID\": \"1159o\", \"total_otters\": 0}, {\"HAB_ID\": \"115n\", \"total_otters\": 0}, {\"HAB_ID\": \"115o\", \"total_otters\": 0}, {\"HAB_ID\": \"1160n\", \"total_otters\": 0}, {\"HAB_ID\": \"1160o\", \"total_otters\": 0}, {\"HAB_ID\": \"1161n\", \"total_otters\": 0}, {\"HAB_ID\": \"1161o\", \"total_otters\": 0}, {\"HAB_ID\": \"1162n\", \"total_otters\": 0}, {\"HAB_ID\": \"1162o\", \"total_otters\": 0}, {\"HAB_ID\": \"1163n\", \"total_otters\": 0}, {\"HAB_ID\": \"1163o\", \"total_otters\": 0}, {\"HAB_ID\": \"1164n\", \"total_otters\": 0}, {\"HAB_ID\": \"1164o\", \"total_otters\": 0}, {\"HAB_ID\": \"1165n\", \"total_otters\": 0}, {\"HAB_ID\": \"1165o\", \"total_otters\": 0}, {\"HAB_ID\": \"1166n\", \"total_otters\": 0}, {\"HAB_ID\": \"1166o\", \"total_otters\": 0}, {\"HAB_ID\": \"1167n\", \"total_otters\": 0}, {\"HAB_ID\": \"1167o\", \"total_otters\": 0}, {\"HAB_ID\": \"1168n\", \"total_otters\": 0}, {\"HAB_ID\": \"1168o\", \"total_otters\": 0}, {\"HAB_ID\": \"1169n\", \"total_otters\": 0}, {\"HAB_ID\": \"1169o\", \"total_otters\": 0}, {\"HAB_ID\": \"116n\", \"total_otters\": 0}, {\"HAB_ID\": \"116o\", \"total_otters\": 0}, {\"HAB_ID\": \"1170n\", \"total_otters\": 0}, {\"HAB_ID\": \"1170o\", \"total_otters\": 0}, {\"HAB_ID\": \"1171n\", \"total_otters\": 0}, {\"HAB_ID\": \"1171o\", \"total_otters\": 0}, {\"HAB_ID\": \"1172n\", \"total_otters\": 0}, {\"HAB_ID\": \"1172o\", \"total_otters\": 0}, {\"HAB_ID\": \"1173n\", \"total_otters\": 0}, {\"HAB_ID\": \"1173o\", \"total_otters\": 0}, {\"HAB_ID\": \"1174n\", \"total_otters\": 0}, {\"HAB_ID\": \"1174o\", \"total_otters\": 0}, {\"HAB_ID\": \"1175n\", \"total_otters\": 0}, {\"HAB_ID\": \"1175o\", \"total_otters\": 0}, {\"HAB_ID\": \"1176n\", \"total_otters\": 0}, {\"HAB_ID\": \"1176o\", \"total_otters\": 0}, {\"HAB_ID\": \"1177n\", \"total_otters\": 0}, {\"HAB_ID\": \"1177o\", \"total_otters\": 0}, {\"HAB_ID\": \"1178n\", \"total_otters\": 0}, {\"HAB_ID\": \"1178o\", \"total_otters\": 0}, {\"HAB_ID\": \"1179n\", \"total_otters\": 0}, {\"HAB_ID\": \"1179o\", \"total_otters\": 0}, {\"HAB_ID\": \"117n\", \"total_otters\": 0}, {\"HAB_ID\": \"117o\", \"total_otters\": 0}, {\"HAB_ID\": \"1180n\", \"total_otters\": 0}, {\"HAB_ID\": \"1180o\", \"total_otters\": 0}, {\"HAB_ID\": \"1181n\", \"total_otters\": 0}, {\"HAB_ID\": \"1181o\", \"total_otters\": 0}, {\"HAB_ID\": \"1182n\", \"total_otters\": 0}, {\"HAB_ID\": \"1182o\", \"total_otters\": 0}, {\"HAB_ID\": \"1183n\", \"total_otters\": 0}, {\"HAB_ID\": \"1183o\", \"total_otters\": 0}, {\"HAB_ID\": \"1184n\", \"total_otters\": 0}, {\"HAB_ID\": \"1184o\", \"total_otters\": 0}, {\"HAB_ID\": \"1185n\", \"total_otters\": 0}, {\"HAB_ID\": \"1185o\", \"total_otters\": 0}, {\"HAB_ID\": \"1186n\", \"total_otters\": 0}, {\"HAB_ID\": \"1186o\", \"total_otters\": 0}, {\"HAB_ID\": \"1187n\", \"total_otters\": 0}, {\"HAB_ID\": \"1187o\", \"total_otters\": 0}, {\"HAB_ID\": \"1188n\", \"total_otters\": 0}, {\"HAB_ID\": \"1188o\", \"total_otters\": 0}, {\"HAB_ID\": \"1189n\", \"total_otters\": 0}, {\"HAB_ID\": \"1189o\", \"total_otters\": 0}, {\"HAB_ID\": \"118n\", \"total_otters\": 0}, {\"HAB_ID\": \"118o\", \"total_otters\": 0}, {\"HAB_ID\": \"1190n\", \"total_otters\": 0}, {\"HAB_ID\": \"1190o\", \"total_otters\": 0}, {\"HAB_ID\": \"1191n\", \"total_otters\": 0}, {\"HAB_ID\": \"1191o\", \"total_otters\": 0}, {\"HAB_ID\": \"1192n\", \"total_otters\": 0}, {\"HAB_ID\": \"1192o\", \"total_otters\": 0}, {\"HAB_ID\": \"1193n\", \"total_otters\": 0}, {\"HAB_ID\": \"1193o\", \"total_otters\": 0}, {\"HAB_ID\": \"1194n\", \"total_otters\": 0}, {\"HAB_ID\": \"1194o\", \"total_otters\": 0}, {\"HAB_ID\": \"1195n\", \"total_otters\": 0}, {\"HAB_ID\": \"1195o\", \"total_otters\": 0}, {\"HAB_ID\": \"1196n\", \"total_otters\": 0}, {\"HAB_ID\": \"1196o\", \"total_otters\": 0}, {\"HAB_ID\": \"1197n\", \"total_otters\": 0}, {\"HAB_ID\": \"1197o\", \"total_otters\": 0}, {\"HAB_ID\": \"1198n\", \"total_otters\": 0}, {\"HAB_ID\": \"1198o\", \"total_otters\": 0}, {\"HAB_ID\": \"1199n\", \"total_otters\": 0}, {\"HAB_ID\": \"1199o\", \"total_otters\": 0}, {\"HAB_ID\": \"119n\", \"total_otters\": 0}, {\"HAB_ID\": \"119o\", \"total_otters\": 0}, {\"HAB_ID\": \"1200n\", \"total_otters\": 0}, {\"HAB_ID\": \"1200o\", \"total_otters\": 0}, {\"HAB_ID\": \"1201n\", \"total_otters\": 0}, {\"HAB_ID\": \"1201o\", \"total_otters\": 0}, {\"HAB_ID\": \"1202n\", \"total_otters\": 0}, {\"HAB_ID\": \"1202o\", \"total_otters\": 0}, {\"HAB_ID\": \"1203n\", \"total_otters\": 0}, {\"HAB_ID\": \"1203o\", \"total_otters\": 0}, {\"HAB_ID\": \"1204n\", \"total_otters\": 0}, {\"HAB_ID\": \"1204o\", \"total_otters\": 0}, {\"HAB_ID\": \"1205n\", \"total_otters\": 0}, {\"HAB_ID\": \"1205o\", \"total_otters\": 0}, {\"HAB_ID\": \"1206n\", \"total_otters\": 0}, {\"HAB_ID\": \"1206o\", \"total_otters\": 0}, {\"HAB_ID\": \"1207n\", \"total_otters\": 0}, {\"HAB_ID\": \"1207o\", \"total_otters\": 0}, {\"HAB_ID\": \"1208n\", \"total_otters\": 0}, {\"HAB_ID\": \"1208o\", \"total_otters\": 0}, {\"HAB_ID\": \"1209n\", \"total_otters\": 0}, {\"HAB_ID\": \"1209o\", \"total_otters\": 0}, {\"HAB_ID\": \"120n\", \"total_otters\": 0}, {\"HAB_ID\": \"120o\", \"total_otters\": 0}, {\"HAB_ID\": \"1210n\", \"total_otters\": 0}, {\"HAB_ID\": \"1210o\", \"total_otters\": 0}, {\"HAB_ID\": \"1211n\", \"total_otters\": 0}, {\"HAB_ID\": \"1211o\", \"total_otters\": 0}, {\"HAB_ID\": \"1212n\", \"total_otters\": 0}, {\"HAB_ID\": \"1212o\", \"total_otters\": 0}, {\"HAB_ID\": \"1213n\", \"total_otters\": 0}, {\"HAB_ID\": \"1213o\", \"total_otters\": 0}, {\"HAB_ID\": \"1214n\", \"total_otters\": 0}, {\"HAB_ID\": \"1214o\", \"total_otters\": 0}, {\"HAB_ID\": \"1215n\", \"total_otters\": 0}, {\"HAB_ID\": \"1215o\", \"total_otters\": 0}, {\"HAB_ID\": \"1216n\", \"total_otters\": 0}, {\"HAB_ID\": \"1216o\", \"total_otters\": 0}, {\"HAB_ID\": \"1217n\", \"total_otters\": 0}, {\"HAB_ID\": \"1217o\", \"total_otters\": 0}, {\"HAB_ID\": \"1218n\", \"total_otters\": 0}, {\"HAB_ID\": \"1218o\", \"total_otters\": 0}, {\"HAB_ID\": \"1219n\", \"total_otters\": 0}, {\"HAB_ID\": \"1219o\", \"total_otters\": 0}, {\"HAB_ID\": \"121n\", \"total_otters\": 0}, {\"HAB_ID\": \"121o\", \"total_otters\": 0}, {\"HAB_ID\": \"1220n\", \"total_otters\": 0}, {\"HAB_ID\": \"1220o\", \"total_otters\": 0}, {\"HAB_ID\": \"1221n\", \"total_otters\": 0}, {\"HAB_ID\": \"1221o\", \"total_otters\": 0}, {\"HAB_ID\": \"1222n\", \"total_otters\": 0}, {\"HAB_ID\": \"1222o\", \"total_otters\": 0}, {\"HAB_ID\": \"1223n\", \"total_otters\": 0}, {\"HAB_ID\": \"1223o\", \"total_otters\": 0}, {\"HAB_ID\": \"1224n\", \"total_otters\": 0}, {\"HAB_ID\": \"1224o\", \"total_otters\": 0}, {\"HAB_ID\": \"1225n\", \"total_otters\": 2}, {\"HAB_ID\": \"1225o\", \"total_otters\": 0}, {\"HAB_ID\": \"1226n\", \"total_otters\": 2}, {\"HAB_ID\": \"1226o\", \"total_otters\": 0}, {\"HAB_ID\": \"1227n\", \"total_otters\": 0}, {\"HAB_ID\": \"1227o\", \"total_otters\": 0}, {\"HAB_ID\": \"1228n\", \"total_otters\": 0}, {\"HAB_ID\": \"1228o\", \"total_otters\": 0}, {\"HAB_ID\": \"1229n\", \"total_otters\": 0}, {\"HAB_ID\": \"1229o\", \"total_otters\": 0}, {\"HAB_ID\": \"122n\", \"total_otters\": 0}, {\"HAB_ID\": \"122o\", \"total_otters\": 0}, {\"HAB_ID\": \"1230n\", \"total_otters\": 0}, {\"HAB_ID\": \"1230o\", \"total_otters\": 0}, {\"HAB_ID\": \"1231n\", \"total_otters\": 0}, {\"HAB_ID\": \"1231o\", \"total_otters\": 0}, {\"HAB_ID\": \"1232n\", \"total_otters\": 0}, {\"HAB_ID\": \"1232o\", \"total_otters\": 0}, {\"HAB_ID\": \"1233n\", \"total_otters\": 0}, {\"HAB_ID\": \"1233o\", \"total_otters\": 0}, {\"HAB_ID\": \"1234n\", \"total_otters\": 0}, {\"HAB_ID\": \"1234o\", \"total_otters\": 0}, {\"HAB_ID\": \"1235n\", \"total_otters\": 0}, {\"HAB_ID\": \"1235o\", \"total_otters\": 0}, {\"HAB_ID\": \"123n\", \"total_otters\": 0}, {\"HAB_ID\": \"123o\", \"total_otters\": 0}, {\"HAB_ID\": \"124n\", \"total_otters\": 0}, {\"HAB_ID\": \"124o\", \"total_otters\": 0}, {\"HAB_ID\": \"125n\", \"total_otters\": 0}, {\"HAB_ID\": \"125o\", \"total_otters\": 0}, {\"HAB_ID\": \"126n\", \"total_otters\": 0}, {\"HAB_ID\": \"126o\", \"total_otters\": 0}, {\"HAB_ID\": \"127n\", \"total_otters\": 0}, {\"HAB_ID\": \"127o\", \"total_otters\": 0}, {\"HAB_ID\": \"128n\", \"total_otters\": 0}, {\"HAB_ID\": \"128o\", \"total_otters\": 0}, {\"HAB_ID\": \"129n\", \"total_otters\": 0}, {\"HAB_ID\": \"129o\", \"total_otters\": 0}, {\"HAB_ID\": \"130n\", \"total_otters\": 0}, {\"HAB_ID\": \"130o\", \"total_otters\": 0}, {\"HAB_ID\": \"131n\", \"total_otters\": 0}, {\"HAB_ID\": \"131o\", \"total_otters\": 0}, {\"HAB_ID\": \"132n\", \"total_otters\": 0}, {\"HAB_ID\": \"132o\", \"total_otters\": 0}, {\"HAB_ID\": \"133n\", \"total_otters\": 0}, {\"HAB_ID\": \"133o\", \"total_otters\": 0}, {\"HAB_ID\": \"134n\", \"total_otters\": 0}, {\"HAB_ID\": \"134o\", \"total_otters\": 0}, {\"HAB_ID\": \"135n\", \"total_otters\": 0}, {\"HAB_ID\": \"135o\", \"total_otters\": 0}, {\"HAB_ID\": \"136n\", \"total_otters\": 0}, {\"HAB_ID\": \"136o\", \"total_otters\": 0}, {\"HAB_ID\": \"137n\", \"total_otters\": 0}, {\"HAB_ID\": \"137o\", \"total_otters\": 0}, {\"HAB_ID\": \"138n\", \"total_otters\": 0}, {\"HAB_ID\": \"138o\", \"total_otters\": 0}, {\"HAB_ID\": \"139n\", \"total_otters\": 0}, {\"HAB_ID\": \"139o\", \"total_otters\": 0}, {\"HAB_ID\": \"140n\", \"total_otters\": 0}, {\"HAB_ID\": \"140o\", \"total_otters\": 0}, {\"HAB_ID\": \"141n\", \"total_otters\": 0}, {\"HAB_ID\": \"141o\", \"total_otters\": 0}, {\"HAB_ID\": \"142n\", \"total_otters\": 0}, {\"HAB_ID\": \"142o\", \"total_otters\": 0}, {\"HAB_ID\": \"143n\", \"total_otters\": 0}, {\"HAB_ID\": \"143o\", \"total_otters\": 0}, {\"HAB_ID\": \"144n\", \"total_otters\": 0}, {\"HAB_ID\": \"144o\", \"total_otters\": 0}, {\"HAB_ID\": \"145n\", \"total_otters\": 0}, {\"HAB_ID\": \"145o\", \"total_otters\": 0}, {\"HAB_ID\": \"146n\", \"total_otters\": 0}, {\"HAB_ID\": \"146o\", \"total_otters\": 0}, {\"HAB_ID\": \"147n\", \"total_otters\": 0}, {\"HAB_ID\": \"147o\", \"total_otters\": 0}, {\"HAB_ID\": \"148n\", \"total_otters\": 0}, {\"HAB_ID\": \"148o\", \"total_otters\": 0}, {\"HAB_ID\": \"149n\", \"total_otters\": 0}, {\"HAB_ID\": \"149o\", \"total_otters\": 0}, {\"HAB_ID\": \"150n\", \"total_otters\": 0}, {\"HAB_ID\": \"150o\", \"total_otters\": 0}, {\"HAB_ID\": \"151n\", \"total_otters\": 0}, {\"HAB_ID\": \"151o\", \"total_otters\": 0}, {\"HAB_ID\": \"152n\", \"total_otters\": 0}, {\"HAB_ID\": \"152o\", \"total_otters\": 0}, {\"HAB_ID\": \"153n\", \"total_otters\": 0}, {\"HAB_ID\": \"153o\", \"total_otters\": 0}, {\"HAB_ID\": \"154n\", \"total_otters\": 0}, {\"HAB_ID\": \"154o\", \"total_otters\": 0}, {\"HAB_ID\": \"155n\", \"total_otters\": 0}, {\"HAB_ID\": \"155o\", \"total_otters\": 0}, {\"HAB_ID\": \"156n\", \"total_otters\": 0}, {\"HAB_ID\": \"156o\", \"total_otters\": 0}, {\"HAB_ID\": \"157n\", \"total_otters\": 0}, {\"HAB_ID\": \"157o\", \"total_otters\": 0}, {\"HAB_ID\": \"158n\", \"total_otters\": 0}, {\"HAB_ID\": \"158o\", \"total_otters\": 0}, {\"HAB_ID\": \"159n\", \"total_otters\": 0}, {\"HAB_ID\": \"159o\", \"total_otters\": 0}, {\"HAB_ID\": \"160n\", \"total_otters\": 0}, {\"HAB_ID\": \"160o\", \"total_otters\": 0}, {\"HAB_ID\": \"161n\", \"total_otters\": 0}, {\"HAB_ID\": \"161o\", \"total_otters\": 0}, {\"HAB_ID\": \"162n\", \"total_otters\": 0}, {\"HAB_ID\": \"162o\", \"total_otters\": 0}, {\"HAB_ID\": \"163n\", \"total_otters\": 0}, {\"HAB_ID\": \"163o\", \"total_otters\": 0}, {\"HAB_ID\": \"164n\", \"total_otters\": 0}, {\"HAB_ID\": \"164o\", \"total_otters\": 0}, {\"HAB_ID\": \"165n\", \"total_otters\": 0}, {\"HAB_ID\": \"165o\", \"total_otters\": 0}, {\"HAB_ID\": \"166n\", \"total_otters\": 0}, {\"HAB_ID\": \"166o\", \"total_otters\": 0}, {\"HAB_ID\": \"167n\", \"total_otters\": 0}, {\"HAB_ID\": \"167o\", \"total_otters\": 0}, {\"HAB_ID\": \"168n\", \"total_otters\": 0}, {\"HAB_ID\": \"168o\", \"total_otters\": 0}, {\"HAB_ID\": \"169n\", \"total_otters\": 0}, {\"HAB_ID\": \"169o\", \"total_otters\": 0}, {\"HAB_ID\": \"170n\", \"total_otters\": 0}, {\"HAB_ID\": \"170o\", \"total_otters\": 0}, {\"HAB_ID\": \"171n\", \"total_otters\": 0}, {\"HAB_ID\": \"171o\", \"total_otters\": 0}, {\"HAB_ID\": \"172n\", \"total_otters\": 3}, {\"HAB_ID\": \"172o\", \"total_otters\": 0}, {\"HAB_ID\": \"173n\", \"total_otters\": 11}, {\"HAB_ID\": \"173o\", \"total_otters\": 0}, {\"HAB_ID\": \"174n\", \"total_otters\": 12}, {\"HAB_ID\": \"174o\", \"total_otters\": 0}, {\"HAB_ID\": \"175n\", \"total_otters\": 19}, {\"HAB_ID\": \"175o\", \"total_otters\": 0}, {\"HAB_ID\": \"176n\", \"total_otters\": 5}, {\"HAB_ID\": \"176o\", \"total_otters\": 0}, {\"HAB_ID\": \"177n\", \"total_otters\": 3}, {\"HAB_ID\": \"177o\", \"total_otters\": 0}, {\"HAB_ID\": \"178n\", \"total_otters\": 4}, {\"HAB_ID\": \"178o\", \"total_otters\": 0}, {\"HAB_ID\": \"179n\", \"total_otters\": 17}, {\"HAB_ID\": \"179o\", \"total_otters\": 0}, {\"HAB_ID\": \"180n\", \"total_otters\": 16}, {\"HAB_ID\": \"180o\", \"total_otters\": 0}, {\"HAB_ID\": \"181n\", \"total_otters\": 20}, {\"HAB_ID\": \"181o\", \"total_otters\": 0}, {\"HAB_ID\": \"182n\", \"total_otters\": 9}, {\"HAB_ID\": \"182o\", \"total_otters\": 0}, {\"HAB_ID\": \"183n\", \"total_otters\": 14}, {\"HAB_ID\": \"183o\", \"total_otters\": 0}, {\"HAB_ID\": \"184n\", \"total_otters\": 12}, {\"HAB_ID\": \"184o\", \"total_otters\": 0}, {\"HAB_ID\": \"185n\", \"total_otters\": 19}, {\"HAB_ID\": \"185o\", \"total_otters\": 0}, {\"HAB_ID\": \"186n\", \"total_otters\": 24}, {\"HAB_ID\": \"186o\", \"total_otters\": 0}, {\"HAB_ID\": \"187n\", \"total_otters\": 17}, {\"HAB_ID\": \"187o\", \"total_otters\": 0}, {\"HAB_ID\": \"188n\", \"total_otters\": 20}, {\"HAB_ID\": \"188o\", \"total_otters\": 0}, {\"HAB_ID\": \"189n\", \"total_otters\": 18}, {\"HAB_ID\": \"189o\", \"total_otters\": 0}, {\"HAB_ID\": \"190n\", \"total_otters\": 18}, {\"HAB_ID\": \"190o\", \"total_otters\": 0}, {\"HAB_ID\": \"191n\", \"total_otters\": 9}, {\"HAB_ID\": \"191o\", \"total_otters\": 0}, {\"HAB_ID\": \"192n\", \"total_otters\": 13}, {\"HAB_ID\": \"192o\", \"total_otters\": 0}, {\"HAB_ID\": \"193n\", \"total_otters\": 4}, {\"HAB_ID\": \"193o\", \"total_otters\": 0}, {\"HAB_ID\": \"194n\", \"total_otters\": 0}, {\"HAB_ID\": \"194o\", \"total_otters\": 0}, {\"HAB_ID\": \"195n\", \"total_otters\": 0}, {\"HAB_ID\": \"195o\", \"total_otters\": 0}, {\"HAB_ID\": \"196n\", \"total_otters\": 0}, {\"HAB_ID\": \"196o\", \"total_otters\": 0}, {\"HAB_ID\": \"197n\", \"total_otters\": 0}, {\"HAB_ID\": \"197o\", \"total_otters\": 0}, {\"HAB_ID\": \"198n\", \"total_otters\": 0}, {\"HAB_ID\": \"198o\", \"total_otters\": 0}, {\"HAB_ID\": \"199n\", \"total_otters\": 0}, {\"HAB_ID\": \"199o\", \"total_otters\": 0}, {\"HAB_ID\": \"200n\", \"total_otters\": 0}, {\"HAB_ID\": \"200o\", \"total_otters\": 0}, {\"HAB_ID\": \"201n\", \"total_otters\": 0}, {\"HAB_ID\": \"201o\", \"total_otters\": 0}, {\"HAB_ID\": \"202n\", \"total_otters\": 0}, {\"HAB_ID\": \"202o\", \"total_otters\": 0}, {\"HAB_ID\": \"203n\", \"total_otters\": 0}, {\"HAB_ID\": \"203o\", \"total_otters\": 0}, {\"HAB_ID\": \"204n\", \"total_otters\": 0}, {\"HAB_ID\": \"204o\", \"total_otters\": 0}, {\"HAB_ID\": \"205n\", \"total_otters\": 0}, {\"HAB_ID\": \"205o\", \"total_otters\": 0}, {\"HAB_ID\": \"206n\", \"total_otters\": 0}, {\"HAB_ID\": \"206o\", \"total_otters\": 0}, {\"HAB_ID\": \"207n\", \"total_otters\": 0}, {\"HAB_ID\": \"207o\", \"total_otters\": 0}, {\"HAB_ID\": \"208n\", \"total_otters\": 0}, {\"HAB_ID\": \"208o\", \"total_otters\": 0}, {\"HAB_ID\": \"209n\", \"total_otters\": 0}, {\"HAB_ID\": \"209o\", \"total_otters\": 0}, {\"HAB_ID\": \"210n\", \"total_otters\": 0}, {\"HAB_ID\": \"210o\", \"total_otters\": 0}, {\"HAB_ID\": \"211n\", \"total_otters\": 0}, {\"HAB_ID\": \"211o\", \"total_otters\": 0}, {\"HAB_ID\": \"212n\", \"total_otters\": 0}, {\"HAB_ID\": \"212o\", \"total_otters\": 0}, {\"HAB_ID\": \"213n\", \"total_otters\": 0}, {\"HAB_ID\": \"213o\", \"total_otters\": 0}, {\"HAB_ID\": \"214n\", \"total_otters\": 0}, {\"HAB_ID\": \"214o\", \"total_otters\": 0}, {\"HAB_ID\": \"215n\", \"total_otters\": 0}, {\"HAB_ID\": \"215o\", \"total_otters\": 0}, {\"HAB_ID\": \"216n\", \"total_otters\": 0}, {\"HAB_ID\": \"216o\", \"total_otters\": 0}, {\"HAB_ID\": \"217n\", \"total_otters\": 0}, {\"HAB_ID\": \"217o\", \"total_otters\": 0}, {\"HAB_ID\": \"218n\", \"total_otters\": 0}, {\"HAB_ID\": \"218o\", \"total_otters\": 0}, {\"HAB_ID\": \"219n\", \"total_otters\": 0}, {\"HAB_ID\": \"219o\", \"total_otters\": 0}, {\"HAB_ID\": \"220n\", \"total_otters\": 10}, {\"HAB_ID\": \"220o\", \"total_otters\": 0}, {\"HAB_ID\": \"221n\", \"total_otters\": 10}, {\"HAB_ID\": \"221o\", \"total_otters\": 0}, {\"HAB_ID\": \"222n\", \"total_otters\": 15}, {\"HAB_ID\": \"222o\", \"total_otters\": 0}, {\"HAB_ID\": \"223n\", \"total_otters\": 17}, {\"HAB_ID\": \"223o\", \"total_otters\": 0}, {\"HAB_ID\": \"224n\", \"total_otters\": 12}, {\"HAB_ID\": \"224o\", \"total_otters\": 0}, {\"HAB_ID\": \"225n\", \"total_otters\": 19}, {\"HAB_ID\": \"225o\", \"total_otters\": 0}, {\"HAB_ID\": \"226n\", \"total_otters\": 18}, {\"HAB_ID\": \"226o\", \"total_otters\": 0}, {\"HAB_ID\": \"227n\", \"total_otters\": 30}, {\"HAB_ID\": \"227o\", \"total_otters\": 0}, {\"HAB_ID\": \"228n\", \"total_otters\": 21}, {\"HAB_ID\": \"228o\", \"total_otters\": 0}, {\"HAB_ID\": \"229n\", \"total_otters\": 23}, {\"HAB_ID\": \"229o\", \"total_otters\": 0}, {\"HAB_ID\": \"230n\", \"total_otters\": 26}, {\"HAB_ID\": \"230o\", \"total_otters\": 0}, {\"HAB_ID\": \"231n\", \"total_otters\": 35}, {\"HAB_ID\": \"231o\", \"total_otters\": 0}, {\"HAB_ID\": \"232n\", \"total_otters\": 35}, {\"HAB_ID\": \"232o\", \"total_otters\": 0}, {\"HAB_ID\": \"233n\", \"total_otters\": 39}, {\"HAB_ID\": \"233o\", \"total_otters\": 0}, {\"HAB_ID\": \"234n\", \"total_otters\": 37}, {\"HAB_ID\": \"234o\", \"total_otters\": 0}, {\"HAB_ID\": \"235n\", \"total_otters\": 39}, {\"HAB_ID\": \"235o\", \"total_otters\": 0}, {\"HAB_ID\": \"236n\", \"total_otters\": 47}, {\"HAB_ID\": \"236o\", \"total_otters\": 0}, {\"HAB_ID\": \"237n\", \"total_otters\": 38}, {\"HAB_ID\": \"237o\", \"total_otters\": 0}, {\"HAB_ID\": \"238n\", \"total_otters\": 34}, {\"HAB_ID\": \"238o\", \"total_otters\": 0}, {\"HAB_ID\": \"239n\", \"total_otters\": 33}, {\"HAB_ID\": \"239o\", \"total_otters\": 0}, {\"HAB_ID\": \"240n\", \"total_otters\": 47}, {\"HAB_ID\": \"240o\", \"total_otters\": 0}, {\"HAB_ID\": \"241n\", \"total_otters\": 32}, {\"HAB_ID\": \"241o\", \"total_otters\": 0}, {\"HAB_ID\": \"242n\", \"total_otters\": 23}, {\"HAB_ID\": \"242o\", \"total_otters\": 0}, {\"HAB_ID\": \"243n\", \"total_otters\": 29}, {\"HAB_ID\": \"243o\", \"total_otters\": 0}, {\"HAB_ID\": \"244n\", \"total_otters\": 30}, {\"HAB_ID\": \"244o\", \"total_otters\": 0}, {\"HAB_ID\": \"245n\", \"total_otters\": 32}, {\"HAB_ID\": \"245o\", \"total_otters\": 0}, {\"HAB_ID\": \"246n\", \"total_otters\": 33}, {\"HAB_ID\": \"246o\", \"total_otters\": 0}, {\"HAB_ID\": \"247n\", \"total_otters\": 35}, {\"HAB_ID\": \"247o\", \"total_otters\": 0}, {\"HAB_ID\": \"248n\", \"total_otters\": 30}, {\"HAB_ID\": \"248o\", \"total_otters\": 0}, {\"HAB_ID\": \"249n\", \"total_otters\": 31}, {\"HAB_ID\": \"249o\", \"total_otters\": 0}, {\"HAB_ID\": \"250n\", \"total_otters\": 47}, {\"HAB_ID\": \"250o\", \"total_otters\": 0}, {\"HAB_ID\": \"251n\", \"total_otters\": 33}, {\"HAB_ID\": \"251o\", \"total_otters\": 0}, {\"HAB_ID\": \"252n\", \"total_otters\": 34}, {\"HAB_ID\": \"252o\", \"total_otters\": 0}, {\"HAB_ID\": \"253n\", \"total_otters\": 40}, {\"HAB_ID\": \"253o\", \"total_otters\": 0}, {\"HAB_ID\": \"254n\", \"total_otters\": 41}, {\"HAB_ID\": \"254o\", \"total_otters\": 3}, {\"HAB_ID\": \"255n\", \"total_otters\": 39}, {\"HAB_ID\": \"255o\", \"total_otters\": 3}, {\"HAB_ID\": \"256n\", \"total_otters\": 52}, {\"HAB_ID\": \"256o\", \"total_otters\": 3}, {\"HAB_ID\": \"257n\", \"total_otters\": 58}, {\"HAB_ID\": \"257o\", \"total_otters\": 3}, {\"HAB_ID\": \"258n\", \"total_otters\": 58}, {\"HAB_ID\": \"258o\", \"total_otters\": 0}, {\"HAB_ID\": \"259n\", \"total_otters\": 68}, {\"HAB_ID\": \"259o\", \"total_otters\": 0}, {\"HAB_ID\": \"260n\", \"total_otters\": 62}, {\"HAB_ID\": \"260o\", \"total_otters\": 0}, {\"HAB_ID\": \"261n\", \"total_otters\": 69}, {\"HAB_ID\": \"261o\", \"total_otters\": 0}, {\"HAB_ID\": \"262n\", \"total_otters\": 56}, {\"HAB_ID\": \"262o\", \"total_otters\": 0}, {\"HAB_ID\": \"263n\", \"total_otters\": 62}, {\"HAB_ID\": \"263o\", \"total_otters\": 0}, {\"HAB_ID\": \"264n\", \"total_otters\": 69}, {\"HAB_ID\": \"264o\", \"total_otters\": 0}, {\"HAB_ID\": \"265n\", \"total_otters\": 64}, {\"HAB_ID\": \"265o\", \"total_otters\": 0}, {\"HAB_ID\": \"266n\", \"total_otters\": 67}, {\"HAB_ID\": \"266o\", \"total_otters\": 0}, {\"HAB_ID\": \"267n\", \"total_otters\": 52}, {\"HAB_ID\": \"267o\", \"total_otters\": 0}, {\"HAB_ID\": \"268n\", \"total_otters\": 70}, {\"HAB_ID\": \"268o\", \"total_otters\": 0}, {\"HAB_ID\": \"269n\", \"total_otters\": 79}, {\"HAB_ID\": \"269o\", \"total_otters\": 0}, {\"HAB_ID\": \"270n\", \"total_otters\": 70}, {\"HAB_ID\": \"270o\", \"total_otters\": 0}, {\"HAB_ID\": \"271n\", \"total_otters\": 93}, {\"HAB_ID\": \"271o\", \"total_otters\": 0}, {\"HAB_ID\": \"272n\", \"total_otters\": 65}, {\"HAB_ID\": \"272o\", \"total_otters\": 0}, {\"HAB_ID\": \"273n\", \"total_otters\": 86}, {\"HAB_ID\": \"273o\", \"total_otters\": 0}, {\"HAB_ID\": \"274n\", \"total_otters\": 108}, {\"HAB_ID\": \"274o\", \"total_otters\": 0}, {\"HAB_ID\": \"275n\", \"total_otters\": 82}, {\"HAB_ID\": \"275o\", \"total_otters\": 0}, {\"HAB_ID\": \"276n\", \"total_otters\": 76}, {\"HAB_ID\": \"276o\", \"total_otters\": 0}, {\"HAB_ID\": \"277n\", \"total_otters\": 57}, {\"HAB_ID\": \"277o\", \"total_otters\": 0}, {\"HAB_ID\": \"278n\", \"total_otters\": 54}, {\"HAB_ID\": \"278o\", \"total_otters\": 0}, {\"HAB_ID\": \"279n\", \"total_otters\": 34}, {\"HAB_ID\": \"279o\", \"total_otters\": 0}, {\"HAB_ID\": \"280n\", \"total_otters\": 36}, {\"HAB_ID\": \"280o\", \"total_otters\": 0}, {\"HAB_ID\": \"281n\", \"total_otters\": 38}, {\"HAB_ID\": \"281o\", \"total_otters\": 0}, {\"HAB_ID\": \"282n\", \"total_otters\": 31}, {\"HAB_ID\": \"282o\", \"total_otters\": 0}, {\"HAB_ID\": \"283n\", \"total_otters\": 37}, {\"HAB_ID\": \"283o\", \"total_otters\": 0}, {\"HAB_ID\": \"284n\", \"total_otters\": 31}, {\"HAB_ID\": \"284o\", \"total_otters\": 0}, {\"HAB_ID\": \"285n\", \"total_otters\": 49}, {\"HAB_ID\": \"285o\", \"total_otters\": 0}, {\"HAB_ID\": \"286n\", \"total_otters\": 40}, {\"HAB_ID\": \"286o\", \"total_otters\": 0}, {\"HAB_ID\": \"287n\", \"total_otters\": 32}, {\"HAB_ID\": \"287o\", \"total_otters\": 0}, {\"HAB_ID\": \"288n\", \"total_otters\": 42}, {\"HAB_ID\": \"288o\", \"total_otters\": 0}, {\"HAB_ID\": \"289n\", \"total_otters\": 41}, {\"HAB_ID\": \"289o\", \"total_otters\": 0}, {\"HAB_ID\": \"290n\", \"total_otters\": 40}, {\"HAB_ID\": \"290o\", \"total_otters\": 0}, {\"HAB_ID\": \"291n\", \"total_otters\": 29}, {\"HAB_ID\": \"291o\", \"total_otters\": 0}, {\"HAB_ID\": \"292n\", \"total_otters\": 32}, {\"HAB_ID\": \"292o\", \"total_otters\": 0}, {\"HAB_ID\": \"293n\", \"total_otters\": 34}, {\"HAB_ID\": \"293o\", \"total_otters\": 0}, {\"HAB_ID\": \"294n\", \"total_otters\": 20}, {\"HAB_ID\": \"294o\", \"total_otters\": 0}, {\"HAB_ID\": \"295n\", \"total_otters\": 30}, {\"HAB_ID\": \"295o\", \"total_otters\": 0}, {\"HAB_ID\": \"296n\", \"total_otters\": 22}, {\"HAB_ID\": \"296o\", \"total_otters\": 0}, {\"HAB_ID\": \"297n\", \"total_otters\": 22}, {\"HAB_ID\": \"297o\", \"total_otters\": 0}, {\"HAB_ID\": \"298n\", \"total_otters\": 27}, {\"HAB_ID\": \"298o\", \"total_otters\": 0}, {\"HAB_ID\": \"299n\", \"total_otters\": 14}, {\"HAB_ID\": \"299o\", \"total_otters\": 0}, {\"HAB_ID\": \"300n\", \"total_otters\": 26}, {\"HAB_ID\": \"300o\", \"total_otters\": 0}, {\"HAB_ID\": \"301n\", \"total_otters\": 17}, {\"HAB_ID\": \"301o\", \"total_otters\": 0}, {\"HAB_ID\": \"302n\", \"total_otters\": 21}, {\"HAB_ID\": \"302o\", \"total_otters\": 0}, {\"HAB_ID\": \"303n\", \"total_otters\": 20}, {\"HAB_ID\": \"303o\", \"total_otters\": 0}, {\"HAB_ID\": \"304n\", \"total_otters\": 14}, {\"HAB_ID\": \"304o\", \"total_otters\": 0}, {\"HAB_ID\": \"305n\", \"total_otters\": 16}, {\"HAB_ID\": \"305o\", \"total_otters\": 0}, {\"HAB_ID\": \"306n\", \"total_otters\": 16}, {\"HAB_ID\": \"306o\", \"total_otters\": 0}, {\"HAB_ID\": \"307n\", \"total_otters\": 10}, {\"HAB_ID\": \"307o\", \"total_otters\": 0}, {\"HAB_ID\": \"308n\", \"total_otters\": 19}, {\"HAB_ID\": \"308o\", \"total_otters\": 0}, {\"HAB_ID\": \"309n\", \"total_otters\": 11}, {\"HAB_ID\": \"309o\", \"total_otters\": 0}, {\"HAB_ID\": \"310n\", \"total_otters\": 14}, {\"HAB_ID\": \"310o\", \"total_otters\": 0}, {\"HAB_ID\": \"311n\", \"total_otters\": 22}, {\"HAB_ID\": \"311o\", \"total_otters\": 0}, {\"HAB_ID\": \"312n\", \"total_otters\": 28}, {\"HAB_ID\": \"312o\", \"total_otters\": 0}, {\"HAB_ID\": \"313n\", \"total_otters\": 19}, {\"HAB_ID\": \"313o\", \"total_otters\": 0}, {\"HAB_ID\": \"314n\", \"total_otters\": 16}, {\"HAB_ID\": \"314o\", \"total_otters\": 0}, {\"HAB_ID\": \"315n\", \"total_otters\": 27}, {\"HAB_ID\": \"315o\", \"total_otters\": 0}, {\"HAB_ID\": \"316n\", \"total_otters\": 10}, {\"HAB_ID\": \"316o\", \"total_otters\": 0}, {\"HAB_ID\": \"317n\", \"total_otters\": 9}, {\"HAB_ID\": \"317o\", \"total_otters\": 0}, {\"HAB_ID\": \"318n\", \"total_otters\": 18}, {\"HAB_ID\": \"318o\", \"total_otters\": 1}, {\"HAB_ID\": \"319n\", \"total_otters\": 15}, {\"HAB_ID\": \"319o\", \"total_otters\": 7}, {\"HAB_ID\": \"320n\", \"total_otters\": 2}, {\"HAB_ID\": \"320o\", \"total_otters\": 4}, {\"HAB_ID\": \"321b\", \"total_otters\": 830}, {\"HAB_ID\": \"321n\", \"total_otters\": 0}, {\"HAB_ID\": \"321o\", \"total_otters\": 0}, {\"HAB_ID\": \"322n\", \"total_otters\": 0}, {\"HAB_ID\": \"322o\", \"total_otters\": 0}, {\"HAB_ID\": \"323n\", \"total_otters\": 0}, {\"HAB_ID\": \"323o\", \"total_otters\": 0}, {\"HAB_ID\": \"324n\", \"total_otters\": 4}, {\"HAB_ID\": \"324o\", \"total_otters\": 0}, {\"HAB_ID\": \"325n\", \"total_otters\": 7}, {\"HAB_ID\": \"325o\", \"total_otters\": 0}, {\"HAB_ID\": \"326n\", \"total_otters\": 7}, {\"HAB_ID\": \"326o\", \"total_otters\": 0}, {\"HAB_ID\": \"327n\", \"total_otters\": 10}, {\"HAB_ID\": \"327o\", \"total_otters\": 0}, {\"HAB_ID\": \"328n\", \"total_otters\": 12}, {\"HAB_ID\": \"328o\", \"total_otters\": 2}, {\"HAB_ID\": \"329n\", \"total_otters\": 12}, {\"HAB_ID\": \"329o\", \"total_otters\": 4}, {\"HAB_ID\": \"330n\", \"total_otters\": 17}, {\"HAB_ID\": \"330o\", \"total_otters\": 0}, {\"HAB_ID\": \"331n\", \"total_otters\": 16}, {\"HAB_ID\": \"331o\", \"total_otters\": 0}, {\"HAB_ID\": \"332n\", \"total_otters\": 6}, {\"HAB_ID\": \"332o\", \"total_otters\": 0}, {\"HAB_ID\": \"333n\", \"total_otters\": 6}, {\"HAB_ID\": \"333o\", \"total_otters\": 0}, {\"HAB_ID\": \"334n\", \"total_otters\": 7}, {\"HAB_ID\": \"334o\", \"total_otters\": 1}, {\"HAB_ID\": \"335n\", \"total_otters\": 1}, {\"HAB_ID\": \"335o\", \"total_otters\": 0}, {\"HAB_ID\": \"336n\", \"total_otters\": 6}, {\"HAB_ID\": \"336o\", \"total_otters\": 3}, {\"HAB_ID\": \"337n\", \"total_otters\": 5}, {\"HAB_ID\": \"337o\", \"total_otters\": 2}, {\"HAB_ID\": \"338n\", \"total_otters\": 5}, {\"HAB_ID\": \"338o\", \"total_otters\": 2}, {\"HAB_ID\": \"339n\", \"total_otters\": 4}, {\"HAB_ID\": \"339o\", \"total_otters\": 1}, {\"HAB_ID\": \"340n\", \"total_otters\": 4}, {\"HAB_ID\": \"340o\", \"total_otters\": 1}, {\"HAB_ID\": \"341n\", \"total_otters\": 4}, {\"HAB_ID\": \"341o\", \"total_otters\": 3}, {\"HAB_ID\": \"342n\", \"total_otters\": 3}, {\"HAB_ID\": \"342o\", \"total_otters\": 3}, {\"HAB_ID\": \"343n\", \"total_otters\": 3}, {\"HAB_ID\": \"343o\", \"total_otters\": 2}, {\"HAB_ID\": \"344n\", \"total_otters\": 3}, {\"HAB_ID\": \"344o\", \"total_otters\": 1}, {\"HAB_ID\": \"345n\", \"total_otters\": 3}, {\"HAB_ID\": \"345o\", \"total_otters\": 3}, {\"HAB_ID\": \"346n\", \"total_otters\": 1}, {\"HAB_ID\": \"346o\", \"total_otters\": 3}, {\"HAB_ID\": \"347n\", \"total_otters\": 0}, {\"HAB_ID\": \"347o\", \"total_otters\": 3}, {\"HAB_ID\": \"348n\", \"total_otters\": 0}, {\"HAB_ID\": \"348o\", \"total_otters\": 2}, {\"HAB_ID\": \"349n\", \"total_otters\": 0}, {\"HAB_ID\": \"349o\", \"total_otters\": 0}, {\"HAB_ID\": \"350n\", \"total_otters\": 0}, {\"HAB_ID\": \"350o\", \"total_otters\": 0}, {\"HAB_ID\": \"351n\", \"total_otters\": 0}, {\"HAB_ID\": \"351o\", \"total_otters\": 0}, {\"HAB_ID\": \"352n\", \"total_otters\": 0}, {\"HAB_ID\": \"352o\", \"total_otters\": 0}, {\"HAB_ID\": \"353n\", \"total_otters\": 0}, {\"HAB_ID\": \"353o\", \"total_otters\": 0}, {\"HAB_ID\": \"354n\", \"total_otters\": 0}, {\"HAB_ID\": \"354o\", \"total_otters\": 0}, {\"HAB_ID\": \"355n\", \"total_otters\": 0}, {\"HAB_ID\": \"355o\", \"total_otters\": 0}, {\"HAB_ID\": \"356n\", \"total_otters\": 0}, {\"HAB_ID\": \"356o\", \"total_otters\": 0}, {\"HAB_ID\": \"357n\", \"total_otters\": 6}, {\"HAB_ID\": \"357o\", \"total_otters\": 2}, {\"HAB_ID\": \"358n\", \"total_otters\": 4}, {\"HAB_ID\": \"358o\", \"total_otters\": 2}, {\"HAB_ID\": \"359n\", \"total_otters\": 7}, {\"HAB_ID\": \"359o\", \"total_otters\": 2}, {\"HAB_ID\": \"360n\", \"total_otters\": 15}, {\"HAB_ID\": \"360o\", \"total_otters\": 2}, {\"HAB_ID\": \"361n\", \"total_otters\": 20}, {\"HAB_ID\": \"361o\", \"total_otters\": 2}, {\"HAB_ID\": \"362n\", \"total_otters\": 7}, {\"HAB_ID\": \"362o\", \"total_otters\": 2}, {\"HAB_ID\": \"363n\", \"total_otters\": 20}, {\"HAB_ID\": \"363o\", \"total_otters\": 2}, {\"HAB_ID\": \"364n\", \"total_otters\": 23}, {\"HAB_ID\": \"364o\", \"total_otters\": 2}, {\"HAB_ID\": \"365n\", \"total_otters\": 24}, {\"HAB_ID\": \"365o\", \"total_otters\": 2}, {\"HAB_ID\": \"366n\", \"total_otters\": 20}, {\"HAB_ID\": \"366o\", \"total_otters\": 2}, {\"HAB_ID\": \"367n\", \"total_otters\": 20}, {\"HAB_ID\": \"367o\", \"total_otters\": 1}, {\"HAB_ID\": \"368n\", \"total_otters\": 21}, {\"HAB_ID\": \"368o\", \"total_otters\": 2}, {\"HAB_ID\": \"369n\", \"total_otters\": 33}, {\"HAB_ID\": \"369o\", \"total_otters\": 0}, {\"HAB_ID\": \"370n\", \"total_otters\": 46}, {\"HAB_ID\": \"370o\", \"total_otters\": 0}, {\"HAB_ID\": \"371n\", \"total_otters\": 60}, {\"HAB_ID\": \"371o\", \"total_otters\": 0}, {\"HAB_ID\": \"372n\", \"total_otters\": 89}, {\"HAB_ID\": \"372o\", \"total_otters\": 0}, {\"HAB_ID\": \"373n\", \"total_otters\": 86}, {\"HAB_ID\": \"373o\", \"total_otters\": 0}, {\"HAB_ID\": \"374n\", \"total_otters\": 114}, {\"HAB_ID\": \"374o\", \"total_otters\": 0}, {\"HAB_ID\": \"375n\", \"total_otters\": 103}, {\"HAB_ID\": \"375o\", \"total_otters\": 0}, {\"HAB_ID\": \"376n\", \"total_otters\": 138}, {\"HAB_ID\": \"376o\", \"total_otters\": 0}, {\"HAB_ID\": \"377n\", \"total_otters\": 129}, {\"HAB_ID\": \"377o\", \"total_otters\": 0}, {\"HAB_ID\": \"378n\", \"total_otters\": 143}, {\"HAB_ID\": \"378o\", \"total_otters\": 0}, {\"HAB_ID\": \"379n\", \"total_otters\": 54}, {\"HAB_ID\": \"379o\", \"total_otters\": 0}, {\"HAB_ID\": \"380n\", \"total_otters\": 49}, {\"HAB_ID\": \"380o\", \"total_otters\": 0}, {\"HAB_ID\": \"381n\", \"total_otters\": 89}, {\"HAB_ID\": \"381o\", \"total_otters\": 0}, {\"HAB_ID\": \"382n\", \"total_otters\": 50}, {\"HAB_ID\": \"382o\", \"total_otters\": 0}, {\"HAB_ID\": \"383n\", \"total_otters\": 108}, {\"HAB_ID\": \"383o\", \"total_otters\": 0}, {\"HAB_ID\": \"384n\", \"total_otters\": 106}, {\"HAB_ID\": \"384o\", \"total_otters\": 0}, {\"HAB_ID\": \"385n\", \"total_otters\": 142}, {\"HAB_ID\": \"385o\", \"total_otters\": 0}, {\"HAB_ID\": \"386n\", \"total_otters\": 103}, {\"HAB_ID\": \"386o\", \"total_otters\": 0}, {\"HAB_ID\": \"387n\", \"total_otters\": 133}, {\"HAB_ID\": \"387o\", \"total_otters\": 0}, {\"HAB_ID\": \"388n\", \"total_otters\": 98}, {\"HAB_ID\": \"388o\", \"total_otters\": 0}, {\"HAB_ID\": \"389n\", \"total_otters\": 112}, {\"HAB_ID\": \"389o\", \"total_otters\": 0}, {\"HAB_ID\": \"390n\", \"total_otters\": 126}, {\"HAB_ID\": \"390o\", \"total_otters\": 0}, {\"HAB_ID\": \"391n\", \"total_otters\": 97}, {\"HAB_ID\": \"391o\", \"total_otters\": 0}, {\"HAB_ID\": \"392n\", \"total_otters\": 105}, {\"HAB_ID\": \"392o\", \"total_otters\": 0}, {\"HAB_ID\": \"393n\", \"total_otters\": 106}, {\"HAB_ID\": \"393o\", \"total_otters\": 0}, {\"HAB_ID\": \"394n\", \"total_otters\": 145}, {\"HAB_ID\": \"394o\", \"total_otters\": 0}, {\"HAB_ID\": \"395n\", \"total_otters\": 142}, {\"HAB_ID\": \"395o\", \"total_otters\": 0}, {\"HAB_ID\": \"396n\", \"total_otters\": 236}, {\"HAB_ID\": \"396o\", \"total_otters\": 0}, {\"HAB_ID\": \"397n\", \"total_otters\": 116}, {\"HAB_ID\": \"397o\", \"total_otters\": 0}, {\"HAB_ID\": \"398n\", \"total_otters\": 133}, {\"HAB_ID\": \"398o\", \"total_otters\": 0}, {\"HAB_ID\": \"399n\", \"total_otters\": 116}, {\"HAB_ID\": \"399o\", \"total_otters\": 0}, {\"HAB_ID\": \"400n\", \"total_otters\": 29}, {\"HAB_ID\": \"400o\", \"total_otters\": 0}, {\"HAB_ID\": \"401n\", \"total_otters\": 195}, {\"HAB_ID\": \"401o\", \"total_otters\": 0}, {\"HAB_ID\": \"402n\", \"total_otters\": 129}, {\"HAB_ID\": \"402o\", \"total_otters\": 0}, {\"HAB_ID\": \"403n\", \"total_otters\": 168}, {\"HAB_ID\": \"403o\", \"total_otters\": 0}, {\"HAB_ID\": \"404n\", \"total_otters\": 221}, {\"HAB_ID\": \"404o\", \"total_otters\": 0}, {\"HAB_ID\": \"405n\", \"total_otters\": 182}, {\"HAB_ID\": \"405o\", \"total_otters\": 1}, {\"HAB_ID\": \"406n\", \"total_otters\": 242}, {\"HAB_ID\": \"406o\", \"total_otters\": 2}, {\"HAB_ID\": \"407n\", \"total_otters\": 202}, {\"HAB_ID\": \"407o\", \"total_otters\": 0}, {\"HAB_ID\": \"408n\", \"total_otters\": 214}, {\"HAB_ID\": \"408o\", \"total_otters\": 0}, {\"HAB_ID\": \"409n\", \"total_otters\": 185}, {\"HAB_ID\": \"409o\", \"total_otters\": 0}, {\"HAB_ID\": \"410n\", \"total_otters\": 142}, {\"HAB_ID\": \"410o\", \"total_otters\": 0}, {\"HAB_ID\": \"411n\", \"total_otters\": 121}, {\"HAB_ID\": \"411o\", \"total_otters\": 0}, {\"HAB_ID\": \"412n\", \"total_otters\": 112}, {\"HAB_ID\": \"412o\", \"total_otters\": 0}, {\"HAB_ID\": \"413n\", \"total_otters\": 86}, {\"HAB_ID\": \"413o\", \"total_otters\": 0}, {\"HAB_ID\": \"414n\", \"total_otters\": 115}, {\"HAB_ID\": \"414o\", \"total_otters\": 0}, {\"HAB_ID\": \"415n\", \"total_otters\": 94}, {\"HAB_ID\": \"415o\", \"total_otters\": 0}, {\"HAB_ID\": \"416n\", \"total_otters\": 63}, {\"HAB_ID\": \"416o\", \"total_otters\": 0}, {\"HAB_ID\": \"417n\", \"total_otters\": 156}, {\"HAB_ID\": \"417o\", \"total_otters\": 0}, {\"HAB_ID\": \"418n\", \"total_otters\": 302}, {\"HAB_ID\": \"418o\", \"total_otters\": 0}, {\"HAB_ID\": \"419n\", \"total_otters\": 137}, {\"HAB_ID\": \"419o\", \"total_otters\": 0}, {\"HAB_ID\": \"420n\", \"total_otters\": 218}, {\"HAB_ID\": \"420o\", \"total_otters\": 0}, {\"HAB_ID\": \"421n\", \"total_otters\": 81}, {\"HAB_ID\": \"421o\", \"total_otters\": 0}, {\"HAB_ID\": \"422n\", \"total_otters\": 235}, {\"HAB_ID\": \"422o\", \"total_otters\": 0}, {\"HAB_ID\": \"423n\", \"total_otters\": 131}, {\"HAB_ID\": \"423o\", \"total_otters\": 0}, {\"HAB_ID\": \"424n\", \"total_otters\": 190}, {\"HAB_ID\": \"424o\", \"total_otters\": 0}, {\"HAB_ID\": \"425n\", \"total_otters\": 137}, {\"HAB_ID\": \"425o\", \"total_otters\": 0}, {\"HAB_ID\": \"426n\", \"total_otters\": 167}, {\"HAB_ID\": \"426o\", \"total_otters\": 0}, {\"HAB_ID\": \"427n\", \"total_otters\": 98}, {\"HAB_ID\": \"427o\", \"total_otters\": 0}, {\"HAB_ID\": \"428n\", \"total_otters\": 83}, {\"HAB_ID\": \"428o\", \"total_otters\": 0}, {\"HAB_ID\": \"429n\", \"total_otters\": 79}, {\"HAB_ID\": \"429o\", \"total_otters\": 0}, {\"HAB_ID\": \"430n\", \"total_otters\": 51}, {\"HAB_ID\": \"430o\", \"total_otters\": 0}, {\"HAB_ID\": \"431n\", \"total_otters\": 46}, {\"HAB_ID\": \"431o\", \"total_otters\": 0}, {\"HAB_ID\": \"432n\", \"total_otters\": 45}, {\"HAB_ID\": \"432o\", \"total_otters\": 0}, {\"HAB_ID\": \"433n\", \"total_otters\": 23}, {\"HAB_ID\": \"433o\", \"total_otters\": 0}, {\"HAB_ID\": \"434n\", \"total_otters\": 40}, {\"HAB_ID\": \"434o\", \"total_otters\": 0}, {\"HAB_ID\": \"435n\", \"total_otters\": 54}, {\"HAB_ID\": \"435o\", \"total_otters\": 0}, {\"HAB_ID\": \"436n\", \"total_otters\": 117}, {\"HAB_ID\": \"436o\", \"total_otters\": 0}, {\"HAB_ID\": \"437n\", \"total_otters\": 48}, {\"HAB_ID\": \"437o\", \"total_otters\": 0}, {\"HAB_ID\": \"438n\", \"total_otters\": 61}, {\"HAB_ID\": \"438o\", \"total_otters\": 0}, {\"HAB_ID\": \"439n\", \"total_otters\": 32}, {\"HAB_ID\": \"439o\", \"total_otters\": 0}, {\"HAB_ID\": \"440n\", \"total_otters\": 128}, {\"HAB_ID\": \"440o\", \"total_otters\": 2}, {\"HAB_ID\": \"441n\", \"total_otters\": 154}, {\"HAB_ID\": \"441o\", \"total_otters\": 4}, {\"HAB_ID\": \"442n\", \"total_otters\": 102}, {\"HAB_ID\": \"442o\", \"total_otters\": 11}, {\"HAB_ID\": \"443n\", \"total_otters\": 70}, {\"HAB_ID\": \"443o\", \"total_otters\": 1}, {\"HAB_ID\": \"444n\", \"total_otters\": 71}, {\"HAB_ID\": \"444o\", \"total_otters\": 11}, {\"HAB_ID\": \"445n\", \"total_otters\": 125}, {\"HAB_ID\": \"445o\", \"total_otters\": 6}, {\"HAB_ID\": \"446n\", \"total_otters\": 105}, {\"HAB_ID\": \"446o\", \"total_otters\": 9}, {\"HAB_ID\": \"447n\", \"total_otters\": 73}, {\"HAB_ID\": \"447o\", \"total_otters\": 1}, {\"HAB_ID\": \"448n\", \"total_otters\": 96}, {\"HAB_ID\": \"448o\", \"total_otters\": 10}, {\"HAB_ID\": \"449n\", \"total_otters\": 54}, {\"HAB_ID\": \"449o\", \"total_otters\": 18}, {\"HAB_ID\": \"450n\", \"total_otters\": 226}, {\"HAB_ID\": \"450o\", \"total_otters\": 3}, {\"HAB_ID\": \"451n\", \"total_otters\": 159}, {\"HAB_ID\": \"451o\", \"total_otters\": 8}, {\"HAB_ID\": \"452n\", \"total_otters\": 104}, {\"HAB_ID\": \"452o\", \"total_otters\": 10}, {\"HAB_ID\": \"453n\", \"total_otters\": 87}, {\"HAB_ID\": \"453o\", \"total_otters\": 10}, {\"HAB_ID\": \"454n\", \"total_otters\": 46}, {\"HAB_ID\": \"454o\", \"total_otters\": 6}, {\"HAB_ID\": \"455n\", \"total_otters\": 79}, {\"HAB_ID\": \"455o\", \"total_otters\": 11}, {\"HAB_ID\": \"456n\", \"total_otters\": 62}, {\"HAB_ID\": \"456o\", \"total_otters\": 10}, {\"HAB_ID\": \"457n\", \"total_otters\": 87}, {\"HAB_ID\": \"457o\", \"total_otters\": 11}, {\"HAB_ID\": \"458n\", \"total_otters\": 106}, {\"HAB_ID\": \"458o\", \"total_otters\": 11}, {\"HAB_ID\": \"459n\", \"total_otters\": 59}, {\"HAB_ID\": \"459o\", \"total_otters\": 9}, {\"HAB_ID\": \"460n\", \"total_otters\": 50}, {\"HAB_ID\": \"460o\", \"total_otters\": 18}, {\"HAB_ID\": \"461n\", \"total_otters\": 27}, {\"HAB_ID\": \"461o\", \"total_otters\": 9}, {\"HAB_ID\": \"462n\", \"total_otters\": 24}, {\"HAB_ID\": \"462o\", \"total_otters\": 6}, {\"HAB_ID\": \"463n\", \"total_otters\": 37}, {\"HAB_ID\": \"463o\", \"total_otters\": 4}, {\"HAB_ID\": \"464n\", \"total_otters\": 96}, {\"HAB_ID\": \"464o\", \"total_otters\": 3}, {\"HAB_ID\": \"465n\", \"total_otters\": 199}, {\"HAB_ID\": \"465o\", \"total_otters\": 0}, {\"HAB_ID\": \"466n\", \"total_otters\": 112}, {\"HAB_ID\": \"466o\", \"total_otters\": 1}, {\"HAB_ID\": \"467n\", \"total_otters\": 150}, {\"HAB_ID\": \"467o\", \"total_otters\": 0}, {\"HAB_ID\": \"468n\", \"total_otters\": 133}, {\"HAB_ID\": \"468o\", \"total_otters\": 0}, {\"HAB_ID\": \"469n\", \"total_otters\": 133}, {\"HAB_ID\": \"469o\", \"total_otters\": 0}, {\"HAB_ID\": \"470n\", \"total_otters\": 74}, {\"HAB_ID\": \"470o\", \"total_otters\": 0}, {\"HAB_ID\": \"471n\", \"total_otters\": 45}, {\"HAB_ID\": \"471o\", \"total_otters\": 0}, {\"HAB_ID\": \"472n\", \"total_otters\": 41}, {\"HAB_ID\": \"472o\", \"total_otters\": 0}, {\"HAB_ID\": \"473n\", \"total_otters\": 23}, {\"HAB_ID\": \"473o\", \"total_otters\": 0}, {\"HAB_ID\": \"474n\", \"total_otters\": 43}, {\"HAB_ID\": \"474o\", \"total_otters\": 0}, {\"HAB_ID\": \"475n\", \"total_otters\": 55}, {\"HAB_ID\": \"475o\", \"total_otters\": 0}, {\"HAB_ID\": \"476n\", \"total_otters\": 56}, {\"HAB_ID\": \"476o\", \"total_otters\": 0}, {\"HAB_ID\": \"477n\", \"total_otters\": 74}, {\"HAB_ID\": \"477o\", \"total_otters\": 0}, {\"HAB_ID\": \"478n\", \"total_otters\": 83}, {\"HAB_ID\": \"478o\", \"total_otters\": 0}, {\"HAB_ID\": \"479n\", \"total_otters\": 61}, {\"HAB_ID\": \"479o\", \"total_otters\": 0}, {\"HAB_ID\": \"480n\", \"total_otters\": 64}, {\"HAB_ID\": \"480o\", \"total_otters\": 0}, {\"HAB_ID\": \"481n\", \"total_otters\": 54}, {\"HAB_ID\": \"481o\", \"total_otters\": 0}, {\"HAB_ID\": \"482n\", \"total_otters\": 77}, {\"HAB_ID\": \"482o\", \"total_otters\": 0}, {\"HAB_ID\": \"483n\", \"total_otters\": 56}, {\"HAB_ID\": \"483o\", \"total_otters\": 0}, {\"HAB_ID\": \"484n\", \"total_otters\": 66}, {\"HAB_ID\": \"484o\", \"total_otters\": 0}, {\"HAB_ID\": \"485n\", \"total_otters\": 31}, {\"HAB_ID\": \"485o\", \"total_otters\": 0}, {\"HAB_ID\": \"486n\", \"total_otters\": 14}, {\"HAB_ID\": \"486o\", \"total_otters\": 0}, {\"HAB_ID\": \"487n\", \"total_otters\": 15}, {\"HAB_ID\": \"487o\", \"total_otters\": 0}, {\"HAB_ID\": \"488n\", \"total_otters\": 34}, {\"HAB_ID\": \"488o\", \"total_otters\": 0}, {\"HAB_ID\": \"489n\", \"total_otters\": 49}, {\"HAB_ID\": \"489o\", \"total_otters\": 0}, {\"HAB_ID\": \"490n\", \"total_otters\": 51}, {\"HAB_ID\": \"490o\", \"total_otters\": 0}, {\"HAB_ID\": \"491n\", \"total_otters\": 52}, {\"HAB_ID\": \"491o\", \"total_otters\": 0}, {\"HAB_ID\": \"492n\", \"total_otters\": 43}, {\"HAB_ID\": \"492o\", \"total_otters\": 0}, {\"HAB_ID\": \"493n\", \"total_otters\": 34}, {\"HAB_ID\": \"493o\", \"total_otters\": 0}, {\"HAB_ID\": \"494n\", \"total_otters\": 39}, {\"HAB_ID\": \"494o\", \"total_otters\": 0}, {\"HAB_ID\": \"495n\", \"total_otters\": 38}, {\"HAB_ID\": \"495o\", \"total_otters\": 0}, {\"HAB_ID\": \"496n\", \"total_otters\": 39}, {\"HAB_ID\": \"496o\", \"total_otters\": 0}, {\"HAB_ID\": \"497n\", \"total_otters\": 31}, {\"HAB_ID\": \"497o\", \"total_otters\": 0}, {\"HAB_ID\": \"498n\", \"total_otters\": 10}, {\"HAB_ID\": \"498o\", \"total_otters\": 0}, {\"HAB_ID\": \"499n\", \"total_otters\": 0}, {\"HAB_ID\": \"499o\", \"total_otters\": 0}, {\"HAB_ID\": \"500n\", \"total_otters\": 18}, {\"HAB_ID\": \"500o\", \"total_otters\": 0}, {\"HAB_ID\": \"501n\", \"total_otters\": 25}, {\"HAB_ID\": \"501o\", \"total_otters\": 0}, {\"HAB_ID\": \"502n\", \"total_otters\": 31}, {\"HAB_ID\": \"502o\", \"total_otters\": 0}, {\"HAB_ID\": \"503n\", \"total_otters\": 52}, {\"HAB_ID\": \"503o\", \"total_otters\": 0}, {\"HAB_ID\": \"504n\", \"total_otters\": 41}, {\"HAB_ID\": \"504o\", \"total_otters\": 0}, {\"HAB_ID\": \"505n\", \"total_otters\": 61}, {\"HAB_ID\": \"505o\", \"total_otters\": 0}, {\"HAB_ID\": \"506n\", \"total_otters\": 54}, {\"HAB_ID\": \"506o\", \"total_otters\": 0}, {\"HAB_ID\": \"507n\", \"total_otters\": 38}, {\"HAB_ID\": \"507o\", \"total_otters\": 0}, {\"HAB_ID\": \"508n\", \"total_otters\": 39}, {\"HAB_ID\": \"508o\", \"total_otters\": 0}, {\"HAB_ID\": \"509n\", \"total_otters\": 37}, {\"HAB_ID\": \"509o\", \"total_otters\": 0}, {\"HAB_ID\": \"510n\", \"total_otters\": 57}, {\"HAB_ID\": \"510o\", \"total_otters\": 0}, {\"HAB_ID\": \"511n\", \"total_otters\": 44}, {\"HAB_ID\": \"511o\", \"total_otters\": 0}, {\"HAB_ID\": \"512n\", \"total_otters\": 45}, {\"HAB_ID\": \"512o\", \"total_otters\": 0}, {\"HAB_ID\": \"513n\", \"total_otters\": 43}, {\"HAB_ID\": \"513o\", \"total_otters\": 0}, {\"HAB_ID\": \"514n\", \"total_otters\": 27}, {\"HAB_ID\": \"514o\", \"total_otters\": 0}, {\"HAB_ID\": \"515n\", \"total_otters\": 35}, {\"HAB_ID\": \"515o\", \"total_otters\": 0}, {\"HAB_ID\": \"516n\", \"total_otters\": 17}, {\"HAB_ID\": \"516o\", \"total_otters\": 0}, {\"HAB_ID\": \"517n\", \"total_otters\": 14}, {\"HAB_ID\": \"517o\", \"total_otters\": 0}, {\"HAB_ID\": \"518n\", \"total_otters\": 0}, {\"HAB_ID\": \"518o\", \"total_otters\": 0}, {\"HAB_ID\": \"519n\", \"total_otters\": 22}, {\"HAB_ID\": \"519o\", \"total_otters\": 0}, {\"HAB_ID\": \"520n\", \"total_otters\": 8}, {\"HAB_ID\": \"520o\", \"total_otters\": 0}, {\"HAB_ID\": \"521n\", \"total_otters\": 5}, {\"HAB_ID\": \"521o\", \"total_otters\": 0}, {\"HAB_ID\": \"522n\", \"total_otters\": 16}, {\"HAB_ID\": \"522o\", \"total_otters\": 0}, {\"HAB_ID\": \"523n\", \"total_otters\": 15}, {\"HAB_ID\": \"523o\", \"total_otters\": 0}, {\"HAB_ID\": \"524n\", \"total_otters\": 7}, {\"HAB_ID\": \"524o\", \"total_otters\": 0}, {\"HAB_ID\": \"525n\", \"total_otters\": 1}, {\"HAB_ID\": \"525o\", \"total_otters\": 0}, {\"HAB_ID\": \"526n\", \"total_otters\": 4}, {\"HAB_ID\": \"526o\", \"total_otters\": 0}, {\"HAB_ID\": \"527n\", \"total_otters\": 7}, {\"HAB_ID\": \"527o\", \"total_otters\": 0}, {\"HAB_ID\": \"528n\", \"total_otters\": 15}, {\"HAB_ID\": \"528o\", \"total_otters\": 0}, {\"HAB_ID\": \"529n\", \"total_otters\": 28}, {\"HAB_ID\": \"529o\", \"total_otters\": 0}, {\"HAB_ID\": \"530n\", \"total_otters\": 25}, {\"HAB_ID\": \"530o\", \"total_otters\": 0}, {\"HAB_ID\": \"531n\", \"total_otters\": 31}, {\"HAB_ID\": \"531o\", \"total_otters\": 0}, {\"HAB_ID\": \"532n\", \"total_otters\": 37}, {\"HAB_ID\": \"532o\", \"total_otters\": 0}, {\"HAB_ID\": \"533n\", \"total_otters\": 42}, {\"HAB_ID\": \"533o\", \"total_otters\": 0}, {\"HAB_ID\": \"534n\", \"total_otters\": 43}, {\"HAB_ID\": \"534o\", \"total_otters\": 0}, {\"HAB_ID\": \"535n\", \"total_otters\": 62}, {\"HAB_ID\": \"535o\", \"total_otters\": 0}, {\"HAB_ID\": \"536n\", \"total_otters\": 88}, {\"HAB_ID\": \"536o\", \"total_otters\": 0}, {\"HAB_ID\": \"537n\", \"total_otters\": 70}, {\"HAB_ID\": \"537o\", \"total_otters\": 0}, {\"HAB_ID\": \"538n\", \"total_otters\": 62}, {\"HAB_ID\": \"538o\", \"total_otters\": 0}, {\"HAB_ID\": \"539n\", \"total_otters\": 75}, {\"HAB_ID\": \"539o\", \"total_otters\": 0}, {\"HAB_ID\": \"540n\", \"total_otters\": 77}, {\"HAB_ID\": \"540o\", \"total_otters\": 0}, {\"HAB_ID\": \"541n\", \"total_otters\": 38}, {\"HAB_ID\": \"541o\", \"total_otters\": 0}, {\"HAB_ID\": \"542n\", \"total_otters\": 0}, {\"HAB_ID\": \"542o\", \"total_otters\": 0}, {\"HAB_ID\": \"543n\", \"total_otters\": 1}, {\"HAB_ID\": \"543o\", \"total_otters\": 0}, {\"HAB_ID\": \"544n\", \"total_otters\": 0}, {\"HAB_ID\": \"544o\", \"total_otters\": 0}, {\"HAB_ID\": \"545n\", \"total_otters\": 17}, {\"HAB_ID\": \"545o\", \"total_otters\": 0}, {\"HAB_ID\": \"546n\", \"total_otters\": 53}, {\"HAB_ID\": \"546o\", \"total_otters\": 0}, {\"HAB_ID\": \"547n\", \"total_otters\": 45}, {\"HAB_ID\": \"547o\", \"total_otters\": 0}, {\"HAB_ID\": \"548n\", \"total_otters\": 62}, {\"HAB_ID\": \"548o\", \"total_otters\": 0}, {\"HAB_ID\": \"549n\", \"total_otters\": 87}, {\"HAB_ID\": \"549o\", \"total_otters\": 0}, {\"HAB_ID\": \"550n\", \"total_otters\": 67}, {\"HAB_ID\": \"550o\", \"total_otters\": 0}, {\"HAB_ID\": \"551n\", \"total_otters\": 65}, {\"HAB_ID\": \"551o\", \"total_otters\": 0}, {\"HAB_ID\": \"552n\", \"total_otters\": 53}, {\"HAB_ID\": \"552o\", \"total_otters\": 0}, {\"HAB_ID\": \"553n\", \"total_otters\": 48}, {\"HAB_ID\": \"553o\", \"total_otters\": 0}, {\"HAB_ID\": \"554n\", \"total_otters\": 38}, {\"HAB_ID\": \"554o\", \"total_otters\": 0}, {\"HAB_ID\": \"555n\", \"total_otters\": 32}, {\"HAB_ID\": \"555o\", \"total_otters\": 0}, {\"HAB_ID\": \"556n\", \"total_otters\": 27}, {\"HAB_ID\": \"556o\", \"total_otters\": 0}, {\"HAB_ID\": \"557n\", \"total_otters\": 39}, {\"HAB_ID\": \"557o\", \"total_otters\": 0}, {\"HAB_ID\": \"558n\", \"total_otters\": 73}, {\"HAB_ID\": \"558o\", \"total_otters\": 0}, {\"HAB_ID\": \"559n\", \"total_otters\": 76}, {\"HAB_ID\": \"559o\", \"total_otters\": 0}, {\"HAB_ID\": \"560n\", \"total_otters\": 68}, {\"HAB_ID\": \"560o\", \"total_otters\": 0}, {\"HAB_ID\": \"561n\", \"total_otters\": 86}, {\"HAB_ID\": \"561o\", \"total_otters\": 0}, {\"HAB_ID\": \"562n\", \"total_otters\": 69}, {\"HAB_ID\": \"562o\", \"total_otters\": 0}, {\"HAB_ID\": \"563n\", \"total_otters\": 84}, {\"HAB_ID\": \"563o\", \"total_otters\": 0}, {\"HAB_ID\": \"564n\", \"total_otters\": 82}, {\"HAB_ID\": \"564o\", \"total_otters\": 0}, {\"HAB_ID\": \"565n\", \"total_otters\": 101}, {\"HAB_ID\": \"565o\", \"total_otters\": 0}, {\"HAB_ID\": \"566n\", \"total_otters\": 121}, {\"HAB_ID\": \"566o\", \"total_otters\": 0}, {\"HAB_ID\": \"567n\", \"total_otters\": 136}, {\"HAB_ID\": \"567o\", \"total_otters\": 0}, {\"HAB_ID\": \"568n\", \"total_otters\": 77}, {\"HAB_ID\": \"568o\", \"total_otters\": 0}, {\"HAB_ID\": \"569n\", \"total_otters\": 89}, {\"HAB_ID\": \"569o\", \"total_otters\": 0}, {\"HAB_ID\": \"570n\", \"total_otters\": 146}, {\"HAB_ID\": \"570o\", \"total_otters\": 0}, {\"HAB_ID\": \"571n\", \"total_otters\": 117}, {\"HAB_ID\": \"571o\", \"total_otters\": 0}, {\"HAB_ID\": \"572n\", \"total_otters\": 134}, {\"HAB_ID\": \"572o\", \"total_otters\": 0}, {\"HAB_ID\": \"573n\", \"total_otters\": 104}, {\"HAB_ID\": \"573o\", \"total_otters\": 0}, {\"HAB_ID\": \"574n\", \"total_otters\": 179}, {\"HAB_ID\": \"574o\", \"total_otters\": 0}, {\"HAB_ID\": \"575n\", \"total_otters\": 107}, {\"HAB_ID\": \"575o\", \"total_otters\": 0}, {\"HAB_ID\": \"576n\", \"total_otters\": 163}, {\"HAB_ID\": \"576o\", \"total_otters\": 0}, {\"HAB_ID\": \"577n\", \"total_otters\": 152}, {\"HAB_ID\": \"577o\", \"total_otters\": 0}, {\"HAB_ID\": \"578n\", \"total_otters\": 105}, {\"HAB_ID\": \"578o\", \"total_otters\": 0}, {\"HAB_ID\": \"579n\", \"total_otters\": 103}, {\"HAB_ID\": \"579o\", \"total_otters\": 0}, {\"HAB_ID\": \"580n\", \"total_otters\": 52}, {\"HAB_ID\": \"580o\", \"total_otters\": 0}, {\"HAB_ID\": \"581n\", \"total_otters\": 70}, {\"HAB_ID\": \"581o\", \"total_otters\": 0}, {\"HAB_ID\": \"582n\", \"total_otters\": 52}, {\"HAB_ID\": \"582o\", \"total_otters\": 0}, {\"HAB_ID\": \"583n\", \"total_otters\": 48}, {\"HAB_ID\": \"583o\", \"total_otters\": 0}, {\"HAB_ID\": \"584n\", \"total_otters\": 58}, {\"HAB_ID\": \"584o\", \"total_otters\": 0}, {\"HAB_ID\": \"585n\", \"total_otters\": 96}, {\"HAB_ID\": \"585o\", \"total_otters\": 0}, {\"HAB_ID\": \"586n\", \"total_otters\": 146}, {\"HAB_ID\": \"586o\", \"total_otters\": 0}, {\"HAB_ID\": \"587n\", \"total_otters\": 154}, {\"HAB_ID\": \"587o\", \"total_otters\": 0}, {\"HAB_ID\": \"588n\", \"total_otters\": 100}, {\"HAB_ID\": \"588o\", \"total_otters\": 0}, {\"HAB_ID\": \"589n\", \"total_otters\": 67}, {\"HAB_ID\": \"589o\", \"total_otters\": 0}, {\"HAB_ID\": \"590n\", \"total_otters\": 105}, {\"HAB_ID\": \"590o\", \"total_otters\": 0}, {\"HAB_ID\": \"591n\", \"total_otters\": 60}, {\"HAB_ID\": \"591o\", \"total_otters\": 0}, {\"HAB_ID\": \"592n\", \"total_otters\": 77}, {\"HAB_ID\": \"592o\", \"total_otters\": 0}, {\"HAB_ID\": \"593n\", \"total_otters\": 116}, {\"HAB_ID\": \"593o\", \"total_otters\": 0}, {\"HAB_ID\": \"594n\", \"total_otters\": 115}, {\"HAB_ID\": \"594o\", \"total_otters\": 0}, {\"HAB_ID\": \"595n\", \"total_otters\": 94}, {\"HAB_ID\": \"595o\", \"total_otters\": 0}, {\"HAB_ID\": \"596n\", \"total_otters\": 69}, {\"HAB_ID\": \"596o\", \"total_otters\": 0}, {\"HAB_ID\": \"597n\", \"total_otters\": 58}, {\"HAB_ID\": \"597o\", \"total_otters\": 0}, {\"HAB_ID\": \"598n\", \"total_otters\": 89}, {\"HAB_ID\": \"598o\", \"total_otters\": 0}, {\"HAB_ID\": \"599n\", \"total_otters\": 94}, {\"HAB_ID\": \"599o\", \"total_otters\": 0}, {\"HAB_ID\": \"600n\", \"total_otters\": 89}, {\"HAB_ID\": \"600o\", \"total_otters\": 0}, {\"HAB_ID\": \"601n\", \"total_otters\": 110}, {\"HAB_ID\": \"601o\", \"total_otters\": 0}, {\"HAB_ID\": \"602n\", \"total_otters\": 113}, {\"HAB_ID\": \"602o\", \"total_otters\": 0}, {\"HAB_ID\": \"603n\", \"total_otters\": 122}, {\"HAB_ID\": \"603o\", \"total_otters\": 0}, {\"HAB_ID\": \"604n\", \"total_otters\": 136}, {\"HAB_ID\": \"604o\", \"total_otters\": 0}, {\"HAB_ID\": \"605n\", \"total_otters\": 68}, {\"HAB_ID\": \"605o\", \"total_otters\": 0}, {\"HAB_ID\": \"606n\", \"total_otters\": 91}, {\"HAB_ID\": \"606o\", \"total_otters\": 1}, {\"HAB_ID\": \"607n\", \"total_otters\": 90}, {\"HAB_ID\": \"607o\", \"total_otters\": 2}, {\"HAB_ID\": \"608n\", \"total_otters\": 89}, {\"HAB_ID\": \"608o\", \"total_otters\": 4}, {\"HAB_ID\": \"609n\", \"total_otters\": 73}, {\"HAB_ID\": \"609o\", \"total_otters\": 2}, {\"HAB_ID\": \"610n\", \"total_otters\": 70}, {\"HAB_ID\": \"610o\", \"total_otters\": 4}, {\"HAB_ID\": \"611n\", \"total_otters\": 70}, {\"HAB_ID\": \"611o\", \"total_otters\": 4}, {\"HAB_ID\": \"612n\", \"total_otters\": 72}, {\"HAB_ID\": \"612o\", \"total_otters\": 4}, {\"HAB_ID\": \"613n\", \"total_otters\": 62}, {\"HAB_ID\": \"613o\", \"total_otters\": 4}, {\"HAB_ID\": \"614n\", \"total_otters\": 75}, {\"HAB_ID\": \"614o\", \"total_otters\": 2}, {\"HAB_ID\": \"615n\", \"total_otters\": 77}, {\"HAB_ID\": \"615o\", \"total_otters\": 4}, {\"HAB_ID\": \"616n\", \"total_otters\": 56}, {\"HAB_ID\": \"616o\", \"total_otters\": 2}, {\"HAB_ID\": \"617n\", \"total_otters\": 49}, {\"HAB_ID\": \"617o\", \"total_otters\": 0}, {\"HAB_ID\": \"618n\", \"total_otters\": 84}, {\"HAB_ID\": \"618o\", \"total_otters\": 4}, {\"HAB_ID\": \"619n\", \"total_otters\": 67}, {\"HAB_ID\": \"619o\", \"total_otters\": 4}, {\"HAB_ID\": \"620n\", \"total_otters\": 68}, {\"HAB_ID\": \"620o\", \"total_otters\": 3}, {\"HAB_ID\": \"621n\", \"total_otters\": 74}, {\"HAB_ID\": \"621o\", \"total_otters\": 4}, {\"HAB_ID\": \"622n\", \"total_otters\": 61}, {\"HAB_ID\": \"622o\", \"total_otters\": 5}, {\"HAB_ID\": \"623n\", \"total_otters\": 57}, {\"HAB_ID\": \"623o\", \"total_otters\": 5}, {\"HAB_ID\": \"624n\", \"total_otters\": 78}, {\"HAB_ID\": \"624o\", \"total_otters\": 6}, {\"HAB_ID\": \"625n\", \"total_otters\": 59}, {\"HAB_ID\": \"625o\", \"total_otters\": 4}, {\"HAB_ID\": \"626n\", \"total_otters\": 87}, {\"HAB_ID\": \"626o\", \"total_otters\": 7}, {\"HAB_ID\": \"627n\", \"total_otters\": 80}, {\"HAB_ID\": \"627o\", \"total_otters\": 9}, {\"HAB_ID\": \"628n\", \"total_otters\": 83}, {\"HAB_ID\": \"628o\", \"total_otters\": 5}, {\"HAB_ID\": \"629n\", \"total_otters\": 87}, {\"HAB_ID\": \"629o\", \"total_otters\": 2}, {\"HAB_ID\": \"630n\", \"total_otters\": 80}, {\"HAB_ID\": \"630o\", \"total_otters\": 1}, {\"HAB_ID\": \"631n\", \"total_otters\": 119}, {\"HAB_ID\": \"631o\", \"total_otters\": 1}, {\"HAB_ID\": \"632n\", \"total_otters\": 61}, {\"HAB_ID\": \"632o\", \"total_otters\": 0}, {\"HAB_ID\": \"633n\", \"total_otters\": 148}, {\"HAB_ID\": \"633o\", \"total_otters\": 0}, {\"HAB_ID\": \"634n\", \"total_otters\": 61}, {\"HAB_ID\": \"634o\", \"total_otters\": 0}, {\"HAB_ID\": \"635n\", \"total_otters\": 151}, {\"HAB_ID\": \"635o\", \"total_otters\": 0}, {\"HAB_ID\": \"636n\", \"total_otters\": 132}, {\"HAB_ID\": \"636o\", \"total_otters\": 0}, {\"HAB_ID\": \"637n\", \"total_otters\": 173}, {\"HAB_ID\": \"637o\", \"total_otters\": 0}, {\"HAB_ID\": \"638n\", \"total_otters\": 104}, {\"HAB_ID\": \"638o\", \"total_otters\": 0}, {\"HAB_ID\": \"639n\", \"total_otters\": 120}, {\"HAB_ID\": \"639o\", \"total_otters\": 0}, {\"HAB_ID\": \"640n\", \"total_otters\": 92}, {\"HAB_ID\": \"640o\", \"total_otters\": 0}, {\"HAB_ID\": \"641n\", \"total_otters\": 72}, {\"HAB_ID\": \"641o\", \"total_otters\": 0}, {\"HAB_ID\": \"642n\", \"total_otters\": 50}, {\"HAB_ID\": \"642o\", \"total_otters\": 0}, {\"HAB_ID\": \"643n\", \"total_otters\": 74}, {\"HAB_ID\": \"643o\", \"total_otters\": 0}, {\"HAB_ID\": \"644n\", \"total_otters\": 81}, {\"HAB_ID\": \"644o\", \"total_otters\": 0}, {\"HAB_ID\": \"645n\", \"total_otters\": 82}, {\"HAB_ID\": \"645o\", \"total_otters\": 0}, {\"HAB_ID\": \"646n\", \"total_otters\": 47}, {\"HAB_ID\": \"646o\", \"total_otters\": 0}, {\"HAB_ID\": \"647n\", \"total_otters\": 40}, {\"HAB_ID\": \"647o\", \"total_otters\": 0}, {\"HAB_ID\": \"648n\", \"total_otters\": 56}, {\"HAB_ID\": \"648o\", \"total_otters\": 0}, {\"HAB_ID\": \"649n\", \"total_otters\": 69}, {\"HAB_ID\": \"649o\", \"total_otters\": 0}, {\"HAB_ID\": \"650n\", \"total_otters\": 101}, {\"HAB_ID\": \"650o\", \"total_otters\": 0}, {\"HAB_ID\": \"651n\", \"total_otters\": 97}, {\"HAB_ID\": \"651o\", \"total_otters\": 0}, {\"HAB_ID\": \"652n\", \"total_otters\": 101}, {\"HAB_ID\": \"652o\", \"total_otters\": 0}, {\"HAB_ID\": \"653n\", \"total_otters\": 165}, {\"HAB_ID\": \"653o\", \"total_otters\": 0}, {\"HAB_ID\": \"654n\", \"total_otters\": 120}, {\"HAB_ID\": \"654o\", \"total_otters\": 0}, {\"HAB_ID\": \"655n\", \"total_otters\": 80}, {\"HAB_ID\": \"655o\", \"total_otters\": 0}, {\"HAB_ID\": \"656n\", \"total_otters\": 91}, {\"HAB_ID\": \"656o\", \"total_otters\": 0}, {\"HAB_ID\": \"657n\", \"total_otters\": 87}, {\"HAB_ID\": \"657o\", \"total_otters\": 0}, {\"HAB_ID\": \"658n\", \"total_otters\": 59}, {\"HAB_ID\": \"658o\", \"total_otters\": 0}, {\"HAB_ID\": \"659n\", \"total_otters\": 71}, {\"HAB_ID\": \"659o\", \"total_otters\": 0}, {\"HAB_ID\": \"660n\", \"total_otters\": 48}, {\"HAB_ID\": \"660o\", \"total_otters\": 0}, {\"HAB_ID\": \"661n\", \"total_otters\": 81}, {\"HAB_ID\": \"661o\", \"total_otters\": 0}, {\"HAB_ID\": \"662n\", \"total_otters\": 56}, {\"HAB_ID\": \"662o\", \"total_otters\": 0}, {\"HAB_ID\": \"663n\", \"total_otters\": 61}, {\"HAB_ID\": \"663o\", \"total_otters\": 0}, {\"HAB_ID\": \"664n\", \"total_otters\": 76}, {\"HAB_ID\": \"664o\", \"total_otters\": 0}, {\"HAB_ID\": \"665n\", \"total_otters\": 124}, {\"HAB_ID\": \"665o\", \"total_otters\": 0}, {\"HAB_ID\": \"666n\", \"total_otters\": 113}, {\"HAB_ID\": \"666o\", \"total_otters\": 0}, {\"HAB_ID\": \"667n\", \"total_otters\": 66}, {\"HAB_ID\": \"667o\", \"total_otters\": 0}, {\"HAB_ID\": \"668n\", \"total_otters\": 89}, {\"HAB_ID\": \"668o\", \"total_otters\": 0}, {\"HAB_ID\": \"669n\", \"total_otters\": 112}, {\"HAB_ID\": \"669o\", \"total_otters\": 0}, {\"HAB_ID\": \"670n\", \"total_otters\": 128}, {\"HAB_ID\": \"670o\", \"total_otters\": 0}, {\"HAB_ID\": \"671n\", \"total_otters\": 133}, {\"HAB_ID\": \"671o\", \"total_otters\": 0}, {\"HAB_ID\": \"672n\", \"total_otters\": 123}, {\"HAB_ID\": \"672o\", \"total_otters\": 0}, {\"HAB_ID\": \"673n\", \"total_otters\": 99}, {\"HAB_ID\": \"673o\", \"total_otters\": 0}, {\"HAB_ID\": \"674n\", \"total_otters\": 110}, {\"HAB_ID\": \"674o\", \"total_otters\": 0}, {\"HAB_ID\": \"675n\", \"total_otters\": 131}, {\"HAB_ID\": \"675o\", \"total_otters\": 0}, {\"HAB_ID\": \"676n\", \"total_otters\": 101}, {\"HAB_ID\": \"676o\", \"total_otters\": 0}, {\"HAB_ID\": \"677n\", \"total_otters\": 127}, {\"HAB_ID\": \"677o\", \"total_otters\": 0}, {\"HAB_ID\": \"678n\", \"total_otters\": 120}, {\"HAB_ID\": \"678o\", \"total_otters\": 0}, {\"HAB_ID\": \"679n\", \"total_otters\": 144}, {\"HAB_ID\": \"679o\", \"total_otters\": 0}, {\"HAB_ID\": \"680n\", \"total_otters\": 156}, {\"HAB_ID\": \"680o\", \"total_otters\": 0}, {\"HAB_ID\": \"681n\", \"total_otters\": 112}, {\"HAB_ID\": \"681o\", \"total_otters\": 0}, {\"HAB_ID\": \"682n\", \"total_otters\": 98}, {\"HAB_ID\": \"682o\", \"total_otters\": 0}, {\"HAB_ID\": \"683n\", \"total_otters\": 72}, {\"HAB_ID\": \"683o\", \"total_otters\": 0}, {\"HAB_ID\": \"684n\", \"total_otters\": 146}, {\"HAB_ID\": \"684o\", \"total_otters\": 0}, {\"HAB_ID\": \"685n\", \"total_otters\": 130}, {\"HAB_ID\": \"685o\", \"total_otters\": 0}, {\"HAB_ID\": \"686n\", \"total_otters\": 106}, {\"HAB_ID\": \"686o\", \"total_otters\": 0}, {\"HAB_ID\": \"687n\", \"total_otters\": 80}, {\"HAB_ID\": \"687o\", \"total_otters\": 0}, {\"HAB_ID\": \"688n\", \"total_otters\": 75}, {\"HAB_ID\": \"688o\", \"total_otters\": 0}, {\"HAB_ID\": \"689n\", \"total_otters\": 70}, {\"HAB_ID\": \"689o\", \"total_otters\": 0}, {\"HAB_ID\": \"690n\", \"total_otters\": 79}, {\"HAB_ID\": \"690o\", \"total_otters\": 0}, {\"HAB_ID\": \"691n\", \"total_otters\": 75}, {\"HAB_ID\": \"691o\", \"total_otters\": 0}, {\"HAB_ID\": \"692n\", \"total_otters\": 116}, {\"HAB_ID\": \"692o\", \"total_otters\": 0}, {\"HAB_ID\": \"693n\", \"total_otters\": 44}, {\"HAB_ID\": \"693o\", \"total_otters\": 0}, {\"HAB_ID\": \"694n\", \"total_otters\": 81}, {\"HAB_ID\": \"694o\", \"total_otters\": 0}, {\"HAB_ID\": \"695n\", \"total_otters\": 86}, {\"HAB_ID\": \"695o\", \"total_otters\": 0}, {\"HAB_ID\": \"696n\", \"total_otters\": 110}, {\"HAB_ID\": \"696o\", \"total_otters\": 0}, {\"HAB_ID\": \"697n\", \"total_otters\": 182}, {\"HAB_ID\": \"697o\", \"total_otters\": 0}, {\"HAB_ID\": \"698n\", \"total_otters\": 152}, {\"HAB_ID\": \"698o\", \"total_otters\": 0}, {\"HAB_ID\": \"699n\", \"total_otters\": 125}, {\"HAB_ID\": \"699o\", \"total_otters\": 0}, {\"HAB_ID\": \"700n\", \"total_otters\": 134}, {\"HAB_ID\": \"700o\", \"total_otters\": 0}, {\"HAB_ID\": \"701n\", \"total_otters\": 154}, {\"HAB_ID\": \"701o\", \"total_otters\": 0}, {\"HAB_ID\": \"702n\", \"total_otters\": 140}, {\"HAB_ID\": \"702o\", \"total_otters\": 0}, {\"HAB_ID\": \"703n\", \"total_otters\": 135}, {\"HAB_ID\": \"703o\", \"total_otters\": 0}, {\"HAB_ID\": \"704n\", \"total_otters\": 71}, {\"HAB_ID\": \"704o\", \"total_otters\": 0}, {\"HAB_ID\": \"705n\", \"total_otters\": 103}, {\"HAB_ID\": \"705o\", \"total_otters\": 0}, {\"HAB_ID\": \"706n\", \"total_otters\": 89}, {\"HAB_ID\": \"706o\", \"total_otters\": 0}, {\"HAB_ID\": \"707n\", \"total_otters\": 45}, {\"HAB_ID\": \"707o\", \"total_otters\": 0}, {\"HAB_ID\": \"708n\", \"total_otters\": 47}, {\"HAB_ID\": \"708o\", \"total_otters\": 0}, {\"HAB_ID\": \"709n\", \"total_otters\": 40}, {\"HAB_ID\": \"709o\", \"total_otters\": 0}, {\"HAB_ID\": \"710n\", \"total_otters\": 103}, {\"HAB_ID\": \"710o\", \"total_otters\": 0}, {\"HAB_ID\": \"711n\", \"total_otters\": 96}, {\"HAB_ID\": \"711o\", \"total_otters\": 0}, {\"HAB_ID\": \"712n\", \"total_otters\": 99}, {\"HAB_ID\": \"712o\", \"total_otters\": 0}, {\"HAB_ID\": \"713n\", \"total_otters\": 107}, {\"HAB_ID\": \"713o\", \"total_otters\": 0}, {\"HAB_ID\": \"714n\", \"total_otters\": 99}, {\"HAB_ID\": \"714o\", \"total_otters\": 0}, {\"HAB_ID\": \"715n\", \"total_otters\": 100}, {\"HAB_ID\": \"715o\", \"total_otters\": 0}, {\"HAB_ID\": \"716n\", \"total_otters\": 67}, {\"HAB_ID\": \"716o\", \"total_otters\": 0}, {\"HAB_ID\": \"717n\", \"total_otters\": 87}, {\"HAB_ID\": \"717o\", \"total_otters\": 0}, {\"HAB_ID\": \"718n\", \"total_otters\": 98}, {\"HAB_ID\": \"718o\", \"total_otters\": 0}, {\"HAB_ID\": \"719n\", \"total_otters\": 103}, {\"HAB_ID\": \"719o\", \"total_otters\": 0}, {\"HAB_ID\": \"720n\", \"total_otters\": 149}, {\"HAB_ID\": \"720o\", \"total_otters\": 0}, {\"HAB_ID\": \"721n\", \"total_otters\": 129}, {\"HAB_ID\": \"721o\", \"total_otters\": 0}, {\"HAB_ID\": \"722n\", \"total_otters\": 156}, {\"HAB_ID\": \"722o\", \"total_otters\": 0}, {\"HAB_ID\": \"723n\", \"total_otters\": 185}, {\"HAB_ID\": \"723o\", \"total_otters\": 0}, {\"HAB_ID\": \"724n\", \"total_otters\": 105}, {\"HAB_ID\": \"724o\", \"total_otters\": 0}, {\"HAB_ID\": \"725n\", \"total_otters\": 136}, {\"HAB_ID\": \"725o\", \"total_otters\": 0}, {\"HAB_ID\": \"726n\", \"total_otters\": 181}, {\"HAB_ID\": \"726o\", \"total_otters\": 0}, {\"HAB_ID\": \"727n\", \"total_otters\": 136}, {\"HAB_ID\": \"727o\", \"total_otters\": 0}, {\"HAB_ID\": \"728n\", \"total_otters\": 94}, {\"HAB_ID\": \"728o\", \"total_otters\": 0}, {\"HAB_ID\": \"729n\", \"total_otters\": 164}, {\"HAB_ID\": \"729o\", \"total_otters\": 0}, {\"HAB_ID\": \"730n\", \"total_otters\": 50}, {\"HAB_ID\": \"730o\", \"total_otters\": 0}, {\"HAB_ID\": \"731n\", \"total_otters\": 54}, {\"HAB_ID\": \"731o\", \"total_otters\": 0}, {\"HAB_ID\": \"732n\", \"total_otters\": 115}, {\"HAB_ID\": \"732o\", \"total_otters\": 0}, {\"HAB_ID\": \"733n\", \"total_otters\": 130}, {\"HAB_ID\": \"733o\", \"total_otters\": 0}, {\"HAB_ID\": \"734n\", \"total_otters\": 166}, {\"HAB_ID\": \"734o\", \"total_otters\": 0}, {\"HAB_ID\": \"735n\", \"total_otters\": 102}, {\"HAB_ID\": \"735o\", \"total_otters\": 0}, {\"HAB_ID\": \"736n\", \"total_otters\": 110}, {\"HAB_ID\": \"736o\", \"total_otters\": 0}, {\"HAB_ID\": \"737n\", \"total_otters\": 129}, {\"HAB_ID\": \"737o\", \"total_otters\": 0}, {\"HAB_ID\": \"738n\", \"total_otters\": 102}, {\"HAB_ID\": \"738o\", \"total_otters\": 0}, {\"HAB_ID\": \"739n\", \"total_otters\": 113}, {\"HAB_ID\": \"739o\", \"total_otters\": 0}, {\"HAB_ID\": \"740n\", \"total_otters\": 125}, {\"HAB_ID\": \"740o\", \"total_otters\": 0}, {\"HAB_ID\": \"741n\", \"total_otters\": 70}, {\"HAB_ID\": \"741o\", \"total_otters\": 0}, {\"HAB_ID\": \"742n\", \"total_otters\": 82}, {\"HAB_ID\": \"742o\", \"total_otters\": 0}, {\"HAB_ID\": \"743n\", \"total_otters\": 81}, {\"HAB_ID\": \"743o\", \"total_otters\": 0}, {\"HAB_ID\": \"744n\", \"total_otters\": 95}, {\"HAB_ID\": \"744o\", \"total_otters\": 0}, {\"HAB_ID\": \"745n\", \"total_otters\": 94}, {\"HAB_ID\": \"745o\", \"total_otters\": 0}, {\"HAB_ID\": \"746n\", \"total_otters\": 163}, {\"HAB_ID\": \"746o\", \"total_otters\": 0}, {\"HAB_ID\": \"747n\", \"total_otters\": 154}, {\"HAB_ID\": \"747o\", \"total_otters\": 0}, {\"HAB_ID\": \"748n\", \"total_otters\": 116}, {\"HAB_ID\": \"748o\", \"total_otters\": 0}, {\"HAB_ID\": \"749n\", \"total_otters\": 95}, {\"HAB_ID\": \"749o\", \"total_otters\": 0}, {\"HAB_ID\": \"750n\", \"total_otters\": 78}, {\"HAB_ID\": \"750o\", \"total_otters\": 0}, {\"HAB_ID\": \"751n\", \"total_otters\": 95}, {\"HAB_ID\": \"751o\", \"total_otters\": 0}, {\"HAB_ID\": \"752n\", \"total_otters\": 94}, {\"HAB_ID\": \"752o\", \"total_otters\": 0}, {\"HAB_ID\": \"753n\", \"total_otters\": 86}, {\"HAB_ID\": \"753o\", \"total_otters\": 0}, {\"HAB_ID\": \"754n\", \"total_otters\": 69}, {\"HAB_ID\": \"754o\", \"total_otters\": 0}, {\"HAB_ID\": \"755n\", \"total_otters\": 101}, {\"HAB_ID\": \"755o\", \"total_otters\": 0}, {\"HAB_ID\": \"756n\", \"total_otters\": 44}, {\"HAB_ID\": \"756o\", \"total_otters\": 0}, {\"HAB_ID\": \"757n\", \"total_otters\": 66}, {\"HAB_ID\": \"757o\", \"total_otters\": 0}, {\"HAB_ID\": \"758n\", \"total_otters\": 71}, {\"HAB_ID\": \"758o\", \"total_otters\": 0}, {\"HAB_ID\": \"759n\", \"total_otters\": 74}, {\"HAB_ID\": \"759o\", \"total_otters\": 0}, {\"HAB_ID\": \"760n\", \"total_otters\": 51}, {\"HAB_ID\": \"760o\", \"total_otters\": 0}, {\"HAB_ID\": \"761n\", \"total_otters\": 61}, {\"HAB_ID\": \"761o\", \"total_otters\": 0}, {\"HAB_ID\": \"762n\", \"total_otters\": 43}, {\"HAB_ID\": \"762o\", \"total_otters\": 0}, {\"HAB_ID\": \"763n\", \"total_otters\": 42}, {\"HAB_ID\": \"763o\", \"total_otters\": 0}, {\"HAB_ID\": \"764n\", \"total_otters\": 50}, {\"HAB_ID\": \"764o\", \"total_otters\": 0}, {\"HAB_ID\": \"765n\", \"total_otters\": 43}, {\"HAB_ID\": \"765o\", \"total_otters\": 0}, {\"HAB_ID\": \"766n\", \"total_otters\": 39}, {\"HAB_ID\": \"766o\", \"total_otters\": 0}, {\"HAB_ID\": \"767n\", \"total_otters\": 49}, {\"HAB_ID\": \"767o\", \"total_otters\": 0}, {\"HAB_ID\": \"768n\", \"total_otters\": 37}, {\"HAB_ID\": \"768o\", \"total_otters\": 0}, {\"HAB_ID\": \"769n\", \"total_otters\": 45}, {\"HAB_ID\": \"769o\", \"total_otters\": 0}, {\"HAB_ID\": \"770n\", \"total_otters\": 34}, {\"HAB_ID\": \"770o\", \"total_otters\": 0}, {\"HAB_ID\": \"771n\", \"total_otters\": 52}, {\"HAB_ID\": \"771o\", \"total_otters\": 0}, {\"HAB_ID\": \"772n\", \"total_otters\": 43}, {\"HAB_ID\": \"772o\", \"total_otters\": 0}, {\"HAB_ID\": \"773n\", \"total_otters\": 55}, {\"HAB_ID\": \"773o\", \"total_otters\": 0}, {\"HAB_ID\": \"774n\", \"total_otters\": 53}, {\"HAB_ID\": \"774o\", \"total_otters\": 0}, {\"HAB_ID\": \"775n\", \"total_otters\": 36}, {\"HAB_ID\": \"775o\", \"total_otters\": 0}, {\"HAB_ID\": \"776n\", \"total_otters\": 30}, {\"HAB_ID\": \"776o\", \"total_otters\": 0}, {\"HAB_ID\": \"777n\", \"total_otters\": 35}, {\"HAB_ID\": \"777o\", \"total_otters\": 0}, {\"HAB_ID\": \"778n\", \"total_otters\": 42}, {\"HAB_ID\": \"778o\", \"total_otters\": 0}, {\"HAB_ID\": \"779n\", \"total_otters\": 30}, {\"HAB_ID\": \"779o\", \"total_otters\": 0}, {\"HAB_ID\": \"780n\", \"total_otters\": 38}, {\"HAB_ID\": \"780o\", \"total_otters\": 0}, {\"HAB_ID\": \"781n\", \"total_otters\": 34}, {\"HAB_ID\": \"781o\", \"total_otters\": 0}, {\"HAB_ID\": \"782n\", \"total_otters\": 42}, {\"HAB_ID\": \"782o\", \"total_otters\": 0}, {\"HAB_ID\": \"783n\", \"total_otters\": 42}, {\"HAB_ID\": \"783o\", \"total_otters\": 0}, {\"HAB_ID\": \"784n\", \"total_otters\": 32}, {\"HAB_ID\": \"784o\", \"total_otters\": 0}, {\"HAB_ID\": \"785n\", \"total_otters\": 31}, {\"HAB_ID\": \"785o\", \"total_otters\": 0}, {\"HAB_ID\": \"786n\", \"total_otters\": 29}, {\"HAB_ID\": \"786o\", \"total_otters\": 0}, {\"HAB_ID\": \"787n\", \"total_otters\": 25}, {\"HAB_ID\": \"787o\", \"total_otters\": 0}, {\"HAB_ID\": \"788n\", \"total_otters\": 37}, {\"HAB_ID\": \"788o\", \"total_otters\": 0}, {\"HAB_ID\": \"789n\", \"total_otters\": 51}, {\"HAB_ID\": \"789o\", \"total_otters\": 0}, {\"HAB_ID\": \"790n\", \"total_otters\": 65}, {\"HAB_ID\": \"790o\", \"total_otters\": 0}, {\"HAB_ID\": \"791n\", \"total_otters\": 86}, {\"HAB_ID\": \"791o\", \"total_otters\": 0}, {\"HAB_ID\": \"792n\", \"total_otters\": 94}, {\"HAB_ID\": \"792o\", \"total_otters\": 0}, {\"HAB_ID\": \"793n\", \"total_otters\": 92}, {\"HAB_ID\": \"793o\", \"total_otters\": 0}, {\"HAB_ID\": \"794n\", \"total_otters\": 125}, {\"HAB_ID\": \"794o\", \"total_otters\": 0}, {\"HAB_ID\": \"795n\", \"total_otters\": 119}, {\"HAB_ID\": \"795o\", \"total_otters\": 0}, {\"HAB_ID\": \"796n\", \"total_otters\": 125}, {\"HAB_ID\": \"796o\", \"total_otters\": 0}, {\"HAB_ID\": \"797n\", \"total_otters\": 119}, {\"HAB_ID\": \"797o\", \"total_otters\": 0}, {\"HAB_ID\": \"798n\", \"total_otters\": 126}, {\"HAB_ID\": \"798o\", \"total_otters\": 0}, {\"HAB_ID\": \"799n\", \"total_otters\": 145}, {\"HAB_ID\": \"799o\", \"total_otters\": 0}, {\"HAB_ID\": \"800n\", \"total_otters\": 139}, {\"HAB_ID\": \"800o\", \"total_otters\": 0}, {\"HAB_ID\": \"801n\", \"total_otters\": 205}, {\"HAB_ID\": \"801o\", \"total_otters\": 0}, {\"HAB_ID\": \"802n\", \"total_otters\": 78}, {\"HAB_ID\": \"802o\", \"total_otters\": 0}, {\"HAB_ID\": \"803n\", \"total_otters\": 123}, {\"HAB_ID\": \"803o\", \"total_otters\": 0}, {\"HAB_ID\": \"804n\", \"total_otters\": 93}, {\"HAB_ID\": \"804o\", \"total_otters\": 0}, {\"HAB_ID\": \"805n\", \"total_otters\": 114}, {\"HAB_ID\": \"805o\", \"total_otters\": 0}, {\"HAB_ID\": \"806n\", \"total_otters\": 141}, {\"HAB_ID\": \"806o\", \"total_otters\": 0}, {\"HAB_ID\": \"807n\", \"total_otters\": 109}, {\"HAB_ID\": \"807o\", \"total_otters\": 0}, {\"HAB_ID\": \"808n\", \"total_otters\": 173}, {\"HAB_ID\": \"808o\", \"total_otters\": 0}, {\"HAB_ID\": \"809n\", \"total_otters\": 142}, {\"HAB_ID\": \"809o\", \"total_otters\": 0}, {\"HAB_ID\": \"810n\", \"total_otters\": 131}, {\"HAB_ID\": \"810o\", \"total_otters\": 0}, {\"HAB_ID\": \"811n\", \"total_otters\": 100}, {\"HAB_ID\": \"811o\", \"total_otters\": 0}, {\"HAB_ID\": \"812n\", \"total_otters\": 84}, {\"HAB_ID\": \"812o\", \"total_otters\": 0}, {\"HAB_ID\": \"813n\", \"total_otters\": 49}, {\"HAB_ID\": \"813o\", \"total_otters\": 0}, {\"HAB_ID\": \"814n\", \"total_otters\": 25}, {\"HAB_ID\": \"814o\", \"total_otters\": 0}, {\"HAB_ID\": \"815n\", \"total_otters\": 26}, {\"HAB_ID\": \"815o\", \"total_otters\": 0}, {\"HAB_ID\": \"816n\", \"total_otters\": 26}, {\"HAB_ID\": \"816o\", \"total_otters\": 0}, {\"HAB_ID\": \"817n\", \"total_otters\": 27}, {\"HAB_ID\": \"817o\", \"total_otters\": 0}, {\"HAB_ID\": \"818n\", \"total_otters\": 21}, {\"HAB_ID\": \"818o\", \"total_otters\": 0}, {\"HAB_ID\": \"819n\", \"total_otters\": 23}, {\"HAB_ID\": \"819o\", \"total_otters\": 0}, {\"HAB_ID\": \"820n\", \"total_otters\": 23}, {\"HAB_ID\": \"820o\", \"total_otters\": 0}, {\"HAB_ID\": \"821n\", \"total_otters\": 27}, {\"HAB_ID\": \"821o\", \"total_otters\": 0}, {\"HAB_ID\": \"822n\", \"total_otters\": 16}, {\"HAB_ID\": \"822o\", \"total_otters\": 0}, {\"HAB_ID\": \"823n\", \"total_otters\": 28}, {\"HAB_ID\": \"823o\", \"total_otters\": 6}, {\"HAB_ID\": \"824n\", \"total_otters\": 17}, {\"HAB_ID\": \"824o\", \"total_otters\": 5}, {\"HAB_ID\": \"825n\", \"total_otters\": 18}, {\"HAB_ID\": \"825o\", \"total_otters\": 5}, {\"HAB_ID\": \"826b\", \"total_otters\": 174}, {\"HAB_ID\": \"826n\", \"total_otters\": 13}, {\"HAB_ID\": \"826o\", \"total_otters\": 5}, {\"HAB_ID\": \"827n\", \"total_otters\": 23}, {\"HAB_ID\": \"827o\", \"total_otters\": 5}, {\"HAB_ID\": \"828n\", \"total_otters\": 36}, {\"HAB_ID\": \"828o\", \"total_otters\": 7}, {\"HAB_ID\": \"829n\", \"total_otters\": 31}, {\"HAB_ID\": \"829o\", \"total_otters\": 6}, {\"HAB_ID\": \"830n\", \"total_otters\": 30}, {\"HAB_ID\": \"830o\", \"total_otters\": 6}, {\"HAB_ID\": \"831n\", \"total_otters\": 30}, {\"HAB_ID\": \"831o\", \"total_otters\": 6}, {\"HAB_ID\": \"832n\", \"total_otters\": 37}, {\"HAB_ID\": \"832o\", \"total_otters\": 11}, {\"HAB_ID\": \"833n\", \"total_otters\": 31}, {\"HAB_ID\": \"833o\", \"total_otters\": 7}, {\"HAB_ID\": \"834n\", \"total_otters\": 33}, {\"HAB_ID\": \"834o\", \"total_otters\": 7}, {\"HAB_ID\": \"835n\", \"total_otters\": 32}, {\"HAB_ID\": \"835o\", \"total_otters\": 7}, {\"HAB_ID\": \"836n\", \"total_otters\": 36}, {\"HAB_ID\": \"836o\", \"total_otters\": 7}, {\"HAB_ID\": \"837n\", \"total_otters\": 46}, {\"HAB_ID\": \"837o\", \"total_otters\": 10}, {\"HAB_ID\": \"838n\", \"total_otters\": 41}, {\"HAB_ID\": \"838o\", \"total_otters\": 7}, {\"HAB_ID\": \"839n\", \"total_otters\": 45}, {\"HAB_ID\": \"839o\", \"total_otters\": 7}, {\"HAB_ID\": \"840n\", \"total_otters\": 49}, {\"HAB_ID\": \"840o\", \"total_otters\": 7}, {\"HAB_ID\": \"841n\", \"total_otters\": 48}, {\"HAB_ID\": \"841o\", \"total_otters\": 6}, {\"HAB_ID\": \"842n\", \"total_otters\": 50}, {\"HAB_ID\": \"842o\", \"total_otters\": 6}, {\"HAB_ID\": \"843n\", \"total_otters\": 48}, {\"HAB_ID\": \"843o\", \"total_otters\": 5}, {\"HAB_ID\": \"844n\", \"total_otters\": 66}, {\"HAB_ID\": \"844o\", \"total_otters\": 4}, {\"HAB_ID\": \"845n\", \"total_otters\": 66}, {\"HAB_ID\": \"845o\", \"total_otters\": 0}, {\"HAB_ID\": \"846n\", \"total_otters\": 62}, {\"HAB_ID\": \"846o\", \"total_otters\": 0}, {\"HAB_ID\": \"847n\", \"total_otters\": 61}, {\"HAB_ID\": \"847o\", \"total_otters\": 0}, {\"HAB_ID\": \"848n\", \"total_otters\": 44}, {\"HAB_ID\": \"848o\", \"total_otters\": 0}, {\"HAB_ID\": \"849n\", \"total_otters\": 56}, {\"HAB_ID\": \"849o\", \"total_otters\": 0}, {\"HAB_ID\": \"850n\", \"total_otters\": 66}, {\"HAB_ID\": \"850o\", \"total_otters\": 5}, {\"HAB_ID\": \"851n\", \"total_otters\": 59}, {\"HAB_ID\": \"851o\", \"total_otters\": 5}, {\"HAB_ID\": \"852n\", \"total_otters\": 60}, {\"HAB_ID\": \"852o\", \"total_otters\": 4}, {\"HAB_ID\": \"853n\", \"total_otters\": 55}, {\"HAB_ID\": \"853o\", \"total_otters\": 4}, {\"HAB_ID\": \"854n\", \"total_otters\": 70}, {\"HAB_ID\": \"854o\", \"total_otters\": 12}, {\"HAB_ID\": \"855n\", \"total_otters\": 53}, {\"HAB_ID\": \"855o\", \"total_otters\": 12}, {\"HAB_ID\": \"856n\", \"total_otters\": 39}, {\"HAB_ID\": \"856o\", \"total_otters\": 9}, {\"HAB_ID\": \"857n\", \"total_otters\": 59}, {\"HAB_ID\": \"857o\", \"total_otters\": 17}, {\"HAB_ID\": \"858n\", \"total_otters\": 59}, {\"HAB_ID\": \"858o\", \"total_otters\": 12}, {\"HAB_ID\": \"859n\", \"total_otters\": 50}, {\"HAB_ID\": \"859o\", \"total_otters\": 12}, {\"HAB_ID\": \"860n\", \"total_otters\": 34}, {\"HAB_ID\": \"860o\", \"total_otters\": 8}, {\"HAB_ID\": \"861n\", \"total_otters\": 58}, {\"HAB_ID\": \"861o\", \"total_otters\": 12}, {\"HAB_ID\": \"862n\", \"total_otters\": 74}, {\"HAB_ID\": \"862o\", \"total_otters\": 17}, {\"HAB_ID\": \"863n\", \"total_otters\": 52}, {\"HAB_ID\": \"863o\", \"total_otters\": 12}, {\"HAB_ID\": \"864n\", \"total_otters\": 57}, {\"HAB_ID\": \"864o\", \"total_otters\": 11}, {\"HAB_ID\": \"865n\", \"total_otters\": 40}, {\"HAB_ID\": \"865o\", \"total_otters\": 6}, {\"HAB_ID\": \"866n\", \"total_otters\": 43}, {\"HAB_ID\": \"866o\", \"total_otters\": 8}, {\"HAB_ID\": \"867n\", \"total_otters\": 52}, {\"HAB_ID\": \"867o\", \"total_otters\": 12}, {\"HAB_ID\": \"868n\", \"total_otters\": 33}, {\"HAB_ID\": \"868o\", \"total_otters\": 17}, {\"HAB_ID\": \"869n\", \"total_otters\": 43}, {\"HAB_ID\": \"869o\", \"total_otters\": 13}, {\"HAB_ID\": \"870n\", \"total_otters\": 43}, {\"HAB_ID\": \"870o\", \"total_otters\": 10}, {\"HAB_ID\": \"871n\", \"total_otters\": 53}, {\"HAB_ID\": \"871o\", \"total_otters\": 9}, {\"HAB_ID\": \"872n\", \"total_otters\": 64}, {\"HAB_ID\": \"872o\", \"total_otters\": 6}, {\"HAB_ID\": \"873n\", \"total_otters\": 80}, {\"HAB_ID\": \"873o\", \"total_otters\": 4}, {\"HAB_ID\": \"874n\", \"total_otters\": 82}, {\"HAB_ID\": \"874o\", \"total_otters\": 3}, {\"HAB_ID\": \"875n\", \"total_otters\": 101}, {\"HAB_ID\": \"875o\", \"total_otters\": 0}, {\"HAB_ID\": \"876n\", \"total_otters\": 90}, {\"HAB_ID\": \"876o\", \"total_otters\": 0}, {\"HAB_ID\": \"877n\", \"total_otters\": 86}, {\"HAB_ID\": \"877o\", \"total_otters\": 0}, {\"HAB_ID\": \"878n\", \"total_otters\": 63}, {\"HAB_ID\": \"878o\", \"total_otters\": 0}, {\"HAB_ID\": \"879n\", \"total_otters\": 12}, {\"HAB_ID\": \"879o\", \"total_otters\": 0}, {\"HAB_ID\": \"880n\", \"total_otters\": 15}, {\"HAB_ID\": \"880o\", \"total_otters\": 0}, {\"HAB_ID\": \"881n\", \"total_otters\": 10}, {\"HAB_ID\": \"881o\", \"total_otters\": 0}, {\"HAB_ID\": \"882n\", \"total_otters\": 25}, {\"HAB_ID\": \"882o\", \"total_otters\": 0}, {\"HAB_ID\": \"883n\", \"total_otters\": 10}, {\"HAB_ID\": \"883o\", \"total_otters\": 0}, {\"HAB_ID\": \"884n\", \"total_otters\": 17}, {\"HAB_ID\": \"884o\", \"total_otters\": 0}, {\"HAB_ID\": \"885n\", \"total_otters\": 0}, {\"HAB_ID\": \"885o\", \"total_otters\": 0}, {\"HAB_ID\": \"886n\", \"total_otters\": 5}, {\"HAB_ID\": \"886o\", \"total_otters\": 0}, {\"HAB_ID\": \"887n\", \"total_otters\": 0}, {\"HAB_ID\": \"887o\", \"total_otters\": 0}, {\"HAB_ID\": \"888n\", \"total_otters\": 2}, {\"HAB_ID\": \"888o\", \"total_otters\": 0}, {\"HAB_ID\": \"889n\", \"total_otters\": 0}, {\"HAB_ID\": \"889o\", \"total_otters\": 0}, {\"HAB_ID\": \"890n\", \"total_otters\": 2}, {\"HAB_ID\": \"890o\", \"total_otters\": 0}, {\"HAB_ID\": \"891n\", \"total_otters\": 0}, {\"HAB_ID\": \"891o\", \"total_otters\": 0}, {\"HAB_ID\": \"892n\", \"total_otters\": 0}, {\"HAB_ID\": \"892o\", \"total_otters\": 0}, {\"HAB_ID\": \"893n\", \"total_otters\": 0}, {\"HAB_ID\": \"893o\", \"total_otters\": 0}, {\"HAB_ID\": \"894n\", \"total_otters\": 12}, {\"HAB_ID\": \"894o\", \"total_otters\": 0}, {\"HAB_ID\": \"895n\", \"total_otters\": 36}, {\"HAB_ID\": \"895o\", \"total_otters\": 0}, {\"HAB_ID\": \"896n\", \"total_otters\": 40}, {\"HAB_ID\": \"896o\", \"total_otters\": 0}, {\"HAB_ID\": \"897n\", \"total_otters\": 51}, {\"HAB_ID\": \"897o\", \"total_otters\": 0}, {\"HAB_ID\": \"898n\", \"total_otters\": 65}, {\"HAB_ID\": \"898o\", \"total_otters\": 0}, {\"HAB_ID\": \"899n\", \"total_otters\": 56}, {\"HAB_ID\": \"899o\", \"total_otters\": 0}, {\"HAB_ID\": \"900n\", \"total_otters\": 79}, {\"HAB_ID\": \"900o\", \"total_otters\": 0}, {\"HAB_ID\": \"900w\", \"total_otters\": 0}, {\"HAB_ID\": \"901n\", \"total_otters\": 75}, {\"HAB_ID\": \"901o\", \"total_otters\": 0}, {\"HAB_ID\": \"902n\", \"total_otters\": 106}, {\"HAB_ID\": \"902o\", \"total_otters\": 0}, {\"HAB_ID\": \"903n\", \"total_otters\": 87}, {\"HAB_ID\": \"903o\", \"total_otters\": 0}, {\"HAB_ID\": \"904n\", \"total_otters\": 94}, {\"HAB_ID\": \"904o\", \"total_otters\": 0}, {\"HAB_ID\": \"905n\", \"total_otters\": 98}, {\"HAB_ID\": \"905o\", \"total_otters\": 0}, {\"HAB_ID\": \"906n\", \"total_otters\": 98}, {\"HAB_ID\": \"906o\", \"total_otters\": 0}, {\"HAB_ID\": \"907n\", \"total_otters\": 81}, {\"HAB_ID\": \"907o\", \"total_otters\": 0}, {\"HAB_ID\": \"908n\", \"total_otters\": 122}, {\"HAB_ID\": \"908o\", \"total_otters\": 0}, {\"HAB_ID\": \"909n\", \"total_otters\": 131}, {\"HAB_ID\": \"909o\", \"total_otters\": 0}, {\"HAB_ID\": \"910n\", \"total_otters\": 115}, {\"HAB_ID\": \"910o\", \"total_otters\": 0}, {\"HAB_ID\": \"911n\", \"total_otters\": 136}, {\"HAB_ID\": \"911o\", \"total_otters\": 0}, {\"HAB_ID\": \"912n\", \"total_otters\": 119}, {\"HAB_ID\": \"912o\", \"total_otters\": 0}, {\"HAB_ID\": \"913n\", \"total_otters\": 114}, {\"HAB_ID\": \"913o\", \"total_otters\": 0}, {\"HAB_ID\": \"914n\", \"total_otters\": 136}, {\"HAB_ID\": \"914o\", \"total_otters\": 0}, {\"HAB_ID\": \"915n\", \"total_otters\": 127}, {\"HAB_ID\": \"915o\", \"total_otters\": 0}, {\"HAB_ID\": \"916n\", \"total_otters\": 92}, {\"HAB_ID\": \"916o\", \"total_otters\": 0}, {\"HAB_ID\": \"917n\", \"total_otters\": 109}, {\"HAB_ID\": \"917o\", \"total_otters\": 0}, {\"HAB_ID\": \"918n\", \"total_otters\": 80}, {\"HAB_ID\": \"918o\", \"total_otters\": 0}, {\"HAB_ID\": \"919n\", \"total_otters\": 77}, {\"HAB_ID\": \"919o\", \"total_otters\": 0}, {\"HAB_ID\": \"920n\", \"total_otters\": 81}, {\"HAB_ID\": \"920o\", \"total_otters\": 0}, {\"HAB_ID\": \"921n\", \"total_otters\": 84}, {\"HAB_ID\": \"921o\", \"total_otters\": 0}, {\"HAB_ID\": \"922n\", \"total_otters\": 69}, {\"HAB_ID\": \"922o\", \"total_otters\": 0}, {\"HAB_ID\": \"923n\", \"total_otters\": 48}, {\"HAB_ID\": \"923o\", \"total_otters\": 0}, {\"HAB_ID\": \"924n\", \"total_otters\": 55}, {\"HAB_ID\": \"924o\", \"total_otters\": 0}, {\"HAB_ID\": \"925n\", \"total_otters\": 63}, {\"HAB_ID\": \"925o\", \"total_otters\": 0}, {\"HAB_ID\": \"926n\", \"total_otters\": 46}, {\"HAB_ID\": \"926o\", \"total_otters\": 0}, {\"HAB_ID\": \"927n\", \"total_otters\": 35}, {\"HAB_ID\": \"927o\", \"total_otters\": 0}, {\"HAB_ID\": \"928n\", \"total_otters\": 43}, {\"HAB_ID\": \"928o\", \"total_otters\": 0}, {\"HAB_ID\": \"929n\", \"total_otters\": 29}, {\"HAB_ID\": \"929o\", \"total_otters\": 0}, {\"HAB_ID\": \"930n\", \"total_otters\": 36}, {\"HAB_ID\": \"930o\", \"total_otters\": 0}, {\"HAB_ID\": \"931n\", \"total_otters\": 21}, {\"HAB_ID\": \"931o\", \"total_otters\": 0}, {\"HAB_ID\": \"932n\", \"total_otters\": 20}, {\"HAB_ID\": \"932o\", \"total_otters\": 0}, {\"HAB_ID\": \"933n\", \"total_otters\": 17}, {\"HAB_ID\": \"933o\", \"total_otters\": 0}, {\"HAB_ID\": \"934n\", \"total_otters\": 24}, {\"HAB_ID\": \"934o\", \"total_otters\": 0}, {\"HAB_ID\": \"935n\", \"total_otters\": 14}, {\"HAB_ID\": \"935o\", \"total_otters\": 0}, {\"HAB_ID\": \"936n\", \"total_otters\": 13}, {\"HAB_ID\": \"936o\", \"total_otters\": 0}, {\"HAB_ID\": \"937n\", \"total_otters\": 13}, {\"HAB_ID\": \"937o\", \"total_otters\": 0}, {\"HAB_ID\": \"938n\", \"total_otters\": 15}, {\"HAB_ID\": \"938o\", \"total_otters\": 0}, {\"HAB_ID\": \"939n\", \"total_otters\": 12}, {\"HAB_ID\": \"939o\", \"total_otters\": 0}, {\"HAB_ID\": \"940n\", \"total_otters\": 14}, {\"HAB_ID\": \"940o\", \"total_otters\": 1}, {\"HAB_ID\": \"941n\", \"total_otters\": 9}, {\"HAB_ID\": \"941o\", \"total_otters\": 0}, {\"HAB_ID\": \"942n\", \"total_otters\": 16}, {\"HAB_ID\": \"942o\", \"total_otters\": 1}, {\"HAB_ID\": \"943n\", \"total_otters\": 8}, {\"HAB_ID\": \"943o\", \"total_otters\": 0}, {\"HAB_ID\": \"944n\", \"total_otters\": 12}, {\"HAB_ID\": \"944o\", \"total_otters\": 0}, {\"HAB_ID\": \"945n\", \"total_otters\": 10}, {\"HAB_ID\": \"945o\", \"total_otters\": 0}, {\"HAB_ID\": \"946n\", \"total_otters\": 9}, {\"HAB_ID\": \"946o\", \"total_otters\": 0}, {\"HAB_ID\": \"947n\", \"total_otters\": 8}, {\"HAB_ID\": \"947o\", \"total_otters\": 0}, {\"HAB_ID\": \"948n\", \"total_otters\": 7}, {\"HAB_ID\": \"948o\", \"total_otters\": 0}, {\"HAB_ID\": \"949n\", \"total_otters\": 7}, {\"HAB_ID\": \"949o\", \"total_otters\": 0}, {\"HAB_ID\": \"950n\", \"total_otters\": 7}, {\"HAB_ID\": \"950o\", \"total_otters\": 0}, {\"HAB_ID\": \"951n\", \"total_otters\": 8}, {\"HAB_ID\": \"951o\", \"total_otters\": 0}, {\"HAB_ID\": \"952n\", \"total_otters\": 8}, {\"HAB_ID\": \"952o\", \"total_otters\": 0}, {\"HAB_ID\": \"953n\", \"total_otters\": 5}, {\"HAB_ID\": \"953o\", \"total_otters\": 0}, {\"HAB_ID\": \"954n\", \"total_otters\": 5}, {\"HAB_ID\": \"954o\", \"total_otters\": 0}, {\"HAB_ID\": \"955n\", \"total_otters\": 8}, {\"HAB_ID\": \"955o\", \"total_otters\": 0}, {\"HAB_ID\": \"956n\", \"total_otters\": 6}, {\"HAB_ID\": \"956o\", \"total_otters\": 0}, {\"HAB_ID\": \"957n\", \"total_otters\": 4}, {\"HAB_ID\": \"957o\", \"total_otters\": 0}, {\"HAB_ID\": \"958n\", \"total_otters\": 7}, {\"HAB_ID\": \"958o\", \"total_otters\": 0}, {\"HAB_ID\": \"959n\", \"total_otters\": 3}, {\"HAB_ID\": \"959o\", \"total_otters\": 0}, {\"HAB_ID\": \"95n\", \"total_otters\": 0}, {\"HAB_ID\": \"95o\", \"total_otters\": 0}, {\"HAB_ID\": \"960n\", \"total_otters\": 3}, {\"HAB_ID\": \"960o\", \"total_otters\": 0}, {\"HAB_ID\": \"961n\", \"total_otters\": 4}, {\"HAB_ID\": \"961o\", \"total_otters\": 0}, {\"HAB_ID\": \"962n\", \"total_otters\": 3}, {\"HAB_ID\": \"962o\", \"total_otters\": 0}, {\"HAB_ID\": \"963n\", \"total_otters\": 3}, {\"HAB_ID\": \"963o\", \"total_otters\": 0}, {\"HAB_ID\": \"964n\", \"total_otters\": 3}, {\"HAB_ID\": \"964o\", \"total_otters\": 0}, {\"HAB_ID\": \"965n\", \"total_otters\": 3}, {\"HAB_ID\": \"965o\", \"total_otters\": 0}, {\"HAB_ID\": \"966n\", \"total_otters\": 6}, {\"HAB_ID\": \"966o\", \"total_otters\": 0}, {\"HAB_ID\": \"967n\", \"total_otters\": 3}, {\"HAB_ID\": \"967o\", \"total_otters\": 0}, {\"HAB_ID\": \"968n\", \"total_otters\": 3}, {\"HAB_ID\": \"968o\", \"total_otters\": 0}, {\"HAB_ID\": \"969n\", \"total_otters\": 2}, {\"HAB_ID\": \"969o\", \"total_otters\": 0}, {\"HAB_ID\": \"96n\", \"total_otters\": 0}, {\"HAB_ID\": \"96o\", \"total_otters\": 0}, {\"HAB_ID\": \"970n\", \"total_otters\": 2}, {\"HAB_ID\": \"970o\", \"total_otters\": 0}, {\"HAB_ID\": \"971n\", \"total_otters\": 1}, {\"HAB_ID\": \"971o\", \"total_otters\": 0}, {\"HAB_ID\": \"972n\", \"total_otters\": 0}, {\"HAB_ID\": \"972o\", \"total_otters\": 0}, {\"HAB_ID\": \"973n\", \"total_otters\": 0}, {\"HAB_ID\": \"973o\", \"total_otters\": 0}, {\"HAB_ID\": \"974n\", \"total_otters\": 0}, {\"HAB_ID\": \"974o\", \"total_otters\": 0}, {\"HAB_ID\": \"975n\", \"total_otters\": 0}, {\"HAB_ID\": \"975o\", \"total_otters\": 0}, {\"HAB_ID\": \"976n\", \"total_otters\": 0}, {\"HAB_ID\": \"976o\", \"total_otters\": 0}, {\"HAB_ID\": \"977n\", \"total_otters\": 0}, {\"HAB_ID\": \"977o\", \"total_otters\": 0}, {\"HAB_ID\": \"978n\", \"total_otters\": 0}, {\"HAB_ID\": \"978o\", \"total_otters\": 0}, {\"HAB_ID\": \"979n\", \"total_otters\": 0}, {\"HAB_ID\": \"979o\", \"total_otters\": 0}, {\"HAB_ID\": \"97n\", \"total_otters\": 0}, {\"HAB_ID\": \"97o\", \"total_otters\": 0}, {\"HAB_ID\": \"980n\", \"total_otters\": 0}, {\"HAB_ID\": \"980o\", \"total_otters\": 0}, {\"HAB_ID\": \"981n\", \"total_otters\": 0}, {\"HAB_ID\": \"981o\", \"total_otters\": 0}, {\"HAB_ID\": \"982n\", \"total_otters\": 0}, {\"HAB_ID\": \"982o\", \"total_otters\": 0}, {\"HAB_ID\": \"983n\", \"total_otters\": 0}, {\"HAB_ID\": \"983o\", \"total_otters\": 0}, {\"HAB_ID\": \"984n\", \"total_otters\": 0}, {\"HAB_ID\": \"984o\", \"total_otters\": 0}, {\"HAB_ID\": \"985n\", \"total_otters\": 0}, {\"HAB_ID\": \"985o\", \"total_otters\": 0}, {\"HAB_ID\": \"986n\", \"total_otters\": 0}, {\"HAB_ID\": \"986o\", \"total_otters\": 0}, {\"HAB_ID\": \"987n\", \"total_otters\": 0}, {\"HAB_ID\": \"987o\", \"total_otters\": 0}, {\"HAB_ID\": \"988n\", \"total_otters\": 0}, {\"HAB_ID\": \"988o\", \"total_otters\": 0}, {\"HAB_ID\": \"989n\", \"total_otters\": 0}, {\"HAB_ID\": \"989o\", \"total_otters\": 0}, {\"HAB_ID\": \"98n\", \"total_otters\": 0}, {\"HAB_ID\": \"98o\", \"total_otters\": 0}, {\"HAB_ID\": \"990n\", \"total_otters\": 0}, {\"HAB_ID\": \"990o\", \"total_otters\": 0}, {\"HAB_ID\": \"991n\", \"total_otters\": 0}, {\"HAB_ID\": \"991o\", \"total_otters\": 0}, {\"HAB_ID\": \"992n\", \"total_otters\": 0}, {\"HAB_ID\": \"992o\", \"total_otters\": 0}, {\"HAB_ID\": \"993n\", \"total_otters\": 0}, {\"HAB_ID\": \"993o\", \"total_otters\": 0}, {\"HAB_ID\": \"994n\", \"total_otters\": 0}, {\"HAB_ID\": \"994o\", \"total_otters\": 0}, {\"HAB_ID\": \"995n\", \"total_otters\": 0}, {\"HAB_ID\": \"995o\", \"total_otters\": 0}, {\"HAB_ID\": \"996n\", \"total_otters\": 0}, {\"HAB_ID\": \"996o\", \"total_otters\": 0}, {\"HAB_ID\": \"997n\", \"total_otters\": 0}, {\"HAB_ID\": \"997o\", \"total_otters\": 0}, {\"HAB_ID\": \"998n\", \"total_otters\": 0}, {\"HAB_ID\": \"998o\", \"total_otters\": 0}, {\"HAB_ID\": \"999n\", \"total_otters\": 0}, {\"HAB_ID\": \"999o\", \"total_otters\": 0}, {\"HAB_ID\": \"99n\", \"total_otters\": 0}, {\"HAB_ID\": \"99o\", \"total_otters\": 0}], \"data-66aa2ae3a4da3dc1e23a1818198a99c7\": [{\"y\": 200}]}}, {\"mode\": \"vega-lite\"});\n",
       "</script>"
      ],
      "text/plain": [
       "alt.LayerChart(...)"
      ]
     },
     "execution_count": 20,
     "metadata": {},
     "output_type": "execute_result"
    }
   ],
   "source": [
    "chart_title = 'Distribution of sea otter count across different habitats.'\n",
    "bar = alt.Chart(otter_groups_habitat).mark_bar().encode(\n",
    "        x=alt.X('HAB_ID', axis=alt.Axis(labels=False)),\n",
    "        y='total_otters'\n",
    ")\n",
    "\n",
    "rule = alt.Chart(pd.DataFrame({'y': [200]})).mark_rule(color='red').encode(y='y')\n",
    "\n",
    "(bar + rule).properties(\n",
    "    width=750,\n",
    "    height=400,\n",
    "    title=chart_title.split(':')\n",
    ").configure_axis(\n",
    "    grid=False,\n",
    "    labelFontSize=12,\n",
    "    titleFontSize=12\n",
    ").configure_title(\n",
    "    #fontWeight='normal',\n",
    "    fontSize=13\n",
    ")"
   ]
  },
  {
   "cell_type": "markdown",
   "metadata": {
    "id": "Pj0O7-4TY6iH"
   },
   "source": [
    "From the above distribution, we can see that there are lot of habitats with 0 otter counts, whereas only a hand few have more than 200 otters. There is one habitat in particular which seems to have a very high otter count.\n",
    "\n",
    "We later analyse why some regions have a very low otter count, whereas others have a high otter count."
   ]
  },
  {
   "cell_type": "code",
   "execution_count": 21,
   "metadata": {
    "id": "BEUyBnnJY6iH",
    "outputId": "465a2b1a-fd64-4f4f-c9b2-8ffd32ede237"
   },
   "outputs": [
    {
     "data": {
      "text/plain": [
       "(1285, 11)"
      ]
     },
     "execution_count": 21,
     "metadata": {},
     "output_type": "execute_result"
    }
   ],
   "source": [
    "len(otter_groups_habitat[otter_groups_habitat.total_otters == 0]), len(otter_groups_habitat[otter_groups_habitat.total_otters >= 200])"
   ]
  },
  {
   "cell_type": "markdown",
   "metadata": {
    "id": "rwHHHhcXY6iH"
   },
   "source": [
    "There are 2285 habitats in total. Out of these, only 11 habitats have more than 200 sea otters counted from 1985 to 2014. One, in particular, has a lot of sea otters. 1285 habitats have no sea otters from 1985 to 2014."
   ]
  },
  {
   "cell_type": "code",
   "execution_count": 22,
   "metadata": {
    "id": "xD8ozzCLY6iH"
   },
   "outputs": [],
   "source": [
    "def habitat_plot_over_years(hab_groups, threshold):\n",
    "    '''\n",
    "    Given the habitat group (pandas Groupby object) and a threshold, the minimum\n",
    "    number of otter count, this function plots the population of otters over years.\n",
    "    '''\n",
    "    \n",
    "    otter_groups_habitat = pd.DataFrame(hab_groups.total_otters.sum()).reset_index()\n",
    "    considered_habs = list(otter_groups_habitat[otter_groups_habitat.total_otters >= threshold].HAB_ID)\n",
    "    \n",
    "    plot_data = pd.DataFrame(columns=['HAB_ID','Year','total_otters'])\n",
    "    for hab in considered_habs:\n",
    "        new_hab = hab_groups.get_group(hab)[['HAB_ID','Year','total_otters']]\n",
    "        plot_data = plot_data.append(new_hab)\n",
    "    \n",
    "    chart_title = 'Population growth trend of otters in particular habitats over time'\n",
    "    chart = alt.Chart(plot_data).mark_line().encode(\n",
    "                x='Year',\n",
    "                y='total_otters',\n",
    "                color='HAB_ID'\n",
    "            ).properties(\n",
    "                width=600,\n",
    "                height=400,\n",
    "                title=chart_title.split(':')\n",
    "            ).configure_axis(\n",
    "                grid=False,\n",
    "                labelFontSize=12,\n",
    "                titleFontSize=12\n",
    "            ).configure_legend(\n",
    "                labelFontSize=12,\n",
    "                titleFontSize=12\n",
    "            ).configure_title(\n",
    "                #fontWeight='normal',\n",
    "                fontSize=13\n",
    "            )\n",
    "    \n",
    "    return chart"
   ]
  },
  {
   "cell_type": "markdown",
   "metadata": {
    "id": "fC1rPhmsY6iI"
   },
   "source": [
    "We plot the population growth trend of otters over years for habitats where minimum otter count is 200."
   ]
  },
  {
   "cell_type": "code",
   "execution_count": 23,
   "metadata": {
    "id": "nAFztY-gY6iI",
    "outputId": "d8177923-6d0a-402d-93d1-f89563d05d94"
   },
   "outputs": [
    {
     "data": {
      "text/html": [
       "\n",
       "<div id=\"altair-viz-02f4eb2224e641c88e31473f09097304\"></div>\n",
       "<script type=\"text/javascript\">\n",
       "  (function(spec, embedOpt){\n",
       "    let outputDiv = document.currentScript.previousElementSibling;\n",
       "    if (outputDiv.id !== \"altair-viz-02f4eb2224e641c88e31473f09097304\") {\n",
       "      outputDiv = document.getElementById(\"altair-viz-02f4eb2224e641c88e31473f09097304\");\n",
       "    }\n",
       "    const paths = {\n",
       "      \"vega\": \"https://cdn.jsdelivr.net/npm//vega@5?noext\",\n",
       "      \"vega-lib\": \"https://cdn.jsdelivr.net/npm//vega-lib?noext\",\n",
       "      \"vega-lite\": \"https://cdn.jsdelivr.net/npm//vega-lite@4.8.1?noext\",\n",
       "      \"vega-embed\": \"https://cdn.jsdelivr.net/npm//vega-embed@6?noext\",\n",
       "    };\n",
       "\n",
       "    function loadScript(lib) {\n",
       "      return new Promise(function(resolve, reject) {\n",
       "        var s = document.createElement('script');\n",
       "        s.src = paths[lib];\n",
       "        s.async = true;\n",
       "        s.onload = () => resolve(paths[lib]);\n",
       "        s.onerror = () => reject(`Error loading script: ${paths[lib]}`);\n",
       "        document.getElementsByTagName(\"head\")[0].appendChild(s);\n",
       "      });\n",
       "    }\n",
       "\n",
       "    function showError(err) {\n",
       "      outputDiv.innerHTML = `<div class=\"error\" style=\"color:red;\">${err}</div>`;\n",
       "      throw err;\n",
       "    }\n",
       "\n",
       "    function displayChart(vegaEmbed) {\n",
       "      vegaEmbed(outputDiv, spec, embedOpt)\n",
       "        .catch(err => showError(`Javascript Error: ${err.message}<br>This usually means there's a typo in your chart specification. See the javascript console for the full traceback.`));\n",
       "    }\n",
       "\n",
       "    if(typeof define === \"function\" && define.amd) {\n",
       "      requirejs.config({paths});\n",
       "      require([\"vega-embed\"], displayChart, err => showError(`Error loading script: ${err.message}`));\n",
       "    } else if (typeof vegaEmbed === \"function\") {\n",
       "      displayChart(vegaEmbed);\n",
       "    } else {\n",
       "      loadScript(\"vega\")\n",
       "        .then(() => loadScript(\"vega-lite\"))\n",
       "        .then(() => loadScript(\"vega-embed\"))\n",
       "        .catch(showError)\n",
       "        .then(() => displayChart(vegaEmbed));\n",
       "    }\n",
       "  })({\"config\": {\"view\": {\"continuousWidth\": 400, \"continuousHeight\": 300}, \"axis\": {\"grid\": false, \"labelFontSize\": 12, \"titleFontSize\": 12}, \"legend\": {\"labelFontSize\": 12, \"titleFontSize\": 12}, \"title\": {\"fontSize\": 13}}, \"data\": {\"name\": \"data-bd8018808989d14e74a824c8c7134bb0\"}, \"mark\": \"line\", \"encoding\": {\"color\": {\"type\": \"nominal\", \"field\": \"HAB_ID\"}, \"x\": {\"type\": \"quantitative\", \"field\": \"Year\"}, \"y\": {\"type\": \"quantitative\", \"field\": \"total_otters\"}}, \"height\": 400, \"title\": [\"Population growth trend of otters in particular habitats over time\"], \"width\": 600, \"$schema\": \"https://vega.github.io/schema/vega-lite/v4.8.1.json\", \"datasets\": {\"data-bd8018808989d14e74a824c8c7134bb0\": [{\"HAB_ID\": \"321b\", \"Year\": 1985.0, \"total_otters\": 0}, {\"HAB_ID\": \"321b\", \"Year\": 1986.0, \"total_otters\": 0}, {\"HAB_ID\": \"321b\", \"Year\": 1987.0, \"total_otters\": 0}, {\"HAB_ID\": \"321b\", \"Year\": 1988.0, \"total_otters\": 0}, {\"HAB_ID\": \"321b\", \"Year\": 1989.0, \"total_otters\": 0}, {\"HAB_ID\": \"321b\", \"Year\": 1990.0, \"total_otters\": 0}, {\"HAB_ID\": \"321b\", \"Year\": 1991.0, \"total_otters\": 0}, {\"HAB_ID\": \"321b\", \"Year\": 1992.0, \"total_otters\": 0}, {\"HAB_ID\": \"321b\", \"Year\": 1993.0, \"total_otters\": 0}, {\"HAB_ID\": \"321b\", \"Year\": 1994.0, \"total_otters\": 0}, {\"HAB_ID\": \"321b\", \"Year\": 1995.0, \"total_otters\": 7}, {\"HAB_ID\": \"321b\", \"Year\": 1996.0, \"total_otters\": 15}, {\"HAB_ID\": \"321b\", \"Year\": 1997.0, \"total_otters\": 27}, {\"HAB_ID\": \"321b\", \"Year\": 1998.0, \"total_otters\": 36}, {\"HAB_ID\": \"321b\", \"Year\": 1999.0, \"total_otters\": 34}, {\"HAB_ID\": \"321b\", \"Year\": 2000.0, \"total_otters\": 40}, {\"HAB_ID\": \"321b\", \"Year\": 2001.0, \"total_otters\": 36}, {\"HAB_ID\": \"321b\", \"Year\": 2002.0, \"total_otters\": 33}, {\"HAB_ID\": \"321b\", \"Year\": 2003.0, \"total_otters\": 17}, {\"HAB_ID\": \"321b\", \"Year\": 2004.0, \"total_otters\": 10}, {\"HAB_ID\": \"321b\", \"Year\": 2005.0, \"total_otters\": 21}, {\"HAB_ID\": \"321b\", \"Year\": 2006.0, \"total_otters\": 42}, {\"HAB_ID\": \"321b\", \"Year\": 2007.0, \"total_otters\": 61}, {\"HAB_ID\": \"321b\", \"Year\": 2008.0, \"total_otters\": 60}, {\"HAB_ID\": \"321b\", \"Year\": 2009.0, \"total_otters\": 58}, {\"HAB_ID\": \"321b\", \"Year\": 2010.0, \"total_otters\": 52}, {\"HAB_ID\": \"321b\", \"Year\": 2012.0, \"total_otters\": 71}, {\"HAB_ID\": \"321b\", \"Year\": 2013.0, \"total_otters\": 91}, {\"HAB_ID\": \"321b\", \"Year\": 2014.0, \"total_otters\": 119}, {\"HAB_ID\": \"396n\", \"Year\": 1985.0, \"total_otters\": 4}, {\"HAB_ID\": \"396n\", \"Year\": 1986.0, \"total_otters\": 4}, {\"HAB_ID\": \"396n\", \"Year\": 1987.0, \"total_otters\": 4}, {\"HAB_ID\": \"396n\", \"Year\": 1988.0, \"total_otters\": 5}, {\"HAB_ID\": \"396n\", \"Year\": 1989.0, \"total_otters\": 5}, {\"HAB_ID\": \"396n\", \"Year\": 1990.0, \"total_otters\": 4}, {\"HAB_ID\": \"396n\", \"Year\": 1991.0, \"total_otters\": 5}, {\"HAB_ID\": \"396n\", \"Year\": 1992.0, \"total_otters\": 6}, {\"HAB_ID\": \"396n\", \"Year\": 1993.0, \"total_otters\": 9}, {\"HAB_ID\": \"396n\", \"Year\": 1994.0, \"total_otters\": 10}, {\"HAB_ID\": \"396n\", \"Year\": 1995.0, \"total_otters\": 9}, {\"HAB_ID\": \"396n\", \"Year\": 1996.0, \"total_otters\": 9}, {\"HAB_ID\": \"396n\", \"Year\": 1997.0, \"total_otters\": 9}, {\"HAB_ID\": \"396n\", \"Year\": 1998.0, \"total_otters\": 9}, {\"HAB_ID\": \"396n\", \"Year\": 1999.0, \"total_otters\": 6}, {\"HAB_ID\": \"396n\", \"Year\": 2000.0, \"total_otters\": 6}, {\"HAB_ID\": \"396n\", \"Year\": 2001.0, \"total_otters\": 7}, {\"HAB_ID\": \"396n\", \"Year\": 2002.0, \"total_otters\": 8}, {\"HAB_ID\": \"396n\", \"Year\": 2003.0, \"total_otters\": 9}, {\"HAB_ID\": \"396n\", \"Year\": 2004.0, \"total_otters\": 10}, {\"HAB_ID\": \"396n\", \"Year\": 2005.0, \"total_otters\": 13}, {\"HAB_ID\": \"396n\", \"Year\": 2006.0, \"total_otters\": 11}, {\"HAB_ID\": \"396n\", \"Year\": 2007.0, \"total_otters\": 9}, {\"HAB_ID\": \"396n\", \"Year\": 2008.0, \"total_otters\": 9}, {\"HAB_ID\": \"396n\", \"Year\": 2009.0, \"total_otters\": 11}, {\"HAB_ID\": \"396n\", \"Year\": 2010.0, \"total_otters\": 11}, {\"HAB_ID\": \"396n\", \"Year\": 2012.0, \"total_otters\": 9}, {\"HAB_ID\": \"396n\", \"Year\": 2013.0, \"total_otters\": 11}, {\"HAB_ID\": \"396n\", \"Year\": 2014.0, \"total_otters\": 14}, {\"HAB_ID\": \"404n\", \"Year\": 1985.0, \"total_otters\": 5}, {\"HAB_ID\": \"404n\", \"Year\": 1986.0, \"total_otters\": 6}, {\"HAB_ID\": \"404n\", \"Year\": 1987.0, \"total_otters\": 8}, {\"HAB_ID\": \"404n\", \"Year\": 1988.0, \"total_otters\": 7}, {\"HAB_ID\": \"404n\", \"Year\": 1989.0, \"total_otters\": 7}, {\"HAB_ID\": \"404n\", \"Year\": 1990.0, \"total_otters\": 6}, {\"HAB_ID\": \"404n\", \"Year\": 1991.0, \"total_otters\": 6}, {\"HAB_ID\": \"404n\", \"Year\": 1992.0, \"total_otters\": 6}, {\"HAB_ID\": \"404n\", \"Year\": 1993.0, \"total_otters\": 9}, {\"HAB_ID\": \"404n\", \"Year\": 1994.0, \"total_otters\": 9}, {\"HAB_ID\": \"404n\", \"Year\": 1995.0, \"total_otters\": 8}, {\"HAB_ID\": \"404n\", \"Year\": 1996.0, \"total_otters\": 7}, {\"HAB_ID\": \"404n\", \"Year\": 1997.0, \"total_otters\": 8}, {\"HAB_ID\": \"404n\", \"Year\": 1998.0, \"total_otters\": 7}, {\"HAB_ID\": \"404n\", \"Year\": 1999.0, \"total_otters\": 6}, {\"HAB_ID\": \"404n\", \"Year\": 2000.0, \"total_otters\": 5}, {\"HAB_ID\": \"404n\", \"Year\": 2001.0, \"total_otters\": 5}, {\"HAB_ID\": \"404n\", \"Year\": 2002.0, \"total_otters\": 7}, {\"HAB_ID\": \"404n\", \"Year\": 2003.0, \"total_otters\": 8}, {\"HAB_ID\": \"404n\", \"Year\": 2004.0, \"total_otters\": 8}, {\"HAB_ID\": \"404n\", \"Year\": 2005.0, \"total_otters\": 9}, {\"HAB_ID\": \"404n\", \"Year\": 2006.0, \"total_otters\": 8}, {\"HAB_ID\": \"404n\", \"Year\": 2007.0, \"total_otters\": 8}, {\"HAB_ID\": \"404n\", \"Year\": 2008.0, \"total_otters\": 8}, {\"HAB_ID\": \"404n\", \"Year\": 2009.0, \"total_otters\": 10}, {\"HAB_ID\": \"404n\", \"Year\": 2010.0, \"total_otters\": 10}, {\"HAB_ID\": \"404n\", \"Year\": 2012.0, \"total_otters\": 10}, {\"HAB_ID\": \"404n\", \"Year\": 2013.0, \"total_otters\": 10}, {\"HAB_ID\": \"404n\", \"Year\": 2014.0, \"total_otters\": 10}, {\"HAB_ID\": \"406n\", \"Year\": 1985.0, \"total_otters\": 6}, {\"HAB_ID\": \"406n\", \"Year\": 1986.0, \"total_otters\": 6}, {\"HAB_ID\": \"406n\", \"Year\": 1987.0, \"total_otters\": 8}, {\"HAB_ID\": \"406n\", \"Year\": 1988.0, \"total_otters\": 7}, {\"HAB_ID\": \"406n\", \"Year\": 1989.0, \"total_otters\": 7}, {\"HAB_ID\": \"406n\", \"Year\": 1990.0, \"total_otters\": 6}, {\"HAB_ID\": \"406n\", \"Year\": 1991.0, \"total_otters\": 6}, {\"HAB_ID\": \"406n\", \"Year\": 1992.0, \"total_otters\": 8}, {\"HAB_ID\": \"406n\", \"Year\": 1993.0, \"total_otters\": 9}, {\"HAB_ID\": \"406n\", \"Year\": 1994.0, \"total_otters\": 9}, {\"HAB_ID\": \"406n\", \"Year\": 1995.0, \"total_otters\": 9}, {\"HAB_ID\": \"406n\", \"Year\": 1996.0, \"total_otters\": 8}, {\"HAB_ID\": \"406n\", \"Year\": 1997.0, \"total_otters\": 9}, {\"HAB_ID\": \"406n\", \"Year\": 1998.0, \"total_otters\": 9}, {\"HAB_ID\": \"406n\", \"Year\": 1999.0, \"total_otters\": 6}, {\"HAB_ID\": \"406n\", \"Year\": 2000.0, \"total_otters\": 5}, {\"HAB_ID\": \"406n\", \"Year\": 2001.0, \"total_otters\": 6}, {\"HAB_ID\": \"406n\", \"Year\": 2002.0, \"total_otters\": 9}, {\"HAB_ID\": \"406n\", \"Year\": 2003.0, \"total_otters\": 9}, {\"HAB_ID\": \"406n\", \"Year\": 2004.0, \"total_otters\": 8}, {\"HAB_ID\": \"406n\", \"Year\": 2005.0, \"total_otters\": 9}, {\"HAB_ID\": \"406n\", \"Year\": 2006.0, \"total_otters\": 9}, {\"HAB_ID\": \"406n\", \"Year\": 2007.0, \"total_otters\": 11}, {\"HAB_ID\": \"406n\", \"Year\": 2008.0, \"total_otters\": 10}, {\"HAB_ID\": \"406n\", \"Year\": 2009.0, \"total_otters\": 10}, {\"HAB_ID\": \"406n\", \"Year\": 2010.0, \"total_otters\": 10}, {\"HAB_ID\": \"406n\", \"Year\": 2012.0, \"total_otters\": 11}, {\"HAB_ID\": \"406n\", \"Year\": 2013.0, \"total_otters\": 11}, {\"HAB_ID\": \"406n\", \"Year\": 2014.0, \"total_otters\": 11}, {\"HAB_ID\": \"407n\", \"Year\": 1985.0, \"total_otters\": 5}, {\"HAB_ID\": \"407n\", \"Year\": 1986.0, \"total_otters\": 5}, {\"HAB_ID\": \"407n\", \"Year\": 1987.0, \"total_otters\": 6}, {\"HAB_ID\": \"407n\", \"Year\": 1988.0, \"total_otters\": 6}, {\"HAB_ID\": \"407n\", \"Year\": 1989.0, \"total_otters\": 6}, {\"HAB_ID\": \"407n\", \"Year\": 1990.0, \"total_otters\": 5}, {\"HAB_ID\": \"407n\", \"Year\": 1991.0, \"total_otters\": 5}, {\"HAB_ID\": \"407n\", \"Year\": 1992.0, \"total_otters\": 6}, {\"HAB_ID\": \"407n\", \"Year\": 1993.0, \"total_otters\": 8}, {\"HAB_ID\": \"407n\", \"Year\": 1994.0, \"total_otters\": 8}, {\"HAB_ID\": \"407n\", \"Year\": 1995.0, \"total_otters\": 6}, {\"HAB_ID\": \"407n\", \"Year\": 1996.0, \"total_otters\": 7}, {\"HAB_ID\": \"407n\", \"Year\": 1997.0, \"total_otters\": 8}, {\"HAB_ID\": \"407n\", \"Year\": 1998.0, \"total_otters\": 8}, {\"HAB_ID\": \"407n\", \"Year\": 1999.0, \"total_otters\": 5}, {\"HAB_ID\": \"407n\", \"Year\": 2000.0, \"total_otters\": 4}, {\"HAB_ID\": \"407n\", \"Year\": 2001.0, \"total_otters\": 5}, {\"HAB_ID\": \"407n\", \"Year\": 2002.0, \"total_otters\": 7}, {\"HAB_ID\": \"407n\", \"Year\": 2003.0, \"total_otters\": 7}, {\"HAB_ID\": \"407n\", \"Year\": 2004.0, \"total_otters\": 7}, {\"HAB_ID\": \"407n\", \"Year\": 2005.0, \"total_otters\": 7}, {\"HAB_ID\": \"407n\", \"Year\": 2006.0, \"total_otters\": 8}, {\"HAB_ID\": \"407n\", \"Year\": 2007.0, \"total_otters\": 10}, {\"HAB_ID\": \"407n\", \"Year\": 2008.0, \"total_otters\": 8}, {\"HAB_ID\": \"407n\", \"Year\": 2009.0, \"total_otters\": 9}, {\"HAB_ID\": \"407n\", \"Year\": 2010.0, \"total_otters\": 9}, {\"HAB_ID\": \"407n\", \"Year\": 2012.0, \"total_otters\": 10}, {\"HAB_ID\": \"407n\", \"Year\": 2013.0, \"total_otters\": 8}, {\"HAB_ID\": \"407n\", \"Year\": 2014.0, \"total_otters\": 9}, {\"HAB_ID\": \"408n\", \"Year\": 1985.0, \"total_otters\": 5}, {\"HAB_ID\": \"408n\", \"Year\": 1986.0, \"total_otters\": 5}, {\"HAB_ID\": \"408n\", \"Year\": 1987.0, \"total_otters\": 7}, {\"HAB_ID\": \"408n\", \"Year\": 1988.0, \"total_otters\": 7}, {\"HAB_ID\": \"408n\", \"Year\": 1989.0, \"total_otters\": 7}, {\"HAB_ID\": \"408n\", \"Year\": 1990.0, \"total_otters\": 6}, {\"HAB_ID\": \"408n\", \"Year\": 1991.0, \"total_otters\": 5}, {\"HAB_ID\": \"408n\", \"Year\": 1992.0, \"total_otters\": 7}, {\"HAB_ID\": \"408n\", \"Year\": 1993.0, \"total_otters\": 8}, {\"HAB_ID\": \"408n\", \"Year\": 1994.0, \"total_otters\": 8}, {\"HAB_ID\": \"408n\", \"Year\": 1995.0, \"total_otters\": 7}, {\"HAB_ID\": \"408n\", \"Year\": 1996.0, \"total_otters\": 7}, {\"HAB_ID\": \"408n\", \"Year\": 1997.0, \"total_otters\": 8}, {\"HAB_ID\": \"408n\", \"Year\": 1998.0, \"total_otters\": 8}, {\"HAB_ID\": \"408n\", \"Year\": 1999.0, \"total_otters\": 6}, {\"HAB_ID\": \"408n\", \"Year\": 2000.0, \"total_otters\": 5}, {\"HAB_ID\": \"408n\", \"Year\": 2001.0, \"total_otters\": 5}, {\"HAB_ID\": \"408n\", \"Year\": 2002.0, \"total_otters\": 7}, {\"HAB_ID\": \"408n\", \"Year\": 2003.0, \"total_otters\": 7}, {\"HAB_ID\": \"408n\", \"Year\": 2004.0, \"total_otters\": 7}, {\"HAB_ID\": \"408n\", \"Year\": 2005.0, \"total_otters\": 8}, {\"HAB_ID\": \"408n\", \"Year\": 2006.0, \"total_otters\": 10}, {\"HAB_ID\": \"408n\", \"Year\": 2007.0, \"total_otters\": 10}, {\"HAB_ID\": \"408n\", \"Year\": 2008.0, \"total_otters\": 9}, {\"HAB_ID\": \"408n\", \"Year\": 2009.0, \"total_otters\": 9}, {\"HAB_ID\": \"408n\", \"Year\": 2010.0, \"total_otters\": 9}, {\"HAB_ID\": \"408n\", \"Year\": 2012.0, \"total_otters\": 10}, {\"HAB_ID\": \"408n\", \"Year\": 2013.0, \"total_otters\": 8}, {\"HAB_ID\": \"408n\", \"Year\": 2014.0, \"total_otters\": 9}, {\"HAB_ID\": \"418n\", \"Year\": 1985.0, \"total_otters\": 8}, {\"HAB_ID\": \"418n\", \"Year\": 1986.0, \"total_otters\": 8}, {\"HAB_ID\": \"418n\", \"Year\": 1987.0, \"total_otters\": 10}, {\"HAB_ID\": \"418n\", \"Year\": 1988.0, \"total_otters\": 10}, {\"HAB_ID\": \"418n\", \"Year\": 1989.0, \"total_otters\": 12}, {\"HAB_ID\": \"418n\", \"Year\": 1990.0, \"total_otters\": 10}, {\"HAB_ID\": \"418n\", \"Year\": 1991.0, \"total_otters\": 10}, {\"HAB_ID\": \"418n\", \"Year\": 1992.0, \"total_otters\": 11}, {\"HAB_ID\": \"418n\", \"Year\": 1993.0, \"total_otters\": 11}, {\"HAB_ID\": \"418n\", \"Year\": 1994.0, \"total_otters\": 12}, {\"HAB_ID\": \"418n\", \"Year\": 1995.0, \"total_otters\": 11}, {\"HAB_ID\": \"418n\", \"Year\": 1996.0, \"total_otters\": 11}, {\"HAB_ID\": \"418n\", \"Year\": 1997.0, \"total_otters\": 11}, {\"HAB_ID\": \"418n\", \"Year\": 1998.0, \"total_otters\": 9}, {\"HAB_ID\": \"418n\", \"Year\": 1999.0, \"total_otters\": 9}, {\"HAB_ID\": \"418n\", \"Year\": 2000.0, \"total_otters\": 8}, {\"HAB_ID\": \"418n\", \"Year\": 2001.0, \"total_otters\": 9}, {\"HAB_ID\": \"418n\", \"Year\": 2002.0, \"total_otters\": 9}, {\"HAB_ID\": \"418n\", \"Year\": 2003.0, \"total_otters\": 9}, {\"HAB_ID\": \"418n\", \"Year\": 2004.0, \"total_otters\": 8}, {\"HAB_ID\": \"418n\", \"Year\": 2005.0, \"total_otters\": 10}, {\"HAB_ID\": \"418n\", \"Year\": 2006.0, \"total_otters\": 13}, {\"HAB_ID\": \"418n\", \"Year\": 2007.0, \"total_otters\": 14}, {\"HAB_ID\": \"418n\", \"Year\": 2008.0, \"total_otters\": 12}, {\"HAB_ID\": \"418n\", \"Year\": 2009.0, \"total_otters\": 11}, {\"HAB_ID\": \"418n\", \"Year\": 2010.0, \"total_otters\": 11}, {\"HAB_ID\": \"418n\", \"Year\": 2012.0, \"total_otters\": 11}, {\"HAB_ID\": \"418n\", \"Year\": 2013.0, \"total_otters\": 11}, {\"HAB_ID\": \"418n\", \"Year\": 2014.0, \"total_otters\": 13}, {\"HAB_ID\": \"420n\", \"Year\": 1985.0, \"total_otters\": 5}, {\"HAB_ID\": \"420n\", \"Year\": 1986.0, \"total_otters\": 5}, {\"HAB_ID\": \"420n\", \"Year\": 1987.0, \"total_otters\": 7}, {\"HAB_ID\": \"420n\", \"Year\": 1988.0, \"total_otters\": 7}, {\"HAB_ID\": \"420n\", \"Year\": 1989.0, \"total_otters\": 8}, {\"HAB_ID\": \"420n\", \"Year\": 1990.0, \"total_otters\": 7}, {\"HAB_ID\": \"420n\", \"Year\": 1991.0, \"total_otters\": 7}, {\"HAB_ID\": \"420n\", \"Year\": 1992.0, \"total_otters\": 8}, {\"HAB_ID\": \"420n\", \"Year\": 1993.0, \"total_otters\": 8}, {\"HAB_ID\": \"420n\", \"Year\": 1994.0, \"total_otters\": 10}, {\"HAB_ID\": \"420n\", \"Year\": 1995.0, \"total_otters\": 8}, {\"HAB_ID\": \"420n\", \"Year\": 1996.0, \"total_otters\": 8}, {\"HAB_ID\": \"420n\", \"Year\": 1997.0, \"total_otters\": 8}, {\"HAB_ID\": \"420n\", \"Year\": 1998.0, \"total_otters\": 7}, {\"HAB_ID\": \"420n\", \"Year\": 1999.0, \"total_otters\": 5}, {\"HAB_ID\": \"420n\", \"Year\": 2000.0, \"total_otters\": 6}, {\"HAB_ID\": \"420n\", \"Year\": 2001.0, \"total_otters\": 7}, {\"HAB_ID\": \"420n\", \"Year\": 2002.0, \"total_otters\": 7}, {\"HAB_ID\": \"420n\", \"Year\": 2003.0, \"total_otters\": 6}, {\"HAB_ID\": \"420n\", \"Year\": 2004.0, \"total_otters\": 6}, {\"HAB_ID\": \"420n\", \"Year\": 2005.0, \"total_otters\": 8}, {\"HAB_ID\": \"420n\", \"Year\": 2006.0, \"total_otters\": 9}, {\"HAB_ID\": \"420n\", \"Year\": 2007.0, \"total_otters\": 10}, {\"HAB_ID\": \"420n\", \"Year\": 2008.0, \"total_otters\": 9}, {\"HAB_ID\": \"420n\", \"Year\": 2009.0, \"total_otters\": 8}, {\"HAB_ID\": \"420n\", \"Year\": 2010.0, \"total_otters\": 8}, {\"HAB_ID\": \"420n\", \"Year\": 2012.0, \"total_otters\": 8}, {\"HAB_ID\": \"420n\", \"Year\": 2013.0, \"total_otters\": 8}, {\"HAB_ID\": \"420n\", \"Year\": 2014.0, \"total_otters\": 10}, {\"HAB_ID\": \"422n\", \"Year\": 1985.0, \"total_otters\": 5}, {\"HAB_ID\": \"422n\", \"Year\": 1986.0, \"total_otters\": 6}, {\"HAB_ID\": \"422n\", \"Year\": 1987.0, \"total_otters\": 7}, {\"HAB_ID\": \"422n\", \"Year\": 1988.0, \"total_otters\": 6}, {\"HAB_ID\": \"422n\", \"Year\": 1989.0, \"total_otters\": 8}, {\"HAB_ID\": \"422n\", \"Year\": 1990.0, \"total_otters\": 8}, {\"HAB_ID\": \"422n\", \"Year\": 1991.0, \"total_otters\": 8}, {\"HAB_ID\": \"422n\", \"Year\": 1992.0, \"total_otters\": 8}, {\"HAB_ID\": \"422n\", \"Year\": 1993.0, \"total_otters\": 10}, {\"HAB_ID\": \"422n\", \"Year\": 1994.0, \"total_otters\": 10}, {\"HAB_ID\": \"422n\", \"Year\": 1995.0, \"total_otters\": 9}, {\"HAB_ID\": \"422n\", \"Year\": 1996.0, \"total_otters\": 8}, {\"HAB_ID\": \"422n\", \"Year\": 1997.0, \"total_otters\": 8}, {\"HAB_ID\": \"422n\", \"Year\": 1998.0, \"total_otters\": 7}, {\"HAB_ID\": \"422n\", \"Year\": 1999.0, \"total_otters\": 7}, {\"HAB_ID\": \"422n\", \"Year\": 2000.0, \"total_otters\": 6}, {\"HAB_ID\": \"422n\", \"Year\": 2001.0, \"total_otters\": 8}, {\"HAB_ID\": \"422n\", \"Year\": 2002.0, \"total_otters\": 8}, {\"HAB_ID\": \"422n\", \"Year\": 2003.0, \"total_otters\": 8}, {\"HAB_ID\": \"422n\", \"Year\": 2004.0, \"total_otters\": 6}, {\"HAB_ID\": \"422n\", \"Year\": 2005.0, \"total_otters\": 8}, {\"HAB_ID\": \"422n\", \"Year\": 2006.0, \"total_otters\": 10}, {\"HAB_ID\": \"422n\", \"Year\": 2007.0, \"total_otters\": 12}, {\"HAB_ID\": \"422n\", \"Year\": 2008.0, \"total_otters\": 9}, {\"HAB_ID\": \"422n\", \"Year\": 2009.0, \"total_otters\": 8}, {\"HAB_ID\": \"422n\", \"Year\": 2010.0, \"total_otters\": 9}, {\"HAB_ID\": \"422n\", \"Year\": 2012.0, \"total_otters\": 9}, {\"HAB_ID\": \"422n\", \"Year\": 2013.0, \"total_otters\": 8}, {\"HAB_ID\": \"422n\", \"Year\": 2014.0, \"total_otters\": 11}, {\"HAB_ID\": \"450n\", \"Year\": 1985.0, \"total_otters\": 8}, {\"HAB_ID\": \"450n\", \"Year\": 1986.0, \"total_otters\": 9}, {\"HAB_ID\": \"450n\", \"Year\": 1987.0, \"total_otters\": 10}, {\"HAB_ID\": \"450n\", \"Year\": 1988.0, \"total_otters\": 11}, {\"HAB_ID\": \"450n\", \"Year\": 1989.0, \"total_otters\": 9}, {\"HAB_ID\": \"450n\", \"Year\": 1990.0, \"total_otters\": 11}, {\"HAB_ID\": \"450n\", \"Year\": 1991.0, \"total_otters\": 10}, {\"HAB_ID\": \"450n\", \"Year\": 1992.0, \"total_otters\": 11}, {\"HAB_ID\": \"450n\", \"Year\": 1993.0, \"total_otters\": 9}, {\"HAB_ID\": \"450n\", \"Year\": 1994.0, \"total_otters\": 11}, {\"HAB_ID\": \"450n\", \"Year\": 1995.0, \"total_otters\": 8}, {\"HAB_ID\": \"450n\", \"Year\": 1996.0, \"total_otters\": 7}, {\"HAB_ID\": \"450n\", \"Year\": 1997.0, \"total_otters\": 8}, {\"HAB_ID\": \"450n\", \"Year\": 1998.0, \"total_otters\": 8}, {\"HAB_ID\": \"450n\", \"Year\": 1999.0, \"total_otters\": 8}, {\"HAB_ID\": \"450n\", \"Year\": 2000.0, \"total_otters\": 4}, {\"HAB_ID\": \"450n\", \"Year\": 2001.0, \"total_otters\": 4}, {\"HAB_ID\": \"450n\", \"Year\": 2002.0, \"total_otters\": 5}, {\"HAB_ID\": \"450n\", \"Year\": 2003.0, \"total_otters\": 5}, {\"HAB_ID\": \"450n\", \"Year\": 2004.0, \"total_otters\": 5}, {\"HAB_ID\": \"450n\", \"Year\": 2005.0, \"total_otters\": 5}, {\"HAB_ID\": \"450n\", \"Year\": 2006.0, \"total_otters\": 5}, {\"HAB_ID\": \"450n\", \"Year\": 2007.0, \"total_otters\": 7}, {\"HAB_ID\": \"450n\", \"Year\": 2008.0, \"total_otters\": 7}, {\"HAB_ID\": \"450n\", \"Year\": 2009.0, \"total_otters\": 7}, {\"HAB_ID\": \"450n\", \"Year\": 2010.0, \"total_otters\": 5}, {\"HAB_ID\": \"450n\", \"Year\": 2012.0, \"total_otters\": 8}, {\"HAB_ID\": \"450n\", \"Year\": 2013.0, \"total_otters\": 11}, {\"HAB_ID\": \"450n\", \"Year\": 2014.0, \"total_otters\": 10}, {\"HAB_ID\": \"801n\", \"Year\": 1985.0, \"total_otters\": 5}, {\"HAB_ID\": \"801n\", \"Year\": 1986.0, \"total_otters\": 6}, {\"HAB_ID\": \"801n\", \"Year\": 1987.0, \"total_otters\": 7}, {\"HAB_ID\": \"801n\", \"Year\": 1988.0, \"total_otters\": 7}, {\"HAB_ID\": \"801n\", \"Year\": 1989.0, \"total_otters\": 7}, {\"HAB_ID\": \"801n\", \"Year\": 1990.0, \"total_otters\": 7}, {\"HAB_ID\": \"801n\", \"Year\": 1991.0, \"total_otters\": 7}, {\"HAB_ID\": \"801n\", \"Year\": 1992.0, \"total_otters\": 7}, {\"HAB_ID\": \"801n\", \"Year\": 1993.0, \"total_otters\": 7}, {\"HAB_ID\": \"801n\", \"Year\": 1994.0, \"total_otters\": 9}, {\"HAB_ID\": \"801n\", \"Year\": 1995.0, \"total_otters\": 9}, {\"HAB_ID\": \"801n\", \"Year\": 1996.0, \"total_otters\": 8}, {\"HAB_ID\": \"801n\", \"Year\": 1997.0, \"total_otters\": 5}, {\"HAB_ID\": \"801n\", \"Year\": 1998.0, \"total_otters\": 4}, {\"HAB_ID\": \"801n\", \"Year\": 1999.0, \"total_otters\": 4}, {\"HAB_ID\": \"801n\", \"Year\": 2000.0, \"total_otters\": 4}, {\"HAB_ID\": \"801n\", \"Year\": 2001.0, \"total_otters\": 4}, {\"HAB_ID\": \"801n\", \"Year\": 2002.0, \"total_otters\": 4}, {\"HAB_ID\": \"801n\", \"Year\": 2003.0, \"total_otters\": 5}, {\"HAB_ID\": \"801n\", \"Year\": 2004.0, \"total_otters\": 8}, {\"HAB_ID\": \"801n\", \"Year\": 2005.0, \"total_otters\": 10}, {\"HAB_ID\": \"801n\", \"Year\": 2006.0, \"total_otters\": 11}, {\"HAB_ID\": \"801n\", \"Year\": 2007.0, \"total_otters\": 9}, {\"HAB_ID\": \"801n\", \"Year\": 2008.0, \"total_otters\": 9}, {\"HAB_ID\": \"801n\", \"Year\": 2009.0, \"total_otters\": 7}, {\"HAB_ID\": \"801n\", \"Year\": 2010.0, \"total_otters\": 9}, {\"HAB_ID\": \"801n\", \"Year\": 2012.0, \"total_otters\": 9}, {\"HAB_ID\": \"801n\", \"Year\": 2013.0, \"total_otters\": 9}, {\"HAB_ID\": \"801n\", \"Year\": 2014.0, \"total_otters\": 8}]}}, {\"mode\": \"vega-lite\"});\n",
       "</script>"
      ],
      "text/plain": [
       "alt.Chart(...)"
      ]
     },
     "execution_count": 23,
     "metadata": {},
     "output_type": "execute_result"
    }
   ],
   "source": [
    "habitat_plot_over_years(hab_groups, threshold=200)"
   ]
  },
  {
   "cell_type": "markdown",
   "metadata": {
    "id": "5sHVhAJcY6iI"
   },
   "source": [
    "There is a particular habitat, `321b`, which has a significant increase in population over time."
   ]
  },
  {
   "cell_type": "markdown",
   "metadata": {
    "id": "RS-m4aLzY6iI"
   },
   "source": [
    "We analyse the habitat properties, to understand why certain habitats have high otter counts. We analyse each habitat property, **AREA** and **DEPTH**, independently. "
   ]
  },
  {
   "cell_type": "markdown",
   "metadata": {
    "id": "bbI3auGV75ID"
   },
   "source": [
    "#### Depth Trend\n",
    "We first look into **DEPTH**. For a given threshold of otter count (minimum otters), we plot a distribution of **DEPTH** attribute of habitats."
   ]
  },
  {
   "cell_type": "code",
   "execution_count": 24,
   "metadata": {
    "id": "aAXRyavUY6iI"
   },
   "outputs": [],
   "source": [
    "def habitat_properties_given_min_otter(hab_groups,threshold):\n",
    "    otter_groups_habitat = pd.DataFrame(hab_groups.total_otters.sum()).reset_index()\n",
    "    considered_habs = list(otter_groups_habitat[otter_groups_habitat.total_otters > threshold].HAB_ID)\n",
    "\n",
    "    habitat_properties = pd.DataFrame(columns=['HAB_ID','AREA','DEPTH'])\n",
    "    for hab in considered_habs:\n",
    "        new_hab = hab_groups.get_group(hab)[['HAB_ID','AREA','DEPTH']].iloc[0]   # iloc[0], because all have same properties\n",
    "        new_count = otter_groups_habitat[otter_groups_habitat.HAB_ID==hab].total_otters.values.item()\n",
    "        new_hab['OTTER_COUNT'] = new_count\n",
    "        habitat_properties = habitat_properties.append(new_hab)\n",
    "        \n",
    "    return habitat_properties"
   ]
  },
  {
   "cell_type": "code",
   "execution_count": 25,
   "metadata": {
    "id": "HG6_PH_GY6iJ"
   },
   "outputs": [],
   "source": [
    "def depth_distribution_plot(df,title=None):\n",
    "    '''\n",
    "    Given a dataframe with depth value and counts, return a\n",
    "    bar plot depicting the distribution.\n",
    "    '''\n",
    "    \n",
    "    chart = alt.Chart(df).mark_bar().encode(\n",
    "                x='DEPTH',\n",
    "                y='Count'\n",
    "            ).properties(\n",
    "                width=alt.Step(40),\n",
    "                height=200,\n",
    "                title=title.split(':')\n",
    "            ).configure_axis(\n",
    "                grid=False,\n",
    "                labelFontSize=12,\n",
    "                titleFontSize=12\n",
    "            ).configure_legend(\n",
    "                labelFontSize=12,\n",
    "                titleFontSize=12\n",
    "            ).configure_title(\n",
    "                #fontWeight='normal',\n",
    "                fontSize=13\n",
    "            )\n",
    "    \n",
    "    return chart"
   ]
  },
  {
   "cell_type": "code",
   "execution_count": 26,
   "metadata": {
    "id": "DFahqxPpY6iJ",
    "outputId": "92a51578-b659-4b02-8447-7fe885db0236"
   },
   "outputs": [
    {
     "data": {
      "text/html": [
       "\n",
       "<div id=\"altair-viz-5a1afd450eb14f17a106bd0d807e37c4\"></div>\n",
       "<script type=\"text/javascript\">\n",
       "  (function(spec, embedOpt){\n",
       "    let outputDiv = document.currentScript.previousElementSibling;\n",
       "    if (outputDiv.id !== \"altair-viz-5a1afd450eb14f17a106bd0d807e37c4\") {\n",
       "      outputDiv = document.getElementById(\"altair-viz-5a1afd450eb14f17a106bd0d807e37c4\");\n",
       "    }\n",
       "    const paths = {\n",
       "      \"vega\": \"https://cdn.jsdelivr.net/npm//vega@5?noext\",\n",
       "      \"vega-lib\": \"https://cdn.jsdelivr.net/npm//vega-lib?noext\",\n",
       "      \"vega-lite\": \"https://cdn.jsdelivr.net/npm//vega-lite@4.8.1?noext\",\n",
       "      \"vega-embed\": \"https://cdn.jsdelivr.net/npm//vega-embed@6?noext\",\n",
       "    };\n",
       "\n",
       "    function loadScript(lib) {\n",
       "      return new Promise(function(resolve, reject) {\n",
       "        var s = document.createElement('script');\n",
       "        s.src = paths[lib];\n",
       "        s.async = true;\n",
       "        s.onload = () => resolve(paths[lib]);\n",
       "        s.onerror = () => reject(`Error loading script: ${paths[lib]}`);\n",
       "        document.getElementsByTagName(\"head\")[0].appendChild(s);\n",
       "      });\n",
       "    }\n",
       "\n",
       "    function showError(err) {\n",
       "      outputDiv.innerHTML = `<div class=\"error\" style=\"color:red;\">${err}</div>`;\n",
       "      throw err;\n",
       "    }\n",
       "\n",
       "    function displayChart(vegaEmbed) {\n",
       "      vegaEmbed(outputDiv, spec, embedOpt)\n",
       "        .catch(err => showError(`Javascript Error: ${err.message}<br>This usually means there's a typo in your chart specification. See the javascript console for the full traceback.`));\n",
       "    }\n",
       "\n",
       "    if(typeof define === \"function\" && define.amd) {\n",
       "      requirejs.config({paths});\n",
       "      require([\"vega-embed\"], displayChart, err => showError(`Error loading script: ${err.message}`));\n",
       "    } else if (typeof vegaEmbed === \"function\") {\n",
       "      displayChart(vegaEmbed);\n",
       "    } else {\n",
       "      loadScript(\"vega\")\n",
       "        .then(() => loadScript(\"vega-lite\"))\n",
       "        .then(() => loadScript(\"vega-embed\"))\n",
       "        .catch(showError)\n",
       "        .then(() => displayChart(vegaEmbed));\n",
       "    }\n",
       "  })({\"config\": {\"view\": {\"continuousWidth\": 400, \"continuousHeight\": 300}, \"axis\": {\"grid\": false, \"labelFontSize\": 12, \"titleFontSize\": 12}, \"legend\": {\"labelFontSize\": 12, \"titleFontSize\": 12}, \"title\": {\"fontSize\": 13}}, \"data\": {\"name\": \"data-0550f11521cb337e81cc6081ff0b8c90\"}, \"mark\": \"bar\", \"encoding\": {\"x\": {\"type\": \"nominal\", \"field\": \"DEPTH\"}, \"y\": {\"type\": \"quantitative\", \"field\": \"Count\"}}, \"height\": 200, \"title\": [\"Distribution of DEPTH attribute for habitats where otter count is more than 200.\", \"All the 11 habitats are in shallow region, one being in a bay.\"], \"width\": {\"step\": 40}, \"$schema\": \"https://vega.github.io/schema/vega-lite/v4.8.1.json\", \"datasets\": {\"data-0550f11521cb337e81cc6081ff0b8c90\": [{\"DEPTH\": \"0 to -30m\", \"Count\": 10}, {\"DEPTH\": \"0 to -30m bay\", \"Count\": 1}]}}, {\"mode\": \"vega-lite\"});\n",
       "</script>"
      ],
      "text/plain": [
       "alt.Chart(...)"
      ]
     },
     "execution_count": 26,
     "metadata": {},
     "output_type": "execute_result"
    }
   ],
   "source": [
    "habitat_properties = habitat_properties_given_min_otter(hab_groups,threshold=200)\n",
    "hab_prop_df = pd.DataFrame(habitat_properties.groupby('DEPTH').DEPTH.count())\n",
    "hab_prop_df.columns = ['Count']\n",
    "hab_prop_df.reset_index(inplace=True)\n",
    "\n",
    "title = 'Distribution of DEPTH attribute for habitats where otter count is more than 200.:\\\n",
    "All the 11 habitats are in shallow region, one being in a bay.'\n",
    "depth_distribution_plot(hab_prop_df,title)"
   ]
  },
  {
   "cell_type": "markdown",
   "metadata": {
    "id": "jvDKOaEhY6iJ"
   },
   "source": [
    "If we set `threshold=1` (meaning habitats with atleast one otter) and get the distribution for **DEPTH**, we can see that more sea otters are found in shallower regions."
   ]
  },
  {
   "cell_type": "code",
   "execution_count": 27,
   "metadata": {
    "id": "20MDgbWLY6iJ",
    "outputId": "c5cf1552-9d8f-4054-8719-abfbf1b5522c"
   },
   "outputs": [
    {
     "name": "stdout",
     "output_type": "stream",
     "text": [
      "967 habitats with atleast 1 otter.\n"
     ]
    },
    {
     "data": {
      "text/html": [
       "\n",
       "<div id=\"altair-viz-0b2c235d962c4a3c968048a1aad39bbf\"></div>\n",
       "<script type=\"text/javascript\">\n",
       "  (function(spec, embedOpt){\n",
       "    let outputDiv = document.currentScript.previousElementSibling;\n",
       "    if (outputDiv.id !== \"altair-viz-0b2c235d962c4a3c968048a1aad39bbf\") {\n",
       "      outputDiv = document.getElementById(\"altair-viz-0b2c235d962c4a3c968048a1aad39bbf\");\n",
       "    }\n",
       "    const paths = {\n",
       "      \"vega\": \"https://cdn.jsdelivr.net/npm//vega@5?noext\",\n",
       "      \"vega-lib\": \"https://cdn.jsdelivr.net/npm//vega-lib?noext\",\n",
       "      \"vega-lite\": \"https://cdn.jsdelivr.net/npm//vega-lite@4.8.1?noext\",\n",
       "      \"vega-embed\": \"https://cdn.jsdelivr.net/npm//vega-embed@6?noext\",\n",
       "    };\n",
       "\n",
       "    function loadScript(lib) {\n",
       "      return new Promise(function(resolve, reject) {\n",
       "        var s = document.createElement('script');\n",
       "        s.src = paths[lib];\n",
       "        s.async = true;\n",
       "        s.onload = () => resolve(paths[lib]);\n",
       "        s.onerror = () => reject(`Error loading script: ${paths[lib]}`);\n",
       "        document.getElementsByTagName(\"head\")[0].appendChild(s);\n",
       "      });\n",
       "    }\n",
       "\n",
       "    function showError(err) {\n",
       "      outputDiv.innerHTML = `<div class=\"error\" style=\"color:red;\">${err}</div>`;\n",
       "      throw err;\n",
       "    }\n",
       "\n",
       "    function displayChart(vegaEmbed) {\n",
       "      vegaEmbed(outputDiv, spec, embedOpt)\n",
       "        .catch(err => showError(`Javascript Error: ${err.message}<br>This usually means there's a typo in your chart specification. See the javascript console for the full traceback.`));\n",
       "    }\n",
       "\n",
       "    if(typeof define === \"function\" && define.amd) {\n",
       "      requirejs.config({paths});\n",
       "      require([\"vega-embed\"], displayChart, err => showError(`Error loading script: ${err.message}`));\n",
       "    } else if (typeof vegaEmbed === \"function\") {\n",
       "      displayChart(vegaEmbed);\n",
       "    } else {\n",
       "      loadScript(\"vega\")\n",
       "        .then(() => loadScript(\"vega-lite\"))\n",
       "        .then(() => loadScript(\"vega-embed\"))\n",
       "        .catch(showError)\n",
       "        .then(() => displayChart(vegaEmbed));\n",
       "    }\n",
       "  })({\"config\": {\"view\": {\"continuousWidth\": 400, \"continuousHeight\": 300}, \"axis\": {\"grid\": false, \"labelFontSize\": 12, \"titleFontSize\": 12}, \"legend\": {\"labelFontSize\": 12, \"titleFontSize\": 12}, \"title\": {\"fontSize\": 13}}, \"data\": {\"name\": \"data-eac75644277e6000d2bdd43f8575b5e4\"}, \"mark\": \"bar\", \"encoding\": {\"x\": {\"type\": \"nominal\", \"field\": \"DEPTH\"}, \"y\": {\"type\": \"quantitative\", \"field\": \"Count\"}}, \"height\": 200, \"title\": [\"Distribution of DEPTH attribute for habitats where otter count is more than 1.\", \"More habitats are in the shallower regions than in the deeper regions.\"], \"width\": {\"step\": 40}, \"$schema\": \"https://vega.github.io/schema/vega-lite/v4.8.1.json\", \"datasets\": {\"data-eac75644277e6000d2bdd43f8575b5e4\": [{\"DEPTH\": \"-30 to -60m\", \"Count\": 122}, {\"DEPTH\": \"0 to -30m\", \"Count\": 843}, {\"DEPTH\": \"0 to -30m bay\", \"Count\": 2}]}}, {\"mode\": \"vega-lite\"});\n",
       "</script>"
      ],
      "text/plain": [
       "alt.Chart(...)"
      ]
     },
     "execution_count": 27,
     "metadata": {},
     "output_type": "execute_result"
    }
   ],
   "source": [
    "habitat_properties = habitat_properties_given_min_otter(hab_groups,threshold=1)\n",
    "print(\"{} habitats with atleast 1 otter.\".format(len(habitat_properties)))\n",
    "hab_prop_df = pd.DataFrame(habitat_properties.groupby('DEPTH').DEPTH.count())\n",
    "hab_prop_df.columns = ['Count']\n",
    "hab_prop_df.reset_index(inplace=True)\n",
    "\n",
    "title = 'Distribution of DEPTH attribute for habitats where otter count is more than 1.:\\\n",
    "More habitats are in the shallower regions than in the deeper regions.'\n",
    "depth_distribution_plot(hab_prop_df,title)"
   ]
  },
  {
   "cell_type": "markdown",
   "metadata": {
    "id": "_uYlZUiNY6iK"
   },
   "source": [
    "Now, we look at the distribution of **DEPTH** attribute for all the habitats."
   ]
  },
  {
   "cell_type": "code",
   "execution_count": 28,
   "metadata": {
    "id": "Mq60ume-Y6iK",
    "outputId": "d0d38c5a-b4d4-4e69-e976-900678a80c00"
   },
   "outputs": [
    {
     "data": {
      "text/html": [
       "\n",
       "<div id=\"altair-viz-9c8797dd68ba47db97f9bbf391f45d53\"></div>\n",
       "<script type=\"text/javascript\">\n",
       "  (function(spec, embedOpt){\n",
       "    let outputDiv = document.currentScript.previousElementSibling;\n",
       "    if (outputDiv.id !== \"altair-viz-9c8797dd68ba47db97f9bbf391f45d53\") {\n",
       "      outputDiv = document.getElementById(\"altair-viz-9c8797dd68ba47db97f9bbf391f45d53\");\n",
       "    }\n",
       "    const paths = {\n",
       "      \"vega\": \"https://cdn.jsdelivr.net/npm//vega@5?noext\",\n",
       "      \"vega-lib\": \"https://cdn.jsdelivr.net/npm//vega-lib?noext\",\n",
       "      \"vega-lite\": \"https://cdn.jsdelivr.net/npm//vega-lite@4.8.1?noext\",\n",
       "      \"vega-embed\": \"https://cdn.jsdelivr.net/npm//vega-embed@6?noext\",\n",
       "    };\n",
       "\n",
       "    function loadScript(lib) {\n",
       "      return new Promise(function(resolve, reject) {\n",
       "        var s = document.createElement('script');\n",
       "        s.src = paths[lib];\n",
       "        s.async = true;\n",
       "        s.onload = () => resolve(paths[lib]);\n",
       "        s.onerror = () => reject(`Error loading script: ${paths[lib]}`);\n",
       "        document.getElementsByTagName(\"head\")[0].appendChild(s);\n",
       "      });\n",
       "    }\n",
       "\n",
       "    function showError(err) {\n",
       "      outputDiv.innerHTML = `<div class=\"error\" style=\"color:red;\">${err}</div>`;\n",
       "      throw err;\n",
       "    }\n",
       "\n",
       "    function displayChart(vegaEmbed) {\n",
       "      vegaEmbed(outputDiv, spec, embedOpt)\n",
       "        .catch(err => showError(`Javascript Error: ${err.message}<br>This usually means there's a typo in your chart specification. See the javascript console for the full traceback.`));\n",
       "    }\n",
       "\n",
       "    if(typeof define === \"function\" && define.amd) {\n",
       "      requirejs.config({paths});\n",
       "      require([\"vega-embed\"], displayChart, err => showError(`Error loading script: ${err.message}`));\n",
       "    } else if (typeof vegaEmbed === \"function\") {\n",
       "      displayChart(vegaEmbed);\n",
       "    } else {\n",
       "      loadScript(\"vega\")\n",
       "        .then(() => loadScript(\"vega-lite\"))\n",
       "        .then(() => loadScript(\"vega-embed\"))\n",
       "        .catch(showError)\n",
       "        .then(() => displayChart(vegaEmbed));\n",
       "    }\n",
       "  })({\"config\": {\"view\": {\"continuousWidth\": 400, \"continuousHeight\": 300}, \"axis\": {\"grid\": false, \"labelFontSize\": 12, \"titleFontSize\": 12}, \"legend\": {\"labelFontSize\": 12, \"titleFontSize\": 12}, \"title\": {\"fontSize\": 13}}, \"data\": {\"name\": \"data-d4d56b9b33c68e9d0e0e88fc3298c563\"}, \"mark\": \"bar\", \"encoding\": {\"x\": {\"type\": \"nominal\", \"field\": \"DEPTH\"}, \"y\": {\"type\": \"quantitative\", \"field\": \"Count\"}}, \"height\": 200, \"title\": [\"Distribution of DEPTH attribute for all habitats.In total, the habitats are equally distributed.\"], \"width\": {\"step\": 40}, \"$schema\": \"https://vega.github.io/schema/vega-lite/v4.8.1.json\", \"datasets\": {\"data-d4d56b9b33c68e9d0e0e88fc3298c563\": [{\"DEPTH\": \"-30 to -60m\", \"HAB_ID\": 1141, \"Count\": 1141}, {\"DEPTH\": \"-30 to -60m beyond 10k\", \"HAB_ID\": 1, \"Count\": 1}, {\"DEPTH\": \"0 to -30m\", \"HAB_ID\": 1141, \"Count\": 1141}, {\"DEPTH\": \"0 to -30m bay\", \"HAB_ID\": 2, \"Count\": 2}]}}, {\"mode\": \"vega-lite\"});\n",
       "</script>"
      ],
      "text/plain": [
       "alt.Chart(...)"
      ]
     },
     "execution_count": 28,
     "metadata": {},
     "output_type": "execute_result"
    }
   ],
   "source": [
    "hab_prop_df = pd.DataFrame(census.groupby(['DEPTH','HAB_ID']).DEPTH.count())\n",
    "hab_prop_df.columns = ['Count']\n",
    "hab_prop_df.reset_index(inplace=True)\n",
    "\n",
    "hab_prop_df = hab_prop_df.groupby('DEPTH').count().reset_index()\n",
    "\n",
    "title = 'Distribution of DEPTH attribute for all habitats.\\\n",
    "In total, the habitats are equally distributed.'\n",
    "depth_distribution_plot(hab_prop_df,title)"
   ]
  },
  {
   "cell_type": "markdown",
   "metadata": {
    "id": "F81q357CY6iK"
   },
   "source": [
    "From this analysis it is clear out of the 2285 habitats, there are 967 habitats, with atleast 1 otter count, which are in the shallower region of the sea. And most of the habitats with 0 otter counts are in the deeper region. This is a strong evidence showing that maybe shallower regions are more habitable for sea otters."
   ]
  },
  {
   "cell_type": "markdown",
   "metadata": {
    "id": "DVj_JsNB75IE"
   },
   "source": [
    "#### Area Trend\n",
    "We first look into **AREA**. For a given threshold of otter count (minimum otters), we plot a distribution of **AREA** attribute of habitats."
   ]
  },
  {
   "cell_type": "code",
   "execution_count": 29,
   "metadata": {
    "id": "kPRDYsrPY6iK"
   },
   "outputs": [],
   "source": [
    "def area_distribution_plot(df,title=None):\n",
    "    '''\n",
    "    Given a dataframe with depth area and counts, return a\n",
    "    bar plot depicting the distribution.\n",
    "    '''\n",
    "    \n",
    "    chart = alt.Chart(df).mark_circle().encode(\n",
    "                x='AREA',\n",
    "                y='OTTER_COUNT'\n",
    "            ).properties(\n",
    "                width=500,\n",
    "                height=300,\n",
    "                title=title.split(':')\n",
    "            ).configure_axis(\n",
    "                grid=False,\n",
    "                labelFontSize=12,\n",
    "                titleFontSize=12\n",
    "            ).configure_legend(\n",
    "                labelFontSize=12,\n",
    "                titleFontSize=12\n",
    "            ).configure_title(\n",
    "                #fontWeight='normal',\n",
    "                fontSize=13\n",
    "            )\n",
    "    \n",
    "    return chart"
   ]
  },
  {
   "cell_type": "code",
   "execution_count": 30,
   "metadata": {
    "id": "_SIKQ05SY6iK",
    "outputId": "6af19129-d6e0-41a5-9be3-b88aa5886b02"
   },
   "outputs": [
    {
     "data": {
      "text/html": [
       "\n",
       "<div id=\"altair-viz-b614c7c30bf6417ead3bf7aa6801e3f6\"></div>\n",
       "<script type=\"text/javascript\">\n",
       "  (function(spec, embedOpt){\n",
       "    let outputDiv = document.currentScript.previousElementSibling;\n",
       "    if (outputDiv.id !== \"altair-viz-b614c7c30bf6417ead3bf7aa6801e3f6\") {\n",
       "      outputDiv = document.getElementById(\"altair-viz-b614c7c30bf6417ead3bf7aa6801e3f6\");\n",
       "    }\n",
       "    const paths = {\n",
       "      \"vega\": \"https://cdn.jsdelivr.net/npm//vega@5?noext\",\n",
       "      \"vega-lib\": \"https://cdn.jsdelivr.net/npm//vega-lib?noext\",\n",
       "      \"vega-lite\": \"https://cdn.jsdelivr.net/npm//vega-lite@4.8.1?noext\",\n",
       "      \"vega-embed\": \"https://cdn.jsdelivr.net/npm//vega-embed@6?noext\",\n",
       "    };\n",
       "\n",
       "    function loadScript(lib) {\n",
       "      return new Promise(function(resolve, reject) {\n",
       "        var s = document.createElement('script');\n",
       "        s.src = paths[lib];\n",
       "        s.async = true;\n",
       "        s.onload = () => resolve(paths[lib]);\n",
       "        s.onerror = () => reject(`Error loading script: ${paths[lib]}`);\n",
       "        document.getElementsByTagName(\"head\")[0].appendChild(s);\n",
       "      });\n",
       "    }\n",
       "\n",
       "    function showError(err) {\n",
       "      outputDiv.innerHTML = `<div class=\"error\" style=\"color:red;\">${err}</div>`;\n",
       "      throw err;\n",
       "    }\n",
       "\n",
       "    function displayChart(vegaEmbed) {\n",
       "      vegaEmbed(outputDiv, spec, embedOpt)\n",
       "        .catch(err => showError(`Javascript Error: ${err.message}<br>This usually means there's a typo in your chart specification. See the javascript console for the full traceback.`));\n",
       "    }\n",
       "\n",
       "    if(typeof define === \"function\" && define.amd) {\n",
       "      requirejs.config({paths});\n",
       "      require([\"vega-embed\"], displayChart, err => showError(`Error loading script: ${err.message}`));\n",
       "    } else if (typeof vegaEmbed === \"function\") {\n",
       "      displayChart(vegaEmbed);\n",
       "    } else {\n",
       "      loadScript(\"vega\")\n",
       "        .then(() => loadScript(\"vega-lite\"))\n",
       "        .then(() => loadScript(\"vega-embed\"))\n",
       "        .catch(showError)\n",
       "        .then(() => displayChart(vegaEmbed));\n",
       "    }\n",
       "  })({\"config\": {\"view\": {\"continuousWidth\": 400, \"continuousHeight\": 300}, \"axis\": {\"grid\": false, \"labelFontSize\": 12, \"titleFontSize\": 12}, \"legend\": {\"labelFontSize\": 12, \"titleFontSize\": 12}, \"title\": {\"fontSize\": 13}}, \"data\": {\"name\": \"data-77a3d61e483d3dd96c2f44f22599f2d6\"}, \"mark\": \"circle\", \"encoding\": {\"x\": {\"type\": \"quantitative\", \"field\": \"AREA\"}, \"y\": {\"type\": \"quantitative\", \"field\": \"OTTER_COUNT\"}}, \"height\": 300, \"title\": [\"Distribution of AREA attribute for habitats where otter count is more than 200.\", \"Most of the habitats are smaller in area (less than 1 sq. km.)\"], \"width\": 500, \"$schema\": \"https://vega.github.io/schema/vega-lite/v4.8.1.json\", \"datasets\": {\"data-77a3d61e483d3dd96c2f44f22599f2d6\": [{\"AREA\": 3.3827131319999997, \"OTTER_COUNT\": 830.0}, {\"AREA\": 0.88275766731, \"OTTER_COUNT\": 236.0}, {\"AREA\": 0.59301188515, \"OTTER_COUNT\": 221.0}, {\"AREA\": 0.60640398996, \"OTTER_COUNT\": 242.0}, {\"AREA\": 0.50916974152, \"OTTER_COUNT\": 202.0}, {\"AREA\": 0.52325754243, \"OTTER_COUNT\": 214.0}, {\"AREA\": 0.62624001388, \"OTTER_COUNT\": 302.0}, {\"AREA\": 0.43904369314, \"OTTER_COUNT\": 218.0}, {\"AREA\": 0.51992676766, \"OTTER_COUNT\": 235.0}, {\"AREA\": 0.52087160941, \"OTTER_COUNT\": 226.0}, {\"AREA\": 1.99785080355, \"OTTER_COUNT\": 205.0}]}}, {\"mode\": \"vega-lite\"});\n",
       "</script>"
      ],
      "text/plain": [
       "alt.Chart(...)"
      ]
     },
     "execution_count": 30,
     "metadata": {},
     "output_type": "execute_result"
    }
   ],
   "source": [
    "habitat_properties = habitat_properties_given_min_otter(hab_groups,threshold=200)\n",
    "otter_area_groups = habitat_properties.groupby('AREA')['AREA','OTTER_COUNT'].head()\n",
    "\n",
    "title = 'Distribution of AREA attribute for habitats where otter count is more than 200.:\\\n",
    "Most of the habitats are smaller in area (less than 1 sq. km.)'\n",
    "area_distribution_plot(otter_area_groups,title)"
   ]
  },
  {
   "cell_type": "code",
   "execution_count": 31,
   "metadata": {
    "id": "NKT8OihMY6iL",
    "outputId": "3424bedc-19b2-4413-c85a-4153b2694506"
   },
   "outputs": [
    {
     "data": {
      "text/html": [
       "\n",
       "<div id=\"altair-viz-579bd6732fab453f9090ebf2d2978540\"></div>\n",
       "<script type=\"text/javascript\">\n",
       "  (function(spec, embedOpt){\n",
       "    let outputDiv = document.currentScript.previousElementSibling;\n",
       "    if (outputDiv.id !== \"altair-viz-579bd6732fab453f9090ebf2d2978540\") {\n",
       "      outputDiv = document.getElementById(\"altair-viz-579bd6732fab453f9090ebf2d2978540\");\n",
       "    }\n",
       "    const paths = {\n",
       "      \"vega\": \"https://cdn.jsdelivr.net/npm//vega@5?noext\",\n",
       "      \"vega-lib\": \"https://cdn.jsdelivr.net/npm//vega-lib?noext\",\n",
       "      \"vega-lite\": \"https://cdn.jsdelivr.net/npm//vega-lite@4.8.1?noext\",\n",
       "      \"vega-embed\": \"https://cdn.jsdelivr.net/npm//vega-embed@6?noext\",\n",
       "    };\n",
       "\n",
       "    function loadScript(lib) {\n",
       "      return new Promise(function(resolve, reject) {\n",
       "        var s = document.createElement('script');\n",
       "        s.src = paths[lib];\n",
       "        s.async = true;\n",
       "        s.onload = () => resolve(paths[lib]);\n",
       "        s.onerror = () => reject(`Error loading script: ${paths[lib]}`);\n",
       "        document.getElementsByTagName(\"head\")[0].appendChild(s);\n",
       "      });\n",
       "    }\n",
       "\n",
       "    function showError(err) {\n",
       "      outputDiv.innerHTML = `<div class=\"error\" style=\"color:red;\">${err}</div>`;\n",
       "      throw err;\n",
       "    }\n",
       "\n",
       "    function displayChart(vegaEmbed) {\n",
       "      vegaEmbed(outputDiv, spec, embedOpt)\n",
       "        .catch(err => showError(`Javascript Error: ${err.message}<br>This usually means there's a typo in your chart specification. See the javascript console for the full traceback.`));\n",
       "    }\n",
       "\n",
       "    if(typeof define === \"function\" && define.amd) {\n",
       "      requirejs.config({paths});\n",
       "      require([\"vega-embed\"], displayChart, err => showError(`Error loading script: ${err.message}`));\n",
       "    } else if (typeof vegaEmbed === \"function\") {\n",
       "      displayChart(vegaEmbed);\n",
       "    } else {\n",
       "      loadScript(\"vega\")\n",
       "        .then(() => loadScript(\"vega-lite\"))\n",
       "        .then(() => loadScript(\"vega-embed\"))\n",
       "        .catch(showError)\n",
       "        .then(() => displayChart(vegaEmbed));\n",
       "    }\n",
       "  })({\"config\": {\"view\": {\"continuousWidth\": 400, \"continuousHeight\": 300}, \"axis\": {\"grid\": false, \"labelFontSize\": 12, \"titleFontSize\": 12}, \"legend\": {\"labelFontSize\": 12, \"titleFontSize\": 12}, \"title\": {\"fontSize\": 13}}, \"data\": {\"name\": \"data-e5b7f7663dbba1cbe3f0a51c553d9c48\"}, \"mark\": \"circle\", \"encoding\": {\"x\": {\"type\": \"quantitative\", \"field\": \"AREA\"}, \"y\": {\"type\": \"quantitative\", \"field\": \"OTTER_COUNT\"}}, \"height\": 300, \"title\": [\"Distribution of AREA attribute for habitats where otter count is more than 100.\", \"Most of the habitats are smaller in area (less than 1 sq. km.)\"], \"width\": 500, \"$schema\": \"https://vega.github.io/schema/vega-lite/v4.8.1.json\", \"datasets\": {\"data-e5b7f7663dbba1cbe3f0a51c553d9c48\": [{\"AREA\": 3.84012872811, \"OTTER_COUNT\": 108.0}, {\"AREA\": 3.3827131319999997, \"OTTER_COUNT\": 830.0}, {\"AREA\": 0.65747870521, \"OTTER_COUNT\": 114.0}, {\"AREA\": 0.55797990993, \"OTTER_COUNT\": 103.0}, {\"AREA\": 0.65357532586, \"OTTER_COUNT\": 138.0}, {\"AREA\": 0.59248873638, \"OTTER_COUNT\": 129.0}, {\"AREA\": 0.60822536815, \"OTTER_COUNT\": 143.0}, {\"AREA\": 0.37958209159999995, \"OTTER_COUNT\": 108.0}, {\"AREA\": 0.36504113784000003, \"OTTER_COUNT\": 106.0}, {\"AREA\": 0.44949006652, \"OTTER_COUNT\": 142.0}, {\"AREA\": 0.34935746226000003, \"OTTER_COUNT\": 103.0}, {\"AREA\": 0.43504939765, \"OTTER_COUNT\": 133.0}, {\"AREA\": 0.36106030412, \"OTTER_COUNT\": 112.0}, {\"AREA\": 0.41265893071000004, \"OTTER_COUNT\": 126.0}, {\"AREA\": 0.37482558588, \"OTTER_COUNT\": 105.0}, {\"AREA\": 0.39494201196, \"OTTER_COUNT\": 106.0}, {\"AREA\": 0.5292431498, \"OTTER_COUNT\": 145.0}, {\"AREA\": 0.53994266979, \"OTTER_COUNT\": 142.0}, {\"AREA\": 0.88275766731, \"OTTER_COUNT\": 236.0}, {\"AREA\": 0.46130666380999996, \"OTTER_COUNT\": 116.0}, {\"AREA\": 0.5566354960100001, \"OTTER_COUNT\": 133.0}, {\"AREA\": 0.48794664917999997, \"OTTER_COUNT\": 116.0}, {\"AREA\": 0.70116728736, \"OTTER_COUNT\": 195.0}, {\"AREA\": 0.46897216137000003, \"OTTER_COUNT\": 129.0}, {\"AREA\": 0.46802904060999995, \"OTTER_COUNT\": 168.0}, {\"AREA\": 0.59301188515, \"OTTER_COUNT\": 221.0}, {\"AREA\": 0.4960211596, \"OTTER_COUNT\": 182.0}, {\"AREA\": 0.60640398996, \"OTTER_COUNT\": 242.0}, {\"AREA\": 0.50916974152, \"OTTER_COUNT\": 202.0}, {\"AREA\": 0.52325754243, \"OTTER_COUNT\": 214.0}, {\"AREA\": 0.46166792978, \"OTTER_COUNT\": 185.0}, {\"AREA\": 0.34557401058, \"OTTER_COUNT\": 142.0}, {\"AREA\": 0.29284760484, \"OTTER_COUNT\": 121.0}, {\"AREA\": 0.27129079506000003, \"OTTER_COUNT\": 112.0}, {\"AREA\": 0.2965055487, \"OTTER_COUNT\": 115.0}, {\"AREA\": 0.35918659853, \"OTTER_COUNT\": 156.0}, {\"AREA\": 0.62624001388, \"OTTER_COUNT\": 302.0}, {\"AREA\": 0.30715848712, \"OTTER_COUNT\": 137.0}, {\"AREA\": 0.43904369314, \"OTTER_COUNT\": 218.0}, {\"AREA\": 0.51992676766, \"OTTER_COUNT\": 235.0}, {\"AREA\": 0.34439294067000004, \"OTTER_COUNT\": 131.0}, {\"AREA\": 0.58675436551, \"OTTER_COUNT\": 190.0}, {\"AREA\": 0.45112872311999996, \"OTTER_COUNT\": 137.0}, {\"AREA\": 0.52202082958, \"OTTER_COUNT\": 167.0}, {\"AREA\": 0.25781135864, \"OTTER_COUNT\": 117.0}, {\"AREA\": 0.27480538611, \"OTTER_COUNT\": 128.0}, {\"AREA\": 0.31698166488, \"OTTER_COUNT\": 154.0}, {\"AREA\": 0.226307592, \"OTTER_COUNT\": 102.0}, {\"AREA\": 0.27948410459, \"OTTER_COUNT\": 125.0}, {\"AREA\": 0.24642845853, \"OTTER_COUNT\": 105.0}, {\"AREA\": 0.52087160941, \"OTTER_COUNT\": 226.0}, {\"AREA\": 0.36344488477, \"OTTER_COUNT\": 159.0}, {\"AREA\": 0.30963126514, \"OTTER_COUNT\": 104.0}, {\"AREA\": 0.41755851946, \"OTTER_COUNT\": 106.0}, {\"AREA\": 0.5598102511599999, \"OTTER_COUNT\": 199.0}, {\"AREA\": 0.35999918609, \"OTTER_COUNT\": 112.0}, {\"AREA\": 0.44886504001999994, \"OTTER_COUNT\": 150.0}, {\"AREA\": 0.43351865933, \"OTTER_COUNT\": 133.0}, {\"AREA\": 0.41795111104000005, \"OTTER_COUNT\": 133.0}, {\"AREA\": 0.35833789027999996, \"OTTER_COUNT\": 101.0}, {\"AREA\": 0.3945053253, \"OTTER_COUNT\": 121.0}, {\"AREA\": 0.42724860961000005, \"OTTER_COUNT\": 136.0}, {\"AREA\": 0.51630934089, \"OTTER_COUNT\": 146.0}, {\"AREA\": 0.39945622422, \"OTTER_COUNT\": 117.0}, {\"AREA\": 0.47074282545, \"OTTER_COUNT\": 134.0}, {\"AREA\": 0.36848569632, \"OTTER_COUNT\": 104.0}, {\"AREA\": 0.43768002534, \"OTTER_COUNT\": 179.0}, {\"AREA\": 0.29849307831, \"OTTER_COUNT\": 107.0}, {\"AREA\": 0.44158340648999994, \"OTTER_COUNT\": 163.0}, {\"AREA\": 0.4299647509, \"OTTER_COUNT\": 152.0}, {\"AREA\": 0.32507252314, \"OTTER_COUNT\": 105.0}, {\"AREA\": 0.34368062777999997, \"OTTER_COUNT\": 103.0}, {\"AREA\": 0.52771711702, \"OTTER_COUNT\": 146.0}, {\"AREA\": 0.5343196767099999, \"OTTER_COUNT\": 154.0}, {\"AREA\": 0.35826121520000004, \"OTTER_COUNT\": 105.0}, {\"AREA\": 0.42187119697, \"OTTER_COUNT\": 116.0}, {\"AREA\": 0.43712551986000003, \"OTTER_COUNT\": 115.0}, {\"AREA\": 0.5847252229200001, \"OTTER_COUNT\": 110.0}, {\"AREA\": 0.5972852279900001, \"OTTER_COUNT\": 113.0}, {\"AREA\": 0.65791269951, \"OTTER_COUNT\": 122.0}, {\"AREA\": 0.69453001589, \"OTTER_COUNT\": 136.0}, {\"AREA\": 0.65806767768, \"OTTER_COUNT\": 119.0}, {\"AREA\": 0.7706783659900001, \"OTTER_COUNT\": 148.0}, {\"AREA\": 0.75349230985, \"OTTER_COUNT\": 151.0}, {\"AREA\": 0.68261417762, \"OTTER_COUNT\": 132.0}, {\"AREA\": 0.77948972004, \"OTTER_COUNT\": 173.0}, {\"AREA\": 0.54652049946, \"OTTER_COUNT\": 104.0}, {\"AREA\": 0.55522079613, \"OTTER_COUNT\": 120.0}, {\"AREA\": 0.67620708572, \"OTTER_COUNT\": 101.0}, {\"AREA\": 0.64368863035, \"OTTER_COUNT\": 101.0}, {\"AREA\": 0.80447772448, \"OTTER_COUNT\": 165.0}, {\"AREA\": 0.64810604772, \"OTTER_COUNT\": 120.0}, {\"AREA\": 0.68901275507, \"OTTER_COUNT\": 124.0}, {\"AREA\": 0.58273130329, \"OTTER_COUNT\": 113.0}, {\"AREA\": 0.5679682604, \"OTTER_COUNT\": 112.0}, {\"AREA\": 0.649494486, \"OTTER_COUNT\": 128.0}, {\"AREA\": 0.69991929863, \"OTTER_COUNT\": 133.0}, {\"AREA\": 0.6348954921500001, \"OTTER_COUNT\": 123.0}, {\"AREA\": 0.7020617934000001, \"OTTER_COUNT\": 110.0}, {\"AREA\": 0.84995099749, \"OTTER_COUNT\": 131.0}, {\"AREA\": 0.68324200303, \"OTTER_COUNT\": 101.0}, {\"AREA\": 0.78059389937, \"OTTER_COUNT\": 127.0}, {\"AREA\": 0.7471348498, \"OTTER_COUNT\": 120.0}, {\"AREA\": 0.80853760874, \"OTTER_COUNT\": 144.0}, {\"AREA\": 0.9586881615, \"OTTER_COUNT\": 156.0}, {\"AREA\": 0.6953098658400001, \"OTTER_COUNT\": 112.0}, {\"AREA\": 0.92257265588, \"OTTER_COUNT\": 146.0}, {\"AREA\": 0.8546626873600001, \"OTTER_COUNT\": 130.0}, {\"AREA\": 0.7359727773199999, \"OTTER_COUNT\": 106.0}, {\"AREA\": 1.03340996622, \"OTTER_COUNT\": 116.0}, {\"AREA\": 1.00739020996, \"OTTER_COUNT\": 110.0}, {\"AREA\": 1.47132426146, \"OTTER_COUNT\": 182.0}, {\"AREA\": 1.3584355721599999, \"OTTER_COUNT\": 152.0}, {\"AREA\": 1.2471750696, \"OTTER_COUNT\": 125.0}, {\"AREA\": 1.53529886612, \"OTTER_COUNT\": 134.0}, {\"AREA\": 1.7247230817199999, \"OTTER_COUNT\": 154.0}, {\"AREA\": 1.63007841264, \"OTTER_COUNT\": 140.0}, {\"AREA\": 1.52195086977, \"OTTER_COUNT\": 135.0}, {\"AREA\": 1.08045313524, \"OTTER_COUNT\": 103.0}, {\"AREA\": 0.8333067594499999, \"OTTER_COUNT\": 103.0}, {\"AREA\": 0.8528894988600001, \"OTTER_COUNT\": 107.0}, {\"AREA\": 0.8432466737700001, \"OTTER_COUNT\": 103.0}, {\"AREA\": 1.09634260582, \"OTTER_COUNT\": 149.0}, {\"AREA\": 1.06625477964, \"OTTER_COUNT\": 129.0}, {\"AREA\": 1.22898150714, \"OTTER_COUNT\": 156.0}, {\"AREA\": 1.4433725736199998, \"OTTER_COUNT\": 185.0}, {\"AREA\": 0.93656131909, \"OTTER_COUNT\": 105.0}, {\"AREA\": 1.09664033853, \"OTTER_COUNT\": 136.0}, {\"AREA\": 1.55484353968, \"OTTER_COUNT\": 181.0}, {\"AREA\": 1.19271516985, \"OTTER_COUNT\": 136.0}, {\"AREA\": 1.44950809614, \"OTTER_COUNT\": 164.0}, {\"AREA\": 1.2265657737, \"OTTER_COUNT\": 115.0}, {\"AREA\": 1.2144389063699998, \"OTTER_COUNT\": 130.0}, {\"AREA\": 1.4191828160100002, \"OTTER_COUNT\": 166.0}, {\"AREA\": 0.94571575316, \"OTTER_COUNT\": 102.0}, {\"AREA\": 1.01336119981, \"OTTER_COUNT\": 110.0}, {\"AREA\": 1.13804942317, \"OTTER_COUNT\": 129.0}, {\"AREA\": 0.9367789006, \"OTTER_COUNT\": 102.0}, {\"AREA\": 0.99609710522, \"OTTER_COUNT\": 113.0}, {\"AREA\": 1.0388790564800001, \"OTTER_COUNT\": 125.0}, {\"AREA\": 1.21907062371, \"OTTER_COUNT\": 163.0}, {\"AREA\": 1.08853218172, \"OTTER_COUNT\": 154.0}, {\"AREA\": 0.92821726533, \"OTTER_COUNT\": 116.0}, {\"AREA\": 0.93781911766, \"OTTER_COUNT\": 101.0}, {\"AREA\": 1.26982514731, \"OTTER_COUNT\": 125.0}, {\"AREA\": 1.17925222165, \"OTTER_COUNT\": 119.0}, {\"AREA\": 1.23614498234, \"OTTER_COUNT\": 125.0}, {\"AREA\": 1.15291325981, \"OTTER_COUNT\": 119.0}, {\"AREA\": 1.25277198541, \"OTTER_COUNT\": 126.0}, {\"AREA\": 1.3849145530899998, \"OTTER_COUNT\": 145.0}, {\"AREA\": 1.33517144201, \"OTTER_COUNT\": 139.0}, {\"AREA\": 1.99785080355, \"OTTER_COUNT\": 205.0}, {\"AREA\": 1.4173726125200001, \"OTTER_COUNT\": 123.0}, {\"AREA\": 1.3834463087900002, \"OTTER_COUNT\": 114.0}, {\"AREA\": 1.6933879055, \"OTTER_COUNT\": 141.0}, {\"AREA\": 1.36979811446, \"OTTER_COUNT\": 109.0}, {\"AREA\": 2.09094207056, \"OTTER_COUNT\": 173.0}, {\"AREA\": 1.7572515660199999, \"OTTER_COUNT\": 142.0}, {\"AREA\": 1.6680836525799998, \"OTTER_COUNT\": 131.0}, {\"AREA\": 7.92847153745, \"OTTER_COUNT\": 174.0}, {\"AREA\": 1.6614963790900001, \"OTTER_COUNT\": 101.0}, {\"AREA\": 2.3099995909, \"OTTER_COUNT\": 106.0}, {\"AREA\": 2.14528778737, \"OTTER_COUNT\": 122.0}, {\"AREA\": 2.26830344883, \"OTTER_COUNT\": 131.0}, {\"AREA\": 1.98177214845, \"OTTER_COUNT\": 115.0}, {\"AREA\": 2.38767302173, \"OTTER_COUNT\": 136.0}, {\"AREA\": 2.20900672155, \"OTTER_COUNT\": 119.0}, {\"AREA\": 2.2020109730199997, \"OTTER_COUNT\": 114.0}, {\"AREA\": 2.63770938695, \"OTTER_COUNT\": 136.0}, {\"AREA\": 2.71410964915, \"OTTER_COUNT\": 127.0}, {\"AREA\": 2.70980033346, \"OTTER_COUNT\": 109.0}]}}, {\"mode\": \"vega-lite\"});\n",
       "</script>"
      ],
      "text/plain": [
       "alt.Chart(...)"
      ]
     },
     "execution_count": 31,
     "metadata": {},
     "output_type": "execute_result"
    }
   ],
   "source": [
    "habitat_properties = habitat_properties_given_min_otter(hab_groups,threshold=100)\n",
    "otter_area_groups = habitat_properties.groupby('AREA')['AREA','OTTER_COUNT'].head()\n",
    "\n",
    "title = 'Distribution of AREA attribute for habitats where otter count is more than 100.:\\\n",
    "Most of the habitats are smaller in area (less than 1 sq. km.)'\n",
    "area_distribution_plot(otter_area_groups,title)"
   ]
  },
  {
   "cell_type": "code",
   "execution_count": 32,
   "metadata": {
    "id": "Q7h1Hb-TY6iL",
    "outputId": "8d2d6b92-dbe3-464a-a7c9-4f69deffab93"
   },
   "outputs": [
    {
     "data": {
      "text/html": [
       "\n",
       "<div id=\"altair-viz-0f6e665ca4b64ac29986bbc9290e87c8\"></div>\n",
       "<script type=\"text/javascript\">\n",
       "  (function(spec, embedOpt){\n",
       "    let outputDiv = document.currentScript.previousElementSibling;\n",
       "    if (outputDiv.id !== \"altair-viz-0f6e665ca4b64ac29986bbc9290e87c8\") {\n",
       "      outputDiv = document.getElementById(\"altair-viz-0f6e665ca4b64ac29986bbc9290e87c8\");\n",
       "    }\n",
       "    const paths = {\n",
       "      \"vega\": \"https://cdn.jsdelivr.net/npm//vega@5?noext\",\n",
       "      \"vega-lib\": \"https://cdn.jsdelivr.net/npm//vega-lib?noext\",\n",
       "      \"vega-lite\": \"https://cdn.jsdelivr.net/npm//vega-lite@4.8.1?noext\",\n",
       "      \"vega-embed\": \"https://cdn.jsdelivr.net/npm//vega-embed@6?noext\",\n",
       "    };\n",
       "\n",
       "    function loadScript(lib) {\n",
       "      return new Promise(function(resolve, reject) {\n",
       "        var s = document.createElement('script');\n",
       "        s.src = paths[lib];\n",
       "        s.async = true;\n",
       "        s.onload = () => resolve(paths[lib]);\n",
       "        s.onerror = () => reject(`Error loading script: ${paths[lib]}`);\n",
       "        document.getElementsByTagName(\"head\")[0].appendChild(s);\n",
       "      });\n",
       "    }\n",
       "\n",
       "    function showError(err) {\n",
       "      outputDiv.innerHTML = `<div class=\"error\" style=\"color:red;\">${err}</div>`;\n",
       "      throw err;\n",
       "    }\n",
       "\n",
       "    function displayChart(vegaEmbed) {\n",
       "      vegaEmbed(outputDiv, spec, embedOpt)\n",
       "        .catch(err => showError(`Javascript Error: ${err.message}<br>This usually means there's a typo in your chart specification. See the javascript console for the full traceback.`));\n",
       "    }\n",
       "\n",
       "    if(typeof define === \"function\" && define.amd) {\n",
       "      requirejs.config({paths});\n",
       "      require([\"vega-embed\"], displayChart, err => showError(`Error loading script: ${err.message}`));\n",
       "    } else if (typeof vegaEmbed === \"function\") {\n",
       "      displayChart(vegaEmbed);\n",
       "    } else {\n",
       "      loadScript(\"vega\")\n",
       "        .then(() => loadScript(\"vega-lite\"))\n",
       "        .then(() => loadScript(\"vega-embed\"))\n",
       "        .catch(showError)\n",
       "        .then(() => displayChart(vegaEmbed));\n",
       "    }\n",
       "  })({\"config\": {\"view\": {\"continuousWidth\": 400, \"continuousHeight\": 300}, \"axis\": {\"grid\": false, \"labelFontSize\": 12, \"titleFontSize\": 12}, \"legend\": {\"labelFontSize\": 12, \"titleFontSize\": 12}, \"title\": {\"fontSize\": 13}}, \"data\": {\"name\": \"data-948226cc51f149c187f4fdf9da00d967\"}, \"mark\": \"circle\", \"encoding\": {\"x\": {\"type\": \"quantitative\", \"field\": \"AREA\"}, \"y\": {\"type\": \"quantitative\", \"field\": \"OTTER_COUNT\"}}, \"height\": 300, \"title\": [\"Distribution of AREA attribute for all habitats.\", \"Most of the habitats are smaller in area (less than 1 sq. km.)\"], \"width\": 500, \"$schema\": \"https://vega.github.io/schema/vega-lite/v4.8.1.json\", \"datasets\": {\"data-948226cc51f149c187f4fdf9da00d967\": [{\"AREA\": 1.50117149643, \"OTTER_COUNT\": 5.0}, {\"AREA\": 0.87039926713, \"OTTER_COUNT\": 2.0}, {\"AREA\": 0.9417557190000001, \"OTTER_COUNT\": 2.0}, {\"AREA\": 0.9841022951, \"OTTER_COUNT\": 2.0}, {\"AREA\": 0.8450450701000001, \"OTTER_COUNT\": 2.0}, {\"AREA\": 0.86141303762, \"OTTER_COUNT\": 2.0}, {\"AREA\": 1.32959377427, \"OTTER_COUNT\": 7.0}, {\"AREA\": 1.41216348119, \"OTTER_COUNT\": 10.0}, {\"AREA\": 1.54346240118, \"OTTER_COUNT\": 12.0}, {\"AREA\": 1.0976617115, \"OTTER_COUNT\": 4.0}, {\"AREA\": 1.5669803350099998, \"OTTER_COUNT\": 12.0}, {\"AREA\": 2.05138198012, \"OTTER_COUNT\": 15.0}, {\"AREA\": 1.6598240152200001, \"OTTER_COUNT\": 10.0}, {\"AREA\": 1.99161628058, \"OTTER_COUNT\": 11.0}, {\"AREA\": 1.60694791691, \"OTTER_COUNT\": 4.0}, {\"AREA\": 1.52791573304, \"OTTER_COUNT\": 2.0}, {\"AREA\": 1.60273574136, \"OTTER_COUNT\": 2.0}, {\"AREA\": 1.7105886425, \"OTTER_COUNT\": 2.0}, {\"AREA\": 1.62085399607, \"OTTER_COUNT\": 2.0}, {\"AREA\": 1.52443814699, \"OTTER_COUNT\": 2.0}, {\"AREA\": 1.5831649722099999, \"OTTER_COUNT\": 2.0}, {\"AREA\": 1.11094213687, \"OTTER_COUNT\": 2.0}, {\"AREA\": 1.14971008232, \"OTTER_COUNT\": 2.0}, {\"AREA\": 1.05339663093, \"OTTER_COUNT\": 2.0}, {\"AREA\": 0.8761445847499999, \"OTTER_COUNT\": 1.0}, {\"AREA\": 0.8962018606200001, \"OTTER_COUNT\": 5.0}, {\"AREA\": 1.05011540646, \"OTTER_COUNT\": 8.0}, {\"AREA\": 1.05765161801, \"OTTER_COUNT\": 8.0}, {\"AREA\": 1.08868147757, \"OTTER_COUNT\": 9.0}, {\"AREA\": 1.30394610642, \"OTTER_COUNT\": 14.0}, {\"AREA\": 1.2014756507700002, \"OTTER_COUNT\": 13.0}, {\"AREA\": 0.99554330252, \"OTTER_COUNT\": 13.0}, {\"AREA\": 1.1867355336399998, \"OTTER_COUNT\": 24.0}, {\"AREA\": 0.9264562670900001, \"OTTER_COUNT\": 17.0}, {\"AREA\": 0.88463896228, \"OTTER_COUNT\": 18.0}, {\"AREA\": 0.86665618146, \"OTTER_COUNT\": 23.0}, {\"AREA\": 0.8640353661300001, \"OTTER_COUNT\": 25.0}, {\"AREA\": 0.71689092349, \"OTTER_COUNT\": 20.0}, {\"AREA\": 0.73020357646, \"OTTER_COUNT\": 18.0}, {\"AREA\": 0.7572932956299999, \"OTTER_COUNT\": 19.0}, {\"AREA\": 0.8291708146500001, \"OTTER_COUNT\": 22.0}, {\"AREA\": 0.68884768409, \"OTTER_COUNT\": 17.0}, {\"AREA\": 0.91763631391, \"OTTER_COUNT\": 24.0}, {\"AREA\": 0.61008271611, \"OTTER_COUNT\": 12.0}, {\"AREA\": 0.7406709484299999, \"OTTER_COUNT\": 23.0}, {\"AREA\": 0.7603722728100001, \"OTTER_COUNT\": 22.0}, {\"AREA\": 0.94378780066, \"OTTER_COUNT\": 22.0}, {\"AREA\": 0.9182216425, \"OTTER_COUNT\": 22.0}, {\"AREA\": 0.76434572925, \"OTTER_COUNT\": 20.0}, {\"AREA\": 0.8994527265700001, \"OTTER_COUNT\": 22.0}, {\"AREA\": 0.6735620234, \"OTTER_COUNT\": 14.0}, {\"AREA\": 0.7166536635699999, \"OTTER_COUNT\": 16.0}, {\"AREA\": 0.82018779626, \"OTTER_COUNT\": 18.0}, {\"AREA\": 0.82288288228, \"OTTER_COUNT\": 11.0}, {\"AREA\": 0.77064754741, \"OTTER_COUNT\": 10.0}, {\"AREA\": 0.71541447665, \"OTTER_COUNT\": 7.0}, {\"AREA\": 0.66002470863, \"OTTER_COUNT\": 3.0}, {\"AREA\": 0.90293342002, \"OTTER_COUNT\": 6.0}, {\"AREA\": 0.7989992608300001, \"OTTER_COUNT\": 3.0}, {\"AREA\": 0.86461971812, \"OTTER_COUNT\": 4.0}, {\"AREA\": 0.94245143091, \"OTTER_COUNT\": 4.0}, {\"AREA\": 0.9029387841300001, \"OTTER_COUNT\": 4.0}, {\"AREA\": 0.87378622956, \"OTTER_COUNT\": 7.0}, {\"AREA\": 0.8545116942700001, \"OTTER_COUNT\": 6.0}, {\"AREA\": 0.7633169724500001, \"OTTER_COUNT\": 2.0}, {\"AREA\": 0.56714374278, \"OTTER_COUNT\": 4.0}, {\"AREA\": 0.53960544511, \"OTTER_COUNT\": 4.0}, {\"AREA\": 0.68261632552, \"OTTER_COUNT\": 7.0}, {\"AREA\": 0.5137343439500001, \"OTTER_COUNT\": 5.0}, {\"AREA\": 0.72868758131, \"OTTER_COUNT\": 10.0}, {\"AREA\": 0.6296180891, \"OTTER_COUNT\": 9.0}, {\"AREA\": 0.76347403786, \"OTTER_COUNT\": 12.0}, {\"AREA\": 0.7519943868000001, \"OTTER_COUNT\": 15.0}, {\"AREA\": 0.8027428628900001, \"OTTER_COUNT\": 18.0}, {\"AREA\": 1.0240582301, \"OTTER_COUNT\": 25.0}, {\"AREA\": 1.08952471862, \"OTTER_COUNT\": 27.0}, {\"AREA\": 1.1342665625300001, \"OTTER_COUNT\": 29.0}, {\"AREA\": 1.21258530326, \"OTTER_COUNT\": 27.0}, {\"AREA\": 1.26237760493, \"OTTER_COUNT\": 28.0}, {\"AREA\": 1.14933481927, \"OTTER_COUNT\": 24.0}, {\"AREA\": 1.4087230526699999, \"OTTER_COUNT\": 31.0}, {\"AREA\": 1.39911927915, \"OTTER_COUNT\": 26.0}, {\"AREA\": 1.29018830767, \"OTTER_COUNT\": 23.0}, {\"AREA\": 1.24380126284, \"OTTER_COUNT\": 20.0}, {\"AREA\": 0.97636301248, \"OTTER_COUNT\": 11.0}, {\"AREA\": 0.77355073821, \"OTTER_COUNT\": 7.0}, {\"AREA\": 0.8099362140999999, \"OTTER_COUNT\": 6.0}, {\"AREA\": 0.7226841469699999, \"OTTER_COUNT\": 4.0}, {\"AREA\": 2.50258987233, \"OTTER_COUNT\": 1.0}, {\"AREA\": 0.68647593743, \"OTTER_COUNT\": 4.0}, {\"AREA\": 0.60472544501, \"OTTER_COUNT\": 1.0}, {\"AREA\": 0.61851460016, \"OTTER_COUNT\": 1.0}, {\"AREA\": 0.85644398949, \"OTTER_COUNT\": 2.0}, {\"AREA\": 0.6056288812699999, \"OTTER_COUNT\": 1.0}, {\"AREA\": 0.85472209505, \"OTTER_COUNT\": 1.0}, {\"AREA\": 1.49528891578, \"OTTER_COUNT\": 2.0}, {\"AREA\": 1.14169620764, \"OTTER_COUNT\": 2.0}, {\"AREA\": 1.18191806549, \"OTTER_COUNT\": 2.0}, {\"AREA\": 1.41509222921, \"OTTER_COUNT\": 2.0}, {\"AREA\": 1.24429701744, \"OTTER_COUNT\": 2.0}, {\"AREA\": 1.23372125333, \"OTTER_COUNT\": 2.0}, {\"AREA\": 1.10424052667, \"OTTER_COUNT\": 1.0}, {\"AREA\": 1.10992707893, \"OTTER_COUNT\": 1.0}, {\"AREA\": 1.08196112438, \"OTTER_COUNT\": 1.0}, {\"AREA\": 1.1564649318, \"OTTER_COUNT\": 1.0}, {\"AREA\": 1.09516105497, \"OTTER_COUNT\": 1.0}, {\"AREA\": 0.7139971333599999, \"OTTER_COUNT\": 1.0}, {\"AREA\": 0.96553931662, \"OTTER_COUNT\": 1.0}, {\"AREA\": 0.83028624291, \"OTTER_COUNT\": 2.0}, {\"AREA\": 0.66171801397, \"OTTER_COUNT\": 2.0}, {\"AREA\": 1.19144679412, \"OTTER_COUNT\": 3.0}, {\"AREA\": 1.3868038768900002, \"OTTER_COUNT\": 11.0}, {\"AREA\": 1.29886018719, \"OTTER_COUNT\": 12.0}, {\"AREA\": 1.3495417819, \"OTTER_COUNT\": 19.0}, {\"AREA\": 0.77395056808, \"OTTER_COUNT\": 5.0}, {\"AREA\": 0.6604273646100001, \"OTTER_COUNT\": 3.0}, {\"AREA\": 0.6710610902899999, \"OTTER_COUNT\": 4.0}, {\"AREA\": 1.0573895971, \"OTTER_COUNT\": 17.0}, {\"AREA\": 1.08835257441, \"OTTER_COUNT\": 16.0}, {\"AREA\": 1.23878017898, \"OTTER_COUNT\": 20.0}, {\"AREA\": 0.93834515146, \"OTTER_COUNT\": 9.0}, {\"AREA\": 1.11003569962, \"OTTER_COUNT\": 14.0}, {\"AREA\": 1.05867369565, \"OTTER_COUNT\": 12.0}, {\"AREA\": 1.29006413389, \"OTTER_COUNT\": 19.0}, {\"AREA\": 1.5001496661700002, \"OTTER_COUNT\": 24.0}, {\"AREA\": 1.20944942434, \"OTTER_COUNT\": 17.0}, {\"AREA\": 1.29460541339, \"OTTER_COUNT\": 20.0}, {\"AREA\": 1.25284753149, \"OTTER_COUNT\": 18.0}, {\"AREA\": 1.30342924484, \"OTTER_COUNT\": 18.0}, {\"AREA\": 1.10990710625, \"OTTER_COUNT\": 9.0}, {\"AREA\": 1.23063764515, \"OTTER_COUNT\": 13.0}, {\"AREA\": 1.16783580549, \"OTTER_COUNT\": 4.0}, {\"AREA\": 0.90755856823, \"OTTER_COUNT\": 10.0}, {\"AREA\": 0.78409039592, \"OTTER_COUNT\": 10.0}, {\"AREA\": 0.8507320043700001, \"OTTER_COUNT\": 15.0}, {\"AREA\": 0.89280732945, \"OTTER_COUNT\": 17.0}, {\"AREA\": 0.6941157634999999, \"OTTER_COUNT\": 12.0}, {\"AREA\": 0.8959362811499999, \"OTTER_COUNT\": 19.0}, {\"AREA\": 0.83512478644, \"OTTER_COUNT\": 18.0}, {\"AREA\": 0.74936875344, \"OTTER_COUNT\": 30.0}, {\"AREA\": 0.67133268156, \"OTTER_COUNT\": 21.0}, {\"AREA\": 0.65084479311, \"OTTER_COUNT\": 23.0}, {\"AREA\": 0.67373034447, \"OTTER_COUNT\": 26.0}, {\"AREA\": 0.7811900833300001, \"OTTER_COUNT\": 35.0}, {\"AREA\": 0.7983183088, \"OTTER_COUNT\": 35.0}, {\"AREA\": 0.73240126435, \"OTTER_COUNT\": 39.0}, {\"AREA\": 0.67319354572, \"OTTER_COUNT\": 37.0}, {\"AREA\": 0.6868972251100001, \"OTTER_COUNT\": 39.0}, {\"AREA\": 0.76945271846, \"OTTER_COUNT\": 47.0}, {\"AREA\": 0.67130168011, \"OTTER_COUNT\": 38.0}, {\"AREA\": 0.61428549525, \"OTTER_COUNT\": 34.0}, {\"AREA\": 0.60085494923, \"OTTER_COUNT\": 33.0}, {\"AREA\": 0.7306378736300001, \"OTTER_COUNT\": 47.0}, {\"AREA\": 0.61743281244, \"OTTER_COUNT\": 32.0}, {\"AREA\": 0.57302551904, \"OTTER_COUNT\": 23.0}, {\"AREA\": 0.6745560454999999, \"OTTER_COUNT\": 29.0}, {\"AREA\": 0.67426189036, \"OTTER_COUNT\": 30.0}, {\"AREA\": 0.72190118729, \"OTTER_COUNT\": 32.0}, {\"AREA\": 0.72849451674, \"OTTER_COUNT\": 33.0}, {\"AREA\": 0.76279092111, \"OTTER_COUNT\": 35.0}, {\"AREA\": 0.91087608742, \"OTTER_COUNT\": 30.0}, {\"AREA\": 0.95655565193, \"OTTER_COUNT\": 31.0}, {\"AREA\": 1.27578749882, \"OTTER_COUNT\": 47.0}, {\"AREA\": 1.10849591795, \"OTTER_COUNT\": 33.0}, {\"AREA\": 1.21797352334, \"OTTER_COUNT\": 34.0}, {\"AREA\": 1.43054778131, \"OTTER_COUNT\": 40.0}, {\"AREA\": 1.6972662244, \"OTTER_COUNT\": 41.0}, {\"AREA\": 3.66490614788, \"OTTER_COUNT\": 3.0}, {\"AREA\": 1.63074899957, \"OTTER_COUNT\": 39.0}, {\"AREA\": 3.5258771813200003, \"OTTER_COUNT\": 3.0}, {\"AREA\": 1.75914857571, \"OTTER_COUNT\": 52.0}, {\"AREA\": 2.61468076426, \"OTTER_COUNT\": 3.0}, {\"AREA\": 1.84774315451, \"OTTER_COUNT\": 58.0}, {\"AREA\": 1.9664608640799999, \"OTTER_COUNT\": 3.0}, {\"AREA\": 1.8344416463100002, \"OTTER_COUNT\": 58.0}, {\"AREA\": 2.18548782501, \"OTTER_COUNT\": 68.0}, {\"AREA\": 2.0244066507, \"OTTER_COUNT\": 62.0}, {\"AREA\": 2.39692457421, \"OTTER_COUNT\": 69.0}, {\"AREA\": 1.9740539262599999, \"OTTER_COUNT\": 56.0}, {\"AREA\": 2.0961274423100003, \"OTTER_COUNT\": 62.0}, {\"AREA\": 2.28625317254, \"OTTER_COUNT\": 69.0}, {\"AREA\": 2.2011786458100002, \"OTTER_COUNT\": 64.0}, {\"AREA\": 2.34764050902, \"OTTER_COUNT\": 67.0}, {\"AREA\": 2.09792854751, \"OTTER_COUNT\": 52.0}, {\"AREA\": 2.70748241883, \"OTTER_COUNT\": 70.0}, {\"AREA\": 2.9114230149800004, \"OTTER_COUNT\": 79.0}, {\"AREA\": 2.55928832716, \"OTTER_COUNT\": 70.0}, {\"AREA\": 3.2371568042, \"OTTER_COUNT\": 93.0}, {\"AREA\": 2.384827468, \"OTTER_COUNT\": 65.0}, {\"AREA\": 3.08627085077, \"OTTER_COUNT\": 86.0}, {\"AREA\": 3.84012872811, \"OTTER_COUNT\": 108.0}, {\"AREA\": 3.29669278594, \"OTTER_COUNT\": 82.0}, {\"AREA\": 3.3922447201300003, \"OTTER_COUNT\": 76.0}, {\"AREA\": 3.29704279162, \"OTTER_COUNT\": 57.0}, {\"AREA\": 3.6053662025300004, \"OTTER_COUNT\": 54.0}, {\"AREA\": 2.8259804329500002, \"OTTER_COUNT\": 34.0}, {\"AREA\": 3.0660141473699998, \"OTTER_COUNT\": 36.0}, {\"AREA\": 3.04137134754, \"OTTER_COUNT\": 38.0}, {\"AREA\": 2.46970791919, \"OTTER_COUNT\": 31.0}, {\"AREA\": 2.98503541009, \"OTTER_COUNT\": 37.0}, {\"AREA\": 2.4887388394100003, \"OTTER_COUNT\": 31.0}, {\"AREA\": 3.17951097454, \"OTTER_COUNT\": 49.0}, {\"AREA\": 2.9056892774299996, \"OTTER_COUNT\": 40.0}, {\"AREA\": 2.39614678766, \"OTTER_COUNT\": 32.0}, {\"AREA\": 2.7700204953600003, \"OTTER_COUNT\": 42.0}, {\"AREA\": 2.77756325635, \"OTTER_COUNT\": 41.0}, {\"AREA\": 2.67847149112, \"OTTER_COUNT\": 40.0}, {\"AREA\": 2.25619229801, \"OTTER_COUNT\": 29.0}, {\"AREA\": 2.39980957819, \"OTTER_COUNT\": 32.0}, {\"AREA\": 2.34783202166, \"OTTER_COUNT\": 34.0}, {\"AREA\": 1.92634322658, \"OTTER_COUNT\": 20.0}, {\"AREA\": 2.15794420621, \"OTTER_COUNT\": 30.0}, {\"AREA\": 1.8461203045699999, \"OTTER_COUNT\": 22.0}, {\"AREA\": 1.8600031964300001, \"OTTER_COUNT\": 22.0}, {\"AREA\": 2.0313314134900002, \"OTTER_COUNT\": 27.0}, {\"AREA\": 1.5101902555899998, \"OTTER_COUNT\": 14.0}, {\"AREA\": 1.99007059468, \"OTTER_COUNT\": 26.0}, {\"AREA\": 1.6904724347, \"OTTER_COUNT\": 17.0}, {\"AREA\": 1.83462577294, \"OTTER_COUNT\": 21.0}, {\"AREA\": 1.71092775428, \"OTTER_COUNT\": 20.0}, {\"AREA\": 1.63345830266, \"OTTER_COUNT\": 14.0}, {\"AREA\": 1.7438691589300002, \"OTTER_COUNT\": 16.0}, {\"AREA\": 1.7013040898699998, \"OTTER_COUNT\": 16.0}, {\"AREA\": 1.35957025374, \"OTTER_COUNT\": 10.0}, {\"AREA\": 1.86947924723, \"OTTER_COUNT\": 19.0}, {\"AREA\": 1.4531856867100001, \"OTTER_COUNT\": 11.0}, {\"AREA\": 1.47699370799, \"OTTER_COUNT\": 14.0}, {\"AREA\": 1.11069001478, \"OTTER_COUNT\": 22.0}, {\"AREA\": 1.3766631154100002, \"OTTER_COUNT\": 28.0}, {\"AREA\": 1.08648205452, \"OTTER_COUNT\": 19.0}, {\"AREA\": 1.0331773873399999, \"OTTER_COUNT\": 16.0}, {\"AREA\": 1.34131766708, \"OTTER_COUNT\": 27.0}, {\"AREA\": 0.8477303205300001, \"OTTER_COUNT\": 10.0}, {\"AREA\": 0.8452044637299999, \"OTTER_COUNT\": 9.0}, {\"AREA\": 1.14117368483, \"OTTER_COUNT\": 18.0}, {\"AREA\": 0.51753935185, \"OTTER_COUNT\": 1.0}, {\"AREA\": 0.9693596302899999, \"OTTER_COUNT\": 15.0}, {\"AREA\": 0.9052981800300001, \"OTTER_COUNT\": 7.0}, {\"AREA\": 0.45530275795999997, \"OTTER_COUNT\": 2.0}, {\"AREA\": 0.7897789565700001, \"OTTER_COUNT\": 4.0}, {\"AREA\": 3.3827131319999997, \"OTTER_COUNT\": 830.0}, {\"AREA\": 0.67211490987, \"OTTER_COUNT\": 4.0}, {\"AREA\": 0.7725039655, \"OTTER_COUNT\": 7.0}, {\"AREA\": 0.8339097562100001, \"OTTER_COUNT\": 7.0}, {\"AREA\": 0.99970513854, \"OTTER_COUNT\": 10.0}, {\"AREA\": 1.1072332276, \"OTTER_COUNT\": 12.0}, {\"AREA\": 0.78738989128, \"OTTER_COUNT\": 2.0}, {\"AREA\": 1.0501358232, \"OTTER_COUNT\": 12.0}, {\"AREA\": 1.0030016202, \"OTTER_COUNT\": 4.0}, {\"AREA\": 1.3171182802799999, \"OTTER_COUNT\": 17.0}, {\"AREA\": 1.32523238236, \"OTTER_COUNT\": 16.0}, {\"AREA\": 1.33587872499, \"OTTER_COUNT\": 6.0}, {\"AREA\": 1.34912203567, \"OTTER_COUNT\": 6.0}, {\"AREA\": 1.34762002167, \"OTTER_COUNT\": 7.0}, {\"AREA\": 0.7478860495499999, \"OTTER_COUNT\": 1.0}, {\"AREA\": 1.03451713268, \"OTTER_COUNT\": 1.0}, {\"AREA\": 1.33594469565, \"OTTER_COUNT\": 6.0}, {\"AREA\": 0.79906948605, \"OTTER_COUNT\": 3.0}, {\"AREA\": 1.3560090069400002, \"OTTER_COUNT\": 5.0}, {\"AREA\": 0.88633954874, \"OTTER_COUNT\": 2.0}, {\"AREA\": 1.31436514793, \"OTTER_COUNT\": 5.0}, {\"AREA\": 0.93084041044, \"OTTER_COUNT\": 2.0}, {\"AREA\": 1.30510564366, \"OTTER_COUNT\": 4.0}, {\"AREA\": 1.03521014204, \"OTTER_COUNT\": 1.0}, {\"AREA\": 1.2826047218799999, \"OTTER_COUNT\": 4.0}, {\"AREA\": 1.06003100334, \"OTTER_COUNT\": 1.0}, {\"AREA\": 1.51623680986, \"OTTER_COUNT\": 4.0}, {\"AREA\": 1.36340965519, \"OTTER_COUNT\": 3.0}, {\"AREA\": 1.17180541273, \"OTTER_COUNT\": 3.0}, {\"AREA\": 1.19134315906, \"OTTER_COUNT\": 3.0}, {\"AREA\": 1.10540132893, \"OTTER_COUNT\": 3.0}, {\"AREA\": 1.0555645868199999, \"OTTER_COUNT\": 2.0}, {\"AREA\": 1.0706602361300002, \"OTTER_COUNT\": 3.0}, {\"AREA\": 1.12133817973, \"OTTER_COUNT\": 1.0}, {\"AREA\": 0.9688935330599999, \"OTTER_COUNT\": 3.0}, {\"AREA\": 1.17440036053, \"OTTER_COUNT\": 3.0}, {\"AREA\": 1.04907732403, \"OTTER_COUNT\": 1.0}, {\"AREA\": 1.4249478376300002, \"OTTER_COUNT\": 3.0}, {\"AREA\": 1.40999449297, \"OTTER_COUNT\": 3.0}, {\"AREA\": 1.1228551743700002, \"OTTER_COUNT\": 2.0}, {\"AREA\": 0.76097264232, \"OTTER_COUNT\": 6.0}, {\"AREA\": 0.87920038799, \"OTTER_COUNT\": 2.0}, {\"AREA\": 0.5799366650900001, \"OTTER_COUNT\": 4.0}, {\"AREA\": 0.88818872794, \"OTTER_COUNT\": 2.0}, {\"AREA\": 0.7000461376, \"OTTER_COUNT\": 7.0}, {\"AREA\": 0.9701648589599999, \"OTTER_COUNT\": 2.0}, {\"AREA\": 0.7446093744, \"OTTER_COUNT\": 15.0}, {\"AREA\": 0.85011137622, \"OTTER_COUNT\": 2.0}, {\"AREA\": 0.7348002221400001, \"OTTER_COUNT\": 20.0}, {\"AREA\": 0.93530566149, \"OTTER_COUNT\": 2.0}, {\"AREA\": 0.57083643242, \"OTTER_COUNT\": 7.0}, {\"AREA\": 0.70839677754, \"OTTER_COUNT\": 2.0}, {\"AREA\": 0.70591641839, \"OTTER_COUNT\": 20.0}, {\"AREA\": 0.8967589945900001, \"OTTER_COUNT\": 2.0}, {\"AREA\": 0.74187728221, \"OTTER_COUNT\": 23.0}, {\"AREA\": 0.8825081805599999, \"OTTER_COUNT\": 2.0}, {\"AREA\": 0.7456491177500001, \"OTTER_COUNT\": 24.0}, {\"AREA\": 0.95710678378, \"OTTER_COUNT\": 2.0}, {\"AREA\": 0.55220688847, \"OTTER_COUNT\": 20.0}, {\"AREA\": 0.8217477874, \"OTTER_COUNT\": 2.0}, {\"AREA\": 0.60993094216, \"OTTER_COUNT\": 20.0}, {\"AREA\": 0.8026714708499999, \"OTTER_COUNT\": 1.0}, {\"AREA\": 0.62722825595, \"OTTER_COUNT\": 21.0}, {\"AREA\": 0.8988500044300001, \"OTTER_COUNT\": 2.0}, {\"AREA\": 0.6453300846100001, \"OTTER_COUNT\": 33.0}, {\"AREA\": 0.54597915993, \"OTTER_COUNT\": 46.0}, {\"AREA\": 0.5464183007900001, \"OTTER_COUNT\": 60.0}, {\"AREA\": 0.63931682433, \"OTTER_COUNT\": 89.0}, {\"AREA\": 0.5498355992, \"OTTER_COUNT\": 86.0}, {\"AREA\": 0.65747870521, \"OTTER_COUNT\": 114.0}, {\"AREA\": 0.55797990993, \"OTTER_COUNT\": 103.0}, {\"AREA\": 0.65357532586, \"OTTER_COUNT\": 138.0}, {\"AREA\": 0.59248873638, \"OTTER_COUNT\": 129.0}, {\"AREA\": 0.60822536815, \"OTTER_COUNT\": 143.0}, {\"AREA\": 0.2857381012, \"OTTER_COUNT\": 54.0}, {\"AREA\": 0.23756631622000002, \"OTTER_COUNT\": 49.0}, {\"AREA\": 0.35143684433, \"OTTER_COUNT\": 89.0}, {\"AREA\": 0.21786129623, \"OTTER_COUNT\": 50.0}, {\"AREA\": 0.37958209159999995, \"OTTER_COUNT\": 108.0}, {\"AREA\": 0.36504113784000003, \"OTTER_COUNT\": 106.0}, {\"AREA\": 0.44949006652, \"OTTER_COUNT\": 142.0}, {\"AREA\": 0.34935746226000003, \"OTTER_COUNT\": 103.0}, {\"AREA\": 0.43504939765, \"OTTER_COUNT\": 133.0}, {\"AREA\": 0.32018139426, \"OTTER_COUNT\": 98.0}, {\"AREA\": 0.36106030412, \"OTTER_COUNT\": 112.0}, {\"AREA\": 0.41265893071000004, \"OTTER_COUNT\": 126.0}, {\"AREA\": 0.34033148711000005, \"OTTER_COUNT\": 97.0}, {\"AREA\": 0.37482558588, \"OTTER_COUNT\": 105.0}, {\"AREA\": 0.39494201196, \"OTTER_COUNT\": 106.0}, {\"AREA\": 0.5292431498, \"OTTER_COUNT\": 145.0}, {\"AREA\": 0.53994266979, \"OTTER_COUNT\": 142.0}, {\"AREA\": 0.88275766731, \"OTTER_COUNT\": 236.0}, {\"AREA\": 0.46130666380999996, \"OTTER_COUNT\": 116.0}, {\"AREA\": 0.5566354960100001, \"OTTER_COUNT\": 133.0}, {\"AREA\": 0.48794664917999997, \"OTTER_COUNT\": 116.0}, {\"AREA\": 0.15485791198999999, \"OTTER_COUNT\": 29.0}, {\"AREA\": 0.70116728736, \"OTTER_COUNT\": 195.0}, {\"AREA\": 0.46897216137000003, \"OTTER_COUNT\": 129.0}, {\"AREA\": 0.46802904060999995, \"OTTER_COUNT\": 168.0}, {\"AREA\": 0.59301188515, \"OTTER_COUNT\": 221.0}, {\"AREA\": 0.4960211596, \"OTTER_COUNT\": 182.0}, {\"AREA\": 0.8200523797499999, \"OTTER_COUNT\": 1.0}, {\"AREA\": 0.60640398996, \"OTTER_COUNT\": 242.0}, {\"AREA\": 0.8091565754700001, \"OTTER_COUNT\": 2.0}, {\"AREA\": 0.50916974152, \"OTTER_COUNT\": 202.0}, {\"AREA\": 0.52325754243, \"OTTER_COUNT\": 214.0}, {\"AREA\": 0.46166792978, \"OTTER_COUNT\": 185.0}, {\"AREA\": 0.34557401058, \"OTTER_COUNT\": 142.0}, {\"AREA\": 0.29284760484, \"OTTER_COUNT\": 121.0}, {\"AREA\": 0.27129079506000003, \"OTTER_COUNT\": 112.0}, {\"AREA\": 0.22316056835, \"OTTER_COUNT\": 86.0}, {\"AREA\": 0.2965055487, \"OTTER_COUNT\": 115.0}, {\"AREA\": 0.24933262241, \"OTTER_COUNT\": 94.0}, {\"AREA\": 0.18014084533, \"OTTER_COUNT\": 63.0}, {\"AREA\": 0.35918659853, \"OTTER_COUNT\": 156.0}, {\"AREA\": 0.62624001388, \"OTTER_COUNT\": 302.0}, {\"AREA\": 0.30715848712, \"OTTER_COUNT\": 137.0}, {\"AREA\": 0.43904369314, \"OTTER_COUNT\": 218.0}, {\"AREA\": 0.20446588441, \"OTTER_COUNT\": 81.0}, {\"AREA\": 0.51992676766, \"OTTER_COUNT\": 235.0}, {\"AREA\": 0.34439294067000004, \"OTTER_COUNT\": 131.0}, {\"AREA\": 0.58675436551, \"OTTER_COUNT\": 190.0}, {\"AREA\": 0.45112872311999996, \"OTTER_COUNT\": 137.0}, {\"AREA\": 0.52202082958, \"OTTER_COUNT\": 167.0}, {\"AREA\": 0.33726829531, \"OTTER_COUNT\": 98.0}, {\"AREA\": 0.27084896934, \"OTTER_COUNT\": 83.0}, {\"AREA\": 0.25794863083, \"OTTER_COUNT\": 79.0}, {\"AREA\": 0.17543545883, \"OTTER_COUNT\": 51.0}, {\"AREA\": 0.13556933844, \"OTTER_COUNT\": 46.0}, {\"AREA\": 0.14133057528999998, \"OTTER_COUNT\": 45.0}, {\"AREA\": 0.08202370083999999, \"OTTER_COUNT\": 23.0}, {\"AREA\": 0.12100101814, \"OTTER_COUNT\": 40.0}, {\"AREA\": 0.15027087864, \"OTTER_COUNT\": 54.0}, {\"AREA\": 0.25781135864, \"OTTER_COUNT\": 117.0}, {\"AREA\": 0.1290177378, \"OTTER_COUNT\": 48.0}, {\"AREA\": 0.15227746567, \"OTTER_COUNT\": 61.0}, {\"AREA\": 0.10259603081, \"OTTER_COUNT\": 32.0}, {\"AREA\": 0.27480538611, \"OTTER_COUNT\": 128.0}, {\"AREA\": 0.35388942419, \"OTTER_COUNT\": 2.0}, {\"AREA\": 0.31698166488, \"OTTER_COUNT\": 154.0}, {\"AREA\": 0.33197317028, \"OTTER_COUNT\": 4.0}, {\"AREA\": 0.226307592, \"OTTER_COUNT\": 102.0}, {\"AREA\": 0.42837943906000003, \"OTTER_COUNT\": 11.0}, {\"AREA\": 0.17319063608, \"OTTER_COUNT\": 70.0}, {\"AREA\": 0.2080854659, \"OTTER_COUNT\": 1.0}, {\"AREA\": 0.17876798363000002, \"OTTER_COUNT\": 71.0}, {\"AREA\": 0.31745305178, \"OTTER_COUNT\": 11.0}, {\"AREA\": 0.27948410459, \"OTTER_COUNT\": 125.0}, {\"AREA\": 0.35501772809, \"OTTER_COUNT\": 6.0}, {\"AREA\": 0.24642845853, \"OTTER_COUNT\": 105.0}, {\"AREA\": 0.38050351417000006, \"OTTER_COUNT\": 9.0}, {\"AREA\": 0.19927094009, \"OTTER_COUNT\": 73.0}, {\"AREA\": 0.23699256875, \"OTTER_COUNT\": 1.0}, {\"AREA\": 0.26259244699, \"OTTER_COUNT\": 96.0}, {\"AREA\": 0.37166370342, \"OTTER_COUNT\": 10.0}, {\"AREA\": 0.17344100366, \"OTTER_COUNT\": 54.0}, {\"AREA\": 0.51894052471, \"OTTER_COUNT\": 18.0}, {\"AREA\": 0.52087160941, \"OTTER_COUNT\": 226.0}, {\"AREA\": 0.23745105899, \"OTTER_COUNT\": 3.0}, {\"AREA\": 0.36344488477, \"OTTER_COUNT\": 159.0}, {\"AREA\": 0.3109407753, \"OTTER_COUNT\": 8.0}, {\"AREA\": 0.30963126514, \"OTTER_COUNT\": 104.0}, {\"AREA\": 0.35968929027, \"OTTER_COUNT\": 10.0}, {\"AREA\": 0.27226118614, \"OTTER_COUNT\": 87.0}, {\"AREA\": 0.35127357862, \"OTTER_COUNT\": 10.0}, {\"AREA\": 0.17602800535, \"OTTER_COUNT\": 46.0}, {\"AREA\": 0.30732908291, \"OTTER_COUNT\": 6.0}, {\"AREA\": 0.27605365923999997, \"OTTER_COUNT\": 79.0}, {\"AREA\": 0.40612163151, \"OTTER_COUNT\": 11.0}, {\"AREA\": 0.24994583926, \"OTTER_COUNT\": 62.0}, {\"AREA\": 0.38956425292999997, \"OTTER_COUNT\": 10.0}, {\"AREA\": 0.32695496142, \"OTTER_COUNT\": 87.0}, {\"AREA\": 0.42380126049999994, \"OTTER_COUNT\": 11.0}, {\"AREA\": 0.41755851946, \"OTTER_COUNT\": 106.0}, {\"AREA\": 0.4153946689, \"OTTER_COUNT\": 11.0}, {\"AREA\": 0.27310249866, \"OTTER_COUNT\": 59.0}, {\"AREA\": 0.33542934838, \"OTTER_COUNT\": 9.0}, {\"AREA\": 0.22284376364, \"OTTER_COUNT\": 50.0}, {\"AREA\": 0.5771490835199999, \"OTTER_COUNT\": 18.0}, {\"AREA\": 0.15984035056, \"OTTER_COUNT\": 27.0}, {\"AREA\": 0.39549664035, \"OTTER_COUNT\": 9.0}, {\"AREA\": 0.13269655164000002, \"OTTER_COUNT\": 24.0}, {\"AREA\": 0.45646149343000003, \"OTTER_COUNT\": 6.0}, {\"AREA\": 0.19193805764, \"OTTER_COUNT\": 37.0}, {\"AREA\": 0.53506898548, \"OTTER_COUNT\": 4.0}, {\"AREA\": 0.33555449395000003, \"OTTER_COUNT\": 96.0}, {\"AREA\": 0.43746207986, \"OTTER_COUNT\": 3.0}, {\"AREA\": 0.5598102511599999, \"OTTER_COUNT\": 199.0}, {\"AREA\": 0.35999918609, \"OTTER_COUNT\": 112.0}, {\"AREA\": 0.32367896294, \"OTTER_COUNT\": 1.0}, {\"AREA\": 0.44886504001999994, \"OTTER_COUNT\": 150.0}, {\"AREA\": 0.43351865933, \"OTTER_COUNT\": 133.0}, {\"AREA\": 0.41795111104000005, \"OTTER_COUNT\": 133.0}, {\"AREA\": 0.27536642314, \"OTTER_COUNT\": 74.0}, {\"AREA\": 0.20647598099, \"OTTER_COUNT\": 45.0}, {\"AREA\": 0.24508670557, \"OTTER_COUNT\": 41.0}, {\"AREA\": 0.16246239261, \"OTTER_COUNT\": 23.0}, {\"AREA\": 0.24825094524, \"OTTER_COUNT\": 43.0}, {\"AREA\": 0.33453273402, \"OTTER_COUNT\": 55.0}, {\"AREA\": 0.34293962593000005, \"OTTER_COUNT\": 56.0}, {\"AREA\": 0.41313960884000006, \"OTTER_COUNT\": 74.0}, {\"AREA\": 0.4417789334, \"OTTER_COUNT\": 83.0}, {\"AREA\": 0.31956076005, \"OTTER_COUNT\": 61.0}, {\"AREA\": 0.35780764027999995, \"OTTER_COUNT\": 64.0}, {\"AREA\": 0.31081646184, \"OTTER_COUNT\": 54.0}, {\"AREA\": 0.4127593607, \"OTTER_COUNT\": 77.0}, {\"AREA\": 0.34642173476000004, \"OTTER_COUNT\": 56.0}, {\"AREA\": 0.3940639229, \"OTTER_COUNT\": 66.0}, {\"AREA\": 0.3153350996, \"OTTER_COUNT\": 31.0}, {\"AREA\": 0.25393069909000004, \"OTTER_COUNT\": 14.0}, {\"AREA\": 0.28388714831, \"OTTER_COUNT\": 15.0}, {\"AREA\": 0.42461262214, \"OTTER_COUNT\": 34.0}, {\"AREA\": 0.58067651834, \"OTTER_COUNT\": 49.0}, {\"AREA\": 0.6303936481, \"OTTER_COUNT\": 51.0}, {\"AREA\": 0.67733798063, \"OTTER_COUNT\": 52.0}, {\"AREA\": 0.57984138064, \"OTTER_COUNT\": 43.0}, {\"AREA\": 0.48866569827, \"OTTER_COUNT\": 34.0}, {\"AREA\": 0.5607421903, \"OTTER_COUNT\": 39.0}, {\"AREA\": 0.59015131398, \"OTTER_COUNT\": 38.0}, {\"AREA\": 0.58145065867, \"OTTER_COUNT\": 39.0}, {\"AREA\": 0.48882221677, \"OTTER_COUNT\": 31.0}, {\"AREA\": 0.36973482496, \"OTTER_COUNT\": 10.0}, {\"AREA\": 0.5623160819399999, \"OTTER_COUNT\": 18.0}, {\"AREA\": 0.6465482101, \"OTTER_COUNT\": 25.0}, {\"AREA\": 0.7246350580500001, \"OTTER_COUNT\": 31.0}, {\"AREA\": 1.06250717392, \"OTTER_COUNT\": 52.0}, {\"AREA\": 0.92350053432, \"OTTER_COUNT\": 41.0}, {\"AREA\": 1.16670500397, \"OTTER_COUNT\": 61.0}, {\"AREA\": 1.04737502999, \"OTTER_COUNT\": 54.0}, {\"AREA\": 0.8625629058200001, \"OTTER_COUNT\": 38.0}, {\"AREA\": 0.84235026046, \"OTTER_COUNT\": 39.0}, {\"AREA\": 0.79540933958, \"OTTER_COUNT\": 37.0}, {\"AREA\": 1.08945334686, \"OTTER_COUNT\": 57.0}, {\"AREA\": 1.05985611921, \"OTTER_COUNT\": 44.0}, {\"AREA\": 1.18301012853, \"OTTER_COUNT\": 45.0}, {\"AREA\": 1.2720163048100002, \"OTTER_COUNT\": 43.0}, {\"AREA\": 0.92384922272, \"OTTER_COUNT\": 27.0}, {\"AREA\": 1.1492424992499999, \"OTTER_COUNT\": 35.0}, {\"AREA\": 0.7389871540199999, \"OTTER_COUNT\": 17.0}, {\"AREA\": 0.65026107294, \"OTTER_COUNT\": 14.0}, {\"AREA\": 0.7623936892000001, \"OTTER_COUNT\": 22.0}, {\"AREA\": 0.5871541771000001, \"OTTER_COUNT\": 8.0}, {\"AREA\": 0.48515926972999995, \"OTTER_COUNT\": 5.0}, {\"AREA\": 0.58537351467, \"OTTER_COUNT\": 16.0}, {\"AREA\": 0.51104873546, \"OTTER_COUNT\": 15.0}, {\"AREA\": 0.44335766851, \"OTTER_COUNT\": 7.0}, {\"AREA\": 0.31608503633, \"OTTER_COUNT\": 1.0}, {\"AREA\": 0.36007061535999996, \"OTTER_COUNT\": 4.0}, {\"AREA\": 0.39993901919, \"OTTER_COUNT\": 7.0}, {\"AREA\": 0.45597713357, \"OTTER_COUNT\": 15.0}, {\"AREA\": 0.51971083838, \"OTTER_COUNT\": 28.0}, {\"AREA\": 0.44893540016000005, \"OTTER_COUNT\": 25.0}, {\"AREA\": 0.41852444865000005, \"OTTER_COUNT\": 31.0}, {\"AREA\": 0.48341427593999997, \"OTTER_COUNT\": 37.0}, {\"AREA\": 0.49036085538, \"OTTER_COUNT\": 42.0}, {\"AREA\": 0.46921765458, \"OTTER_COUNT\": 43.0}, {\"AREA\": 0.45275617098, \"OTTER_COUNT\": 62.0}, {\"AREA\": 0.53987942052, \"OTTER_COUNT\": 88.0}, {\"AREA\": 0.44758855055, \"OTTER_COUNT\": 70.0}, {\"AREA\": 0.35146709017, \"OTTER_COUNT\": 62.0}, {\"AREA\": 0.39701276181999995, \"OTTER_COUNT\": 75.0}, {\"AREA\": 0.38890049597000004, \"OTTER_COUNT\": 77.0}, {\"AREA\": 0.24131125366999998, \"OTTER_COUNT\": 38.0}, {\"AREA\": 0.08575542838, \"OTTER_COUNT\": 1.0}, {\"AREA\": 0.12917191168, \"OTTER_COUNT\": 17.0}, {\"AREA\": 0.28404272014, \"OTTER_COUNT\": 53.0}, {\"AREA\": 0.20527606864999998, \"OTTER_COUNT\": 45.0}, {\"AREA\": 0.27262561559, \"OTTER_COUNT\": 62.0}, {\"AREA\": 0.35711695338, \"OTTER_COUNT\": 87.0}, {\"AREA\": 0.30010481292, \"OTTER_COUNT\": 67.0}, {\"AREA\": 0.26576329342, \"OTTER_COUNT\": 65.0}, {\"AREA\": 0.23748758574999998, \"OTTER_COUNT\": 53.0}, {\"AREA\": 0.21718344489, \"OTTER_COUNT\": 48.0}, {\"AREA\": 0.18380686242, \"OTTER_COUNT\": 38.0}, {\"AREA\": 0.14986137758999998, \"OTTER_COUNT\": 32.0}, {\"AREA\": 0.14407672729, \"OTTER_COUNT\": 27.0}, {\"AREA\": 0.22618183307999998, \"OTTER_COUNT\": 39.0}, {\"AREA\": 0.29531380697, \"OTTER_COUNT\": 73.0}, {\"AREA\": 0.33390399819, \"OTTER_COUNT\": 76.0}, {\"AREA\": 0.30403781547, \"OTTER_COUNT\": 68.0}, {\"AREA\": 0.34684395971, \"OTTER_COUNT\": 86.0}, {\"AREA\": 0.31104809472, \"OTTER_COUNT\": 69.0}, {\"AREA\": 0.33516360188, \"OTTER_COUNT\": 84.0}, {\"AREA\": 0.33118046446, \"OTTER_COUNT\": 82.0}, {\"AREA\": 0.35833789027999996, \"OTTER_COUNT\": 101.0}, {\"AREA\": 0.3945053253, \"OTTER_COUNT\": 121.0}, {\"AREA\": 0.42724860961000005, \"OTTER_COUNT\": 136.0}, {\"AREA\": 0.33938621195, \"OTTER_COUNT\": 77.0}, {\"AREA\": 0.37918716071999997, \"OTTER_COUNT\": 89.0}, {\"AREA\": 0.51630934089, \"OTTER_COUNT\": 146.0}, {\"AREA\": 0.39945622422, \"OTTER_COUNT\": 117.0}, {\"AREA\": 0.47074282545, \"OTTER_COUNT\": 134.0}, {\"AREA\": 0.36848569632, \"OTTER_COUNT\": 104.0}, {\"AREA\": 0.43768002534, \"OTTER_COUNT\": 179.0}, {\"AREA\": 0.29849307831, \"OTTER_COUNT\": 107.0}, {\"AREA\": 0.44158340648999994, \"OTTER_COUNT\": 163.0}, {\"AREA\": 0.4299647509, \"OTTER_COUNT\": 152.0}, {\"AREA\": 0.32507252314, \"OTTER_COUNT\": 105.0}, {\"AREA\": 0.34368062777999997, \"OTTER_COUNT\": 103.0}, {\"AREA\": 0.2358940598, \"OTTER_COUNT\": 52.0}, {\"AREA\": 0.30952064951, \"OTTER_COUNT\": 70.0}, {\"AREA\": 0.2343124814, \"OTTER_COUNT\": 52.0}, {\"AREA\": 0.22798205738000002, \"OTTER_COUNT\": 48.0}, {\"AREA\": 0.24151645506, \"OTTER_COUNT\": 58.0}, {\"AREA\": 0.32886958157, \"OTTER_COUNT\": 96.0}, {\"AREA\": 0.52771711702, \"OTTER_COUNT\": 146.0}, {\"AREA\": 0.5343196767099999, \"OTTER_COUNT\": 154.0}, {\"AREA\": 0.37514689612999996, \"OTTER_COUNT\": 100.0}, {\"AREA\": 0.28491521312, \"OTTER_COUNT\": 67.0}, {\"AREA\": 0.35826121520000004, \"OTTER_COUNT\": 105.0}, {\"AREA\": 0.25242055766, \"OTTER_COUNT\": 60.0}, {\"AREA\": 0.29967745140999996, \"OTTER_COUNT\": 77.0}, {\"AREA\": 0.42187119697, \"OTTER_COUNT\": 116.0}, {\"AREA\": 0.43712551986000003, \"OTTER_COUNT\": 115.0}, {\"AREA\": 0.52503974979, \"OTTER_COUNT\": 94.0}, {\"AREA\": 0.45882578771, \"OTTER_COUNT\": 69.0}, {\"AREA\": 0.39004948189000005, \"OTTER_COUNT\": 58.0}, {\"AREA\": 0.54921332907, \"OTTER_COUNT\": 89.0}, {\"AREA\": 0.57766494169, \"OTTER_COUNT\": 94.0}, {\"AREA\": 0.52447887181, \"OTTER_COUNT\": 89.0}, {\"AREA\": 0.5847252229200001, \"OTTER_COUNT\": 110.0}, {\"AREA\": 0.5972852279900001, \"OTTER_COUNT\": 113.0}, {\"AREA\": 0.65791269951, \"OTTER_COUNT\": 122.0}, {\"AREA\": 0.69453001589, \"OTTER_COUNT\": 136.0}, {\"AREA\": 0.46169004905, \"OTTER_COUNT\": 68.0}, {\"AREA\": 0.58960810711, \"OTTER_COUNT\": 91.0}, {\"AREA\": 0.46612170884000004, \"OTTER_COUNT\": 1.0}, {\"AREA\": 0.6008728789500001, \"OTTER_COUNT\": 90.0}, {\"AREA\": 0.41568044961999995, \"OTTER_COUNT\": 2.0}, {\"AREA\": 0.6438967449899999, \"OTTER_COUNT\": 89.0}, {\"AREA\": 0.38258242599, \"OTTER_COUNT\": 4.0}, {\"AREA\": 0.5320566691899999, \"OTTER_COUNT\": 73.0}, {\"AREA\": 0.31717482722, \"OTTER_COUNT\": 2.0}, {\"AREA\": 0.5170054283, \"OTTER_COUNT\": 70.0}, {\"AREA\": 0.34949443222000004, \"OTTER_COUNT\": 4.0}, {\"AREA\": 0.55046753737, \"OTTER_COUNT\": 70.0}, {\"AREA\": 0.36650908636, \"OTTER_COUNT\": 4.0}, {\"AREA\": 0.66175303375, \"OTTER_COUNT\": 72.0}, {\"AREA\": 0.4021027688, \"OTTER_COUNT\": 4.0}, {\"AREA\": 0.58913085492, \"OTTER_COUNT\": 62.0}, {\"AREA\": 0.3165576162, \"OTTER_COUNT\": 4.0}, {\"AREA\": 0.59037261819, \"OTTER_COUNT\": 75.0}, {\"AREA\": 0.28597146890999997, \"OTTER_COUNT\": 2.0}, {\"AREA\": 0.60425960437, \"OTTER_COUNT\": 77.0}, {\"AREA\": 0.31814314528, \"OTTER_COUNT\": 4.0}, {\"AREA\": 0.48005951974, \"OTTER_COUNT\": 56.0}, {\"AREA\": 0.28200486321, \"OTTER_COUNT\": 2.0}, {\"AREA\": 0.37936207786, \"OTTER_COUNT\": 49.0}, {\"AREA\": 0.63553006023, \"OTTER_COUNT\": 84.0}, {\"AREA\": 0.38503717364, \"OTTER_COUNT\": 4.0}, {\"AREA\": 0.51829161165, \"OTTER_COUNT\": 67.0}, {\"AREA\": 0.32661659992, \"OTTER_COUNT\": 4.0}, {\"AREA\": 0.46654398126999996, \"OTTER_COUNT\": 68.0}, {\"AREA\": 0.27169126826, \"OTTER_COUNT\": 3.0}, {\"AREA\": 0.51466719891, \"OTTER_COUNT\": 74.0}, {\"AREA\": 0.32174966712, \"OTTER_COUNT\": 4.0}, {\"AREA\": 0.47916657887999997, \"OTTER_COUNT\": 61.0}, {\"AREA\": 0.35219470137000003, \"OTTER_COUNT\": 5.0}, {\"AREA\": 0.46304258672, \"OTTER_COUNT\": 57.0}, {\"AREA\": 0.36769838422, \"OTTER_COUNT\": 5.0}, {\"AREA\": 0.54616570426, \"OTTER_COUNT\": 78.0}, {\"AREA\": 0.48991576921999996, \"OTTER_COUNT\": 6.0}, {\"AREA\": 0.40846856063000003, \"OTTER_COUNT\": 59.0}, {\"AREA\": 0.44603477474, \"OTTER_COUNT\": 4.0}, {\"AREA\": 0.49584160765, \"OTTER_COUNT\": 87.0}, {\"AREA\": 0.53674420851, \"OTTER_COUNT\": 7.0}, {\"AREA\": 0.47969367998, \"OTTER_COUNT\": 80.0}, {\"AREA\": 0.73548742317, \"OTTER_COUNT\": 9.0}, {\"AREA\": 0.48525819634000006, \"OTTER_COUNT\": 83.0}, {\"AREA\": 0.76317053031, \"OTTER_COUNT\": 5.0}, {\"AREA\": 0.5049837174899999, \"OTTER_COUNT\": 87.0}, {\"AREA\": 0.7918386458, \"OTTER_COUNT\": 2.0}, {\"AREA\": 0.48485860536, \"OTTER_COUNT\": 80.0}, {\"AREA\": 0.75627490381, \"OTTER_COUNT\": 1.0}, {\"AREA\": 0.65806767768, \"OTTER_COUNT\": 119.0}, {\"AREA\": 0.9650017499, \"OTTER_COUNT\": 1.0}, {\"AREA\": 0.40454982801, \"OTTER_COUNT\": 61.0}, {\"AREA\": 0.7706783659900001, \"OTTER_COUNT\": 148.0}, {\"AREA\": 0.40499275550999997, \"OTTER_COUNT\": 61.0}, {\"AREA\": 0.75349230985, \"OTTER_COUNT\": 151.0}, {\"AREA\": 0.68261417762, \"OTTER_COUNT\": 132.0}, {\"AREA\": 0.77948972004, \"OTTER_COUNT\": 173.0}, {\"AREA\": 0.54652049946, \"OTTER_COUNT\": 104.0}, {\"AREA\": 0.55522079613, \"OTTER_COUNT\": 120.0}, {\"AREA\": 0.46739291440999997, \"OTTER_COUNT\": 92.0}, {\"AREA\": 0.40977117229000004, \"OTTER_COUNT\": 72.0}, {\"AREA\": 0.29074056232, \"OTTER_COUNT\": 50.0}, {\"AREA\": 0.41260997024999996, \"OTTER_COUNT\": 74.0}, {\"AREA\": 0.46584179085, \"OTTER_COUNT\": 81.0}, {\"AREA\": 0.48961862068000006, \"OTTER_COUNT\": 82.0}, {\"AREA\": 0.35266125713, \"OTTER_COUNT\": 47.0}, {\"AREA\": 0.34954786045999997, \"OTTER_COUNT\": 40.0}, {\"AREA\": 0.41224009726000005, \"OTTER_COUNT\": 56.0}, {\"AREA\": 0.5012966682500001, \"OTTER_COUNT\": 69.0}, {\"AREA\": 0.67620708572, \"OTTER_COUNT\": 101.0}, {\"AREA\": 0.62371541601, \"OTTER_COUNT\": 97.0}, {\"AREA\": 0.64368863035, \"OTTER_COUNT\": 101.0}, {\"AREA\": 0.80447772448, \"OTTER_COUNT\": 165.0}, {\"AREA\": 0.64810604772, \"OTTER_COUNT\": 120.0}, {\"AREA\": 0.5110594432100001, \"OTTER_COUNT\": 80.0}, {\"AREA\": 0.61923460814, \"OTTER_COUNT\": 91.0}, {\"AREA\": 0.57063663524, \"OTTER_COUNT\": 87.0}, {\"AREA\": 0.41305626259000006, \"OTTER_COUNT\": 59.0}, {\"AREA\": 0.46188380504, \"OTTER_COUNT\": 71.0}, {\"AREA\": 0.34904354175999996, \"OTTER_COUNT\": 48.0}, {\"AREA\": 0.52707168761, \"OTTER_COUNT\": 81.0}, {\"AREA\": 0.37391663329999997, \"OTTER_COUNT\": 56.0}, {\"AREA\": 0.41868049888, \"OTTER_COUNT\": 61.0}, {\"AREA\": 0.48722910601999997, \"OTTER_COUNT\": 76.0}, {\"AREA\": 0.68901275507, \"OTTER_COUNT\": 124.0}, {\"AREA\": 0.58273130329, \"OTTER_COUNT\": 113.0}, {\"AREA\": 0.38184971590000005, \"OTTER_COUNT\": 66.0}, {\"AREA\": 0.47306131865, \"OTTER_COUNT\": 89.0}, {\"AREA\": 0.5679682604, \"OTTER_COUNT\": 112.0}, {\"AREA\": 0.649494486, \"OTTER_COUNT\": 128.0}, {\"AREA\": 0.69991929863, \"OTTER_COUNT\": 133.0}, {\"AREA\": 0.6348954921500001, \"OTTER_COUNT\": 123.0}, {\"AREA\": 0.56005512237, \"OTTER_COUNT\": 99.0}, {\"AREA\": 0.7020617934000001, \"OTTER_COUNT\": 110.0}, {\"AREA\": 0.84995099749, \"OTTER_COUNT\": 131.0}, {\"AREA\": 0.68324200303, \"OTTER_COUNT\": 101.0}, {\"AREA\": 0.78059389937, \"OTTER_COUNT\": 127.0}, {\"AREA\": 0.7471348498, \"OTTER_COUNT\": 120.0}, {\"AREA\": 0.80853760874, \"OTTER_COUNT\": 144.0}, {\"AREA\": 0.9586881615, \"OTTER_COUNT\": 156.0}, {\"AREA\": 0.6953098658400001, \"OTTER_COUNT\": 112.0}, {\"AREA\": 0.62931355254, \"OTTER_COUNT\": 98.0}, {\"AREA\": 0.50128514648, \"OTTER_COUNT\": 72.0}, {\"AREA\": 0.92257265588, \"OTTER_COUNT\": 146.0}, {\"AREA\": 0.8546626873600001, \"OTTER_COUNT\": 130.0}, {\"AREA\": 0.7359727773199999, \"OTTER_COUNT\": 106.0}, {\"AREA\": 0.64969139044, \"OTTER_COUNT\": 80.0}, {\"AREA\": 0.61412214411, \"OTTER_COUNT\": 75.0}, {\"AREA\": 0.67926737396, \"OTTER_COUNT\": 70.0}, {\"AREA\": 0.71897913604, \"OTTER_COUNT\": 79.0}, {\"AREA\": 0.7071583632899999, \"OTTER_COUNT\": 75.0}, {\"AREA\": 1.03340996622, \"OTTER_COUNT\": 116.0}, {\"AREA\": 0.47061635336999996, \"OTTER_COUNT\": 44.0}, {\"AREA\": 0.7414142292299999, \"OTTER_COUNT\": 81.0}, {\"AREA\": 0.7845570651, \"OTTER_COUNT\": 86.0}, {\"AREA\": 1.00739020996, \"OTTER_COUNT\": 110.0}, {\"AREA\": 1.47132426146, \"OTTER_COUNT\": 182.0}, {\"AREA\": 1.3584355721599999, \"OTTER_COUNT\": 152.0}, {\"AREA\": 1.2471750696, \"OTTER_COUNT\": 125.0}, {\"AREA\": 1.53529886612, \"OTTER_COUNT\": 134.0}, {\"AREA\": 1.7247230817199999, \"OTTER_COUNT\": 154.0}, {\"AREA\": 1.63007841264, \"OTTER_COUNT\": 140.0}, {\"AREA\": 1.52195086977, \"OTTER_COUNT\": 135.0}, {\"AREA\": 0.9105798043500001, \"OTTER_COUNT\": 71.0}, {\"AREA\": 1.08045313524, \"OTTER_COUNT\": 103.0}, {\"AREA\": 0.97505631672, \"OTTER_COUNT\": 89.0}, {\"AREA\": 0.51825594405, \"OTTER_COUNT\": 45.0}, {\"AREA\": 0.47656231324000004, \"OTTER_COUNT\": 47.0}, {\"AREA\": 0.39364373523999996, \"OTTER_COUNT\": 40.0}, {\"AREA\": 0.8333067594499999, \"OTTER_COUNT\": 103.0}, {\"AREA\": 0.8037362499899999, \"OTTER_COUNT\": 96.0}, {\"AREA\": 0.82272520336, \"OTTER_COUNT\": 99.0}, {\"AREA\": 0.8528894988600001, \"OTTER_COUNT\": 107.0}, {\"AREA\": 0.7755035847599999, \"OTTER_COUNT\": 99.0}, {\"AREA\": 0.75942374094, \"OTTER_COUNT\": 100.0}, {\"AREA\": 0.53892930101, \"OTTER_COUNT\": 67.0}, {\"AREA\": 0.68902956581, \"OTTER_COUNT\": 87.0}, {\"AREA\": 0.78477602755, \"OTTER_COUNT\": 98.0}, {\"AREA\": 0.8432466737700001, \"OTTER_COUNT\": 103.0}, {\"AREA\": 1.09634260582, \"OTTER_COUNT\": 149.0}, {\"AREA\": 1.06625477964, \"OTTER_COUNT\": 129.0}, {\"AREA\": 1.22898150714, \"OTTER_COUNT\": 156.0}, {\"AREA\": 1.4433725736199998, \"OTTER_COUNT\": 185.0}, {\"AREA\": 0.93656131909, \"OTTER_COUNT\": 105.0}, {\"AREA\": 1.09664033853, \"OTTER_COUNT\": 136.0}, {\"AREA\": 1.55484353968, \"OTTER_COUNT\": 181.0}, {\"AREA\": 1.19271516985, \"OTTER_COUNT\": 136.0}, {\"AREA\": 0.99984342226, \"OTTER_COUNT\": 94.0}, {\"AREA\": 1.44950809614, \"OTTER_COUNT\": 164.0}, {\"AREA\": 0.57745483614, \"OTTER_COUNT\": 50.0}, {\"AREA\": 0.64741246325, \"OTTER_COUNT\": 54.0}, {\"AREA\": 1.2265657737, \"OTTER_COUNT\": 115.0}, {\"AREA\": 1.2144389063699998, \"OTTER_COUNT\": 130.0}, {\"AREA\": 1.4191828160100002, \"OTTER_COUNT\": 166.0}, {\"AREA\": 0.94571575316, \"OTTER_COUNT\": 102.0}, {\"AREA\": 1.01336119981, \"OTTER_COUNT\": 110.0}, {\"AREA\": 1.13804942317, \"OTTER_COUNT\": 129.0}, {\"AREA\": 0.9367789006, \"OTTER_COUNT\": 102.0}, {\"AREA\": 0.99609710522, \"OTTER_COUNT\": 113.0}, {\"AREA\": 1.0388790564800001, \"OTTER_COUNT\": 125.0}, {\"AREA\": 0.62773254762, \"OTTER_COUNT\": 70.0}, {\"AREA\": 0.6993005892, \"OTTER_COUNT\": 82.0}, {\"AREA\": 0.68327121664, \"OTTER_COUNT\": 81.0}, {\"AREA\": 0.8238445731, \"OTTER_COUNT\": 95.0}, {\"AREA\": 0.8135776514599999, \"OTTER_COUNT\": 94.0}, {\"AREA\": 1.21907062371, \"OTTER_COUNT\": 163.0}, {\"AREA\": 1.08853218172, \"OTTER_COUNT\": 154.0}, {\"AREA\": 0.92821726533, \"OTTER_COUNT\": 116.0}, {\"AREA\": 0.8527774849099999, \"OTTER_COUNT\": 95.0}, {\"AREA\": 0.74458954522, \"OTTER_COUNT\": 78.0}, {\"AREA\": 0.89732316865, \"OTTER_COUNT\": 95.0}, {\"AREA\": 0.8736075636599999, \"OTTER_COUNT\": 94.0}, {\"AREA\": 0.80907846146, \"OTTER_COUNT\": 86.0}, {\"AREA\": 0.6854894542900001, \"OTTER_COUNT\": 69.0}, {\"AREA\": 0.93781911766, \"OTTER_COUNT\": 101.0}, {\"AREA\": 0.5007286843100001, \"OTTER_COUNT\": 44.0}, {\"AREA\": 0.7261850687000001, \"OTTER_COUNT\": 66.0}, {\"AREA\": 0.74395572942, \"OTTER_COUNT\": 71.0}, {\"AREA\": 0.74714398857, \"OTTER_COUNT\": 74.0}, {\"AREA\": 0.5841436787, \"OTTER_COUNT\": 51.0}, {\"AREA\": 0.6931886483699999, \"OTTER_COUNT\": 61.0}, {\"AREA\": 0.51648079403, \"OTTER_COUNT\": 43.0}, {\"AREA\": 0.52107502676, \"OTTER_COUNT\": 42.0}, {\"AREA\": 0.62517466111, \"OTTER_COUNT\": 50.0}, {\"AREA\": 0.54862005669, \"OTTER_COUNT\": 43.0}, {\"AREA\": 0.5048903497999999, \"OTTER_COUNT\": 39.0}, {\"AREA\": 0.60706290023, \"OTTER_COUNT\": 49.0}, {\"AREA\": 0.5545932179699999, \"OTTER_COUNT\": 37.0}, {\"AREA\": 0.6085875815699999, \"OTTER_COUNT\": 45.0}, {\"AREA\": 0.54081672803, \"OTTER_COUNT\": 34.0}, {\"AREA\": 0.7441052473199999, \"OTTER_COUNT\": 52.0}, {\"AREA\": 0.6822416070999999, \"OTTER_COUNT\": 43.0}, {\"AREA\": 0.81565534975, \"OTTER_COUNT\": 55.0}, {\"AREA\": 0.82088074597, \"OTTER_COUNT\": 53.0}, {\"AREA\": 0.68952917779, \"OTTER_COUNT\": 36.0}, {\"AREA\": 0.65464324476, \"OTTER_COUNT\": 30.0}, {\"AREA\": 0.77135634137, \"OTTER_COUNT\": 35.0}, {\"AREA\": 0.85311737671, \"OTTER_COUNT\": 42.0}, {\"AREA\": 0.7242846520999999, \"OTTER_COUNT\": 30.0}, {\"AREA\": 0.85730436419, \"OTTER_COUNT\": 38.0}, {\"AREA\": 0.73107452682, \"OTTER_COUNT\": 34.0}, {\"AREA\": 0.8417874630500001, \"OTTER_COUNT\": 42.0}, {\"AREA\": 0.81678306861, \"OTTER_COUNT\": 42.0}, {\"AREA\": 0.65864169791, \"OTTER_COUNT\": 32.0}, {\"AREA\": 0.6403812465200001, \"OTTER_COUNT\": 31.0}, {\"AREA\": 0.61454494874, \"OTTER_COUNT\": 29.0}, {\"AREA\": 0.5195550666600001, \"OTTER_COUNT\": 25.0}, {\"AREA\": 0.75365670227, \"OTTER_COUNT\": 37.0}, {\"AREA\": 0.9167124695900001, \"OTTER_COUNT\": 51.0}, {\"AREA\": 1.10646913068, \"OTTER_COUNT\": 65.0}, {\"AREA\": 1.16767774748, \"OTTER_COUNT\": 86.0}, {\"AREA\": 1.02755404119, \"OTTER_COUNT\": 94.0}, {\"AREA\": 0.96967764698, \"OTTER_COUNT\": 92.0}, {\"AREA\": 1.26982514731, \"OTTER_COUNT\": 125.0}, {\"AREA\": 1.17925222165, \"OTTER_COUNT\": 119.0}, {\"AREA\": 1.23614498234, \"OTTER_COUNT\": 125.0}, {\"AREA\": 1.15291325981, \"OTTER_COUNT\": 119.0}, {\"AREA\": 1.25277198541, \"OTTER_COUNT\": 126.0}, {\"AREA\": 1.3849145530899998, \"OTTER_COUNT\": 145.0}, {\"AREA\": 1.33517144201, \"OTTER_COUNT\": 139.0}, {\"AREA\": 1.99785080355, \"OTTER_COUNT\": 205.0}, {\"AREA\": 0.90560647346, \"OTTER_COUNT\": 78.0}, {\"AREA\": 1.4173726125200001, \"OTTER_COUNT\": 123.0}, {\"AREA\": 1.15190640645, \"OTTER_COUNT\": 93.0}, {\"AREA\": 1.3834463087900002, \"OTTER_COUNT\": 114.0}, {\"AREA\": 1.6933879055, \"OTTER_COUNT\": 141.0}, {\"AREA\": 1.36979811446, \"OTTER_COUNT\": 109.0}, {\"AREA\": 2.09094207056, \"OTTER_COUNT\": 173.0}, {\"AREA\": 1.7572515660199999, \"OTTER_COUNT\": 142.0}, {\"AREA\": 1.6680836525799998, \"OTTER_COUNT\": 131.0}, {\"AREA\": 1.37663356955, \"OTTER_COUNT\": 100.0}, {\"AREA\": 1.52009079699, \"OTTER_COUNT\": 84.0}, {\"AREA\": 1.4095600545500002, \"OTTER_COUNT\": 49.0}, {\"AREA\": 1.07523267597, \"OTTER_COUNT\": 25.0}, {\"AREA\": 1.10006640552, \"OTTER_COUNT\": 26.0}, {\"AREA\": 1.07515376162, \"OTTER_COUNT\": 26.0}, {\"AREA\": 1.14689134036, \"OTTER_COUNT\": 27.0}, {\"AREA\": 1.07668723129, \"OTTER_COUNT\": 21.0}, {\"AREA\": 1.05265630737, \"OTTER_COUNT\": 23.0}, {\"AREA\": 1.06624603959, \"OTTER_COUNT\": 23.0}, {\"AREA\": 1.27067063335, \"OTTER_COUNT\": 27.0}, {\"AREA\": 0.90922137195, \"OTTER_COUNT\": 16.0}, {\"AREA\": 1.17947999354, \"OTTER_COUNT\": 28.0}, {\"AREA\": 1.23890718528, \"OTTER_COUNT\": 6.0}, {\"AREA\": 0.89390775338, \"OTTER_COUNT\": 17.0}, {\"AREA\": 0.96269244108, \"OTTER_COUNT\": 5.0}, {\"AREA\": 0.94346360676, \"OTTER_COUNT\": 18.0}, {\"AREA\": 1.10531000378, \"OTTER_COUNT\": 5.0}, {\"AREA\": 7.92847153745, \"OTTER_COUNT\": 174.0}, {\"AREA\": 0.7771129898100001, \"OTTER_COUNT\": 13.0}, {\"AREA\": 0.93026254863, \"OTTER_COUNT\": 5.0}, {\"AREA\": 1.00642390519, \"OTTER_COUNT\": 23.0}, {\"AREA\": 0.94816235484, \"OTTER_COUNT\": 5.0}, {\"AREA\": 1.19159297392, \"OTTER_COUNT\": 36.0}, {\"AREA\": 1.16623261863, \"OTTER_COUNT\": 7.0}, {\"AREA\": 0.9182129041500001, \"OTTER_COUNT\": 31.0}, {\"AREA\": 0.9398104310400001, \"OTTER_COUNT\": 6.0}, {\"AREA\": 0.90414608376, \"OTTER_COUNT\": 30.0}, {\"AREA\": 0.98637280814, \"OTTER_COUNT\": 6.0}, {\"AREA\": 0.89030566134, \"OTTER_COUNT\": 30.0}, {\"AREA\": 1.00580718836, \"OTTER_COUNT\": 6.0}, {\"AREA\": 1.07446936076, \"OTTER_COUNT\": 37.0}, {\"AREA\": 1.2759378879199998, \"OTTER_COUNT\": 11.0}, {\"AREA\": 0.8608965024099999, \"OTTER_COUNT\": 31.0}, {\"AREA\": 1.0443700255500001, \"OTTER_COUNT\": 7.0}, {\"AREA\": 0.8933764226299999, \"OTTER_COUNT\": 33.0}, {\"AREA\": 1.0730915308, \"OTTER_COUNT\": 7.0}, {\"AREA\": 0.8889379072300001, \"OTTER_COUNT\": 32.0}, {\"AREA\": 1.04602955935, \"OTTER_COUNT\": 7.0}, {\"AREA\": 0.90991088499, \"OTTER_COUNT\": 36.0}, {\"AREA\": 1.15889689408, \"OTTER_COUNT\": 7.0}, {\"AREA\": 1.21498766948, \"OTTER_COUNT\": 46.0}, {\"AREA\": 1.36349316327, \"OTTER_COUNT\": 10.0}, {\"AREA\": 1.05711063507, \"OTTER_COUNT\": 41.0}, {\"AREA\": 1.12382665684, \"OTTER_COUNT\": 7.0}, {\"AREA\": 0.9742632298199999, \"OTTER_COUNT\": 45.0}, {\"AREA\": 1.2121204461200001, \"OTTER_COUNT\": 7.0}, {\"AREA\": 0.9911750822100001, \"OTTER_COUNT\": 49.0}, {\"AREA\": 1.2678982774699998, \"OTTER_COUNT\": 7.0}, {\"AREA\": 0.97293423657, \"OTTER_COUNT\": 48.0}, {\"AREA\": 1.18425560973, \"OTTER_COUNT\": 6.0}, {\"AREA\": 0.98583549188, \"OTTER_COUNT\": 50.0}, {\"AREA\": 1.22477036365, \"OTTER_COUNT\": 6.0}, {\"AREA\": 0.9614084230500001, \"OTTER_COUNT\": 48.0}, {\"AREA\": 1.24999034242, \"OTTER_COUNT\": 5.0}, {\"AREA\": 0.95416199859, \"OTTER_COUNT\": 66.0}, {\"AREA\": 1.25052697781, \"OTTER_COUNT\": 4.0}, {\"AREA\": 0.9224437143700001, \"OTTER_COUNT\": 66.0}, {\"AREA\": 0.9147709701000001, \"OTTER_COUNT\": 62.0}, {\"AREA\": 0.8936090189300001, \"OTTER_COUNT\": 61.0}, {\"AREA\": 0.68366025586, \"OTTER_COUNT\": 44.0}, {\"AREA\": 0.82567822839, \"OTTER_COUNT\": 56.0}, {\"AREA\": 0.99644894563, \"OTTER_COUNT\": 66.0}, {\"AREA\": 0.9287767963500001, \"OTTER_COUNT\": 5.0}, {\"AREA\": 0.8022050360799999, \"OTTER_COUNT\": 59.0}, {\"AREA\": 0.93804174131, \"OTTER_COUNT\": 5.0}, {\"AREA\": 0.7652428768799999, \"OTTER_COUNT\": 60.0}, {\"AREA\": 0.81166340739, \"OTTER_COUNT\": 4.0}, {\"AREA\": 0.64781318846, \"OTTER_COUNT\": 55.0}, {\"AREA\": 0.88675543338, \"OTTER_COUNT\": 4.0}, {\"AREA\": 0.64293240832, \"OTTER_COUNT\": 70.0}, {\"AREA\": 0.9691152138, \"OTTER_COUNT\": 12.0}, {\"AREA\": 0.49647667901000003, \"OTTER_COUNT\": 53.0}, {\"AREA\": 0.93117363777, \"OTTER_COUNT\": 12.0}, {\"AREA\": 0.39738238494, \"OTTER_COUNT\": 39.0}, {\"AREA\": 0.80052837647, \"OTTER_COUNT\": 9.0}, {\"AREA\": 0.5176819216799999, \"OTTER_COUNT\": 59.0}, {\"AREA\": 1.14260750712, \"OTTER_COUNT\": 17.0}, {\"AREA\": 0.42678976529, \"OTTER_COUNT\": 59.0}, {\"AREA\": 0.9261546841699999, \"OTTER_COUNT\": 12.0}, {\"AREA\": 0.36571439617, \"OTTER_COUNT\": 50.0}, {\"AREA\": 0.97529651235, \"OTTER_COUNT\": 12.0}, {\"AREA\": 0.30005889599, \"OTTER_COUNT\": 34.0}, {\"AREA\": 0.75496439809, \"OTTER_COUNT\": 8.0}, {\"AREA\": 0.44861542534000004, \"OTTER_COUNT\": 58.0}, {\"AREA\": 0.994954562, \"OTTER_COUNT\": 12.0}, {\"AREA\": 0.50849804317, \"OTTER_COUNT\": 74.0}, {\"AREA\": 1.1465948125499998, \"OTTER_COUNT\": 17.0}, {\"AREA\": 0.39741677846, \"OTTER_COUNT\": 52.0}, {\"AREA\": 0.93776133105, \"OTTER_COUNT\": 12.0}, {\"AREA\": 0.434942503, \"OTTER_COUNT\": 57.0}, {\"AREA\": 0.85343508853, \"OTTER_COUNT\": 11.0}, {\"AREA\": 0.38776079365000005, \"OTTER_COUNT\": 40.0}, {\"AREA\": 0.65239541034, \"OTTER_COUNT\": 6.0}, {\"AREA\": 0.4177008656, \"OTTER_COUNT\": 43.0}, {\"AREA\": 0.69166272673, \"OTTER_COUNT\": 8.0}, {\"AREA\": 0.49408775614, \"OTTER_COUNT\": 52.0}, {\"AREA\": 1.01055603877, \"OTTER_COUNT\": 12.0}, {\"AREA\": 0.35750803353, \"OTTER_COUNT\": 33.0}, {\"AREA\": 1.33960704925, \"OTTER_COUNT\": 17.0}, {\"AREA\": 0.41902814134000005, \"OTTER_COUNT\": 43.0}, {\"AREA\": 1.43776023965, \"OTTER_COUNT\": 13.0}, {\"AREA\": 0.43597010468999997, \"OTTER_COUNT\": 43.0}, {\"AREA\": 1.28848049505, \"OTTER_COUNT\": 10.0}, {\"AREA\": 0.52891536788, \"OTTER_COUNT\": 53.0}, {\"AREA\": 1.3943923385499999, \"OTTER_COUNT\": 9.0}, {\"AREA\": 0.6838051240999999, \"OTTER_COUNT\": 64.0}, {\"AREA\": 1.19717405147, \"OTTER_COUNT\": 6.0}, {\"AREA\": 0.84132102996, \"OTTER_COUNT\": 80.0}, {\"AREA\": 1.01143834211, \"OTTER_COUNT\": 4.0}, {\"AREA\": 0.91654583532, \"OTTER_COUNT\": 82.0}, {\"AREA\": 0.89424040745, \"OTTER_COUNT\": 3.0}, {\"AREA\": 1.6614963790900001, \"OTTER_COUNT\": 101.0}, {\"AREA\": 1.5121382758700002, \"OTTER_COUNT\": 90.0}, {\"AREA\": 1.4981034895699998, \"OTTER_COUNT\": 86.0}, {\"AREA\": 1.3588921406299999, \"OTTER_COUNT\": 63.0}, {\"AREA\": 1.26295619698, \"OTTER_COUNT\": 12.0}, {\"AREA\": 1.36589825456, \"OTTER_COUNT\": 15.0}, {\"AREA\": 1.14408498239, \"OTTER_COUNT\": 10.0}, {\"AREA\": 1.8977976465900002, \"OTTER_COUNT\": 25.0}, {\"AREA\": 1.4774899063, \"OTTER_COUNT\": 10.0}, {\"AREA\": 1.78814765356, \"OTTER_COUNT\": 17.0}, {\"AREA\": 1.38238525351, \"OTTER_COUNT\": 5.0}, {\"AREA\": 1.14423577322, \"OTTER_COUNT\": 2.0}, {\"AREA\": 1.03579062593, \"OTTER_COUNT\": 2.0}, {\"AREA\": 0.94708796043, \"OTTER_COUNT\": 12.0}, {\"AREA\": 1.4964414478999999, \"OTTER_COUNT\": 36.0}, {\"AREA\": 1.5587103931200001, \"OTTER_COUNT\": 40.0}, {\"AREA\": 1.6733401838800002, \"OTTER_COUNT\": 51.0}, {\"AREA\": 1.86771131776, \"OTTER_COUNT\": 65.0}, {\"AREA\": 1.6097523241, \"OTTER_COUNT\": 56.0}, {\"AREA\": 2.04875267494, \"OTTER_COUNT\": 79.0}, {\"AREA\": 1.99615230984, \"OTTER_COUNT\": 75.0}, {\"AREA\": 2.3099995909, \"OTTER_COUNT\": 106.0}, {\"AREA\": 1.9454463177799999, \"OTTER_COUNT\": 87.0}, {\"AREA\": 1.99788038287, \"OTTER_COUNT\": 94.0}, {\"AREA\": 1.99913352648, \"OTTER_COUNT\": 98.0}, {\"AREA\": 1.95884988648, \"OTTER_COUNT\": 98.0}, {\"AREA\": 1.61018254883, \"OTTER_COUNT\": 81.0}, {\"AREA\": 2.14528778737, \"OTTER_COUNT\": 122.0}, {\"AREA\": 2.26830344883, \"OTTER_COUNT\": 131.0}, {\"AREA\": 1.98177214845, \"OTTER_COUNT\": 115.0}, {\"AREA\": 2.38767302173, \"OTTER_COUNT\": 136.0}, {\"AREA\": 2.20900672155, \"OTTER_COUNT\": 119.0}, {\"AREA\": 2.2020109730199997, \"OTTER_COUNT\": 114.0}, {\"AREA\": 2.63770938695, \"OTTER_COUNT\": 136.0}, {\"AREA\": 2.71410964915, \"OTTER_COUNT\": 127.0}, {\"AREA\": 2.32551534099, \"OTTER_COUNT\": 92.0}, {\"AREA\": 2.70980033346, \"OTTER_COUNT\": 109.0}, {\"AREA\": 2.34958044991, \"OTTER_COUNT\": 80.0}, {\"AREA\": 2.33730837192, \"OTTER_COUNT\": 77.0}, {\"AREA\": 2.44372312264, \"OTTER_COUNT\": 81.0}, {\"AREA\": 2.64748523788, \"OTTER_COUNT\": 84.0}, {\"AREA\": 2.22272167627, \"OTTER_COUNT\": 69.0}, {\"AREA\": 1.92385006556, \"OTTER_COUNT\": 48.0}, {\"AREA\": 2.17608146187, \"OTTER_COUNT\": 55.0}, {\"AREA\": 2.41690061815, \"OTTER_COUNT\": 63.0}, {\"AREA\": 2.1247008045199998, \"OTTER_COUNT\": 46.0}, {\"AREA\": 1.95137330632, \"OTTER_COUNT\": 35.0}, {\"AREA\": 2.3440336793200003, \"OTTER_COUNT\": 43.0}, {\"AREA\": 1.93360795857, \"OTTER_COUNT\": 29.0}, {\"AREA\": 2.35556608035, \"OTTER_COUNT\": 36.0}, {\"AREA\": 1.8712336093700002, \"OTTER_COUNT\": 21.0}, {\"AREA\": 1.8604134753900001, \"OTTER_COUNT\": 20.0}, {\"AREA\": 1.76652616647, \"OTTER_COUNT\": 17.0}, {\"AREA\": 2.32291793687, \"OTTER_COUNT\": 24.0}, {\"AREA\": 2.01278178491, \"OTTER_COUNT\": 14.0}, {\"AREA\": 1.88021917396, \"OTTER_COUNT\": 13.0}, {\"AREA\": 1.89095359156, \"OTTER_COUNT\": 13.0}, {\"AREA\": 2.30508970168, \"OTTER_COUNT\": 15.0}, {\"AREA\": 1.83745375991, \"OTTER_COUNT\": 12.0}, {\"AREA\": 2.38997255996, \"OTTER_COUNT\": 14.0}, {\"AREA\": 2.3692883902, \"OTTER_COUNT\": 1.0}, {\"AREA\": 1.90942250741, \"OTTER_COUNT\": 9.0}, {\"AREA\": 2.3124409412599998, \"OTTER_COUNT\": 16.0}, {\"AREA\": 2.39511659486, \"OTTER_COUNT\": 1.0}, {\"AREA\": 1.76479256118, \"OTTER_COUNT\": 8.0}, {\"AREA\": 2.20708498619, \"OTTER_COUNT\": 12.0}, {\"AREA\": 1.77207004587, \"OTTER_COUNT\": 10.0}, {\"AREA\": 1.78324823554, \"OTTER_COUNT\": 9.0}, {\"AREA\": 1.82131954685, \"OTTER_COUNT\": 8.0}, {\"AREA\": 1.74657964533, \"OTTER_COUNT\": 7.0}, {\"AREA\": 1.68612470859, \"OTTER_COUNT\": 7.0}, {\"AREA\": 1.70455502604, \"OTTER_COUNT\": 7.0}, {\"AREA\": 1.72321144922, \"OTTER_COUNT\": 8.0}, {\"AREA\": 1.6932006882100001, \"OTTER_COUNT\": 8.0}, {\"AREA\": 1.6167166262900001, \"OTTER_COUNT\": 5.0}, {\"AREA\": 1.65522856068, \"OTTER_COUNT\": 5.0}, {\"AREA\": 1.99317856069, \"OTTER_COUNT\": 8.0}, {\"AREA\": 1.69841522044, \"OTTER_COUNT\": 6.0}, {\"AREA\": 1.6440631447999998, \"OTTER_COUNT\": 4.0}, {\"AREA\": 1.9326010172799999, \"OTTER_COUNT\": 7.0}, {\"AREA\": 1.52367667453, \"OTTER_COUNT\": 3.0}, {\"AREA\": 1.5025856803400002, \"OTTER_COUNT\": 3.0}, {\"AREA\": 1.79130478479, \"OTTER_COUNT\": 4.0}, {\"AREA\": 1.4580862978600002, \"OTTER_COUNT\": 3.0}, {\"AREA\": 1.4421867917, \"OTTER_COUNT\": 3.0}, {\"AREA\": 1.4355572934, \"OTTER_COUNT\": 3.0}, {\"AREA\": 1.75756976895, \"OTTER_COUNT\": 3.0}, {\"AREA\": 2.43679932455, \"OTTER_COUNT\": 6.0}, {\"AREA\": 2.05463977594, \"OTTER_COUNT\": 3.0}, {\"AREA\": 1.8170445639, \"OTTER_COUNT\": 3.0}, {\"AREA\": 1.6358755406, \"OTTER_COUNT\": 2.0}, {\"AREA\": 1.8788148451, \"OTTER_COUNT\": 2.0}, {\"AREA\": 1.73008849611, \"OTTER_COUNT\": 1.0}]}}, {\"mode\": \"vega-lite\"});\n",
       "</script>"
      ],
      "text/plain": [
       "alt.Chart(...)"
      ]
     },
     "execution_count": 32,
     "metadata": {},
     "output_type": "execute_result"
    }
   ],
   "source": [
    "habitat_properties = habitat_properties_given_min_otter(hab_groups,threshold=0)\n",
    "otter_area_groups = habitat_properties.groupby('AREA')['AREA','OTTER_COUNT'].head()\n",
    "\n",
    "title = 'Distribution of AREA attribute for all habitats.:\\\n",
    "Most of the habitats are smaller in area (less than 1 sq. km.)'\n",
    "area_distribution_plot(otter_area_groups,title)"
   ]
  },
  {
   "cell_type": "markdown",
   "metadata": {
    "id": "aKnpB3fDY6iL"
   },
   "source": [
    "It can be observed that most of the habitats are smaller in size. The bottom left corner is highly dense for all the above graphs. Since most of the habitats are smaller in area (less than 1 sq. km.), we cannot conclude on a correlation between area and otter count across habitats."
   ]
  },
  {
   "cell_type": "markdown",
   "metadata": {
    "id": "YN97CJfsY6iM"
   },
   "source": [
    "We now look into the location data of habitats. The population dataset is collected with GIS shapefiles. We use one such shapefile to get latitude and longitude of habitats that were surveyed in Spring 2014. There are 1975 habitats. "
   ]
  },
  {
   "cell_type": "code",
   "execution_count": 33,
   "metadata": {
    "id": "UbMgs2E9Y6iM",
    "outputId": "c9ae6686-27c3-48ab-ef61-7f2241a59b77"
   },
   "outputs": [
    {
     "data": {
      "text/html": [
       "<div>\n",
       "<style scoped>\n",
       "    .dataframe tbody tr th:only-of-type {\n",
       "        vertical-align: middle;\n",
       "    }\n",
       "\n",
       "    .dataframe tbody tr th {\n",
       "        vertical-align: top;\n",
       "    }\n",
       "\n",
       "    .dataframe thead th {\n",
       "        text-align: right;\n",
       "    }\n",
       "</style>\n",
       "<table border=\"1\" class=\"dataframe\">\n",
       "  <thead>\n",
       "    <tr style=\"text-align: right;\">\n",
       "      <th></th>\n",
       "      <th>PERIMETER</th>\n",
       "      <th>AREA</th>\n",
       "      <th>DEPTH</th>\n",
       "      <th>ATOS_ID</th>\n",
       "      <th>HAB_ID</th>\n",
       "      <th>ACRES</th>\n",
       "      <th>HECTARES</th>\n",
       "      <th>ZONE_CODE</th>\n",
       "      <th>ZONE</th>\n",
       "      <th>Year</th>\n",
       "      <th>POLY_ID</th>\n",
       "      <th>dens_sm</th>\n",
       "      <th>lin_dens</th>\n",
       "      <th>trend5yr</th>\n",
       "      <th>Sect_ID</th>\n",
       "      <th>pupratio</th>\n",
       "      <th>geometry</th>\n",
       "    </tr>\n",
       "  </thead>\n",
       "  <tbody>\n",
       "    <tr>\n",
       "      <th>0</th>\n",
       "      <td>3.698507</td>\n",
       "      <td>0.602352</td>\n",
       "      <td>-30 to -60m</td>\n",
       "      <td>1147</td>\n",
       "      <td>1147o</td>\n",
       "      <td>148.844341</td>\n",
       "      <td>60.235168</td>\n",
       "      <td>o</td>\n",
       "      <td>3</td>\n",
       "      <td>2014</td>\n",
       "      <td>1147o</td>\n",
       "      <td>0.000000</td>\n",
       "      <td>0.272222</td>\n",
       "      <td>0.150294</td>\n",
       "      <td>14</td>\n",
       "      <td>0.00000</td>\n",
       "      <td>POLYGON ((-28037.593 -396876.146, -27690.763 -...</td>\n",
       "    </tr>\n",
       "    <tr>\n",
       "      <th>1</th>\n",
       "      <td>4.985344</td>\n",
       "      <td>0.864146</td>\n",
       "      <td>-30 to -60m</td>\n",
       "      <td>1145</td>\n",
       "      <td>1145o</td>\n",
       "      <td>213.535186</td>\n",
       "      <td>86.414624</td>\n",
       "      <td>o</td>\n",
       "      <td>3</td>\n",
       "      <td>2014</td>\n",
       "      <td>1145o</td>\n",
       "      <td>0.000000</td>\n",
       "      <td>0.399206</td>\n",
       "      <td>0.157021</td>\n",
       "      <td>14</td>\n",
       "      <td>0.00000</td>\n",
       "      <td>POLYGON ((-28810.811 -396342.994, -28690.789 -...</td>\n",
       "    </tr>\n",
       "    <tr>\n",
       "      <th>2</th>\n",
       "      <td>3.297283</td>\n",
       "      <td>0.455185</td>\n",
       "      <td>0 to -30m</td>\n",
       "      <td>1115</td>\n",
       "      <td>1115n</td>\n",
       "      <td>112.478580</td>\n",
       "      <td>45.518466</td>\n",
       "      <td>n</td>\n",
       "      <td>2</td>\n",
       "      <td>2014</td>\n",
       "      <td>1115n</td>\n",
       "      <td>1.416809</td>\n",
       "      <td>1.095238</td>\n",
       "      <td>0.154812</td>\n",
       "      <td>14</td>\n",
       "      <td>0.13115</td>\n",
       "      <td>POLYGON ((-42181.209 -396739.251, -42148.198 -...</td>\n",
       "    </tr>\n",
       "  </tbody>\n",
       "</table>\n",
       "</div>"
      ],
      "text/plain": [
       "   PERIMETER      AREA        DEPTH  ATOS_ID HAB_ID       ACRES   HECTARES  \\\n",
       "0   3.698507  0.602352  -30 to -60m     1147  1147o  148.844341  60.235168   \n",
       "1   4.985344  0.864146  -30 to -60m     1145  1145o  213.535186  86.414624   \n",
       "2   3.297283  0.455185    0 to -30m     1115  1115n  112.478580  45.518466   \n",
       "\n",
       "  ZONE_CODE  ZONE  Year POLY_ID   dens_sm  lin_dens  trend5yr  Sect_ID  \\\n",
       "0         o     3  2014   1147o  0.000000  0.272222  0.150294       14   \n",
       "1         o     3  2014   1145o  0.000000  0.399206  0.157021       14   \n",
       "2         n     2  2014   1115n  1.416809  1.095238  0.154812       14   \n",
       "\n",
       "   pupratio                                           geometry  \n",
       "0   0.00000  POLYGON ((-28037.593 -396876.146, -27690.763 -...  \n",
       "1   0.00000  POLYGON ((-28810.811 -396342.994, -28690.789 -...  \n",
       "2   0.13115  POLYGON ((-42181.209 -396739.251, -42148.198 -...  "
      ]
     },
     "execution_count": 33,
     "metadata": {},
     "output_type": "execute_result"
    }
   ],
   "source": [
    "geodata = gpd.read_file(DATAPATH+'population/Spring2014_SeaOtterCensus/Census_sum_14.dbf')\n",
    "geodata.head(3)"
   ]
  },
  {
   "cell_type": "markdown",
   "metadata": {
    "id": "ys6f1jCzY6iM"
   },
   "source": [
    "These location data are in Geodata-POLYGON format. We convert the data to a Coordinate Reference System format which is widely used by cartographers (also used in Google Maps). For each habitat, there are a series of points in the **geometry** attribute which form a polygon to depict the actual habitat. For simplicity, we consider the *centroid* of these series of points.\n",
    "\n",
    "We perform the following operation to re-format the data to CRS, get the centroid and write it to a file, as re-formatting takes some time to run.\n",
    "```python\n",
    "coords = {hab:geodata[geodata.HAB_ID == hab].geometry.to_crs(epsg=4326).centroid for hab in otter_groups_habitat.HAB_ID.values}\n",
    "pickle.dump(coords,open(DATAPATH+'population/crs_coords_dict.pkl','wb'))\n",
    "```\n",
    "Then we read the data and create a dataframe, which contains latitude, longitude and otter count for each habitat."
   ]
  },
  {
   "cell_type": "code",
   "execution_count": 34,
   "metadata": {
    "id": "0BtbHfngY6iM"
   },
   "outputs": [],
   "source": [
    "def create_habitat_coordinate_df(coords,otter_groups_habitat):\n",
    "\n",
    "    lats,longs = [], []\n",
    "    habitats = []\n",
    "    for h,c in coords.items():\n",
    "        habitats.append(h)\n",
    "        try:\n",
    "            lats.append(c.y.values.item())\n",
    "            longs.append(c.x.values.item())\n",
    "        except ValueError:\n",
    "            lats.append(None)\n",
    "            longs.append(None)\n",
    "    \n",
    "    habitat_coordinates = pd.DataFrame({\n",
    "                    'HAB_ID': habitats,\n",
    "                    'Latitude': lats,\n",
    "                    'Longitude': longs,\n",
    "                    'Otter_Count': otter_groups_habitat.total_otters\n",
    "            })\n",
    "    \n",
    "    return habitat_coordinates"
   ]
  },
  {
   "cell_type": "code",
   "execution_count": 35,
   "metadata": {
    "id": "JZETQ6Y8Y6iM",
    "outputId": "14ae2e9a-e563-4740-e37f-ee76a09e2241"
   },
   "outputs": [
    {
     "data": {
      "text/html": [
       "<div>\n",
       "<style scoped>\n",
       "    .dataframe tbody tr th:only-of-type {\n",
       "        vertical-align: middle;\n",
       "    }\n",
       "\n",
       "    .dataframe tbody tr th {\n",
       "        vertical-align: top;\n",
       "    }\n",
       "\n",
       "    .dataframe thead th {\n",
       "        text-align: right;\n",
       "    }\n",
       "</style>\n",
       "<table border=\"1\" class=\"dataframe\">\n",
       "  <thead>\n",
       "    <tr style=\"text-align: right;\">\n",
       "      <th></th>\n",
       "      <th>HAB_ID</th>\n",
       "      <th>Latitude</th>\n",
       "      <th>Longitude</th>\n",
       "      <th>Otter_Count</th>\n",
       "    </tr>\n",
       "  </thead>\n",
       "  <tbody>\n",
       "    <tr>\n",
       "      <th>0</th>\n",
       "      <td>1000n</td>\n",
       "      <td>34.808753</td>\n",
       "      <td>-120.634792</td>\n",
       "      <td>0</td>\n",
       "    </tr>\n",
       "    <tr>\n",
       "      <th>1</th>\n",
       "      <td>1000o</td>\n",
       "      <td>34.807524</td>\n",
       "      <td>-120.681441</td>\n",
       "      <td>0</td>\n",
       "    </tr>\n",
       "    <tr>\n",
       "      <th>2</th>\n",
       "      <td>1001n</td>\n",
       "      <td>34.805066</td>\n",
       "      <td>-120.635534</td>\n",
       "      <td>0</td>\n",
       "    </tr>\n",
       "    <tr>\n",
       "      <th>3</th>\n",
       "      <td>1001o</td>\n",
       "      <td>34.805171</td>\n",
       "      <td>-120.681579</td>\n",
       "      <td>0</td>\n",
       "    </tr>\n",
       "    <tr>\n",
       "      <th>4</th>\n",
       "      <td>1002n</td>\n",
       "      <td>34.801391</td>\n",
       "      <td>-120.636842</td>\n",
       "      <td>0</td>\n",
       "    </tr>\n",
       "  </tbody>\n",
       "</table>\n",
       "</div>"
      ],
      "text/plain": [
       "  HAB_ID   Latitude   Longitude  Otter_Count\n",
       "0  1000n  34.808753 -120.634792            0\n",
       "1  1000o  34.807524 -120.681441            0\n",
       "2  1001n  34.805066 -120.635534            0\n",
       "3  1001o  34.805171 -120.681579            0\n",
       "4  1002n  34.801391 -120.636842            0"
      ]
     },
     "execution_count": 35,
     "metadata": {},
     "output_type": "execute_result"
    }
   ],
   "source": [
    "coords = pickle.load(open(DATAPATH+'population/crs_coords_dict.pkl','rb'))\n",
    "habitat_coordinates = create_habitat_coordinate_df(coords,otter_groups_habitat)\n",
    "habitat_coordinates.head()"
   ]
  },
  {
   "cell_type": "markdown",
   "metadata": {
    "id": "EC55MV0_Y6iN"
   },
   "source": [
    "While the census data had 2285 habitats surveyed from 1985-2014, the shapefile that we are using only contains habitats that were surveyed in Spring 2014. Hence there are only 1975 habitats. Therefore, there should be some NaNs in the dataframe, so we simply drop them."
   ]
  },
  {
   "cell_type": "code",
   "execution_count": 36,
   "metadata": {
    "id": "Nq6NV94SY6iN",
    "outputId": "1ce7707d-c19c-4d09-ae25-da62f4b601bc"
   },
   "outputs": [
    {
     "name": "stdout",
     "output_type": "stream",
     "text": [
      "<class 'pandas.core.frame.DataFrame'>\n",
      "RangeIndex: 2285 entries, 0 to 2284\n",
      "Data columns (total 4 columns):\n",
      " #   Column       Non-Null Count  Dtype  \n",
      "---  ------       --------------  -----  \n",
      " 0   HAB_ID       2285 non-null   object \n",
      " 1   Latitude     1975 non-null   float64\n",
      " 2   Longitude    1975 non-null   float64\n",
      " 3   Otter_Count  2285 non-null   int64  \n",
      "dtypes: float64(2), int64(1), object(1)\n",
      "memory usage: 71.5+ KB\n"
     ]
    }
   ],
   "source": [
    "habitat_coordinates.info()"
   ]
  },
  {
   "cell_type": "code",
   "execution_count": 37,
   "metadata": {
    "id": "HaSqzINOY6iN",
    "outputId": "ba9336d0-f966-4f3c-b2da-1a875b842e0f"
   },
   "outputs": [
    {
     "name": "stdout",
     "output_type": "stream",
     "text": [
      "<class 'pandas.core.frame.DataFrame'>\n",
      "Int64Index: 1975 entries, 0 to 2282\n",
      "Data columns (total 4 columns):\n",
      " #   Column       Non-Null Count  Dtype  \n",
      "---  ------       --------------  -----  \n",
      " 0   HAB_ID       1975 non-null   object \n",
      " 1   Latitude     1975 non-null   float64\n",
      " 2   Longitude    1975 non-null   float64\n",
      " 3   Otter_Count  1975 non-null   int64  \n",
      "dtypes: float64(2), int64(1), object(1)\n",
      "memory usage: 77.1+ KB\n"
     ]
    }
   ],
   "source": [
    "habitat_coordinates.dropna(inplace=True)\n",
    "habitat_coordinates.info()"
   ]
  },
  {
   "cell_type": "code",
   "execution_count": 38,
   "metadata": {
    "id": "2fGTF2aqY6iN"
   },
   "outputs": [],
   "source": [
    "def plot_map(habitat_data,base=None,color='blue'):\n",
    "    '''\n",
    "    Given a dataframe with habitat information, Latitude, Longitude\n",
    "    and Otter Count, return a map depicting those points.\n",
    "    \n",
    "    If base is provided, then it added markers to the base map. If base\n",
    "    is not provided, we set the base location to a location in California.\n",
    "    \n",
    "    color marks the color of markers on map\n",
    "    \n",
    "    returns a map\n",
    "    '''\n",
    "        \n",
    "    if not base:\n",
    "        start_loc = [36.18907,-120.765664]\n",
    "        base = folium.Map(location=start_loc,width='50%',height='70%',zoom_start=7,min_zoom=5,max_zoom=14)\n",
    "\n",
    "    for hab_data_rows in habitat_data.iterrows():\n",
    "        hab_data = hab_data_rows[1]\n",
    "        popup_text = \"Habitat:{}\\nOtterCount:{}\".format(hab_data.HAB_ID,hab_data.Otter_Count)\n",
    "        folium.Marker(\n",
    "            location=[hab_data.Latitude, hab_data.Longitude], \n",
    "            popup=popup_text, \n",
    "            icon=folium.Icon(color=color),\n",
    "            tooltip=hab_data.HAB_ID\n",
    "        ).add_to(base)\n",
    "\n",
    "    return base"
   ]
  },
  {
   "cell_type": "markdown",
   "metadata": {
    "id": "8HKq-308Y6iN"
   },
   "source": [
    "We mark the habitats with more than 50 otters (in blue) and habitats with no otters (in orange) on a map of South-Western California."
   ]
  },
  {
   "cell_type": "code",
   "execution_count": 39,
   "metadata": {
    "id": "O_kniHrFY6iO"
   },
   "outputs": [],
   "source": [
    "mask1 = (habitat_coordinates.Otter_Count >= 50)\n",
    "sel_hab_coords = habitat_coordinates[mask1]\n",
    "base_map = plot_map(sel_hab_coords,color='blue')"
   ]
  },
  {
   "cell_type": "code",
   "execution_count": 40,
   "metadata": {
    "id": "uWIPX8mxY6iO"
   },
   "outputs": [],
   "source": [
    "mask2 = (habitat_coordinates.Otter_Count == 0)\n",
    "sel_hab_coords = habitat_coordinates[mask2]\n",
    "base_map = plot_map(sel_hab_coords,base=base_map,color='orange')"
   ]
  },
  {
   "cell_type": "code",
   "execution_count": 41,
   "metadata": {
    "id": "U0krSgi475II"
   },
   "outputs": [],
   "source": [
    "base_map.save('maps/habitat_map.html')"
   ]
  },
  {
   "cell_type": "markdown",
   "metadata": {
    "id": "lzjpR-2T75II"
   },
   "source": [
    "The map takes a lot of space and makes the interface really slow. Therefore we save the map in a html format in the current directory. <a href=\"maps/habitat_map.html\" target=\"_blank\">Click here</a> to open the map in a new window. "
   ]
  },
  {
   "cell_type": "markdown",
   "metadata": {
    "id": "mfQ-KnL0Y6iO"
   },
   "source": [
    "From the above map, we observe some interesting trends and points. \n",
    "\n",
    "1. Our previous analysis on **DEPTH**, where we concluded that maybe shallower regions are more habitable for sea otters, is validated here. We see more blue points (habitats with more than 50 otters) nearer to the shore than orange points (habitats with no sea otters).\n",
    "2. Habitat `321b` lies in *Monterey bay national marine sanctuary*. The habitable environment in the sanctuary might contribute to the significant increase in otter count over years.\n",
    "3. There are group of habitats near *Santa Cruz* coastline with high otter count. We can have a look at that area."
   ]
  },
  {
   "cell_type": "markdown",
   "metadata": {
    "id": "VS3HMZbBY6iO"
   },
   "source": [
    "Now, lets analyse the group of habitats near Santa Cruz coastline. On manual inspection, we find the **HAB_ID**s of these habitats to be from *256n to 278n*. We retrieve the otter count data of these habitats. As these habitats are very close to each other, we consider these groups to be one and look at the population trend of this group as a whole."
   ]
  },
  {
   "cell_type": "code",
   "execution_count": 42,
   "metadata": {
    "id": "u6WqfAMiY6iO"
   },
   "outputs": [],
   "source": [
    "habs_consider = [str(i)+'n' for i in range(256,279)]\n",
    "mask = [census.HAB_ID == hab for hab in habs_consider]\n",
    "mask = [any(m) for m in zip(*mask)]"
   ]
  },
  {
   "cell_type": "code",
   "execution_count": 43,
   "metadata": {
    "id": "wx369vDMY6iO",
    "outputId": "63299278-17a8-4969-a662-dee94b2e614a"
   },
   "outputs": [
    {
     "data": {
      "text/plain": [
       "array([[<AxesSubplot:title={'center':'total_otters'}>]], dtype=object)"
      ]
     },
     "execution_count": 43,
     "metadata": {},
     "output_type": "execute_result"
    },
    {
     "data": {
      "image/png": "[encoded data removed]",
      "text/plain": [
       "<Figure size 432x288 with 1 Axes>"
      ]
     },
     "metadata": {
      "needs_background": "light"
     },
     "output_type": "display_data"
    }
   ],
   "source": [
    "census[mask].groupby('HAB_ID').total_otters.sum().reset_index().hist()"
   ]
  },
  {
   "cell_type": "markdown",
   "metadata": {
    "id": "AbEpCbBeY6iP"
   },
   "source": [
    "None of these habitats, alone, have more than 200 otters from 1984-2014. In fact, only 1 habitat has more than 100. To get a better understanding of the growth trend of these habitats as a group, we compare the group with habitats having more than 200 otters."
   ]
  },
  {
   "cell_type": "code",
   "execution_count": 44,
   "metadata": {
    "id": "13w7PSISY6iP"
   },
   "outputs": [],
   "source": [
    "otter_groups_habitat = pd.DataFrame(hab_groups.total_otters.sum()).reset_index()\n",
    "considered_habs = list(otter_groups_habitat[otter_groups_habitat.total_otters >= 200].HAB_ID)\n",
    "\n",
    "plot_data = pd.DataFrame(columns=['HAB_ID','Year','total_otters'])\n",
    "for hab in considered_habs:\n",
    "    new_hab = hab_groups.get_group(hab)[['HAB_ID','Year','total_otters']]\n",
    "    plot_data = plot_data.append(new_hab)\n",
    "\n",
    "\n",
    "santa_cruz_grp = census[mask].groupby(['Year']).total_otters.sum().reset_index()\n",
    "santa_cruz_grp['HAB_ID'] = ['SC_GRP']*len(santa_cruz_grp)\n",
    "\n",
    "\n",
    "plot_data = plot_data.append(santa_cruz_grp)"
   ]
  },
  {
   "cell_type": "code",
   "execution_count": 45,
   "metadata": {
    "id": "j1yFjSXMY6iP",
    "outputId": "9c309cc6-d57b-46aa-e2f9-67a88e058450"
   },
   "outputs": [
    {
     "data": {
      "text/html": [
       "\n",
       "<div id=\"altair-viz-c7977707c55a40a2bdf8cc295565b4e9\"></div>\n",
       "<script type=\"text/javascript\">\n",
       "  (function(spec, embedOpt){\n",
       "    let outputDiv = document.currentScript.previousElementSibling;\n",
       "    if (outputDiv.id !== \"altair-viz-c7977707c55a40a2bdf8cc295565b4e9\") {\n",
       "      outputDiv = document.getElementById(\"altair-viz-c7977707c55a40a2bdf8cc295565b4e9\");\n",
       "    }\n",
       "    const paths = {\n",
       "      \"vega\": \"https://cdn.jsdelivr.net/npm//vega@5?noext\",\n",
       "      \"vega-lib\": \"https://cdn.jsdelivr.net/npm//vega-lib?noext\",\n",
       "      \"vega-lite\": \"https://cdn.jsdelivr.net/npm//vega-lite@4.8.1?noext\",\n",
       "      \"vega-embed\": \"https://cdn.jsdelivr.net/npm//vega-embed@6?noext\",\n",
       "    };\n",
       "\n",
       "    function loadScript(lib) {\n",
       "      return new Promise(function(resolve, reject) {\n",
       "        var s = document.createElement('script');\n",
       "        s.src = paths[lib];\n",
       "        s.async = true;\n",
       "        s.onload = () => resolve(paths[lib]);\n",
       "        s.onerror = () => reject(`Error loading script: ${paths[lib]}`);\n",
       "        document.getElementsByTagName(\"head\")[0].appendChild(s);\n",
       "      });\n",
       "    }\n",
       "\n",
       "    function showError(err) {\n",
       "      outputDiv.innerHTML = `<div class=\"error\" style=\"color:red;\">${err}</div>`;\n",
       "      throw err;\n",
       "    }\n",
       "\n",
       "    function displayChart(vegaEmbed) {\n",
       "      vegaEmbed(outputDiv, spec, embedOpt)\n",
       "        .catch(err => showError(`Javascript Error: ${err.message}<br>This usually means there's a typo in your chart specification. See the javascript console for the full traceback.`));\n",
       "    }\n",
       "\n",
       "    if(typeof define === \"function\" && define.amd) {\n",
       "      requirejs.config({paths});\n",
       "      require([\"vega-embed\"], displayChart, err => showError(`Error loading script: ${err.message}`));\n",
       "    } else if (typeof vegaEmbed === \"function\") {\n",
       "      displayChart(vegaEmbed);\n",
       "    } else {\n",
       "      loadScript(\"vega\")\n",
       "        .then(() => loadScript(\"vega-lite\"))\n",
       "        .then(() => loadScript(\"vega-embed\"))\n",
       "        .catch(showError)\n",
       "        .then(() => displayChart(vegaEmbed));\n",
       "    }\n",
       "  })({\"config\": {\"view\": {\"continuousWidth\": 400, \"continuousHeight\": 300}, \"axis\": {\"grid\": false, \"labelFontSize\": 12, \"titleFontSize\": 12}, \"legend\": {\"labelFontSize\": 12, \"titleFontSize\": 12}, \"title\": {\"fontSize\": 13}}, \"data\": {\"name\": \"data-1d4c59cac94dda44822947e794fce979\"}, \"mark\": \"line\", \"encoding\": {\"color\": {\"type\": \"nominal\", \"field\": \"HAB_ID\"}, \"tooltip\": {\"type\": \"nominal\", \"field\": \"HAB_ID\"}, \"x\": {\"type\": \"quantitative\", \"field\": \"Year\"}, \"y\": {\"type\": \"quantitative\", \"field\": \"total_otters\"}}, \"height\": 400, \"title\": {\"text\": [\"Population growth trend of otters in habitats with more than 200 sea otters and Santa Cruz group\"]}, \"width\": 600, \"$schema\": \"https://vega.github.io/schema/vega-lite/v4.8.1.json\", \"datasets\": {\"data-1d4c59cac94dda44822947e794fce979\": [{\"HAB_ID\": \"321b\", \"Year\": 1985.0, \"total_otters\": 0}, {\"HAB_ID\": \"321b\", \"Year\": 1986.0, \"total_otters\": 0}, {\"HAB_ID\": \"321b\", \"Year\": 1987.0, \"total_otters\": 0}, {\"HAB_ID\": \"321b\", \"Year\": 1988.0, \"total_otters\": 0}, {\"HAB_ID\": \"321b\", \"Year\": 1989.0, \"total_otters\": 0}, {\"HAB_ID\": \"321b\", \"Year\": 1990.0, \"total_otters\": 0}, {\"HAB_ID\": \"321b\", \"Year\": 1991.0, \"total_otters\": 0}, {\"HAB_ID\": \"321b\", \"Year\": 1992.0, \"total_otters\": 0}, {\"HAB_ID\": \"321b\", \"Year\": 1993.0, \"total_otters\": 0}, {\"HAB_ID\": \"321b\", \"Year\": 1994.0, \"total_otters\": 0}, {\"HAB_ID\": \"321b\", \"Year\": 1995.0, \"total_otters\": 7}, {\"HAB_ID\": \"321b\", \"Year\": 1996.0, \"total_otters\": 15}, {\"HAB_ID\": \"321b\", \"Year\": 1997.0, \"total_otters\": 27}, {\"HAB_ID\": \"321b\", \"Year\": 1998.0, \"total_otters\": 36}, {\"HAB_ID\": \"321b\", \"Year\": 1999.0, \"total_otters\": 34}, {\"HAB_ID\": \"321b\", \"Year\": 2000.0, \"total_otters\": 40}, {\"HAB_ID\": \"321b\", \"Year\": 2001.0, \"total_otters\": 36}, {\"HAB_ID\": \"321b\", \"Year\": 2002.0, \"total_otters\": 33}, {\"HAB_ID\": \"321b\", \"Year\": 2003.0, \"total_otters\": 17}, {\"HAB_ID\": \"321b\", \"Year\": 2004.0, \"total_otters\": 10}, {\"HAB_ID\": \"321b\", \"Year\": 2005.0, \"total_otters\": 21}, {\"HAB_ID\": \"321b\", \"Year\": 2006.0, \"total_otters\": 42}, {\"HAB_ID\": \"321b\", \"Year\": 2007.0, \"total_otters\": 61}, {\"HAB_ID\": \"321b\", \"Year\": 2008.0, \"total_otters\": 60}, {\"HAB_ID\": \"321b\", \"Year\": 2009.0, \"total_otters\": 58}, {\"HAB_ID\": \"321b\", \"Year\": 2010.0, \"total_otters\": 52}, {\"HAB_ID\": \"321b\", \"Year\": 2012.0, \"total_otters\": 71}, {\"HAB_ID\": \"321b\", \"Year\": 2013.0, \"total_otters\": 91}, {\"HAB_ID\": \"321b\", \"Year\": 2014.0, \"total_otters\": 119}, {\"HAB_ID\": \"396n\", \"Year\": 1985.0, \"total_otters\": 4}, {\"HAB_ID\": \"396n\", \"Year\": 1986.0, \"total_otters\": 4}, {\"HAB_ID\": \"396n\", \"Year\": 1987.0, \"total_otters\": 4}, {\"HAB_ID\": \"396n\", \"Year\": 1988.0, \"total_otters\": 5}, {\"HAB_ID\": \"396n\", \"Year\": 1989.0, \"total_otters\": 5}, {\"HAB_ID\": \"396n\", \"Year\": 1990.0, \"total_otters\": 4}, {\"HAB_ID\": \"396n\", \"Year\": 1991.0, \"total_otters\": 5}, {\"HAB_ID\": \"396n\", \"Year\": 1992.0, \"total_otters\": 6}, {\"HAB_ID\": \"396n\", \"Year\": 1993.0, \"total_otters\": 9}, {\"HAB_ID\": \"396n\", \"Year\": 1994.0, \"total_otters\": 10}, {\"HAB_ID\": \"396n\", \"Year\": 1995.0, \"total_otters\": 9}, {\"HAB_ID\": \"396n\", \"Year\": 1996.0, \"total_otters\": 9}, {\"HAB_ID\": \"396n\", \"Year\": 1997.0, \"total_otters\": 9}, {\"HAB_ID\": \"396n\", \"Year\": 1998.0, \"total_otters\": 9}, {\"HAB_ID\": \"396n\", \"Year\": 1999.0, \"total_otters\": 6}, {\"HAB_ID\": \"396n\", \"Year\": 2000.0, \"total_otters\": 6}, {\"HAB_ID\": \"396n\", \"Year\": 2001.0, \"total_otters\": 7}, {\"HAB_ID\": \"396n\", \"Year\": 2002.0, \"total_otters\": 8}, {\"HAB_ID\": \"396n\", \"Year\": 2003.0, \"total_otters\": 9}, {\"HAB_ID\": \"396n\", \"Year\": 2004.0, \"total_otters\": 10}, {\"HAB_ID\": \"396n\", \"Year\": 2005.0, \"total_otters\": 13}, {\"HAB_ID\": \"396n\", \"Year\": 2006.0, \"total_otters\": 11}, {\"HAB_ID\": \"396n\", \"Year\": 2007.0, \"total_otters\": 9}, {\"HAB_ID\": \"396n\", \"Year\": 2008.0, \"total_otters\": 9}, {\"HAB_ID\": \"396n\", \"Year\": 2009.0, \"total_otters\": 11}, {\"HAB_ID\": \"396n\", \"Year\": 2010.0, \"total_otters\": 11}, {\"HAB_ID\": \"396n\", \"Year\": 2012.0, \"total_otters\": 9}, {\"HAB_ID\": \"396n\", \"Year\": 2013.0, \"total_otters\": 11}, {\"HAB_ID\": \"396n\", \"Year\": 2014.0, \"total_otters\": 14}, {\"HAB_ID\": \"404n\", \"Year\": 1985.0, \"total_otters\": 5}, {\"HAB_ID\": \"404n\", \"Year\": 1986.0, \"total_otters\": 6}, {\"HAB_ID\": \"404n\", \"Year\": 1987.0, \"total_otters\": 8}, {\"HAB_ID\": \"404n\", \"Year\": 1988.0, \"total_otters\": 7}, {\"HAB_ID\": \"404n\", \"Year\": 1989.0, \"total_otters\": 7}, {\"HAB_ID\": \"404n\", \"Year\": 1990.0, \"total_otters\": 6}, {\"HAB_ID\": \"404n\", \"Year\": 1991.0, \"total_otters\": 6}, {\"HAB_ID\": \"404n\", \"Year\": 1992.0, \"total_otters\": 6}, {\"HAB_ID\": \"404n\", \"Year\": 1993.0, \"total_otters\": 9}, {\"HAB_ID\": \"404n\", \"Year\": 1994.0, \"total_otters\": 9}, {\"HAB_ID\": \"404n\", \"Year\": 1995.0, \"total_otters\": 8}, {\"HAB_ID\": \"404n\", \"Year\": 1996.0, \"total_otters\": 7}, {\"HAB_ID\": \"404n\", \"Year\": 1997.0, \"total_otters\": 8}, {\"HAB_ID\": \"404n\", \"Year\": 1998.0, \"total_otters\": 7}, {\"HAB_ID\": \"404n\", \"Year\": 1999.0, \"total_otters\": 6}, {\"HAB_ID\": \"404n\", \"Year\": 2000.0, \"total_otters\": 5}, {\"HAB_ID\": \"404n\", \"Year\": 2001.0, \"total_otters\": 5}, {\"HAB_ID\": \"404n\", \"Year\": 2002.0, \"total_otters\": 7}, {\"HAB_ID\": \"404n\", \"Year\": 2003.0, \"total_otters\": 8}, {\"HAB_ID\": \"404n\", \"Year\": 2004.0, \"total_otters\": 8}, {\"HAB_ID\": \"404n\", \"Year\": 2005.0, \"total_otters\": 9}, {\"HAB_ID\": \"404n\", \"Year\": 2006.0, \"total_otters\": 8}, {\"HAB_ID\": \"404n\", \"Year\": 2007.0, \"total_otters\": 8}, {\"HAB_ID\": \"404n\", \"Year\": 2008.0, \"total_otters\": 8}, {\"HAB_ID\": \"404n\", \"Year\": 2009.0, \"total_otters\": 10}, {\"HAB_ID\": \"404n\", \"Year\": 2010.0, \"total_otters\": 10}, {\"HAB_ID\": \"404n\", \"Year\": 2012.0, \"total_otters\": 10}, {\"HAB_ID\": \"404n\", \"Year\": 2013.0, \"total_otters\": 10}, {\"HAB_ID\": \"404n\", \"Year\": 2014.0, \"total_otters\": 10}, {\"HAB_ID\": \"406n\", \"Year\": 1985.0, \"total_otters\": 6}, {\"HAB_ID\": \"406n\", \"Year\": 1986.0, \"total_otters\": 6}, {\"HAB_ID\": \"406n\", \"Year\": 1987.0, \"total_otters\": 8}, {\"HAB_ID\": \"406n\", \"Year\": 1988.0, \"total_otters\": 7}, {\"HAB_ID\": \"406n\", \"Year\": 1989.0, \"total_otters\": 7}, {\"HAB_ID\": \"406n\", \"Year\": 1990.0, \"total_otters\": 6}, {\"HAB_ID\": \"406n\", \"Year\": 1991.0, \"total_otters\": 6}, {\"HAB_ID\": \"406n\", \"Year\": 1992.0, \"total_otters\": 8}, {\"HAB_ID\": \"406n\", \"Year\": 1993.0, \"total_otters\": 9}, {\"HAB_ID\": \"406n\", \"Year\": 1994.0, \"total_otters\": 9}, {\"HAB_ID\": \"406n\", \"Year\": 1995.0, \"total_otters\": 9}, {\"HAB_ID\": \"406n\", \"Year\": 1996.0, \"total_otters\": 8}, {\"HAB_ID\": \"406n\", \"Year\": 1997.0, \"total_otters\": 9}, {\"HAB_ID\": \"406n\", \"Year\": 1998.0, \"total_otters\": 9}, {\"HAB_ID\": \"406n\", \"Year\": 1999.0, \"total_otters\": 6}, {\"HAB_ID\": \"406n\", \"Year\": 2000.0, \"total_otters\": 5}, {\"HAB_ID\": \"406n\", \"Year\": 2001.0, \"total_otters\": 6}, {\"HAB_ID\": \"406n\", \"Year\": 2002.0, \"total_otters\": 9}, {\"HAB_ID\": \"406n\", \"Year\": 2003.0, \"total_otters\": 9}, {\"HAB_ID\": \"406n\", \"Year\": 2004.0, \"total_otters\": 8}, {\"HAB_ID\": \"406n\", \"Year\": 2005.0, \"total_otters\": 9}, {\"HAB_ID\": \"406n\", \"Year\": 2006.0, \"total_otters\": 9}, {\"HAB_ID\": \"406n\", \"Year\": 2007.0, \"total_otters\": 11}, {\"HAB_ID\": \"406n\", \"Year\": 2008.0, \"total_otters\": 10}, {\"HAB_ID\": \"406n\", \"Year\": 2009.0, \"total_otters\": 10}, {\"HAB_ID\": \"406n\", \"Year\": 2010.0, \"total_otters\": 10}, {\"HAB_ID\": \"406n\", \"Year\": 2012.0, \"total_otters\": 11}, {\"HAB_ID\": \"406n\", \"Year\": 2013.0, \"total_otters\": 11}, {\"HAB_ID\": \"406n\", \"Year\": 2014.0, \"total_otters\": 11}, {\"HAB_ID\": \"407n\", \"Year\": 1985.0, \"total_otters\": 5}, {\"HAB_ID\": \"407n\", \"Year\": 1986.0, \"total_otters\": 5}, {\"HAB_ID\": \"407n\", \"Year\": 1987.0, \"total_otters\": 6}, {\"HAB_ID\": \"407n\", \"Year\": 1988.0, \"total_otters\": 6}, {\"HAB_ID\": \"407n\", \"Year\": 1989.0, \"total_otters\": 6}, {\"HAB_ID\": \"407n\", \"Year\": 1990.0, \"total_otters\": 5}, {\"HAB_ID\": \"407n\", \"Year\": 1991.0, \"total_otters\": 5}, {\"HAB_ID\": \"407n\", \"Year\": 1992.0, \"total_otters\": 6}, {\"HAB_ID\": \"407n\", \"Year\": 1993.0, \"total_otters\": 8}, {\"HAB_ID\": \"407n\", \"Year\": 1994.0, \"total_otters\": 8}, {\"HAB_ID\": \"407n\", \"Year\": 1995.0, \"total_otters\": 6}, {\"HAB_ID\": \"407n\", \"Year\": 1996.0, \"total_otters\": 7}, {\"HAB_ID\": \"407n\", \"Year\": 1997.0, \"total_otters\": 8}, {\"HAB_ID\": \"407n\", \"Year\": 1998.0, \"total_otters\": 8}, {\"HAB_ID\": \"407n\", \"Year\": 1999.0, \"total_otters\": 5}, {\"HAB_ID\": \"407n\", \"Year\": 2000.0, \"total_otters\": 4}, {\"HAB_ID\": \"407n\", \"Year\": 2001.0, \"total_otters\": 5}, {\"HAB_ID\": \"407n\", \"Year\": 2002.0, \"total_otters\": 7}, {\"HAB_ID\": \"407n\", \"Year\": 2003.0, \"total_otters\": 7}, {\"HAB_ID\": \"407n\", \"Year\": 2004.0, \"total_otters\": 7}, {\"HAB_ID\": \"407n\", \"Year\": 2005.0, \"total_otters\": 7}, {\"HAB_ID\": \"407n\", \"Year\": 2006.0, \"total_otters\": 8}, {\"HAB_ID\": \"407n\", \"Year\": 2007.0, \"total_otters\": 10}, {\"HAB_ID\": \"407n\", \"Year\": 2008.0, \"total_otters\": 8}, {\"HAB_ID\": \"407n\", \"Year\": 2009.0, \"total_otters\": 9}, {\"HAB_ID\": \"407n\", \"Year\": 2010.0, \"total_otters\": 9}, {\"HAB_ID\": \"407n\", \"Year\": 2012.0, \"total_otters\": 10}, {\"HAB_ID\": \"407n\", \"Year\": 2013.0, \"total_otters\": 8}, {\"HAB_ID\": \"407n\", \"Year\": 2014.0, \"total_otters\": 9}, {\"HAB_ID\": \"408n\", \"Year\": 1985.0, \"total_otters\": 5}, {\"HAB_ID\": \"408n\", \"Year\": 1986.0, \"total_otters\": 5}, {\"HAB_ID\": \"408n\", \"Year\": 1987.0, \"total_otters\": 7}, {\"HAB_ID\": \"408n\", \"Year\": 1988.0, \"total_otters\": 7}, {\"HAB_ID\": \"408n\", \"Year\": 1989.0, \"total_otters\": 7}, {\"HAB_ID\": \"408n\", \"Year\": 1990.0, \"total_otters\": 6}, {\"HAB_ID\": \"408n\", \"Year\": 1991.0, \"total_otters\": 5}, {\"HAB_ID\": \"408n\", \"Year\": 1992.0, \"total_otters\": 7}, {\"HAB_ID\": \"408n\", \"Year\": 1993.0, \"total_otters\": 8}, {\"HAB_ID\": \"408n\", \"Year\": 1994.0, \"total_otters\": 8}, {\"HAB_ID\": \"408n\", \"Year\": 1995.0, \"total_otters\": 7}, {\"HAB_ID\": \"408n\", \"Year\": 1996.0, \"total_otters\": 7}, {\"HAB_ID\": \"408n\", \"Year\": 1997.0, \"total_otters\": 8}, {\"HAB_ID\": \"408n\", \"Year\": 1998.0, \"total_otters\": 8}, {\"HAB_ID\": \"408n\", \"Year\": 1999.0, \"total_otters\": 6}, {\"HAB_ID\": \"408n\", \"Year\": 2000.0, \"total_otters\": 5}, {\"HAB_ID\": \"408n\", \"Year\": 2001.0, \"total_otters\": 5}, {\"HAB_ID\": \"408n\", \"Year\": 2002.0, \"total_otters\": 7}, {\"HAB_ID\": \"408n\", \"Year\": 2003.0, \"total_otters\": 7}, {\"HAB_ID\": \"408n\", \"Year\": 2004.0, \"total_otters\": 7}, {\"HAB_ID\": \"408n\", \"Year\": 2005.0, \"total_otters\": 8}, {\"HAB_ID\": \"408n\", \"Year\": 2006.0, \"total_otters\": 10}, {\"HAB_ID\": \"408n\", \"Year\": 2007.0, \"total_otters\": 10}, {\"HAB_ID\": \"408n\", \"Year\": 2008.0, \"total_otters\": 9}, {\"HAB_ID\": \"408n\", \"Year\": 2009.0, \"total_otters\": 9}, {\"HAB_ID\": \"408n\", \"Year\": 2010.0, \"total_otters\": 9}, {\"HAB_ID\": \"408n\", \"Year\": 2012.0, \"total_otters\": 10}, {\"HAB_ID\": \"408n\", \"Year\": 2013.0, \"total_otters\": 8}, {\"HAB_ID\": \"408n\", \"Year\": 2014.0, \"total_otters\": 9}, {\"HAB_ID\": \"418n\", \"Year\": 1985.0, \"total_otters\": 8}, {\"HAB_ID\": \"418n\", \"Year\": 1986.0, \"total_otters\": 8}, {\"HAB_ID\": \"418n\", \"Year\": 1987.0, \"total_otters\": 10}, {\"HAB_ID\": \"418n\", \"Year\": 1988.0, \"total_otters\": 10}, {\"HAB_ID\": \"418n\", \"Year\": 1989.0, \"total_otters\": 12}, {\"HAB_ID\": \"418n\", \"Year\": 1990.0, \"total_otters\": 10}, {\"HAB_ID\": \"418n\", \"Year\": 1991.0, \"total_otters\": 10}, {\"HAB_ID\": \"418n\", \"Year\": 1992.0, \"total_otters\": 11}, {\"HAB_ID\": \"418n\", \"Year\": 1993.0, \"total_otters\": 11}, {\"HAB_ID\": \"418n\", \"Year\": 1994.0, \"total_otters\": 12}, {\"HAB_ID\": \"418n\", \"Year\": 1995.0, \"total_otters\": 11}, {\"HAB_ID\": \"418n\", \"Year\": 1996.0, \"total_otters\": 11}, {\"HAB_ID\": \"418n\", \"Year\": 1997.0, \"total_otters\": 11}, {\"HAB_ID\": \"418n\", \"Year\": 1998.0, \"total_otters\": 9}, {\"HAB_ID\": \"418n\", \"Year\": 1999.0, \"total_otters\": 9}, {\"HAB_ID\": \"418n\", \"Year\": 2000.0, \"total_otters\": 8}, {\"HAB_ID\": \"418n\", \"Year\": 2001.0, \"total_otters\": 9}, {\"HAB_ID\": \"418n\", \"Year\": 2002.0, \"total_otters\": 9}, {\"HAB_ID\": \"418n\", \"Year\": 2003.0, \"total_otters\": 9}, {\"HAB_ID\": \"418n\", \"Year\": 2004.0, \"total_otters\": 8}, {\"HAB_ID\": \"418n\", \"Year\": 2005.0, \"total_otters\": 10}, {\"HAB_ID\": \"418n\", \"Year\": 2006.0, \"total_otters\": 13}, {\"HAB_ID\": \"418n\", \"Year\": 2007.0, \"total_otters\": 14}, {\"HAB_ID\": \"418n\", \"Year\": 2008.0, \"total_otters\": 12}, {\"HAB_ID\": \"418n\", \"Year\": 2009.0, \"total_otters\": 11}, {\"HAB_ID\": \"418n\", \"Year\": 2010.0, \"total_otters\": 11}, {\"HAB_ID\": \"418n\", \"Year\": 2012.0, \"total_otters\": 11}, {\"HAB_ID\": \"418n\", \"Year\": 2013.0, \"total_otters\": 11}, {\"HAB_ID\": \"418n\", \"Year\": 2014.0, \"total_otters\": 13}, {\"HAB_ID\": \"420n\", \"Year\": 1985.0, \"total_otters\": 5}, {\"HAB_ID\": \"420n\", \"Year\": 1986.0, \"total_otters\": 5}, {\"HAB_ID\": \"420n\", \"Year\": 1987.0, \"total_otters\": 7}, {\"HAB_ID\": \"420n\", \"Year\": 1988.0, \"total_otters\": 7}, {\"HAB_ID\": \"420n\", \"Year\": 1989.0, \"total_otters\": 8}, {\"HAB_ID\": \"420n\", \"Year\": 1990.0, \"total_otters\": 7}, {\"HAB_ID\": \"420n\", \"Year\": 1991.0, \"total_otters\": 7}, {\"HAB_ID\": \"420n\", \"Year\": 1992.0, \"total_otters\": 8}, {\"HAB_ID\": \"420n\", \"Year\": 1993.0, \"total_otters\": 8}, {\"HAB_ID\": \"420n\", \"Year\": 1994.0, \"total_otters\": 10}, {\"HAB_ID\": \"420n\", \"Year\": 1995.0, \"total_otters\": 8}, {\"HAB_ID\": \"420n\", \"Year\": 1996.0, \"total_otters\": 8}, {\"HAB_ID\": \"420n\", \"Year\": 1997.0, \"total_otters\": 8}, {\"HAB_ID\": \"420n\", \"Year\": 1998.0, \"total_otters\": 7}, {\"HAB_ID\": \"420n\", \"Year\": 1999.0, \"total_otters\": 5}, {\"HAB_ID\": \"420n\", \"Year\": 2000.0, \"total_otters\": 6}, {\"HAB_ID\": \"420n\", \"Year\": 2001.0, \"total_otters\": 7}, {\"HAB_ID\": \"420n\", \"Year\": 2002.0, \"total_otters\": 7}, {\"HAB_ID\": \"420n\", \"Year\": 2003.0, \"total_otters\": 6}, {\"HAB_ID\": \"420n\", \"Year\": 2004.0, \"total_otters\": 6}, {\"HAB_ID\": \"420n\", \"Year\": 2005.0, \"total_otters\": 8}, {\"HAB_ID\": \"420n\", \"Year\": 2006.0, \"total_otters\": 9}, {\"HAB_ID\": \"420n\", \"Year\": 2007.0, \"total_otters\": 10}, {\"HAB_ID\": \"420n\", \"Year\": 2008.0, \"total_otters\": 9}, {\"HAB_ID\": \"420n\", \"Year\": 2009.0, \"total_otters\": 8}, {\"HAB_ID\": \"420n\", \"Year\": 2010.0, \"total_otters\": 8}, {\"HAB_ID\": \"420n\", \"Year\": 2012.0, \"total_otters\": 8}, {\"HAB_ID\": \"420n\", \"Year\": 2013.0, \"total_otters\": 8}, {\"HAB_ID\": \"420n\", \"Year\": 2014.0, \"total_otters\": 10}, {\"HAB_ID\": \"422n\", \"Year\": 1985.0, \"total_otters\": 5}, {\"HAB_ID\": \"422n\", \"Year\": 1986.0, \"total_otters\": 6}, {\"HAB_ID\": \"422n\", \"Year\": 1987.0, \"total_otters\": 7}, {\"HAB_ID\": \"422n\", \"Year\": 1988.0, \"total_otters\": 6}, {\"HAB_ID\": \"422n\", \"Year\": 1989.0, \"total_otters\": 8}, {\"HAB_ID\": \"422n\", \"Year\": 1990.0, \"total_otters\": 8}, {\"HAB_ID\": \"422n\", \"Year\": 1991.0, \"total_otters\": 8}, {\"HAB_ID\": \"422n\", \"Year\": 1992.0, \"total_otters\": 8}, {\"HAB_ID\": \"422n\", \"Year\": 1993.0, \"total_otters\": 10}, {\"HAB_ID\": \"422n\", \"Year\": 1994.0, \"total_otters\": 10}, {\"HAB_ID\": \"422n\", \"Year\": 1995.0, \"total_otters\": 9}, {\"HAB_ID\": \"422n\", \"Year\": 1996.0, \"total_otters\": 8}, {\"HAB_ID\": \"422n\", \"Year\": 1997.0, \"total_otters\": 8}, {\"HAB_ID\": \"422n\", \"Year\": 1998.0, \"total_otters\": 7}, {\"HAB_ID\": \"422n\", \"Year\": 1999.0, \"total_otters\": 7}, {\"HAB_ID\": \"422n\", \"Year\": 2000.0, \"total_otters\": 6}, {\"HAB_ID\": \"422n\", \"Year\": 2001.0, \"total_otters\": 8}, {\"HAB_ID\": \"422n\", \"Year\": 2002.0, \"total_otters\": 8}, {\"HAB_ID\": \"422n\", \"Year\": 2003.0, \"total_otters\": 8}, {\"HAB_ID\": \"422n\", \"Year\": 2004.0, \"total_otters\": 6}, {\"HAB_ID\": \"422n\", \"Year\": 2005.0, \"total_otters\": 8}, {\"HAB_ID\": \"422n\", \"Year\": 2006.0, \"total_otters\": 10}, {\"HAB_ID\": \"422n\", \"Year\": 2007.0, \"total_otters\": 12}, {\"HAB_ID\": \"422n\", \"Year\": 2008.0, \"total_otters\": 9}, {\"HAB_ID\": \"422n\", \"Year\": 2009.0, \"total_otters\": 8}, {\"HAB_ID\": \"422n\", \"Year\": 2010.0, \"total_otters\": 9}, {\"HAB_ID\": \"422n\", \"Year\": 2012.0, \"total_otters\": 9}, {\"HAB_ID\": \"422n\", \"Year\": 2013.0, \"total_otters\": 8}, {\"HAB_ID\": \"422n\", \"Year\": 2014.0, \"total_otters\": 11}, {\"HAB_ID\": \"450n\", \"Year\": 1985.0, \"total_otters\": 8}, {\"HAB_ID\": \"450n\", \"Year\": 1986.0, \"total_otters\": 9}, {\"HAB_ID\": \"450n\", \"Year\": 1987.0, \"total_otters\": 10}, {\"HAB_ID\": \"450n\", \"Year\": 1988.0, \"total_otters\": 11}, {\"HAB_ID\": \"450n\", \"Year\": 1989.0, \"total_otters\": 9}, {\"HAB_ID\": \"450n\", \"Year\": 1990.0, \"total_otters\": 11}, {\"HAB_ID\": \"450n\", \"Year\": 1991.0, \"total_otters\": 10}, {\"HAB_ID\": \"450n\", \"Year\": 1992.0, \"total_otters\": 11}, {\"HAB_ID\": \"450n\", \"Year\": 1993.0, \"total_otters\": 9}, {\"HAB_ID\": \"450n\", \"Year\": 1994.0, \"total_otters\": 11}, {\"HAB_ID\": \"450n\", \"Year\": 1995.0, \"total_otters\": 8}, {\"HAB_ID\": \"450n\", \"Year\": 1996.0, \"total_otters\": 7}, {\"HAB_ID\": \"450n\", \"Year\": 1997.0, \"total_otters\": 8}, {\"HAB_ID\": \"450n\", \"Year\": 1998.0, \"total_otters\": 8}, {\"HAB_ID\": \"450n\", \"Year\": 1999.0, \"total_otters\": 8}, {\"HAB_ID\": \"450n\", \"Year\": 2000.0, \"total_otters\": 4}, {\"HAB_ID\": \"450n\", \"Year\": 2001.0, \"total_otters\": 4}, {\"HAB_ID\": \"450n\", \"Year\": 2002.0, \"total_otters\": 5}, {\"HAB_ID\": \"450n\", \"Year\": 2003.0, \"total_otters\": 5}, {\"HAB_ID\": \"450n\", \"Year\": 2004.0, \"total_otters\": 5}, {\"HAB_ID\": \"450n\", \"Year\": 2005.0, \"total_otters\": 5}, {\"HAB_ID\": \"450n\", \"Year\": 2006.0, \"total_otters\": 5}, {\"HAB_ID\": \"450n\", \"Year\": 2007.0, \"total_otters\": 7}, {\"HAB_ID\": \"450n\", \"Year\": 2008.0, \"total_otters\": 7}, {\"HAB_ID\": \"450n\", \"Year\": 2009.0, \"total_otters\": 7}, {\"HAB_ID\": \"450n\", \"Year\": 2010.0, \"total_otters\": 5}, {\"HAB_ID\": \"450n\", \"Year\": 2012.0, \"total_otters\": 8}, {\"HAB_ID\": \"450n\", \"Year\": 2013.0, \"total_otters\": 11}, {\"HAB_ID\": \"450n\", \"Year\": 2014.0, \"total_otters\": 10}, {\"HAB_ID\": \"801n\", \"Year\": 1985.0, \"total_otters\": 5}, {\"HAB_ID\": \"801n\", \"Year\": 1986.0, \"total_otters\": 6}, {\"HAB_ID\": \"801n\", \"Year\": 1987.0, \"total_otters\": 7}, {\"HAB_ID\": \"801n\", \"Year\": 1988.0, \"total_otters\": 7}, {\"HAB_ID\": \"801n\", \"Year\": 1989.0, \"total_otters\": 7}, {\"HAB_ID\": \"801n\", \"Year\": 1990.0, \"total_otters\": 7}, {\"HAB_ID\": \"801n\", \"Year\": 1991.0, \"total_otters\": 7}, {\"HAB_ID\": \"801n\", \"Year\": 1992.0, \"total_otters\": 7}, {\"HAB_ID\": \"801n\", \"Year\": 1993.0, \"total_otters\": 7}, {\"HAB_ID\": \"801n\", \"Year\": 1994.0, \"total_otters\": 9}, {\"HAB_ID\": \"801n\", \"Year\": 1995.0, \"total_otters\": 9}, {\"HAB_ID\": \"801n\", \"Year\": 1996.0, \"total_otters\": 8}, {\"HAB_ID\": \"801n\", \"Year\": 1997.0, \"total_otters\": 5}, {\"HAB_ID\": \"801n\", \"Year\": 1998.0, \"total_otters\": 4}, {\"HAB_ID\": \"801n\", \"Year\": 1999.0, \"total_otters\": 4}, {\"HAB_ID\": \"801n\", \"Year\": 2000.0, \"total_otters\": 4}, {\"HAB_ID\": \"801n\", \"Year\": 2001.0, \"total_otters\": 4}, {\"HAB_ID\": \"801n\", \"Year\": 2002.0, \"total_otters\": 4}, {\"HAB_ID\": \"801n\", \"Year\": 2003.0, \"total_otters\": 5}, {\"HAB_ID\": \"801n\", \"Year\": 2004.0, \"total_otters\": 8}, {\"HAB_ID\": \"801n\", \"Year\": 2005.0, \"total_otters\": 10}, {\"HAB_ID\": \"801n\", \"Year\": 2006.0, \"total_otters\": 11}, {\"HAB_ID\": \"801n\", \"Year\": 2007.0, \"total_otters\": 9}, {\"HAB_ID\": \"801n\", \"Year\": 2008.0, \"total_otters\": 9}, {\"HAB_ID\": \"801n\", \"Year\": 2009.0, \"total_otters\": 7}, {\"HAB_ID\": \"801n\", \"Year\": 2010.0, \"total_otters\": 9}, {\"HAB_ID\": \"801n\", \"Year\": 2012.0, \"total_otters\": 9}, {\"HAB_ID\": \"801n\", \"Year\": 2013.0, \"total_otters\": 9}, {\"HAB_ID\": \"801n\", \"Year\": 2014.0, \"total_otters\": 8}, {\"HAB_ID\": \"SC_GRP\", \"Year\": 1985.0, \"total_otters\": 17}, {\"HAB_ID\": \"SC_GRP\", \"Year\": 1986.0, \"total_otters\": 20}, {\"HAB_ID\": \"SC_GRP\", \"Year\": 1987.0, \"total_otters\": 10}, {\"HAB_ID\": \"SC_GRP\", \"Year\": 1988.0, \"total_otters\": 11}, {\"HAB_ID\": \"SC_GRP\", \"Year\": 1989.0, \"total_otters\": 17}, {\"HAB_ID\": \"SC_GRP\", \"Year\": 1990.0, \"total_otters\": 29}, {\"HAB_ID\": \"SC_GRP\", \"Year\": 1991.0, \"total_otters\": 47}, {\"HAB_ID\": \"SC_GRP\", \"Year\": 1992.0, \"total_otters\": 49}, {\"HAB_ID\": \"SC_GRP\", \"Year\": 1993.0, \"total_otters\": 45}, {\"HAB_ID\": \"SC_GRP\", \"Year\": 1994.0, \"total_otters\": 41}, {\"HAB_ID\": \"SC_GRP\", \"Year\": 1995.0, \"total_otters\": 32}, {\"HAB_ID\": \"SC_GRP\", \"Year\": 1996.0, \"total_otters\": 41}, {\"HAB_ID\": \"SC_GRP\", \"Year\": 1997.0, \"total_otters\": 31}, {\"HAB_ID\": \"SC_GRP\", \"Year\": 1998.0, \"total_otters\": 42}, {\"HAB_ID\": \"SC_GRP\", \"Year\": 1999.0, \"total_otters\": 41}, {\"HAB_ID\": \"SC_GRP\", \"Year\": 2000.0, \"total_otters\": 46}, {\"HAB_ID\": \"SC_GRP\", \"Year\": 2001.0, \"total_otters\": 48}, {\"HAB_ID\": \"SC_GRP\", \"Year\": 2002.0, \"total_otters\": 54}, {\"HAB_ID\": \"SC_GRP\", \"Year\": 2003.0, \"total_otters\": 82}, {\"HAB_ID\": \"SC_GRP\", \"Year\": 2004.0, \"total_otters\": 101}, {\"HAB_ID\": \"SC_GRP\", \"Year\": 2005.0, \"total_otters\": 108}, {\"HAB_ID\": \"SC_GRP\", \"Year\": 2006.0, \"total_otters\": 78}, {\"HAB_ID\": \"SC_GRP\", \"Year\": 2007.0, \"total_otters\": 67}, {\"HAB_ID\": \"SC_GRP\", \"Year\": 2008.0, \"total_otters\": 66}, {\"HAB_ID\": \"SC_GRP\", \"Year\": 2009.0, \"total_otters\": 77}, {\"HAB_ID\": \"SC_GRP\", \"Year\": 2010.0, \"total_otters\": 90}, {\"HAB_ID\": \"SC_GRP\", \"Year\": 2012.0, \"total_otters\": 106}, {\"HAB_ID\": \"SC_GRP\", \"Year\": 2013.0, \"total_otters\": 96}, {\"HAB_ID\": \"SC_GRP\", \"Year\": 2014.0, \"total_otters\": 85}]}}, {\"mode\": \"vega-lite\"});\n",
       "</script>"
      ],
      "text/plain": [
       "alt.Chart(...)"
      ]
     },
     "execution_count": 45,
     "metadata": {},
     "output_type": "execute_result"
    }
   ],
   "source": [
    "chart_title = 'Population growth trend of otters in habitats with more than 200 sea otters and Santa Cruz group'\n",
    "alt.Chart(plot_data).mark_line().encode(\n",
    "        x='Year',\n",
    "        y='total_otters',\n",
    "        color='HAB_ID',\n",
    "        tooltip='HAB_ID'\n",
    "    ).properties(\n",
    "        width=600,\n",
    "        height=400,\n",
    "        title={\n",
    "            'text':chart_title.split(':')\n",
    "        }\n",
    "    ).configure_axis(\n",
    "        grid=False,\n",
    "        labelFontSize=12,\n",
    "        titleFontSize=12\n",
    "    ).configure_legend(\n",
    "        labelFontSize=12,\n",
    "        titleFontSize=12\n",
    "    ).configure_title(\n",
    "        #fontWeight='normal',\n",
    "        fontSize=13\n",
    "    )"
   ]
  },
  {
   "cell_type": "markdown",
   "metadata": {
    "id": "rPeAPhwzY6iP"
   },
   "source": [
    "We can clearly observe that the Santa Cruz group (the 23 habitats near Santa Cruz coastline) has a significant increase in otter growth from 1985-2014. 22 out of these 23 habitats have less than 100 otter count, but when grouped together the population trend seems to increase."
   ]
  },
  {
   "cell_type": "markdown",
   "metadata": {},
   "source": [
    "## Stranding analysis"
   ]
  },
  {
   "cell_type": "markdown",
   "metadata": {
    "id": "XaMJSt0j75IJ"
   },
   "source": [
    "After looking into the population trend in general and across different habitats, we now jump into stranding cases. We start by looking into how stranding cases are distributed geographically."
   ]
  },
  {
   "cell_type": "markdown",
   "metadata": {
    "id": "HVzhJoXoY6iP"
   },
   "source": [
    "### Is there a particular area with more cases of stranding?"
   ]
  },
  {
   "cell_type": "code",
   "execution_count": 46,
   "metadata": {
    "id": "Prekf_1HY6iP",
    "outputId": "26350b09-4997-4973-e8b4-c1c37040f010"
   },
   "outputs": [
    {
     "data": {
      "text/html": [
       "<div>\n",
       "<style scoped>\n",
       "    .dataframe tbody tr th:only-of-type {\n",
       "        vertical-align: middle;\n",
       "    }\n",
       "\n",
       "    .dataframe tbody tr th {\n",
       "        vertical-align: top;\n",
       "    }\n",
       "\n",
       "    .dataframe thead th {\n",
       "        text-align: right;\n",
       "    }\n",
       "</style>\n",
       "<table border=\"1\" class=\"dataframe\">\n",
       "  <thead>\n",
       "    <tr style=\"text-align: right;\">\n",
       "      <th></th>\n",
       "      <th>Year</th>\n",
       "      <th>Total_Strandings</th>\n",
       "      <th>North_of_Pigeon_Pt</th>\n",
       "      <th>Pigeon_Pt_to_Capitola</th>\n",
       "      <th>Capitola_to_Seaside</th>\n",
       "      <th>Seaside_to_Pt_Lobos</th>\n",
       "      <th>Pt_Lobos_to_Pt_Sur</th>\n",
       "      <th>Pt_Sur_to_Dolan_Rock</th>\n",
       "      <th>Dolan_Rock_to_C_San_Martin</th>\n",
       "      <th>C_San_Martin_to_San_Simeon_Pt</th>\n",
       "      <th>San_Simeon_Pt_to_Cayucos</th>\n",
       "      <th>Cayucos_to_Hazard_Canyon</th>\n",
       "      <th>Hazard_Canyon_to_Pismo_Beach</th>\n",
       "      <th>Pismo_Beach_to_Pt_Sal</th>\n",
       "      <th>Pt_Sal_to_Pt_Conception</th>\n",
       "      <th>SE_of_Pt_Conception</th>\n",
       "    </tr>\n",
       "  </thead>\n",
       "  <tbody>\n",
       "    <tr>\n",
       "      <th>0</th>\n",
       "      <td>1985</td>\n",
       "      <td>72</td>\n",
       "      <td>0</td>\n",
       "      <td>1</td>\n",
       "      <td>14</td>\n",
       "      <td>11</td>\n",
       "      <td>5</td>\n",
       "      <td>4</td>\n",
       "      <td>0</td>\n",
       "      <td>13</td>\n",
       "      <td>6</td>\n",
       "      <td>13</td>\n",
       "      <td>1</td>\n",
       "      <td>1</td>\n",
       "      <td>1</td>\n",
       "      <td>2</td>\n",
       "    </tr>\n",
       "    <tr>\n",
       "      <th>1</th>\n",
       "      <td>1986</td>\n",
       "      <td>81</td>\n",
       "      <td>3</td>\n",
       "      <td>2</td>\n",
       "      <td>32</td>\n",
       "      <td>18</td>\n",
       "      <td>3</td>\n",
       "      <td>1</td>\n",
       "      <td>0</td>\n",
       "      <td>9</td>\n",
       "      <td>4</td>\n",
       "      <td>9</td>\n",
       "      <td>0</td>\n",
       "      <td>0</td>\n",
       "      <td>0</td>\n",
       "      <td>0</td>\n",
       "    </tr>\n",
       "    <tr>\n",
       "      <th>2</th>\n",
       "      <td>1987</td>\n",
       "      <td>94</td>\n",
       "      <td>5</td>\n",
       "      <td>0</td>\n",
       "      <td>27</td>\n",
       "      <td>19</td>\n",
       "      <td>2</td>\n",
       "      <td>1</td>\n",
       "      <td>0</td>\n",
       "      <td>11</td>\n",
       "      <td>11</td>\n",
       "      <td>8</td>\n",
       "      <td>4</td>\n",
       "      <td>1</td>\n",
       "      <td>1</td>\n",
       "      <td>4</td>\n",
       "    </tr>\n",
       "    <tr>\n",
       "      <th>3</th>\n",
       "      <td>1988</td>\n",
       "      <td>88</td>\n",
       "      <td>6</td>\n",
       "      <td>2</td>\n",
       "      <td>10</td>\n",
       "      <td>21</td>\n",
       "      <td>4</td>\n",
       "      <td>3</td>\n",
       "      <td>3</td>\n",
       "      <td>7</td>\n",
       "      <td>7</td>\n",
       "      <td>18</td>\n",
       "      <td>4</td>\n",
       "      <td>2</td>\n",
       "      <td>0</td>\n",
       "      <td>1</td>\n",
       "    </tr>\n",
       "    <tr>\n",
       "      <th>4</th>\n",
       "      <td>1989</td>\n",
       "      <td>99</td>\n",
       "      <td>2</td>\n",
       "      <td>6</td>\n",
       "      <td>23</td>\n",
       "      <td>13</td>\n",
       "      <td>3</td>\n",
       "      <td>0</td>\n",
       "      <td>1</td>\n",
       "      <td>5</td>\n",
       "      <td>11</td>\n",
       "      <td>26</td>\n",
       "      <td>5</td>\n",
       "      <td>1</td>\n",
       "      <td>3</td>\n",
       "      <td>0</td>\n",
       "    </tr>\n",
       "  </tbody>\n",
       "</table>\n",
       "</div>"
      ],
      "text/plain": [
       "   Year  Total_Strandings  North_of_Pigeon_Pt  Pigeon_Pt_to_Capitola  \\\n",
       "0  1985                72                   0                      1   \n",
       "1  1986                81                   3                      2   \n",
       "2  1987                94                   5                      0   \n",
       "3  1988                88                   6                      2   \n",
       "4  1989                99                   2                      6   \n",
       "\n",
       "   Capitola_to_Seaside  Seaside_to_Pt_Lobos  Pt_Lobos_to_Pt_Sur  \\\n",
       "0                   14                   11                   5   \n",
       "1                   32                   18                   3   \n",
       "2                   27                   19                   2   \n",
       "3                   10                   21                   4   \n",
       "4                   23                   13                   3   \n",
       "\n",
       "   Pt_Sur_to_Dolan_Rock  Dolan_Rock_to_C_San_Martin  \\\n",
       "0                     4                           0   \n",
       "1                     1                           0   \n",
       "2                     1                           0   \n",
       "3                     3                           3   \n",
       "4                     0                           1   \n",
       "\n",
       "   C_San_Martin_to_San_Simeon_Pt  San_Simeon_Pt_to_Cayucos  \\\n",
       "0                             13                         6   \n",
       "1                              9                         4   \n",
       "2                             11                        11   \n",
       "3                              7                         7   \n",
       "4                              5                        11   \n",
       "\n",
       "   Cayucos_to_Hazard_Canyon  Hazard_Canyon_to_Pismo_Beach  \\\n",
       "0                        13                             1   \n",
       "1                         9                             0   \n",
       "2                         8                             4   \n",
       "3                        18                             4   \n",
       "4                        26                             5   \n",
       "\n",
       "   Pismo_Beach_to_Pt_Sal  Pt_Sal_to_Pt_Conception  SE_of_Pt_Conception  \n",
       "0                      1                        1                    2  \n",
       "1                      0                        0                    0  \n",
       "2                      1                        1                    4  \n",
       "3                      2                        0                    1  \n",
       "4                      1                        3                    0  "
      ]
     },
     "execution_count": 46,
     "metadata": {},
     "output_type": "execute_result"
    }
   ],
   "source": [
    "stranded_geo = pd.read_csv(DATAPATH+'stranding/Table1_StrandedSeaOtter_byGeographicAreas_1985_2017.csv')\n",
    "stranded_geo_orig = stranded_geo.copy()   # we will make some changes to stranded_geo later on.\n",
    "stranded_geo.head()"
   ]
  },
  {
   "cell_type": "markdown",
   "metadata": {
    "id": "Pkw7vGjmY6iQ"
   },
   "source": [
    "**Some information on the dataset:**\n",
    "\n",
    "This dataset contains geographic information about sea otter stranding cases from 1985-2017. There are 14 regions along the coastline of South-Western California. Total stranding cases for each year is also provided in the dataset."
   ]
  },
  {
   "cell_type": "markdown",
   "metadata": {
    "id": "EX7WzOjiY6iQ"
   },
   "source": [
    "**Addressing the dissimilarity in location information**:\n",
    "\n",
    "As said before, this dataframe has location information in regions, whereas for census/population dataset we found the location for each habitat. Inorder to make a fair analysis, we have to group the habitats in the census dataset into regions as per this dataset (stranded_geo).\n",
    "\n",
    "To do that, we first find the location coordinates, in latitude-longitude, of each of the region end points from Google Maps, then create a dataframe and group the habitats."
   ]
  },
  {
   "cell_type": "markdown",
   "metadata": {
    "id": "oukPhNtjY6iQ"
   },
   "source": [
    "**Map coordinates of the region end points:**\n",
    "\n",
    "1. Pigeon Point: (37.18434548901108, -122.39470954049565)\n",
    "2. Capitola(Beach): (36.972049429039096, -121.95152041838831)\n",
    "3. Seaside(Monterey State Beach): (36.615470635247696, -121.85781056508648)\n",
    "4. Point Lobos: (36.5236214892572, -121.95278200355799)\n",
    "5. Point Sur(Lighthouse): (36.3069690273742, -121.90086508992727)\n",
    "6. Dolan Rock: (36.08561998793649, -121.61823511757963)\n",
    "7. C San Martin(Cape): (35.88982498346323, -121.46281907163161)\n",
    "8. San Simeon Point: (35.63684751230898, -121.19492013310929)\n",
    "9. Cayucos(Beach): (35.450113738013975, -120.90547693639098)\n",
    "10. Hazard Canyon: (35.290814980161336, -120.88370600256532)\n",
    "11. Pismo Beach: (35.14265430661362, -120.64387229555241)\n",
    "12. Point Sal: (34.90401826260435, -120.67040841806637)\n",
    "13. Point Conception: (34.449016480303904, -120.47158983231594)"
   ]
  },
  {
   "cell_type": "code",
   "execution_count": 47,
   "metadata": {
    "id": "bsgT8JIRY6iQ"
   },
   "outputs": [],
   "source": [
    "coords_data = '''\n",
    "        1. Pigeon Point: (37.18434548901108, -122.39470954049565)\n",
    "        2. Capitola(Beach): (36.972049429039096, -121.95152041838831)\n",
    "        3. Seaside(Monterey State Beach): (36.615470635247696, -121.85781056508648)\n",
    "        4. Point Lobos: (36.5236214892572, -121.95278200355799)\n",
    "        5. Point Sur(Lighthouse): (36.3069690273742, -121.90086508992727)\n",
    "        6. Dolan Rock: (36.08561998793649, -121.61823511757963)\n",
    "        7. C San Martin(Cape): (35.88982498346323, -121.46281907163161)\n",
    "        8. San Simeon Point: (35.63684751230898, -121.19492013310929)\n",
    "        9. Cayucos(Beach): (35.450113738013975, -120.90547693639098)\n",
    "        10. Hazard Canyon: (35.290814980161336, -120.88370600256532)\n",
    "        11. Pismo Beach: (35.14265430661362, -120.64387229555241)\n",
    "        12. Point Sal: (34.90401826260435, -120.67040841806637)\n",
    "        13. Point Conception: (34.449016480303904, -120.47158983231594)\n",
    "        '''"
   ]
  },
  {
   "cell_type": "code",
   "execution_count": 48,
   "metadata": {
    "id": "O9jxRShMY6iQ"
   },
   "outputs": [],
   "source": [
    "coords_split = [ c for c in coords_data.split('\\n') if len(c) > 0 ]\n",
    "coords = []\n",
    "for c in coords_split[:-1]:\n",
    "    nm, point = c.split(':') #split to get name, and lat-lon\n",
    "    name = \" \".join(nm.split()[1:])   \n",
    "    lat,lon = point.split()\n",
    "    coords.append([name,float(lat[1:-1]),float(lon[:-1])])"
   ]
  },
  {
   "cell_type": "code",
   "execution_count": 49,
   "metadata": {
    "id": "0BpCKdiTY6iQ",
    "outputId": "91994d53-d34e-4903-fdaf-e41fbceccd2e"
   },
   "outputs": [
    {
     "data": {
      "text/html": [
       "<div>\n",
       "<style scoped>\n",
       "    .dataframe tbody tr th:only-of-type {\n",
       "        vertical-align: middle;\n",
       "    }\n",
       "\n",
       "    .dataframe tbody tr th {\n",
       "        vertical-align: top;\n",
       "    }\n",
       "\n",
       "    .dataframe thead th {\n",
       "        text-align: right;\n",
       "    }\n",
       "</style>\n",
       "<table border=\"1\" class=\"dataframe\">\n",
       "  <thead>\n",
       "    <tr style=\"text-align: right;\">\n",
       "      <th></th>\n",
       "      <th>Name</th>\n",
       "      <th>Latitude</th>\n",
       "      <th>Longitude</th>\n",
       "    </tr>\n",
       "  </thead>\n",
       "  <tbody>\n",
       "    <tr>\n",
       "      <th>0</th>\n",
       "      <td>Pigeon Point</td>\n",
       "      <td>37.184345</td>\n",
       "      <td>-122.394710</td>\n",
       "    </tr>\n",
       "    <tr>\n",
       "      <th>1</th>\n",
       "      <td>Capitola(Beach)</td>\n",
       "      <td>36.972049</td>\n",
       "      <td>-121.951520</td>\n",
       "    </tr>\n",
       "    <tr>\n",
       "      <th>2</th>\n",
       "      <td>Seaside(Monterey State Beach)</td>\n",
       "      <td>36.615471</td>\n",
       "      <td>-121.857811</td>\n",
       "    </tr>\n",
       "    <tr>\n",
       "      <th>3</th>\n",
       "      <td>Point Lobos</td>\n",
       "      <td>36.523621</td>\n",
       "      <td>-121.952782</td>\n",
       "    </tr>\n",
       "    <tr>\n",
       "      <th>4</th>\n",
       "      <td>Point Sur(Lighthouse)</td>\n",
       "      <td>36.306969</td>\n",
       "      <td>-121.900865</td>\n",
       "    </tr>\n",
       "  </tbody>\n",
       "</table>\n",
       "</div>"
      ],
      "text/plain": [
       "                            Name   Latitude   Longitude\n",
       "0                   Pigeon Point  37.184345 -122.394710\n",
       "1                Capitola(Beach)  36.972049 -121.951520\n",
       "2  Seaside(Monterey State Beach)  36.615471 -121.857811\n",
       "3                    Point Lobos  36.523621 -121.952782\n",
       "4          Point Sur(Lighthouse)  36.306969 -121.900865"
      ]
     },
     "execution_count": 49,
     "metadata": {},
     "output_type": "execute_result"
    }
   ],
   "source": [
    "location_coords = pd.DataFrame(coords,columns='Name Latitude Longitude'.split())\n",
    "location_coords.head()"
   ]
  },
  {
   "cell_type": "code",
   "execution_count": 50,
   "metadata": {
    "id": "uleXAQAR75IL"
   },
   "outputs": [],
   "source": [
    "start_loc = [36.18907,-120.765664]    # same start location\n",
    "base = folium.Map(location=start_loc,width='50%',height='70%',zoom_start=7,min_zoom=5,max_zoom=14)\n",
    "\n",
    "for rows in location_coords.iterrows():\n",
    "    \n",
    "    folium.Marker(\n",
    "                location=[rows[1].Latitude, rows[1].Longitude], \n",
    "                icon=folium.Icon(),\n",
    "                tooltip=rows[1].Name\n",
    "            ).add_to(base)\n",
    "    \n",
    "base.save('maps/region_map.html')"
   ]
  },
  {
   "cell_type": "markdown",
   "metadata": {},
   "source": [
    "We marked the region end points on a map of California. Want to explore? \n",
    "<a href=\"maps/region_map.html\" target=\"_blank\">Click here</a>\n",
    "\n",
    "Below is a screen shot of the map.\n",
    "\n",
    "<center>\n",
    "    <img src=\"./maps/region_map.png\" alt=\"Region map\" width=\"360\" height=\"240\">\n",
    "</center>"
   ]
  },
  {
   "cell_type": "markdown",
   "metadata": {
    "id": "UAIQglmtY6iR"
   },
   "source": [
    "Now that we have extracted the location information (latitude-longitude) of the region endpoints into a dataframe, we have to group the habitats in census dataset according to these regions.\n",
    "\n",
    "But the census dataset, doesn't have the latitude-longitude information of the habitats. For each habitat, we retrieved location information from the GIS shapefile. So, we merge the census data and location data (in habitat_coordinates dataframe).\n",
    "\n",
    "Also, we don't require any attributes other than **Year, HAB_ID, Latitude, Longitude, total_otters** and **Otter_Count** from this merged dataframe. So, we can drop those attributes for simplicity."
   ]
  },
  {
   "cell_type": "code",
   "execution_count": 51,
   "metadata": {
    "id": "MKXPs8CyY6iR",
    "outputId": "701b8ca3-a75b-4744-e830-4967d95233fa"
   },
   "outputs": [
    {
     "data": {
      "text/html": [
       "<div>\n",
       "<style scoped>\n",
       "    .dataframe tbody tr th:only-of-type {\n",
       "        vertical-align: middle;\n",
       "    }\n",
       "\n",
       "    .dataframe tbody tr th {\n",
       "        vertical-align: top;\n",
       "    }\n",
       "\n",
       "    .dataframe thead th {\n",
       "        text-align: right;\n",
       "    }\n",
       "</style>\n",
       "<table border=\"1\" class=\"dataframe\">\n",
       "  <thead>\n",
       "    <tr style=\"text-align: right;\">\n",
       "      <th></th>\n",
       "      <th>HAB_ID</th>\n",
       "      <th>Year</th>\n",
       "      <th>total_otters</th>\n",
       "      <th>Latitude</th>\n",
       "      <th>Longitude</th>\n",
       "      <th>Otter_Count</th>\n",
       "    </tr>\n",
       "  </thead>\n",
       "  <tbody>\n",
       "    <tr>\n",
       "      <th>0</th>\n",
       "      <td>960n</td>\n",
       "      <td>1985.0</td>\n",
       "      <td>0</td>\n",
       "      <td>34.952703</td>\n",
       "      <td>-120.675118</td>\n",
       "      <td>3</td>\n",
       "    </tr>\n",
       "    <tr>\n",
       "      <th>1</th>\n",
       "      <td>960n</td>\n",
       "      <td>1991.0</td>\n",
       "      <td>0</td>\n",
       "      <td>34.952703</td>\n",
       "      <td>-120.675118</td>\n",
       "      <td>3</td>\n",
       "    </tr>\n",
       "    <tr>\n",
       "      <th>2</th>\n",
       "      <td>960n</td>\n",
       "      <td>1992.0</td>\n",
       "      <td>0</td>\n",
       "      <td>34.952703</td>\n",
       "      <td>-120.675118</td>\n",
       "      <td>3</td>\n",
       "    </tr>\n",
       "    <tr>\n",
       "      <th>3</th>\n",
       "      <td>960n</td>\n",
       "      <td>1993.0</td>\n",
       "      <td>0</td>\n",
       "      <td>34.952703</td>\n",
       "      <td>-120.675118</td>\n",
       "      <td>3</td>\n",
       "    </tr>\n",
       "    <tr>\n",
       "      <th>4</th>\n",
       "      <td>960n</td>\n",
       "      <td>1994.0</td>\n",
       "      <td>0</td>\n",
       "      <td>34.952703</td>\n",
       "      <td>-120.675118</td>\n",
       "      <td>3</td>\n",
       "    </tr>\n",
       "  </tbody>\n",
       "</table>\n",
       "</div>"
      ],
      "text/plain": [
       "  HAB_ID    Year  total_otters   Latitude   Longitude  Otter_Count\n",
       "0   960n  1985.0             0  34.952703 -120.675118            3\n",
       "1   960n  1991.0             0  34.952703 -120.675118            3\n",
       "2   960n  1992.0             0  34.952703 -120.675118            3\n",
       "3   960n  1993.0             0  34.952703 -120.675118            3\n",
       "4   960n  1994.0             0  34.952703 -120.675118            3"
      ]
     },
     "execution_count": 51,
     "metadata": {},
     "output_type": "execute_result"
    }
   ],
   "source": [
    "merged_df = pd.merge(census, habitat_coordinates, how='inner', on='HAB_ID')\n",
    "cols_to_keep = ['HAB_ID','Year','total_otters','Latitude','Longitude','Otter_Count']\n",
    "merged_df = merged_df[cols_to_keep]\n",
    "merged_df.head()"
   ]
  },
  {
   "cell_type": "code",
   "execution_count": 52,
   "metadata": {
    "id": "HVbzyP6aY6iR"
   },
   "outputs": [],
   "source": [
    "def binning(df, bins):\n",
    "    '''\n",
    "    Return a list of masks (series of True/False). There will be a total of len(bins)+1 masks.\n",
    "    Each mask has as many elements as there are in the dataframe, and represents whether the\n",
    "    element falls in the latitude range.\n",
    "    \n",
    "    bins: list of latitudes\n",
    "    df: dataframe to bin\n",
    "    \n",
    "    return masks\n",
    "    '''\n",
    "    masks = []\n",
    "    mask = df.Latitude >= bins.iloc[0]\n",
    "    masks += [mask]\n",
    "    \n",
    "    for high,low in zip(bins[:-1],bins[1:]):\n",
    "        mask = (df.Latitude >= low) & (df.Latitude < high)\n",
    "        masks += [mask]\n",
    "\n",
    "    mask = df.Latitude < bins.iloc[-1]\n",
    "    masks += [mask]\n",
    "    \n",
    "    return masks"
   ]
  },
  {
   "cell_type": "code",
   "execution_count": 53,
   "metadata": {
    "id": "ogMIFK_gY6iR",
    "outputId": "d4dbafaf-07bf-4041-e7dd-7b1e28551eed"
   },
   "outputs": [
    {
     "data": {
      "text/html": [
       "<div>\n",
       "<style scoped>\n",
       "    .dataframe tbody tr th:only-of-type {\n",
       "        vertical-align: middle;\n",
       "    }\n",
       "\n",
       "    .dataframe tbody tr th {\n",
       "        vertical-align: top;\n",
       "    }\n",
       "\n",
       "    .dataframe thead th {\n",
       "        text-align: right;\n",
       "    }\n",
       "</style>\n",
       "<table border=\"1\" class=\"dataframe\">\n",
       "  <thead>\n",
       "    <tr style=\"text-align: right;\">\n",
       "      <th></th>\n",
       "      <th>Year</th>\n",
       "      <th>North_of_Pigeon_Pt</th>\n",
       "      <th>Pigeon_Pt_to_Capitola</th>\n",
       "      <th>Capitola_to_Seaside</th>\n",
       "      <th>Seaside_to_Pt_Lobos</th>\n",
       "      <th>Pt_Lobos_to_Pt_Sur</th>\n",
       "      <th>Pt_Sur_to_Dolan_Rock</th>\n",
       "      <th>Dolan_Rock_to_C_San_Martin</th>\n",
       "      <th>C_San_Martin_to_San_Simeon_Pt</th>\n",
       "      <th>San_Simeon_Pt_to_Cayucos</th>\n",
       "      <th>Cayucos_to_Hazard_Canyon</th>\n",
       "      <th>Hazard_Canyon_to_Pismo_Beach</th>\n",
       "      <th>Pismo_Beach_to_Pt_Sal</th>\n",
       "      <th>Pt_Sal_to_Pt_Conception</th>\n",
       "      <th>SE_of_Pt_Conception</th>\n",
       "    </tr>\n",
       "  </thead>\n",
       "  <tbody>\n",
       "    <tr>\n",
       "      <th>0</th>\n",
       "      <td>1985.0</td>\n",
       "      <td>NaN</td>\n",
       "      <td>0</td>\n",
       "      <td>73</td>\n",
       "      <td>134</td>\n",
       "      <td>126</td>\n",
       "      <td>125</td>\n",
       "      <td>122</td>\n",
       "      <td>160</td>\n",
       "      <td>126</td>\n",
       "      <td>80</td>\n",
       "      <td>4</td>\n",
       "      <td>0</td>\n",
       "      <td>NaN</td>\n",
       "      <td>NaN</td>\n",
       "    </tr>\n",
       "    <tr>\n",
       "      <th>1</th>\n",
       "      <td>1986.0</td>\n",
       "      <td>NaN</td>\n",
       "      <td>0</td>\n",
       "      <td>78</td>\n",
       "      <td>146</td>\n",
       "      <td>141</td>\n",
       "      <td>133</td>\n",
       "      <td>144</td>\n",
       "      <td>189</td>\n",
       "      <td>129</td>\n",
       "      <td>97</td>\n",
       "      <td>24</td>\n",
       "      <td>0</td>\n",
       "      <td>NaN</td>\n",
       "      <td>NaN</td>\n",
       "    </tr>\n",
       "    <tr>\n",
       "      <th>2</th>\n",
       "      <td>1987.0</td>\n",
       "      <td>NaN</td>\n",
       "      <td>3</td>\n",
       "      <td>74</td>\n",
       "      <td>191</td>\n",
       "      <td>182</td>\n",
       "      <td>142</td>\n",
       "      <td>147</td>\n",
       "      <td>232</td>\n",
       "      <td>119</td>\n",
       "      <td>95</td>\n",
       "      <td>30</td>\n",
       "      <td>10</td>\n",
       "      <td>NaN</td>\n",
       "      <td>NaN</td>\n",
       "    </tr>\n",
       "    <tr>\n",
       "      <th>3</th>\n",
       "      <td>1988.0</td>\n",
       "      <td>NaN</td>\n",
       "      <td>3</td>\n",
       "      <td>74</td>\n",
       "      <td>195</td>\n",
       "      <td>189</td>\n",
       "      <td>144</td>\n",
       "      <td>168</td>\n",
       "      <td>258</td>\n",
       "      <td>139</td>\n",
       "      <td>93</td>\n",
       "      <td>54</td>\n",
       "      <td>10</td>\n",
       "      <td>NaN</td>\n",
       "      <td>NaN</td>\n",
       "    </tr>\n",
       "    <tr>\n",
       "      <th>4</th>\n",
       "      <td>1989.0</td>\n",
       "      <td>NaN</td>\n",
       "      <td>9</td>\n",
       "      <td>83</td>\n",
       "      <td>212</td>\n",
       "      <td>211</td>\n",
       "      <td>178</td>\n",
       "      <td>166</td>\n",
       "      <td>263</td>\n",
       "      <td>139</td>\n",
       "      <td>92</td>\n",
       "      <td>71</td>\n",
       "      <td>14</td>\n",
       "      <td>NaN</td>\n",
       "      <td>NaN</td>\n",
       "    </tr>\n",
       "  </tbody>\n",
       "</table>\n",
       "</div>"
      ],
      "text/plain": [
       "     Year  North_of_Pigeon_Pt  Pigeon_Pt_to_Capitola  Capitola_to_Seaside  \\\n",
       "0  1985.0                 NaN                      0                   73   \n",
       "1  1986.0                 NaN                      0                   78   \n",
       "2  1987.0                 NaN                      3                   74   \n",
       "3  1988.0                 NaN                      3                   74   \n",
       "4  1989.0                 NaN                      9                   83   \n",
       "\n",
       "   Seaside_to_Pt_Lobos  Pt_Lobos_to_Pt_Sur  Pt_Sur_to_Dolan_Rock  \\\n",
       "0                  134                 126                   125   \n",
       "1                  146                 141                   133   \n",
       "2                  191                 182                   142   \n",
       "3                  195                 189                   144   \n",
       "4                  212                 211                   178   \n",
       "\n",
       "   Dolan_Rock_to_C_San_Martin  C_San_Martin_to_San_Simeon_Pt  \\\n",
       "0                         122                            160   \n",
       "1                         144                            189   \n",
       "2                         147                            232   \n",
       "3                         168                            258   \n",
       "4                         166                            263   \n",
       "\n",
       "   San_Simeon_Pt_to_Cayucos  Cayucos_to_Hazard_Canyon  \\\n",
       "0                       126                        80   \n",
       "1                       129                        97   \n",
       "2                       119                        95   \n",
       "3                       139                        93   \n",
       "4                       139                        92   \n",
       "\n",
       "   Hazard_Canyon_to_Pismo_Beach  Pismo_Beach_to_Pt_Sal  \\\n",
       "0                             4                      0   \n",
       "1                            24                      0   \n",
       "2                            30                     10   \n",
       "3                            54                     10   \n",
       "4                            71                     14   \n",
       "\n",
       "   Pt_Sal_to_Pt_Conception  SE_of_Pt_Conception  \n",
       "0                      NaN                  NaN  \n",
       "1                      NaN                  NaN  \n",
       "2                      NaN                  NaN  \n",
       "3                      NaN                  NaN  \n",
       "4                      NaN                  NaN  "
      ]
     },
     "execution_count": 53,
     "metadata": {},
     "output_type": "execute_result"
    }
   ],
   "source": [
    "names = stranded_geo.columns[2:]\n",
    "bins = location_coords.Latitude\n",
    "\n",
    "census_region_dict = {}\n",
    "masks = binning(merged_df,bins)\n",
    "\n",
    "for i in range(len(masks)):\n",
    "    census_region_dict[names[i]] = merged_df[masks[i]].groupby('Year').total_otters.sum()\n",
    "\n",
    "census_region_df = pd.DataFrame(census_region_dict).reset_index()\n",
    "census_region_df.head()"
   ]
  },
  {
   "cell_type": "code",
   "execution_count": 54,
   "metadata": {
    "id": "w07Rh3U9Y6iR",
    "outputId": "b8eb0b7c-ea55-4bf8-f5c9-3b26727cab4b"
   },
   "outputs": [
    {
     "name": "stdout",
     "output_type": "stream",
     "text": [
      "<class 'pandas.core.frame.DataFrame'>\n",
      "RangeIndex: 29 entries, 0 to 28\n",
      "Data columns (total 15 columns):\n",
      " #   Column                         Non-Null Count  Dtype  \n",
      "---  ------                         --------------  -----  \n",
      " 0   Year                           29 non-null     float64\n",
      " 1   North_of_Pigeon_Pt             0 non-null      float64\n",
      " 2   Pigeon_Pt_to_Capitola          29 non-null     int64  \n",
      " 3   Capitola_to_Seaside            29 non-null     int64  \n",
      " 4   Seaside_to_Pt_Lobos            29 non-null     int64  \n",
      " 5   Pt_Lobos_to_Pt_Sur             29 non-null     int64  \n",
      " 6   Pt_Sur_to_Dolan_Rock           29 non-null     int64  \n",
      " 7   Dolan_Rock_to_C_San_Martin     29 non-null     int64  \n",
      " 8   C_San_Martin_to_San_Simeon_Pt  29 non-null     int64  \n",
      " 9   San_Simeon_Pt_to_Cayucos       29 non-null     int64  \n",
      " 10  Cayucos_to_Hazard_Canyon       29 non-null     int64  \n",
      " 11  Hazard_Canyon_to_Pismo_Beach   29 non-null     int64  \n",
      " 12  Pismo_Beach_to_Pt_Sal          29 non-null     int64  \n",
      " 13  Pt_Sal_to_Pt_Conception        23 non-null     float64\n",
      " 14  SE_of_Pt_Conception            15 non-null     float64\n",
      "dtypes: float64(4), int64(11)\n",
      "memory usage: 3.5 KB\n"
     ]
    }
   ],
   "source": [
    "census_region_df.info()"
   ]
  },
  {
   "cell_type": "markdown",
   "metadata": {
    "id": "DLCn9cgdY6iS"
   },
   "source": [
    "This dataframe contains the census data from 1985-2014 for each of the regions of the stranding dataset. We can see a lot of NaNs in this dataset and that's because for some areas, census information was no surveyed. For example, habitats beyond **North_of_Pigeon_Pt** were not surveyed for the census data. Nevertheless, this dataset captures otter data regionally which can be helpful during further analysis."
   ]
  },
  {
   "cell_type": "markdown",
   "metadata": {
    "id": "elMh4yzjY6iS"
   },
   "source": [
    "Since, census data is available till 2014, we need to clip the stranded_geo data till 2014 as well, to make a fair analysis.\n",
    "\n",
    "Also, we added tags (census/stranding) to the corresponding dataset to help differentiate the data after merging the two dataframes."
   ]
  },
  {
   "cell_type": "code",
   "execution_count": 55,
   "metadata": {
    "id": "LNj8w66bY6iS"
   },
   "outputs": [],
   "source": [
    "stranded_geo = stranded_geo_orig[stranded_geo_orig.Year <= 2014]\n",
    "stranded_geo.drop(['Total_Strandings'],axis=1,inplace=True)\n",
    "\n",
    "census_region_df['Type'] = ['Census']*len(census_region_df)\n",
    "stranded_geo['Type'] = ['Strandings']*len(stranded_geo)"
   ]
  },
  {
   "cell_type": "code",
   "execution_count": 56,
   "metadata": {
    "id": "3MMz65ypY6iS",
    "outputId": "1205ff98-eec7-4865-c17a-946be9279b91"
   },
   "outputs": [
    {
     "data": {
      "text/html": [
       "<div>\n",
       "<style scoped>\n",
       "    .dataframe tbody tr th:only-of-type {\n",
       "        vertical-align: middle;\n",
       "    }\n",
       "\n",
       "    .dataframe tbody tr th {\n",
       "        vertical-align: top;\n",
       "    }\n",
       "\n",
       "    .dataframe thead th {\n",
       "        text-align: right;\n",
       "    }\n",
       "</style>\n",
       "<table border=\"1\" class=\"dataframe\">\n",
       "  <thead>\n",
       "    <tr style=\"text-align: right;\">\n",
       "      <th></th>\n",
       "      <th>Year</th>\n",
       "      <th>North_of_Pigeon_Pt</th>\n",
       "      <th>Pigeon_Pt_to_Capitola</th>\n",
       "      <th>Capitola_to_Seaside</th>\n",
       "      <th>Seaside_to_Pt_Lobos</th>\n",
       "      <th>Pt_Lobos_to_Pt_Sur</th>\n",
       "      <th>Pt_Sur_to_Dolan_Rock</th>\n",
       "      <th>Dolan_Rock_to_C_San_Martin</th>\n",
       "      <th>C_San_Martin_to_San_Simeon_Pt</th>\n",
       "      <th>San_Simeon_Pt_to_Cayucos</th>\n",
       "      <th>Cayucos_to_Hazard_Canyon</th>\n",
       "      <th>Hazard_Canyon_to_Pismo_Beach</th>\n",
       "      <th>Pismo_Beach_to_Pt_Sal</th>\n",
       "      <th>Pt_Sal_to_Pt_Conception</th>\n",
       "      <th>SE_of_Pt_Conception</th>\n",
       "      <th>Type</th>\n",
       "    </tr>\n",
       "  </thead>\n",
       "  <tbody>\n",
       "    <tr>\n",
       "      <th>0</th>\n",
       "      <td>1985.0</td>\n",
       "      <td>NaN</td>\n",
       "      <td>0</td>\n",
       "      <td>73</td>\n",
       "      <td>134</td>\n",
       "      <td>126</td>\n",
       "      <td>125</td>\n",
       "      <td>122</td>\n",
       "      <td>160</td>\n",
       "      <td>126</td>\n",
       "      <td>80</td>\n",
       "      <td>4</td>\n",
       "      <td>0</td>\n",
       "      <td>NaN</td>\n",
       "      <td>NaN</td>\n",
       "      <td>Census</td>\n",
       "    </tr>\n",
       "    <tr>\n",
       "      <th>1</th>\n",
       "      <td>1986.0</td>\n",
       "      <td>NaN</td>\n",
       "      <td>0</td>\n",
       "      <td>78</td>\n",
       "      <td>146</td>\n",
       "      <td>141</td>\n",
       "      <td>133</td>\n",
       "      <td>144</td>\n",
       "      <td>189</td>\n",
       "      <td>129</td>\n",
       "      <td>97</td>\n",
       "      <td>24</td>\n",
       "      <td>0</td>\n",
       "      <td>NaN</td>\n",
       "      <td>NaN</td>\n",
       "      <td>Census</td>\n",
       "    </tr>\n",
       "    <tr>\n",
       "      <th>2</th>\n",
       "      <td>1987.0</td>\n",
       "      <td>NaN</td>\n",
       "      <td>3</td>\n",
       "      <td>74</td>\n",
       "      <td>191</td>\n",
       "      <td>182</td>\n",
       "      <td>142</td>\n",
       "      <td>147</td>\n",
       "      <td>232</td>\n",
       "      <td>119</td>\n",
       "      <td>95</td>\n",
       "      <td>30</td>\n",
       "      <td>10</td>\n",
       "      <td>NaN</td>\n",
       "      <td>NaN</td>\n",
       "      <td>Census</td>\n",
       "    </tr>\n",
       "    <tr>\n",
       "      <th>3</th>\n",
       "      <td>1988.0</td>\n",
       "      <td>NaN</td>\n",
       "      <td>3</td>\n",
       "      <td>74</td>\n",
       "      <td>195</td>\n",
       "      <td>189</td>\n",
       "      <td>144</td>\n",
       "      <td>168</td>\n",
       "      <td>258</td>\n",
       "      <td>139</td>\n",
       "      <td>93</td>\n",
       "      <td>54</td>\n",
       "      <td>10</td>\n",
       "      <td>NaN</td>\n",
       "      <td>NaN</td>\n",
       "      <td>Census</td>\n",
       "    </tr>\n",
       "    <tr>\n",
       "      <th>4</th>\n",
       "      <td>1989.0</td>\n",
       "      <td>NaN</td>\n",
       "      <td>9</td>\n",
       "      <td>83</td>\n",
       "      <td>212</td>\n",
       "      <td>211</td>\n",
       "      <td>178</td>\n",
       "      <td>166</td>\n",
       "      <td>263</td>\n",
       "      <td>139</td>\n",
       "      <td>92</td>\n",
       "      <td>71</td>\n",
       "      <td>14</td>\n",
       "      <td>NaN</td>\n",
       "      <td>NaN</td>\n",
       "      <td>Census</td>\n",
       "    </tr>\n",
       "  </tbody>\n",
       "</table>\n",
       "</div>"
      ],
      "text/plain": [
       "     Year  North_of_Pigeon_Pt  Pigeon_Pt_to_Capitola  Capitola_to_Seaside  \\\n",
       "0  1985.0                 NaN                      0                   73   \n",
       "1  1986.0                 NaN                      0                   78   \n",
       "2  1987.0                 NaN                      3                   74   \n",
       "3  1988.0                 NaN                      3                   74   \n",
       "4  1989.0                 NaN                      9                   83   \n",
       "\n",
       "   Seaside_to_Pt_Lobos  Pt_Lobos_to_Pt_Sur  Pt_Sur_to_Dolan_Rock  \\\n",
       "0                  134                 126                   125   \n",
       "1                  146                 141                   133   \n",
       "2                  191                 182                   142   \n",
       "3                  195                 189                   144   \n",
       "4                  212                 211                   178   \n",
       "\n",
       "   Dolan_Rock_to_C_San_Martin  C_San_Martin_to_San_Simeon_Pt  \\\n",
       "0                         122                            160   \n",
       "1                         144                            189   \n",
       "2                         147                            232   \n",
       "3                         168                            258   \n",
       "4                         166                            263   \n",
       "\n",
       "   San_Simeon_Pt_to_Cayucos  Cayucos_to_Hazard_Canyon  \\\n",
       "0                       126                        80   \n",
       "1                       129                        97   \n",
       "2                       119                        95   \n",
       "3                       139                        93   \n",
       "4                       139                        92   \n",
       "\n",
       "   Hazard_Canyon_to_Pismo_Beach  Pismo_Beach_to_Pt_Sal  \\\n",
       "0                             4                      0   \n",
       "1                            24                      0   \n",
       "2                            30                     10   \n",
       "3                            54                     10   \n",
       "4                            71                     14   \n",
       "\n",
       "   Pt_Sal_to_Pt_Conception  SE_of_Pt_Conception    Type  \n",
       "0                      NaN                  NaN  Census  \n",
       "1                      NaN                  NaN  Census  \n",
       "2                      NaN                  NaN  Census  \n",
       "3                      NaN                  NaN  Census  \n",
       "4                      NaN                  NaN  Census  "
      ]
     },
     "execution_count": 56,
     "metadata": {},
     "output_type": "execute_result"
    }
   ],
   "source": [
    "region_df = pd.concat([census_region_df,stranded_geo],ignore_index=True)\n",
    "region_df.head()"
   ]
  },
  {
   "cell_type": "markdown",
   "metadata": {
    "id": "Xj2Ytze1Y6iT"
   },
   "source": [
    "We plot the population and stranding cases trend for each region over time."
   ]
  },
  {
   "cell_type": "code",
   "execution_count": 57,
   "metadata": {
    "id": "-_xgJCF8Y6iT"
   },
   "outputs": [],
   "source": [
    "melted_df = pd.melt(region_df, \n",
    "                    id_vars=['Year','Type'], \n",
    "                    value_vars=region_df.columns[1:-1], \n",
    "                    var_name='Location', \n",
    "                    value_name='Otter_Count')"
   ]
  },
  {
   "cell_type": "code",
   "execution_count": 58,
   "metadata": {
    "id": "0bUh7GHPY6iT",
    "outputId": "1a07b9bd-fe29-4076-ee5d-a76bfa8107b1"
   },
   "outputs": [
    {
     "data": {
      "text/html": [
       "\n",
       "<div id=\"altair-viz-7950a1e2d4584a26823e6dd2c169e3e1\"></div>\n",
       "<script type=\"text/javascript\">\n",
       "  (function(spec, embedOpt){\n",
       "    let outputDiv = document.currentScript.previousElementSibling;\n",
       "    if (outputDiv.id !== \"altair-viz-7950a1e2d4584a26823e6dd2c169e3e1\") {\n",
       "      outputDiv = document.getElementById(\"altair-viz-7950a1e2d4584a26823e6dd2c169e3e1\");\n",
       "    }\n",
       "    const paths = {\n",
       "      \"vega\": \"https://cdn.jsdelivr.net/npm//vega@5?noext\",\n",
       "      \"vega-lib\": \"https://cdn.jsdelivr.net/npm//vega-lib?noext\",\n",
       "      \"vega-lite\": \"https://cdn.jsdelivr.net/npm//vega-lite@4.8.1?noext\",\n",
       "      \"vega-embed\": \"https://cdn.jsdelivr.net/npm//vega-embed@6?noext\",\n",
       "    };\n",
       "\n",
       "    function loadScript(lib) {\n",
       "      return new Promise(function(resolve, reject) {\n",
       "        var s = document.createElement('script');\n",
       "        s.src = paths[lib];\n",
       "        s.async = true;\n",
       "        s.onload = () => resolve(paths[lib]);\n",
       "        s.onerror = () => reject(`Error loading script: ${paths[lib]}`);\n",
       "        document.getElementsByTagName(\"head\")[0].appendChild(s);\n",
       "      });\n",
       "    }\n",
       "\n",
       "    function showError(err) {\n",
       "      outputDiv.innerHTML = `<div class=\"error\" style=\"color:red;\">${err}</div>`;\n",
       "      throw err;\n",
       "    }\n",
       "\n",
       "    function displayChart(vegaEmbed) {\n",
       "      vegaEmbed(outputDiv, spec, embedOpt)\n",
       "        .catch(err => showError(`Javascript Error: ${err.message}<br>This usually means there's a typo in your chart specification. See the javascript console for the full traceback.`));\n",
       "    }\n",
       "\n",
       "    if(typeof define === \"function\" && define.amd) {\n",
       "      requirejs.config({paths});\n",
       "      require([\"vega-embed\"], displayChart, err => showError(`Error loading script: ${err.message}`));\n",
       "    } else if (typeof vegaEmbed === \"function\") {\n",
       "      displayChart(vegaEmbed);\n",
       "    } else {\n",
       "      loadScript(\"vega\")\n",
       "        .then(() => loadScript(\"vega-lite\"))\n",
       "        .then(() => loadScript(\"vega-embed\"))\n",
       "        .catch(showError)\n",
       "        .then(() => displayChart(vegaEmbed));\n",
       "    }\n",
       "  })({\"config\": {\"view\": {\"continuousWidth\": 400, \"continuousHeight\": 300}, \"axis\": {\"grid\": false, \"labelFontSize\": 12, \"titleFontSize\": 12}, \"legend\": {\"labelFontSize\": 12, \"titleFontSize\": 12}, \"title\": {\"fontSize\": 13}}, \"data\": {\"name\": \"data-bb5bba11a9e9b71851c52042ebcaa580\"}, \"facet\": {\"type\": \"nominal\", \"field\": \"Location\", \"sort\": {\"field\": \"Latitude\", \"order\": \"ascending\"}}, \"spec\": {\"mark\": \"line\", \"encoding\": {\"color\": {\"type\": \"nominal\", \"field\": \"Type\"}, \"x\": {\"type\": \"quantitative\", \"field\": \"Year\"}, \"y\": {\"type\": \"quantitative\", \"field\": \"Otter_Count\"}}, \"height\": 100, \"width\": 150}, \"columns\": 5, \"title\": \"Population and stranding cases trend of different regions over time\", \"$schema\": \"https://vega.github.io/schema/vega-lite/v4.8.1.json\", \"datasets\": {\"data-bb5bba11a9e9b71851c52042ebcaa580\": [{\"Year\": 1985.0, \"Type\": \"Census\", \"Location\": \"North_of_Pigeon_Pt\", \"Otter_Count\": null}, {\"Year\": 1986.0, \"Type\": \"Census\", \"Location\": \"North_of_Pigeon_Pt\", \"Otter_Count\": null}, {\"Year\": 1987.0, \"Type\": \"Census\", \"Location\": \"North_of_Pigeon_Pt\", \"Otter_Count\": null}, {\"Year\": 1988.0, \"Type\": \"Census\", \"Location\": \"North_of_Pigeon_Pt\", \"Otter_Count\": null}, {\"Year\": 1989.0, \"Type\": \"Census\", \"Location\": \"North_of_Pigeon_Pt\", \"Otter_Count\": null}, {\"Year\": 1990.0, \"Type\": \"Census\", \"Location\": \"North_of_Pigeon_Pt\", \"Otter_Count\": null}, {\"Year\": 1991.0, \"Type\": \"Census\", \"Location\": \"North_of_Pigeon_Pt\", \"Otter_Count\": null}, {\"Year\": 1992.0, \"Type\": \"Census\", \"Location\": \"North_of_Pigeon_Pt\", \"Otter_Count\": null}, {\"Year\": 1993.0, \"Type\": \"Census\", \"Location\": \"North_of_Pigeon_Pt\", \"Otter_Count\": null}, {\"Year\": 1994.0, \"Type\": \"Census\", \"Location\": \"North_of_Pigeon_Pt\", \"Otter_Count\": null}, {\"Year\": 1995.0, \"Type\": \"Census\", \"Location\": \"North_of_Pigeon_Pt\", \"Otter_Count\": null}, {\"Year\": 1996.0, \"Type\": \"Census\", \"Location\": \"North_of_Pigeon_Pt\", \"Otter_Count\": null}, {\"Year\": 1997.0, \"Type\": \"Census\", \"Location\": \"North_of_Pigeon_Pt\", \"Otter_Count\": null}, {\"Year\": 1998.0, \"Type\": \"Census\", \"Location\": \"North_of_Pigeon_Pt\", \"Otter_Count\": null}, {\"Year\": 1999.0, \"Type\": \"Census\", \"Location\": \"North_of_Pigeon_Pt\", \"Otter_Count\": null}, {\"Year\": 2000.0, \"Type\": \"Census\", \"Location\": \"North_of_Pigeon_Pt\", \"Otter_Count\": null}, {\"Year\": 2001.0, \"Type\": \"Census\", \"Location\": \"North_of_Pigeon_Pt\", \"Otter_Count\": null}, {\"Year\": 2002.0, \"Type\": \"Census\", \"Location\": \"North_of_Pigeon_Pt\", \"Otter_Count\": null}, {\"Year\": 2003.0, \"Type\": \"Census\", \"Location\": \"North_of_Pigeon_Pt\", \"Otter_Count\": null}, {\"Year\": 2004.0, \"Type\": \"Census\", \"Location\": \"North_of_Pigeon_Pt\", \"Otter_Count\": null}, {\"Year\": 2005.0, \"Type\": \"Census\", \"Location\": \"North_of_Pigeon_Pt\", \"Otter_Count\": null}, {\"Year\": 2006.0, \"Type\": \"Census\", \"Location\": \"North_of_Pigeon_Pt\", \"Otter_Count\": null}, {\"Year\": 2007.0, \"Type\": \"Census\", \"Location\": \"North_of_Pigeon_Pt\", \"Otter_Count\": null}, {\"Year\": 2008.0, \"Type\": \"Census\", \"Location\": \"North_of_Pigeon_Pt\", \"Otter_Count\": null}, {\"Year\": 2009.0, \"Type\": \"Census\", \"Location\": \"North_of_Pigeon_Pt\", \"Otter_Count\": null}, {\"Year\": 2010.0, \"Type\": \"Census\", \"Location\": \"North_of_Pigeon_Pt\", \"Otter_Count\": null}, {\"Year\": 2012.0, \"Type\": \"Census\", \"Location\": \"North_of_Pigeon_Pt\", \"Otter_Count\": null}, {\"Year\": 2013.0, \"Type\": \"Census\", \"Location\": \"North_of_Pigeon_Pt\", \"Otter_Count\": null}, {\"Year\": 2014.0, \"Type\": \"Census\", \"Location\": \"North_of_Pigeon_Pt\", \"Otter_Count\": null}, {\"Year\": 1985.0, \"Type\": \"Strandings\", \"Location\": \"North_of_Pigeon_Pt\", \"Otter_Count\": 0.0}, {\"Year\": 1986.0, \"Type\": \"Strandings\", \"Location\": \"North_of_Pigeon_Pt\", \"Otter_Count\": 3.0}, {\"Year\": 1987.0, \"Type\": \"Strandings\", \"Location\": \"North_of_Pigeon_Pt\", \"Otter_Count\": 5.0}, {\"Year\": 1988.0, \"Type\": \"Strandings\", \"Location\": \"North_of_Pigeon_Pt\", \"Otter_Count\": 6.0}, {\"Year\": 1989.0, \"Type\": \"Strandings\", \"Location\": \"North_of_Pigeon_Pt\", \"Otter_Count\": 2.0}, {\"Year\": 1990.0, \"Type\": \"Strandings\", \"Location\": \"North_of_Pigeon_Pt\", \"Otter_Count\": 3.0}, {\"Year\": 1991.0, \"Type\": \"Strandings\", \"Location\": \"North_of_Pigeon_Pt\", \"Otter_Count\": 3.0}, {\"Year\": 1992.0, \"Type\": \"Strandings\", \"Location\": \"North_of_Pigeon_Pt\", \"Otter_Count\": 3.0}, {\"Year\": 1993.0, \"Type\": \"Strandings\", \"Location\": \"North_of_Pigeon_Pt\", \"Otter_Count\": 10.0}, {\"Year\": 1994.0, \"Type\": \"Strandings\", \"Location\": \"North_of_Pigeon_Pt\", \"Otter_Count\": 5.0}, {\"Year\": 1995.0, \"Type\": \"Strandings\", \"Location\": \"North_of_Pigeon_Pt\", \"Otter_Count\": 10.0}, {\"Year\": 1996.0, \"Type\": \"Strandings\", \"Location\": \"North_of_Pigeon_Pt\", \"Otter_Count\": 13.0}, {\"Year\": 1997.0, \"Type\": \"Strandings\", \"Location\": \"North_of_Pigeon_Pt\", \"Otter_Count\": 7.0}, {\"Year\": 1998.0, \"Type\": \"Strandings\", \"Location\": \"North_of_Pigeon_Pt\", \"Otter_Count\": 20.0}, {\"Year\": 1999.0, \"Type\": \"Strandings\", \"Location\": \"North_of_Pigeon_Pt\", \"Otter_Count\": 12.0}, {\"Year\": 2000.0, \"Type\": \"Strandings\", \"Location\": \"North_of_Pigeon_Pt\", \"Otter_Count\": 11.0}, {\"Year\": 2001.0, \"Type\": \"Strandings\", \"Location\": \"North_of_Pigeon_Pt\", \"Otter_Count\": 7.0}, {\"Year\": 2002.0, \"Type\": \"Strandings\", \"Location\": \"North_of_Pigeon_Pt\", \"Otter_Count\": 5.0}, {\"Year\": 2003.0, \"Type\": \"Strandings\", \"Location\": \"North_of_Pigeon_Pt\", \"Otter_Count\": 9.0}, {\"Year\": 2004.0, \"Type\": \"Strandings\", \"Location\": \"North_of_Pigeon_Pt\", \"Otter_Count\": 14.0}, {\"Year\": 2005.0, \"Type\": \"Strandings\", \"Location\": \"North_of_Pigeon_Pt\", \"Otter_Count\": 8.0}, {\"Year\": 2006.0, \"Type\": \"Strandings\", \"Location\": \"North_of_Pigeon_Pt\", \"Otter_Count\": 9.0}, {\"Year\": 2007.0, \"Type\": \"Strandings\", \"Location\": \"North_of_Pigeon_Pt\", \"Otter_Count\": 11.0}, {\"Year\": 2008.0, \"Type\": \"Strandings\", \"Location\": \"North_of_Pigeon_Pt\", \"Otter_Count\": 11.0}, {\"Year\": 2009.0, \"Type\": \"Strandings\", \"Location\": \"North_of_Pigeon_Pt\", \"Otter_Count\": 7.0}, {\"Year\": 2010.0, \"Type\": \"Strandings\", \"Location\": \"North_of_Pigeon_Pt\", \"Otter_Count\": 6.0}, {\"Year\": 2011.0, \"Type\": \"Strandings\", \"Location\": \"North_of_Pigeon_Pt\", \"Otter_Count\": 10.0}, {\"Year\": 2012.0, \"Type\": \"Strandings\", \"Location\": \"North_of_Pigeon_Pt\", \"Otter_Count\": 5.0}, {\"Year\": 2013.0, \"Type\": \"Strandings\", \"Location\": \"North_of_Pigeon_Pt\", \"Otter_Count\": 1.0}, {\"Year\": 2014.0, \"Type\": \"Strandings\", \"Location\": \"North_of_Pigeon_Pt\", \"Otter_Count\": 8.0}, {\"Year\": 1985.0, \"Type\": \"Census\", \"Location\": \"Pigeon_Pt_to_Capitola\", \"Otter_Count\": 0.0}, {\"Year\": 1986.0, \"Type\": \"Census\", \"Location\": \"Pigeon_Pt_to_Capitola\", \"Otter_Count\": 0.0}, {\"Year\": 1987.0, \"Type\": \"Census\", \"Location\": \"Pigeon_Pt_to_Capitola\", \"Otter_Count\": 3.0}, {\"Year\": 1988.0, \"Type\": \"Census\", \"Location\": \"Pigeon_Pt_to_Capitola\", \"Otter_Count\": 3.0}, {\"Year\": 1989.0, \"Type\": \"Census\", \"Location\": \"Pigeon_Pt_to_Capitola\", \"Otter_Count\": 9.0}, {\"Year\": 1990.0, \"Type\": \"Census\", \"Location\": \"Pigeon_Pt_to_Capitola\", \"Otter_Count\": 0.0}, {\"Year\": 1991.0, \"Type\": \"Census\", \"Location\": \"Pigeon_Pt_to_Capitola\", \"Otter_Count\": 0.0}, {\"Year\": 1992.0, \"Type\": \"Census\", \"Location\": \"Pigeon_Pt_to_Capitola\", \"Otter_Count\": 4.0}, {\"Year\": 1993.0, \"Type\": \"Census\", \"Location\": \"Pigeon_Pt_to_Capitola\", \"Otter_Count\": 16.0}, {\"Year\": 1994.0, \"Type\": \"Census\", \"Location\": \"Pigeon_Pt_to_Capitola\", \"Otter_Count\": 24.0}, {\"Year\": 1995.0, \"Type\": \"Census\", \"Location\": \"Pigeon_Pt_to_Capitola\", \"Otter_Count\": 25.0}, {\"Year\": 1996.0, \"Type\": \"Census\", \"Location\": \"Pigeon_Pt_to_Capitola\", \"Otter_Count\": 23.0}, {\"Year\": 1997.0, \"Type\": \"Census\", \"Location\": \"Pigeon_Pt_to_Capitola\", \"Otter_Count\": 22.0}, {\"Year\": 1998.0, \"Type\": \"Census\", \"Location\": \"Pigeon_Pt_to_Capitola\", \"Otter_Count\": 11.0}, {\"Year\": 1999.0, \"Type\": \"Census\", \"Location\": \"Pigeon_Pt_to_Capitola\", \"Otter_Count\": 3.0}, {\"Year\": 2000.0, \"Type\": \"Census\", \"Location\": \"Pigeon_Pt_to_Capitola\", \"Otter_Count\": 6.0}, {\"Year\": 2001.0, \"Type\": \"Census\", \"Location\": \"Pigeon_Pt_to_Capitola\", \"Otter_Count\": 15.0}, {\"Year\": 2002.0, \"Type\": \"Census\", \"Location\": \"Pigeon_Pt_to_Capitola\", \"Otter_Count\": 24.0}, {\"Year\": 2003.0, \"Type\": \"Census\", \"Location\": \"Pigeon_Pt_to_Capitola\", \"Otter_Count\": 23.0}, {\"Year\": 2004.0, \"Type\": \"Census\", \"Location\": \"Pigeon_Pt_to_Capitola\", \"Otter_Count\": 22.0}, {\"Year\": 2005.0, \"Type\": \"Census\", \"Location\": \"Pigeon_Pt_to_Capitola\", \"Otter_Count\": 25.0}, {\"Year\": 2006.0, \"Type\": \"Census\", \"Location\": \"Pigeon_Pt_to_Capitola\", \"Otter_Count\": 28.0}, {\"Year\": 2007.0, \"Type\": \"Census\", \"Location\": \"Pigeon_Pt_to_Capitola\", \"Otter_Count\": 28.0}, {\"Year\": 2008.0, \"Type\": \"Census\", \"Location\": \"Pigeon_Pt_to_Capitola\", \"Otter_Count\": 24.0}, {\"Year\": 2009.0, \"Type\": \"Census\", \"Location\": \"Pigeon_Pt_to_Capitola\", \"Otter_Count\": 13.0}, {\"Year\": 2010.0, \"Type\": \"Census\", \"Location\": \"Pigeon_Pt_to_Capitola\", \"Otter_Count\": 26.0}, {\"Year\": 2012.0, \"Type\": \"Census\", \"Location\": \"Pigeon_Pt_to_Capitola\", \"Otter_Count\": 22.0}, {\"Year\": 2013.0, \"Type\": \"Census\", \"Location\": \"Pigeon_Pt_to_Capitola\", \"Otter_Count\": 28.0}, {\"Year\": 2014.0, \"Type\": \"Census\", \"Location\": \"Pigeon_Pt_to_Capitola\", \"Otter_Count\": 35.0}, {\"Year\": 1985.0, \"Type\": \"Strandings\", \"Location\": \"Pigeon_Pt_to_Capitola\", \"Otter_Count\": 1.0}, {\"Year\": 1986.0, \"Type\": \"Strandings\", \"Location\": \"Pigeon_Pt_to_Capitola\", \"Otter_Count\": 2.0}, {\"Year\": 1987.0, \"Type\": \"Strandings\", \"Location\": \"Pigeon_Pt_to_Capitola\", \"Otter_Count\": 0.0}, {\"Year\": 1988.0, \"Type\": \"Strandings\", \"Location\": \"Pigeon_Pt_to_Capitola\", \"Otter_Count\": 2.0}, {\"Year\": 1989.0, \"Type\": \"Strandings\", \"Location\": \"Pigeon_Pt_to_Capitola\", \"Otter_Count\": 6.0}, {\"Year\": 1990.0, \"Type\": \"Strandings\", \"Location\": \"Pigeon_Pt_to_Capitola\", \"Otter_Count\": 6.0}, {\"Year\": 1991.0, \"Type\": \"Strandings\", \"Location\": \"Pigeon_Pt_to_Capitola\", \"Otter_Count\": 8.0}, {\"Year\": 1992.0, \"Type\": \"Strandings\", \"Location\": \"Pigeon_Pt_to_Capitola\", \"Otter_Count\": 4.0}, {\"Year\": 1993.0, \"Type\": \"Strandings\", \"Location\": \"Pigeon_Pt_to_Capitola\", \"Otter_Count\": 9.0}, {\"Year\": 1994.0, \"Type\": \"Strandings\", \"Location\": \"Pigeon_Pt_to_Capitola\", \"Otter_Count\": 7.0}, {\"Year\": 1995.0, \"Type\": \"Strandings\", \"Location\": \"Pigeon_Pt_to_Capitola\", \"Otter_Count\": 7.0}, {\"Year\": 1996.0, \"Type\": \"Strandings\", \"Location\": \"Pigeon_Pt_to_Capitola\", \"Otter_Count\": 9.0}, {\"Year\": 1997.0, \"Type\": \"Strandings\", \"Location\": \"Pigeon_Pt_to_Capitola\", \"Otter_Count\": 7.0}, {\"Year\": 1998.0, \"Type\": \"Strandings\", \"Location\": \"Pigeon_Pt_to_Capitola\", \"Otter_Count\": 14.0}, {\"Year\": 1999.0, \"Type\": \"Strandings\", \"Location\": \"Pigeon_Pt_to_Capitola\", \"Otter_Count\": 15.0}, {\"Year\": 2000.0, \"Type\": \"Strandings\", \"Location\": \"Pigeon_Pt_to_Capitola\", \"Otter_Count\": 11.0}, {\"Year\": 2001.0, \"Type\": \"Strandings\", \"Location\": \"Pigeon_Pt_to_Capitola\", \"Otter_Count\": 8.0}, {\"Year\": 2002.0, \"Type\": \"Strandings\", \"Location\": \"Pigeon_Pt_to_Capitola\", \"Otter_Count\": 9.0}, {\"Year\": 2003.0, \"Type\": \"Strandings\", \"Location\": \"Pigeon_Pt_to_Capitola\", \"Otter_Count\": 12.0}, {\"Year\": 2004.0, \"Type\": \"Strandings\", \"Location\": \"Pigeon_Pt_to_Capitola\", \"Otter_Count\": 17.0}, {\"Year\": 2005.0, \"Type\": \"Strandings\", \"Location\": \"Pigeon_Pt_to_Capitola\", \"Otter_Count\": 28.0}, {\"Year\": 2006.0, \"Type\": \"Strandings\", \"Location\": \"Pigeon_Pt_to_Capitola\", \"Otter_Count\": 20.0}, {\"Year\": 2007.0, \"Type\": \"Strandings\", \"Location\": \"Pigeon_Pt_to_Capitola\", \"Otter_Count\": 22.0}, {\"Year\": 2008.0, \"Type\": \"Strandings\", \"Location\": \"Pigeon_Pt_to_Capitola\", \"Otter_Count\": 12.0}, {\"Year\": 2009.0, \"Type\": \"Strandings\", \"Location\": \"Pigeon_Pt_to_Capitola\", \"Otter_Count\": 13.0}, {\"Year\": 2010.0, \"Type\": \"Strandings\", \"Location\": \"Pigeon_Pt_to_Capitola\", \"Otter_Count\": 22.0}, {\"Year\": 2011.0, \"Type\": \"Strandings\", \"Location\": \"Pigeon_Pt_to_Capitola\", \"Otter_Count\": 24.0}, {\"Year\": 2012.0, \"Type\": \"Strandings\", \"Location\": \"Pigeon_Pt_to_Capitola\", \"Otter_Count\": 22.0}, {\"Year\": 2013.0, \"Type\": \"Strandings\", \"Location\": \"Pigeon_Pt_to_Capitola\", \"Otter_Count\": 17.0}, {\"Year\": 2014.0, \"Type\": \"Strandings\", \"Location\": \"Pigeon_Pt_to_Capitola\", \"Otter_Count\": 35.0}, {\"Year\": 1985.0, \"Type\": \"Census\", \"Location\": \"Capitola_to_Seaside\", \"Otter_Count\": 73.0}, {\"Year\": 1986.0, \"Type\": \"Census\", \"Location\": \"Capitola_to_Seaside\", \"Otter_Count\": 78.0}, {\"Year\": 1987.0, \"Type\": \"Census\", \"Location\": \"Capitola_to_Seaside\", \"Otter_Count\": 74.0}, {\"Year\": 1988.0, \"Type\": \"Census\", \"Location\": \"Capitola_to_Seaside\", \"Otter_Count\": 74.0}, {\"Year\": 1989.0, \"Type\": \"Census\", \"Location\": \"Capitola_to_Seaside\", \"Otter_Count\": 83.0}, {\"Year\": 1990.0, \"Type\": \"Census\", \"Location\": \"Capitola_to_Seaside\", \"Otter_Count\": 104.0}, {\"Year\": 1991.0, \"Type\": \"Census\", \"Location\": \"Capitola_to_Seaside\", \"Otter_Count\": 134.0}, {\"Year\": 1992.0, \"Type\": \"Census\", \"Location\": \"Capitola_to_Seaside\", \"Otter_Count\": 164.0}, {\"Year\": 1993.0, \"Type\": \"Census\", \"Location\": \"Capitola_to_Seaside\", \"Otter_Count\": 186.0}, {\"Year\": 1994.0, \"Type\": \"Census\", \"Location\": \"Capitola_to_Seaside\", \"Otter_Count\": 202.0}, {\"Year\": 1995.0, \"Type\": \"Census\", \"Location\": \"Capitola_to_Seaside\", \"Otter_Count\": 173.0}, {\"Year\": 1996.0, \"Type\": \"Census\", \"Location\": \"Capitola_to_Seaside\", \"Otter_Count\": 209.0}, {\"Year\": 1997.0, \"Type\": \"Census\", \"Location\": \"Capitola_to_Seaside\", \"Otter_Count\": 195.0}, {\"Year\": 1998.0, \"Type\": \"Census\", \"Location\": \"Capitola_to_Seaside\", \"Otter_Count\": 216.0}, {\"Year\": 1999.0, \"Type\": \"Census\", \"Location\": \"Capitola_to_Seaside\", \"Otter_Count\": 187.0}, {\"Year\": 2000.0, \"Type\": \"Census\", \"Location\": \"Capitola_to_Seaside\", \"Otter_Count\": 203.0}, {\"Year\": 2001.0, \"Type\": \"Census\", \"Location\": \"Capitola_to_Seaside\", \"Otter_Count\": 203.0}, {\"Year\": 2002.0, \"Type\": \"Census\", \"Location\": \"Capitola_to_Seaside\", \"Otter_Count\": 228.0}, {\"Year\": 2003.0, \"Type\": \"Census\", \"Location\": \"Capitola_to_Seaside\", \"Otter_Count\": 332.0}, {\"Year\": 2004.0, \"Type\": \"Census\", \"Location\": \"Capitola_to_Seaside\", \"Otter_Count\": 413.0}, {\"Year\": 2005.0, \"Type\": \"Census\", \"Location\": \"Capitola_to_Seaside\", \"Otter_Count\": 435.0}, {\"Year\": 2006.0, \"Type\": \"Census\", \"Location\": \"Capitola_to_Seaside\", \"Otter_Count\": 362.0}, {\"Year\": 2007.0, \"Type\": \"Census\", \"Location\": \"Capitola_to_Seaside\", \"Otter_Count\": 364.0}, {\"Year\": 2008.0, \"Type\": \"Census\", \"Location\": \"Capitola_to_Seaside\", \"Otter_Count\": 375.0}, {\"Year\": 2009.0, \"Type\": \"Census\", \"Location\": \"Capitola_to_Seaside\", \"Otter_Count\": 402.0}, {\"Year\": 2010.0, \"Type\": \"Census\", \"Location\": \"Capitola_to_Seaside\", \"Otter_Count\": 383.0}, {\"Year\": 2012.0, \"Type\": \"Census\", \"Location\": \"Capitola_to_Seaside\", \"Otter_Count\": 411.0}, {\"Year\": 2013.0, \"Type\": \"Census\", \"Location\": \"Capitola_to_Seaside\", \"Otter_Count\": 450.0}, {\"Year\": 2014.0, \"Type\": \"Census\", \"Location\": \"Capitola_to_Seaside\", \"Otter_Count\": 491.0}, {\"Year\": 1985.0, \"Type\": \"Strandings\", \"Location\": \"Capitola_to_Seaside\", \"Otter_Count\": 14.0}, {\"Year\": 1986.0, \"Type\": \"Strandings\", \"Location\": \"Capitola_to_Seaside\", \"Otter_Count\": 32.0}, {\"Year\": 1987.0, \"Type\": \"Strandings\", \"Location\": \"Capitola_to_Seaside\", \"Otter_Count\": 27.0}, {\"Year\": 1988.0, \"Type\": \"Strandings\", \"Location\": \"Capitola_to_Seaside\", \"Otter_Count\": 10.0}, {\"Year\": 1989.0, \"Type\": \"Strandings\", \"Location\": \"Capitola_to_Seaside\", \"Otter_Count\": 23.0}, {\"Year\": 1990.0, \"Type\": \"Strandings\", \"Location\": \"Capitola_to_Seaside\", \"Otter_Count\": 18.0}, {\"Year\": 1991.0, \"Type\": \"Strandings\", \"Location\": \"Capitola_to_Seaside\", \"Otter_Count\": 15.0}, {\"Year\": 1992.0, \"Type\": \"Strandings\", \"Location\": \"Capitola_to_Seaside\", \"Otter_Count\": 22.0}, {\"Year\": 1993.0, \"Type\": \"Strandings\", \"Location\": \"Capitola_to_Seaside\", \"Otter_Count\": 31.0}, {\"Year\": 1994.0, \"Type\": \"Strandings\", \"Location\": \"Capitola_to_Seaside\", \"Otter_Count\": 28.0}, {\"Year\": 1995.0, \"Type\": \"Strandings\", \"Location\": \"Capitola_to_Seaside\", \"Otter_Count\": 39.0}, {\"Year\": 1996.0, \"Type\": \"Strandings\", \"Location\": \"Capitola_to_Seaside\", \"Otter_Count\": 42.0}, {\"Year\": 1997.0, \"Type\": \"Strandings\", \"Location\": \"Capitola_to_Seaside\", \"Otter_Count\": 38.0}, {\"Year\": 1998.0, \"Type\": \"Strandings\", \"Location\": \"Capitola_to_Seaside\", \"Otter_Count\": 48.0}, {\"Year\": 1999.0, \"Type\": \"Strandings\", \"Location\": \"Capitola_to_Seaside\", \"Otter_Count\": 50.0}, {\"Year\": 2000.0, \"Type\": \"Strandings\", \"Location\": \"Capitola_to_Seaside\", \"Otter_Count\": 29.0}, {\"Year\": 2001.0, \"Type\": \"Strandings\", \"Location\": \"Capitola_to_Seaside\", \"Otter_Count\": 47.0}, {\"Year\": 2002.0, \"Type\": \"Strandings\", \"Location\": \"Capitola_to_Seaside\", \"Otter_Count\": 46.0}, {\"Year\": 2003.0, \"Type\": \"Strandings\", \"Location\": \"Capitola_to_Seaside\", \"Otter_Count\": 73.0}, {\"Year\": 2004.0, \"Type\": \"Strandings\", \"Location\": \"Capitola_to_Seaside\", \"Otter_Count\": 71.0}, {\"Year\": 2005.0, \"Type\": \"Strandings\", \"Location\": \"Capitola_to_Seaside\", \"Otter_Count\": 70.0}, {\"Year\": 2006.0, \"Type\": \"Strandings\", \"Location\": \"Capitola_to_Seaside\", \"Otter_Count\": 73.0}, {\"Year\": 2007.0, \"Type\": \"Strandings\", \"Location\": \"Capitola_to_Seaside\", \"Otter_Count\": 65.0}, {\"Year\": 2008.0, \"Type\": \"Strandings\", \"Location\": \"Capitola_to_Seaside\", \"Otter_Count\": 56.0}, {\"Year\": 2009.0, \"Type\": \"Strandings\", \"Location\": \"Capitola_to_Seaside\", \"Otter_Count\": 60.0}, {\"Year\": 2010.0, \"Type\": \"Strandings\", \"Location\": \"Capitola_to_Seaside\", \"Otter_Count\": 72.0}, {\"Year\": 2011.0, \"Type\": \"Strandings\", \"Location\": \"Capitola_to_Seaside\", \"Otter_Count\": 105.0}, {\"Year\": 2012.0, \"Type\": \"Strandings\", \"Location\": \"Capitola_to_Seaside\", \"Otter_Count\": 119.0}, {\"Year\": 2013.0, \"Type\": \"Strandings\", \"Location\": \"Capitola_to_Seaside\", \"Otter_Count\": 82.0}, {\"Year\": 2014.0, \"Type\": \"Strandings\", \"Location\": \"Capitola_to_Seaside\", \"Otter_Count\": 116.0}, {\"Year\": 1985.0, \"Type\": \"Census\", \"Location\": \"Seaside_to_Pt_Lobos\", \"Otter_Count\": 134.0}, {\"Year\": 1986.0, \"Type\": \"Census\", \"Location\": \"Seaside_to_Pt_Lobos\", \"Otter_Count\": 146.0}, {\"Year\": 1987.0, \"Type\": \"Census\", \"Location\": \"Seaside_to_Pt_Lobos\", \"Otter_Count\": 191.0}, {\"Year\": 1988.0, \"Type\": \"Census\", \"Location\": \"Seaside_to_Pt_Lobos\", \"Otter_Count\": 195.0}, {\"Year\": 1989.0, \"Type\": \"Census\", \"Location\": \"Seaside_to_Pt_Lobos\", \"Otter_Count\": 212.0}, {\"Year\": 1990.0, \"Type\": \"Census\", \"Location\": \"Seaside_to_Pt_Lobos\", \"Otter_Count\": 201.0}, {\"Year\": 1991.0, \"Type\": \"Census\", \"Location\": \"Seaside_to_Pt_Lobos\", \"Otter_Count\": 187.0}, {\"Year\": 1992.0, \"Type\": \"Census\", \"Location\": \"Seaside_to_Pt_Lobos\", \"Otter_Count\": 190.0}, {\"Year\": 1993.0, \"Type\": \"Census\", \"Location\": \"Seaside_to_Pt_Lobos\", \"Otter_Count\": 205.0}, {\"Year\": 1994.0, \"Type\": \"Census\", \"Location\": \"Seaside_to_Pt_Lobos\", \"Otter_Count\": 233.0}, {\"Year\": 1995.0, \"Type\": \"Census\", \"Location\": \"Seaside_to_Pt_Lobos\", \"Otter_Count\": 221.0}, {\"Year\": 1996.0, \"Type\": \"Census\", \"Location\": \"Seaside_to_Pt_Lobos\", \"Otter_Count\": 204.0}, {\"Year\": 1997.0, \"Type\": \"Census\", \"Location\": \"Seaside_to_Pt_Lobos\", \"Otter_Count\": 203.0}, {\"Year\": 1998.0, \"Type\": \"Census\", \"Location\": \"Seaside_to_Pt_Lobos\", \"Otter_Count\": 181.0}, {\"Year\": 1999.0, \"Type\": \"Census\", \"Location\": \"Seaside_to_Pt_Lobos\", \"Otter_Count\": 161.0}, {\"Year\": 2000.0, \"Type\": \"Census\", \"Location\": \"Seaside_to_Pt_Lobos\", \"Otter_Count\": 148.0}, {\"Year\": 2001.0, \"Type\": \"Census\", \"Location\": \"Seaside_to_Pt_Lobos\", \"Otter_Count\": 173.0}, {\"Year\": 2002.0, \"Type\": \"Census\", \"Location\": \"Seaside_to_Pt_Lobos\", \"Otter_Count\": 191.0}, {\"Year\": 2003.0, \"Type\": \"Census\", \"Location\": \"Seaside_to_Pt_Lobos\", \"Otter_Count\": 185.0}, {\"Year\": 2004.0, \"Type\": \"Census\", \"Location\": \"Seaside_to_Pt_Lobos\", \"Otter_Count\": 170.0}, {\"Year\": 2005.0, \"Type\": \"Census\", \"Location\": \"Seaside_to_Pt_Lobos\", \"Otter_Count\": 189.0}, {\"Year\": 2006.0, \"Type\": \"Census\", \"Location\": \"Seaside_to_Pt_Lobos\", \"Otter_Count\": 218.0}, {\"Year\": 2007.0, \"Type\": \"Census\", \"Location\": \"Seaside_to_Pt_Lobos\", \"Otter_Count\": 232.0}, {\"Year\": 2008.0, \"Type\": \"Census\", \"Location\": \"Seaside_to_Pt_Lobos\", \"Otter_Count\": 230.0}, {\"Year\": 2009.0, \"Type\": \"Census\", \"Location\": \"Seaside_to_Pt_Lobos\", \"Otter_Count\": 234.0}, {\"Year\": 2010.0, \"Type\": \"Census\", \"Location\": \"Seaside_to_Pt_Lobos\", \"Otter_Count\": 232.0}, {\"Year\": 2012.0, \"Type\": \"Census\", \"Location\": \"Seaside_to_Pt_Lobos\", \"Otter_Count\": 227.0}, {\"Year\": 2013.0, \"Type\": \"Census\", \"Location\": \"Seaside_to_Pt_Lobos\", \"Otter_Count\": 206.0}, {\"Year\": 2014.0, \"Type\": \"Census\", \"Location\": \"Seaside_to_Pt_Lobos\", \"Otter_Count\": 246.0}, {\"Year\": 1985.0, \"Type\": \"Strandings\", \"Location\": \"Seaside_to_Pt_Lobos\", \"Otter_Count\": 11.0}, {\"Year\": 1986.0, \"Type\": \"Strandings\", \"Location\": \"Seaside_to_Pt_Lobos\", \"Otter_Count\": 18.0}, {\"Year\": 1987.0, \"Type\": \"Strandings\", \"Location\": \"Seaside_to_Pt_Lobos\", \"Otter_Count\": 19.0}, {\"Year\": 1988.0, \"Type\": \"Strandings\", \"Location\": \"Seaside_to_Pt_Lobos\", \"Otter_Count\": 21.0}, {\"Year\": 1989.0, \"Type\": \"Strandings\", \"Location\": \"Seaside_to_Pt_Lobos\", \"Otter_Count\": 13.0}, {\"Year\": 1990.0, \"Type\": \"Strandings\", \"Location\": \"Seaside_to_Pt_Lobos\", \"Otter_Count\": 17.0}, {\"Year\": 1991.0, \"Type\": \"Strandings\", \"Location\": \"Seaside_to_Pt_Lobos\", \"Otter_Count\": 19.0}, {\"Year\": 1992.0, \"Type\": \"Strandings\", \"Location\": \"Seaside_to_Pt_Lobos\", \"Otter_Count\": 24.0}, {\"Year\": 1993.0, \"Type\": \"Strandings\", \"Location\": \"Seaside_to_Pt_Lobos\", \"Otter_Count\": 25.0}, {\"Year\": 1994.0, \"Type\": \"Strandings\", \"Location\": \"Seaside_to_Pt_Lobos\", \"Otter_Count\": 21.0}, {\"Year\": 1995.0, \"Type\": \"Strandings\", \"Location\": \"Seaside_to_Pt_Lobos\", \"Otter_Count\": 33.0}, {\"Year\": 1996.0, \"Type\": \"Strandings\", \"Location\": \"Seaside_to_Pt_Lobos\", \"Otter_Count\": 23.0}, {\"Year\": 1997.0, \"Type\": \"Strandings\", \"Location\": \"Seaside_to_Pt_Lobos\", \"Otter_Count\": 19.0}, {\"Year\": 1998.0, \"Type\": \"Strandings\", \"Location\": \"Seaside_to_Pt_Lobos\", \"Otter_Count\": 48.0}, {\"Year\": 1999.0, \"Type\": \"Strandings\", \"Location\": \"Seaside_to_Pt_Lobos\", \"Otter_Count\": 23.0}, {\"Year\": 2000.0, \"Type\": \"Strandings\", \"Location\": \"Seaside_to_Pt_Lobos\", \"Otter_Count\": 20.0}, {\"Year\": 2001.0, \"Type\": \"Strandings\", \"Location\": \"Seaside_to_Pt_Lobos\", \"Otter_Count\": 21.0}, {\"Year\": 2002.0, \"Type\": \"Strandings\", \"Location\": \"Seaside_to_Pt_Lobos\", \"Otter_Count\": 23.0}, {\"Year\": 2003.0, \"Type\": \"Strandings\", \"Location\": \"Seaside_to_Pt_Lobos\", \"Otter_Count\": 30.0}, {\"Year\": 2004.0, \"Type\": \"Strandings\", \"Location\": \"Seaside_to_Pt_Lobos\", \"Otter_Count\": 24.0}, {\"Year\": 2005.0, \"Type\": \"Strandings\", \"Location\": \"Seaside_to_Pt_Lobos\", \"Otter_Count\": 28.0}, {\"Year\": 2006.0, \"Type\": \"Strandings\", \"Location\": \"Seaside_to_Pt_Lobos\", \"Otter_Count\": 25.0}, {\"Year\": 2007.0, \"Type\": \"Strandings\", \"Location\": \"Seaside_to_Pt_Lobos\", \"Otter_Count\": 32.0}, {\"Year\": 2008.0, \"Type\": \"Strandings\", \"Location\": \"Seaside_to_Pt_Lobos\", \"Otter_Count\": 33.0}, {\"Year\": 2009.0, \"Type\": \"Strandings\", \"Location\": \"Seaside_to_Pt_Lobos\", \"Otter_Count\": 33.0}, {\"Year\": 2010.0, \"Type\": \"Strandings\", \"Location\": \"Seaside_to_Pt_Lobos\", \"Otter_Count\": 41.0}, {\"Year\": 2011.0, \"Type\": \"Strandings\", \"Location\": \"Seaside_to_Pt_Lobos\", \"Otter_Count\": 23.0}, {\"Year\": 2012.0, \"Type\": \"Strandings\", \"Location\": \"Seaside_to_Pt_Lobos\", \"Otter_Count\": 32.0}, {\"Year\": 2013.0, \"Type\": \"Strandings\", \"Location\": \"Seaside_to_Pt_Lobos\", \"Otter_Count\": 33.0}, {\"Year\": 2014.0, \"Type\": \"Strandings\", \"Location\": \"Seaside_to_Pt_Lobos\", \"Otter_Count\": 33.0}, {\"Year\": 1985.0, \"Type\": \"Census\", \"Location\": \"Pt_Lobos_to_Pt_Sur\", \"Otter_Count\": 126.0}, {\"Year\": 1986.0, \"Type\": \"Census\", \"Location\": \"Pt_Lobos_to_Pt_Sur\", \"Otter_Count\": 141.0}, {\"Year\": 1987.0, \"Type\": \"Census\", \"Location\": \"Pt_Lobos_to_Pt_Sur\", \"Otter_Count\": 182.0}, {\"Year\": 1988.0, \"Type\": \"Census\", \"Location\": \"Pt_Lobos_to_Pt_Sur\", \"Otter_Count\": 189.0}, {\"Year\": 1989.0, \"Type\": \"Census\", \"Location\": \"Pt_Lobos_to_Pt_Sur\", \"Otter_Count\": 211.0}, {\"Year\": 1990.0, \"Type\": \"Census\", \"Location\": \"Pt_Lobos_to_Pt_Sur\", \"Otter_Count\": 214.0}, {\"Year\": 1991.0, \"Type\": \"Census\", \"Location\": \"Pt_Lobos_to_Pt_Sur\", \"Otter_Count\": 187.0}, {\"Year\": 1992.0, \"Type\": \"Census\", \"Location\": \"Pt_Lobos_to_Pt_Sur\", \"Otter_Count\": 190.0}, {\"Year\": 1993.0, \"Type\": \"Census\", \"Location\": \"Pt_Lobos_to_Pt_Sur\", \"Otter_Count\": 197.0}, {\"Year\": 1994.0, \"Type\": \"Census\", \"Location\": \"Pt_Lobos_to_Pt_Sur\", \"Otter_Count\": 226.0}, {\"Year\": 1995.0, \"Type\": \"Census\", \"Location\": \"Pt_Lobos_to_Pt_Sur\", \"Otter_Count\": 207.0}, {\"Year\": 1996.0, \"Type\": \"Census\", \"Location\": \"Pt_Lobos_to_Pt_Sur\", \"Otter_Count\": 206.0}, {\"Year\": 1997.0, \"Type\": \"Census\", \"Location\": \"Pt_Lobos_to_Pt_Sur\", \"Otter_Count\": 197.0}, {\"Year\": 1998.0, \"Type\": \"Census\", \"Location\": \"Pt_Lobos_to_Pt_Sur\", \"Otter_Count\": 173.0}, {\"Year\": 1999.0, \"Type\": \"Census\", \"Location\": \"Pt_Lobos_to_Pt_Sur\", \"Otter_Count\": 146.0}, {\"Year\": 2000.0, \"Type\": \"Census\", \"Location\": \"Pt_Lobos_to_Pt_Sur\", \"Otter_Count\": 128.0}, {\"Year\": 2001.0, \"Type\": \"Census\", \"Location\": \"Pt_Lobos_to_Pt_Sur\", \"Otter_Count\": 127.0}, {\"Year\": 2002.0, \"Type\": \"Census\", \"Location\": \"Pt_Lobos_to_Pt_Sur\", \"Otter_Count\": 147.0}, {\"Year\": 2003.0, \"Type\": \"Census\", \"Location\": \"Pt_Lobos_to_Pt_Sur\", \"Otter_Count\": 121.0}, {\"Year\": 2004.0, \"Type\": \"Census\", \"Location\": \"Pt_Lobos_to_Pt_Sur\", \"Otter_Count\": 114.0}, {\"Year\": 2005.0, \"Type\": \"Census\", \"Location\": \"Pt_Lobos_to_Pt_Sur\", \"Otter_Count\": 110.0}, {\"Year\": 2006.0, \"Type\": \"Census\", \"Location\": \"Pt_Lobos_to_Pt_Sur\", \"Otter_Count\": 122.0}, {\"Year\": 2007.0, \"Type\": \"Census\", \"Location\": \"Pt_Lobos_to_Pt_Sur\", \"Otter_Count\": 146.0}, {\"Year\": 2008.0, \"Type\": \"Census\", \"Location\": \"Pt_Lobos_to_Pt_Sur\", \"Otter_Count\": 151.0}, {\"Year\": 2009.0, \"Type\": \"Census\", \"Location\": \"Pt_Lobos_to_Pt_Sur\", \"Otter_Count\": 146.0}, {\"Year\": 2010.0, \"Type\": \"Census\", \"Location\": \"Pt_Lobos_to_Pt_Sur\", \"Otter_Count\": 120.0}, {\"Year\": 2012.0, \"Type\": \"Census\", \"Location\": \"Pt_Lobos_to_Pt_Sur\", \"Otter_Count\": 128.0}, {\"Year\": 2013.0, \"Type\": \"Census\", \"Location\": \"Pt_Lobos_to_Pt_Sur\", \"Otter_Count\": 147.0}, {\"Year\": 2014.0, \"Type\": \"Census\", \"Location\": \"Pt_Lobos_to_Pt_Sur\", \"Otter_Count\": 165.0}, {\"Year\": 1985.0, \"Type\": \"Strandings\", \"Location\": \"Pt_Lobos_to_Pt_Sur\", \"Otter_Count\": 5.0}, {\"Year\": 1986.0, \"Type\": \"Strandings\", \"Location\": \"Pt_Lobos_to_Pt_Sur\", \"Otter_Count\": 3.0}, {\"Year\": 1987.0, \"Type\": \"Strandings\", \"Location\": \"Pt_Lobos_to_Pt_Sur\", \"Otter_Count\": 2.0}, {\"Year\": 1988.0, \"Type\": \"Strandings\", \"Location\": \"Pt_Lobos_to_Pt_Sur\", \"Otter_Count\": 4.0}, {\"Year\": 1989.0, \"Type\": \"Strandings\", \"Location\": \"Pt_Lobos_to_Pt_Sur\", \"Otter_Count\": 3.0}, {\"Year\": 1990.0, \"Type\": \"Strandings\", \"Location\": \"Pt_Lobos_to_Pt_Sur\", \"Otter_Count\": 0.0}, {\"Year\": 1991.0, \"Type\": \"Strandings\", \"Location\": \"Pt_Lobos_to_Pt_Sur\", \"Otter_Count\": 3.0}, {\"Year\": 1992.0, \"Type\": \"Strandings\", \"Location\": \"Pt_Lobos_to_Pt_Sur\", \"Otter_Count\": 2.0}, {\"Year\": 1993.0, \"Type\": \"Strandings\", \"Location\": \"Pt_Lobos_to_Pt_Sur\", \"Otter_Count\": 4.0}, {\"Year\": 1994.0, \"Type\": \"Strandings\", \"Location\": \"Pt_Lobos_to_Pt_Sur\", \"Otter_Count\": 6.0}, {\"Year\": 1995.0, \"Type\": \"Strandings\", \"Location\": \"Pt_Lobos_to_Pt_Sur\", \"Otter_Count\": 10.0}, {\"Year\": 1996.0, \"Type\": \"Strandings\", \"Location\": \"Pt_Lobos_to_Pt_Sur\", \"Otter_Count\": 0.0}, {\"Year\": 1997.0, \"Type\": \"Strandings\", \"Location\": \"Pt_Lobos_to_Pt_Sur\", \"Otter_Count\": 4.0}, {\"Year\": 1998.0, \"Type\": \"Strandings\", \"Location\": \"Pt_Lobos_to_Pt_Sur\", \"Otter_Count\": 6.0}, {\"Year\": 1999.0, \"Type\": \"Strandings\", \"Location\": \"Pt_Lobos_to_Pt_Sur\", \"Otter_Count\": 6.0}, {\"Year\": 2000.0, \"Type\": \"Strandings\", \"Location\": \"Pt_Lobos_to_Pt_Sur\", \"Otter_Count\": 8.0}, {\"Year\": 2001.0, \"Type\": \"Strandings\", \"Location\": \"Pt_Lobos_to_Pt_Sur\", \"Otter_Count\": 6.0}, {\"Year\": 2002.0, \"Type\": \"Strandings\", \"Location\": \"Pt_Lobos_to_Pt_Sur\", \"Otter_Count\": 9.0}, {\"Year\": 2003.0, \"Type\": \"Strandings\", \"Location\": \"Pt_Lobos_to_Pt_Sur\", \"Otter_Count\": 6.0}, {\"Year\": 2004.0, \"Type\": \"Strandings\", \"Location\": \"Pt_Lobos_to_Pt_Sur\", \"Otter_Count\": 7.0}, {\"Year\": 2005.0, \"Type\": \"Strandings\", \"Location\": \"Pt_Lobos_to_Pt_Sur\", \"Otter_Count\": 2.0}, {\"Year\": 2006.0, \"Type\": \"Strandings\", \"Location\": \"Pt_Lobos_to_Pt_Sur\", \"Otter_Count\": 2.0}, {\"Year\": 2007.0, \"Type\": \"Strandings\", \"Location\": \"Pt_Lobos_to_Pt_Sur\", \"Otter_Count\": 8.0}, {\"Year\": 2008.0, \"Type\": \"Strandings\", \"Location\": \"Pt_Lobos_to_Pt_Sur\", \"Otter_Count\": 4.0}, {\"Year\": 2009.0, \"Type\": \"Strandings\", \"Location\": \"Pt_Lobos_to_Pt_Sur\", \"Otter_Count\": 4.0}, {\"Year\": 2010.0, \"Type\": \"Strandings\", \"Location\": \"Pt_Lobos_to_Pt_Sur\", \"Otter_Count\": 5.0}, {\"Year\": 2011.0, \"Type\": \"Strandings\", \"Location\": \"Pt_Lobos_to_Pt_Sur\", \"Otter_Count\": 1.0}, {\"Year\": 2012.0, \"Type\": \"Strandings\", \"Location\": \"Pt_Lobos_to_Pt_Sur\", \"Otter_Count\": 6.0}, {\"Year\": 2013.0, \"Type\": \"Strandings\", \"Location\": \"Pt_Lobos_to_Pt_Sur\", \"Otter_Count\": 5.0}, {\"Year\": 2014.0, \"Type\": \"Strandings\", \"Location\": \"Pt_Lobos_to_Pt_Sur\", \"Otter_Count\": 2.0}, {\"Year\": 1985.0, \"Type\": \"Census\", \"Location\": \"Pt_Sur_to_Dolan_Rock\", \"Otter_Count\": 125.0}, {\"Year\": 1986.0, \"Type\": \"Census\", \"Location\": \"Pt_Sur_to_Dolan_Rock\", \"Otter_Count\": 133.0}, {\"Year\": 1987.0, \"Type\": \"Census\", \"Location\": \"Pt_Sur_to_Dolan_Rock\", \"Otter_Count\": 142.0}, {\"Year\": 1988.0, \"Type\": \"Census\", \"Location\": \"Pt_Sur_to_Dolan_Rock\", \"Otter_Count\": 144.0}, {\"Year\": 1989.0, \"Type\": \"Census\", \"Location\": \"Pt_Sur_to_Dolan_Rock\", \"Otter_Count\": 178.0}, {\"Year\": 1990.0, \"Type\": \"Census\", \"Location\": \"Pt_Sur_to_Dolan_Rock\", \"Otter_Count\": 170.0}, {\"Year\": 1991.0, \"Type\": \"Census\", \"Location\": \"Pt_Sur_to_Dolan_Rock\", \"Otter_Count\": 150.0}, {\"Year\": 1992.0, \"Type\": \"Census\", \"Location\": \"Pt_Sur_to_Dolan_Rock\", \"Otter_Count\": 132.0}, {\"Year\": 1993.0, \"Type\": \"Census\", \"Location\": \"Pt_Sur_to_Dolan_Rock\", \"Otter_Count\": 145.0}, {\"Year\": 1994.0, \"Type\": \"Census\", \"Location\": \"Pt_Sur_to_Dolan_Rock\", \"Otter_Count\": 151.0}, {\"Year\": 1995.0, \"Type\": \"Census\", \"Location\": \"Pt_Sur_to_Dolan_Rock\", \"Otter_Count\": 164.0}, {\"Year\": 1996.0, \"Type\": \"Census\", \"Location\": \"Pt_Sur_to_Dolan_Rock\", \"Otter_Count\": 193.0}, {\"Year\": 1997.0, \"Type\": \"Census\", \"Location\": \"Pt_Sur_to_Dolan_Rock\", \"Otter_Count\": 205.0}, {\"Year\": 1998.0, \"Type\": \"Census\", \"Location\": \"Pt_Sur_to_Dolan_Rock\", \"Otter_Count\": 182.0}, {\"Year\": 1999.0, \"Type\": \"Census\", \"Location\": \"Pt_Sur_to_Dolan_Rock\", \"Otter_Count\": 158.0}, {\"Year\": 2000.0, \"Type\": \"Census\", \"Location\": \"Pt_Sur_to_Dolan_Rock\", \"Otter_Count\": 134.0}, {\"Year\": 2001.0, \"Type\": \"Census\", \"Location\": \"Pt_Sur_to_Dolan_Rock\", \"Otter_Count\": 128.0}, {\"Year\": 2002.0, \"Type\": \"Census\", \"Location\": \"Pt_Sur_to_Dolan_Rock\", \"Otter_Count\": 136.0}, {\"Year\": 2003.0, \"Type\": \"Census\", \"Location\": \"Pt_Sur_to_Dolan_Rock\", \"Otter_Count\": 134.0}, {\"Year\": 2004.0, \"Type\": \"Census\", \"Location\": \"Pt_Sur_to_Dolan_Rock\", \"Otter_Count\": 137.0}, {\"Year\": 2005.0, \"Type\": \"Census\", \"Location\": \"Pt_Sur_to_Dolan_Rock\", \"Otter_Count\": 144.0}, {\"Year\": 2006.0, \"Type\": \"Census\", \"Location\": \"Pt_Sur_to_Dolan_Rock\", \"Otter_Count\": 162.0}, {\"Year\": 2007.0, \"Type\": \"Census\", \"Location\": \"Pt_Sur_to_Dolan_Rock\", \"Otter_Count\": 179.0}, {\"Year\": 2008.0, \"Type\": \"Census\", \"Location\": \"Pt_Sur_to_Dolan_Rock\", \"Otter_Count\": 153.0}, {\"Year\": 2009.0, \"Type\": \"Census\", \"Location\": \"Pt_Sur_to_Dolan_Rock\", \"Otter_Count\": 143.0}, {\"Year\": 2010.0, \"Type\": \"Census\", \"Location\": \"Pt_Sur_to_Dolan_Rock\", \"Otter_Count\": 121.0}, {\"Year\": 2012.0, \"Type\": \"Census\", \"Location\": \"Pt_Sur_to_Dolan_Rock\", \"Otter_Count\": 134.0}, {\"Year\": 2013.0, \"Type\": \"Census\", \"Location\": \"Pt_Sur_to_Dolan_Rock\", \"Otter_Count\": 191.0}, {\"Year\": 2014.0, \"Type\": \"Census\", \"Location\": \"Pt_Sur_to_Dolan_Rock\", \"Otter_Count\": 204.0}, {\"Year\": 1985.0, \"Type\": \"Strandings\", \"Location\": \"Pt_Sur_to_Dolan_Rock\", \"Otter_Count\": 4.0}, {\"Year\": 1986.0, \"Type\": \"Strandings\", \"Location\": \"Pt_Sur_to_Dolan_Rock\", \"Otter_Count\": 1.0}, {\"Year\": 1987.0, \"Type\": \"Strandings\", \"Location\": \"Pt_Sur_to_Dolan_Rock\", \"Otter_Count\": 1.0}, {\"Year\": 1988.0, \"Type\": \"Strandings\", \"Location\": \"Pt_Sur_to_Dolan_Rock\", \"Otter_Count\": 3.0}, {\"Year\": 1989.0, \"Type\": \"Strandings\", \"Location\": \"Pt_Sur_to_Dolan_Rock\", \"Otter_Count\": 0.0}, {\"Year\": 1990.0, \"Type\": \"Strandings\", \"Location\": \"Pt_Sur_to_Dolan_Rock\", \"Otter_Count\": 1.0}, {\"Year\": 1991.0, \"Type\": \"Strandings\", \"Location\": \"Pt_Sur_to_Dolan_Rock\", \"Otter_Count\": 0.0}, {\"Year\": 1992.0, \"Type\": \"Strandings\", \"Location\": \"Pt_Sur_to_Dolan_Rock\", \"Otter_Count\": 2.0}, {\"Year\": 1993.0, \"Type\": \"Strandings\", \"Location\": \"Pt_Sur_to_Dolan_Rock\", \"Otter_Count\": 0.0}, {\"Year\": 1994.0, \"Type\": \"Strandings\", \"Location\": \"Pt_Sur_to_Dolan_Rock\", \"Otter_Count\": 0.0}, {\"Year\": 1995.0, \"Type\": \"Strandings\", \"Location\": \"Pt_Sur_to_Dolan_Rock\", \"Otter_Count\": 1.0}, {\"Year\": 1996.0, \"Type\": \"Strandings\", \"Location\": \"Pt_Sur_to_Dolan_Rock\", \"Otter_Count\": 0.0}, {\"Year\": 1997.0, \"Type\": \"Strandings\", \"Location\": \"Pt_Sur_to_Dolan_Rock\", \"Otter_Count\": 0.0}, {\"Year\": 1998.0, \"Type\": \"Strandings\", \"Location\": \"Pt_Sur_to_Dolan_Rock\", \"Otter_Count\": 0.0}, {\"Year\": 1999.0, \"Type\": \"Strandings\", \"Location\": \"Pt_Sur_to_Dolan_Rock\", \"Otter_Count\": 0.0}, {\"Year\": 2000.0, \"Type\": \"Strandings\", \"Location\": \"Pt_Sur_to_Dolan_Rock\", \"Otter_Count\": 0.0}, {\"Year\": 2001.0, \"Type\": \"Strandings\", \"Location\": \"Pt_Sur_to_Dolan_Rock\", \"Otter_Count\": 1.0}, {\"Year\": 2002.0, \"Type\": \"Strandings\", \"Location\": \"Pt_Sur_to_Dolan_Rock\", \"Otter_Count\": 2.0}, {\"Year\": 2003.0, \"Type\": \"Strandings\", \"Location\": \"Pt_Sur_to_Dolan_Rock\", \"Otter_Count\": 2.0}, {\"Year\": 2004.0, \"Type\": \"Strandings\", \"Location\": \"Pt_Sur_to_Dolan_Rock\", \"Otter_Count\": 1.0}, {\"Year\": 2005.0, \"Type\": \"Strandings\", \"Location\": \"Pt_Sur_to_Dolan_Rock\", \"Otter_Count\": 0.0}, {\"Year\": 2006.0, \"Type\": \"Strandings\", \"Location\": \"Pt_Sur_to_Dolan_Rock\", \"Otter_Count\": 3.0}, {\"Year\": 2007.0, \"Type\": \"Strandings\", \"Location\": \"Pt_Sur_to_Dolan_Rock\", \"Otter_Count\": 0.0}, {\"Year\": 2008.0, \"Type\": \"Strandings\", \"Location\": \"Pt_Sur_to_Dolan_Rock\", \"Otter_Count\": 1.0}, {\"Year\": 2009.0, \"Type\": \"Strandings\", \"Location\": \"Pt_Sur_to_Dolan_Rock\", \"Otter_Count\": 4.0}, {\"Year\": 2010.0, \"Type\": \"Strandings\", \"Location\": \"Pt_Sur_to_Dolan_Rock\", \"Otter_Count\": 2.0}, {\"Year\": 2011.0, \"Type\": \"Strandings\", \"Location\": \"Pt_Sur_to_Dolan_Rock\", \"Otter_Count\": 6.0}, {\"Year\": 2012.0, \"Type\": \"Strandings\", \"Location\": \"Pt_Sur_to_Dolan_Rock\", \"Otter_Count\": 0.0}, {\"Year\": 2013.0, \"Type\": \"Strandings\", \"Location\": \"Pt_Sur_to_Dolan_Rock\", \"Otter_Count\": 2.0}, {\"Year\": 2014.0, \"Type\": \"Strandings\", \"Location\": \"Pt_Sur_to_Dolan_Rock\", \"Otter_Count\": 1.0}, {\"Year\": 1985.0, \"Type\": \"Census\", \"Location\": \"Dolan_Rock_to_C_San_Martin\", \"Otter_Count\": 122.0}, {\"Year\": 1986.0, \"Type\": \"Census\", \"Location\": \"Dolan_Rock_to_C_San_Martin\", \"Otter_Count\": 144.0}, {\"Year\": 1987.0, \"Type\": \"Census\", \"Location\": \"Dolan_Rock_to_C_San_Martin\", \"Otter_Count\": 147.0}, {\"Year\": 1988.0, \"Type\": \"Census\", \"Location\": \"Dolan_Rock_to_C_San_Martin\", \"Otter_Count\": 168.0}, {\"Year\": 1989.0, \"Type\": \"Census\", \"Location\": \"Dolan_Rock_to_C_San_Martin\", \"Otter_Count\": 166.0}, {\"Year\": 1990.0, \"Type\": \"Census\", \"Location\": \"Dolan_Rock_to_C_San_Martin\", \"Otter_Count\": 166.0}, {\"Year\": 1991.0, \"Type\": \"Census\", \"Location\": \"Dolan_Rock_to_C_San_Martin\", \"Otter_Count\": 154.0}, {\"Year\": 1992.0, \"Type\": \"Census\", \"Location\": \"Dolan_Rock_to_C_San_Martin\", \"Otter_Count\": 158.0}, {\"Year\": 1993.0, \"Type\": \"Census\", \"Location\": \"Dolan_Rock_to_C_San_Martin\", \"Otter_Count\": 170.0}, {\"Year\": 1994.0, \"Type\": \"Census\", \"Location\": \"Dolan_Rock_to_C_San_Martin\", \"Otter_Count\": 175.0}, {\"Year\": 1995.0, \"Type\": \"Census\", \"Location\": \"Dolan_Rock_to_C_San_Martin\", \"Otter_Count\": 168.0}, {\"Year\": 1996.0, \"Type\": \"Census\", \"Location\": \"Dolan_Rock_to_C_San_Martin\", \"Otter_Count\": 205.0}, {\"Year\": 1997.0, \"Type\": \"Census\", \"Location\": \"Dolan_Rock_to_C_San_Martin\", \"Otter_Count\": 230.0}, {\"Year\": 1998.0, \"Type\": \"Census\", \"Location\": \"Dolan_Rock_to_C_San_Martin\", \"Otter_Count\": 225.0}, {\"Year\": 1999.0, \"Type\": \"Census\", \"Location\": \"Dolan_Rock_to_C_San_Martin\", \"Otter_Count\": 186.0}, {\"Year\": 2000.0, \"Type\": \"Census\", \"Location\": \"Dolan_Rock_to_C_San_Martin\", \"Otter_Count\": 179.0}, {\"Year\": 2001.0, \"Type\": \"Census\", \"Location\": \"Dolan_Rock_to_C_San_Martin\", \"Otter_Count\": 195.0}, {\"Year\": 2002.0, \"Type\": \"Census\", \"Location\": \"Dolan_Rock_to_C_San_Martin\", \"Otter_Count\": 211.0}, {\"Year\": 2003.0, \"Type\": \"Census\", \"Location\": \"Dolan_Rock_to_C_San_Martin\", \"Otter_Count\": 201.0}, {\"Year\": 2004.0, \"Type\": \"Census\", \"Location\": \"Dolan_Rock_to_C_San_Martin\", \"Otter_Count\": 197.0}, {\"Year\": 2005.0, \"Type\": \"Census\", \"Location\": \"Dolan_Rock_to_C_San_Martin\", \"Otter_Count\": 201.0}, {\"Year\": 2006.0, \"Type\": \"Census\", \"Location\": \"Dolan_Rock_to_C_San_Martin\", \"Otter_Count\": 199.0}, {\"Year\": 2007.0, \"Type\": \"Census\", \"Location\": \"Dolan_Rock_to_C_San_Martin\", \"Otter_Count\": 203.0}, {\"Year\": 2008.0, \"Type\": \"Census\", \"Location\": \"Dolan_Rock_to_C_San_Martin\", \"Otter_Count\": 206.0}, {\"Year\": 2009.0, \"Type\": \"Census\", \"Location\": \"Dolan_Rock_to_C_San_Martin\", \"Otter_Count\": 220.0}, {\"Year\": 2010.0, \"Type\": \"Census\", \"Location\": \"Dolan_Rock_to_C_San_Martin\", \"Otter_Count\": 179.0}, {\"Year\": 2012.0, \"Type\": \"Census\", \"Location\": \"Dolan_Rock_to_C_San_Martin\", \"Otter_Count\": 204.0}, {\"Year\": 2013.0, \"Type\": \"Census\", \"Location\": \"Dolan_Rock_to_C_San_Martin\", \"Otter_Count\": 225.0}, {\"Year\": 2014.0, \"Type\": \"Census\", \"Location\": \"Dolan_Rock_to_C_San_Martin\", \"Otter_Count\": 247.0}, {\"Year\": 1985.0, \"Type\": \"Strandings\", \"Location\": \"Dolan_Rock_to_C_San_Martin\", \"Otter_Count\": 0.0}, {\"Year\": 1986.0, \"Type\": \"Strandings\", \"Location\": \"Dolan_Rock_to_C_San_Martin\", \"Otter_Count\": 0.0}, {\"Year\": 1987.0, \"Type\": \"Strandings\", \"Location\": \"Dolan_Rock_to_C_San_Martin\", \"Otter_Count\": 0.0}, {\"Year\": 1988.0, \"Type\": \"Strandings\", \"Location\": \"Dolan_Rock_to_C_San_Martin\", \"Otter_Count\": 3.0}, {\"Year\": 1989.0, \"Type\": \"Strandings\", \"Location\": \"Dolan_Rock_to_C_San_Martin\", \"Otter_Count\": 1.0}, {\"Year\": 1990.0, \"Type\": \"Strandings\", \"Location\": \"Dolan_Rock_to_C_San_Martin\", \"Otter_Count\": 4.0}, {\"Year\": 1991.0, \"Type\": \"Strandings\", \"Location\": \"Dolan_Rock_to_C_San_Martin\", \"Otter_Count\": 1.0}, {\"Year\": 1992.0, \"Type\": \"Strandings\", \"Location\": \"Dolan_Rock_to_C_San_Martin\", \"Otter_Count\": 1.0}, {\"Year\": 1993.0, \"Type\": \"Strandings\", \"Location\": \"Dolan_Rock_to_C_San_Martin\", \"Otter_Count\": 0.0}, {\"Year\": 1994.0, \"Type\": \"Strandings\", \"Location\": \"Dolan_Rock_to_C_San_Martin\", \"Otter_Count\": 1.0}, {\"Year\": 1995.0, \"Type\": \"Strandings\", \"Location\": \"Dolan_Rock_to_C_San_Martin\", \"Otter_Count\": 6.0}, {\"Year\": 1996.0, \"Type\": \"Strandings\", \"Location\": \"Dolan_Rock_to_C_San_Martin\", \"Otter_Count\": 3.0}, {\"Year\": 1997.0, \"Type\": \"Strandings\", \"Location\": \"Dolan_Rock_to_C_San_Martin\", \"Otter_Count\": 0.0}, {\"Year\": 1998.0, \"Type\": \"Strandings\", \"Location\": \"Dolan_Rock_to_C_San_Martin\", \"Otter_Count\": 0.0}, {\"Year\": 1999.0, \"Type\": \"Strandings\", \"Location\": \"Dolan_Rock_to_C_San_Martin\", \"Otter_Count\": 1.0}, {\"Year\": 2000.0, \"Type\": \"Strandings\", \"Location\": \"Dolan_Rock_to_C_San_Martin\", \"Otter_Count\": 0.0}, {\"Year\": 2001.0, \"Type\": \"Strandings\", \"Location\": \"Dolan_Rock_to_C_San_Martin\", \"Otter_Count\": 1.0}, {\"Year\": 2002.0, \"Type\": \"Strandings\", \"Location\": \"Dolan_Rock_to_C_San_Martin\", \"Otter_Count\": 1.0}, {\"Year\": 2003.0, \"Type\": \"Strandings\", \"Location\": \"Dolan_Rock_to_C_San_Martin\", \"Otter_Count\": 3.0}, {\"Year\": 2004.0, \"Type\": \"Strandings\", \"Location\": \"Dolan_Rock_to_C_San_Martin\", \"Otter_Count\": 3.0}, {\"Year\": 2005.0, \"Type\": \"Strandings\", \"Location\": \"Dolan_Rock_to_C_San_Martin\", \"Otter_Count\": 1.0}, {\"Year\": 2006.0, \"Type\": \"Strandings\", \"Location\": \"Dolan_Rock_to_C_San_Martin\", \"Otter_Count\": 0.0}, {\"Year\": 2007.0, \"Type\": \"Strandings\", \"Location\": \"Dolan_Rock_to_C_San_Martin\", \"Otter_Count\": 1.0}, {\"Year\": 2008.0, \"Type\": \"Strandings\", \"Location\": \"Dolan_Rock_to_C_San_Martin\", \"Otter_Count\": 4.0}, {\"Year\": 2009.0, \"Type\": \"Strandings\", \"Location\": \"Dolan_Rock_to_C_San_Martin\", \"Otter_Count\": 1.0}, {\"Year\": 2010.0, \"Type\": \"Strandings\", \"Location\": \"Dolan_Rock_to_C_San_Martin\", \"Otter_Count\": 2.0}, {\"Year\": 2011.0, \"Type\": \"Strandings\", \"Location\": \"Dolan_Rock_to_C_San_Martin\", \"Otter_Count\": 1.0}, {\"Year\": 2012.0, \"Type\": \"Strandings\", \"Location\": \"Dolan_Rock_to_C_San_Martin\", \"Otter_Count\": 2.0}, {\"Year\": 2013.0, \"Type\": \"Strandings\", \"Location\": \"Dolan_Rock_to_C_San_Martin\", \"Otter_Count\": 1.0}, {\"Year\": 2014.0, \"Type\": \"Strandings\", \"Location\": \"Dolan_Rock_to_C_San_Martin\", \"Otter_Count\": 1.0}, {\"Year\": 1985.0, \"Type\": \"Census\", \"Location\": \"C_San_Martin_to_San_Simeon_Pt\", \"Otter_Count\": 160.0}, {\"Year\": 1986.0, \"Type\": \"Census\", \"Location\": \"C_San_Martin_to_San_Simeon_Pt\", \"Otter_Count\": 189.0}, {\"Year\": 1987.0, \"Type\": \"Census\", \"Location\": \"C_San_Martin_to_San_Simeon_Pt\", \"Otter_Count\": 232.0}, {\"Year\": 1988.0, \"Type\": \"Census\", \"Location\": \"C_San_Martin_to_San_Simeon_Pt\", \"Otter_Count\": 258.0}, {\"Year\": 1989.0, \"Type\": \"Census\", \"Location\": \"C_San_Martin_to_San_Simeon_Pt\", \"Otter_Count\": 263.0}, {\"Year\": 1990.0, \"Type\": \"Census\", \"Location\": \"C_San_Martin_to_San_Simeon_Pt\", \"Otter_Count\": 251.0}, {\"Year\": 1991.0, \"Type\": \"Census\", \"Location\": \"C_San_Martin_to_San_Simeon_Pt\", \"Otter_Count\": 262.0}, {\"Year\": 1992.0, \"Type\": \"Census\", \"Location\": \"C_San_Martin_to_San_Simeon_Pt\", \"Otter_Count\": 258.0}, {\"Year\": 1993.0, \"Type\": \"Census\", \"Location\": \"C_San_Martin_to_San_Simeon_Pt\", \"Otter_Count\": 259.0}, {\"Year\": 1994.0, \"Type\": \"Census\", \"Location\": \"C_San_Martin_to_San_Simeon_Pt\", \"Otter_Count\": 240.0}, {\"Year\": 1995.0, \"Type\": \"Census\", \"Location\": \"C_San_Martin_to_San_Simeon_Pt\", \"Otter_Count\": 273.0}, {\"Year\": 1996.0, \"Type\": \"Census\", \"Location\": \"C_San_Martin_to_San_Simeon_Pt\", \"Otter_Count\": 287.0}, {\"Year\": 1997.0, \"Type\": \"Census\", \"Location\": \"C_San_Martin_to_San_Simeon_Pt\", \"Otter_Count\": 326.0}, {\"Year\": 1998.0, \"Type\": \"Census\", \"Location\": \"C_San_Martin_to_San_Simeon_Pt\", \"Otter_Count\": 303.0}, {\"Year\": 1999.0, \"Type\": \"Census\", \"Location\": \"C_San_Martin_to_San_Simeon_Pt\", \"Otter_Count\": 295.0}, {\"Year\": 2000.0, \"Type\": \"Census\", \"Location\": \"C_San_Martin_to_San_Simeon_Pt\", \"Otter_Count\": 271.0}, {\"Year\": 2001.0, \"Type\": \"Census\", \"Location\": \"C_San_Martin_to_San_Simeon_Pt\", \"Otter_Count\": 281.0}, {\"Year\": 2002.0, \"Type\": \"Census\", \"Location\": \"C_San_Martin_to_San_Simeon_Pt\", \"Otter_Count\": 295.0}, {\"Year\": 2003.0, \"Type\": \"Census\", \"Location\": \"C_San_Martin_to_San_Simeon_Pt\", \"Otter_Count\": 301.0}, {\"Year\": 2004.0, \"Type\": \"Census\", \"Location\": \"C_San_Martin_to_San_Simeon_Pt\", \"Otter_Count\": 318.0}, {\"Year\": 2005.0, \"Type\": \"Census\", \"Location\": \"C_San_Martin_to_San_Simeon_Pt\", \"Otter_Count\": 320.0}, {\"Year\": 2006.0, \"Type\": \"Census\", \"Location\": \"C_San_Martin_to_San_Simeon_Pt\", \"Otter_Count\": 340.0}, {\"Year\": 2007.0, \"Type\": \"Census\", \"Location\": \"C_San_Martin_to_San_Simeon_Pt\", \"Otter_Count\": 333.0}, {\"Year\": 2008.0, \"Type\": \"Census\", \"Location\": \"C_San_Martin_to_San_Simeon_Pt\", \"Otter_Count\": 324.0}, {\"Year\": 2009.0, \"Type\": \"Census\", \"Location\": \"C_San_Martin_to_San_Simeon_Pt\", \"Otter_Count\": 307.0}, {\"Year\": 2010.0, \"Type\": \"Census\", \"Location\": \"C_San_Martin_to_San_Simeon_Pt\", \"Otter_Count\": 282.0}, {\"Year\": 2012.0, \"Type\": \"Census\", \"Location\": \"C_San_Martin_to_San_Simeon_Pt\", \"Otter_Count\": 305.0}, {\"Year\": 2013.0, \"Type\": \"Census\", \"Location\": \"C_San_Martin_to_San_Simeon_Pt\", \"Otter_Count\": 332.0}, {\"Year\": 2014.0, \"Type\": \"Census\", \"Location\": \"C_San_Martin_to_San_Simeon_Pt\", \"Otter_Count\": 351.0}, {\"Year\": 1985.0, \"Type\": \"Strandings\", \"Location\": \"C_San_Martin_to_San_Simeon_Pt\", \"Otter_Count\": 13.0}, {\"Year\": 1986.0, \"Type\": \"Strandings\", \"Location\": \"C_San_Martin_to_San_Simeon_Pt\", \"Otter_Count\": 9.0}, {\"Year\": 1987.0, \"Type\": \"Strandings\", \"Location\": \"C_San_Martin_to_San_Simeon_Pt\", \"Otter_Count\": 11.0}, {\"Year\": 1988.0, \"Type\": \"Strandings\", \"Location\": \"C_San_Martin_to_San_Simeon_Pt\", \"Otter_Count\": 7.0}, {\"Year\": 1989.0, \"Type\": \"Strandings\", \"Location\": \"C_San_Martin_to_San_Simeon_Pt\", \"Otter_Count\": 5.0}, {\"Year\": 1990.0, \"Type\": \"Strandings\", \"Location\": \"C_San_Martin_to_San_Simeon_Pt\", \"Otter_Count\": 10.0}, {\"Year\": 1991.0, \"Type\": \"Strandings\", \"Location\": \"C_San_Martin_to_San_Simeon_Pt\", \"Otter_Count\": 5.0}, {\"Year\": 1992.0, \"Type\": \"Strandings\", \"Location\": \"C_San_Martin_to_San_Simeon_Pt\", \"Otter_Count\": 6.0}, {\"Year\": 1993.0, \"Type\": \"Strandings\", \"Location\": \"C_San_Martin_to_San_Simeon_Pt\", \"Otter_Count\": 5.0}, {\"Year\": 1994.0, \"Type\": \"Strandings\", \"Location\": \"C_San_Martin_to_San_Simeon_Pt\", \"Otter_Count\": 9.0}, {\"Year\": 1995.0, \"Type\": \"Strandings\", \"Location\": \"C_San_Martin_to_San_Simeon_Pt\", \"Otter_Count\": 7.0}, {\"Year\": 1996.0, \"Type\": \"Strandings\", \"Location\": \"C_San_Martin_to_San_Simeon_Pt\", \"Otter_Count\": 4.0}, {\"Year\": 1997.0, \"Type\": \"Strandings\", \"Location\": \"C_San_Martin_to_San_Simeon_Pt\", \"Otter_Count\": 8.0}, {\"Year\": 1998.0, \"Type\": \"Strandings\", \"Location\": \"C_San_Martin_to_San_Simeon_Pt\", \"Otter_Count\": 12.0}, {\"Year\": 1999.0, \"Type\": \"Strandings\", \"Location\": \"C_San_Martin_to_San_Simeon_Pt\", \"Otter_Count\": 3.0}, {\"Year\": 2000.0, \"Type\": \"Strandings\", \"Location\": \"C_San_Martin_to_San_Simeon_Pt\", \"Otter_Count\": 9.0}, {\"Year\": 2001.0, \"Type\": \"Strandings\", \"Location\": \"C_San_Martin_to_San_Simeon_Pt\", \"Otter_Count\": 12.0}, {\"Year\": 2002.0, \"Type\": \"Strandings\", \"Location\": \"C_San_Martin_to_San_Simeon_Pt\", \"Otter_Count\": 3.0}, {\"Year\": 2003.0, \"Type\": \"Strandings\", \"Location\": \"C_San_Martin_to_San_Simeon_Pt\", \"Otter_Count\": 3.0}, {\"Year\": 2004.0, \"Type\": \"Strandings\", \"Location\": \"C_San_Martin_to_San_Simeon_Pt\", \"Otter_Count\": 8.0}, {\"Year\": 2005.0, \"Type\": \"Strandings\", \"Location\": \"C_San_Martin_to_San_Simeon_Pt\", \"Otter_Count\": 12.0}, {\"Year\": 2006.0, \"Type\": \"Strandings\", \"Location\": \"C_San_Martin_to_San_Simeon_Pt\", \"Otter_Count\": 10.0}, {\"Year\": 2007.0, \"Type\": \"Strandings\", \"Location\": \"C_San_Martin_to_San_Simeon_Pt\", \"Otter_Count\": 10.0}, {\"Year\": 2008.0, \"Type\": \"Strandings\", \"Location\": \"C_San_Martin_to_San_Simeon_Pt\", \"Otter_Count\": 9.0}, {\"Year\": 2009.0, \"Type\": \"Strandings\", \"Location\": \"C_San_Martin_to_San_Simeon_Pt\", \"Otter_Count\": 11.0}, {\"Year\": 2010.0, \"Type\": \"Strandings\", \"Location\": \"C_San_Martin_to_San_Simeon_Pt\", \"Otter_Count\": 7.0}, {\"Year\": 2011.0, \"Type\": \"Strandings\", \"Location\": \"C_San_Martin_to_San_Simeon_Pt\", \"Otter_Count\": 8.0}, {\"Year\": 2012.0, \"Type\": \"Strandings\", \"Location\": \"C_San_Martin_to_San_Simeon_Pt\", \"Otter_Count\": 13.0}, {\"Year\": 2013.0, \"Type\": \"Strandings\", \"Location\": \"C_San_Martin_to_San_Simeon_Pt\", \"Otter_Count\": 9.0}, {\"Year\": 2014.0, \"Type\": \"Strandings\", \"Location\": \"C_San_Martin_to_San_Simeon_Pt\", \"Otter_Count\": 10.0}, {\"Year\": 1985.0, \"Type\": \"Census\", \"Location\": \"San_Simeon_Pt_to_Cayucos\", \"Otter_Count\": 126.0}, {\"Year\": 1986.0, \"Type\": \"Census\", \"Location\": \"San_Simeon_Pt_to_Cayucos\", \"Otter_Count\": 129.0}, {\"Year\": 1987.0, \"Type\": \"Census\", \"Location\": \"San_Simeon_Pt_to_Cayucos\", \"Otter_Count\": 119.0}, {\"Year\": 1988.0, \"Type\": \"Census\", \"Location\": \"San_Simeon_Pt_to_Cayucos\", \"Otter_Count\": 139.0}, {\"Year\": 1989.0, \"Type\": \"Census\", \"Location\": \"San_Simeon_Pt_to_Cayucos\", \"Otter_Count\": 139.0}, {\"Year\": 1990.0, \"Type\": \"Census\", \"Location\": \"San_Simeon_Pt_to_Cayucos\", \"Otter_Count\": 137.0}, {\"Year\": 1991.0, \"Type\": \"Census\", \"Location\": \"San_Simeon_Pt_to_Cayucos\", \"Otter_Count\": 144.0}, {\"Year\": 1992.0, \"Type\": \"Census\", \"Location\": \"San_Simeon_Pt_to_Cayucos\", \"Otter_Count\": 151.0}, {\"Year\": 1993.0, \"Type\": \"Census\", \"Location\": \"San_Simeon_Pt_to_Cayucos\", \"Otter_Count\": 174.0}, {\"Year\": 1994.0, \"Type\": \"Census\", \"Location\": \"San_Simeon_Pt_to_Cayucos\", \"Otter_Count\": 201.0}, {\"Year\": 1995.0, \"Type\": \"Census\", \"Location\": \"San_Simeon_Pt_to_Cayucos\", \"Otter_Count\": 198.0}, {\"Year\": 1996.0, \"Type\": \"Census\", \"Location\": \"San_Simeon_Pt_to_Cayucos\", \"Otter_Count\": 201.0}, {\"Year\": 1997.0, \"Type\": \"Census\", \"Location\": \"San_Simeon_Pt_to_Cayucos\", \"Otter_Count\": 205.0}, {\"Year\": 1998.0, \"Type\": \"Census\", \"Location\": \"San_Simeon_Pt_to_Cayucos\", \"Otter_Count\": 189.0}, {\"Year\": 1999.0, \"Type\": \"Census\", \"Location\": \"San_Simeon_Pt_to_Cayucos\", \"Otter_Count\": 173.0}, {\"Year\": 2000.0, \"Type\": \"Census\", \"Location\": \"San_Simeon_Pt_to_Cayucos\", \"Otter_Count\": 142.0}, {\"Year\": 2001.0, \"Type\": \"Census\", \"Location\": \"San_Simeon_Pt_to_Cayucos\", \"Otter_Count\": 138.0}, {\"Year\": 2002.0, \"Type\": \"Census\", \"Location\": \"San_Simeon_Pt_to_Cayucos\", \"Otter_Count\": 150.0}, {\"Year\": 2003.0, \"Type\": \"Census\", \"Location\": \"San_Simeon_Pt_to_Cayucos\", \"Otter_Count\": 160.0}, {\"Year\": 2004.0, \"Type\": \"Census\", \"Location\": \"San_Simeon_Pt_to_Cayucos\", \"Otter_Count\": 175.0}, {\"Year\": 2005.0, \"Type\": \"Census\", \"Location\": \"San_Simeon_Pt_to_Cayucos\", \"Otter_Count\": 179.0}, {\"Year\": 2006.0, \"Type\": \"Census\", \"Location\": \"San_Simeon_Pt_to_Cayucos\", \"Otter_Count\": 217.0}, {\"Year\": 2007.0, \"Type\": \"Census\", \"Location\": \"San_Simeon_Pt_to_Cayucos\", \"Otter_Count\": 222.0}, {\"Year\": 2008.0, \"Type\": \"Census\", \"Location\": \"San_Simeon_Pt_to_Cayucos\", \"Otter_Count\": 217.0}, {\"Year\": 2009.0, \"Type\": \"Census\", \"Location\": \"San_Simeon_Pt_to_Cayucos\", \"Otter_Count\": 204.0}, {\"Year\": 2010.0, \"Type\": \"Census\", \"Location\": \"San_Simeon_Pt_to_Cayucos\", \"Otter_Count\": 201.0}, {\"Year\": 2012.0, \"Type\": \"Census\", \"Location\": \"San_Simeon_Pt_to_Cayucos\", \"Otter_Count\": 212.0}, {\"Year\": 2013.0, \"Type\": \"Census\", \"Location\": \"San_Simeon_Pt_to_Cayucos\", \"Otter_Count\": 244.0}, {\"Year\": 2014.0, \"Type\": \"Census\", \"Location\": \"San_Simeon_Pt_to_Cayucos\", \"Otter_Count\": 236.0}, {\"Year\": 1985.0, \"Type\": \"Strandings\", \"Location\": \"San_Simeon_Pt_to_Cayucos\", \"Otter_Count\": 6.0}, {\"Year\": 1986.0, \"Type\": \"Strandings\", \"Location\": \"San_Simeon_Pt_to_Cayucos\", \"Otter_Count\": 4.0}, {\"Year\": 1987.0, \"Type\": \"Strandings\", \"Location\": \"San_Simeon_Pt_to_Cayucos\", \"Otter_Count\": 11.0}, {\"Year\": 1988.0, \"Type\": \"Strandings\", \"Location\": \"San_Simeon_Pt_to_Cayucos\", \"Otter_Count\": 7.0}, {\"Year\": 1989.0, \"Type\": \"Strandings\", \"Location\": \"San_Simeon_Pt_to_Cayucos\", \"Otter_Count\": 11.0}, {\"Year\": 1990.0, \"Type\": \"Strandings\", \"Location\": \"San_Simeon_Pt_to_Cayucos\", \"Otter_Count\": 9.0}, {\"Year\": 1991.0, \"Type\": \"Strandings\", \"Location\": \"San_Simeon_Pt_to_Cayucos\", \"Otter_Count\": 4.0}, {\"Year\": 1992.0, \"Type\": \"Strandings\", \"Location\": \"San_Simeon_Pt_to_Cayucos\", \"Otter_Count\": 6.0}, {\"Year\": 1993.0, \"Type\": \"Strandings\", \"Location\": \"San_Simeon_Pt_to_Cayucos\", \"Otter_Count\": 7.0}, {\"Year\": 1994.0, \"Type\": \"Strandings\", \"Location\": \"San_Simeon_Pt_to_Cayucos\", \"Otter_Count\": 10.0}, {\"Year\": 1995.0, \"Type\": \"Strandings\", \"Location\": \"San_Simeon_Pt_to_Cayucos\", \"Otter_Count\": 5.0}, {\"Year\": 1996.0, \"Type\": \"Strandings\", \"Location\": \"San_Simeon_Pt_to_Cayucos\", \"Otter_Count\": 10.0}, {\"Year\": 1997.0, \"Type\": \"Strandings\", \"Location\": \"San_Simeon_Pt_to_Cayucos\", \"Otter_Count\": 4.0}, {\"Year\": 1998.0, \"Type\": \"Strandings\", \"Location\": \"San_Simeon_Pt_to_Cayucos\", \"Otter_Count\": 14.0}, {\"Year\": 1999.0, \"Type\": \"Strandings\", \"Location\": \"San_Simeon_Pt_to_Cayucos\", \"Otter_Count\": 13.0}, {\"Year\": 2000.0, \"Type\": \"Strandings\", \"Location\": \"San_Simeon_Pt_to_Cayucos\", \"Otter_Count\": 18.0}, {\"Year\": 2001.0, \"Type\": \"Strandings\", \"Location\": \"San_Simeon_Pt_to_Cayucos\", \"Otter_Count\": 15.0}, {\"Year\": 2002.0, \"Type\": \"Strandings\", \"Location\": \"San_Simeon_Pt_to_Cayucos\", \"Otter_Count\": 17.0}, {\"Year\": 2003.0, \"Type\": \"Strandings\", \"Location\": \"San_Simeon_Pt_to_Cayucos\", \"Otter_Count\": 29.0}, {\"Year\": 2004.0, \"Type\": \"Strandings\", \"Location\": \"San_Simeon_Pt_to_Cayucos\", \"Otter_Count\": 20.0}, {\"Year\": 2005.0, \"Type\": \"Strandings\", \"Location\": \"San_Simeon_Pt_to_Cayucos\", \"Otter_Count\": 13.0}, {\"Year\": 2006.0, \"Type\": \"Strandings\", \"Location\": \"San_Simeon_Pt_to_Cayucos\", \"Otter_Count\": 16.0}, {\"Year\": 2007.0, \"Type\": \"Strandings\", \"Location\": \"San_Simeon_Pt_to_Cayucos\", \"Otter_Count\": 17.0}, {\"Year\": 2008.0, \"Type\": \"Strandings\", \"Location\": \"San_Simeon_Pt_to_Cayucos\", \"Otter_Count\": 20.0}, {\"Year\": 2009.0, \"Type\": \"Strandings\", \"Location\": \"San_Simeon_Pt_to_Cayucos\", \"Otter_Count\": 10.0}, {\"Year\": 2010.0, \"Type\": \"Strandings\", \"Location\": \"San_Simeon_Pt_to_Cayucos\", \"Otter_Count\": 18.0}, {\"Year\": 2011.0, \"Type\": \"Strandings\", \"Location\": \"San_Simeon_Pt_to_Cayucos\", \"Otter_Count\": 14.0}, {\"Year\": 2012.0, \"Type\": \"Strandings\", \"Location\": \"San_Simeon_Pt_to_Cayucos\", \"Otter_Count\": 27.0}, {\"Year\": 2013.0, \"Type\": \"Strandings\", \"Location\": \"San_Simeon_Pt_to_Cayucos\", \"Otter_Count\": 29.0}, {\"Year\": 2014.0, \"Type\": \"Strandings\", \"Location\": \"San_Simeon_Pt_to_Cayucos\", \"Otter_Count\": 25.0}, {\"Year\": 1985.0, \"Type\": \"Census\", \"Location\": \"Cayucos_to_Hazard_Canyon\", \"Otter_Count\": 80.0}, {\"Year\": 1986.0, \"Type\": \"Census\", \"Location\": \"Cayucos_to_Hazard_Canyon\", \"Otter_Count\": 97.0}, {\"Year\": 1987.0, \"Type\": \"Census\", \"Location\": \"Cayucos_to_Hazard_Canyon\", \"Otter_Count\": 95.0}, {\"Year\": 1988.0, \"Type\": \"Census\", \"Location\": \"Cayucos_to_Hazard_Canyon\", \"Otter_Count\": 93.0}, {\"Year\": 1989.0, \"Type\": \"Census\", \"Location\": \"Cayucos_to_Hazard_Canyon\", \"Otter_Count\": 92.0}, {\"Year\": 1990.0, \"Type\": \"Census\", \"Location\": \"Cayucos_to_Hazard_Canyon\", \"Otter_Count\": 89.0}, {\"Year\": 1991.0, \"Type\": \"Census\", \"Location\": \"Cayucos_to_Hazard_Canyon\", \"Otter_Count\": 111.0}, {\"Year\": 1992.0, \"Type\": \"Census\", \"Location\": \"Cayucos_to_Hazard_Canyon\", \"Otter_Count\": 103.0}, {\"Year\": 1993.0, \"Type\": \"Census\", \"Location\": \"Cayucos_to_Hazard_Canyon\", \"Otter_Count\": 100.0}, {\"Year\": 1994.0, \"Type\": \"Census\", \"Location\": \"Cayucos_to_Hazard_Canyon\", \"Otter_Count\": 147.0}, {\"Year\": 1995.0, \"Type\": \"Census\", \"Location\": \"Cayucos_to_Hazard_Canyon\", \"Otter_Count\": 210.0}, {\"Year\": 1996.0, \"Type\": \"Census\", \"Location\": \"Cayucos_to_Hazard_Canyon\", \"Otter_Count\": 208.0}, {\"Year\": 1997.0, \"Type\": \"Census\", \"Location\": \"Cayucos_to_Hazard_Canyon\", \"Otter_Count\": 141.0}, {\"Year\": 1998.0, \"Type\": \"Census\", \"Location\": \"Cayucos_to_Hazard_Canyon\", \"Otter_Count\": 86.0}, {\"Year\": 1999.0, \"Type\": \"Census\", \"Location\": \"Cayucos_to_Hazard_Canyon\", \"Otter_Count\": 78.0}, {\"Year\": 2000.0, \"Type\": \"Census\", \"Location\": \"Cayucos_to_Hazard_Canyon\", \"Otter_Count\": 90.0}, {\"Year\": 2001.0, \"Type\": \"Census\", \"Location\": \"Cayucos_to_Hazard_Canyon\", \"Otter_Count\": 106.0}, {\"Year\": 2002.0, \"Type\": \"Census\", \"Location\": \"Cayucos_to_Hazard_Canyon\", \"Otter_Count\": 96.0}, {\"Year\": 2003.0, \"Type\": \"Census\", \"Location\": \"Cayucos_to_Hazard_Canyon\", \"Otter_Count\": 99.0}, {\"Year\": 2004.0, \"Type\": \"Census\", \"Location\": \"Cayucos_to_Hazard_Canyon\", \"Otter_Count\": 163.0}, {\"Year\": 2005.0, \"Type\": \"Census\", \"Location\": \"Cayucos_to_Hazard_Canyon\", \"Otter_Count\": 214.0}, {\"Year\": 2006.0, \"Type\": \"Census\", \"Location\": \"Cayucos_to_Hazard_Canyon\", \"Otter_Count\": 222.0}, {\"Year\": 2007.0, \"Type\": \"Census\", \"Location\": \"Cayucos_to_Hazard_Canyon\", \"Otter_Count\": 190.0}, {\"Year\": 2008.0, \"Type\": \"Census\", \"Location\": \"Cayucos_to_Hazard_Canyon\", \"Otter_Count\": 156.0}, {\"Year\": 2009.0, \"Type\": \"Census\", \"Location\": \"Cayucos_to_Hazard_Canyon\", \"Otter_Count\": 149.0}, {\"Year\": 2010.0, \"Type\": \"Census\", \"Location\": \"Cayucos_to_Hazard_Canyon\", \"Otter_Count\": 164.0}, {\"Year\": 2012.0, \"Type\": \"Census\", \"Location\": \"Cayucos_to_Hazard_Canyon\", \"Otter_Count\": 203.0}, {\"Year\": 2013.0, \"Type\": \"Census\", \"Location\": \"Cayucos_to_Hazard_Canyon\", \"Otter_Count\": 204.0}, {\"Year\": 2014.0, \"Type\": \"Census\", \"Location\": \"Cayucos_to_Hazard_Canyon\", \"Otter_Count\": 158.0}, {\"Year\": 1985.0, \"Type\": \"Strandings\", \"Location\": \"Cayucos_to_Hazard_Canyon\", \"Otter_Count\": 13.0}, {\"Year\": 1986.0, \"Type\": \"Strandings\", \"Location\": \"Cayucos_to_Hazard_Canyon\", \"Otter_Count\": 9.0}, {\"Year\": 1987.0, \"Type\": \"Strandings\", \"Location\": \"Cayucos_to_Hazard_Canyon\", \"Otter_Count\": 8.0}, {\"Year\": 1988.0, \"Type\": \"Strandings\", \"Location\": \"Cayucos_to_Hazard_Canyon\", \"Otter_Count\": 18.0}, {\"Year\": 1989.0, \"Type\": \"Strandings\", \"Location\": \"Cayucos_to_Hazard_Canyon\", \"Otter_Count\": 26.0}, {\"Year\": 1990.0, \"Type\": \"Strandings\", \"Location\": \"Cayucos_to_Hazard_Canyon\", \"Otter_Count\": 27.0}, {\"Year\": 1991.0, \"Type\": \"Strandings\", \"Location\": \"Cayucos_to_Hazard_Canyon\", \"Otter_Count\": 16.0}, {\"Year\": 1992.0, \"Type\": \"Strandings\", \"Location\": \"Cayucos_to_Hazard_Canyon\", \"Otter_Count\": 20.0}, {\"Year\": 1993.0, \"Type\": \"Strandings\", \"Location\": \"Cayucos_to_Hazard_Canyon\", \"Otter_Count\": 17.0}, {\"Year\": 1994.0, \"Type\": \"Strandings\", \"Location\": \"Cayucos_to_Hazard_Canyon\", \"Otter_Count\": 23.0}, {\"Year\": 1995.0, \"Type\": \"Strandings\", \"Location\": \"Cayucos_to_Hazard_Canyon\", \"Otter_Count\": 25.0}, {\"Year\": 1996.0, \"Type\": \"Strandings\", \"Location\": \"Cayucos_to_Hazard_Canyon\", \"Otter_Count\": 49.0}, {\"Year\": 1997.0, \"Type\": \"Strandings\", \"Location\": \"Cayucos_to_Hazard_Canyon\", \"Otter_Count\": 34.0}, {\"Year\": 1998.0, \"Type\": \"Strandings\", \"Location\": \"Cayucos_to_Hazard_Canyon\", \"Otter_Count\": 34.0}, {\"Year\": 1999.0, \"Type\": \"Strandings\", \"Location\": \"Cayucos_to_Hazard_Canyon\", \"Otter_Count\": 34.0}, {\"Year\": 2000.0, \"Type\": \"Strandings\", \"Location\": \"Cayucos_to_Hazard_Canyon\", \"Otter_Count\": 23.0}, {\"Year\": 2001.0, \"Type\": \"Strandings\", \"Location\": \"Cayucos_to_Hazard_Canyon\", \"Otter_Count\": 32.0}, {\"Year\": 2002.0, \"Type\": \"Strandings\", \"Location\": \"Cayucos_to_Hazard_Canyon\", \"Otter_Count\": 28.0}, {\"Year\": 2003.0, \"Type\": \"Strandings\", \"Location\": \"Cayucos_to_Hazard_Canyon\", \"Otter_Count\": 62.0}, {\"Year\": 2004.0, \"Type\": \"Strandings\", \"Location\": \"Cayucos_to_Hazard_Canyon\", \"Otter_Count\": 77.0}, {\"Year\": 2005.0, \"Type\": \"Strandings\", \"Location\": \"Cayucos_to_Hazard_Canyon\", \"Otter_Count\": 74.0}, {\"Year\": 2006.0, \"Type\": \"Strandings\", \"Location\": \"Cayucos_to_Hazard_Canyon\", \"Otter_Count\": 53.0}, {\"Year\": 2007.0, \"Type\": \"Strandings\", \"Location\": \"Cayucos_to_Hazard_Canyon\", \"Otter_Count\": 79.0}, {\"Year\": 2008.0, \"Type\": \"Strandings\", \"Location\": \"Cayucos_to_Hazard_Canyon\", \"Otter_Count\": 54.0}, {\"Year\": 2009.0, \"Type\": \"Strandings\", \"Location\": \"Cayucos_to_Hazard_Canyon\", \"Otter_Count\": 50.0}, {\"Year\": 2010.0, \"Type\": \"Strandings\", \"Location\": \"Cayucos_to_Hazard_Canyon\", \"Otter_Count\": 64.0}, {\"Year\": 2011.0, \"Type\": \"Strandings\", \"Location\": \"Cayucos_to_Hazard_Canyon\", \"Otter_Count\": 72.0}, {\"Year\": 2012.0, \"Type\": \"Strandings\", \"Location\": \"Cayucos_to_Hazard_Canyon\", \"Otter_Count\": 75.0}, {\"Year\": 2013.0, \"Type\": \"Strandings\", \"Location\": \"Cayucos_to_Hazard_Canyon\", \"Otter_Count\": 78.0}, {\"Year\": 2014.0, \"Type\": \"Strandings\", \"Location\": \"Cayucos_to_Hazard_Canyon\", \"Otter_Count\": 74.0}, {\"Year\": 1985.0, \"Type\": \"Census\", \"Location\": \"Hazard_Canyon_to_Pismo_Beach\", \"Otter_Count\": 4.0}, {\"Year\": 1986.0, \"Type\": \"Census\", \"Location\": \"Hazard_Canyon_to_Pismo_Beach\", \"Otter_Count\": 24.0}, {\"Year\": 1987.0, \"Type\": \"Census\", \"Location\": \"Hazard_Canyon_to_Pismo_Beach\", \"Otter_Count\": 30.0}, {\"Year\": 1988.0, \"Type\": \"Census\", \"Location\": \"Hazard_Canyon_to_Pismo_Beach\", \"Otter_Count\": 54.0}, {\"Year\": 1989.0, \"Type\": \"Census\", \"Location\": \"Hazard_Canyon_to_Pismo_Beach\", \"Otter_Count\": 71.0}, {\"Year\": 1990.0, \"Type\": \"Census\", \"Location\": \"Hazard_Canyon_to_Pismo_Beach\", \"Otter_Count\": 82.0}, {\"Year\": 1991.0, \"Type\": \"Census\", \"Location\": \"Hazard_Canyon_to_Pismo_Beach\", \"Otter_Count\": 99.0}, {\"Year\": 1992.0, \"Type\": \"Census\", \"Location\": \"Hazard_Canyon_to_Pismo_Beach\", \"Otter_Count\": 103.0}, {\"Year\": 1993.0, \"Type\": \"Census\", \"Location\": \"Hazard_Canyon_to_Pismo_Beach\", \"Otter_Count\": 131.0}, {\"Year\": 1994.0, \"Type\": \"Census\", \"Location\": \"Hazard_Canyon_to_Pismo_Beach\", \"Otter_Count\": 143.0}, {\"Year\": 1995.0, \"Type\": \"Census\", \"Location\": \"Hazard_Canyon_to_Pismo_Beach\", \"Otter_Count\": 173.0}, {\"Year\": 1996.0, \"Type\": \"Census\", \"Location\": \"Hazard_Canyon_to_Pismo_Beach\", \"Otter_Count\": 143.0}, {\"Year\": 1997.0, \"Type\": \"Census\", \"Location\": \"Hazard_Canyon_to_Pismo_Beach\", \"Otter_Count\": 125.0}, {\"Year\": 1998.0, \"Type\": \"Census\", \"Location\": \"Hazard_Canyon_to_Pismo_Beach\", \"Otter_Count\": 104.0}, {\"Year\": 1999.0, \"Type\": \"Census\", \"Location\": \"Hazard_Canyon_to_Pismo_Beach\", \"Otter_Count\": 116.0}, {\"Year\": 2000.0, \"Type\": \"Census\", \"Location\": \"Hazard_Canyon_to_Pismo_Beach\", \"Otter_Count\": 124.0}, {\"Year\": 2001.0, \"Type\": \"Census\", \"Location\": \"Hazard_Canyon_to_Pismo_Beach\", \"Otter_Count\": 122.0}, {\"Year\": 2002.0, \"Type\": \"Census\", \"Location\": \"Hazard_Canyon_to_Pismo_Beach\", \"Otter_Count\": 120.0}, {\"Year\": 2003.0, \"Type\": \"Census\", \"Location\": \"Hazard_Canyon_to_Pismo_Beach\", \"Otter_Count\": 120.0}, {\"Year\": 2004.0, \"Type\": \"Census\", \"Location\": \"Hazard_Canyon_to_Pismo_Beach\", \"Otter_Count\": 137.0}, {\"Year\": 2005.0, \"Type\": \"Census\", \"Location\": \"Hazard_Canyon_to_Pismo_Beach\", \"Otter_Count\": 161.0}, {\"Year\": 2006.0, \"Type\": \"Census\", \"Location\": \"Hazard_Canyon_to_Pismo_Beach\", \"Otter_Count\": 168.0}, {\"Year\": 2007.0, \"Type\": \"Census\", \"Location\": \"Hazard_Canyon_to_Pismo_Beach\", \"Otter_Count\": 170.0}, {\"Year\": 2008.0, \"Type\": \"Census\", \"Location\": \"Hazard_Canyon_to_Pismo_Beach\", \"Otter_Count\": 168.0}, {\"Year\": 2009.0, \"Type\": \"Census\", \"Location\": \"Hazard_Canyon_to_Pismo_Beach\", \"Otter_Count\": 157.0}, {\"Year\": 2010.0, \"Type\": \"Census\", \"Location\": \"Hazard_Canyon_to_Pismo_Beach\", \"Otter_Count\": 138.0}, {\"Year\": 2012.0, \"Type\": \"Census\", \"Location\": \"Hazard_Canyon_to_Pismo_Beach\", \"Otter_Count\": 122.0}, {\"Year\": 2013.0, \"Type\": \"Census\", \"Location\": \"Hazard_Canyon_to_Pismo_Beach\", \"Otter_Count\": 103.0}, {\"Year\": 2014.0, \"Type\": \"Census\", \"Location\": \"Hazard_Canyon_to_Pismo_Beach\", \"Otter_Count\": 111.0}, {\"Year\": 1985.0, \"Type\": \"Strandings\", \"Location\": \"Hazard_Canyon_to_Pismo_Beach\", \"Otter_Count\": 1.0}, {\"Year\": 1986.0, \"Type\": \"Strandings\", \"Location\": \"Hazard_Canyon_to_Pismo_Beach\", \"Otter_Count\": 0.0}, {\"Year\": 1987.0, \"Type\": \"Strandings\", \"Location\": \"Hazard_Canyon_to_Pismo_Beach\", \"Otter_Count\": 4.0}, {\"Year\": 1988.0, \"Type\": \"Strandings\", \"Location\": \"Hazard_Canyon_to_Pismo_Beach\", \"Otter_Count\": 4.0}, {\"Year\": 1989.0, \"Type\": \"Strandings\", \"Location\": \"Hazard_Canyon_to_Pismo_Beach\", \"Otter_Count\": 5.0}, {\"Year\": 1990.0, \"Type\": \"Strandings\", \"Location\": \"Hazard_Canyon_to_Pismo_Beach\", \"Otter_Count\": 0.0}, {\"Year\": 1991.0, \"Type\": \"Strandings\", \"Location\": \"Hazard_Canyon_to_Pismo_Beach\", \"Otter_Count\": 2.0}, {\"Year\": 1992.0, \"Type\": \"Strandings\", \"Location\": \"Hazard_Canyon_to_Pismo_Beach\", \"Otter_Count\": 14.0}, {\"Year\": 1993.0, \"Type\": \"Strandings\", \"Location\": \"Hazard_Canyon_to_Pismo_Beach\", \"Otter_Count\": 10.0}, {\"Year\": 1994.0, \"Type\": \"Strandings\", \"Location\": \"Hazard_Canyon_to_Pismo_Beach\", \"Otter_Count\": 8.0}, {\"Year\": 1995.0, \"Type\": \"Strandings\", \"Location\": \"Hazard_Canyon_to_Pismo_Beach\", \"Otter_Count\": 8.0}, {\"Year\": 1996.0, \"Type\": \"Strandings\", \"Location\": \"Hazard_Canyon_to_Pismo_Beach\", \"Otter_Count\": 11.0}, {\"Year\": 1997.0, \"Type\": \"Strandings\", \"Location\": \"Hazard_Canyon_to_Pismo_Beach\", \"Otter_Count\": 16.0}, {\"Year\": 1998.0, \"Type\": \"Strandings\", \"Location\": \"Hazard_Canyon_to_Pismo_Beach\", \"Otter_Count\": 2.0}, {\"Year\": 1999.0, \"Type\": \"Strandings\", \"Location\": \"Hazard_Canyon_to_Pismo_Beach\", \"Otter_Count\": 12.0}, {\"Year\": 2000.0, \"Type\": \"Strandings\", \"Location\": \"Hazard_Canyon_to_Pismo_Beach\", \"Otter_Count\": 5.0}, {\"Year\": 2001.0, \"Type\": \"Strandings\", \"Location\": \"Hazard_Canyon_to_Pismo_Beach\", \"Otter_Count\": 10.0}, {\"Year\": 2002.0, \"Type\": \"Strandings\", \"Location\": \"Hazard_Canyon_to_Pismo_Beach\", \"Otter_Count\": 10.0}, {\"Year\": 2003.0, \"Type\": \"Strandings\", \"Location\": \"Hazard_Canyon_to_Pismo_Beach\", \"Otter_Count\": 11.0}, {\"Year\": 2004.0, \"Type\": \"Strandings\", \"Location\": \"Hazard_Canyon_to_Pismo_Beach\", \"Otter_Count\": 10.0}, {\"Year\": 2005.0, \"Type\": \"Strandings\", \"Location\": \"Hazard_Canyon_to_Pismo_Beach\", \"Otter_Count\": 7.0}, {\"Year\": 2006.0, \"Type\": \"Strandings\", \"Location\": \"Hazard_Canyon_to_Pismo_Beach\", \"Otter_Count\": 21.0}, {\"Year\": 2007.0, \"Type\": \"Strandings\", \"Location\": \"Hazard_Canyon_to_Pismo_Beach\", \"Otter_Count\": 21.0}, {\"Year\": 2008.0, \"Type\": \"Strandings\", \"Location\": \"Hazard_Canyon_to_Pismo_Beach\", \"Otter_Count\": 5.0}, {\"Year\": 2009.0, \"Type\": \"Strandings\", \"Location\": \"Hazard_Canyon_to_Pismo_Beach\", \"Otter_Count\": 10.0}, {\"Year\": 2010.0, \"Type\": \"Strandings\", \"Location\": \"Hazard_Canyon_to_Pismo_Beach\", \"Otter_Count\": 22.0}, {\"Year\": 2011.0, \"Type\": \"Strandings\", \"Location\": \"Hazard_Canyon_to_Pismo_Beach\", \"Otter_Count\": 14.0}, {\"Year\": 2012.0, \"Type\": \"Strandings\", \"Location\": \"Hazard_Canyon_to_Pismo_Beach\", \"Otter_Count\": 20.0}, {\"Year\": 2013.0, \"Type\": \"Strandings\", \"Location\": \"Hazard_Canyon_to_Pismo_Beach\", \"Otter_Count\": 27.0}, {\"Year\": 2014.0, \"Type\": \"Strandings\", \"Location\": \"Hazard_Canyon_to_Pismo_Beach\", \"Otter_Count\": 23.0}, {\"Year\": 1985.0, \"Type\": \"Census\", \"Location\": \"Pismo_Beach_to_Pt_Sal\", \"Otter_Count\": 0.0}, {\"Year\": 1986.0, \"Type\": \"Census\", \"Location\": \"Pismo_Beach_to_Pt_Sal\", \"Otter_Count\": 0.0}, {\"Year\": 1987.0, \"Type\": \"Census\", \"Location\": \"Pismo_Beach_to_Pt_Sal\", \"Otter_Count\": 10.0}, {\"Year\": 1988.0, \"Type\": \"Census\", \"Location\": \"Pismo_Beach_to_Pt_Sal\", \"Otter_Count\": 10.0}, {\"Year\": 1989.0, \"Type\": \"Census\", \"Location\": \"Pismo_Beach_to_Pt_Sal\", \"Otter_Count\": 14.0}, {\"Year\": 1990.0, \"Type\": \"Census\", \"Location\": \"Pismo_Beach_to_Pt_Sal\", \"Otter_Count\": 7.0}, {\"Year\": 1991.0, \"Type\": \"Census\", \"Location\": \"Pismo_Beach_to_Pt_Sal\", \"Otter_Count\": 26.0}, {\"Year\": 1992.0, \"Type\": \"Census\", \"Location\": \"Pismo_Beach_to_Pt_Sal\", \"Otter_Count\": 47.0}, {\"Year\": 1993.0, \"Type\": \"Census\", \"Location\": \"Pismo_Beach_to_Pt_Sal\", \"Otter_Count\": 86.0}, {\"Year\": 1994.0, \"Type\": \"Census\", \"Location\": \"Pismo_Beach_to_Pt_Sal\", \"Otter_Count\": 83.0}, {\"Year\": 1995.0, \"Type\": \"Census\", \"Location\": \"Pismo_Beach_to_Pt_Sal\", \"Otter_Count\": 82.0}, {\"Year\": 1996.0, \"Type\": \"Census\", \"Location\": \"Pismo_Beach_to_Pt_Sal\", \"Otter_Count\": 48.0}, {\"Year\": 1997.0, \"Type\": \"Census\", \"Location\": \"Pismo_Beach_to_Pt_Sal\", \"Otter_Count\": 50.0}, {\"Year\": 1998.0, \"Type\": \"Census\", \"Location\": \"Pismo_Beach_to_Pt_Sal\", \"Otter_Count\": 44.0}, {\"Year\": 1999.0, \"Type\": \"Census\", \"Location\": \"Pismo_Beach_to_Pt_Sal\", \"Otter_Count\": 69.0}, {\"Year\": 2000.0, \"Type\": \"Census\", \"Location\": \"Pismo_Beach_to_Pt_Sal\", \"Otter_Count\": 94.0}, {\"Year\": 2001.0, \"Type\": \"Census\", \"Location\": \"Pismo_Beach_to_Pt_Sal\", \"Otter_Count\": 81.0}, {\"Year\": 2002.0, \"Type\": \"Census\", \"Location\": \"Pismo_Beach_to_Pt_Sal\", \"Otter_Count\": 82.0}, {\"Year\": 2003.0, \"Type\": \"Census\", \"Location\": \"Pismo_Beach_to_Pt_Sal\", \"Otter_Count\": 44.0}, {\"Year\": 2004.0, \"Type\": \"Census\", \"Location\": \"Pismo_Beach_to_Pt_Sal\", \"Otter_Count\": 92.0}, {\"Year\": 2005.0, \"Type\": \"Census\", \"Location\": \"Pismo_Beach_to_Pt_Sal\", \"Otter_Count\": 95.0}, {\"Year\": 2006.0, \"Type\": \"Census\", \"Location\": \"Pismo_Beach_to_Pt_Sal\", \"Otter_Count\": 101.0}, {\"Year\": 2007.0, \"Type\": \"Census\", \"Location\": \"Pismo_Beach_to_Pt_Sal\", \"Otter_Count\": 79.0}, {\"Year\": 2008.0, \"Type\": \"Census\", \"Location\": \"Pismo_Beach_to_Pt_Sal\", \"Otter_Count\": 127.0}, {\"Year\": 2009.0, \"Type\": \"Census\", \"Location\": \"Pismo_Beach_to_Pt_Sal\", \"Otter_Count\": 181.0}, {\"Year\": 2010.0, \"Type\": \"Census\", \"Location\": \"Pismo_Beach_to_Pt_Sal\", \"Otter_Count\": 224.0}, {\"Year\": 2012.0, \"Type\": \"Census\", \"Location\": \"Pismo_Beach_to_Pt_Sal\", \"Otter_Count\": 190.0}, {\"Year\": 2013.0, \"Type\": \"Census\", \"Location\": \"Pismo_Beach_to_Pt_Sal\", \"Otter_Count\": 154.0}, {\"Year\": 2014.0, \"Type\": \"Census\", \"Location\": \"Pismo_Beach_to_Pt_Sal\", \"Otter_Count\": 172.0}, {\"Year\": 1985.0, \"Type\": \"Strandings\", \"Location\": \"Pismo_Beach_to_Pt_Sal\", \"Otter_Count\": 1.0}, {\"Year\": 1986.0, \"Type\": \"Strandings\", \"Location\": \"Pismo_Beach_to_Pt_Sal\", \"Otter_Count\": 0.0}, {\"Year\": 1987.0, \"Type\": \"Strandings\", \"Location\": \"Pismo_Beach_to_Pt_Sal\", \"Otter_Count\": 1.0}, {\"Year\": 1988.0, \"Type\": \"Strandings\", \"Location\": \"Pismo_Beach_to_Pt_Sal\", \"Otter_Count\": 2.0}, {\"Year\": 1989.0, \"Type\": \"Strandings\", \"Location\": \"Pismo_Beach_to_Pt_Sal\", \"Otter_Count\": 1.0}, {\"Year\": 1990.0, \"Type\": \"Strandings\", \"Location\": \"Pismo_Beach_to_Pt_Sal\", \"Otter_Count\": 4.0}, {\"Year\": 1991.0, \"Type\": \"Strandings\", \"Location\": \"Pismo_Beach_to_Pt_Sal\", \"Otter_Count\": 4.0}, {\"Year\": 1992.0, \"Type\": \"Strandings\", \"Location\": \"Pismo_Beach_to_Pt_Sal\", \"Otter_Count\": 9.0}, {\"Year\": 1993.0, \"Type\": \"Strandings\", \"Location\": \"Pismo_Beach_to_Pt_Sal\", \"Otter_Count\": 8.0}, {\"Year\": 1994.0, \"Type\": \"Strandings\", \"Location\": \"Pismo_Beach_to_Pt_Sal\", \"Otter_Count\": 11.0}, {\"Year\": 1995.0, \"Type\": \"Strandings\", \"Location\": \"Pismo_Beach_to_Pt_Sal\", \"Otter_Count\": 7.0}, {\"Year\": 1996.0, \"Type\": \"Strandings\", \"Location\": \"Pismo_Beach_to_Pt_Sal\", \"Otter_Count\": 13.0}, {\"Year\": 1997.0, \"Type\": \"Strandings\", \"Location\": \"Pismo_Beach_to_Pt_Sal\", \"Otter_Count\": 14.0}, {\"Year\": 1998.0, \"Type\": \"Strandings\", \"Location\": \"Pismo_Beach_to_Pt_Sal\", \"Otter_Count\": 7.0}, {\"Year\": 1999.0, \"Type\": \"Strandings\", \"Location\": \"Pismo_Beach_to_Pt_Sal\", \"Otter_Count\": 14.0}, {\"Year\": 2000.0, \"Type\": \"Strandings\", \"Location\": \"Pismo_Beach_to_Pt_Sal\", \"Otter_Count\": 15.0}, {\"Year\": 2001.0, \"Type\": \"Strandings\", \"Location\": \"Pismo_Beach_to_Pt_Sal\", \"Otter_Count\": 18.0}, {\"Year\": 2002.0, \"Type\": \"Strandings\", \"Location\": \"Pismo_Beach_to_Pt_Sal\", \"Otter_Count\": 11.0}, {\"Year\": 2003.0, \"Type\": \"Strandings\", \"Location\": \"Pismo_Beach_to_Pt_Sal\", \"Otter_Count\": 17.0}, {\"Year\": 2004.0, \"Type\": \"Strandings\", \"Location\": \"Pismo_Beach_to_Pt_Sal\", \"Otter_Count\": 25.0}, {\"Year\": 2005.0, \"Type\": \"Strandings\", \"Location\": \"Pismo_Beach_to_Pt_Sal\", \"Otter_Count\": 22.0}, {\"Year\": 2006.0, \"Type\": \"Strandings\", \"Location\": \"Pismo_Beach_to_Pt_Sal\", \"Otter_Count\": 23.0}, {\"Year\": 2007.0, \"Type\": \"Strandings\", \"Location\": \"Pismo_Beach_to_Pt_Sal\", \"Otter_Count\": 25.0}, {\"Year\": 2008.0, \"Type\": \"Strandings\", \"Location\": \"Pismo_Beach_to_Pt_Sal\", \"Otter_Count\": 24.0}, {\"Year\": 2009.0, \"Type\": \"Strandings\", \"Location\": \"Pismo_Beach_to_Pt_Sal\", \"Otter_Count\": 27.0}, {\"Year\": 2010.0, \"Type\": \"Strandings\", \"Location\": \"Pismo_Beach_to_Pt_Sal\", \"Otter_Count\": 37.0}, {\"Year\": 2011.0, \"Type\": \"Strandings\", \"Location\": \"Pismo_Beach_to_Pt_Sal\", \"Otter_Count\": 51.0}, {\"Year\": 2012.0, \"Type\": \"Strandings\", \"Location\": \"Pismo_Beach_to_Pt_Sal\", \"Otter_Count\": 40.0}, {\"Year\": 2013.0, \"Type\": \"Strandings\", \"Location\": \"Pismo_Beach_to_Pt_Sal\", \"Otter_Count\": 42.0}, {\"Year\": 2014.0, \"Type\": \"Strandings\", \"Location\": \"Pismo_Beach_to_Pt_Sal\", \"Otter_Count\": 50.0}, {\"Year\": 1985.0, \"Type\": \"Census\", \"Location\": \"Pt_Sal_to_Pt_Conception\", \"Otter_Count\": null}, {\"Year\": 1986.0, \"Type\": \"Census\", \"Location\": \"Pt_Sal_to_Pt_Conception\", \"Otter_Count\": null}, {\"Year\": 1987.0, \"Type\": \"Census\", \"Location\": \"Pt_Sal_to_Pt_Conception\", \"Otter_Count\": null}, {\"Year\": 1988.0, \"Type\": \"Census\", \"Location\": \"Pt_Sal_to_Pt_Conception\", \"Otter_Count\": null}, {\"Year\": 1989.0, \"Type\": \"Census\", \"Location\": \"Pt_Sal_to_Pt_Conception\", \"Otter_Count\": null}, {\"Year\": 1990.0, \"Type\": \"Census\", \"Location\": \"Pt_Sal_to_Pt_Conception\", \"Otter_Count\": null}, {\"Year\": 1991.0, \"Type\": \"Census\", \"Location\": \"Pt_Sal_to_Pt_Conception\", \"Otter_Count\": 0.0}, {\"Year\": 1992.0, \"Type\": \"Census\", \"Location\": \"Pt_Sal_to_Pt_Conception\", \"Otter_Count\": 0.0}, {\"Year\": 1993.0, \"Type\": \"Census\", \"Location\": \"Pt_Sal_to_Pt_Conception\", \"Otter_Count\": 0.0}, {\"Year\": 1994.0, \"Type\": \"Census\", \"Location\": \"Pt_Sal_to_Pt_Conception\", \"Otter_Count\": 2.0}, {\"Year\": 1995.0, \"Type\": \"Census\", \"Location\": \"Pt_Sal_to_Pt_Conception\", \"Otter_Count\": 6.0}, {\"Year\": 1996.0, \"Type\": \"Census\", \"Location\": \"Pt_Sal_to_Pt_Conception\", \"Otter_Count\": 6.0}, {\"Year\": 1997.0, \"Type\": \"Census\", \"Location\": \"Pt_Sal_to_Pt_Conception\", \"Otter_Count\": 7.0}, {\"Year\": 1998.0, \"Type\": \"Census\", \"Location\": \"Pt_Sal_to_Pt_Conception\", \"Otter_Count\": 48.0}, {\"Year\": 1999.0, \"Type\": \"Census\", \"Location\": \"Pt_Sal_to_Pt_Conception\", \"Otter_Count\": 17.0}, {\"Year\": 2000.0, \"Type\": \"Census\", \"Location\": \"Pt_Sal_to_Pt_Conception\", \"Otter_Count\": 22.0}, {\"Year\": 2001.0, \"Type\": \"Census\", \"Location\": \"Pt_Sal_to_Pt_Conception\", \"Otter_Count\": 11.0}, {\"Year\": 2002.0, \"Type\": \"Census\", \"Location\": \"Pt_Sal_to_Pt_Conception\", \"Otter_Count\": 15.0}, {\"Year\": 2003.0, \"Type\": \"Census\", \"Location\": \"Pt_Sal_to_Pt_Conception\", \"Otter_Count\": 28.0}, {\"Year\": 2004.0, \"Type\": \"Census\", \"Location\": \"Pt_Sal_to_Pt_Conception\", \"Otter_Count\": 46.0}, {\"Year\": 2005.0, \"Type\": \"Census\", \"Location\": \"Pt_Sal_to_Pt_Conception\", \"Otter_Count\": 57.0}, {\"Year\": 2006.0, \"Type\": \"Census\", \"Location\": \"Pt_Sal_to_Pt_Conception\", \"Otter_Count\": 65.0}, {\"Year\": 2007.0, \"Type\": \"Census\", \"Location\": \"Pt_Sal_to_Pt_Conception\", \"Otter_Count\": 69.0}, {\"Year\": 2008.0, \"Type\": \"Census\", \"Location\": \"Pt_Sal_to_Pt_Conception\", \"Otter_Count\": 60.0}, {\"Year\": 2009.0, \"Type\": \"Census\", \"Location\": \"Pt_Sal_to_Pt_Conception\", \"Otter_Count\": 56.0}, {\"Year\": 2010.0, \"Type\": \"Census\", \"Location\": \"Pt_Sal_to_Pt_Conception\", \"Otter_Count\": 59.0}, {\"Year\": 2012.0, \"Type\": \"Census\", \"Location\": \"Pt_Sal_to_Pt_Conception\", \"Otter_Count\": 47.0}, {\"Year\": 2013.0, \"Type\": \"Census\", \"Location\": \"Pt_Sal_to_Pt_Conception\", \"Otter_Count\": 41.0}, {\"Year\": 2014.0, \"Type\": \"Census\", \"Location\": \"Pt_Sal_to_Pt_Conception\", \"Otter_Count\": 46.0}, {\"Year\": 1985.0, \"Type\": \"Strandings\", \"Location\": \"Pt_Sal_to_Pt_Conception\", \"Otter_Count\": 1.0}, {\"Year\": 1986.0, \"Type\": \"Strandings\", \"Location\": \"Pt_Sal_to_Pt_Conception\", \"Otter_Count\": 0.0}, {\"Year\": 1987.0, \"Type\": \"Strandings\", \"Location\": \"Pt_Sal_to_Pt_Conception\", \"Otter_Count\": 1.0}, {\"Year\": 1988.0, \"Type\": \"Strandings\", \"Location\": \"Pt_Sal_to_Pt_Conception\", \"Otter_Count\": 0.0}, {\"Year\": 1989.0, \"Type\": \"Strandings\", \"Location\": \"Pt_Sal_to_Pt_Conception\", \"Otter_Count\": 3.0}, {\"Year\": 1990.0, \"Type\": \"Strandings\", \"Location\": \"Pt_Sal_to_Pt_Conception\", \"Otter_Count\": 2.0}, {\"Year\": 1991.0, \"Type\": \"Strandings\", \"Location\": \"Pt_Sal_to_Pt_Conception\", \"Otter_Count\": 0.0}, {\"Year\": 1992.0, \"Type\": \"Strandings\", \"Location\": \"Pt_Sal_to_Pt_Conception\", \"Otter_Count\": 0.0}, {\"Year\": 1993.0, \"Type\": \"Strandings\", \"Location\": \"Pt_Sal_to_Pt_Conception\", \"Otter_Count\": 2.0}, {\"Year\": 1994.0, \"Type\": \"Strandings\", \"Location\": \"Pt_Sal_to_Pt_Conception\", \"Otter_Count\": 1.0}, {\"Year\": 1995.0, \"Type\": \"Strandings\", \"Location\": \"Pt_Sal_to_Pt_Conception\", \"Otter_Count\": 4.0}, {\"Year\": 1996.0, \"Type\": \"Strandings\", \"Location\": \"Pt_Sal_to_Pt_Conception\", \"Otter_Count\": 5.0}, {\"Year\": 1997.0, \"Type\": \"Strandings\", \"Location\": \"Pt_Sal_to_Pt_Conception\", \"Otter_Count\": 1.0}, {\"Year\": 1998.0, \"Type\": \"Strandings\", \"Location\": \"Pt_Sal_to_Pt_Conception\", \"Otter_Count\": 5.0}, {\"Year\": 1999.0, \"Type\": \"Strandings\", \"Location\": \"Pt_Sal_to_Pt_Conception\", \"Otter_Count\": 0.0}, {\"Year\": 2000.0, \"Type\": \"Strandings\", \"Location\": \"Pt_Sal_to_Pt_Conception\", \"Otter_Count\": 1.0}, {\"Year\": 2001.0, \"Type\": \"Strandings\", \"Location\": \"Pt_Sal_to_Pt_Conception\", \"Otter_Count\": 2.0}, {\"Year\": 2002.0, \"Type\": \"Strandings\", \"Location\": \"Pt_Sal_to_Pt_Conception\", \"Otter_Count\": 12.0}, {\"Year\": 2003.0, \"Type\": \"Strandings\", \"Location\": \"Pt_Sal_to_Pt_Conception\", \"Otter_Count\": 2.0}, {\"Year\": 2004.0, \"Type\": \"Strandings\", \"Location\": \"Pt_Sal_to_Pt_Conception\", \"Otter_Count\": 2.0}, {\"Year\": 2005.0, \"Type\": \"Strandings\", \"Location\": \"Pt_Sal_to_Pt_Conception\", \"Otter_Count\": 7.0}, {\"Year\": 2006.0, \"Type\": \"Strandings\", \"Location\": \"Pt_Sal_to_Pt_Conception\", \"Otter_Count\": 9.0}, {\"Year\": 2007.0, \"Type\": \"Strandings\", \"Location\": \"Pt_Sal_to_Pt_Conception\", \"Otter_Count\": 5.0}, {\"Year\": 2008.0, \"Type\": \"Strandings\", \"Location\": \"Pt_Sal_to_Pt_Conception\", \"Otter_Count\": 1.0}, {\"Year\": 2009.0, \"Type\": \"Strandings\", \"Location\": \"Pt_Sal_to_Pt_Conception\", \"Otter_Count\": 1.0}, {\"Year\": 2010.0, \"Type\": \"Strandings\", \"Location\": \"Pt_Sal_to_Pt_Conception\", \"Otter_Count\": 5.0}, {\"Year\": 2011.0, \"Type\": \"Strandings\", \"Location\": \"Pt_Sal_to_Pt_Conception\", \"Otter_Count\": 2.0}, {\"Year\": 2012.0, \"Type\": \"Strandings\", \"Location\": \"Pt_Sal_to_Pt_Conception\", \"Otter_Count\": 3.0}, {\"Year\": 2013.0, \"Type\": \"Strandings\", \"Location\": \"Pt_Sal_to_Pt_Conception\", \"Otter_Count\": 5.0}, {\"Year\": 2014.0, \"Type\": \"Strandings\", \"Location\": \"Pt_Sal_to_Pt_Conception\", \"Otter_Count\": 4.0}, {\"Year\": 1985.0, \"Type\": \"Census\", \"Location\": \"SE_of_Pt_Conception\", \"Otter_Count\": null}, {\"Year\": 1986.0, \"Type\": \"Census\", \"Location\": \"SE_of_Pt_Conception\", \"Otter_Count\": null}, {\"Year\": 1987.0, \"Type\": \"Census\", \"Location\": \"SE_of_Pt_Conception\", \"Otter_Count\": null}, {\"Year\": 1988.0, \"Type\": \"Census\", \"Location\": \"SE_of_Pt_Conception\", \"Otter_Count\": null}, {\"Year\": 1989.0, \"Type\": \"Census\", \"Location\": \"SE_of_Pt_Conception\", \"Otter_Count\": null}, {\"Year\": 1990.0, \"Type\": \"Census\", \"Location\": \"SE_of_Pt_Conception\", \"Otter_Count\": null}, {\"Year\": 1991.0, \"Type\": \"Census\", \"Location\": \"SE_of_Pt_Conception\", \"Otter_Count\": null}, {\"Year\": 1992.0, \"Type\": \"Census\", \"Location\": \"SE_of_Pt_Conception\", \"Otter_Count\": null}, {\"Year\": 1993.0, \"Type\": \"Census\", \"Location\": \"SE_of_Pt_Conception\", \"Otter_Count\": null}, {\"Year\": 1994.0, \"Type\": \"Census\", \"Location\": \"SE_of_Pt_Conception\", \"Otter_Count\": null}, {\"Year\": 1995.0, \"Type\": \"Census\", \"Location\": \"SE_of_Pt_Conception\", \"Otter_Count\": null}, {\"Year\": 1996.0, \"Type\": \"Census\", \"Location\": \"SE_of_Pt_Conception\", \"Otter_Count\": null}, {\"Year\": 1997.0, \"Type\": \"Census\", \"Location\": \"SE_of_Pt_Conception\", \"Otter_Count\": null}, {\"Year\": 1998.0, \"Type\": \"Census\", \"Location\": \"SE_of_Pt_Conception\", \"Otter_Count\": null}, {\"Year\": 1999.0, \"Type\": \"Census\", \"Location\": \"SE_of_Pt_Conception\", \"Otter_Count\": 16.0}, {\"Year\": 2000.0, \"Type\": \"Census\", \"Location\": \"SE_of_Pt_Conception\", \"Otter_Count\": 42.0}, {\"Year\": 2001.0, \"Type\": \"Census\", \"Location\": \"SE_of_Pt_Conception\", \"Otter_Count\": 34.0}, {\"Year\": 2002.0, \"Type\": \"Census\", \"Location\": \"SE_of_Pt_Conception\", \"Otter_Count\": 24.0}, {\"Year\": 2003.0, \"Type\": \"Census\", \"Location\": \"SE_of_Pt_Conception\", \"Otter_Count\": 10.0}, {\"Year\": 2004.0, \"Type\": \"Census\", \"Location\": \"SE_of_Pt_Conception\", \"Otter_Count\": 0.0}, {\"Year\": 2005.0, \"Type\": \"Census\", \"Location\": \"SE_of_Pt_Conception\", \"Otter_Count\": 20.0}, {\"Year\": 2006.0, \"Type\": \"Census\", \"Location\": \"SE_of_Pt_Conception\", \"Otter_Count\": 27.0}, {\"Year\": 2007.0, \"Type\": \"Census\", \"Location\": \"SE_of_Pt_Conception\", \"Otter_Count\": 35.0}, {\"Year\": 2008.0, \"Type\": \"Census\", \"Location\": \"SE_of_Pt_Conception\", \"Otter_Count\": 26.0}, {\"Year\": 2009.0, \"Type\": \"Census\", \"Location\": \"SE_of_Pt_Conception\", \"Otter_Count\": 14.0}, {\"Year\": 2010.0, \"Type\": \"Census\", \"Location\": \"SE_of_Pt_Conception\", \"Otter_Count\": 12.0}, {\"Year\": 2012.0, \"Type\": \"Census\", \"Location\": \"SE_of_Pt_Conception\", \"Otter_Count\": 21.0}, {\"Year\": 2013.0, \"Type\": \"Census\", \"Location\": \"SE_of_Pt_Conception\", \"Otter_Count\": 34.0}, {\"Year\": 2014.0, \"Type\": \"Census\", \"Location\": \"SE_of_Pt_Conception\", \"Otter_Count\": 40.0}, {\"Year\": 1985.0, \"Type\": \"Strandings\", \"Location\": \"SE_of_Pt_Conception\", \"Otter_Count\": 2.0}, {\"Year\": 1986.0, \"Type\": \"Strandings\", \"Location\": \"SE_of_Pt_Conception\", \"Otter_Count\": 0.0}, {\"Year\": 1987.0, \"Type\": \"Strandings\", \"Location\": \"SE_of_Pt_Conception\", \"Otter_Count\": 4.0}, {\"Year\": 1988.0, \"Type\": \"Strandings\", \"Location\": \"SE_of_Pt_Conception\", \"Otter_Count\": 1.0}, {\"Year\": 1989.0, \"Type\": \"Strandings\", \"Location\": \"SE_of_Pt_Conception\", \"Otter_Count\": 0.0}, {\"Year\": 1990.0, \"Type\": \"Strandings\", \"Location\": \"SE_of_Pt_Conception\", \"Otter_Count\": 1.0}, {\"Year\": 1991.0, \"Type\": \"Strandings\", \"Location\": \"SE_of_Pt_Conception\", \"Otter_Count\": 1.0}, {\"Year\": 1992.0, \"Type\": \"Strandings\", \"Location\": \"SE_of_Pt_Conception\", \"Otter_Count\": 0.0}, {\"Year\": 1993.0, \"Type\": \"Strandings\", \"Location\": \"SE_of_Pt_Conception\", \"Otter_Count\": 0.0}, {\"Year\": 1994.0, \"Type\": \"Strandings\", \"Location\": \"SE_of_Pt_Conception\", \"Otter_Count\": 2.0}, {\"Year\": 1995.0, \"Type\": \"Strandings\", \"Location\": \"SE_of_Pt_Conception\", \"Otter_Count\": 1.0}, {\"Year\": 1996.0, \"Type\": \"Strandings\", \"Location\": \"SE_of_Pt_Conception\", \"Otter_Count\": 0.0}, {\"Year\": 1997.0, \"Type\": \"Strandings\", \"Location\": \"SE_of_Pt_Conception\", \"Otter_Count\": 0.0}, {\"Year\": 1998.0, \"Type\": \"Strandings\", \"Location\": \"SE_of_Pt_Conception\", \"Otter_Count\": 3.0}, {\"Year\": 1999.0, \"Type\": \"Strandings\", \"Location\": \"SE_of_Pt_Conception\", \"Otter_Count\": 4.0}, {\"Year\": 2000.0, \"Type\": \"Strandings\", \"Location\": \"SE_of_Pt_Conception\", \"Otter_Count\": 3.0}, {\"Year\": 2001.0, \"Type\": \"Strandings\", \"Location\": \"SE_of_Pt_Conception\", \"Otter_Count\": 3.0}, {\"Year\": 2002.0, \"Type\": \"Strandings\", \"Location\": \"SE_of_Pt_Conception\", \"Otter_Count\": 5.0}, {\"Year\": 2003.0, \"Type\": \"Strandings\", \"Location\": \"SE_of_Pt_Conception\", \"Otter_Count\": 3.0}, {\"Year\": 2004.0, \"Type\": \"Strandings\", \"Location\": \"SE_of_Pt_Conception\", \"Otter_Count\": 2.0}, {\"Year\": 2005.0, \"Type\": \"Strandings\", \"Location\": \"SE_of_Pt_Conception\", \"Otter_Count\": 0.0}, {\"Year\": 2006.0, \"Type\": \"Strandings\", \"Location\": \"SE_of_Pt_Conception\", \"Otter_Count\": 3.0}, {\"Year\": 2007.0, \"Type\": \"Strandings\", \"Location\": \"SE_of_Pt_Conception\", \"Otter_Count\": 3.0}, {\"Year\": 2008.0, \"Type\": \"Strandings\", \"Location\": \"SE_of_Pt_Conception\", \"Otter_Count\": 3.0}, {\"Year\": 2009.0, \"Type\": \"Strandings\", \"Location\": \"SE_of_Pt_Conception\", \"Otter_Count\": 0.0}, {\"Year\": 2010.0, \"Type\": \"Strandings\", \"Location\": \"SE_of_Pt_Conception\", \"Otter_Count\": 2.0}, {\"Year\": 2011.0, \"Type\": \"Strandings\", \"Location\": \"SE_of_Pt_Conception\", \"Otter_Count\": 4.0}, {\"Year\": 2012.0, \"Type\": \"Strandings\", \"Location\": \"SE_of_Pt_Conception\", \"Otter_Count\": 4.0}, {\"Year\": 2013.0, \"Type\": \"Strandings\", \"Location\": \"SE_of_Pt_Conception\", \"Otter_Count\": 9.0}, {\"Year\": 2014.0, \"Type\": \"Strandings\", \"Location\": \"SE_of_Pt_Conception\", \"Otter_Count\": 4.0}]}}, {\"mode\": \"vega-lite\"});\n",
       "</script>"
      ],
      "text/plain": [
       "alt.FacetChart(...)"
      ]
     },
     "execution_count": 58,
     "metadata": {},
     "output_type": "execute_result"
    }
   ],
   "source": [
    "chart_title = 'Population and stranding cases trend of different regions over time'\n",
    "alt.Chart(melted_df).mark_line().encode(\n",
    "        x='Year',\n",
    "        y='Otter_Count',\n",
    "        color='Type'\n",
    ").properties(\n",
    "    width=150,\n",
    "    height=100,\n",
    ").facet(\n",
    "    facet=alt.Facet('Location',\n",
    "                    sort=alt.EncodingSortField('Latitude',  \n",
    "                                                order='ascending')),\n",
    "    columns=5,\n",
    "    title=chart_title\n",
    ").configure_axis(\n",
    "    grid=False,\n",
    "    labelFontSize=12,\n",
    "    titleFontSize=12\n",
    ").configure_legend(\n",
    "    labelFontSize=12,\n",
    "    titleFontSize=12\n",
    ").configure_title(\n",
    "    #fontWeight='normal',\n",
    "    fontSize=13\n",
    ")"
   ]
  },
  {
   "cell_type": "markdown",
   "metadata": {
    "id": "Bne6m19DY6iU"
   },
   "source": [
    "We can observe correlation between stranding cases and population in some regions, **Capitola_to_Seaside** and **Cayucos_to_Hazard_Canyon** in particular. We do a more in depth analysis."
   ]
  },
  {
   "cell_type": "markdown",
   "metadata": {
    "id": "mINC1JvgY6iU"
   },
   "source": [
    "We also look at the total stranding cases for each region over years."
   ]
  },
  {
   "cell_type": "code",
   "execution_count": 59,
   "metadata": {
    "id": "o-2iSOY9Y6iU",
    "outputId": "81bc513b-897a-4732-9995-d3113a60584c"
   },
   "outputs": [
    {
     "data": {
      "text/html": [
       "<div>\n",
       "<style scoped>\n",
       "    .dataframe tbody tr th:only-of-type {\n",
       "        vertical-align: middle;\n",
       "    }\n",
       "\n",
       "    .dataframe tbody tr th {\n",
       "        vertical-align: top;\n",
       "    }\n",
       "\n",
       "    .dataframe thead th {\n",
       "        text-align: right;\n",
       "    }\n",
       "</style>\n",
       "<table border=\"1\" class=\"dataframe\">\n",
       "  <thead>\n",
       "    <tr style=\"text-align: right;\">\n",
       "      <th></th>\n",
       "      <th>Location</th>\n",
       "      <th>Type</th>\n",
       "      <th>Otter_Count</th>\n",
       "    </tr>\n",
       "  </thead>\n",
       "  <tbody>\n",
       "    <tr>\n",
       "      <th>0</th>\n",
       "      <td>C_San_Martin_to_San_Simeon_Pt</td>\n",
       "      <td>Census</td>\n",
       "      <td>8216.0</td>\n",
       "    </tr>\n",
       "    <tr>\n",
       "      <th>1</th>\n",
       "      <td>C_San_Martin_to_San_Simeon_Pt</td>\n",
       "      <td>Strandings</td>\n",
       "      <td>248.0</td>\n",
       "    </tr>\n",
       "    <tr>\n",
       "      <th>2</th>\n",
       "      <td>Capitola_to_Seaside</td>\n",
       "      <td>Census</td>\n",
       "      <td>7204.0</td>\n",
       "    </tr>\n",
       "    <tr>\n",
       "      <th>3</th>\n",
       "      <td>Capitola_to_Seaside</td>\n",
       "      <td>Strandings</td>\n",
       "      <td>1521.0</td>\n",
       "    </tr>\n",
       "    <tr>\n",
       "      <th>4</th>\n",
       "      <td>Cayucos_to_Hazard_Canyon</td>\n",
       "      <td>Census</td>\n",
       "      <td>3944.0</td>\n",
       "    </tr>\n",
       "  </tbody>\n",
       "</table>\n",
       "</div>"
      ],
      "text/plain": [
       "                        Location        Type  Otter_Count\n",
       "0  C_San_Martin_to_San_Simeon_Pt      Census       8216.0\n",
       "1  C_San_Martin_to_San_Simeon_Pt  Strandings        248.0\n",
       "2            Capitola_to_Seaside      Census       7204.0\n",
       "3            Capitola_to_Seaside  Strandings       1521.0\n",
       "4       Cayucos_to_Hazard_Canyon      Census       3944.0"
      ]
     },
     "execution_count": 59,
     "metadata": {},
     "output_type": "execute_result"
    }
   ],
   "source": [
    "count_data_geo = pd.DataFrame(melted_df.groupby(['Location','Type']).Otter_Count.sum()).reset_index()\n",
    "count_data_geo.head()"
   ]
  },
  {
   "cell_type": "code",
   "execution_count": 60,
   "metadata": {
    "id": "tArT_KKCY6iV",
    "outputId": "e6c969e3-dda4-43df-8d0a-bfcabffd6e97"
   },
   "outputs": [
    {
     "data": {
      "text/html": [
       "\n",
       "<div id=\"altair-viz-12297e1878f04bd99bd2115250b8b7f5\"></div>\n",
       "<script type=\"text/javascript\">\n",
       "  (function(spec, embedOpt){\n",
       "    let outputDiv = document.currentScript.previousElementSibling;\n",
       "    if (outputDiv.id !== \"altair-viz-12297e1878f04bd99bd2115250b8b7f5\") {\n",
       "      outputDiv = document.getElementById(\"altair-viz-12297e1878f04bd99bd2115250b8b7f5\");\n",
       "    }\n",
       "    const paths = {\n",
       "      \"vega\": \"https://cdn.jsdelivr.net/npm//vega@5?noext\",\n",
       "      \"vega-lib\": \"https://cdn.jsdelivr.net/npm//vega-lib?noext\",\n",
       "      \"vega-lite\": \"https://cdn.jsdelivr.net/npm//vega-lite@4.8.1?noext\",\n",
       "      \"vega-embed\": \"https://cdn.jsdelivr.net/npm//vega-embed@6?noext\",\n",
       "    };\n",
       "\n",
       "    function loadScript(lib) {\n",
       "      return new Promise(function(resolve, reject) {\n",
       "        var s = document.createElement('script');\n",
       "        s.src = paths[lib];\n",
       "        s.async = true;\n",
       "        s.onload = () => resolve(paths[lib]);\n",
       "        s.onerror = () => reject(`Error loading script: ${paths[lib]}`);\n",
       "        document.getElementsByTagName(\"head\")[0].appendChild(s);\n",
       "      });\n",
       "    }\n",
       "\n",
       "    function showError(err) {\n",
       "      outputDiv.innerHTML = `<div class=\"error\" style=\"color:red;\">${err}</div>`;\n",
       "      throw err;\n",
       "    }\n",
       "\n",
       "    function displayChart(vegaEmbed) {\n",
       "      vegaEmbed(outputDiv, spec, embedOpt)\n",
       "        .catch(err => showError(`Javascript Error: ${err.message}<br>This usually means there's a typo in your chart specification. See the javascript console for the full traceback.`));\n",
       "    }\n",
       "\n",
       "    if(typeof define === \"function\" && define.amd) {\n",
       "      requirejs.config({paths});\n",
       "      require([\"vega-embed\"], displayChart, err => showError(`Error loading script: ${err.message}`));\n",
       "    } else if (typeof vegaEmbed === \"function\") {\n",
       "      displayChart(vegaEmbed);\n",
       "    } else {\n",
       "      loadScript(\"vega\")\n",
       "        .then(() => loadScript(\"vega-lite\"))\n",
       "        .then(() => loadScript(\"vega-embed\"))\n",
       "        .catch(showError)\n",
       "        .then(() => displayChart(vegaEmbed));\n",
       "    }\n",
       "  })({\"config\": {\"view\": {\"continuousWidth\": 400, \"continuousHeight\": 300}, \"axis\": {\"grid\": false, \"labelFontSize\": 12, \"titleFontSize\": 12}, \"legend\": {\"labelFontSize\": 12, \"titleFontSize\": 12}, \"title\": {\"fontSize\": 13}}, \"data\": {\"name\": \"data-49f24a7d79d55d26ecfcf1f0fea6a10d\"}, \"mark\": \"bar\", \"encoding\": {\"color\": {\"type\": \"nominal\", \"field\": \"Type\"}, \"column\": {\"type\": \"nominal\", \"field\": \"Location\", \"header\": {\"labelAlign\": \"right\", \"labelAnchor\": \"middle\", \"labelAngle\": -90, \"titleAnchor\": \"middle\"}, \"sort\": {\"field\": \"Latitude\", \"order\": \"ascending\"}}, \"x\": {\"type\": \"nominal\", \"field\": \"Type\", \"sort\": \"-y\"}, \"y\": {\"type\": \"quantitative\", \"field\": \"Otter_Count\"}}, \"height\": 250, \"width\": 60, \"$schema\": \"https://vega.github.io/schema/vega-lite/v4.8.1.json\", \"datasets\": {\"data-49f24a7d79d55d26ecfcf1f0fea6a10d\": [{\"Location\": \"C_San_Martin_to_San_Simeon_Pt\", \"Type\": \"Census\", \"Otter_Count\": 8216.0}, {\"Location\": \"C_San_Martin_to_San_Simeon_Pt\", \"Type\": \"Strandings\", \"Otter_Count\": 248.0}, {\"Location\": \"Capitola_to_Seaside\", \"Type\": \"Census\", \"Otter_Count\": 7204.0}, {\"Location\": \"Capitola_to_Seaside\", \"Type\": \"Strandings\", \"Otter_Count\": 1521.0}, {\"Location\": \"Cayucos_to_Hazard_Canyon\", \"Type\": \"Census\", \"Otter_Count\": 3944.0}, {\"Location\": \"Cayucos_to_Hazard_Canyon\", \"Type\": \"Strandings\", \"Otter_Count\": 1248.0}, {\"Location\": \"Dolan_Rock_to_C_San_Martin\", \"Type\": \"Census\", \"Otter_Count\": 5451.0}, {\"Location\": \"Dolan_Rock_to_C_San_Martin\", \"Type\": \"Strandings\", \"Otter_Count\": 43.0}, {\"Location\": \"Hazard_Canyon_to_Pismo_Beach\", \"Type\": \"Census\", \"Otter_Count\": 3323.0}, {\"Location\": \"Hazard_Canyon_to_Pismo_Beach\", \"Type\": \"Strandings\", \"Otter_Count\": 313.0}, {\"Location\": \"North_of_Pigeon_Pt\", \"Type\": \"Census\", \"Otter_Count\": 0.0}, {\"Location\": \"North_of_Pigeon_Pt\", \"Type\": \"Strandings\", \"Otter_Count\": 224.0}, {\"Location\": \"Pigeon_Pt_to_Capitola\", \"Type\": \"Census\", \"Otter_Count\": 462.0}, {\"Location\": \"Pigeon_Pt_to_Capitola\", \"Type\": \"Strandings\", \"Otter_Count\": 369.0}, {\"Location\": \"Pismo_Beach_to_Pt_Sal\", \"Type\": \"Census\", \"Otter_Count\": 2292.0}, {\"Location\": \"Pismo_Beach_to_Pt_Sal\", \"Type\": \"Strandings\", \"Otter_Count\": 523.0}, {\"Location\": \"Pt_Lobos_to_Pt_Sur\", \"Type\": \"Census\", \"Otter_Count\": 4664.0}, {\"Location\": \"Pt_Lobos_to_Pt_Sur\", \"Type\": \"Strandings\", \"Otter_Count\": 133.0}, {\"Location\": \"Pt_Sal_to_Pt_Conception\", \"Type\": \"Census\", \"Otter_Count\": 708.0}, {\"Location\": \"Pt_Sal_to_Pt_Conception\", \"Type\": \"Strandings\", \"Otter_Count\": 86.0}, {\"Location\": \"Pt_Sur_to_Dolan_Rock\", \"Type\": \"Census\", \"Otter_Count\": 4472.0}, {\"Location\": \"Pt_Sur_to_Dolan_Rock\", \"Type\": \"Strandings\", \"Otter_Count\": 38.0}, {\"Location\": \"SE_of_Pt_Conception\", \"Type\": \"Census\", \"Otter_Count\": 355.0}, {\"Location\": \"SE_of_Pt_Conception\", \"Type\": \"Strandings\", \"Otter_Count\": 67.0}, {\"Location\": \"San_Simeon_Pt_to_Cayucos\", \"Type\": \"Census\", \"Otter_Count\": 5122.0}, {\"Location\": \"San_Simeon_Pt_to_Cayucos\", \"Type\": \"Strandings\", \"Otter_Count\": 409.0}, {\"Location\": \"Seaside_to_Pt_Lobos\", \"Type\": \"Census\", \"Otter_Count\": 5745.0}, {\"Location\": \"Seaside_to_Pt_Lobos\", \"Type\": \"Strandings\", \"Otter_Count\": 765.0}]}}, {\"mode\": \"vega-lite\"});\n",
       "</script>"
      ],
      "text/plain": [
       "alt.Chart(...)"
      ]
     },
     "execution_count": 60,
     "metadata": {},
     "output_type": "execute_result"
    }
   ],
   "source": [
    "alt.Chart(count_data_geo).mark_bar().encode(\n",
    "        x=alt.X('Type',sort='-y'),\n",
    "        y=alt.Y('Otter_Count'),\n",
    "        color='Type',\n",
    "        column=alt.Column('Location', \n",
    "                          header=alt.Header(labelAngle=-90, \n",
    "                                            labelAnchor='middle', \n",
    "                                            titleAnchor='middle', \n",
    "                                            labelAlign='right'),\n",
    "                          sort=alt.EncodingSortField('Latitude',  \n",
    "                                                order='ascending')\n",
    "                         )\n",
    ").properties(\n",
    "    width=60,\n",
    "    height=250,\n",
    ").configure_axis(\n",
    "    grid=False,\n",
    "    labelFontSize=12,\n",
    "    titleFontSize=12\n",
    ").configure_legend(\n",
    "    labelFontSize=12,\n",
    "    titleFontSize=12\n",
    ").configure_title(\n",
    "    #fontWeight='normal',\n",
    "    fontSize=13\n",
    ")"
   ]
  },
  {
   "cell_type": "markdown",
   "metadata": {
    "id": "qjqYbPDIY6iV"
   },
   "source": [
    "Looking at the stranding cases, we see there are primarily 3-4 regions, where stranding cases are high. These regions are **Capitola_to_Seaside**, **Cayucos_to_Hazard_Canyon**, **Seaside_to_Pt_Lobos** and **Pismo_Beach_to_Pt_Sal**. **Capitola_to_Seaside** has high otter count which might contribute to higher stranding cases. **Cayucos_to_Hazard_Canyon** has the second highest stranding cases, but has the 6th highest otter count. Also, the region **Pigeon_Pt_to_Capitola** has almost equal otter count and stranding cases. Also, the geographical nature might contribute to stranding cases. In a published report[[1]](#References), it is mentioned that more cases of stranding and mortality can be seen in sandy surfaces than rocky surfaces because the bodies tend to wash up more to the sandy shores."
   ]
  },
  {
   "cell_type": "markdown",
   "metadata": {},
   "source": [
    "### Are there locations that have higher population density than other locations?"
   ]
  },
  {
   "cell_type": "markdown",
   "metadata": {
    "id": "lAwDdPPSY6iV"
   },
   "source": [
    "Lets look at how each region has been contributing to the overall growth of sea otters over time. In the very first figure, we plotted population growth of sea otters from 1985-2014 across all habitats in South-Western California coastline. Now, we plot the distribution sea otters' population growth across habitats over time."
   ]
  },
  {
   "cell_type": "code",
   "execution_count": 61,
   "metadata": {
    "id": "3pd7hGPgY6iV"
   },
   "outputs": [],
   "source": [
    "census_region_dummy = census_region_df.drop(['Type'],axis=1)\n",
    "melted_df = pd.melt(census_region_dummy,\n",
    "                    id_vars='Year', \n",
    "                    value_vars=census_region_dummy.columns[1:], \n",
    "                    var_name='Location', \n",
    "                    value_name='Otter_Count')"
   ]
  },
  {
   "cell_type": "code",
   "execution_count": 62,
   "metadata": {
    "id": "r1sDzE6OY6iW",
    "outputId": "75bfd788-ce7d-4a1e-bb34-69a33e3dbfe6"
   },
   "outputs": [
    {
     "data": {
      "text/html": [
       "\n",
       "<div id=\"altair-viz-6df13e2d9c6942a19cfa07660d5adf4c\"></div>\n",
       "<script type=\"text/javascript\">\n",
       "  (function(spec, embedOpt){\n",
       "    let outputDiv = document.currentScript.previousElementSibling;\n",
       "    if (outputDiv.id !== \"altair-viz-6df13e2d9c6942a19cfa07660d5adf4c\") {\n",
       "      outputDiv = document.getElementById(\"altair-viz-6df13e2d9c6942a19cfa07660d5adf4c\");\n",
       "    }\n",
       "    const paths = {\n",
       "      \"vega\": \"https://cdn.jsdelivr.net/npm//vega@5?noext\",\n",
       "      \"vega-lib\": \"https://cdn.jsdelivr.net/npm//vega-lib?noext\",\n",
       "      \"vega-lite\": \"https://cdn.jsdelivr.net/npm//vega-lite@4.8.1?noext\",\n",
       "      \"vega-embed\": \"https://cdn.jsdelivr.net/npm//vega-embed@6?noext\",\n",
       "    };\n",
       "\n",
       "    function loadScript(lib) {\n",
       "      return new Promise(function(resolve, reject) {\n",
       "        var s = document.createElement('script');\n",
       "        s.src = paths[lib];\n",
       "        s.async = true;\n",
       "        s.onload = () => resolve(paths[lib]);\n",
       "        s.onerror = () => reject(`Error loading script: ${paths[lib]}`);\n",
       "        document.getElementsByTagName(\"head\")[0].appendChild(s);\n",
       "      });\n",
       "    }\n",
       "\n",
       "    function showError(err) {\n",
       "      outputDiv.innerHTML = `<div class=\"error\" style=\"color:red;\">${err}</div>`;\n",
       "      throw err;\n",
       "    }\n",
       "\n",
       "    function displayChart(vegaEmbed) {\n",
       "      vegaEmbed(outputDiv, spec, embedOpt)\n",
       "        .catch(err => showError(`Javascript Error: ${err.message}<br>This usually means there's a typo in your chart specification. See the javascript console for the full traceback.`));\n",
       "    }\n",
       "\n",
       "    if(typeof define === \"function\" && define.amd) {\n",
       "      requirejs.config({paths});\n",
       "      require([\"vega-embed\"], displayChart, err => showError(`Error loading script: ${err.message}`));\n",
       "    } else if (typeof vegaEmbed === \"function\") {\n",
       "      displayChart(vegaEmbed);\n",
       "    } else {\n",
       "      loadScript(\"vega\")\n",
       "        .then(() => loadScript(\"vega-lite\"))\n",
       "        .then(() => loadScript(\"vega-embed\"))\n",
       "        .catch(showError)\n",
       "        .then(() => displayChart(vegaEmbed));\n",
       "    }\n",
       "  })({\"config\": {\"view\": {\"continuousWidth\": 400, \"continuousHeight\": 300}, \"axis\": {\"grid\": false, \"labelFontSize\": 12, \"titleFontSize\": 12}, \"legend\": {\"labelFontSize\": 12, \"titleFontSize\": 12}, \"title\": {\"fontSize\": 13, \"fontWeight\": \"normal\"}}, \"data\": {\"name\": \"data-b13dc1045fcdb90d2776465e4fc47988\"}, \"mark\": \"area\", \"encoding\": {\"color\": {\"type\": \"nominal\", \"field\": \"Location\", \"scale\": {\"scheme\": \"tableau20\"}, \"sort\": {\"field\": \"Latitude\", \"order\": \"ascending\"}}, \"tooltip\": {\"type\": \"nominal\", \"field\": \"Location\"}, \"x\": {\"type\": \"nominal\", \"field\": \"Year\"}, \"y\": {\"type\": \"quantitative\", \"field\": \"Otter_Count\"}}, \"height\": 400, \"width\": 650, \"$schema\": \"https://vega.github.io/schema/vega-lite/v4.8.1.json\", \"datasets\": {\"data-b13dc1045fcdb90d2776465e4fc47988\": [{\"Year\": 1985.0, \"Location\": \"North_of_Pigeon_Pt\", \"Otter_Count\": null}, {\"Year\": 1986.0, \"Location\": \"North_of_Pigeon_Pt\", \"Otter_Count\": null}, {\"Year\": 1987.0, \"Location\": \"North_of_Pigeon_Pt\", \"Otter_Count\": null}, {\"Year\": 1988.0, \"Location\": \"North_of_Pigeon_Pt\", \"Otter_Count\": null}, {\"Year\": 1989.0, \"Location\": \"North_of_Pigeon_Pt\", \"Otter_Count\": null}, {\"Year\": 1990.0, \"Location\": \"North_of_Pigeon_Pt\", \"Otter_Count\": null}, {\"Year\": 1991.0, \"Location\": \"North_of_Pigeon_Pt\", \"Otter_Count\": null}, {\"Year\": 1992.0, \"Location\": \"North_of_Pigeon_Pt\", \"Otter_Count\": null}, {\"Year\": 1993.0, \"Location\": \"North_of_Pigeon_Pt\", \"Otter_Count\": null}, {\"Year\": 1994.0, \"Location\": \"North_of_Pigeon_Pt\", \"Otter_Count\": null}, {\"Year\": 1995.0, \"Location\": \"North_of_Pigeon_Pt\", \"Otter_Count\": null}, {\"Year\": 1996.0, \"Location\": \"North_of_Pigeon_Pt\", \"Otter_Count\": null}, {\"Year\": 1997.0, \"Location\": \"North_of_Pigeon_Pt\", \"Otter_Count\": null}, {\"Year\": 1998.0, \"Location\": \"North_of_Pigeon_Pt\", \"Otter_Count\": null}, {\"Year\": 1999.0, \"Location\": \"North_of_Pigeon_Pt\", \"Otter_Count\": null}, {\"Year\": 2000.0, \"Location\": \"North_of_Pigeon_Pt\", \"Otter_Count\": null}, {\"Year\": 2001.0, \"Location\": \"North_of_Pigeon_Pt\", \"Otter_Count\": null}, {\"Year\": 2002.0, \"Location\": \"North_of_Pigeon_Pt\", \"Otter_Count\": null}, {\"Year\": 2003.0, \"Location\": \"North_of_Pigeon_Pt\", \"Otter_Count\": null}, {\"Year\": 2004.0, \"Location\": \"North_of_Pigeon_Pt\", \"Otter_Count\": null}, {\"Year\": 2005.0, \"Location\": \"North_of_Pigeon_Pt\", \"Otter_Count\": null}, {\"Year\": 2006.0, \"Location\": \"North_of_Pigeon_Pt\", \"Otter_Count\": null}, {\"Year\": 2007.0, \"Location\": \"North_of_Pigeon_Pt\", \"Otter_Count\": null}, {\"Year\": 2008.0, \"Location\": \"North_of_Pigeon_Pt\", \"Otter_Count\": null}, {\"Year\": 2009.0, \"Location\": \"North_of_Pigeon_Pt\", \"Otter_Count\": null}, {\"Year\": 2010.0, \"Location\": \"North_of_Pigeon_Pt\", \"Otter_Count\": null}, {\"Year\": 2012.0, \"Location\": \"North_of_Pigeon_Pt\", \"Otter_Count\": null}, {\"Year\": 2013.0, \"Location\": \"North_of_Pigeon_Pt\", \"Otter_Count\": null}, {\"Year\": 2014.0, \"Location\": \"North_of_Pigeon_Pt\", \"Otter_Count\": null}, {\"Year\": 1985.0, \"Location\": \"Pigeon_Pt_to_Capitola\", \"Otter_Count\": 0.0}, {\"Year\": 1986.0, \"Location\": \"Pigeon_Pt_to_Capitola\", \"Otter_Count\": 0.0}, {\"Year\": 1987.0, \"Location\": \"Pigeon_Pt_to_Capitola\", \"Otter_Count\": 3.0}, {\"Year\": 1988.0, \"Location\": \"Pigeon_Pt_to_Capitola\", \"Otter_Count\": 3.0}, {\"Year\": 1989.0, \"Location\": \"Pigeon_Pt_to_Capitola\", \"Otter_Count\": 9.0}, {\"Year\": 1990.0, \"Location\": \"Pigeon_Pt_to_Capitola\", \"Otter_Count\": 0.0}, {\"Year\": 1991.0, \"Location\": \"Pigeon_Pt_to_Capitola\", \"Otter_Count\": 0.0}, {\"Year\": 1992.0, \"Location\": \"Pigeon_Pt_to_Capitola\", \"Otter_Count\": 4.0}, {\"Year\": 1993.0, \"Location\": \"Pigeon_Pt_to_Capitola\", \"Otter_Count\": 16.0}, {\"Year\": 1994.0, \"Location\": \"Pigeon_Pt_to_Capitola\", \"Otter_Count\": 24.0}, {\"Year\": 1995.0, \"Location\": \"Pigeon_Pt_to_Capitola\", \"Otter_Count\": 25.0}, {\"Year\": 1996.0, \"Location\": \"Pigeon_Pt_to_Capitola\", \"Otter_Count\": 23.0}, {\"Year\": 1997.0, \"Location\": \"Pigeon_Pt_to_Capitola\", \"Otter_Count\": 22.0}, {\"Year\": 1998.0, \"Location\": \"Pigeon_Pt_to_Capitola\", \"Otter_Count\": 11.0}, {\"Year\": 1999.0, \"Location\": \"Pigeon_Pt_to_Capitola\", \"Otter_Count\": 3.0}, {\"Year\": 2000.0, \"Location\": \"Pigeon_Pt_to_Capitola\", \"Otter_Count\": 6.0}, {\"Year\": 2001.0, \"Location\": \"Pigeon_Pt_to_Capitola\", \"Otter_Count\": 15.0}, {\"Year\": 2002.0, \"Location\": \"Pigeon_Pt_to_Capitola\", \"Otter_Count\": 24.0}, {\"Year\": 2003.0, \"Location\": \"Pigeon_Pt_to_Capitola\", \"Otter_Count\": 23.0}, {\"Year\": 2004.0, \"Location\": \"Pigeon_Pt_to_Capitola\", \"Otter_Count\": 22.0}, {\"Year\": 2005.0, \"Location\": \"Pigeon_Pt_to_Capitola\", \"Otter_Count\": 25.0}, {\"Year\": 2006.0, \"Location\": \"Pigeon_Pt_to_Capitola\", \"Otter_Count\": 28.0}, {\"Year\": 2007.0, \"Location\": \"Pigeon_Pt_to_Capitola\", \"Otter_Count\": 28.0}, {\"Year\": 2008.0, \"Location\": \"Pigeon_Pt_to_Capitola\", \"Otter_Count\": 24.0}, {\"Year\": 2009.0, \"Location\": \"Pigeon_Pt_to_Capitola\", \"Otter_Count\": 13.0}, {\"Year\": 2010.0, \"Location\": \"Pigeon_Pt_to_Capitola\", \"Otter_Count\": 26.0}, {\"Year\": 2012.0, \"Location\": \"Pigeon_Pt_to_Capitola\", \"Otter_Count\": 22.0}, {\"Year\": 2013.0, \"Location\": \"Pigeon_Pt_to_Capitola\", \"Otter_Count\": 28.0}, {\"Year\": 2014.0, \"Location\": \"Pigeon_Pt_to_Capitola\", \"Otter_Count\": 35.0}, {\"Year\": 1985.0, \"Location\": \"Capitola_to_Seaside\", \"Otter_Count\": 73.0}, {\"Year\": 1986.0, \"Location\": \"Capitola_to_Seaside\", \"Otter_Count\": 78.0}, {\"Year\": 1987.0, \"Location\": \"Capitola_to_Seaside\", \"Otter_Count\": 74.0}, {\"Year\": 1988.0, \"Location\": \"Capitola_to_Seaside\", \"Otter_Count\": 74.0}, {\"Year\": 1989.0, \"Location\": \"Capitola_to_Seaside\", \"Otter_Count\": 83.0}, {\"Year\": 1990.0, \"Location\": \"Capitola_to_Seaside\", \"Otter_Count\": 104.0}, {\"Year\": 1991.0, \"Location\": \"Capitola_to_Seaside\", \"Otter_Count\": 134.0}, {\"Year\": 1992.0, \"Location\": \"Capitola_to_Seaside\", \"Otter_Count\": 164.0}, {\"Year\": 1993.0, \"Location\": \"Capitola_to_Seaside\", \"Otter_Count\": 186.0}, {\"Year\": 1994.0, \"Location\": \"Capitola_to_Seaside\", \"Otter_Count\": 202.0}, {\"Year\": 1995.0, \"Location\": \"Capitola_to_Seaside\", \"Otter_Count\": 173.0}, {\"Year\": 1996.0, \"Location\": \"Capitola_to_Seaside\", \"Otter_Count\": 209.0}, {\"Year\": 1997.0, \"Location\": \"Capitola_to_Seaside\", \"Otter_Count\": 195.0}, {\"Year\": 1998.0, \"Location\": \"Capitola_to_Seaside\", \"Otter_Count\": 216.0}, {\"Year\": 1999.0, \"Location\": \"Capitola_to_Seaside\", \"Otter_Count\": 187.0}, {\"Year\": 2000.0, \"Location\": \"Capitola_to_Seaside\", \"Otter_Count\": 203.0}, {\"Year\": 2001.0, \"Location\": \"Capitola_to_Seaside\", \"Otter_Count\": 203.0}, {\"Year\": 2002.0, \"Location\": \"Capitola_to_Seaside\", \"Otter_Count\": 228.0}, {\"Year\": 2003.0, \"Location\": \"Capitola_to_Seaside\", \"Otter_Count\": 332.0}, {\"Year\": 2004.0, \"Location\": \"Capitola_to_Seaside\", \"Otter_Count\": 413.0}, {\"Year\": 2005.0, \"Location\": \"Capitola_to_Seaside\", \"Otter_Count\": 435.0}, {\"Year\": 2006.0, \"Location\": \"Capitola_to_Seaside\", \"Otter_Count\": 362.0}, {\"Year\": 2007.0, \"Location\": \"Capitola_to_Seaside\", \"Otter_Count\": 364.0}, {\"Year\": 2008.0, \"Location\": \"Capitola_to_Seaside\", \"Otter_Count\": 375.0}, {\"Year\": 2009.0, \"Location\": \"Capitola_to_Seaside\", \"Otter_Count\": 402.0}, {\"Year\": 2010.0, \"Location\": \"Capitola_to_Seaside\", \"Otter_Count\": 383.0}, {\"Year\": 2012.0, \"Location\": \"Capitola_to_Seaside\", \"Otter_Count\": 411.0}, {\"Year\": 2013.0, \"Location\": \"Capitola_to_Seaside\", \"Otter_Count\": 450.0}, {\"Year\": 2014.0, \"Location\": \"Capitola_to_Seaside\", \"Otter_Count\": 491.0}, {\"Year\": 1985.0, \"Location\": \"Seaside_to_Pt_Lobos\", \"Otter_Count\": 134.0}, {\"Year\": 1986.0, \"Location\": \"Seaside_to_Pt_Lobos\", \"Otter_Count\": 146.0}, {\"Year\": 1987.0, \"Location\": \"Seaside_to_Pt_Lobos\", \"Otter_Count\": 191.0}, {\"Year\": 1988.0, \"Location\": \"Seaside_to_Pt_Lobos\", \"Otter_Count\": 195.0}, {\"Year\": 1989.0, \"Location\": \"Seaside_to_Pt_Lobos\", \"Otter_Count\": 212.0}, {\"Year\": 1990.0, \"Location\": \"Seaside_to_Pt_Lobos\", \"Otter_Count\": 201.0}, {\"Year\": 1991.0, \"Location\": \"Seaside_to_Pt_Lobos\", \"Otter_Count\": 187.0}, {\"Year\": 1992.0, \"Location\": \"Seaside_to_Pt_Lobos\", \"Otter_Count\": 190.0}, {\"Year\": 1993.0, \"Location\": \"Seaside_to_Pt_Lobos\", \"Otter_Count\": 205.0}, {\"Year\": 1994.0, \"Location\": \"Seaside_to_Pt_Lobos\", \"Otter_Count\": 233.0}, {\"Year\": 1995.0, \"Location\": \"Seaside_to_Pt_Lobos\", \"Otter_Count\": 221.0}, {\"Year\": 1996.0, \"Location\": \"Seaside_to_Pt_Lobos\", \"Otter_Count\": 204.0}, {\"Year\": 1997.0, \"Location\": \"Seaside_to_Pt_Lobos\", \"Otter_Count\": 203.0}, {\"Year\": 1998.0, \"Location\": \"Seaside_to_Pt_Lobos\", \"Otter_Count\": 181.0}, {\"Year\": 1999.0, \"Location\": \"Seaside_to_Pt_Lobos\", \"Otter_Count\": 161.0}, {\"Year\": 2000.0, \"Location\": \"Seaside_to_Pt_Lobos\", \"Otter_Count\": 148.0}, {\"Year\": 2001.0, \"Location\": \"Seaside_to_Pt_Lobos\", \"Otter_Count\": 173.0}, {\"Year\": 2002.0, \"Location\": \"Seaside_to_Pt_Lobos\", \"Otter_Count\": 191.0}, {\"Year\": 2003.0, \"Location\": \"Seaside_to_Pt_Lobos\", \"Otter_Count\": 185.0}, {\"Year\": 2004.0, \"Location\": \"Seaside_to_Pt_Lobos\", \"Otter_Count\": 170.0}, {\"Year\": 2005.0, \"Location\": \"Seaside_to_Pt_Lobos\", \"Otter_Count\": 189.0}, {\"Year\": 2006.0, \"Location\": \"Seaside_to_Pt_Lobos\", \"Otter_Count\": 218.0}, {\"Year\": 2007.0, \"Location\": \"Seaside_to_Pt_Lobos\", \"Otter_Count\": 232.0}, {\"Year\": 2008.0, \"Location\": \"Seaside_to_Pt_Lobos\", \"Otter_Count\": 230.0}, {\"Year\": 2009.0, \"Location\": \"Seaside_to_Pt_Lobos\", \"Otter_Count\": 234.0}, {\"Year\": 2010.0, \"Location\": \"Seaside_to_Pt_Lobos\", \"Otter_Count\": 232.0}, {\"Year\": 2012.0, \"Location\": \"Seaside_to_Pt_Lobos\", \"Otter_Count\": 227.0}, {\"Year\": 2013.0, \"Location\": \"Seaside_to_Pt_Lobos\", \"Otter_Count\": 206.0}, {\"Year\": 2014.0, \"Location\": \"Seaside_to_Pt_Lobos\", \"Otter_Count\": 246.0}, {\"Year\": 1985.0, \"Location\": \"Pt_Lobos_to_Pt_Sur\", \"Otter_Count\": 126.0}, {\"Year\": 1986.0, \"Location\": \"Pt_Lobos_to_Pt_Sur\", \"Otter_Count\": 141.0}, {\"Year\": 1987.0, \"Location\": \"Pt_Lobos_to_Pt_Sur\", \"Otter_Count\": 182.0}, {\"Year\": 1988.0, \"Location\": \"Pt_Lobos_to_Pt_Sur\", \"Otter_Count\": 189.0}, {\"Year\": 1989.0, \"Location\": \"Pt_Lobos_to_Pt_Sur\", \"Otter_Count\": 211.0}, {\"Year\": 1990.0, \"Location\": \"Pt_Lobos_to_Pt_Sur\", \"Otter_Count\": 214.0}, {\"Year\": 1991.0, \"Location\": \"Pt_Lobos_to_Pt_Sur\", \"Otter_Count\": 187.0}, {\"Year\": 1992.0, \"Location\": \"Pt_Lobos_to_Pt_Sur\", \"Otter_Count\": 190.0}, {\"Year\": 1993.0, \"Location\": \"Pt_Lobos_to_Pt_Sur\", \"Otter_Count\": 197.0}, {\"Year\": 1994.0, \"Location\": \"Pt_Lobos_to_Pt_Sur\", \"Otter_Count\": 226.0}, {\"Year\": 1995.0, \"Location\": \"Pt_Lobos_to_Pt_Sur\", \"Otter_Count\": 207.0}, {\"Year\": 1996.0, \"Location\": \"Pt_Lobos_to_Pt_Sur\", \"Otter_Count\": 206.0}, {\"Year\": 1997.0, \"Location\": \"Pt_Lobos_to_Pt_Sur\", \"Otter_Count\": 197.0}, {\"Year\": 1998.0, \"Location\": \"Pt_Lobos_to_Pt_Sur\", \"Otter_Count\": 173.0}, {\"Year\": 1999.0, \"Location\": \"Pt_Lobos_to_Pt_Sur\", \"Otter_Count\": 146.0}, {\"Year\": 2000.0, \"Location\": \"Pt_Lobos_to_Pt_Sur\", \"Otter_Count\": 128.0}, {\"Year\": 2001.0, \"Location\": \"Pt_Lobos_to_Pt_Sur\", \"Otter_Count\": 127.0}, {\"Year\": 2002.0, \"Location\": \"Pt_Lobos_to_Pt_Sur\", \"Otter_Count\": 147.0}, {\"Year\": 2003.0, \"Location\": \"Pt_Lobos_to_Pt_Sur\", \"Otter_Count\": 121.0}, {\"Year\": 2004.0, \"Location\": \"Pt_Lobos_to_Pt_Sur\", \"Otter_Count\": 114.0}, {\"Year\": 2005.0, \"Location\": \"Pt_Lobos_to_Pt_Sur\", \"Otter_Count\": 110.0}, {\"Year\": 2006.0, \"Location\": \"Pt_Lobos_to_Pt_Sur\", \"Otter_Count\": 122.0}, {\"Year\": 2007.0, \"Location\": \"Pt_Lobos_to_Pt_Sur\", \"Otter_Count\": 146.0}, {\"Year\": 2008.0, \"Location\": \"Pt_Lobos_to_Pt_Sur\", \"Otter_Count\": 151.0}, {\"Year\": 2009.0, \"Location\": \"Pt_Lobos_to_Pt_Sur\", \"Otter_Count\": 146.0}, {\"Year\": 2010.0, \"Location\": \"Pt_Lobos_to_Pt_Sur\", \"Otter_Count\": 120.0}, {\"Year\": 2012.0, \"Location\": \"Pt_Lobos_to_Pt_Sur\", \"Otter_Count\": 128.0}, {\"Year\": 2013.0, \"Location\": \"Pt_Lobos_to_Pt_Sur\", \"Otter_Count\": 147.0}, {\"Year\": 2014.0, \"Location\": \"Pt_Lobos_to_Pt_Sur\", \"Otter_Count\": 165.0}, {\"Year\": 1985.0, \"Location\": \"Pt_Sur_to_Dolan_Rock\", \"Otter_Count\": 125.0}, {\"Year\": 1986.0, \"Location\": \"Pt_Sur_to_Dolan_Rock\", \"Otter_Count\": 133.0}, {\"Year\": 1987.0, \"Location\": \"Pt_Sur_to_Dolan_Rock\", \"Otter_Count\": 142.0}, {\"Year\": 1988.0, \"Location\": \"Pt_Sur_to_Dolan_Rock\", \"Otter_Count\": 144.0}, {\"Year\": 1989.0, \"Location\": \"Pt_Sur_to_Dolan_Rock\", \"Otter_Count\": 178.0}, {\"Year\": 1990.0, \"Location\": \"Pt_Sur_to_Dolan_Rock\", \"Otter_Count\": 170.0}, {\"Year\": 1991.0, \"Location\": \"Pt_Sur_to_Dolan_Rock\", \"Otter_Count\": 150.0}, {\"Year\": 1992.0, \"Location\": \"Pt_Sur_to_Dolan_Rock\", \"Otter_Count\": 132.0}, {\"Year\": 1993.0, \"Location\": \"Pt_Sur_to_Dolan_Rock\", \"Otter_Count\": 145.0}, {\"Year\": 1994.0, \"Location\": \"Pt_Sur_to_Dolan_Rock\", \"Otter_Count\": 151.0}, {\"Year\": 1995.0, \"Location\": \"Pt_Sur_to_Dolan_Rock\", \"Otter_Count\": 164.0}, {\"Year\": 1996.0, \"Location\": \"Pt_Sur_to_Dolan_Rock\", \"Otter_Count\": 193.0}, {\"Year\": 1997.0, \"Location\": \"Pt_Sur_to_Dolan_Rock\", \"Otter_Count\": 205.0}, {\"Year\": 1998.0, \"Location\": \"Pt_Sur_to_Dolan_Rock\", \"Otter_Count\": 182.0}, {\"Year\": 1999.0, \"Location\": \"Pt_Sur_to_Dolan_Rock\", \"Otter_Count\": 158.0}, {\"Year\": 2000.0, \"Location\": \"Pt_Sur_to_Dolan_Rock\", \"Otter_Count\": 134.0}, {\"Year\": 2001.0, \"Location\": \"Pt_Sur_to_Dolan_Rock\", \"Otter_Count\": 128.0}, {\"Year\": 2002.0, \"Location\": \"Pt_Sur_to_Dolan_Rock\", \"Otter_Count\": 136.0}, {\"Year\": 2003.0, \"Location\": \"Pt_Sur_to_Dolan_Rock\", \"Otter_Count\": 134.0}, {\"Year\": 2004.0, \"Location\": \"Pt_Sur_to_Dolan_Rock\", \"Otter_Count\": 137.0}, {\"Year\": 2005.0, \"Location\": \"Pt_Sur_to_Dolan_Rock\", \"Otter_Count\": 144.0}, {\"Year\": 2006.0, \"Location\": \"Pt_Sur_to_Dolan_Rock\", \"Otter_Count\": 162.0}, {\"Year\": 2007.0, \"Location\": \"Pt_Sur_to_Dolan_Rock\", \"Otter_Count\": 179.0}, {\"Year\": 2008.0, \"Location\": \"Pt_Sur_to_Dolan_Rock\", \"Otter_Count\": 153.0}, {\"Year\": 2009.0, \"Location\": \"Pt_Sur_to_Dolan_Rock\", \"Otter_Count\": 143.0}, {\"Year\": 2010.0, \"Location\": \"Pt_Sur_to_Dolan_Rock\", \"Otter_Count\": 121.0}, {\"Year\": 2012.0, \"Location\": \"Pt_Sur_to_Dolan_Rock\", \"Otter_Count\": 134.0}, {\"Year\": 2013.0, \"Location\": \"Pt_Sur_to_Dolan_Rock\", \"Otter_Count\": 191.0}, {\"Year\": 2014.0, \"Location\": \"Pt_Sur_to_Dolan_Rock\", \"Otter_Count\": 204.0}, {\"Year\": 1985.0, \"Location\": \"Dolan_Rock_to_C_San_Martin\", \"Otter_Count\": 122.0}, {\"Year\": 1986.0, \"Location\": \"Dolan_Rock_to_C_San_Martin\", \"Otter_Count\": 144.0}, {\"Year\": 1987.0, \"Location\": \"Dolan_Rock_to_C_San_Martin\", \"Otter_Count\": 147.0}, {\"Year\": 1988.0, \"Location\": \"Dolan_Rock_to_C_San_Martin\", \"Otter_Count\": 168.0}, {\"Year\": 1989.0, \"Location\": \"Dolan_Rock_to_C_San_Martin\", \"Otter_Count\": 166.0}, {\"Year\": 1990.0, \"Location\": \"Dolan_Rock_to_C_San_Martin\", \"Otter_Count\": 166.0}, {\"Year\": 1991.0, \"Location\": \"Dolan_Rock_to_C_San_Martin\", \"Otter_Count\": 154.0}, {\"Year\": 1992.0, \"Location\": \"Dolan_Rock_to_C_San_Martin\", \"Otter_Count\": 158.0}, {\"Year\": 1993.0, \"Location\": \"Dolan_Rock_to_C_San_Martin\", \"Otter_Count\": 170.0}, {\"Year\": 1994.0, \"Location\": \"Dolan_Rock_to_C_San_Martin\", \"Otter_Count\": 175.0}, {\"Year\": 1995.0, \"Location\": \"Dolan_Rock_to_C_San_Martin\", \"Otter_Count\": 168.0}, {\"Year\": 1996.0, \"Location\": \"Dolan_Rock_to_C_San_Martin\", \"Otter_Count\": 205.0}, {\"Year\": 1997.0, \"Location\": \"Dolan_Rock_to_C_San_Martin\", \"Otter_Count\": 230.0}, {\"Year\": 1998.0, \"Location\": \"Dolan_Rock_to_C_San_Martin\", \"Otter_Count\": 225.0}, {\"Year\": 1999.0, \"Location\": \"Dolan_Rock_to_C_San_Martin\", \"Otter_Count\": 186.0}, {\"Year\": 2000.0, \"Location\": \"Dolan_Rock_to_C_San_Martin\", \"Otter_Count\": 179.0}, {\"Year\": 2001.0, \"Location\": \"Dolan_Rock_to_C_San_Martin\", \"Otter_Count\": 195.0}, {\"Year\": 2002.0, \"Location\": \"Dolan_Rock_to_C_San_Martin\", \"Otter_Count\": 211.0}, {\"Year\": 2003.0, \"Location\": \"Dolan_Rock_to_C_San_Martin\", \"Otter_Count\": 201.0}, {\"Year\": 2004.0, \"Location\": \"Dolan_Rock_to_C_San_Martin\", \"Otter_Count\": 197.0}, {\"Year\": 2005.0, \"Location\": \"Dolan_Rock_to_C_San_Martin\", \"Otter_Count\": 201.0}, {\"Year\": 2006.0, \"Location\": \"Dolan_Rock_to_C_San_Martin\", \"Otter_Count\": 199.0}, {\"Year\": 2007.0, \"Location\": \"Dolan_Rock_to_C_San_Martin\", \"Otter_Count\": 203.0}, {\"Year\": 2008.0, \"Location\": \"Dolan_Rock_to_C_San_Martin\", \"Otter_Count\": 206.0}, {\"Year\": 2009.0, \"Location\": \"Dolan_Rock_to_C_San_Martin\", \"Otter_Count\": 220.0}, {\"Year\": 2010.0, \"Location\": \"Dolan_Rock_to_C_San_Martin\", \"Otter_Count\": 179.0}, {\"Year\": 2012.0, \"Location\": \"Dolan_Rock_to_C_San_Martin\", \"Otter_Count\": 204.0}, {\"Year\": 2013.0, \"Location\": \"Dolan_Rock_to_C_San_Martin\", \"Otter_Count\": 225.0}, {\"Year\": 2014.0, \"Location\": \"Dolan_Rock_to_C_San_Martin\", \"Otter_Count\": 247.0}, {\"Year\": 1985.0, \"Location\": \"C_San_Martin_to_San_Simeon_Pt\", \"Otter_Count\": 160.0}, {\"Year\": 1986.0, \"Location\": \"C_San_Martin_to_San_Simeon_Pt\", \"Otter_Count\": 189.0}, {\"Year\": 1987.0, \"Location\": \"C_San_Martin_to_San_Simeon_Pt\", \"Otter_Count\": 232.0}, {\"Year\": 1988.0, \"Location\": \"C_San_Martin_to_San_Simeon_Pt\", \"Otter_Count\": 258.0}, {\"Year\": 1989.0, \"Location\": \"C_San_Martin_to_San_Simeon_Pt\", \"Otter_Count\": 263.0}, {\"Year\": 1990.0, \"Location\": \"C_San_Martin_to_San_Simeon_Pt\", \"Otter_Count\": 251.0}, {\"Year\": 1991.0, \"Location\": \"C_San_Martin_to_San_Simeon_Pt\", \"Otter_Count\": 262.0}, {\"Year\": 1992.0, \"Location\": \"C_San_Martin_to_San_Simeon_Pt\", \"Otter_Count\": 258.0}, {\"Year\": 1993.0, \"Location\": \"C_San_Martin_to_San_Simeon_Pt\", \"Otter_Count\": 259.0}, {\"Year\": 1994.0, \"Location\": \"C_San_Martin_to_San_Simeon_Pt\", \"Otter_Count\": 240.0}, {\"Year\": 1995.0, \"Location\": \"C_San_Martin_to_San_Simeon_Pt\", \"Otter_Count\": 273.0}, {\"Year\": 1996.0, \"Location\": \"C_San_Martin_to_San_Simeon_Pt\", \"Otter_Count\": 287.0}, {\"Year\": 1997.0, \"Location\": \"C_San_Martin_to_San_Simeon_Pt\", \"Otter_Count\": 326.0}, {\"Year\": 1998.0, \"Location\": \"C_San_Martin_to_San_Simeon_Pt\", \"Otter_Count\": 303.0}, {\"Year\": 1999.0, \"Location\": \"C_San_Martin_to_San_Simeon_Pt\", \"Otter_Count\": 295.0}, {\"Year\": 2000.0, \"Location\": \"C_San_Martin_to_San_Simeon_Pt\", \"Otter_Count\": 271.0}, {\"Year\": 2001.0, \"Location\": \"C_San_Martin_to_San_Simeon_Pt\", \"Otter_Count\": 281.0}, {\"Year\": 2002.0, \"Location\": \"C_San_Martin_to_San_Simeon_Pt\", \"Otter_Count\": 295.0}, {\"Year\": 2003.0, \"Location\": \"C_San_Martin_to_San_Simeon_Pt\", \"Otter_Count\": 301.0}, {\"Year\": 2004.0, \"Location\": \"C_San_Martin_to_San_Simeon_Pt\", \"Otter_Count\": 318.0}, {\"Year\": 2005.0, \"Location\": \"C_San_Martin_to_San_Simeon_Pt\", \"Otter_Count\": 320.0}, {\"Year\": 2006.0, \"Location\": \"C_San_Martin_to_San_Simeon_Pt\", \"Otter_Count\": 340.0}, {\"Year\": 2007.0, \"Location\": \"C_San_Martin_to_San_Simeon_Pt\", \"Otter_Count\": 333.0}, {\"Year\": 2008.0, \"Location\": \"C_San_Martin_to_San_Simeon_Pt\", \"Otter_Count\": 324.0}, {\"Year\": 2009.0, \"Location\": \"C_San_Martin_to_San_Simeon_Pt\", \"Otter_Count\": 307.0}, {\"Year\": 2010.0, \"Location\": \"C_San_Martin_to_San_Simeon_Pt\", \"Otter_Count\": 282.0}, {\"Year\": 2012.0, \"Location\": \"C_San_Martin_to_San_Simeon_Pt\", \"Otter_Count\": 305.0}, {\"Year\": 2013.0, \"Location\": \"C_San_Martin_to_San_Simeon_Pt\", \"Otter_Count\": 332.0}, {\"Year\": 2014.0, \"Location\": \"C_San_Martin_to_San_Simeon_Pt\", \"Otter_Count\": 351.0}, {\"Year\": 1985.0, \"Location\": \"San_Simeon_Pt_to_Cayucos\", \"Otter_Count\": 126.0}, {\"Year\": 1986.0, \"Location\": \"San_Simeon_Pt_to_Cayucos\", \"Otter_Count\": 129.0}, {\"Year\": 1987.0, \"Location\": \"San_Simeon_Pt_to_Cayucos\", \"Otter_Count\": 119.0}, {\"Year\": 1988.0, \"Location\": \"San_Simeon_Pt_to_Cayucos\", \"Otter_Count\": 139.0}, {\"Year\": 1989.0, \"Location\": \"San_Simeon_Pt_to_Cayucos\", \"Otter_Count\": 139.0}, {\"Year\": 1990.0, \"Location\": \"San_Simeon_Pt_to_Cayucos\", \"Otter_Count\": 137.0}, {\"Year\": 1991.0, \"Location\": \"San_Simeon_Pt_to_Cayucos\", \"Otter_Count\": 144.0}, {\"Year\": 1992.0, \"Location\": \"San_Simeon_Pt_to_Cayucos\", \"Otter_Count\": 151.0}, {\"Year\": 1993.0, \"Location\": \"San_Simeon_Pt_to_Cayucos\", \"Otter_Count\": 174.0}, {\"Year\": 1994.0, \"Location\": \"San_Simeon_Pt_to_Cayucos\", \"Otter_Count\": 201.0}, {\"Year\": 1995.0, \"Location\": \"San_Simeon_Pt_to_Cayucos\", \"Otter_Count\": 198.0}, {\"Year\": 1996.0, \"Location\": \"San_Simeon_Pt_to_Cayucos\", \"Otter_Count\": 201.0}, {\"Year\": 1997.0, \"Location\": \"San_Simeon_Pt_to_Cayucos\", \"Otter_Count\": 205.0}, {\"Year\": 1998.0, \"Location\": \"San_Simeon_Pt_to_Cayucos\", \"Otter_Count\": 189.0}, {\"Year\": 1999.0, \"Location\": \"San_Simeon_Pt_to_Cayucos\", \"Otter_Count\": 173.0}, {\"Year\": 2000.0, \"Location\": \"San_Simeon_Pt_to_Cayucos\", \"Otter_Count\": 142.0}, {\"Year\": 2001.0, \"Location\": \"San_Simeon_Pt_to_Cayucos\", \"Otter_Count\": 138.0}, {\"Year\": 2002.0, \"Location\": \"San_Simeon_Pt_to_Cayucos\", \"Otter_Count\": 150.0}, {\"Year\": 2003.0, \"Location\": \"San_Simeon_Pt_to_Cayucos\", \"Otter_Count\": 160.0}, {\"Year\": 2004.0, \"Location\": \"San_Simeon_Pt_to_Cayucos\", \"Otter_Count\": 175.0}, {\"Year\": 2005.0, \"Location\": \"San_Simeon_Pt_to_Cayucos\", \"Otter_Count\": 179.0}, {\"Year\": 2006.0, \"Location\": \"San_Simeon_Pt_to_Cayucos\", \"Otter_Count\": 217.0}, {\"Year\": 2007.0, \"Location\": \"San_Simeon_Pt_to_Cayucos\", \"Otter_Count\": 222.0}, {\"Year\": 2008.0, \"Location\": \"San_Simeon_Pt_to_Cayucos\", \"Otter_Count\": 217.0}, {\"Year\": 2009.0, \"Location\": \"San_Simeon_Pt_to_Cayucos\", \"Otter_Count\": 204.0}, {\"Year\": 2010.0, \"Location\": \"San_Simeon_Pt_to_Cayucos\", \"Otter_Count\": 201.0}, {\"Year\": 2012.0, \"Location\": \"San_Simeon_Pt_to_Cayucos\", \"Otter_Count\": 212.0}, {\"Year\": 2013.0, \"Location\": \"San_Simeon_Pt_to_Cayucos\", \"Otter_Count\": 244.0}, {\"Year\": 2014.0, \"Location\": \"San_Simeon_Pt_to_Cayucos\", \"Otter_Count\": 236.0}, {\"Year\": 1985.0, \"Location\": \"Cayucos_to_Hazard_Canyon\", \"Otter_Count\": 80.0}, {\"Year\": 1986.0, \"Location\": \"Cayucos_to_Hazard_Canyon\", \"Otter_Count\": 97.0}, {\"Year\": 1987.0, \"Location\": \"Cayucos_to_Hazard_Canyon\", \"Otter_Count\": 95.0}, {\"Year\": 1988.0, \"Location\": \"Cayucos_to_Hazard_Canyon\", \"Otter_Count\": 93.0}, {\"Year\": 1989.0, \"Location\": \"Cayucos_to_Hazard_Canyon\", \"Otter_Count\": 92.0}, {\"Year\": 1990.0, \"Location\": \"Cayucos_to_Hazard_Canyon\", \"Otter_Count\": 89.0}, {\"Year\": 1991.0, \"Location\": \"Cayucos_to_Hazard_Canyon\", \"Otter_Count\": 111.0}, {\"Year\": 1992.0, \"Location\": \"Cayucos_to_Hazard_Canyon\", \"Otter_Count\": 103.0}, {\"Year\": 1993.0, \"Location\": \"Cayucos_to_Hazard_Canyon\", \"Otter_Count\": 100.0}, {\"Year\": 1994.0, \"Location\": \"Cayucos_to_Hazard_Canyon\", \"Otter_Count\": 147.0}, {\"Year\": 1995.0, \"Location\": \"Cayucos_to_Hazard_Canyon\", \"Otter_Count\": 210.0}, {\"Year\": 1996.0, \"Location\": \"Cayucos_to_Hazard_Canyon\", \"Otter_Count\": 208.0}, {\"Year\": 1997.0, \"Location\": \"Cayucos_to_Hazard_Canyon\", \"Otter_Count\": 141.0}, {\"Year\": 1998.0, \"Location\": \"Cayucos_to_Hazard_Canyon\", \"Otter_Count\": 86.0}, {\"Year\": 1999.0, \"Location\": \"Cayucos_to_Hazard_Canyon\", \"Otter_Count\": 78.0}, {\"Year\": 2000.0, \"Location\": \"Cayucos_to_Hazard_Canyon\", \"Otter_Count\": 90.0}, {\"Year\": 2001.0, \"Location\": \"Cayucos_to_Hazard_Canyon\", \"Otter_Count\": 106.0}, {\"Year\": 2002.0, \"Location\": \"Cayucos_to_Hazard_Canyon\", \"Otter_Count\": 96.0}, {\"Year\": 2003.0, \"Location\": \"Cayucos_to_Hazard_Canyon\", \"Otter_Count\": 99.0}, {\"Year\": 2004.0, \"Location\": \"Cayucos_to_Hazard_Canyon\", \"Otter_Count\": 163.0}, {\"Year\": 2005.0, \"Location\": \"Cayucos_to_Hazard_Canyon\", \"Otter_Count\": 214.0}, {\"Year\": 2006.0, \"Location\": \"Cayucos_to_Hazard_Canyon\", \"Otter_Count\": 222.0}, {\"Year\": 2007.0, \"Location\": \"Cayucos_to_Hazard_Canyon\", \"Otter_Count\": 190.0}, {\"Year\": 2008.0, \"Location\": \"Cayucos_to_Hazard_Canyon\", \"Otter_Count\": 156.0}, {\"Year\": 2009.0, \"Location\": \"Cayucos_to_Hazard_Canyon\", \"Otter_Count\": 149.0}, {\"Year\": 2010.0, \"Location\": \"Cayucos_to_Hazard_Canyon\", \"Otter_Count\": 164.0}, {\"Year\": 2012.0, \"Location\": \"Cayucos_to_Hazard_Canyon\", \"Otter_Count\": 203.0}, {\"Year\": 2013.0, \"Location\": \"Cayucos_to_Hazard_Canyon\", \"Otter_Count\": 204.0}, {\"Year\": 2014.0, \"Location\": \"Cayucos_to_Hazard_Canyon\", \"Otter_Count\": 158.0}, {\"Year\": 1985.0, \"Location\": \"Hazard_Canyon_to_Pismo_Beach\", \"Otter_Count\": 4.0}, {\"Year\": 1986.0, \"Location\": \"Hazard_Canyon_to_Pismo_Beach\", \"Otter_Count\": 24.0}, {\"Year\": 1987.0, \"Location\": \"Hazard_Canyon_to_Pismo_Beach\", \"Otter_Count\": 30.0}, {\"Year\": 1988.0, \"Location\": \"Hazard_Canyon_to_Pismo_Beach\", \"Otter_Count\": 54.0}, {\"Year\": 1989.0, \"Location\": \"Hazard_Canyon_to_Pismo_Beach\", \"Otter_Count\": 71.0}, {\"Year\": 1990.0, \"Location\": \"Hazard_Canyon_to_Pismo_Beach\", \"Otter_Count\": 82.0}, {\"Year\": 1991.0, \"Location\": \"Hazard_Canyon_to_Pismo_Beach\", \"Otter_Count\": 99.0}, {\"Year\": 1992.0, \"Location\": \"Hazard_Canyon_to_Pismo_Beach\", \"Otter_Count\": 103.0}, {\"Year\": 1993.0, \"Location\": \"Hazard_Canyon_to_Pismo_Beach\", \"Otter_Count\": 131.0}, {\"Year\": 1994.0, \"Location\": \"Hazard_Canyon_to_Pismo_Beach\", \"Otter_Count\": 143.0}, {\"Year\": 1995.0, \"Location\": \"Hazard_Canyon_to_Pismo_Beach\", \"Otter_Count\": 173.0}, {\"Year\": 1996.0, \"Location\": \"Hazard_Canyon_to_Pismo_Beach\", \"Otter_Count\": 143.0}, {\"Year\": 1997.0, \"Location\": \"Hazard_Canyon_to_Pismo_Beach\", \"Otter_Count\": 125.0}, {\"Year\": 1998.0, \"Location\": \"Hazard_Canyon_to_Pismo_Beach\", \"Otter_Count\": 104.0}, {\"Year\": 1999.0, \"Location\": \"Hazard_Canyon_to_Pismo_Beach\", \"Otter_Count\": 116.0}, {\"Year\": 2000.0, \"Location\": \"Hazard_Canyon_to_Pismo_Beach\", \"Otter_Count\": 124.0}, {\"Year\": 2001.0, \"Location\": \"Hazard_Canyon_to_Pismo_Beach\", \"Otter_Count\": 122.0}, {\"Year\": 2002.0, \"Location\": \"Hazard_Canyon_to_Pismo_Beach\", \"Otter_Count\": 120.0}, {\"Year\": 2003.0, \"Location\": \"Hazard_Canyon_to_Pismo_Beach\", \"Otter_Count\": 120.0}, {\"Year\": 2004.0, \"Location\": \"Hazard_Canyon_to_Pismo_Beach\", \"Otter_Count\": 137.0}, {\"Year\": 2005.0, \"Location\": \"Hazard_Canyon_to_Pismo_Beach\", \"Otter_Count\": 161.0}, {\"Year\": 2006.0, \"Location\": \"Hazard_Canyon_to_Pismo_Beach\", \"Otter_Count\": 168.0}, {\"Year\": 2007.0, \"Location\": \"Hazard_Canyon_to_Pismo_Beach\", \"Otter_Count\": 170.0}, {\"Year\": 2008.0, \"Location\": \"Hazard_Canyon_to_Pismo_Beach\", \"Otter_Count\": 168.0}, {\"Year\": 2009.0, \"Location\": \"Hazard_Canyon_to_Pismo_Beach\", \"Otter_Count\": 157.0}, {\"Year\": 2010.0, \"Location\": \"Hazard_Canyon_to_Pismo_Beach\", \"Otter_Count\": 138.0}, {\"Year\": 2012.0, \"Location\": \"Hazard_Canyon_to_Pismo_Beach\", \"Otter_Count\": 122.0}, {\"Year\": 2013.0, \"Location\": \"Hazard_Canyon_to_Pismo_Beach\", \"Otter_Count\": 103.0}, {\"Year\": 2014.0, \"Location\": \"Hazard_Canyon_to_Pismo_Beach\", \"Otter_Count\": 111.0}, {\"Year\": 1985.0, \"Location\": \"Pismo_Beach_to_Pt_Sal\", \"Otter_Count\": 0.0}, {\"Year\": 1986.0, \"Location\": \"Pismo_Beach_to_Pt_Sal\", \"Otter_Count\": 0.0}, {\"Year\": 1987.0, \"Location\": \"Pismo_Beach_to_Pt_Sal\", \"Otter_Count\": 10.0}, {\"Year\": 1988.0, \"Location\": \"Pismo_Beach_to_Pt_Sal\", \"Otter_Count\": 10.0}, {\"Year\": 1989.0, \"Location\": \"Pismo_Beach_to_Pt_Sal\", \"Otter_Count\": 14.0}, {\"Year\": 1990.0, \"Location\": \"Pismo_Beach_to_Pt_Sal\", \"Otter_Count\": 7.0}, {\"Year\": 1991.0, \"Location\": \"Pismo_Beach_to_Pt_Sal\", \"Otter_Count\": 26.0}, {\"Year\": 1992.0, \"Location\": \"Pismo_Beach_to_Pt_Sal\", \"Otter_Count\": 47.0}, {\"Year\": 1993.0, \"Location\": \"Pismo_Beach_to_Pt_Sal\", \"Otter_Count\": 86.0}, {\"Year\": 1994.0, \"Location\": \"Pismo_Beach_to_Pt_Sal\", \"Otter_Count\": 83.0}, {\"Year\": 1995.0, \"Location\": \"Pismo_Beach_to_Pt_Sal\", \"Otter_Count\": 82.0}, {\"Year\": 1996.0, \"Location\": \"Pismo_Beach_to_Pt_Sal\", \"Otter_Count\": 48.0}, {\"Year\": 1997.0, \"Location\": \"Pismo_Beach_to_Pt_Sal\", \"Otter_Count\": 50.0}, {\"Year\": 1998.0, \"Location\": \"Pismo_Beach_to_Pt_Sal\", \"Otter_Count\": 44.0}, {\"Year\": 1999.0, \"Location\": \"Pismo_Beach_to_Pt_Sal\", \"Otter_Count\": 69.0}, {\"Year\": 2000.0, \"Location\": \"Pismo_Beach_to_Pt_Sal\", \"Otter_Count\": 94.0}, {\"Year\": 2001.0, \"Location\": \"Pismo_Beach_to_Pt_Sal\", \"Otter_Count\": 81.0}, {\"Year\": 2002.0, \"Location\": \"Pismo_Beach_to_Pt_Sal\", \"Otter_Count\": 82.0}, {\"Year\": 2003.0, \"Location\": \"Pismo_Beach_to_Pt_Sal\", \"Otter_Count\": 44.0}, {\"Year\": 2004.0, \"Location\": \"Pismo_Beach_to_Pt_Sal\", \"Otter_Count\": 92.0}, {\"Year\": 2005.0, \"Location\": \"Pismo_Beach_to_Pt_Sal\", \"Otter_Count\": 95.0}, {\"Year\": 2006.0, \"Location\": \"Pismo_Beach_to_Pt_Sal\", \"Otter_Count\": 101.0}, {\"Year\": 2007.0, \"Location\": \"Pismo_Beach_to_Pt_Sal\", \"Otter_Count\": 79.0}, {\"Year\": 2008.0, \"Location\": \"Pismo_Beach_to_Pt_Sal\", \"Otter_Count\": 127.0}, {\"Year\": 2009.0, \"Location\": \"Pismo_Beach_to_Pt_Sal\", \"Otter_Count\": 181.0}, {\"Year\": 2010.0, \"Location\": \"Pismo_Beach_to_Pt_Sal\", \"Otter_Count\": 224.0}, {\"Year\": 2012.0, \"Location\": \"Pismo_Beach_to_Pt_Sal\", \"Otter_Count\": 190.0}, {\"Year\": 2013.0, \"Location\": \"Pismo_Beach_to_Pt_Sal\", \"Otter_Count\": 154.0}, {\"Year\": 2014.0, \"Location\": \"Pismo_Beach_to_Pt_Sal\", \"Otter_Count\": 172.0}, {\"Year\": 1985.0, \"Location\": \"Pt_Sal_to_Pt_Conception\", \"Otter_Count\": null}, {\"Year\": 1986.0, \"Location\": \"Pt_Sal_to_Pt_Conception\", \"Otter_Count\": null}, {\"Year\": 1987.0, \"Location\": \"Pt_Sal_to_Pt_Conception\", \"Otter_Count\": null}, {\"Year\": 1988.0, \"Location\": \"Pt_Sal_to_Pt_Conception\", \"Otter_Count\": null}, {\"Year\": 1989.0, \"Location\": \"Pt_Sal_to_Pt_Conception\", \"Otter_Count\": null}, {\"Year\": 1990.0, \"Location\": \"Pt_Sal_to_Pt_Conception\", \"Otter_Count\": null}, {\"Year\": 1991.0, \"Location\": \"Pt_Sal_to_Pt_Conception\", \"Otter_Count\": 0.0}, {\"Year\": 1992.0, \"Location\": \"Pt_Sal_to_Pt_Conception\", \"Otter_Count\": 0.0}, {\"Year\": 1993.0, \"Location\": \"Pt_Sal_to_Pt_Conception\", \"Otter_Count\": 0.0}, {\"Year\": 1994.0, \"Location\": \"Pt_Sal_to_Pt_Conception\", \"Otter_Count\": 2.0}, {\"Year\": 1995.0, \"Location\": \"Pt_Sal_to_Pt_Conception\", \"Otter_Count\": 6.0}, {\"Year\": 1996.0, \"Location\": \"Pt_Sal_to_Pt_Conception\", \"Otter_Count\": 6.0}, {\"Year\": 1997.0, \"Location\": \"Pt_Sal_to_Pt_Conception\", \"Otter_Count\": 7.0}, {\"Year\": 1998.0, \"Location\": \"Pt_Sal_to_Pt_Conception\", \"Otter_Count\": 48.0}, {\"Year\": 1999.0, \"Location\": \"Pt_Sal_to_Pt_Conception\", \"Otter_Count\": 17.0}, {\"Year\": 2000.0, \"Location\": \"Pt_Sal_to_Pt_Conception\", \"Otter_Count\": 22.0}, {\"Year\": 2001.0, \"Location\": \"Pt_Sal_to_Pt_Conception\", \"Otter_Count\": 11.0}, {\"Year\": 2002.0, \"Location\": \"Pt_Sal_to_Pt_Conception\", \"Otter_Count\": 15.0}, {\"Year\": 2003.0, \"Location\": \"Pt_Sal_to_Pt_Conception\", \"Otter_Count\": 28.0}, {\"Year\": 2004.0, \"Location\": \"Pt_Sal_to_Pt_Conception\", \"Otter_Count\": 46.0}, {\"Year\": 2005.0, \"Location\": \"Pt_Sal_to_Pt_Conception\", \"Otter_Count\": 57.0}, {\"Year\": 2006.0, \"Location\": \"Pt_Sal_to_Pt_Conception\", \"Otter_Count\": 65.0}, {\"Year\": 2007.0, \"Location\": \"Pt_Sal_to_Pt_Conception\", \"Otter_Count\": 69.0}, {\"Year\": 2008.0, \"Location\": \"Pt_Sal_to_Pt_Conception\", \"Otter_Count\": 60.0}, {\"Year\": 2009.0, \"Location\": \"Pt_Sal_to_Pt_Conception\", \"Otter_Count\": 56.0}, {\"Year\": 2010.0, \"Location\": \"Pt_Sal_to_Pt_Conception\", \"Otter_Count\": 59.0}, {\"Year\": 2012.0, \"Location\": \"Pt_Sal_to_Pt_Conception\", \"Otter_Count\": 47.0}, {\"Year\": 2013.0, \"Location\": \"Pt_Sal_to_Pt_Conception\", \"Otter_Count\": 41.0}, {\"Year\": 2014.0, \"Location\": \"Pt_Sal_to_Pt_Conception\", \"Otter_Count\": 46.0}, {\"Year\": 1985.0, \"Location\": \"SE_of_Pt_Conception\", \"Otter_Count\": null}, {\"Year\": 1986.0, \"Location\": \"SE_of_Pt_Conception\", \"Otter_Count\": null}, {\"Year\": 1987.0, \"Location\": \"SE_of_Pt_Conception\", \"Otter_Count\": null}, {\"Year\": 1988.0, \"Location\": \"SE_of_Pt_Conception\", \"Otter_Count\": null}, {\"Year\": 1989.0, \"Location\": \"SE_of_Pt_Conception\", \"Otter_Count\": null}, {\"Year\": 1990.0, \"Location\": \"SE_of_Pt_Conception\", \"Otter_Count\": null}, {\"Year\": 1991.0, \"Location\": \"SE_of_Pt_Conception\", \"Otter_Count\": null}, {\"Year\": 1992.0, \"Location\": \"SE_of_Pt_Conception\", \"Otter_Count\": null}, {\"Year\": 1993.0, \"Location\": \"SE_of_Pt_Conception\", \"Otter_Count\": null}, {\"Year\": 1994.0, \"Location\": \"SE_of_Pt_Conception\", \"Otter_Count\": null}, {\"Year\": 1995.0, \"Location\": \"SE_of_Pt_Conception\", \"Otter_Count\": null}, {\"Year\": 1996.0, \"Location\": \"SE_of_Pt_Conception\", \"Otter_Count\": null}, {\"Year\": 1997.0, \"Location\": \"SE_of_Pt_Conception\", \"Otter_Count\": null}, {\"Year\": 1998.0, \"Location\": \"SE_of_Pt_Conception\", \"Otter_Count\": null}, {\"Year\": 1999.0, \"Location\": \"SE_of_Pt_Conception\", \"Otter_Count\": 16.0}, {\"Year\": 2000.0, \"Location\": \"SE_of_Pt_Conception\", \"Otter_Count\": 42.0}, {\"Year\": 2001.0, \"Location\": \"SE_of_Pt_Conception\", \"Otter_Count\": 34.0}, {\"Year\": 2002.0, \"Location\": \"SE_of_Pt_Conception\", \"Otter_Count\": 24.0}, {\"Year\": 2003.0, \"Location\": \"SE_of_Pt_Conception\", \"Otter_Count\": 10.0}, {\"Year\": 2004.0, \"Location\": \"SE_of_Pt_Conception\", \"Otter_Count\": 0.0}, {\"Year\": 2005.0, \"Location\": \"SE_of_Pt_Conception\", \"Otter_Count\": 20.0}, {\"Year\": 2006.0, \"Location\": \"SE_of_Pt_Conception\", \"Otter_Count\": 27.0}, {\"Year\": 2007.0, \"Location\": \"SE_of_Pt_Conception\", \"Otter_Count\": 35.0}, {\"Year\": 2008.0, \"Location\": \"SE_of_Pt_Conception\", \"Otter_Count\": 26.0}, {\"Year\": 2009.0, \"Location\": \"SE_of_Pt_Conception\", \"Otter_Count\": 14.0}, {\"Year\": 2010.0, \"Location\": \"SE_of_Pt_Conception\", \"Otter_Count\": 12.0}, {\"Year\": 2012.0, \"Location\": \"SE_of_Pt_Conception\", \"Otter_Count\": 21.0}, {\"Year\": 2013.0, \"Location\": \"SE_of_Pt_Conception\", \"Otter_Count\": 34.0}, {\"Year\": 2014.0, \"Location\": \"SE_of_Pt_Conception\", \"Otter_Count\": 40.0}]}}, {\"mode\": \"vega-lite\"});\n",
       "</script>"
      ],
      "text/plain": [
       "alt.Chart(...)"
      ]
     },
     "execution_count": 62,
     "metadata": {},
     "output_type": "execute_result"
    }
   ],
   "source": [
    "alt.Chart(melted_df).mark_area().encode(\n",
    "        x='Year:N',\n",
    "        y='Otter_Count',\n",
    "        color=alt.Color('Location',\n",
    "                        scale=alt.Scale(scheme='tableau20'),\n",
    "                        sort=alt.EncodingSortField('Latitude',  \n",
    "                                                order='ascending')),\n",
    "        tooltip='Location'\n",
    ").properties(\n",
    "    width=650,\n",
    "    height=400,\n",
    ").configure_axis(\n",
    "    grid=False,\n",
    "    labelFontSize=12,\n",
    "    titleFontSize=12\n",
    ").configure_legend(\n",
    "    labelFontSize=12,\n",
    "    titleFontSize=12\n",
    ").configure_title(\n",
    "    fontWeight='normal',\n",
    "    fontSize=13\n",
    ")"
   ]
  },
  {
   "cell_type": "markdown",
   "metadata": {
    "id": "Y2pHkOUIY6iW"
   },
   "source": [
    "We can clealy observe the overall trend of population growth. It is same as what we saw in the very first chart. We can also see how much each region contributes to the overall population trend. **C_San_Martin_to_San_Simeon_Point** and **Capitola_to_Seaside** regions are the major contributors to the population growth. The growth trend in these specific regions is in sync with the overall trend. **Cayucos_to_Hazard_Canyon** and **Hazard_Canyon_to_Pismo_Beach** among others have increasing growth trend but have low population. Regions like **Seaside_to_Pt_Lobos** and **San_Simeon_Pt_to_Cayucos** have high population but relatively stagnant growth."
   ]
  },
  {
   "cell_type": "markdown",
   "metadata": {
    "id": "jRJucJNvY6iW"
   },
   "source": [
    "After looking at the geographical distribution of stranding cases, we move on to analyze stranding cases chronologically and seasonally, using table 3 from dataset \"Summary of stranded southern sea otters, 1985-2017\"."
   ]
  },
  {
   "cell_type": "code",
   "execution_count": 63,
   "metadata": {
    "colab": {
     "base_uri": "https://localhost:8080/",
     "height": 375
    },
    "executionInfo": {
     "elapsed": 1056,
     "status": "error",
     "timestamp": 1616819905525,
     "user": {
      "displayName": "Jui-Chia Chung",
      "photoUrl": "",
      "userId": "07884676406703548290"
     },
     "user_tz": -480
    },
    "id": "ceBmv0CJ75IW",
    "outputId": "6638ec90-fa91-4e1f-c2e0-778f7537e89c"
   },
   "outputs": [
    {
     "data": {
      "text/html": [
       "<div>\n",
       "<style scoped>\n",
       "    .dataframe tbody tr th:only-of-type {\n",
       "        vertical-align: middle;\n",
       "    }\n",
       "\n",
       "    .dataframe tbody tr th {\n",
       "        vertical-align: top;\n",
       "    }\n",
       "\n",
       "    .dataframe thead th {\n",
       "        text-align: right;\n",
       "    }\n",
       "</style>\n",
       "<table border=\"1\" class=\"dataframe\">\n",
       "  <thead>\n",
       "    <tr style=\"text-align: right;\">\n",
       "      <th></th>\n",
       "      <th>Year</th>\n",
       "      <th>Age_Class</th>\n",
       "      <th>Jan</th>\n",
       "      <th>Feb</th>\n",
       "      <th>Mar</th>\n",
       "      <th>Apr</th>\n",
       "      <th>May</th>\n",
       "      <th>Jun</th>\n",
       "      <th>Jul</th>\n",
       "      <th>Aug</th>\n",
       "      <th>Sep</th>\n",
       "      <th>Oct</th>\n",
       "      <th>Nov</th>\n",
       "      <th>Dec</th>\n",
       "      <th>TOTAL</th>\n",
       "    </tr>\n",
       "  </thead>\n",
       "  <tbody>\n",
       "    <tr>\n",
       "      <th>0</th>\n",
       "      <td>1985</td>\n",
       "      <td>Unknown</td>\n",
       "      <td>0</td>\n",
       "      <td>0</td>\n",
       "      <td>0</td>\n",
       "      <td>0</td>\n",
       "      <td>0</td>\n",
       "      <td>0</td>\n",
       "      <td>5</td>\n",
       "      <td>2</td>\n",
       "      <td>0</td>\n",
       "      <td>0</td>\n",
       "      <td>0</td>\n",
       "      <td>0</td>\n",
       "      <td>7</td>\n",
       "    </tr>\n",
       "    <tr>\n",
       "      <th>1</th>\n",
       "      <td>1985</td>\n",
       "      <td>Pup</td>\n",
       "      <td>0</td>\n",
       "      <td>0</td>\n",
       "      <td>1</td>\n",
       "      <td>0</td>\n",
       "      <td>0</td>\n",
       "      <td>0</td>\n",
       "      <td>1</td>\n",
       "      <td>0</td>\n",
       "      <td>0</td>\n",
       "      <td>1</td>\n",
       "      <td>3</td>\n",
       "      <td>1</td>\n",
       "      <td>7</td>\n",
       "    </tr>\n",
       "    <tr>\n",
       "      <th>2</th>\n",
       "      <td>1985</td>\n",
       "      <td>Immature</td>\n",
       "      <td>0</td>\n",
       "      <td>0</td>\n",
       "      <td>0</td>\n",
       "      <td>1</td>\n",
       "      <td>0</td>\n",
       "      <td>0</td>\n",
       "      <td>1</td>\n",
       "      <td>2</td>\n",
       "      <td>2</td>\n",
       "      <td>0</td>\n",
       "      <td>0</td>\n",
       "      <td>1</td>\n",
       "      <td>7</td>\n",
       "    </tr>\n",
       "    <tr>\n",
       "      <th>3</th>\n",
       "      <td>1985</td>\n",
       "      <td>Sub-adult</td>\n",
       "      <td>2</td>\n",
       "      <td>0</td>\n",
       "      <td>0</td>\n",
       "      <td>1</td>\n",
       "      <td>1</td>\n",
       "      <td>0</td>\n",
       "      <td>1</td>\n",
       "      <td>2</td>\n",
       "      <td>1</td>\n",
       "      <td>2</td>\n",
       "      <td>0</td>\n",
       "      <td>1</td>\n",
       "      <td>11</td>\n",
       "    </tr>\n",
       "    <tr>\n",
       "      <th>4</th>\n",
       "      <td>1985</td>\n",
       "      <td>Adult</td>\n",
       "      <td>0</td>\n",
       "      <td>2</td>\n",
       "      <td>1</td>\n",
       "      <td>1</td>\n",
       "      <td>1</td>\n",
       "      <td>7</td>\n",
       "      <td>4</td>\n",
       "      <td>3</td>\n",
       "      <td>5</td>\n",
       "      <td>3</td>\n",
       "      <td>1</td>\n",
       "      <td>0</td>\n",
       "      <td>28</td>\n",
       "    </tr>\n",
       "  </tbody>\n",
       "</table>\n",
       "</div>"
      ],
      "text/plain": [
       "   Year  Age_Class  Jan  Feb  Mar  Apr  May  Jun  Jul  Aug  Sep  Oct  Nov  \\\n",
       "0  1985    Unknown    0    0    0    0    0    0    5    2    0    0    0   \n",
       "1  1985        Pup    0    0    1    0    0    0    1    0    0    1    3   \n",
       "2  1985   Immature    0    0    0    1    0    0    1    2    2    0    0   \n",
       "3  1985  Sub-adult    2    0    0    1    1    0    1    2    1    2    0   \n",
       "4  1985      Adult    0    2    1    1    1    7    4    3    5    3    1   \n",
       "\n",
       "   Dec  TOTAL  \n",
       "0    0      7  \n",
       "1    1      7  \n",
       "2    1      7  \n",
       "3    1     11  \n",
       "4    0     28  "
      ]
     },
     "execution_count": 63,
     "metadata": {},
     "output_type": "execute_result"
    }
   ],
   "source": [
    "strand_df = pd.read_csv(DATAPATH+'stranding/Table3_StrandedSeaOtter_byYearAndMonth_1985_2017.csv')\n",
    "strand_df.head()"
   ]
  },
  {
   "cell_type": "markdown",
   "metadata": {
    "id": "4taapoxo8g7I"
   },
   "source": [
    "The dataset contains the stranded sea otter counts in each month from 1985-2017. It also contains data about stranded counts in different age classes (Pup, Immature, Subadult, Adult, Old Adult, Unknown) of sea otters. "
   ]
  },
  {
   "cell_type": "markdown",
   "metadata": {
    "id": "0EQd2a1q75IX"
   },
   "source": [
    "#### Data cleaning"
   ]
  },
  {
   "cell_type": "code",
   "execution_count": 64,
   "metadata": {
    "id": "3KFWFYkI75IX",
    "outputId": "873590cd-a86c-4ee3-b219-092086fd6476"
   },
   "outputs": [
    {
     "data": {
      "text/plain": [
       "Pup          33\n",
       "Old Adult    33\n",
       "Adult        33\n",
       "Immature     33\n",
       "Subadult     32\n",
       "Unknown      32\n",
       "Sub-adult     1\n",
       "Name: Age_Class, dtype: int64"
      ]
     },
     "execution_count": 64,
     "metadata": {},
     "output_type": "execute_result"
    }
   ],
   "source": [
    "strand_df.Age_Class.value_counts()"
   ]
  },
  {
   "cell_type": "code",
   "execution_count": 65,
   "metadata": {
    "id": "cDvfbF1575IX"
   },
   "outputs": [],
   "source": [
    "# Clean data, change Sub-adult to Subadult\n",
    "strand_df.Age_Class = strand_df.Age_Class.apply(lambda x: \"Subadult\" if x == \"Sub-adult\" else x)"
   ]
  },
  {
   "cell_type": "markdown",
   "metadata": {
    "id": "8stgjun775IY"
   },
   "source": [
    "### What is the trend of stranded sea otter count from 1985-2017?\n",
    "\n",
    "First, we want to look at the overall trend of total number of stranded sea otters over the years to get a general idea about sea otter stranding. We hypothesized that there is an increase in stranded sea otter counts over the years (perhaps due to increasing sea otter population as shown in previous analysis and more human activities, such as pollution, boat strikes, oil spillings, etc)."
   ]
  },
  {
   "cell_type": "code",
   "execution_count": 66,
   "metadata": {
    "colab": {
     "base_uri": "https://localhost:8080/",
     "height": 181
    },
    "executionInfo": {
     "elapsed": 771,
     "status": "error",
     "timestamp": 1616819620921,
     "user": {
      "displayName": "Jui-Chia Chung",
      "photoUrl": "",
      "userId": "07884676406703548290"
     },
     "user_tz": -480
    },
    "id": "TdgxJCEi75IY",
    "outputId": "8bb3cf30-bdfd-4aee-fa22-99e37641b52f"
   },
   "outputs": [
    {
     "data": {
      "text/html": [
       "<div>\n",
       "<style scoped>\n",
       "    .dataframe tbody tr th:only-of-type {\n",
       "        vertical-align: middle;\n",
       "    }\n",
       "\n",
       "    .dataframe tbody tr th {\n",
       "        vertical-align: top;\n",
       "    }\n",
       "\n",
       "    .dataframe thead th {\n",
       "        text-align: right;\n",
       "    }\n",
       "</style>\n",
       "<table border=\"1\" class=\"dataframe\">\n",
       "  <thead>\n",
       "    <tr style=\"text-align: right;\">\n",
       "      <th></th>\n",
       "      <th>Year</th>\n",
       "      <th>Jan</th>\n",
       "      <th>Feb</th>\n",
       "      <th>Mar</th>\n",
       "      <th>Apr</th>\n",
       "      <th>May</th>\n",
       "      <th>Jun</th>\n",
       "      <th>Jul</th>\n",
       "      <th>Aug</th>\n",
       "      <th>Sep</th>\n",
       "      <th>Oct</th>\n",
       "      <th>Nov</th>\n",
       "      <th>Dec</th>\n",
       "      <th>TOTAL</th>\n",
       "    </tr>\n",
       "  </thead>\n",
       "  <tbody>\n",
       "    <tr>\n",
       "      <th>0</th>\n",
       "      <td>1985</td>\n",
       "      <td>2</td>\n",
       "      <td>4</td>\n",
       "      <td>3</td>\n",
       "      <td>4</td>\n",
       "      <td>3</td>\n",
       "      <td>8</td>\n",
       "      <td>12</td>\n",
       "      <td>9</td>\n",
       "      <td>9</td>\n",
       "      <td>10</td>\n",
       "      <td>4</td>\n",
       "      <td>4</td>\n",
       "      <td>72</td>\n",
       "    </tr>\n",
       "    <tr>\n",
       "      <th>1</th>\n",
       "      <td>1986</td>\n",
       "      <td>2</td>\n",
       "      <td>10</td>\n",
       "      <td>4</td>\n",
       "      <td>5</td>\n",
       "      <td>9</td>\n",
       "      <td>5</td>\n",
       "      <td>6</td>\n",
       "      <td>16</td>\n",
       "      <td>8</td>\n",
       "      <td>8</td>\n",
       "      <td>3</td>\n",
       "      <td>5</td>\n",
       "      <td>81</td>\n",
       "    </tr>\n",
       "    <tr>\n",
       "      <th>2</th>\n",
       "      <td>1987</td>\n",
       "      <td>4</td>\n",
       "      <td>7</td>\n",
       "      <td>10</td>\n",
       "      <td>4</td>\n",
       "      <td>5</td>\n",
       "      <td>11</td>\n",
       "      <td>7</td>\n",
       "      <td>16</td>\n",
       "      <td>4</td>\n",
       "      <td>11</td>\n",
       "      <td>7</td>\n",
       "      <td>8</td>\n",
       "      <td>94</td>\n",
       "    </tr>\n",
       "    <tr>\n",
       "      <th>3</th>\n",
       "      <td>1988</td>\n",
       "      <td>5</td>\n",
       "      <td>6</td>\n",
       "      <td>12</td>\n",
       "      <td>4</td>\n",
       "      <td>8</td>\n",
       "      <td>7</td>\n",
       "      <td>5</td>\n",
       "      <td>15</td>\n",
       "      <td>6</td>\n",
       "      <td>5</td>\n",
       "      <td>10</td>\n",
       "      <td>5</td>\n",
       "      <td>88</td>\n",
       "    </tr>\n",
       "    <tr>\n",
       "      <th>4</th>\n",
       "      <td>1989</td>\n",
       "      <td>3</td>\n",
       "      <td>6</td>\n",
       "      <td>14</td>\n",
       "      <td>6</td>\n",
       "      <td>6</td>\n",
       "      <td>9</td>\n",
       "      <td>7</td>\n",
       "      <td>8</td>\n",
       "      <td>10</td>\n",
       "      <td>7</td>\n",
       "      <td>11</td>\n",
       "      <td>1</td>\n",
       "      <td>88</td>\n",
       "    </tr>\n",
       "  </tbody>\n",
       "</table>\n",
       "</div>"
      ],
      "text/plain": [
       "   Year  Jan  Feb  Mar  Apr  May  Jun  Jul  Aug  Sep  Oct  Nov  Dec  TOTAL\n",
       "0  1985    2    4    3    4    3    8   12    9    9   10    4    4     72\n",
       "1  1986    2   10    4    5    9    5    6   16    8    8    3    5     81\n",
       "2  1987    4    7   10    4    5   11    7   16    4   11    7    8     94\n",
       "3  1988    5    6   12    4    8    7    5   15    6    5   10    5     88\n",
       "4  1989    3    6   14    6    6    9    7    8   10    7   11    1     88"
      ]
     },
     "execution_count": 66,
     "metadata": {},
     "output_type": "execute_result"
    }
   ],
   "source": [
    "# Group by year\n",
    "total_strand = strand_df.groupby(by='Year').sum().reset_index()\n",
    "total_strand.head()"
   ]
  },
  {
   "cell_type": "code",
   "execution_count": 67,
   "metadata": {
    "id": "ei-8zaTZ75IZ",
    "outputId": "dae7270d-1ab9-4f3e-b33c-7269ac10a38f"
   },
   "outputs": [
    {
     "data": {
      "text/plain": [
       "31    2016\n",
       "Name: Year, dtype: int64"
      ]
     },
     "execution_count": 67,
     "metadata": {},
     "output_type": "execute_result"
    }
   ],
   "source": [
    "# Year with maximum stranded sea otter count\n",
    "total_strand.Year[total_strand.TOTAL == total_strand.TOTAL.max()]"
   ]
  },
  {
   "cell_type": "code",
   "execution_count": 68,
   "metadata": {
    "id": "fpyKauR675IZ",
    "outputId": "95d45d92-25b1-4e95-ccac-3cd115bf9c81"
   },
   "outputs": [
    {
     "data": {
      "text/plain": [
       "474"
      ]
     },
     "execution_count": 68,
     "metadata": {},
     "output_type": "execute_result"
    }
   ],
   "source": [
    "# Maximum stranded sea otter count\n",
    "total_strand.TOTAL.max()"
   ]
  },
  {
   "cell_type": "code",
   "execution_count": 69,
   "metadata": {
    "id": "IfgKnTaq75IZ",
    "outputId": "2e6f1f1d-bd23-410f-b5f0-f0ae3c0074e8"
   },
   "outputs": [
    {
     "data": {
      "text/plain": [
       "0    1985\n",
       "Name: Year, dtype: int64"
      ]
     },
     "execution_count": 69,
     "metadata": {},
     "output_type": "execute_result"
    }
   ],
   "source": [
    "# Year with minimum stranded sea otter count\n",
    "total_strand.Year[total_strand.TOTAL == total_strand.TOTAL.min()]"
   ]
  },
  {
   "cell_type": "code",
   "execution_count": 70,
   "metadata": {
    "id": "-A3Rec9G75Ia",
    "outputId": "b0ad04dd-7d9b-4286-e528-7103afab34f6"
   },
   "outputs": [
    {
     "data": {
      "text/plain": [
       "72"
      ]
     },
     "execution_count": 70,
     "metadata": {},
     "output_type": "execute_result"
    }
   ],
   "source": [
    "# Minimum stranded sea otter count\n",
    "total_strand.TOTAL.min()"
   ]
  },
  {
   "cell_type": "code",
   "execution_count": 71,
   "metadata": {
    "id": "AFZfXiCw75Ia",
    "outputId": "0c994e73-69fb-4fb0-d648-039cbb8bac90"
   },
   "outputs": [
    {
     "data": {
      "text/html": [
       "\n",
       "<div id=\"altair-viz-6b581b84b8bc43c3b63d43ddd490ee0d\"></div>\n",
       "<script type=\"text/javascript\">\n",
       "  (function(spec, embedOpt){\n",
       "    let outputDiv = document.currentScript.previousElementSibling;\n",
       "    if (outputDiv.id !== \"altair-viz-6b581b84b8bc43c3b63d43ddd490ee0d\") {\n",
       "      outputDiv = document.getElementById(\"altair-viz-6b581b84b8bc43c3b63d43ddd490ee0d\");\n",
       "    }\n",
       "    const paths = {\n",
       "      \"vega\": \"https://cdn.jsdelivr.net/npm//vega@5?noext\",\n",
       "      \"vega-lib\": \"https://cdn.jsdelivr.net/npm//vega-lib?noext\",\n",
       "      \"vega-lite\": \"https://cdn.jsdelivr.net/npm//vega-lite@4.8.1?noext\",\n",
       "      \"vega-embed\": \"https://cdn.jsdelivr.net/npm//vega-embed@6?noext\",\n",
       "    };\n",
       "\n",
       "    function loadScript(lib) {\n",
       "      return new Promise(function(resolve, reject) {\n",
       "        var s = document.createElement('script');\n",
       "        s.src = paths[lib];\n",
       "        s.async = true;\n",
       "        s.onload = () => resolve(paths[lib]);\n",
       "        s.onerror = () => reject(`Error loading script: ${paths[lib]}`);\n",
       "        document.getElementsByTagName(\"head\")[0].appendChild(s);\n",
       "      });\n",
       "    }\n",
       "\n",
       "    function showError(err) {\n",
       "      outputDiv.innerHTML = `<div class=\"error\" style=\"color:red;\">${err}</div>`;\n",
       "      throw err;\n",
       "    }\n",
       "\n",
       "    function displayChart(vegaEmbed) {\n",
       "      vegaEmbed(outputDiv, spec, embedOpt)\n",
       "        .catch(err => showError(`Javascript Error: ${err.message}<br>This usually means there's a typo in your chart specification. See the javascript console for the full traceback.`));\n",
       "    }\n",
       "\n",
       "    if(typeof define === \"function\" && define.amd) {\n",
       "      requirejs.config({paths});\n",
       "      require([\"vega-embed\"], displayChart, err => showError(`Error loading script: ${err.message}`));\n",
       "    } else if (typeof vegaEmbed === \"function\") {\n",
       "      displayChart(vegaEmbed);\n",
       "    } else {\n",
       "      loadScript(\"vega\")\n",
       "        .then(() => loadScript(\"vega-lite\"))\n",
       "        .then(() => loadScript(\"vega-embed\"))\n",
       "        .catch(showError)\n",
       "        .then(() => displayChart(vegaEmbed));\n",
       "    }\n",
       "  })({\"config\": {\"view\": {\"continuousWidth\": 400, \"continuousHeight\": 300}, \"axis\": {\"grid\": false, \"labelFontSize\": 12, \"titleFontSize\": 12}, \"legend\": {\"labelFontSize\": 12, \"titleFontSize\": 12}, \"title\": {\"fontSize\": 13}}, \"data\": {\"name\": \"data-6044687d82f51e0cbd2ca40f7a8f28ca\"}, \"mark\": {\"type\": \"line\", \"color\": \"brown\"}, \"encoding\": {\"x\": {\"type\": \"quantitative\", \"field\": \"Year\"}, \"y\": {\"type\": \"quantitative\", \"field\": \"TOTAL\", \"title\": \"Stranded sea otter count\"}}, \"title\": [\"Total number of stranded sea otters each year shows a growing trend from 1985-2017\", \"\\n\"], \"$schema\": \"https://vega.github.io/schema/vega-lite/v4.8.1.json\", \"datasets\": {\"data-6044687d82f51e0cbd2ca40f7a8f28ca\": [{\"Year\": 1985, \"Jan\": 2, \"Feb\": 4, \"Mar\": 3, \"Apr\": 4, \"May\": 3, \"Jun\": 8, \"Jul\": 12, \"Aug\": 9, \"Sep\": 9, \"Oct\": 10, \"Nov\": 4, \"Dec\": 4, \"TOTAL\": 72}, {\"Year\": 1986, \"Jan\": 2, \"Feb\": 10, \"Mar\": 4, \"Apr\": 5, \"May\": 9, \"Jun\": 5, \"Jul\": 6, \"Aug\": 16, \"Sep\": 8, \"Oct\": 8, \"Nov\": 3, \"Dec\": 5, \"TOTAL\": 81}, {\"Year\": 1987, \"Jan\": 4, \"Feb\": 7, \"Mar\": 10, \"Apr\": 4, \"May\": 5, \"Jun\": 11, \"Jul\": 7, \"Aug\": 16, \"Sep\": 4, \"Oct\": 11, \"Nov\": 7, \"Dec\": 8, \"TOTAL\": 94}, {\"Year\": 1988, \"Jan\": 5, \"Feb\": 6, \"Mar\": 12, \"Apr\": 4, \"May\": 8, \"Jun\": 7, \"Jul\": 5, \"Aug\": 15, \"Sep\": 6, \"Oct\": 5, \"Nov\": 10, \"Dec\": 5, \"TOTAL\": 88}, {\"Year\": 1989, \"Jan\": 3, \"Feb\": 6, \"Mar\": 14, \"Apr\": 6, \"May\": 6, \"Jun\": 9, \"Jul\": 7, \"Aug\": 8, \"Sep\": 10, \"Oct\": 7, \"Nov\": 11, \"Dec\": 1, \"TOTAL\": 88}, {\"Year\": 1990, \"Jan\": 9, \"Feb\": 16, \"Mar\": 11, \"Apr\": 7, \"May\": 7, \"Jun\": 9, \"Jul\": 11, \"Aug\": 9, \"Sep\": 6, \"Oct\": 9, \"Nov\": 4, \"Dec\": 5, \"TOTAL\": 103}, {\"Year\": 1991, \"Jan\": 6, \"Feb\": 8, \"Mar\": 6, \"Apr\": 9, \"May\": 9, \"Jun\": 15, \"Jul\": 5, \"Aug\": 6, \"Sep\": 7, \"Oct\": 4, \"Nov\": 5, \"Dec\": 1, \"TOTAL\": 81}, {\"Year\": 1992, \"Jan\": 8, \"Feb\": 3, \"Mar\": 7, \"Apr\": 6, \"May\": 6, \"Jun\": 18, \"Jul\": 14, \"Aug\": 16, \"Sep\": 14, \"Oct\": 8, \"Nov\": 5, \"Dec\": 8, \"TOTAL\": 113}, {\"Year\": 1993, \"Jan\": 8, \"Feb\": 10, \"Mar\": 8, \"Apr\": 12, \"May\": 17, \"Jun\": 12, \"Jul\": 12, \"Aug\": 7, \"Sep\": 5, \"Oct\": 15, \"Nov\": 12, \"Dec\": 10, \"TOTAL\": 128}, {\"Year\": 1994, \"Jan\": 9, \"Feb\": 13, \"Mar\": 14, \"Apr\": 18, \"May\": 11, \"Jun\": 11, \"Jul\": 7, \"Aug\": 16, \"Sep\": 8, \"Oct\": 8, \"Nov\": 8, \"Dec\": 10, \"TOTAL\": 133}, {\"Year\": 1995, \"Jan\": 11, \"Feb\": 11, \"Mar\": 6, \"Apr\": 19, \"May\": 17, \"Jun\": 12, \"Jul\": 32, \"Aug\": 14, \"Sep\": 12, \"Oct\": 10, \"Nov\": 12, \"Dec\": 7, \"TOTAL\": 163}, {\"Year\": 1996, \"Jan\": 3, \"Feb\": 11, \"Mar\": 11, \"Apr\": 22, \"May\": 16, \"Jun\": 17, \"Jul\": 34, \"Aug\": 18, \"Sep\": 18, \"Oct\": 14, \"Nov\": 5, \"Dec\": 13, \"TOTAL\": 182}, {\"Year\": 1997, \"Jan\": 19, \"Feb\": 12, \"Mar\": 13, \"Apr\": 19, \"May\": 12, \"Jun\": 12, \"Jul\": 15, \"Aug\": 15, \"Sep\": 11, \"Oct\": 12, \"Nov\": 10, \"Dec\": 2, \"TOTAL\": 152}, {\"Year\": 1998, \"Jan\": 11, \"Feb\": 13, \"Mar\": 20, \"Apr\": 29, \"May\": 27, \"Jun\": 31, \"Jul\": 17, \"Aug\": 15, \"Sep\": 9, \"Oct\": 10, \"Nov\": 17, \"Dec\": 14, \"TOTAL\": 213}, {\"Year\": 1999, \"Jan\": 11, \"Feb\": 15, \"Mar\": 20, \"Apr\": 20, \"May\": 11, \"Jun\": 11, \"Jul\": 15, \"Aug\": 28, \"Sep\": 20, \"Oct\": 14, \"Nov\": 13, \"Dec\": 9, \"TOTAL\": 187}, {\"Year\": 2000, \"Jan\": 6, \"Feb\": 8, \"Mar\": 18, \"Apr\": 18, \"May\": 11, \"Jun\": 14, \"Jul\": 18, \"Aug\": 12, \"Sep\": 19, \"Oct\": 6, \"Nov\": 17, \"Dec\": 6, \"TOTAL\": 153}, {\"Year\": 2001, \"Jan\": 6, \"Feb\": 10, \"Mar\": 17, \"Apr\": 25, \"May\": 16, \"Jun\": 12, \"Jul\": 14, \"Aug\": 17, \"Sep\": 18, \"Oct\": 19, \"Nov\": 15, \"Dec\": 14, \"TOTAL\": 183}, {\"Year\": 2002, \"Jan\": 9, \"Feb\": 14, \"Mar\": 17, \"Apr\": 22, \"May\": 31, \"Jun\": 11, \"Jul\": 18, \"Aug\": 15, \"Sep\": 16, \"Oct\": 11, \"Nov\": 9, \"Dec\": 8, \"TOTAL\": 181}, {\"Year\": 2003, \"Jan\": 7, \"Feb\": 17, \"Mar\": 23, \"Apr\": 48, \"May\": 21, \"Jun\": 15, \"Jul\": 14, \"Aug\": 25, \"Sep\": 28, \"Oct\": 36, \"Nov\": 19, \"Dec\": 9, \"TOTAL\": 262}, {\"Year\": 2004, \"Jan\": 16, \"Feb\": 20, \"Mar\": 18, \"Apr\": 63, \"May\": 26, \"Jun\": 18, \"Jul\": 25, \"Aug\": 24, \"Sep\": 23, \"Oct\": 20, \"Nov\": 13, \"Dec\": 15, \"TOTAL\": 281}, {\"Year\": 2005, \"Jan\": 21, \"Feb\": 29, \"Mar\": 29, \"Apr\": 29, \"May\": 18, \"Jun\": 21, \"Jul\": 27, \"Aug\": 36, \"Sep\": 19, \"Oct\": 11, \"Nov\": 12, \"Dec\": 20, \"TOTAL\": 272}, {\"Year\": 2006, \"Jan\": 13, \"Feb\": 14, \"Mar\": 25, \"Apr\": 35, \"May\": 23, \"Jun\": 18, \"Jul\": 28, \"Aug\": 28, \"Sep\": 25, \"Oct\": 26, \"Nov\": 19, \"Dec\": 13, \"TOTAL\": 267}, {\"Year\": 2007, \"Jan\": 9, \"Feb\": 18, \"Mar\": 28, \"Apr\": 32, \"May\": 24, \"Jun\": 24, \"Jul\": 26, \"Aug\": 29, \"Sep\": 22, \"Oct\": 31, \"Nov\": 29, \"Dec\": 27, \"TOTAL\": 299}, {\"Year\": 2008, \"Jan\": 16, \"Feb\": 29, \"Mar\": 28, \"Apr\": 18, \"May\": 25, \"Jun\": 29, \"Jul\": 15, \"Aug\": 18, \"Sep\": 18, \"Oct\": 18, \"Nov\": 9, \"Dec\": 14, \"TOTAL\": 237}, {\"Year\": 2009, \"Jan\": 11, \"Feb\": 16, \"Mar\": 27, \"Apr\": 18, \"May\": 13, \"Jun\": 19, \"Jul\": 15, \"Aug\": 20, \"Sep\": 19, \"Oct\": 36, \"Nov\": 15, \"Dec\": 23, \"TOTAL\": 232}, {\"Year\": 2010, \"Jan\": 14, \"Feb\": 18, \"Mar\": 37, \"Apr\": 44, \"May\": 23, \"Jun\": 16, \"Jul\": 32, \"Aug\": 29, \"Sep\": 33, \"Oct\": 25, \"Nov\": 18, \"Dec\": 16, \"TOTAL\": 305}, {\"Year\": 2011, \"Jan\": 29, \"Feb\": 29, \"Mar\": 27, \"Apr\": 29, \"May\": 28, \"Jun\": 14, \"Jul\": 15, \"Aug\": 42, \"Sep\": 37, \"Oct\": 41, \"Nov\": 23, \"Dec\": 21, \"TOTAL\": 335}, {\"Year\": 2012, \"Jan\": 38, \"Feb\": 37, \"Mar\": 33, \"Apr\": 27, \"May\": 29, \"Jun\": 35, \"Jul\": 34, \"Aug\": 30, \"Sep\": 30, \"Oct\": 32, \"Nov\": 14, \"Dec\": 29, \"TOTAL\": 368}, {\"Year\": 2013, \"Jan\": 22, \"Feb\": 31, \"Mar\": 43, \"Apr\": 26, \"May\": 22, \"Jun\": 19, \"Jul\": 31, \"Aug\": 25, \"Sep\": 46, \"Oct\": 27, \"Nov\": 27, \"Dec\": 21, \"TOTAL\": 340}, {\"Year\": 2014, \"Jan\": 28, \"Feb\": 26, \"Mar\": 39, \"Apr\": 28, \"May\": 24, \"Jun\": 22, \"Jul\": 33, \"Aug\": 41, \"Sep\": 55, \"Oct\": 42, \"Nov\": 24, \"Dec\": 24, \"TOTAL\": 386}, {\"Year\": 2015, \"Jan\": 21, \"Feb\": 21, \"Mar\": 27, \"Apr\": 31, \"May\": 34, \"Jun\": 22, \"Jul\": 46, \"Aug\": 43, \"Sep\": 50, \"Oct\": 33, \"Nov\": 28, \"Dec\": 27, \"TOTAL\": 383}, {\"Year\": 2016, \"Jan\": 19, \"Feb\": 40, \"Mar\": 48, \"Apr\": 43, \"May\": 57, \"Jun\": 42, \"Jul\": 63, \"Aug\": 54, \"Sep\": 27, \"Oct\": 42, \"Nov\": 16, \"Dec\": 23, \"TOTAL\": 474}, {\"Year\": 2017, \"Jan\": 34, \"Feb\": 43, \"Mar\": 52, \"Apr\": 46, \"May\": 58, \"Jun\": 41, \"Jul\": 46, \"Aug\": 48, \"Sep\": 33, \"Oct\": 21, \"Nov\": 26, \"Dec\": 19, \"TOTAL\": 467}]}}, {\"mode\": \"vega-lite\"});\n",
       "</script>"
      ],
      "text/plain": [
       "alt.Chart(...)"
      ]
     },
     "execution_count": 71,
     "metadata": {},
     "output_type": "execute_result"
    }
   ],
   "source": [
    "chart_title = 'Total number of stranded sea otters each year shows a growing trend from 1985-2017:\\n'\n",
    "alt.Chart(total_strand).mark_line(color='brown').encode(\n",
    "    x = 'Year',\n",
    "    y = alt.Y('TOTAL',title='Stranded sea otter count')\n",
    ").properties(\n",
    "    title=chart_title.split(':')\n",
    ").configure_axis(\n",
    "    grid=False,\n",
    "    labelFontSize=12,\n",
    "    titleFontSize=12\n",
    ").configure_legend(\n",
    "    labelFontSize=12,\n",
    "    titleFontSize=12\n",
    ").configure_title(\n",
    "    fontSize=13\n",
    ")"
   ]
  },
  {
   "cell_type": "markdown",
   "metadata": {
    "id": "OlKPYBqe75Ia"
   },
   "source": [
    "There is an increasing overall trend in total number of strandings per year over the past decades (1985-2017). Year 1985 has the lowest number of strandings of 72 cases and year 2016 has the highest number of strandings of 474 cases, which is a ~ 6.5 times difference. \n",
    "\n",
    "We previously showed that the population of sea otters is growing over time and the overall trend is very similar to the trend we see in census population analysis, with declines around year 2000 and year 2010. It seems reasonable that with more sea otters we see more stranded sea otters as well. Our analysis will be more complete if there is data avaliable about what are the causes of stranded sea otters, so as to provide more explanation for the growing trend and the declines."
   ]
  },
  {
   "cell_type": "markdown",
   "metadata": {
    "id": "G2jHtf0G75Ia"
   },
   "source": [
    "### Which months do we see the highest and lowest stranded sea otter counts?\n",
    "\n",
    "Next, we want to look at whether there is a correlation between month and stranded sea otter counts to identify the peak time of a year that may need more conservational effort. We calculated the average stranded sea otter counts in each month by taking average across the years. We hypothesized that there will be more stranded sea otters around June to August, as there may be more human activities near coastline, so both stranding caused by human activities and observations of stranded sea otters will increase."
   ]
  },
  {
   "cell_type": "code",
   "execution_count": 72,
   "metadata": {
    "id": "lauSpfUO75Ia",
    "outputId": "3ce09293-ab11-4af0-81b1-a1512c9cd25a"
   },
   "outputs": [
    {
     "data": {
      "text/html": [
       "<div>\n",
       "<style scoped>\n",
       "    .dataframe tbody tr th:only-of-type {\n",
       "        vertical-align: middle;\n",
       "    }\n",
       "\n",
       "    .dataframe tbody tr th {\n",
       "        vertical-align: top;\n",
       "    }\n",
       "\n",
       "    .dataframe thead th {\n",
       "        text-align: right;\n",
       "    }\n",
       "</style>\n",
       "<table border=\"1\" class=\"dataframe\">\n",
       "  <thead>\n",
       "    <tr style=\"text-align: right;\">\n",
       "      <th></th>\n",
       "      <th>Month</th>\n",
       "      <th>Average Count</th>\n",
       "    </tr>\n",
       "  </thead>\n",
       "  <tbody>\n",
       "    <tr>\n",
       "      <th>0</th>\n",
       "      <td>Jan</td>\n",
       "      <td>13.030303</td>\n",
       "    </tr>\n",
       "    <tr>\n",
       "      <th>1</th>\n",
       "      <td>Feb</td>\n",
       "      <td>17.121212</td>\n",
       "    </tr>\n",
       "    <tr>\n",
       "      <th>2</th>\n",
       "      <td>Mar</td>\n",
       "      <td>21.060606</td>\n",
       "    </tr>\n",
       "    <tr>\n",
       "      <th>3</th>\n",
       "      <td>Apr</td>\n",
       "      <td>23.212121</td>\n",
       "    </tr>\n",
       "    <tr>\n",
       "      <th>4</th>\n",
       "      <td>May</td>\n",
       "      <td>19.606061</td>\n",
       "    </tr>\n",
       "  </tbody>\n",
       "</table>\n",
       "</div>"
      ],
      "text/plain": [
       "  Month  Average Count\n",
       "0   Jan      13.030303\n",
       "1   Feb      17.121212\n",
       "2   Mar      21.060606\n",
       "3   Apr      23.212121\n",
       "4   May      19.606061"
      ]
     },
     "execution_count": 72,
     "metadata": {},
     "output_type": "execute_result"
    }
   ],
   "source": [
    "# Take average across the years\n",
    "avg_month = total_strand.mean().drop('Year TOTAL'.split()).reset_index().rename(columns={\"index\": \"Month\", 0: \"Average Count\"})\n",
    "avg_month.head()"
   ]
  },
  {
   "cell_type": "code",
   "execution_count": 73,
   "metadata": {
    "id": "Nnnn_FnN75Ib",
    "outputId": "4dd08794-d910-4070-f34a-eba9636e6726"
   },
   "outputs": [
    {
     "data": {
      "text/html": [
       "\n",
       "<div id=\"altair-viz-4d3ce9b949114e4abc67619e7d3d91c0\"></div>\n",
       "<script type=\"text/javascript\">\n",
       "  (function(spec, embedOpt){\n",
       "    let outputDiv = document.currentScript.previousElementSibling;\n",
       "    if (outputDiv.id !== \"altair-viz-4d3ce9b949114e4abc67619e7d3d91c0\") {\n",
       "      outputDiv = document.getElementById(\"altair-viz-4d3ce9b949114e4abc67619e7d3d91c0\");\n",
       "    }\n",
       "    const paths = {\n",
       "      \"vega\": \"https://cdn.jsdelivr.net/npm//vega@5?noext\",\n",
       "      \"vega-lib\": \"https://cdn.jsdelivr.net/npm//vega-lib?noext\",\n",
       "      \"vega-lite\": \"https://cdn.jsdelivr.net/npm//vega-lite@4.8.1?noext\",\n",
       "      \"vega-embed\": \"https://cdn.jsdelivr.net/npm//vega-embed@6?noext\",\n",
       "    };\n",
       "\n",
       "    function loadScript(lib) {\n",
       "      return new Promise(function(resolve, reject) {\n",
       "        var s = document.createElement('script');\n",
       "        s.src = paths[lib];\n",
       "        s.async = true;\n",
       "        s.onload = () => resolve(paths[lib]);\n",
       "        s.onerror = () => reject(`Error loading script: ${paths[lib]}`);\n",
       "        document.getElementsByTagName(\"head\")[0].appendChild(s);\n",
       "      });\n",
       "    }\n",
       "\n",
       "    function showError(err) {\n",
       "      outputDiv.innerHTML = `<div class=\"error\" style=\"color:red;\">${err}</div>`;\n",
       "      throw err;\n",
       "    }\n",
       "\n",
       "    function displayChart(vegaEmbed) {\n",
       "      vegaEmbed(outputDiv, spec, embedOpt)\n",
       "        .catch(err => showError(`Javascript Error: ${err.message}<br>This usually means there's a typo in your chart specification. See the javascript console for the full traceback.`));\n",
       "    }\n",
       "\n",
       "    if(typeof define === \"function\" && define.amd) {\n",
       "      requirejs.config({paths});\n",
       "      require([\"vega-embed\"], displayChart, err => showError(`Error loading script: ${err.message}`));\n",
       "    } else if (typeof vegaEmbed === \"function\") {\n",
       "      displayChart(vegaEmbed);\n",
       "    } else {\n",
       "      loadScript(\"vega\")\n",
       "        .then(() => loadScript(\"vega-lite\"))\n",
       "        .then(() => loadScript(\"vega-embed\"))\n",
       "        .catch(showError)\n",
       "        .then(() => displayChart(vegaEmbed));\n",
       "    }\n",
       "  })({\"config\": {\"view\": {\"continuousWidth\": 400, \"continuousHeight\": 300}, \"axis\": {\"grid\": false, \"labelFontSize\": 12, \"titleFontSize\": 12}, \"legend\": {\"labelFontSize\": 12, \"titleFontSize\": 12}, \"title\": {\"fontSize\": 13}}, \"data\": {\"name\": \"data-4d2e7e89750f11a091d0fbc4c0ec53c9\"}, \"mark\": {\"type\": \"bar\", \"color\": \"brown\", \"opacity\": 0.7}, \"encoding\": {\"x\": {\"type\": \"nominal\", \"field\": \"Month\", \"sort\": null}, \"y\": {\"type\": \"quantitative\", \"field\": \"Average Count\"}}, \"title\": [\"Average number of stranded sea otters is the highest in April and the lowest in January\", \"\\n\"], \"$schema\": \"https://vega.github.io/schema/vega-lite/v4.8.1.json\", \"datasets\": {\"data-4d2e7e89750f11a091d0fbc4c0ec53c9\": [{\"Month\": \"Jan\", \"Average Count\": 13.030303030303031}, {\"Month\": \"Feb\", \"Average Count\": 17.12121212121212}, {\"Month\": \"Mar\", \"Average Count\": 21.060606060606062}, {\"Month\": \"Apr\", \"Average Count\": 23.21212121212121}, {\"Month\": \"May\", \"Average Count\": 19.606060606060606}, {\"Month\": \"Jun\", \"Average Count\": 17.575757575757574}, {\"Month\": \"Jul\", \"Average Count\": 21.181818181818183}, {\"Month\": \"Aug\", \"Average Count\": 22.545454545454547}, {\"Month\": \"Sep\", \"Average Count\": 20.151515151515152}, {\"Month\": \"Oct\", \"Average Count\": 18.848484848484848}, {\"Month\": \"Nov\", \"Average Count\": 13.909090909090908}, {\"Month\": \"Dec\", \"Average Count\": 13.06060606060606}]}}, {\"mode\": \"vega-lite\"});\n",
       "</script>"
      ],
      "text/plain": [
       "alt.Chart(...)"
      ]
     },
     "execution_count": 73,
     "metadata": {},
     "output_type": "execute_result"
    }
   ],
   "source": [
    "chart_title = 'Average number of stranded sea otters is the highest in April and the lowest in January:\\n'\n",
    "alt.Chart(avg_month).mark_bar(color='brown', opacity=0.7).encode(\n",
    "    x=alt.X('Month', sort=None),\n",
    "    y='Average Count'\n",
    ").properties(\n",
    "    title=chart_title.split(':')\n",
    ").configure_axis(\n",
    "    grid=False,\n",
    "    labelFontSize=12,\n",
    "    titleFontSize=12\n",
    ").configure_legend(\n",
    "    labelFontSize=12,\n",
    "    titleFontSize=12\n",
    ").configure_title(\n",
    "    fontSize=13\n",
    ")"
   ]
  },
  {
   "cell_type": "markdown",
   "metadata": {
    "id": "gdbtM2Xn75Ib"
   },
   "source": [
    "On average, most stranded sea otters were observed in April, with 23.2 average counts, and fewest cases were observed in January, with 13 average counts. \n",
    "\n",
    "The bar graph also shows that more stranded sea otters were observed in months around April and August and that fewer cases were observed from November to January. Therefore, we then hypothesized that there might be a correlation between season and stranded sea otter counts and performed the next analysis."
   ]
  },
  {
   "cell_type": "markdown",
   "metadata": {
    "id": "l1yKawsd75Ib"
   },
   "source": [
    "### Is there a correlation between season and stranded sea otter counts?\n",
    "\n",
    "To test the hypothesis that we may see a seasonal trend in stranded sea otter counts, we grouped the months into seasons according to the fact that in the Northern hemisphere, Spring starts from March to May, summer is from June to August, autumn is from September to November, and winter is from December to Feburary. We expect to see more stranding cases in spring and summer, according to the result of the previous analysis."
   ]
  },
  {
   "cell_type": "code",
   "execution_count": 74,
   "metadata": {
    "id": "VyBNCSqP75Ib"
   },
   "outputs": [],
   "source": [
    "# Create season variables\n",
    "total_strand['Spring']= total_strand.Mar + total_strand.Apr + total_strand.May\n",
    "total_strand['Summer']= total_strand.Jun + total_strand.Jul + total_strand.Aug\n",
    "total_strand['Autumn']= total_strand.Sep + total_strand.Oct + total_strand.Nov\n",
    "total_strand['Winter']= total_strand.Dec + total_strand.Jan + total_strand.Feb"
   ]
  },
  {
   "cell_type": "code",
   "execution_count": 75,
   "metadata": {
    "id": "tgitGPK675Ib",
    "outputId": "8eb8852d-6a5d-4a2b-9914-2207a887ca54"
   },
   "outputs": [
    {
     "data": {
      "text/html": [
       "<div>\n",
       "<style scoped>\n",
       "    .dataframe tbody tr th:only-of-type {\n",
       "        vertical-align: middle;\n",
       "    }\n",
       "\n",
       "    .dataframe tbody tr th {\n",
       "        vertical-align: top;\n",
       "    }\n",
       "\n",
       "    .dataframe thead th {\n",
       "        text-align: right;\n",
       "    }\n",
       "</style>\n",
       "<table border=\"1\" class=\"dataframe\">\n",
       "  <thead>\n",
       "    <tr style=\"text-align: right;\">\n",
       "      <th></th>\n",
       "      <th>Year</th>\n",
       "      <th>Season</th>\n",
       "      <th>Count</th>\n",
       "    </tr>\n",
       "  </thead>\n",
       "  <tbody>\n",
       "    <tr>\n",
       "      <th>0</th>\n",
       "      <td>1985</td>\n",
       "      <td>Autumn</td>\n",
       "      <td>23</td>\n",
       "    </tr>\n",
       "    <tr>\n",
       "      <th>1</th>\n",
       "      <td>1985</td>\n",
       "      <td>Spring</td>\n",
       "      <td>10</td>\n",
       "    </tr>\n",
       "    <tr>\n",
       "      <th>2</th>\n",
       "      <td>1985</td>\n",
       "      <td>Summer</td>\n",
       "      <td>29</td>\n",
       "    </tr>\n",
       "    <tr>\n",
       "      <th>3</th>\n",
       "      <td>1985</td>\n",
       "      <td>Winter</td>\n",
       "      <td>10</td>\n",
       "    </tr>\n",
       "    <tr>\n",
       "      <th>4</th>\n",
       "      <td>1986</td>\n",
       "      <td>Autumn</td>\n",
       "      <td>19</td>\n",
       "    </tr>\n",
       "  </tbody>\n",
       "</table>\n",
       "</div>"
      ],
      "text/plain": [
       "   Year  Season  Count\n",
       "0  1985  Autumn     23\n",
       "1  1985  Spring     10\n",
       "2  1985  Summer     29\n",
       "3  1985  Winter     10\n",
       "4  1986  Autumn     19"
      ]
     },
     "execution_count": 75,
     "metadata": {},
     "output_type": "execute_result"
    }
   ],
   "source": [
    "seasonal_df = pd.melt(total_strand, id_vars = ['Year'], value_vars = \"Spring Summer Autumn Winter\".split(), var_name = 'Season', value_name = 'Count')\n",
    "seasonal_df = seasonal_df.groupby(by=['Year','Season']).sum().reset_index()\n",
    "seasonal_df.head()"
   ]
  },
  {
   "cell_type": "code",
   "execution_count": 76,
   "metadata": {
    "id": "6lSd57Da75Ic",
    "outputId": "060e9f66-84cc-4e1c-e93b-fedda37917f4"
   },
   "outputs": [
    {
     "data": {
      "text/html": [
       "\n",
       "<div id=\"altair-viz-0639b6f7b27c44388ff6c858df168526\"></div>\n",
       "<script type=\"text/javascript\">\n",
       "  (function(spec, embedOpt){\n",
       "    let outputDiv = document.currentScript.previousElementSibling;\n",
       "    if (outputDiv.id !== \"altair-viz-0639b6f7b27c44388ff6c858df168526\") {\n",
       "      outputDiv = document.getElementById(\"altair-viz-0639b6f7b27c44388ff6c858df168526\");\n",
       "    }\n",
       "    const paths = {\n",
       "      \"vega\": \"https://cdn.jsdelivr.net/npm//vega@5?noext\",\n",
       "      \"vega-lib\": \"https://cdn.jsdelivr.net/npm//vega-lib?noext\",\n",
       "      \"vega-lite\": \"https://cdn.jsdelivr.net/npm//vega-lite@4.8.1?noext\",\n",
       "      \"vega-embed\": \"https://cdn.jsdelivr.net/npm//vega-embed@6?noext\",\n",
       "    };\n",
       "\n",
       "    function loadScript(lib) {\n",
       "      return new Promise(function(resolve, reject) {\n",
       "        var s = document.createElement('script');\n",
       "        s.src = paths[lib];\n",
       "        s.async = true;\n",
       "        s.onload = () => resolve(paths[lib]);\n",
       "        s.onerror = () => reject(`Error loading script: ${paths[lib]}`);\n",
       "        document.getElementsByTagName(\"head\")[0].appendChild(s);\n",
       "      });\n",
       "    }\n",
       "\n",
       "    function showError(err) {\n",
       "      outputDiv.innerHTML = `<div class=\"error\" style=\"color:red;\">${err}</div>`;\n",
       "      throw err;\n",
       "    }\n",
       "\n",
       "    function displayChart(vegaEmbed) {\n",
       "      vegaEmbed(outputDiv, spec, embedOpt)\n",
       "        .catch(err => showError(`Javascript Error: ${err.message}<br>This usually means there's a typo in your chart specification. See the javascript console for the full traceback.`));\n",
       "    }\n",
       "\n",
       "    if(typeof define === \"function\" && define.amd) {\n",
       "      requirejs.config({paths});\n",
       "      require([\"vega-embed\"], displayChart, err => showError(`Error loading script: ${err.message}`));\n",
       "    } else if (typeof vegaEmbed === \"function\") {\n",
       "      displayChart(vegaEmbed);\n",
       "    } else {\n",
       "      loadScript(\"vega\")\n",
       "        .then(() => loadScript(\"vega-lite\"))\n",
       "        .then(() => loadScript(\"vega-embed\"))\n",
       "        .catch(showError)\n",
       "        .then(() => displayChart(vegaEmbed));\n",
       "    }\n",
       "  })({\"config\": {\"view\": {\"continuousWidth\": 400, \"continuousHeight\": 300}, \"axis\": {\"grid\": false, \"labelFontSize\": 12, \"titleFontSize\": 12}, \"legend\": {\"labelFontSize\": 12, \"titleFontSize\": 12}, \"title\": {\"fontSize\": 13}}, \"data\": {\"name\": \"data-591a1c759865f47f2c675d691f52103f\"}, \"mark\": \"line\", \"encoding\": {\"color\": {\"type\": \"nominal\", \"field\": \"Season\", \"scale\": {\"scheme\": \"set2\"}, \"sort\": [\"Spring\", \"Summer\", \"Autumn\", \"Winter\"]}, \"x\": {\"type\": \"quantitative\", \"field\": \"Year\"}, \"y\": {\"type\": \"quantitative\", \"field\": \"Count\"}}, \"title\": [\"Stranded sea otter counts shows a growing trend in each season\", \" with generally more cases observed in spring and summer\", \"\\n\"], \"$schema\": \"https://vega.github.io/schema/vega-lite/v4.8.1.json\", \"datasets\": {\"data-591a1c759865f47f2c675d691f52103f\": [{\"Year\": 1985, \"Season\": \"Autumn\", \"Count\": 23}, {\"Year\": 1985, \"Season\": \"Spring\", \"Count\": 10}, {\"Year\": 1985, \"Season\": \"Summer\", \"Count\": 29}, {\"Year\": 1985, \"Season\": \"Winter\", \"Count\": 10}, {\"Year\": 1986, \"Season\": \"Autumn\", \"Count\": 19}, {\"Year\": 1986, \"Season\": \"Spring\", \"Count\": 18}, {\"Year\": 1986, \"Season\": \"Summer\", \"Count\": 27}, {\"Year\": 1986, \"Season\": \"Winter\", \"Count\": 17}, {\"Year\": 1987, \"Season\": \"Autumn\", \"Count\": 22}, {\"Year\": 1987, \"Season\": \"Spring\", \"Count\": 19}, {\"Year\": 1987, \"Season\": \"Summer\", \"Count\": 34}, {\"Year\": 1987, \"Season\": \"Winter\", \"Count\": 19}, {\"Year\": 1988, \"Season\": \"Autumn\", \"Count\": 21}, {\"Year\": 1988, \"Season\": \"Spring\", \"Count\": 24}, {\"Year\": 1988, \"Season\": \"Summer\", \"Count\": 27}, {\"Year\": 1988, \"Season\": \"Winter\", \"Count\": 16}, {\"Year\": 1989, \"Season\": \"Autumn\", \"Count\": 28}, {\"Year\": 1989, \"Season\": \"Spring\", \"Count\": 26}, {\"Year\": 1989, \"Season\": \"Summer\", \"Count\": 24}, {\"Year\": 1989, \"Season\": \"Winter\", \"Count\": 10}, {\"Year\": 1990, \"Season\": \"Autumn\", \"Count\": 19}, {\"Year\": 1990, \"Season\": \"Spring\", \"Count\": 25}, {\"Year\": 1990, \"Season\": \"Summer\", \"Count\": 29}, {\"Year\": 1990, \"Season\": \"Winter\", \"Count\": 30}, {\"Year\": 1991, \"Season\": \"Autumn\", \"Count\": 16}, {\"Year\": 1991, \"Season\": \"Spring\", \"Count\": 24}, {\"Year\": 1991, \"Season\": \"Summer\", \"Count\": 26}, {\"Year\": 1991, \"Season\": \"Winter\", \"Count\": 15}, {\"Year\": 1992, \"Season\": \"Autumn\", \"Count\": 27}, {\"Year\": 1992, \"Season\": \"Spring\", \"Count\": 19}, {\"Year\": 1992, \"Season\": \"Summer\", \"Count\": 48}, {\"Year\": 1992, \"Season\": \"Winter\", \"Count\": 19}, {\"Year\": 1993, \"Season\": \"Autumn\", \"Count\": 32}, {\"Year\": 1993, \"Season\": \"Spring\", \"Count\": 37}, {\"Year\": 1993, \"Season\": \"Summer\", \"Count\": 31}, {\"Year\": 1993, \"Season\": \"Winter\", \"Count\": 28}, {\"Year\": 1994, \"Season\": \"Autumn\", \"Count\": 24}, {\"Year\": 1994, \"Season\": \"Spring\", \"Count\": 43}, {\"Year\": 1994, \"Season\": \"Summer\", \"Count\": 34}, {\"Year\": 1994, \"Season\": \"Winter\", \"Count\": 32}, {\"Year\": 1995, \"Season\": \"Autumn\", \"Count\": 34}, {\"Year\": 1995, \"Season\": \"Spring\", \"Count\": 42}, {\"Year\": 1995, \"Season\": \"Summer\", \"Count\": 58}, {\"Year\": 1995, \"Season\": \"Winter\", \"Count\": 29}, {\"Year\": 1996, \"Season\": \"Autumn\", \"Count\": 37}, {\"Year\": 1996, \"Season\": \"Spring\", \"Count\": 49}, {\"Year\": 1996, \"Season\": \"Summer\", \"Count\": 69}, {\"Year\": 1996, \"Season\": \"Winter\", \"Count\": 27}, {\"Year\": 1997, \"Season\": \"Autumn\", \"Count\": 33}, {\"Year\": 1997, \"Season\": \"Spring\", \"Count\": 44}, {\"Year\": 1997, \"Season\": \"Summer\", \"Count\": 42}, {\"Year\": 1997, \"Season\": \"Winter\", \"Count\": 33}, {\"Year\": 1998, \"Season\": \"Autumn\", \"Count\": 36}, {\"Year\": 1998, \"Season\": \"Spring\", \"Count\": 76}, {\"Year\": 1998, \"Season\": \"Summer\", \"Count\": 63}, {\"Year\": 1998, \"Season\": \"Winter\", \"Count\": 38}, {\"Year\": 1999, \"Season\": \"Autumn\", \"Count\": 47}, {\"Year\": 1999, \"Season\": \"Spring\", \"Count\": 51}, {\"Year\": 1999, \"Season\": \"Summer\", \"Count\": 54}, {\"Year\": 1999, \"Season\": \"Winter\", \"Count\": 35}, {\"Year\": 2000, \"Season\": \"Autumn\", \"Count\": 42}, {\"Year\": 2000, \"Season\": \"Spring\", \"Count\": 47}, {\"Year\": 2000, \"Season\": \"Summer\", \"Count\": 44}, {\"Year\": 2000, \"Season\": \"Winter\", \"Count\": 20}, {\"Year\": 2001, \"Season\": \"Autumn\", \"Count\": 52}, {\"Year\": 2001, \"Season\": \"Spring\", \"Count\": 58}, {\"Year\": 2001, \"Season\": \"Summer\", \"Count\": 43}, {\"Year\": 2001, \"Season\": \"Winter\", \"Count\": 30}, {\"Year\": 2002, \"Season\": \"Autumn\", \"Count\": 36}, {\"Year\": 2002, \"Season\": \"Spring\", \"Count\": 70}, {\"Year\": 2002, \"Season\": \"Summer\", \"Count\": 44}, {\"Year\": 2002, \"Season\": \"Winter\", \"Count\": 31}, {\"Year\": 2003, \"Season\": \"Autumn\", \"Count\": 83}, {\"Year\": 2003, \"Season\": \"Spring\", \"Count\": 92}, {\"Year\": 2003, \"Season\": \"Summer\", \"Count\": 54}, {\"Year\": 2003, \"Season\": \"Winter\", \"Count\": 33}, {\"Year\": 2004, \"Season\": \"Autumn\", \"Count\": 56}, {\"Year\": 2004, \"Season\": \"Spring\", \"Count\": 107}, {\"Year\": 2004, \"Season\": \"Summer\", \"Count\": 67}, {\"Year\": 2004, \"Season\": \"Winter\", \"Count\": 51}, {\"Year\": 2005, \"Season\": \"Autumn\", \"Count\": 42}, {\"Year\": 2005, \"Season\": \"Spring\", \"Count\": 76}, {\"Year\": 2005, \"Season\": \"Summer\", \"Count\": 84}, {\"Year\": 2005, \"Season\": \"Winter\", \"Count\": 70}, {\"Year\": 2006, \"Season\": \"Autumn\", \"Count\": 70}, {\"Year\": 2006, \"Season\": \"Spring\", \"Count\": 83}, {\"Year\": 2006, \"Season\": \"Summer\", \"Count\": 74}, {\"Year\": 2006, \"Season\": \"Winter\", \"Count\": 40}, {\"Year\": 2007, \"Season\": \"Autumn\", \"Count\": 82}, {\"Year\": 2007, \"Season\": \"Spring\", \"Count\": 84}, {\"Year\": 2007, \"Season\": \"Summer\", \"Count\": 79}, {\"Year\": 2007, \"Season\": \"Winter\", \"Count\": 54}, {\"Year\": 2008, \"Season\": \"Autumn\", \"Count\": 45}, {\"Year\": 2008, \"Season\": \"Spring\", \"Count\": 71}, {\"Year\": 2008, \"Season\": \"Summer\", \"Count\": 62}, {\"Year\": 2008, \"Season\": \"Winter\", \"Count\": 59}, {\"Year\": 2009, \"Season\": \"Autumn\", \"Count\": 70}, {\"Year\": 2009, \"Season\": \"Spring\", \"Count\": 58}, {\"Year\": 2009, \"Season\": \"Summer\", \"Count\": 54}, {\"Year\": 2009, \"Season\": \"Winter\", \"Count\": 50}, {\"Year\": 2010, \"Season\": \"Autumn\", \"Count\": 76}, {\"Year\": 2010, \"Season\": \"Spring\", \"Count\": 104}, {\"Year\": 2010, \"Season\": \"Summer\", \"Count\": 77}, {\"Year\": 2010, \"Season\": \"Winter\", \"Count\": 48}, {\"Year\": 2011, \"Season\": \"Autumn\", \"Count\": 101}, {\"Year\": 2011, \"Season\": \"Spring\", \"Count\": 84}, {\"Year\": 2011, \"Season\": \"Summer\", \"Count\": 71}, {\"Year\": 2011, \"Season\": \"Winter\", \"Count\": 79}, {\"Year\": 2012, \"Season\": \"Autumn\", \"Count\": 76}, {\"Year\": 2012, \"Season\": \"Spring\", \"Count\": 89}, {\"Year\": 2012, \"Season\": \"Summer\", \"Count\": 99}, {\"Year\": 2012, \"Season\": \"Winter\", \"Count\": 104}, {\"Year\": 2013, \"Season\": \"Autumn\", \"Count\": 100}, {\"Year\": 2013, \"Season\": \"Spring\", \"Count\": 91}, {\"Year\": 2013, \"Season\": \"Summer\", \"Count\": 75}, {\"Year\": 2013, \"Season\": \"Winter\", \"Count\": 74}, {\"Year\": 2014, \"Season\": \"Autumn\", \"Count\": 121}, {\"Year\": 2014, \"Season\": \"Spring\", \"Count\": 91}, {\"Year\": 2014, \"Season\": \"Summer\", \"Count\": 96}, {\"Year\": 2014, \"Season\": \"Winter\", \"Count\": 78}, {\"Year\": 2015, \"Season\": \"Autumn\", \"Count\": 111}, {\"Year\": 2015, \"Season\": \"Spring\", \"Count\": 92}, {\"Year\": 2015, \"Season\": \"Summer\", \"Count\": 111}, {\"Year\": 2015, \"Season\": \"Winter\", \"Count\": 69}, {\"Year\": 2016, \"Season\": \"Autumn\", \"Count\": 85}, {\"Year\": 2016, \"Season\": \"Spring\", \"Count\": 148}, {\"Year\": 2016, \"Season\": \"Summer\", \"Count\": 159}, {\"Year\": 2016, \"Season\": \"Winter\", \"Count\": 82}, {\"Year\": 2017, \"Season\": \"Autumn\", \"Count\": 80}, {\"Year\": 2017, \"Season\": \"Spring\", \"Count\": 156}, {\"Year\": 2017, \"Season\": \"Summer\", \"Count\": 135}, {\"Year\": 2017, \"Season\": \"Winter\", \"Count\": 96}]}}, {\"mode\": \"vega-lite\"});\n",
       "</script>"
      ],
      "text/plain": [
       "alt.Chart(...)"
      ]
     },
     "execution_count": 76,
     "metadata": {},
     "output_type": "execute_result"
    }
   ],
   "source": [
    "chart_title = 'Stranded sea otter counts shows a growing trend in each season: with generally more cases observed in spring and summer:\\n'\n",
    "alt.Chart(seasonal_df).mark_line().encode(\n",
    "    x='Year',\n",
    "    y='Count',\n",
    "    color = alt.Color('Season', sort=['Spring','Summer','Autumn','Winter'], scale=alt.Scale(scheme='set2'))\n",
    ").properties(\n",
    "    title=chart_title.split(':')\n",
    ").configure_axis(\n",
    "    grid=False,\n",
    "    labelFontSize=12,\n",
    "    titleFontSize=12\n",
    ").configure_legend(\n",
    "    labelFontSize=12,\n",
    "    titleFontSize=12\n",
    ").configure_title(\n",
    "    fontSize=13\n",
    ")"
   ]
  },
  {
   "cell_type": "markdown",
   "metadata": {
    "id": "syXtlws675Ic"
   },
   "source": [
    "In each season, there is a growing trend in total stranded sea otter counts over the years 1985-2017. In general, spring and summer (roughly the first half of the year) have higher stranded sea otter counts than autumn and winter (the second half of the year) as we expected. Especially after 2015, the stranded counts in spring and summer is a lot higher than that in autumn and winter, while smaller differences between the first and the second half were seen in the past. Again, additional data on the causes of stranding may provide more insight into this phenomenon."
   ]
  },
  {
   "cell_type": "markdown",
   "metadata": {
    "id": "RDfIeaJL75Id"
   },
   "source": [
    "### Which seasons have the highest and the lowest stranded sea otter count on average?\n",
    "\n",
    "To further validate the observation that there are generally more stranded sea otters in spring and summer compared to autumn and winter, we calculated the average stranded sea otter counts in each season, by taking average across the years."
   ]
  },
  {
   "cell_type": "code",
   "execution_count": 77,
   "metadata": {
    "id": "_LCOx6fU75Id",
    "outputId": "65869fdd-3634-4111-b124-7e0cc7b58eb0"
   },
   "outputs": [
    {
     "data": {
      "text/html": [
       "<div>\n",
       "<style scoped>\n",
       "    .dataframe tbody tr th:only-of-type {\n",
       "        vertical-align: middle;\n",
       "    }\n",
       "\n",
       "    .dataframe tbody tr th {\n",
       "        vertical-align: top;\n",
       "    }\n",
       "\n",
       "    .dataframe thead th {\n",
       "        text-align: right;\n",
       "    }\n",
       "</style>\n",
       "<table border=\"1\" class=\"dataframe\">\n",
       "  <thead>\n",
       "    <tr style=\"text-align: right;\">\n",
       "      <th></th>\n",
       "      <th>Season</th>\n",
       "      <th>Average Count</th>\n",
       "    </tr>\n",
       "  </thead>\n",
       "  <tbody>\n",
       "    <tr>\n",
       "      <th>0</th>\n",
       "      <td>Spring</td>\n",
       "      <td>63.878788</td>\n",
       "    </tr>\n",
       "    <tr>\n",
       "      <th>1</th>\n",
       "      <td>Summer</td>\n",
       "      <td>61.303030</td>\n",
       "    </tr>\n",
       "    <tr>\n",
       "      <th>2</th>\n",
       "      <td>Autumn</td>\n",
       "      <td>52.909091</td>\n",
       "    </tr>\n",
       "    <tr>\n",
       "      <th>3</th>\n",
       "      <td>Winter</td>\n",
       "      <td>43.212121</td>\n",
       "    </tr>\n",
       "  </tbody>\n",
       "</table>\n",
       "</div>"
      ],
      "text/plain": [
       "   Season  Average Count\n",
       "0  Spring      63.878788\n",
       "1  Summer      61.303030\n",
       "2  Autumn      52.909091\n",
       "3  Winter      43.212121"
      ]
     },
     "execution_count": 77,
     "metadata": {},
     "output_type": "execute_result"
    }
   ],
   "source": [
    "# Take average across the years\n",
    "avg_season = total_strand.mean()['Spring Summer Autumn Winter'.split()].reset_index().rename(columns={\"index\": \"Season\", 0: \"Average Count\"})\n",
    "avg_season"
   ]
  },
  {
   "cell_type": "code",
   "execution_count": 78,
   "metadata": {
    "id": "lH3-1evt75Id",
    "outputId": "d3ab74f6-c783-4617-b7b7-e414c327ff30"
   },
   "outputs": [
    {
     "data": {
      "text/html": [
       "\n",
       "<div id=\"altair-viz-30afe2919cec479088bc14871a148c81\"></div>\n",
       "<script type=\"text/javascript\">\n",
       "  (function(spec, embedOpt){\n",
       "    let outputDiv = document.currentScript.previousElementSibling;\n",
       "    if (outputDiv.id !== \"altair-viz-30afe2919cec479088bc14871a148c81\") {\n",
       "      outputDiv = document.getElementById(\"altair-viz-30afe2919cec479088bc14871a148c81\");\n",
       "    }\n",
       "    const paths = {\n",
       "      \"vega\": \"https://cdn.jsdelivr.net/npm//vega@5?noext\",\n",
       "      \"vega-lib\": \"https://cdn.jsdelivr.net/npm//vega-lib?noext\",\n",
       "      \"vega-lite\": \"https://cdn.jsdelivr.net/npm//vega-lite@4.8.1?noext\",\n",
       "      \"vega-embed\": \"https://cdn.jsdelivr.net/npm//vega-embed@6?noext\",\n",
       "    };\n",
       "\n",
       "    function loadScript(lib) {\n",
       "      return new Promise(function(resolve, reject) {\n",
       "        var s = document.createElement('script');\n",
       "        s.src = paths[lib];\n",
       "        s.async = true;\n",
       "        s.onload = () => resolve(paths[lib]);\n",
       "        s.onerror = () => reject(`Error loading script: ${paths[lib]}`);\n",
       "        document.getElementsByTagName(\"head\")[0].appendChild(s);\n",
       "      });\n",
       "    }\n",
       "\n",
       "    function showError(err) {\n",
       "      outputDiv.innerHTML = `<div class=\"error\" style=\"color:red;\">${err}</div>`;\n",
       "      throw err;\n",
       "    }\n",
       "\n",
       "    function displayChart(vegaEmbed) {\n",
       "      vegaEmbed(outputDiv, spec, embedOpt)\n",
       "        .catch(err => showError(`Javascript Error: ${err.message}<br>This usually means there's a typo in your chart specification. See the javascript console for the full traceback.`));\n",
       "    }\n",
       "\n",
       "    if(typeof define === \"function\" && define.amd) {\n",
       "      requirejs.config({paths});\n",
       "      require([\"vega-embed\"], displayChart, err => showError(`Error loading script: ${err.message}`));\n",
       "    } else if (typeof vegaEmbed === \"function\") {\n",
       "      displayChart(vegaEmbed);\n",
       "    } else {\n",
       "      loadScript(\"vega\")\n",
       "        .then(() => loadScript(\"vega-lite\"))\n",
       "        .then(() => loadScript(\"vega-embed\"))\n",
       "        .catch(showError)\n",
       "        .then(() => displayChart(vegaEmbed));\n",
       "    }\n",
       "  })({\"config\": {\"view\": {\"continuousWidth\": 400, \"continuousHeight\": 300}, \"axis\": {\"grid\": false, \"labelFontSize\": 12, \"titleFontSize\": 12}, \"legend\": {\"labelFontSize\": 12, \"titleFontSize\": 12}, \"title\": {\"fontSize\": 13}}, \"data\": {\"name\": \"data-403926f5530688f54a9973755fe597ca\"}, \"mark\": {\"type\": \"bar\", \"color\": \"brown\", \"opacity\": 0.7}, \"encoding\": {\"x\": {\"type\": \"nominal\", \"field\": \"Season\", \"sort\": null}, \"y\": {\"type\": \"quantitative\", \"field\": \"Average Count\"}}, \"title\": [\"Average count of stranded sea otters decreases from Spring to Winter\", \"\\n\"], \"$schema\": \"https://vega.github.io/schema/vega-lite/v4.8.1.json\", \"datasets\": {\"data-403926f5530688f54a9973755fe597ca\": [{\"Season\": \"Spring\", \"Average Count\": 63.878787878787875}, {\"Season\": \"Summer\", \"Average Count\": 61.303030303030305}, {\"Season\": \"Autumn\", \"Average Count\": 52.90909090909091}, {\"Season\": \"Winter\", \"Average Count\": 43.21212121212121}]}}, {\"mode\": \"vega-lite\"});\n",
       "</script>"
      ],
      "text/plain": [
       "alt.Chart(...)"
      ]
     },
     "execution_count": 78,
     "metadata": {},
     "output_type": "execute_result"
    }
   ],
   "source": [
    "chart_title = 'Average count of stranded sea otters decreases from Spring to Winter:\\n'\n",
    "alt.Chart(avg_season).mark_bar(color='brown', opacity=0.7).encode(\n",
    "    x=alt.X('Season', sort=None),\n",
    "    y='Average Count'\n",
    ").properties(\n",
    "    title=chart_title.split(':')\n",
    ").configure_axis(\n",
    "    grid=False,\n",
    "    labelFontSize=12,\n",
    "    titleFontSize=12\n",
    ").configure_legend(\n",
    "    labelFontSize=12,\n",
    "    titleFontSize=12\n",
    ").configure_title(\n",
    "    fontSize=13\n",
    ")"
   ]
  },
  {
   "cell_type": "markdown",
   "metadata": {
    "id": "PJ-HuN8q75Id"
   },
   "source": [
    "By averaging over the years, we clearly see that the average stranded counts decreases from spring, summer, autumn, to winter, with 63.9 average stranded counts in spring and 43.2 average counts in winter. These results may suggest that more conservational efforts are required in spring and summer, compared to autumn and winter. Our hypothesis is that spring and summer tend to have more human activities, which causes more stranded cases. Unfortunately, we do not have available data to further test our hypothesis. \n",
    "\n",
    "Interestingly, the report *Patterns of mortality in southern sea otters (Enhydra Lutris Nereis) from 1998-2001* [[1]](#References) mentioned that otters infected by protozoan known as *S. neurona* are stranded only in spring months. Moreover, spring is the season when opossums, the host of *S. neurona*, were more likely to shed parasitic sporocysts. There are also maximal seasonal runoff in spring that leads to increased exposure of land-based pathogens to sea otters, causing disease and infection in sea otters. These may be some reasons why we see more stranded sea otters in spring. If this is the case, more convervation efforts are needed to control the source of these protozoans, especially in spring. "
   ]
  },
  {
   "cell_type": "markdown",
   "metadata": {
    "id": "m18TbA6c75Ie"
   },
   "source": [
    "### How does season affect different age classes of sea otters?\n",
    "\n",
    "Though we know that there are more stranded sea otters in spring and summer, we are not sure whether season has the same effect on all sea otters or a different effect on different age classes. Therefore, we want to explore deeper and look at the age class composition within each season, to see if there are particular age classes that are more susceptible to stranding in different seasons. Our hypothesis is that we will see different age classes affected differently by season, because different age classes may exhibit different lifestyle and behaviors. For example, old adults may be more susceptible to stranding in winter as there are less food resource and it may be hard for them sustain themselves, while adults may be more susceptible to stranding in summer as they are more active in summer and get more injuries by boat strikes. \n",
    "\n",
    "The age classes of sea otters are defined as follows according to website resource [[3]](#References) and report [[1]](#References) :\n",
    "```\n",
    "- Pup: < 6 months \n",
    "- Immature: 6month - 1 year\n",
    "- Subadult: 1-3 years\n",
    "- Adult: 4-9 years\n",
    "- Old adults: >= 10 years\n",
    "```"
   ]
  },
  {
   "cell_type": "code",
   "execution_count": 79,
   "metadata": {
    "id": "2C5EgwNT75Ie",
    "outputId": "440a02fd-94fa-4903-f815-666bcebf1081"
   },
   "outputs": [
    {
     "data": {
      "text/html": [
       "<div>\n",
       "<style scoped>\n",
       "    .dataframe tbody tr th:only-of-type {\n",
       "        vertical-align: middle;\n",
       "    }\n",
       "\n",
       "    .dataframe tbody tr th {\n",
       "        vertical-align: top;\n",
       "    }\n",
       "\n",
       "    .dataframe thead th {\n",
       "        text-align: right;\n",
       "    }\n",
       "</style>\n",
       "<table border=\"1\" class=\"dataframe\">\n",
       "  <thead>\n",
       "    <tr style=\"text-align: right;\">\n",
       "      <th></th>\n",
       "      <th>Year</th>\n",
       "      <th>Age_Class</th>\n",
       "      <th>Jan</th>\n",
       "      <th>Feb</th>\n",
       "      <th>Mar</th>\n",
       "      <th>Apr</th>\n",
       "      <th>May</th>\n",
       "      <th>Jun</th>\n",
       "      <th>Jul</th>\n",
       "      <th>Aug</th>\n",
       "      <th>Sep</th>\n",
       "      <th>Oct</th>\n",
       "      <th>Nov</th>\n",
       "      <th>Dec</th>\n",
       "      <th>TOTAL</th>\n",
       "      <th>Spring</th>\n",
       "      <th>Summer</th>\n",
       "      <th>Autumn</th>\n",
       "      <th>Winter</th>\n",
       "    </tr>\n",
       "  </thead>\n",
       "  <tbody>\n",
       "    <tr>\n",
       "      <th>0</th>\n",
       "      <td>1985</td>\n",
       "      <td>Unknown</td>\n",
       "      <td>0</td>\n",
       "      <td>0</td>\n",
       "      <td>0</td>\n",
       "      <td>0</td>\n",
       "      <td>0</td>\n",
       "      <td>0</td>\n",
       "      <td>5</td>\n",
       "      <td>2</td>\n",
       "      <td>0</td>\n",
       "      <td>0</td>\n",
       "      <td>0</td>\n",
       "      <td>0</td>\n",
       "      <td>7</td>\n",
       "      <td>0</td>\n",
       "      <td>7</td>\n",
       "      <td>0</td>\n",
       "      <td>0</td>\n",
       "    </tr>\n",
       "    <tr>\n",
       "      <th>1</th>\n",
       "      <td>1985</td>\n",
       "      <td>Pup</td>\n",
       "      <td>0</td>\n",
       "      <td>0</td>\n",
       "      <td>1</td>\n",
       "      <td>0</td>\n",
       "      <td>0</td>\n",
       "      <td>0</td>\n",
       "      <td>1</td>\n",
       "      <td>0</td>\n",
       "      <td>0</td>\n",
       "      <td>1</td>\n",
       "      <td>3</td>\n",
       "      <td>1</td>\n",
       "      <td>7</td>\n",
       "      <td>1</td>\n",
       "      <td>1</td>\n",
       "      <td>4</td>\n",
       "      <td>1</td>\n",
       "    </tr>\n",
       "    <tr>\n",
       "      <th>2</th>\n",
       "      <td>1985</td>\n",
       "      <td>Immature</td>\n",
       "      <td>0</td>\n",
       "      <td>0</td>\n",
       "      <td>0</td>\n",
       "      <td>1</td>\n",
       "      <td>0</td>\n",
       "      <td>0</td>\n",
       "      <td>1</td>\n",
       "      <td>2</td>\n",
       "      <td>2</td>\n",
       "      <td>0</td>\n",
       "      <td>0</td>\n",
       "      <td>1</td>\n",
       "      <td>7</td>\n",
       "      <td>1</td>\n",
       "      <td>3</td>\n",
       "      <td>2</td>\n",
       "      <td>1</td>\n",
       "    </tr>\n",
       "    <tr>\n",
       "      <th>3</th>\n",
       "      <td>1985</td>\n",
       "      <td>Subadult</td>\n",
       "      <td>2</td>\n",
       "      <td>0</td>\n",
       "      <td>0</td>\n",
       "      <td>1</td>\n",
       "      <td>1</td>\n",
       "      <td>0</td>\n",
       "      <td>1</td>\n",
       "      <td>2</td>\n",
       "      <td>1</td>\n",
       "      <td>2</td>\n",
       "      <td>0</td>\n",
       "      <td>1</td>\n",
       "      <td>11</td>\n",
       "      <td>2</td>\n",
       "      <td>3</td>\n",
       "      <td>3</td>\n",
       "      <td>3</td>\n",
       "    </tr>\n",
       "    <tr>\n",
       "      <th>4</th>\n",
       "      <td>1985</td>\n",
       "      <td>Adult</td>\n",
       "      <td>0</td>\n",
       "      <td>2</td>\n",
       "      <td>1</td>\n",
       "      <td>1</td>\n",
       "      <td>1</td>\n",
       "      <td>7</td>\n",
       "      <td>4</td>\n",
       "      <td>3</td>\n",
       "      <td>5</td>\n",
       "      <td>3</td>\n",
       "      <td>1</td>\n",
       "      <td>0</td>\n",
       "      <td>28</td>\n",
       "      <td>3</td>\n",
       "      <td>14</td>\n",
       "      <td>9</td>\n",
       "      <td>2</td>\n",
       "    </tr>\n",
       "  </tbody>\n",
       "</table>\n",
       "</div>"
      ],
      "text/plain": [
       "   Year Age_Class  Jan  Feb  Mar  Apr  May  Jun  Jul  Aug  Sep  Oct  Nov  Dec  \\\n",
       "0  1985   Unknown    0    0    0    0    0    0    5    2    0    0    0    0   \n",
       "1  1985       Pup    0    0    1    0    0    0    1    0    0    1    3    1   \n",
       "2  1985  Immature    0    0    0    1    0    0    1    2    2    0    0    1   \n",
       "3  1985  Subadult    2    0    0    1    1    0    1    2    1    2    0    1   \n",
       "4  1985     Adult    0    2    1    1    1    7    4    3    5    3    1    0   \n",
       "\n",
       "   TOTAL  Spring  Summer  Autumn  Winter  \n",
       "0      7       0       7       0       0  \n",
       "1      7       1       1       4       1  \n",
       "2      7       1       3       2       1  \n",
       "3     11       2       3       3       3  \n",
       "4     28       3      14       9       2  "
      ]
     },
     "execution_count": 79,
     "metadata": {},
     "output_type": "execute_result"
    }
   ],
   "source": [
    "# Create season variable\n",
    "strand_df['Spring']= strand_df.Mar + strand_df.Apr + strand_df.May\n",
    "strand_df['Summer']= strand_df.Jun + strand_df.Jul + strand_df.Aug\n",
    "strand_df['Autumn']= strand_df.Sep + strand_df.Oct + strand_df.Nov\n",
    "strand_df['Winter']= strand_df.Dec + strand_df.Jan + strand_df.Feb\n",
    "strand_df.head()"
   ]
  },
  {
   "cell_type": "code",
   "execution_count": 80,
   "metadata": {
    "id": "6hJc_vSE75Ie",
    "outputId": "f8b8abc8-cf54-47ce-9d51-51de3553e57c"
   },
   "outputs": [
    {
     "data": {
      "text/html": [
       "<div>\n",
       "<style scoped>\n",
       "    .dataframe tbody tr th:only-of-type {\n",
       "        vertical-align: middle;\n",
       "    }\n",
       "\n",
       "    .dataframe tbody tr th {\n",
       "        vertical-align: top;\n",
       "    }\n",
       "\n",
       "    .dataframe thead th {\n",
       "        text-align: right;\n",
       "    }\n",
       "</style>\n",
       "<table border=\"1\" class=\"dataframe\">\n",
       "  <thead>\n",
       "    <tr style=\"text-align: right;\">\n",
       "      <th></th>\n",
       "      <th>Season</th>\n",
       "      <th>Age_Class</th>\n",
       "      <th>Count</th>\n",
       "    </tr>\n",
       "  </thead>\n",
       "  <tbody>\n",
       "    <tr>\n",
       "      <th>0</th>\n",
       "      <td>Autumn</td>\n",
       "      <td>Adult</td>\n",
       "      <td>853</td>\n",
       "    </tr>\n",
       "    <tr>\n",
       "      <th>1</th>\n",
       "      <td>Autumn</td>\n",
       "      <td>Immature</td>\n",
       "      <td>189</td>\n",
       "    </tr>\n",
       "    <tr>\n",
       "      <th>2</th>\n",
       "      <td>Autumn</td>\n",
       "      <td>Old Adult</td>\n",
       "      <td>175</td>\n",
       "    </tr>\n",
       "    <tr>\n",
       "      <th>3</th>\n",
       "      <td>Autumn</td>\n",
       "      <td>Pup</td>\n",
       "      <td>165</td>\n",
       "    </tr>\n",
       "    <tr>\n",
       "      <th>4</th>\n",
       "      <td>Autumn</td>\n",
       "      <td>Subadult</td>\n",
       "      <td>310</td>\n",
       "    </tr>\n",
       "  </tbody>\n",
       "</table>\n",
       "</div>"
      ],
      "text/plain": [
       "   Season  Age_Class  Count\n",
       "0  Autumn      Adult    853\n",
       "1  Autumn   Immature    189\n",
       "2  Autumn  Old Adult    175\n",
       "3  Autumn        Pup    165\n",
       "4  Autumn   Subadult    310"
      ]
     },
     "execution_count": 80,
     "metadata": {},
     "output_type": "execute_result"
    }
   ],
   "source": [
    "# Group by season and age class\n",
    "age_seasonal_df = pd.melt(strand_df, id_vars = ['Age_Class'], value_vars = \"Spring Summer Autumn Winter\".split(), var_name = 'Season', value_name = 'Count')\n",
    "age_seasonal_df = age_seasonal_df.groupby(by=['Season', 'Age_Class']).sum().reset_index()\n",
    "age_seasonal_df.head()"
   ]
  },
  {
   "cell_type": "code",
   "execution_count": 81,
   "metadata": {
    "id": "14PvvRjK75Ig",
    "outputId": "8468b4c2-a303-41d0-d3d8-a2b66c90342c"
   },
   "outputs": [
    {
     "data": {
      "text/html": [
       "\n",
       "<div id=\"altair-viz-4538525907fa474da89696fc8ecaa865\"></div>\n",
       "<script type=\"text/javascript\">\n",
       "  (function(spec, embedOpt){\n",
       "    let outputDiv = document.currentScript.previousElementSibling;\n",
       "    if (outputDiv.id !== \"altair-viz-4538525907fa474da89696fc8ecaa865\") {\n",
       "      outputDiv = document.getElementById(\"altair-viz-4538525907fa474da89696fc8ecaa865\");\n",
       "    }\n",
       "    const paths = {\n",
       "      \"vega\": \"https://cdn.jsdelivr.net/npm//vega@5?noext\",\n",
       "      \"vega-lib\": \"https://cdn.jsdelivr.net/npm//vega-lib?noext\",\n",
       "      \"vega-lite\": \"https://cdn.jsdelivr.net/npm//vega-lite@4.8.1?noext\",\n",
       "      \"vega-embed\": \"https://cdn.jsdelivr.net/npm//vega-embed@6?noext\",\n",
       "    };\n",
       "\n",
       "    function loadScript(lib) {\n",
       "      return new Promise(function(resolve, reject) {\n",
       "        var s = document.createElement('script');\n",
       "        s.src = paths[lib];\n",
       "        s.async = true;\n",
       "        s.onload = () => resolve(paths[lib]);\n",
       "        s.onerror = () => reject(`Error loading script: ${paths[lib]}`);\n",
       "        document.getElementsByTagName(\"head\")[0].appendChild(s);\n",
       "      });\n",
       "    }\n",
       "\n",
       "    function showError(err) {\n",
       "      outputDiv.innerHTML = `<div class=\"error\" style=\"color:red;\">${err}</div>`;\n",
       "      throw err;\n",
       "    }\n",
       "\n",
       "    function displayChart(vegaEmbed) {\n",
       "      vegaEmbed(outputDiv, spec, embedOpt)\n",
       "        .catch(err => showError(`Javascript Error: ${err.message}<br>This usually means there's a typo in your chart specification. See the javascript console for the full traceback.`));\n",
       "    }\n",
       "\n",
       "    if(typeof define === \"function\" && define.amd) {\n",
       "      requirejs.config({paths});\n",
       "      require([\"vega-embed\"], displayChart, err => showError(`Error loading script: ${err.message}`));\n",
       "    } else if (typeof vegaEmbed === \"function\") {\n",
       "      displayChart(vegaEmbed);\n",
       "    } else {\n",
       "      loadScript(\"vega\")\n",
       "        .then(() => loadScript(\"vega-lite\"))\n",
       "        .then(() => loadScript(\"vega-embed\"))\n",
       "        .catch(showError)\n",
       "        .then(() => displayChart(vegaEmbed));\n",
       "    }\n",
       "  })({\"config\": {\"view\": {\"continuousWidth\": 400, \"continuousHeight\": 300}, \"axis\": {\"grid\": false, \"labelFontSize\": 12, \"titleFontSize\": 12}, \"legend\": {\"labelFontSize\": 12, \"titleFontSize\": 12}, \"title\": {\"fontSize\": 13}}, \"data\": {\"name\": \"data-a8e3fb7818145ac940c40d4c75e988e2\"}, \"mark\": \"bar\", \"encoding\": {\"color\": {\"type\": \"nominal\", \"field\": \"Age_Class\", \"scale\": {\"scheme\": \"set2\"}, \"sort\": [\"Pup\", \"Immature\", \"Subadult\", \"Adult\", \"Old Adult\", \"Unknown\"]}, \"column\": {\"type\": \"nominal\", \"field\": \"Season\", \"sort\": [\"Spring\", \"Summer\", \"Autumn\", \"Winter\"]}, \"x\": {\"type\": \"nominal\", \"field\": \"Age_Class\", \"scale\": {\"scheme\": \"set2\"}, \"sort\": [\"Pup\", \"Immature\", \"Subadult\", \"Adult\", \"Old Adult\", \"Unknown\"]}, \"y\": {\"type\": \"quantitative\", \"field\": \"Count\"}}, \"title\": [\"A majority of stranded sea otters are adults and more stranded pups are observed in spring and winter\", \"\\n\"], \"width\": 200, \"$schema\": \"https://vega.github.io/schema/vega-lite/v4.8.1.json\", \"datasets\": {\"data-a8e3fb7818145ac940c40d4c75e988e2\": [{\"Season\": \"Autumn\", \"Age_Class\": \"Adult\", \"Count\": 853}, {\"Season\": \"Autumn\", \"Age_Class\": \"Immature\", \"Count\": 189}, {\"Season\": \"Autumn\", \"Age_Class\": \"Old Adult\", \"Count\": 175}, {\"Season\": \"Autumn\", \"Age_Class\": \"Pup\", \"Count\": 165}, {\"Season\": \"Autumn\", \"Age_Class\": \"Subadult\", \"Count\": 310}, {\"Season\": \"Autumn\", \"Age_Class\": \"Unknown\", \"Count\": 54}, {\"Season\": \"Spring\", \"Age_Class\": \"Adult\", \"Count\": 787}, {\"Season\": \"Spring\", \"Age_Class\": \"Immature\", \"Count\": 361}, {\"Season\": \"Spring\", \"Age_Class\": \"Old Adult\", \"Count\": 239}, {\"Season\": \"Spring\", \"Age_Class\": \"Pup\", \"Count\": 419}, {\"Season\": \"Spring\", \"Age_Class\": \"Subadult\", \"Count\": 284}, {\"Season\": \"Spring\", \"Age_Class\": \"Unknown\", \"Count\": 18}, {\"Season\": \"Summer\", \"Age_Class\": \"Adult\", \"Count\": 906}, {\"Season\": \"Summer\", \"Age_Class\": \"Immature\", \"Count\": 252}, {\"Season\": \"Summer\", \"Age_Class\": \"Old Adult\", \"Count\": 233}, {\"Season\": \"Summer\", \"Age_Class\": \"Pup\", \"Count\": 224}, {\"Season\": \"Summer\", \"Age_Class\": \"Subadult\", \"Count\": 352}, {\"Season\": \"Summer\", \"Age_Class\": \"Unknown\", \"Count\": 56}, {\"Season\": \"Winter\", \"Age_Class\": \"Adult\", \"Count\": 577}, {\"Season\": \"Winter\", \"Age_Class\": \"Immature\", \"Count\": 163}, {\"Season\": \"Winter\", \"Age_Class\": \"Old Adult\", \"Count\": 164}, {\"Season\": \"Winter\", \"Age_Class\": \"Pup\", \"Count\": 269}, {\"Season\": \"Winter\", \"Age_Class\": \"Subadult\", \"Count\": 217}, {\"Season\": \"Winter\", \"Age_Class\": \"Unknown\", \"Count\": 36}]}}, {\"mode\": \"vega-lite\"});\n",
       "</script>"
      ],
      "text/plain": [
       "alt.Chart(...)"
      ]
     },
     "execution_count": 81,
     "metadata": {},
     "output_type": "execute_result"
    }
   ],
   "source": [
    "chart_title ='A majority of stranded sea otters are adults and more stranded pups are observed in spring and winter:\\n'\n",
    "alt.Chart(age_seasonal_df).mark_bar().encode(\n",
    "    column=alt.Column('Season', sort=['Spring','Summer','Autumn','Winter']),\n",
    "    color=alt.Color('Age_Class', sort=['Pup', 'Immature', 'Subadult', 'Adult', 'Old Adult', 'Unknown'], scale=alt.Scale(scheme='set2')),\n",
    "    x=alt.X('Age_Class', sort=['Pup', 'Immature', 'Subadult', 'Adult', 'Old Adult', 'Unknown'], scale=alt.Scale(scheme='set2')),\n",
    "    y='Count',\n",
    ").properties(\n",
    "    width=200,\n",
    "    title=chart_title.split(':')\n",
    ").configure_axis(\n",
    "    grid=False,\n",
    "    labelFontSize=12,\n",
    "    titleFontSize=12\n",
    ").configure_legend(\n",
    "    labelFontSize=12,\n",
    "    titleFontSize=12\n",
    ").configure_title(\n",
    "    fontSize=13\n",
    ")"
   ]
  },
  {
   "cell_type": "markdown",
   "metadata": {
    "id": "a4EC9uMf75Ig"
   },
   "source": [
    "The bar graph shows most stranded sea otters are adults in all seasons. Note that the age range of adults is about 6 years (4-9 years old), which is similar to old adults and a lot longer than the younger age classes. This means that more sea otters may fall into this the adult age class, therefore, more stranded cases observed. However, considering that the stranded cases for old adults is much lower while having similar age range as adults, it is still reasonable to suggest that the adult group needs more conservational efforts. \n",
    "\n",
    "The graph also shows that the age class composition is similar in summer and autumn. For most of the age classes, more strandings happened in spring or summer, aligning with the result from the previous analysis. However, for pups, more stranding happened in spring and winter. We reason that the peak period when most pups are born is between October to January and between March to April in California [[2]](#References), therefore, more stranded pups are seen in spring and winter. \n",
    "\n",
    "Overall, the results suggest that we can put more conservational efforts in spring and focus on supporting different age classes during different seasons."
   ]
  },
  {
   "cell_type": "markdown",
   "metadata": {
    "id": "gcjUoNaN75Ig"
   },
   "source": [
    "## Mortality analysis"
   ]
  },
  {
   "cell_type": "markdown",
   "metadata": {
    "id": "TpmBb_bM75Ig"
   },
   "source": [
    "After stranding analysis, we shifted to mortality analysis to mainly explore what are the leading causes of sea otter death. This is important because by reducing the mortality rate, we may help increase the population of sea otters. \n"
   ]
  },
  {
   "cell_type": "code",
   "execution_count": 82,
   "metadata": {
    "id": "4DHiqJ1P75Ih",
    "outputId": "7e2f355d-cc3d-4b26-e22f-3301d1dc9ef4"
   },
   "outputs": [
    {
     "data": {
      "text/html": [
       "<div>\n",
       "<style scoped>\n",
       "    .dataframe tbody tr th:only-of-type {\n",
       "        vertical-align: middle;\n",
       "    }\n",
       "\n",
       "    .dataframe tbody tr th {\n",
       "        vertical-align: top;\n",
       "    }\n",
       "\n",
       "    .dataframe thead th {\n",
       "        text-align: right;\n",
       "    }\n",
       "</style>\n",
       "<table border=\"1\" class=\"dataframe\">\n",
       "  <thead>\n",
       "    <tr style=\"text-align: right;\">\n",
       "      <th></th>\n",
       "      <th>Cause of death</th>\n",
       "      <th>Primary</th>\n",
       "      <th>Contributing</th>\n",
       "      <th>Male</th>\n",
       "      <th>Female</th>\n",
       "      <th>Juvenile</th>\n",
       "      <th>Subadult</th>\n",
       "      <th>Adult</th>\n",
       "      <th>Aged adult</th>\n",
       "    </tr>\n",
       "  </thead>\n",
       "  <tbody>\n",
       "    <tr>\n",
       "      <th>0</th>\n",
       "      <td>Acanthocephalan infection</td>\n",
       "      <td>17</td>\n",
       "      <td>10</td>\n",
       "      <td>9</td>\n",
       "      <td>8</td>\n",
       "      <td>9</td>\n",
       "      <td>2</td>\n",
       "      <td>6</td>\n",
       "      <td>0</td>\n",
       "    </tr>\n",
       "    <tr>\n",
       "      <th>1</th>\n",
       "      <td>Toxoplasma gondii encephalitis</td>\n",
       "      <td>17</td>\n",
       "      <td>12</td>\n",
       "      <td>11</td>\n",
       "      <td>6</td>\n",
       "      <td>4</td>\n",
       "      <td>4</td>\n",
       "      <td>7</td>\n",
       "      <td>2</td>\n",
       "    </tr>\n",
       "    <tr>\n",
       "      <th>2</th>\n",
       "      <td>Cardiac disease</td>\n",
       "      <td>14</td>\n",
       "      <td>12</td>\n",
       "      <td>4</td>\n",
       "      <td>10</td>\n",
       "      <td>0</td>\n",
       "      <td>1</td>\n",
       "      <td>9</td>\n",
       "      <td>4</td>\n",
       "    </tr>\n",
       "    <tr>\n",
       "      <th>3</th>\n",
       "      <td>Shark attack</td>\n",
       "      <td>14</td>\n",
       "      <td>0</td>\n",
       "      <td>6</td>\n",
       "      <td>8</td>\n",
       "      <td>1</td>\n",
       "      <td>4</td>\n",
       "      <td>8</td>\n",
       "      <td>1</td>\n",
       "    </tr>\n",
       "    <tr>\n",
       "      <th>4</th>\n",
       "      <td>Lacerations or trauma (unknown cause)</td>\n",
       "      <td>8</td>\n",
       "      <td>0</td>\n",
       "      <td>6</td>\n",
       "      <td>2</td>\n",
       "      <td>2</td>\n",
       "      <td>0</td>\n",
       "      <td>5</td>\n",
       "      <td>1</td>\n",
       "    </tr>\n",
       "  </tbody>\n",
       "</table>\n",
       "</div>"
      ],
      "text/plain": [
       "                          Cause of death  Primary  Contributing  Male   \\\n",
       "0              Acanthocephalan infection       17            10      9   \n",
       "1         Toxoplasma gondii encephalitis       17            12     11   \n",
       "2                        Cardiac disease       14            12      4   \n",
       "3                           Shark attack       14             0      6   \n",
       "4  Lacerations or trauma (unknown cause)        8             0      6   \n",
       "\n",
       "   Female  Juvenile Subadult Adult Aged adult  \n",
       "0       8         9        2     6          0  \n",
       "1       6         4        4     7          2  \n",
       "2      10         0        1     9          4  \n",
       "3       8         1        4     8          1  \n",
       "4       2         2        0     5          1  "
      ]
     },
     "execution_count": 82,
     "metadata": {},
     "output_type": "execute_result"
    }
   ],
   "source": [
    "mortality_df = pd.read_excel(DATAPATH+\"mortality/mortality.xlsx\")\n",
    "mortality_df.head()"
   ]
  },
  {
   "cell_type": "markdown",
   "metadata": {},
   "source": [
    "We used dataset containing data on primary and contributing causes of death in 105 southern sea otters from Feburary 1998 to July 2001. **Gender and age class distributions are provided for only the primary causes of death**. Since there are in total 105 otters, the raw count is roughly the same as percentage. Therefore, we included the raw count of mortality cases in our analysis rather than the calculating the percentages."
   ]
  },
  {
   "cell_type": "code",
   "execution_count": 83,
   "metadata": {
    "id": "p7KXhl3M75Ik",
    "outputId": "14fc0a34-dd1b-4327-e9f0-c51de4c515bc"
   },
   "outputs": [
    {
     "data": {
      "text/plain": [
       "121"
      ]
     },
     "execution_count": 83,
     "metadata": {},
     "output_type": "execute_result"
    }
   ],
   "source": [
    "mortality_df.Primary.sum()"
   ]
  },
  {
   "cell_type": "code",
   "execution_count": 84,
   "metadata": {
    "id": "C96wN7RY75Ik",
    "outputId": "0548fb54-d834-4078-90bc-beec4546d7ce"
   },
   "outputs": [
    {
     "data": {
      "text/plain": [
       "85"
      ]
     },
     "execution_count": 84,
     "metadata": {},
     "output_type": "execute_result"
    }
   ],
   "source": [
    "mortality_df.Contributing.sum()"
   ]
  },
  {
   "cell_type": "markdown",
   "metadata": {},
   "source": [
    "*Note: The column of primary causes don't add up to 105 because some sea otters have multiple equally weighted primary causes. This also applies to contributing causes as some sea otters may not have contributing causes or various contributing causes.*"
   ]
  },
  {
   "cell_type": "markdown",
   "metadata": {
    "id": "N9zpW5Ee75Ii"
   },
   "source": [
    "There are 25 types of causes of death in the dataset. We categorized the causes into 6 categories: infection, disease, poor condition, predator, injury, and human disturbance. We \n",
    "recognize **each category as a threat** in our analysis. (We refer to the categories when we talk about threats in our analysis.)\n",
    "\n",
    "Here is a brief description of some of the causes of death for reference:\n",
    "\n",
    "- Infection\n",
    "    - Acanthocephalan infection: infection caused by parasitic worms known as Acanthocephalan\n",
    "    - Toxoplasma gondii encephalitis: inflammation of the brain caused by protozoan T. gondii\n",
    "    - Sarcocystis neurona encephalitis: inflammation of the brain caused by protozoan S. neurona\n",
    "    - Bacterial pneumonia: inflammation of the lungs due to bacterial infection\n",
    "    - Fungal pneumonia (Coccidioides immitis): inflammation of the lungs due to fungus C. immitis\n",
    "    - Encephalitis - unconfirmed cause: inflammation of the brain\n",
    "    - Sepsis (unknown cause): inflammation throughout the body in response to infection\n",
    "    - Peritonitis (unknown cause): inflammation of the peritoneum\n",
    "- Disease\n",
    "    - Cardiac disease\n",
    "    - Other intestinal disease: included small bowel vovulus, intussusception, intestinal perforation of unknown cause, and bacterial enteritis\n",
    "    - Gastric ulceration\n",
    "    - Delayed closure of foramen ovale: foramen ovale is a small hole in between the two upper chambers of the heart\n",
    "    - Dental disease\n",
    "- Poor condition (including unhealthy body condition and environmental condition)\n",
    "    - Perinatal mortality: death of fetus or infant\n",
    "    - Starvation (early maternal separation)\n",
    "    - Emaciation: abnormally thin or weak\n",
    "    - Domoic acid intoxication: lesions associated with domoic acid, which is a marine biotoxin    \n",
    "- Predator\n",
    "    - Shark attack\n",
    "- Injury\n",
    "    - Lacerations or trauma (unknown cause)\n",
    "    - Bite wounds: most likely caused by aggressive interactions with other otters or sympatric species (not shark attack)\n",
    "    - Nose wounds due to mating trauma: males can bite females to subdue them during mating\n",
    "- Human disturbance\n",
    "    - Boat strike\n",
    "    - Gunshot\n",
    "    - Gill net drowning\n",
    "    - Oiling\n",
    "\n",
    "\n"
   ]
  },
  {
   "cell_type": "markdown",
   "metadata": {
    "id": "jaQWSWm375Ii"
   },
   "source": [
    "#### Data cleaning"
   ]
  },
  {
   "cell_type": "code",
   "execution_count": 85,
   "metadata": {
    "id": "DT-2vWSl75Ii",
    "outputId": "1814b1c3-3b52-402b-95d6-1ecc7daf9488"
   },
   "outputs": [
    {
     "data": {
      "text/plain": [
       "Cause of death    object\n",
       "Primary            int64\n",
       "Contributing       int64\n",
       " Male             object\n",
       " Female           object\n",
       " Juvenile         object\n",
       "Subadult          object\n",
       "Adult             object\n",
       "Aged adult        object\n",
       "dtype: object"
      ]
     },
     "execution_count": 85,
     "metadata": {},
     "output_type": "execute_result"
    }
   ],
   "source": [
    "mortality_df.dtypes"
   ]
  },
  {
   "cell_type": "code",
   "execution_count": 86,
   "metadata": {
    "id": "8ieLR-2J75Ij"
   },
   "outputs": [],
   "source": [
    "# Impute NaN and '-' as 0\n",
    "mortality_df.fillna(0, inplace=True)\n",
    "mortality_df.replace('—', 0, inplace=True)"
   ]
  },
  {
   "cell_type": "code",
   "execution_count": 87,
   "metadata": {
    "id": "K78K_uB875Ij",
    "outputId": "321c8ddb-6197-4016-b858-62c98f78d9cf"
   },
   "outputs": [
    {
     "data": {
      "text/plain": [
       "Index(['Cause of death', 'Primary', 'Contributing', ' Male ', ' Female',\n",
       "       ' Juvenile', 'Subadult', 'Adult', 'Aged adult'],\n",
       "      dtype='object')"
      ]
     },
     "execution_count": 87,
     "metadata": {},
     "output_type": "execute_result"
    }
   ],
   "source": [
    "mortality_df.columns"
   ]
  },
  {
   "cell_type": "code",
   "execution_count": 88,
   "metadata": {
    "id": "MupJXbtU75Ij"
   },
   "outputs": [],
   "source": [
    "mortality_df.rename(columns={\" Male \": \"Male\", \" Female\": \"Female\", \" Juvenile\": \"Juvenile\"}, inplace = True)"
   ]
  },
  {
   "cell_type": "code",
   "execution_count": 89,
   "metadata": {
    "id": "CwscJgBo75Ij",
    "outputId": "35dfc142-0e00-4ccb-d6b8-574071a78a97"
   },
   "outputs": [
    {
     "data": {
      "text/plain": [
       "Cause of death    object\n",
       "Primary            int64\n",
       "Contributing       int64\n",
       "Male               int64\n",
       "Female             int64\n",
       "Juvenile           int64\n",
       "Subadult           int64\n",
       "Adult              int64\n",
       "Aged adult         int64\n",
       "dtype: object"
      ]
     },
     "execution_count": 89,
     "metadata": {},
     "output_type": "execute_result"
    }
   ],
   "source": [
    "mortality_df.dtypes"
   ]
  },
  {
   "cell_type": "markdown",
   "metadata": {
    "id": "EMu4Eyxv75In"
   },
   "source": [
    "### What are the main threats to sea otter population?\n",
    "\n",
    "We want to know what are the main threats (categories) to mortality of sea otters. Our hypothesis is that human disturbance is the biggest threat to sea otter population. "
   ]
  },
  {
   "cell_type": "code",
   "execution_count": 90,
   "metadata": {
    "id": "Zi9jCbmY75In",
    "outputId": "5d01a2c6-99ba-439e-e2fc-68a0029cd9d8"
   },
   "outputs": [
    {
     "data": {
      "text/plain": [
       "{'Acanthocephalan infection': 'Infection',\n",
       " 'Toxoplasma gondii encephalitis': 'Infection',\n",
       " 'Sarcocystis neurona encephalitis': 'Infection',\n",
       " 'Bacterial pneumonia': 'Infection',\n",
       " 'Fungal pneumonia (Coccidioides immitis)': 'Infection',\n",
       " 'Encephalitis - unconfirmed cause': 'Infection',\n",
       " 'Sepsis (unknown cause)': 'Infection',\n",
       " 'Peritonitis (unknown cause)': 'Infection',\n",
       " 'Cardiac disease': 'Disease',\n",
       " 'Other intestinal disease': 'Disease',\n",
       " 'Gastric ulceration': 'Disease',\n",
       " 'Delayed closure of foramen ovale': 'Disease',\n",
       " 'Dental disease': 'Disease',\n",
       " 'Perinatal mortality': 'Poor condition',\n",
       " 'Starvation (early maternal separation)': 'Poor condition',\n",
       " 'Emaciation': 'Poor condition',\n",
       " 'Domoic acid intoxication': 'Poor condition',\n",
       " 'Shark attack': 'Predator',\n",
       " 'Lacerations or trauma (unknown cause)': 'Injury',\n",
       " 'Bite wounds': 'Injury',\n",
       " 'Nose wounds due to mating trauma': 'Injury',\n",
       " 'Boat strike': 'Human disturbance',\n",
       " 'Gunshot': 'Human disturbance',\n",
       " 'Gill net drowning': 'Human disturbance',\n",
       " 'Oiling': 'Human disturbance'}"
      ]
     },
     "execution_count": 90,
     "metadata": {},
     "output_type": "execute_result"
    }
   ],
   "source": [
    "# Create mapping of cause of death to category\n",
    "cause2cat = {}\n",
    "for cause in \"Acanthocephalan infection, Toxoplasma gondii encephalitis, Sarcocystis neurona encephalitis, Bacterial pneumonia, Fungal pneumonia (Coccidioides immitis), Encephalitis - unconfirmed cause, Sepsis (unknown cause), Peritonitis (unknown cause)\".split(', '):\n",
    "    cause2cat[cause] = \"Infection\"\n",
    "for cause in \"Cardiac disease, Other intestinal disease, Gastric ulceration, Delayed closure of foramen ovale, Dental disease\".split(', '):\n",
    "    cause2cat[cause] = \"Disease\"\n",
    "for cause in \"Perinatal mortality, Starvation (early maternal separation), Emaciation, Domoic acid intoxication\".split(', '):\n",
    "    cause2cat[cause] = \"Poor condition\"\n",
    "cause2cat['Shark attack'] = \"Predator\"\n",
    "for cause in \"Lacerations or trauma (unknown cause), Bite wounds, Nose wounds due to mating trauma\".split(', '):\n",
    "    cause2cat[cause] = \"Injury\"\n",
    "for cause in \"Boat strike, Gunshot, Gill net drowning, Oiling\".split(', '):\n",
    "    cause2cat[cause] = \"Human disturbance\"\n",
    "cause2cat"
   ]
  },
  {
   "cell_type": "code",
   "execution_count": 91,
   "metadata": {
    "id": "xmQVj5b375In",
    "outputId": "258739a6-11c5-4942-cfad-cc3befce1756"
   },
   "outputs": [
    {
     "data": {
      "text/html": [
       "<div>\n",
       "<style scoped>\n",
       "    .dataframe tbody tr th:only-of-type {\n",
       "        vertical-align: middle;\n",
       "    }\n",
       "\n",
       "    .dataframe tbody tr th {\n",
       "        vertical-align: top;\n",
       "    }\n",
       "\n",
       "    .dataframe thead th {\n",
       "        text-align: right;\n",
       "    }\n",
       "</style>\n",
       "<table border=\"1\" class=\"dataframe\">\n",
       "  <thead>\n",
       "    <tr style=\"text-align: right;\">\n",
       "      <th></th>\n",
       "      <th>Cause of death</th>\n",
       "      <th>Primary</th>\n",
       "      <th>Contributing</th>\n",
       "      <th>Male</th>\n",
       "      <th>Female</th>\n",
       "      <th>Juvenile</th>\n",
       "      <th>Subadult</th>\n",
       "      <th>Adult</th>\n",
       "      <th>Aged adult</th>\n",
       "      <th>Category</th>\n",
       "    </tr>\n",
       "  </thead>\n",
       "  <tbody>\n",
       "    <tr>\n",
       "      <th>0</th>\n",
       "      <td>Acanthocephalan infection</td>\n",
       "      <td>17</td>\n",
       "      <td>10</td>\n",
       "      <td>9</td>\n",
       "      <td>8</td>\n",
       "      <td>9</td>\n",
       "      <td>2</td>\n",
       "      <td>6</td>\n",
       "      <td>0</td>\n",
       "      <td>Infection</td>\n",
       "    </tr>\n",
       "    <tr>\n",
       "      <th>1</th>\n",
       "      <td>Toxoplasma gondii encephalitis</td>\n",
       "      <td>17</td>\n",
       "      <td>12</td>\n",
       "      <td>11</td>\n",
       "      <td>6</td>\n",
       "      <td>4</td>\n",
       "      <td>4</td>\n",
       "      <td>7</td>\n",
       "      <td>2</td>\n",
       "      <td>Infection</td>\n",
       "    </tr>\n",
       "    <tr>\n",
       "      <th>2</th>\n",
       "      <td>Cardiac disease</td>\n",
       "      <td>14</td>\n",
       "      <td>12</td>\n",
       "      <td>4</td>\n",
       "      <td>10</td>\n",
       "      <td>0</td>\n",
       "      <td>1</td>\n",
       "      <td>9</td>\n",
       "      <td>4</td>\n",
       "      <td>Disease</td>\n",
       "    </tr>\n",
       "    <tr>\n",
       "      <th>3</th>\n",
       "      <td>Shark attack</td>\n",
       "      <td>14</td>\n",
       "      <td>0</td>\n",
       "      <td>6</td>\n",
       "      <td>8</td>\n",
       "      <td>1</td>\n",
       "      <td>4</td>\n",
       "      <td>8</td>\n",
       "      <td>1</td>\n",
       "      <td>Predator</td>\n",
       "    </tr>\n",
       "    <tr>\n",
       "      <th>4</th>\n",
       "      <td>Lacerations or trauma (unknown cause)</td>\n",
       "      <td>8</td>\n",
       "      <td>0</td>\n",
       "      <td>6</td>\n",
       "      <td>2</td>\n",
       "      <td>2</td>\n",
       "      <td>0</td>\n",
       "      <td>5</td>\n",
       "      <td>1</td>\n",
       "      <td>Injury</td>\n",
       "    </tr>\n",
       "  </tbody>\n",
       "</table>\n",
       "</div>"
      ],
      "text/plain": [
       "                          Cause of death  Primary  Contributing  Male  Female  \\\n",
       "0              Acanthocephalan infection       17            10     9       8   \n",
       "1         Toxoplasma gondii encephalitis       17            12    11       6   \n",
       "2                        Cardiac disease       14            12     4      10   \n",
       "3                           Shark attack       14             0     6       8   \n",
       "4  Lacerations or trauma (unknown cause)        8             0     6       2   \n",
       "\n",
       "   Juvenile  Subadult  Adult  Aged adult   Category  \n",
       "0         9         2      6           0  Infection  \n",
       "1         4         4      7           2  Infection  \n",
       "2         0         1      9           4    Disease  \n",
       "3         1         4      8           1   Predator  \n",
       "4         2         0      5           1     Injury  "
      ]
     },
     "execution_count": 91,
     "metadata": {},
     "output_type": "execute_result"
    }
   ],
   "source": [
    "mortality_df['Category'] = mortality_df['Cause of death'].apply(lambda x: cause2cat[x])\n",
    "mortality_df.head()"
   ]
  },
  {
   "cell_type": "code",
   "execution_count": 92,
   "metadata": {
    "id": "_lE41usQ75Io",
    "outputId": "73cf5bab-083c-4fa4-e58e-7739b57d9be3"
   },
   "outputs": [
    {
     "data": {
      "text/html": [
       "<div>\n",
       "<style scoped>\n",
       "    .dataframe tbody tr th:only-of-type {\n",
       "        vertical-align: middle;\n",
       "    }\n",
       "\n",
       "    .dataframe tbody tr th {\n",
       "        vertical-align: top;\n",
       "    }\n",
       "\n",
       "    .dataframe thead th {\n",
       "        text-align: right;\n",
       "    }\n",
       "</style>\n",
       "<table border=\"1\" class=\"dataframe\">\n",
       "  <thead>\n",
       "    <tr style=\"text-align: right;\">\n",
       "      <th></th>\n",
       "      <th>Category</th>\n",
       "      <th>Primary</th>\n",
       "      <th>Contributing</th>\n",
       "      <th>Male</th>\n",
       "      <th>Female</th>\n",
       "      <th>Juvenile</th>\n",
       "      <th>Subadult</th>\n",
       "      <th>Adult</th>\n",
       "      <th>Aged adult</th>\n",
       "    </tr>\n",
       "  </thead>\n",
       "  <tbody>\n",
       "    <tr>\n",
       "      <th>0</th>\n",
       "      <td>Disease</td>\n",
       "      <td>22</td>\n",
       "      <td>22</td>\n",
       "      <td>9</td>\n",
       "      <td>13</td>\n",
       "      <td>3</td>\n",
       "      <td>3</td>\n",
       "      <td>12</td>\n",
       "      <td>4</td>\n",
       "    </tr>\n",
       "    <tr>\n",
       "      <th>1</th>\n",
       "      <td>Human disturbance</td>\n",
       "      <td>9</td>\n",
       "      <td>1</td>\n",
       "      <td>9</td>\n",
       "      <td>0</td>\n",
       "      <td>1</td>\n",
       "      <td>0</td>\n",
       "      <td>5</td>\n",
       "      <td>3</td>\n",
       "    </tr>\n",
       "    <tr>\n",
       "      <th>2</th>\n",
       "      <td>Infection</td>\n",
       "      <td>51</td>\n",
       "      <td>33</td>\n",
       "      <td>28</td>\n",
       "      <td>23</td>\n",
       "      <td>18</td>\n",
       "      <td>8</td>\n",
       "      <td>21</td>\n",
       "      <td>4</td>\n",
       "    </tr>\n",
       "    <tr>\n",
       "      <th>3</th>\n",
       "      <td>Injury</td>\n",
       "      <td>13</td>\n",
       "      <td>9</td>\n",
       "      <td>8</td>\n",
       "      <td>5</td>\n",
       "      <td>2</td>\n",
       "      <td>0</td>\n",
       "      <td>9</td>\n",
       "      <td>2</td>\n",
       "    </tr>\n",
       "    <tr>\n",
       "      <th>4</th>\n",
       "      <td>Poor condition</td>\n",
       "      <td>12</td>\n",
       "      <td>20</td>\n",
       "      <td>7</td>\n",
       "      <td>5</td>\n",
       "      <td>8</td>\n",
       "      <td>0</td>\n",
       "      <td>3</td>\n",
       "      <td>1</td>\n",
       "    </tr>\n",
       "  </tbody>\n",
       "</table>\n",
       "</div>"
      ],
      "text/plain": [
       "            Category  Primary  Contributing  Male  Female  Juvenile  Subadult  \\\n",
       "0            Disease       22            22     9      13         3         3   \n",
       "1  Human disturbance        9             1     9       0         1         0   \n",
       "2          Infection       51            33    28      23        18         8   \n",
       "3             Injury       13             9     8       5         2         0   \n",
       "4     Poor condition       12            20     7       5         8         0   \n",
       "\n",
       "   Adult  Aged adult  \n",
       "0     12           4  \n",
       "1      5           3  \n",
       "2     21           4  \n",
       "3      9           2  \n",
       "4      3           1  "
      ]
     },
     "execution_count": 92,
     "metadata": {},
     "output_type": "execute_result"
    }
   ],
   "source": [
    "# Group by category\n",
    "death_cat = mortality_df.groupby(by='Category').sum().reset_index()\n",
    "death_cat.head()"
   ]
  },
  {
   "cell_type": "code",
   "execution_count": 93,
   "metadata": {
    "id": "GiUsTUZX75Io",
    "outputId": "ea7d61ed-9005-4ab6-f1c0-8569358194d5"
   },
   "outputs": [
    {
     "data": {
      "text/html": [
       "<div>\n",
       "<style scoped>\n",
       "    .dataframe tbody tr th:only-of-type {\n",
       "        vertical-align: middle;\n",
       "    }\n",
       "\n",
       "    .dataframe tbody tr th {\n",
       "        vertical-align: top;\n",
       "    }\n",
       "\n",
       "    .dataframe thead th {\n",
       "        text-align: right;\n",
       "    }\n",
       "</style>\n",
       "<table border=\"1\" class=\"dataframe\">\n",
       "  <thead>\n",
       "    <tr style=\"text-align: right;\">\n",
       "      <th></th>\n",
       "      <th>Category</th>\n",
       "      <th>Importance</th>\n",
       "      <th>Count</th>\n",
       "    </tr>\n",
       "  </thead>\n",
       "  <tbody>\n",
       "    <tr>\n",
       "      <th>0</th>\n",
       "      <td>Disease</td>\n",
       "      <td>Primary</td>\n",
       "      <td>22</td>\n",
       "    </tr>\n",
       "    <tr>\n",
       "      <th>1</th>\n",
       "      <td>Human disturbance</td>\n",
       "      <td>Primary</td>\n",
       "      <td>9</td>\n",
       "    </tr>\n",
       "    <tr>\n",
       "      <th>2</th>\n",
       "      <td>Infection</td>\n",
       "      <td>Primary</td>\n",
       "      <td>51</td>\n",
       "    </tr>\n",
       "    <tr>\n",
       "      <th>3</th>\n",
       "      <td>Injury</td>\n",
       "      <td>Primary</td>\n",
       "      <td>13</td>\n",
       "    </tr>\n",
       "    <tr>\n",
       "      <th>4</th>\n",
       "      <td>Poor condition</td>\n",
       "      <td>Primary</td>\n",
       "      <td>12</td>\n",
       "    </tr>\n",
       "  </tbody>\n",
       "</table>\n",
       "</div>"
      ],
      "text/plain": [
       "            Category Importance  Count\n",
       "0            Disease    Primary     22\n",
       "1  Human disturbance    Primary      9\n",
       "2          Infection    Primary     51\n",
       "3             Injury    Primary     13\n",
       "4     Poor condition    Primary     12"
      ]
     },
     "execution_count": 93,
     "metadata": {},
     "output_type": "execute_result"
    }
   ],
   "source": [
    "# Create \"Importance\" variable, which is either \"Primary\" or \"Contributing\"\n",
    "death_cat = pd.melt(death_cat, id_vars='Category', value_vars=['Primary', 'Contributing'], var_name='Importance', value_name='Count')\n",
    "death_cat.head()"
   ]
  },
  {
   "cell_type": "code",
   "execution_count": 94,
   "metadata": {
    "id": "Nk3FUMUm75Ip",
    "outputId": "417db2d8-eb19-4e68-e723-ef999f3d00e9"
   },
   "outputs": [
    {
     "data": {
      "text/html": [
       "\n",
       "<div id=\"altair-viz-a6fb996d7e8f48e0be2e5cb3ad4492ef\"></div>\n",
       "<script type=\"text/javascript\">\n",
       "  (function(spec, embedOpt){\n",
       "    let outputDiv = document.currentScript.previousElementSibling;\n",
       "    if (outputDiv.id !== \"altair-viz-a6fb996d7e8f48e0be2e5cb3ad4492ef\") {\n",
       "      outputDiv = document.getElementById(\"altair-viz-a6fb996d7e8f48e0be2e5cb3ad4492ef\");\n",
       "    }\n",
       "    const paths = {\n",
       "      \"vega\": \"https://cdn.jsdelivr.net/npm//vega@5?noext\",\n",
       "      \"vega-lib\": \"https://cdn.jsdelivr.net/npm//vega-lib?noext\",\n",
       "      \"vega-lite\": \"https://cdn.jsdelivr.net/npm//vega-lite@4.8.1?noext\",\n",
       "      \"vega-embed\": \"https://cdn.jsdelivr.net/npm//vega-embed@6?noext\",\n",
       "    };\n",
       "\n",
       "    function loadScript(lib) {\n",
       "      return new Promise(function(resolve, reject) {\n",
       "        var s = document.createElement('script');\n",
       "        s.src = paths[lib];\n",
       "        s.async = true;\n",
       "        s.onload = () => resolve(paths[lib]);\n",
       "        s.onerror = () => reject(`Error loading script: ${paths[lib]}`);\n",
       "        document.getElementsByTagName(\"head\")[0].appendChild(s);\n",
       "      });\n",
       "    }\n",
       "\n",
       "    function showError(err) {\n",
       "      outputDiv.innerHTML = `<div class=\"error\" style=\"color:red;\">${err}</div>`;\n",
       "      throw err;\n",
       "    }\n",
       "\n",
       "    function displayChart(vegaEmbed) {\n",
       "      vegaEmbed(outputDiv, spec, embedOpt)\n",
       "        .catch(err => showError(`Javascript Error: ${err.message}<br>This usually means there's a typo in your chart specification. See the javascript console for the full traceback.`));\n",
       "    }\n",
       "\n",
       "    if(typeof define === \"function\" && define.amd) {\n",
       "      requirejs.config({paths});\n",
       "      require([\"vega-embed\"], displayChart, err => showError(`Error loading script: ${err.message}`));\n",
       "    } else if (typeof vegaEmbed === \"function\") {\n",
       "      displayChart(vegaEmbed);\n",
       "    } else {\n",
       "      loadScript(\"vega\")\n",
       "        .then(() => loadScript(\"vega-lite\"))\n",
       "        .then(() => loadScript(\"vega-embed\"))\n",
       "        .catch(showError)\n",
       "        .then(() => displayChart(vegaEmbed));\n",
       "    }\n",
       "  })({\"config\": {\"view\": {\"continuousWidth\": 400, \"continuousHeight\": 300}, \"axis\": {\"grid\": false, \"labelFontSize\": 12, \"titleFontSize\": 12}, \"legend\": {\"labelFontSize\": 12, \"titleFontSize\": 12}, \"title\": {\"fontSize\": 13}}, \"data\": {\"name\": \"data-958ac5f631e98b96156730749e6f4512\"}, \"mark\": {\"type\": \"bar\", \"opacity\": 0.5}, \"encoding\": {\"color\": {\"type\": \"nominal\", \"field\": \"Importance\", \"scale\": {\"scheme\": \"set1\"}, \"sort\": [\"Primary\", \"Contributing\"]}, \"column\": {\"type\": \"nominal\", \"field\": \"Importance\", \"sort\": [\"Primary\", \"Contributing\"]}, \"x\": {\"type\": \"nominal\", \"field\": \"Category\", \"sort\": null}, \"y\": {\"type\": \"quantitative\", \"field\": \"Count\", \"stack\": null}}, \"title\": [\"Infection is the main threat to sea otter population\", \"\\n\"], \"width\": 220, \"$schema\": \"https://vega.github.io/schema/vega-lite/v4.8.1.json\", \"datasets\": {\"data-958ac5f631e98b96156730749e6f4512\": [{\"Category\": \"Disease\", \"Importance\": \"Primary\", \"Count\": 22}, {\"Category\": \"Human disturbance\", \"Importance\": \"Primary\", \"Count\": 9}, {\"Category\": \"Infection\", \"Importance\": \"Primary\", \"Count\": 51}, {\"Category\": \"Injury\", \"Importance\": \"Primary\", \"Count\": 13}, {\"Category\": \"Poor condition\", \"Importance\": \"Primary\", \"Count\": 12}, {\"Category\": \"Predator\", \"Importance\": \"Primary\", \"Count\": 14}, {\"Category\": \"Disease\", \"Importance\": \"Contributing\", \"Count\": 22}, {\"Category\": \"Human disturbance\", \"Importance\": \"Contributing\", \"Count\": 1}, {\"Category\": \"Infection\", \"Importance\": \"Contributing\", \"Count\": 33}, {\"Category\": \"Injury\", \"Importance\": \"Contributing\", \"Count\": 9}, {\"Category\": \"Poor condition\", \"Importance\": \"Contributing\", \"Count\": 20}, {\"Category\": \"Predator\", \"Importance\": \"Contributing\", \"Count\": 0}]}}, {\"mode\": \"vega-lite\"});\n",
       "</script>"
      ],
      "text/plain": [
       "alt.Chart(...)"
      ]
     },
     "execution_count": 94,
     "metadata": {},
     "output_type": "execute_result"
    }
   ],
   "source": [
    "chart_title='Infection is the main threat to sea otter population:\\n'\n",
    "alt.Chart(death_cat).mark_bar(opacity=0.5).encode(\n",
    "    column=alt.Column('Importance', sort=['Primary', 'Contributing']),\n",
    "    x=alt.X('Category', sort=None),\n",
    "    y=alt.Y('Count', stack=None),\n",
    "    color= alt.Color(\"Importance\", scale=alt.Scale(scheme='set1'), sort=['Primary', 'Contributing'])\n",
    ").properties(\n",
    "    title=chart_title.split(':'),\n",
    "    width=220\n",
    ").configure_axis(\n",
    "    grid=False,\n",
    "    labelFontSize=12,\n",
    "    titleFontSize=12\n",
    ").configure_legend(\n",
    "    labelFontSize=12,\n",
    "    titleFontSize=12\n",
    ").configure_title(\n",
    "    fontSize=13\n",
    ")"
   ]
  },
  {
   "cell_type": "markdown",
   "metadata": {
    "id": "S0MnGm3z75Io"
   },
   "source": [
    "Infection is the leading primary and contributing cause of death, suggesting that we need better evaluation and control of the sources of the pathogens and parasites. Disease is the second most common primary and contributing cause of death. Poor condition is more often a contributing cause. Predator is observed only as primary cause. Human disturbance is the least common primary cause of death, which is completely different from our hypothesis. It is still noteworthy that human disturbance is more often observed as primary cause of death. "
   ]
  },
  {
   "cell_type": "markdown",
   "metadata": {
    "id": "zZEx_6J375Ip"
   },
   "source": [
    "### What are the most common cause of death within each category?\n",
    "\n",
    "We then wanted to identify what are the most common cause within each category. As we are just interested in how often a cause is seen, we do not care whether it is primary or contributing cause in this analysis. Specifically, we are most interested in infection, disease, and human disturbance. This is because infection and disease are the main threats, and human disturbance is a category that is more related to us humans and easier to control with conservational effort. "
   ]
  },
  {
   "cell_type": "code",
   "execution_count": 95,
   "metadata": {
    "id": "nYXMtrh975Ip",
    "outputId": "c5821d41-87bb-437d-a465-896af87558fe"
   },
   "outputs": [
    {
     "data": {
      "text/html": [
       "<div>\n",
       "<style scoped>\n",
       "    .dataframe tbody tr th:only-of-type {\n",
       "        vertical-align: middle;\n",
       "    }\n",
       "\n",
       "    .dataframe tbody tr th {\n",
       "        vertical-align: top;\n",
       "    }\n",
       "\n",
       "    .dataframe thead th {\n",
       "        text-align: right;\n",
       "    }\n",
       "</style>\n",
       "<table border=\"1\" class=\"dataframe\">\n",
       "  <thead>\n",
       "    <tr style=\"text-align: right;\">\n",
       "      <th></th>\n",
       "      <th>Category</th>\n",
       "      <th>Cause of death</th>\n",
       "      <th>Count</th>\n",
       "    </tr>\n",
       "  </thead>\n",
       "  <tbody>\n",
       "    <tr>\n",
       "      <th>0</th>\n",
       "      <td>Disease</td>\n",
       "      <td>Cardiac disease</td>\n",
       "      <td>26</td>\n",
       "    </tr>\n",
       "    <tr>\n",
       "      <th>1</th>\n",
       "      <td>Disease</td>\n",
       "      <td>Delayed closure of foramen ovale</td>\n",
       "      <td>1</td>\n",
       "    </tr>\n",
       "    <tr>\n",
       "      <th>2</th>\n",
       "      <td>Disease</td>\n",
       "      <td>Dental disease</td>\n",
       "      <td>3</td>\n",
       "    </tr>\n",
       "    <tr>\n",
       "      <th>3</th>\n",
       "      <td>Disease</td>\n",
       "      <td>Gastric ulceration</td>\n",
       "      <td>9</td>\n",
       "    </tr>\n",
       "    <tr>\n",
       "      <th>4</th>\n",
       "      <td>Disease</td>\n",
       "      <td>Other intestinal disease</td>\n",
       "      <td>5</td>\n",
       "    </tr>\n",
       "  </tbody>\n",
       "</table>\n",
       "</div>"
      ],
      "text/plain": [
       "  Category                    Cause of death  Count\n",
       "0  Disease                   Cardiac disease     26\n",
       "1  Disease  Delayed closure of foramen ovale      1\n",
       "2  Disease                    Dental disease      3\n",
       "3  Disease                Gastric ulceration      9\n",
       "4  Disease          Other intestinal disease      5"
      ]
     },
     "execution_count": 95,
     "metadata": {},
     "output_type": "execute_result"
    }
   ],
   "source": [
    "# Group by category and cause of death\n",
    "death_cat = mortality_df.groupby(by=['Category', 'Cause of death']).sum().reset_index()\n",
    "death_cat = pd.melt(death_cat, id_vars=['Category', 'Cause of death'], value_vars=['Primary', 'Contributing'], var_name='Importance', value_name='Count')\n",
    "death_cat = death_cat.groupby(by=['Category', 'Cause of death']).sum().reset_index()\n",
    "death_cat.head()"
   ]
  },
  {
   "cell_type": "code",
   "execution_count": 96,
   "metadata": {
    "id": "QvXQtAXC75Iq",
    "outputId": "2ed5a448-42c0-4306-a89a-b67f94905907"
   },
   "outputs": [
    {
     "data": {
      "text/html": [
       "\n",
       "<div id=\"altair-viz-e9044c2cae374696994ca6c0a9d7cd16\"></div>\n",
       "<script type=\"text/javascript\">\n",
       "  (function(spec, embedOpt){\n",
       "    let outputDiv = document.currentScript.previousElementSibling;\n",
       "    if (outputDiv.id !== \"altair-viz-e9044c2cae374696994ca6c0a9d7cd16\") {\n",
       "      outputDiv = document.getElementById(\"altair-viz-e9044c2cae374696994ca6c0a9d7cd16\");\n",
       "    }\n",
       "    const paths = {\n",
       "      \"vega\": \"https://cdn.jsdelivr.net/npm//vega@5?noext\",\n",
       "      \"vega-lib\": \"https://cdn.jsdelivr.net/npm//vega-lib?noext\",\n",
       "      \"vega-lite\": \"https://cdn.jsdelivr.net/npm//vega-lite@4.8.1?noext\",\n",
       "      \"vega-embed\": \"https://cdn.jsdelivr.net/npm//vega-embed@6?noext\",\n",
       "    };\n",
       "\n",
       "    function loadScript(lib) {\n",
       "      return new Promise(function(resolve, reject) {\n",
       "        var s = document.createElement('script');\n",
       "        s.src = paths[lib];\n",
       "        s.async = true;\n",
       "        s.onload = () => resolve(paths[lib]);\n",
       "        s.onerror = () => reject(`Error loading script: ${paths[lib]}`);\n",
       "        document.getElementsByTagName(\"head\")[0].appendChild(s);\n",
       "      });\n",
       "    }\n",
       "\n",
       "    function showError(err) {\n",
       "      outputDiv.innerHTML = `<div class=\"error\" style=\"color:red;\">${err}</div>`;\n",
       "      throw err;\n",
       "    }\n",
       "\n",
       "    function displayChart(vegaEmbed) {\n",
       "      vegaEmbed(outputDiv, spec, embedOpt)\n",
       "        .catch(err => showError(`Javascript Error: ${err.message}<br>This usually means there's a typo in your chart specification. See the javascript console for the full traceback.`));\n",
       "    }\n",
       "\n",
       "    if(typeof define === \"function\" && define.amd) {\n",
       "      requirejs.config({paths});\n",
       "      require([\"vega-embed\"], displayChart, err => showError(`Error loading script: ${err.message}`));\n",
       "    } else if (typeof vegaEmbed === \"function\") {\n",
       "      displayChart(vegaEmbed);\n",
       "    } else {\n",
       "      loadScript(\"vega\")\n",
       "        .then(() => loadScript(\"vega-lite\"))\n",
       "        .then(() => loadScript(\"vega-embed\"))\n",
       "        .catch(showError)\n",
       "        .then(() => displayChart(vegaEmbed));\n",
       "    }\n",
       "  })({\"config\": {\"view\": {\"continuousWidth\": 400, \"continuousHeight\": 300}, \"axis\": {\"grid\": false, \"labelFontSize\": 12, \"titleFontSize\": 12}, \"legend\": {\"labelFontSize\": 12, \"titleFontSize\": 12}, \"title\": {\"fontSize\": 13}}, \"data\": {\"name\": \"data-e04ea84d512cf9cdc5e876e0b50344c6\"}, \"mark\": {\"type\": \"bar\", \"opacity\": 0.5}, \"encoding\": {\"color\": {\"type\": \"nominal\", \"field\": \"Category\", \"scale\": {\"scheme\": \"dark2\"}}, \"x\": {\"type\": \"nominal\", \"field\": \"Cause of death\", \"sort\": null}, \"y\": {\"type\": \"quantitative\", \"field\": \"Count\"}}, \"title\": [\"T. gondii encephalitis, cardiac disease, and boat strike are the most common causes of death in infection, disease, and human disturbance categories respectively\", \"\\n\"], \"width\": 550, \"$schema\": \"https://vega.github.io/schema/vega-lite/v4.8.1.json\", \"datasets\": {\"data-e04ea84d512cf9cdc5e876e0b50344c6\": [{\"Category\": \"Disease\", \"Cause of death\": \"Cardiac disease\", \"Count\": 26}, {\"Category\": \"Disease\", \"Cause of death\": \"Delayed closure of foramen ovale\", \"Count\": 1}, {\"Category\": \"Disease\", \"Cause of death\": \"Dental disease\", \"Count\": 3}, {\"Category\": \"Disease\", \"Cause of death\": \"Gastric ulceration\", \"Count\": 9}, {\"Category\": \"Disease\", \"Cause of death\": \"Other intestinal disease\", \"Count\": 5}, {\"Category\": \"Human disturbance\", \"Cause of death\": \"Boat strike\", \"Count\": 5}, {\"Category\": \"Human disturbance\", \"Cause of death\": \"Gill net drowning\", \"Count\": 1}, {\"Category\": \"Human disturbance\", \"Cause of death\": \"Gunshot\", \"Count\": 3}, {\"Category\": \"Human disturbance\", \"Cause of death\": \"Oiling\", \"Count\": 1}, {\"Category\": \"Infection\", \"Cause of death\": \"Acanthocephalan infection\", \"Count\": 27}, {\"Category\": \"Infection\", \"Cause of death\": \"Bacterial pneumonia\", \"Count\": 2}, {\"Category\": \"Infection\", \"Cause of death\": \"Encephalitis - unconfirmed cause\", \"Count\": 12}, {\"Category\": \"Infection\", \"Cause of death\": \"Fungal pneumonia (Coccidioides immitis)\", \"Count\": 2}, {\"Category\": \"Infection\", \"Cause of death\": \"Peritonitis (unknown cause)\", \"Count\": 3}, {\"Category\": \"Infection\", \"Cause of death\": \"Sarcocystis neurona encephalitis\", \"Count\": 7}, {\"Category\": \"Infection\", \"Cause of death\": \"Sepsis (unknown cause)\", \"Count\": 2}, {\"Category\": \"Infection\", \"Cause of death\": \"Toxoplasma gondii encephalitis\", \"Count\": 29}, {\"Category\": \"Injury\", \"Cause of death\": \"Bite wounds\", \"Count\": 3}, {\"Category\": \"Injury\", \"Cause of death\": \"Lacerations or trauma (unknown cause)\", \"Count\": 8}, {\"Category\": \"Injury\", \"Cause of death\": \"Nose wounds due to mating trauma\", \"Count\": 11}, {\"Category\": \"Poor condition\", \"Cause of death\": \"Domoic acid intoxication\", \"Count\": 5}, {\"Category\": \"Poor condition\", \"Cause of death\": \"Emaciation\", \"Count\": 16}, {\"Category\": \"Poor condition\", \"Cause of death\": \"Perinatal mortality\", \"Count\": 4}, {\"Category\": \"Poor condition\", \"Cause of death\": \"Starvation (early maternal separation)\", \"Count\": 7}, {\"Category\": \"Predator\", \"Cause of death\": \"Shark attack\", \"Count\": 14}]}}, {\"mode\": \"vega-lite\"});\n",
       "</script>"
      ],
      "text/plain": [
       "alt.Chart(...)"
      ]
     },
     "execution_count": 96,
     "metadata": {},
     "output_type": "execute_result"
    }
   ],
   "source": [
    "chart_title='T. gondii encephalitis, cardiac disease, and boat strike are the most common causes of death in infection, disease, and human disturbance categories respectively:\\n'\n",
    "alt.Chart(death_cat).mark_bar(opacity=0.5).encode(\n",
    "    x=alt.X('Cause of death', sort=None),\n",
    "    y=alt.Y('Count'),\n",
    "    color= alt.Color(\"Category\", scale=alt.Scale(scheme='dark2'))\n",
    ").properties(\n",
    "    title=chart_title.split(':'),\n",
    "    width=550\n",
    ").configure_axis(\n",
    "    grid=False,\n",
    "    labelFontSize=12,\n",
    "    titleFontSize=12\n",
    ").configure_legend(\n",
    "    labelFontSize=12,\n",
    "    titleFontSize=12\n",
    ").configure_title(\n",
    "    fontSize=13\n",
    ")"
   ]
  },
  {
   "cell_type": "markdown",
   "metadata": {
    "id": "53wYM-J975Iq"
   },
   "source": [
    "This bar graph shows that the most common cause of death is T. gondii encephalitis in infection category, cardiac disease in disease category, and boat strike in human disturbance category. This suggesting that we may prioritize the control or prevention of these specific causes to protect sea otters from different categories/aspects. \n",
    "\n",
    "This graph also shows the ranking by the frequency of causes within each category, which gives us an idea of what specific causes may worth more attention and effort when tackling different threats posed to sea otters. "
   ]
  },
  {
   "cell_type": "markdown",
   "metadata": {
    "id": "nqbYs-Sj75Ik"
   },
   "source": [
    "### What are the leading primary causes and contributing causes of death in sea otters?\n",
    "\n",
    "We are then curious about what are the leading primary causes and contributing causes of death in sea otters, regardless the categories. Also, we are interested in the importance of each cause of death, i.e. whether a cause is more often a primary cause or a contributing cause. In this analysis, we are looking at primary causes and contributing causes separately again, because primary cause can be seen as more \"important\" than contributing cause in the sense that it contributes more to the death of sea otters. "
   ]
  },
  {
   "cell_type": "code",
   "execution_count": 97,
   "metadata": {
    "id": "5D2HqHmF75Ik",
    "outputId": "43823241-a6cc-47f3-972b-ae102a1894f2"
   },
   "outputs": [
    {
     "data": {
      "text/html": [
       "<div>\n",
       "<style scoped>\n",
       "    .dataframe tbody tr th:only-of-type {\n",
       "        vertical-align: middle;\n",
       "    }\n",
       "\n",
       "    .dataframe tbody tr th {\n",
       "        vertical-align: top;\n",
       "    }\n",
       "\n",
       "    .dataframe thead th {\n",
       "        text-align: right;\n",
       "    }\n",
       "</style>\n",
       "<table border=\"1\" class=\"dataframe\">\n",
       "  <thead>\n",
       "    <tr style=\"text-align: right;\">\n",
       "      <th></th>\n",
       "      <th>Cause of death</th>\n",
       "      <th>Importance</th>\n",
       "      <th>Count</th>\n",
       "    </tr>\n",
       "  </thead>\n",
       "  <tbody>\n",
       "    <tr>\n",
       "      <th>0</th>\n",
       "      <td>Acanthocephalan infection</td>\n",
       "      <td>Primary</td>\n",
       "      <td>17</td>\n",
       "    </tr>\n",
       "    <tr>\n",
       "      <th>1</th>\n",
       "      <td>Toxoplasma gondii encephalitis</td>\n",
       "      <td>Primary</td>\n",
       "      <td>17</td>\n",
       "    </tr>\n",
       "    <tr>\n",
       "      <th>2</th>\n",
       "      <td>Cardiac disease</td>\n",
       "      <td>Primary</td>\n",
       "      <td>14</td>\n",
       "    </tr>\n",
       "    <tr>\n",
       "      <th>3</th>\n",
       "      <td>Shark attack</td>\n",
       "      <td>Primary</td>\n",
       "      <td>14</td>\n",
       "    </tr>\n",
       "    <tr>\n",
       "      <th>4</th>\n",
       "      <td>Lacerations or trauma (unknown cause)</td>\n",
       "      <td>Primary</td>\n",
       "      <td>8</td>\n",
       "    </tr>\n",
       "  </tbody>\n",
       "</table>\n",
       "</div>"
      ],
      "text/plain": [
       "                          Cause of death Importance  Count\n",
       "0              Acanthocephalan infection    Primary     17\n",
       "1         Toxoplasma gondii encephalitis    Primary     17\n",
       "2                        Cardiac disease    Primary     14\n",
       "3                           Shark attack    Primary     14\n",
       "4  Lacerations or trauma (unknown cause)    Primary      8"
      ]
     },
     "execution_count": 97,
     "metadata": {},
     "output_type": "execute_result"
    }
   ],
   "source": [
    "# Create \"Importance\" variable, which is either \"Primary\" or \"Contributing\"\n",
    "death_cause = pd.melt(mortality_df, id_vars = ['Cause of death'], value_vars = \"Primary Contributing\".split(), var_name = 'Importance', value_name = 'Count')\n",
    "death_cause.head()"
   ]
  },
  {
   "cell_type": "code",
   "execution_count": 98,
   "metadata": {
    "id": "C6CV6V_X75Il",
    "outputId": "857a3f6d-9c04-403e-c3de-ca8bd8352df7"
   },
   "outputs": [
    {
     "data": {
      "text/html": [
       "\n",
       "<div id=\"altair-viz-04a2da720db3445780de52757a9ce860\"></div>\n",
       "<script type=\"text/javascript\">\n",
       "  (function(spec, embedOpt){\n",
       "    let outputDiv = document.currentScript.previousElementSibling;\n",
       "    if (outputDiv.id !== \"altair-viz-04a2da720db3445780de52757a9ce860\") {\n",
       "      outputDiv = document.getElementById(\"altair-viz-04a2da720db3445780de52757a9ce860\");\n",
       "    }\n",
       "    const paths = {\n",
       "      \"vega\": \"https://cdn.jsdelivr.net/npm//vega@5?noext\",\n",
       "      \"vega-lib\": \"https://cdn.jsdelivr.net/npm//vega-lib?noext\",\n",
       "      \"vega-lite\": \"https://cdn.jsdelivr.net/npm//vega-lite@4.8.1?noext\",\n",
       "      \"vega-embed\": \"https://cdn.jsdelivr.net/npm//vega-embed@6?noext\",\n",
       "    };\n",
       "\n",
       "    function loadScript(lib) {\n",
       "      return new Promise(function(resolve, reject) {\n",
       "        var s = document.createElement('script');\n",
       "        s.src = paths[lib];\n",
       "        s.async = true;\n",
       "        s.onload = () => resolve(paths[lib]);\n",
       "        s.onerror = () => reject(`Error loading script: ${paths[lib]}`);\n",
       "        document.getElementsByTagName(\"head\")[0].appendChild(s);\n",
       "      });\n",
       "    }\n",
       "\n",
       "    function showError(err) {\n",
       "      outputDiv.innerHTML = `<div class=\"error\" style=\"color:red;\">${err}</div>`;\n",
       "      throw err;\n",
       "    }\n",
       "\n",
       "    function displayChart(vegaEmbed) {\n",
       "      vegaEmbed(outputDiv, spec, embedOpt)\n",
       "        .catch(err => showError(`Javascript Error: ${err.message}<br>This usually means there's a typo in your chart specification. See the javascript console for the full traceback.`));\n",
       "    }\n",
       "\n",
       "    if(typeof define === \"function\" && define.amd) {\n",
       "      requirejs.config({paths});\n",
       "      require([\"vega-embed\"], displayChart, err => showError(`Error loading script: ${err.message}`));\n",
       "    } else if (typeof vegaEmbed === \"function\") {\n",
       "      displayChart(vegaEmbed);\n",
       "    } else {\n",
       "      loadScript(\"vega\")\n",
       "        .then(() => loadScript(\"vega-lite\"))\n",
       "        .then(() => loadScript(\"vega-embed\"))\n",
       "        .catch(showError)\n",
       "        .then(() => displayChart(vegaEmbed));\n",
       "    }\n",
       "  })({\"config\": {\"view\": {\"continuousWidth\": 400, \"continuousHeight\": 300}, \"axis\": {\"grid\": false, \"labelFontSize\": 12, \"titleFontSize\": 12}, \"legend\": {\"labelFontSize\": 12, \"titleFontSize\": 12}, \"title\": {\"fontSize\": 13}}, \"data\": {\"name\": \"data-b14ba62c07c3bae07d7b48a48e39adcc\"}, \"mark\": {\"type\": \"bar\", \"opacity\": 0.4}, \"encoding\": {\"color\": {\"type\": \"nominal\", \"field\": \"Importance\", \"scale\": {\"scheme\": \"set1\"}, \"sort\": [\"Primary\", \"Contributing\"]}, \"x\": {\"type\": \"nominal\", \"field\": \"Cause of death\", \"sort\": null}, \"y\": {\"type\": \"quantitative\", \"field\": \"Count\", \"stack\": null}}, \"title\": [\"The leading primary causes are Acanthocephalan infection and T. gondii encephalitis and the leading contributing cause is emaciation\", \"\\n\"], \"$schema\": \"https://vega.github.io/schema/vega-lite/v4.8.1.json\", \"datasets\": {\"data-b14ba62c07c3bae07d7b48a48e39adcc\": [{\"Cause of death\": \"Acanthocephalan infection\", \"Importance\": \"Primary\", \"Count\": 17}, {\"Cause of death\": \"Toxoplasma gondii encephalitis\", \"Importance\": \"Primary\", \"Count\": 17}, {\"Cause of death\": \"Cardiac disease\", \"Importance\": \"Primary\", \"Count\": 14}, {\"Cause of death\": \"Shark attack\", \"Importance\": \"Primary\", \"Count\": 14}, {\"Cause of death\": \"Lacerations or trauma (unknown cause)\", \"Importance\": \"Primary\", \"Count\": 8}, {\"Cause of death\": \"Sarcocystis neurona encephalitis\", \"Importance\": \"Primary\", \"Count\": 7}, {\"Cause of death\": \"Encephalitis - unconfirmed cause\", \"Importance\": \"Primary\", \"Count\": 5}, {\"Cause of death\": \"Other intestinal disease\", \"Importance\": \"Primary\", \"Count\": 5}, {\"Cause of death\": \"Boat strike\", \"Importance\": \"Primary\", \"Count\": 5}, {\"Cause of death\": \"Perinatal mortality\", \"Importance\": \"Primary\", \"Count\": 4}, {\"Cause of death\": \"Starvation (early maternal separation)\", \"Importance\": \"Primary\", \"Count\": 4}, {\"Cause of death\": \"Domoic acid intoxication\", \"Importance\": \"Primary\", \"Count\": 4}, {\"Cause of death\": \"Bite wounds\", \"Importance\": \"Primary\", \"Count\": 3}, {\"Cause of death\": \"Gastric ulceration\", \"Importance\": \"Primary\", \"Count\": 2}, {\"Cause of death\": \"Nose wounds due to mating trauma\", \"Importance\": \"Primary\", \"Count\": 2}, {\"Cause of death\": \"Gunshot\", \"Importance\": \"Primary\", \"Count\": 2}, {\"Cause of death\": \"Bacterial pneumonia\", \"Importance\": \"Primary\", \"Count\": 2}, {\"Cause of death\": \"Sepsis (unknown cause)\", \"Importance\": \"Primary\", \"Count\": 2}, {\"Cause of death\": \"Fungal pneumonia (Coccidioides immitis)\", \"Importance\": \"Primary\", \"Count\": 1}, {\"Cause of death\": \"Gill net drowning\", \"Importance\": \"Primary\", \"Count\": 1}, {\"Cause of death\": \"Delayed closure of foramen ovale\", \"Importance\": \"Primary\", \"Count\": 1}, {\"Cause of death\": \"Oiling\", \"Importance\": \"Primary\", \"Count\": 1}, {\"Cause of death\": \"Emaciation\", \"Importance\": \"Primary\", \"Count\": 0}, {\"Cause of death\": \"Peritonitis (unknown cause)\", \"Importance\": \"Primary\", \"Count\": 0}, {\"Cause of death\": \"Dental disease\", \"Importance\": \"Primary\", \"Count\": 0}, {\"Cause of death\": \"Acanthocephalan infection\", \"Importance\": \"Contributing\", \"Count\": 10}, {\"Cause of death\": \"Toxoplasma gondii encephalitis\", \"Importance\": \"Contributing\", \"Count\": 12}, {\"Cause of death\": \"Cardiac disease\", \"Importance\": \"Contributing\", \"Count\": 12}, {\"Cause of death\": \"Shark attack\", \"Importance\": \"Contributing\", \"Count\": 0}, {\"Cause of death\": \"Lacerations or trauma (unknown cause)\", \"Importance\": \"Contributing\", \"Count\": 0}, {\"Cause of death\": \"Sarcocystis neurona encephalitis\", \"Importance\": \"Contributing\", \"Count\": 0}, {\"Cause of death\": \"Encephalitis - unconfirmed cause\", \"Importance\": \"Contributing\", \"Count\": 7}, {\"Cause of death\": \"Other intestinal disease\", \"Importance\": \"Contributing\", \"Count\": 0}, {\"Cause of death\": \"Boat strike\", \"Importance\": \"Contributing\", \"Count\": 0}, {\"Cause of death\": \"Perinatal mortality\", \"Importance\": \"Contributing\", \"Count\": 0}, {\"Cause of death\": \"Starvation (early maternal separation)\", \"Importance\": \"Contributing\", \"Count\": 3}, {\"Cause of death\": \"Domoic acid intoxication\", \"Importance\": \"Contributing\", \"Count\": 1}, {\"Cause of death\": \"Bite wounds\", \"Importance\": \"Contributing\", \"Count\": 0}, {\"Cause of death\": \"Gastric ulceration\", \"Importance\": \"Contributing\", \"Count\": 7}, {\"Cause of death\": \"Nose wounds due to mating trauma\", \"Importance\": \"Contributing\", \"Count\": 9}, {\"Cause of death\": \"Gunshot\", \"Importance\": \"Contributing\", \"Count\": 1}, {\"Cause of death\": \"Bacterial pneumonia\", \"Importance\": \"Contributing\", \"Count\": 0}, {\"Cause of death\": \"Sepsis (unknown cause)\", \"Importance\": \"Contributing\", \"Count\": 0}, {\"Cause of death\": \"Fungal pneumonia (Coccidioides immitis)\", \"Importance\": \"Contributing\", \"Count\": 1}, {\"Cause of death\": \"Gill net drowning\", \"Importance\": \"Contributing\", \"Count\": 0}, {\"Cause of death\": \"Delayed closure of foramen ovale\", \"Importance\": \"Contributing\", \"Count\": 0}, {\"Cause of death\": \"Oiling\", \"Importance\": \"Contributing\", \"Count\": 0}, {\"Cause of death\": \"Emaciation\", \"Importance\": \"Contributing\", \"Count\": 16}, {\"Cause of death\": \"Peritonitis (unknown cause)\", \"Importance\": \"Contributing\", \"Count\": 3}, {\"Cause of death\": \"Dental disease\", \"Importance\": \"Contributing\", \"Count\": 3}]}}, {\"mode\": \"vega-lite\"});\n",
       "</script>"
      ],
      "text/plain": [
       "alt.Chart(...)"
      ]
     },
     "execution_count": 98,
     "metadata": {},
     "output_type": "execute_result"
    }
   ],
   "source": [
    "chart_title = 'The leading primary causes are Acanthocephalan infection and T. gondii encephalitis and the leading contributing cause is emaciation:\\n'\n",
    "alt.Chart(death_cause).mark_bar(opacity=0.4).encode(\n",
    "    x=alt.X('Cause of death', sort=None),\n",
    "    y=alt.Y('Count', stack=None),\n",
    "    color= alt.Color(\"Importance\", scale=alt.Scale(scheme='set1'), sort=['Primary', 'Contributing'])\n",
    ").properties(\n",
    "    title=chart_title.split(':')\n",
    ").configure_axis(\n",
    "    grid=False,\n",
    "    labelFontSize=12,\n",
    "    titleFontSize=12\n",
    ").configure_legend(\n",
    "    labelFontSize=12,\n",
    "    titleFontSize=12\n",
    ").configure_title(\n",
    "    fontSize=13\n",
    ")"
   ]
  },
  {
   "cell_type": "markdown",
   "metadata": {
    "id": "AuqTgjws75Il"
   },
   "source": [
    "The leading primary causes are acanthocephalan infection and T. gondii encephalitis. The second most common primary causes are cardiac disease and shark attack. The leading contributing cause is Emaciation. The second most common contributing diseases are T. gondii encephalitis and cardiac disease. We conclude that acanthocephalan infection, T. gondii encephalitis, and cardiac disease are the 3 most important causes of death because they are both very common primary causes and common contributing causes. While it may be challenging to reduce cardiac disease in sea otters, as disease happens naturally, we can direct our effort in preventing acanthocephalan infection and T. gondii encephalitis by identifying the sources of the parasites and protozoans and control their exposure to the environment that sea otters live in. \n",
    "\n",
    "Except for emaciation, peritonitis, and dental disease, all the other 22 causes are primary causes of death in some sea otters. It is likely that the other primary causes often lead to emaciation, as those causes have the potential of making sea otters very sick and weak. Among the 22 primary causes, only 3 causes are more often observed as contributing causes than as primary causes, including gastric ulceration, nose wounds due to mating trauma, and encephalitis-unconfirmed cause. It is worth noting that human disturbances are all primary causes of death in some sea otters, so it is still important to reduce mortality caused by these activities, although they killed fewer sea otters compared to the leading causes. "
   ]
  },
  {
   "cell_type": "markdown",
   "metadata": {
    "id": "HKuOFTs275Iq"
   },
   "source": [
    "Even though our results suggest that infection and disease account for most of the mortality cases and that the human disturbance is less of a threat, it is important to note that a lot of the infections are results of human disturbances. For example, protozoal infections such as the leading cause T. gondii encephalitis and S. neurona encephalitis may be caused by spillover of land-based pathogens [[1]](#References). As stated in a report [[1]](#References), the hosts of these protozoans are found to be felids and opossums and an expansion of domestic population of these animals can expose more pathogens to sea otters. Also, a decreased natural filter of watershed runoff can make the problem worse. Therefore, we need to put more conservational effort in controlling the population fo felids and opossums near the coastal area, as well as building natural filter of watershed runoff. Relating back to the stranding analysis, where we see more stranded sea otters in spring that may be due to infection of pathogens coming from opossums, these conservational effort may also help reduce stranded sea otter counts. "
   ]
  },
  {
   "cell_type": "markdown",
   "metadata": {
    "id": "rCjMaFOn75Il"
   },
   "source": [
    "### Are the leading primary causes of death different between genders?\n",
    "\n",
    "We next analyzed whether there is a difference in leading primary causes of death between different genders. Here we focus on the primary cause because the dataset provides sex distribution only for primary causes of death. "
   ]
  },
  {
   "cell_type": "code",
   "execution_count": 99,
   "metadata": {
    "id": "EXIjSTuF75Il",
    "outputId": "77a9aaee-13f6-4bbe-998a-0ba6ceffb6fb"
   },
   "outputs": [
    {
     "data": {
      "text/html": [
       "<div>\n",
       "<style scoped>\n",
       "    .dataframe tbody tr th:only-of-type {\n",
       "        vertical-align: middle;\n",
       "    }\n",
       "\n",
       "    .dataframe tbody tr th {\n",
       "        vertical-align: top;\n",
       "    }\n",
       "\n",
       "    .dataframe thead th {\n",
       "        text-align: right;\n",
       "    }\n",
       "</style>\n",
       "<table border=\"1\" class=\"dataframe\">\n",
       "  <thead>\n",
       "    <tr style=\"text-align: right;\">\n",
       "      <th></th>\n",
       "      <th>Cause of death</th>\n",
       "      <th>Gender</th>\n",
       "      <th>Count</th>\n",
       "    </tr>\n",
       "  </thead>\n",
       "  <tbody>\n",
       "    <tr>\n",
       "      <th>0</th>\n",
       "      <td>Acanthocephalan infection</td>\n",
       "      <td>Male</td>\n",
       "      <td>9</td>\n",
       "    </tr>\n",
       "    <tr>\n",
       "      <th>1</th>\n",
       "      <td>Toxoplasma gondii encephalitis</td>\n",
       "      <td>Male</td>\n",
       "      <td>11</td>\n",
       "    </tr>\n",
       "    <tr>\n",
       "      <th>2</th>\n",
       "      <td>Cardiac disease</td>\n",
       "      <td>Male</td>\n",
       "      <td>4</td>\n",
       "    </tr>\n",
       "    <tr>\n",
       "      <th>3</th>\n",
       "      <td>Shark attack</td>\n",
       "      <td>Male</td>\n",
       "      <td>6</td>\n",
       "    </tr>\n",
       "    <tr>\n",
       "      <th>4</th>\n",
       "      <td>Lacerations or trauma (unknown cause)</td>\n",
       "      <td>Male</td>\n",
       "      <td>6</td>\n",
       "    </tr>\n",
       "  </tbody>\n",
       "</table>\n",
       "</div>"
      ],
      "text/plain": [
       "                          Cause of death Gender  Count\n",
       "0              Acanthocephalan infection   Male      9\n",
       "1         Toxoplasma gondii encephalitis   Male     11\n",
       "2                        Cardiac disease   Male      4\n",
       "3                           Shark attack   Male      6\n",
       "4  Lacerations or trauma (unknown cause)   Male      6"
      ]
     },
     "execution_count": 99,
     "metadata": {},
     "output_type": "execute_result"
    }
   ],
   "source": [
    "# Create gender variable\n",
    "death_gender = pd.melt(mortality_df, id_vars = ['Cause of death'], value_vars = \"Male Female\".split(), var_name = 'Gender', value_name = 'Count')\n",
    "death_gender.head()"
   ]
  },
  {
   "cell_type": "code",
   "execution_count": 100,
   "metadata": {
    "id": "dVK-7FyY75Im",
    "outputId": "4759cd0c-0542-438a-e1d1-839295ff891c"
   },
   "outputs": [
    {
     "data": {
      "text/html": [
       "\n",
       "<div id=\"altair-viz-b13e39e29fe54c62b44608978a27541d\"></div>\n",
       "<script type=\"text/javascript\">\n",
       "  (function(spec, embedOpt){\n",
       "    let outputDiv = document.currentScript.previousElementSibling;\n",
       "    if (outputDiv.id !== \"altair-viz-b13e39e29fe54c62b44608978a27541d\") {\n",
       "      outputDiv = document.getElementById(\"altair-viz-b13e39e29fe54c62b44608978a27541d\");\n",
       "    }\n",
       "    const paths = {\n",
       "      \"vega\": \"https://cdn.jsdelivr.net/npm//vega@5?noext\",\n",
       "      \"vega-lib\": \"https://cdn.jsdelivr.net/npm//vega-lib?noext\",\n",
       "      \"vega-lite\": \"https://cdn.jsdelivr.net/npm//vega-lite@4.8.1?noext\",\n",
       "      \"vega-embed\": \"https://cdn.jsdelivr.net/npm//vega-embed@6?noext\",\n",
       "    };\n",
       "\n",
       "    function loadScript(lib) {\n",
       "      return new Promise(function(resolve, reject) {\n",
       "        var s = document.createElement('script');\n",
       "        s.src = paths[lib];\n",
       "        s.async = true;\n",
       "        s.onload = () => resolve(paths[lib]);\n",
       "        s.onerror = () => reject(`Error loading script: ${paths[lib]}`);\n",
       "        document.getElementsByTagName(\"head\")[0].appendChild(s);\n",
       "      });\n",
       "    }\n",
       "\n",
       "    function showError(err) {\n",
       "      outputDiv.innerHTML = `<div class=\"error\" style=\"color:red;\">${err}</div>`;\n",
       "      throw err;\n",
       "    }\n",
       "\n",
       "    function displayChart(vegaEmbed) {\n",
       "      vegaEmbed(outputDiv, spec, embedOpt)\n",
       "        .catch(err => showError(`Javascript Error: ${err.message}<br>This usually means there's a typo in your chart specification. See the javascript console for the full traceback.`));\n",
       "    }\n",
       "\n",
       "    if(typeof define === \"function\" && define.amd) {\n",
       "      requirejs.config({paths});\n",
       "      require([\"vega-embed\"], displayChart, err => showError(`Error loading script: ${err.message}`));\n",
       "    } else if (typeof vegaEmbed === \"function\") {\n",
       "      displayChart(vegaEmbed);\n",
       "    } else {\n",
       "      loadScript(\"vega\")\n",
       "        .then(() => loadScript(\"vega-lite\"))\n",
       "        .then(() => loadScript(\"vega-embed\"))\n",
       "        .catch(showError)\n",
       "        .then(() => displayChart(vegaEmbed));\n",
       "    }\n",
       "  })({\"config\": {\"view\": {\"continuousWidth\": 400, \"continuousHeight\": 300}, \"axis\": {\"grid\": false, \"labelFontSize\": 12, \"titleFontSize\": 12}, \"legend\": {\"labelFontSize\": 12, \"titleFontSize\": 12}, \"title\": {\"fontSize\": 13}}, \"data\": {\"name\": \"data-9e4eeded35502bb76137f0cc274990b2\"}, \"mark\": \"bar\", \"encoding\": {\"color\": {\"type\": \"nominal\", \"field\": \"Gender\", \"scale\": {\"scheme\": \"pastel1\"}}, \"column\": {\"type\": \"nominal\", \"field\": \"Gender\"}, \"x\": {\"type\": \"quantitative\", \"field\": \"Count\"}, \"y\": {\"type\": \"nominal\", \"field\": \"Cause of death\", \"sort\": null}}, \"title\": [\"The leading primary cause of death in females and males is cardiac disease and T. gondii encephalitis respectively\", \"\\n\\n\"], \"width\": 220, \"$schema\": \"https://vega.github.io/schema/vega-lite/v4.8.1.json\", \"datasets\": {\"data-9e4eeded35502bb76137f0cc274990b2\": [{\"Cause of death\": \"Acanthocephalan infection\", \"Gender\": \"Male\", \"Count\": 9}, {\"Cause of death\": \"Toxoplasma gondii encephalitis\", \"Gender\": \"Male\", \"Count\": 11}, {\"Cause of death\": \"Cardiac disease\", \"Gender\": \"Male\", \"Count\": 4}, {\"Cause of death\": \"Shark attack\", \"Gender\": \"Male\", \"Count\": 6}, {\"Cause of death\": \"Lacerations or trauma (unknown cause)\", \"Gender\": \"Male\", \"Count\": 6}, {\"Cause of death\": \"Sarcocystis neurona encephalitis\", \"Gender\": \"Male\", \"Count\": 4}, {\"Cause of death\": \"Encephalitis - unconfirmed cause\", \"Gender\": \"Male\", \"Count\": 1}, {\"Cause of death\": \"Other intestinal disease\", \"Gender\": \"Male\", \"Count\": 3}, {\"Cause of death\": \"Boat strike\", \"Gender\": \"Male\", \"Count\": 5}, {\"Cause of death\": \"Perinatal mortality\", \"Gender\": \"Male\", \"Count\": 3}, {\"Cause of death\": \"Starvation (early maternal separation)\", \"Gender\": \"Male\", \"Count\": 1}, {\"Cause of death\": \"Domoic acid intoxication\", \"Gender\": \"Male\", \"Count\": 3}, {\"Cause of death\": \"Bite wounds\", \"Gender\": \"Male\", \"Count\": 2}, {\"Cause of death\": \"Gastric ulceration\", \"Gender\": \"Male\", \"Count\": 1}, {\"Cause of death\": \"Nose wounds due to mating trauma\", \"Gender\": \"Male\", \"Count\": 0}, {\"Cause of death\": \"Gunshot\", \"Gender\": \"Male\", \"Count\": 2}, {\"Cause of death\": \"Bacterial pneumonia\", \"Gender\": \"Male\", \"Count\": 0}, {\"Cause of death\": \"Sepsis (unknown cause)\", \"Gender\": \"Male\", \"Count\": 2}, {\"Cause of death\": \"Fungal pneumonia (Coccidioides immitis)\", \"Gender\": \"Male\", \"Count\": 1}, {\"Cause of death\": \"Gill net drowning\", \"Gender\": \"Male\", \"Count\": 1}, {\"Cause of death\": \"Delayed closure of foramen ovale\", \"Gender\": \"Male\", \"Count\": 1}, {\"Cause of death\": \"Oiling\", \"Gender\": \"Male\", \"Count\": 1}, {\"Cause of death\": \"Emaciation\", \"Gender\": \"Male\", \"Count\": 0}, {\"Cause of death\": \"Peritonitis (unknown cause)\", \"Gender\": \"Male\", \"Count\": 0}, {\"Cause of death\": \"Dental disease\", \"Gender\": \"Male\", \"Count\": 0}, {\"Cause of death\": \"Acanthocephalan infection\", \"Gender\": \"Female\", \"Count\": 8}, {\"Cause of death\": \"Toxoplasma gondii encephalitis\", \"Gender\": \"Female\", \"Count\": 6}, {\"Cause of death\": \"Cardiac disease\", \"Gender\": \"Female\", \"Count\": 10}, {\"Cause of death\": \"Shark attack\", \"Gender\": \"Female\", \"Count\": 8}, {\"Cause of death\": \"Lacerations or trauma (unknown cause)\", \"Gender\": \"Female\", \"Count\": 2}, {\"Cause of death\": \"Sarcocystis neurona encephalitis\", \"Gender\": \"Female\", \"Count\": 3}, {\"Cause of death\": \"Encephalitis - unconfirmed cause\", \"Gender\": \"Female\", \"Count\": 4}, {\"Cause of death\": \"Other intestinal disease\", \"Gender\": \"Female\", \"Count\": 2}, {\"Cause of death\": \"Boat strike\", \"Gender\": \"Female\", \"Count\": 0}, {\"Cause of death\": \"Perinatal mortality\", \"Gender\": \"Female\", \"Count\": 1}, {\"Cause of death\": \"Starvation (early maternal separation)\", \"Gender\": \"Female\", \"Count\": 3}, {\"Cause of death\": \"Domoic acid intoxication\", \"Gender\": \"Female\", \"Count\": 1}, {\"Cause of death\": \"Bite wounds\", \"Gender\": \"Female\", \"Count\": 1}, {\"Cause of death\": \"Gastric ulceration\", \"Gender\": \"Female\", \"Count\": 1}, {\"Cause of death\": \"Nose wounds due to mating trauma\", \"Gender\": \"Female\", \"Count\": 2}, {\"Cause of death\": \"Gunshot\", \"Gender\": \"Female\", \"Count\": 0}, {\"Cause of death\": \"Bacterial pneumonia\", \"Gender\": \"Female\", \"Count\": 2}, {\"Cause of death\": \"Sepsis (unknown cause)\", \"Gender\": \"Female\", \"Count\": 0}, {\"Cause of death\": \"Fungal pneumonia (Coccidioides immitis)\", \"Gender\": \"Female\", \"Count\": 0}, {\"Cause of death\": \"Gill net drowning\", \"Gender\": \"Female\", \"Count\": 0}, {\"Cause of death\": \"Delayed closure of foramen ovale\", \"Gender\": \"Female\", \"Count\": 0}, {\"Cause of death\": \"Oiling\", \"Gender\": \"Female\", \"Count\": 0}, {\"Cause of death\": \"Emaciation\", \"Gender\": \"Female\", \"Count\": 0}, {\"Cause of death\": \"Peritonitis (unknown cause)\", \"Gender\": \"Female\", \"Count\": 0}, {\"Cause of death\": \"Dental disease\", \"Gender\": \"Female\", \"Count\": 0}]}}, {\"mode\": \"vega-lite\"});\n",
       "</script>"
      ],
      "text/plain": [
       "alt.Chart(...)"
      ]
     },
     "execution_count": 100,
     "metadata": {},
     "output_type": "execute_result"
    }
   ],
   "source": [
    "chart_title = 'The leading primary cause of death in females and males is cardiac disease and T. gondii encephalitis respectively:\\n\\n'\n",
    "alt.Chart(death_gender).mark_bar().encode(\n",
    "    column='Gender',\n",
    "    x='Count',\n",
    "    y=alt.Y('Cause of death', sort=None),\n",
    "    color=alt.Color(\"Gender\", scale=alt.Scale(scheme='pastel1'))\n",
    ").properties(\n",
    "    title=chart_title.split(':'),\n",
    "    width=220\n",
    ").configure_axis(\n",
    "    grid=False,\n",
    "    labelFontSize=12,\n",
    "    titleFontSize=12\n",
    ").configure_legend(\n",
    "    labelFontSize=12,\n",
    "    titleFontSize=12\n",
    ").configure_title(\n",
    "    fontSize=13\n",
    ")"
   ]
  },
  {
   "cell_type": "markdown",
   "metadata": {
    "id": "icgibM4I75Im"
   },
   "source": [
    "The leading primary cause of death in females and males is cardiac disease and T. gondii encephalitis respectively. While shark attack, acanthocephalan infection, and T.gondii encephalitis are common causes in both genders, we see more males dying from lacerations or trauma and more females dying from cardiac disease. Our reasoning for observing more deaths caused by lacerations or trauma and T. gondii encephalitis in males is that males may be more aggressive and so more injuries. The wounds are then prone to infections including T. gondii encephalitis, which killed the sea otter. This reasoning is consistent with the result that there are fewer deaths caused by injuries and infection in females compared to males. Our reasoning for observing more deaths caused by cardiac disease in females actually comes from our next analysis about leading primary cause of death in different age classes. Our result suggesting that cardiac disease contribute to death mostly in adults and aged adults, along with the fact that males (10-15 year lifespan) usually live shorter than females (15-20 year lifespan) seems to explain why we see more death caused by cardiac disease in females.\n",
    "\n",
    "The primary causes of death for males are more diverse than females. Interestingly, we only see mortality in males primarily caused by human disturbance (boat strike, gunshot, oiling, gill net drowning). This may be because the sample size is small and this result just happened by chance. There could be other hypotheses, such as males being more active than female and therefore, more often seen or affected by humans, but we need more data for validation.\n",
    "\n",
    "It is not surprising to observe nose wounds due to mating trauma only in females, as males can behave aggressive during mating to subdue females."
   ]
  },
  {
   "cell_type": "markdown",
   "metadata": {
    "id": "iaTSEXVV75Im"
   },
   "source": [
    "### What is the leading primary cause of death in different age classes?\n",
    "\n",
    "We next analyzed whether there is a difference in primary cause of death between different age classes. Again, we focus on the primary cause because the dataset provides age class distribution only for primary causes of death. \n",
    "\n",
    "The age classes of sea otters are defined as follows according to the report from which we extracted the dataset [[1]](#References):\n",
    "```\n",
    "- Juvenile: < 1 year\n",
    "- Subadult: 1-3 years\n",
    "- Adult: 4-9 years\n",
    "- Aged adults: >= 10 years\n",
    "```"
   ]
  },
  {
   "cell_type": "code",
   "execution_count": 101,
   "metadata": {
    "id": "hx5-EAGA75Im",
    "outputId": "3526a320-3a56-4ae9-bd1f-b934244dcef1"
   },
   "outputs": [
    {
     "data": {
      "text/html": [
       "<div>\n",
       "<style scoped>\n",
       "    .dataframe tbody tr th:only-of-type {\n",
       "        vertical-align: middle;\n",
       "    }\n",
       "\n",
       "    .dataframe tbody tr th {\n",
       "        vertical-align: top;\n",
       "    }\n",
       "\n",
       "    .dataframe thead th {\n",
       "        text-align: right;\n",
       "    }\n",
       "</style>\n",
       "<table border=\"1\" class=\"dataframe\">\n",
       "  <thead>\n",
       "    <tr style=\"text-align: right;\">\n",
       "      <th></th>\n",
       "      <th>Cause of death</th>\n",
       "      <th>Age class</th>\n",
       "      <th>Count</th>\n",
       "    </tr>\n",
       "  </thead>\n",
       "  <tbody>\n",
       "    <tr>\n",
       "      <th>0</th>\n",
       "      <td>Acanthocephalan infection</td>\n",
       "      <td>Juvenile</td>\n",
       "      <td>9</td>\n",
       "    </tr>\n",
       "    <tr>\n",
       "      <th>1</th>\n",
       "      <td>Toxoplasma gondii encephalitis</td>\n",
       "      <td>Juvenile</td>\n",
       "      <td>4</td>\n",
       "    </tr>\n",
       "    <tr>\n",
       "      <th>2</th>\n",
       "      <td>Cardiac disease</td>\n",
       "      <td>Juvenile</td>\n",
       "      <td>0</td>\n",
       "    </tr>\n",
       "    <tr>\n",
       "      <th>3</th>\n",
       "      <td>Shark attack</td>\n",
       "      <td>Juvenile</td>\n",
       "      <td>1</td>\n",
       "    </tr>\n",
       "    <tr>\n",
       "      <th>4</th>\n",
       "      <td>Lacerations or trauma (unknown cause)</td>\n",
       "      <td>Juvenile</td>\n",
       "      <td>2</td>\n",
       "    </tr>\n",
       "  </tbody>\n",
       "</table>\n",
       "</div>"
      ],
      "text/plain": [
       "                          Cause of death Age class  Count\n",
       "0              Acanthocephalan infection  Juvenile      9\n",
       "1         Toxoplasma gondii encephalitis  Juvenile      4\n",
       "2                        Cardiac disease  Juvenile      0\n",
       "3                           Shark attack  Juvenile      1\n",
       "4  Lacerations or trauma (unknown cause)  Juvenile      2"
      ]
     },
     "execution_count": 101,
     "metadata": {},
     "output_type": "execute_result"
    }
   ],
   "source": [
    "# Create Age Class variable\n",
    "death_age = pd.melt(mortality_df, id_vars = ['Cause of death'], value_vars = [\"Juvenile\", \"Subadult\", \"Adult\", \"Aged adult\"], var_name = 'Age class', value_name = 'Count')\n",
    "death_age.head()"
   ]
  },
  {
   "cell_type": "code",
   "execution_count": 102,
   "metadata": {
    "id": "G_d2Himn75In",
    "outputId": "4ce86ea4-aa96-458b-f393-66ccd74746c8"
   },
   "outputs": [
    {
     "data": {
      "text/html": [
       "\n",
       "<div id=\"altair-viz-87c766b115f547668c9e3736fba196f5\"></div>\n",
       "<script type=\"text/javascript\">\n",
       "  (function(spec, embedOpt){\n",
       "    let outputDiv = document.currentScript.previousElementSibling;\n",
       "    if (outputDiv.id !== \"altair-viz-87c766b115f547668c9e3736fba196f5\") {\n",
       "      outputDiv = document.getElementById(\"altair-viz-87c766b115f547668c9e3736fba196f5\");\n",
       "    }\n",
       "    const paths = {\n",
       "      \"vega\": \"https://cdn.jsdelivr.net/npm//vega@5?noext\",\n",
       "      \"vega-lib\": \"https://cdn.jsdelivr.net/npm//vega-lib?noext\",\n",
       "      \"vega-lite\": \"https://cdn.jsdelivr.net/npm//vega-lite@4.8.1?noext\",\n",
       "      \"vega-embed\": \"https://cdn.jsdelivr.net/npm//vega-embed@6?noext\",\n",
       "    };\n",
       "\n",
       "    function loadScript(lib) {\n",
       "      return new Promise(function(resolve, reject) {\n",
       "        var s = document.createElement('script');\n",
       "        s.src = paths[lib];\n",
       "        s.async = true;\n",
       "        s.onload = () => resolve(paths[lib]);\n",
       "        s.onerror = () => reject(`Error loading script: ${paths[lib]}`);\n",
       "        document.getElementsByTagName(\"head\")[0].appendChild(s);\n",
       "      });\n",
       "    }\n",
       "\n",
       "    function showError(err) {\n",
       "      outputDiv.innerHTML = `<div class=\"error\" style=\"color:red;\">${err}</div>`;\n",
       "      throw err;\n",
       "    }\n",
       "\n",
       "    function displayChart(vegaEmbed) {\n",
       "      vegaEmbed(outputDiv, spec, embedOpt)\n",
       "        .catch(err => showError(`Javascript Error: ${err.message}<br>This usually means there's a typo in your chart specification. See the javascript console for the full traceback.`));\n",
       "    }\n",
       "\n",
       "    if(typeof define === \"function\" && define.amd) {\n",
       "      requirejs.config({paths});\n",
       "      require([\"vega-embed\"], displayChart, err => showError(`Error loading script: ${err.message}`));\n",
       "    } else if (typeof vegaEmbed === \"function\") {\n",
       "      displayChart(vegaEmbed);\n",
       "    } else {\n",
       "      loadScript(\"vega\")\n",
       "        .then(() => loadScript(\"vega-lite\"))\n",
       "        .then(() => loadScript(\"vega-embed\"))\n",
       "        .catch(showError)\n",
       "        .then(() => displayChart(vegaEmbed));\n",
       "    }\n",
       "  })({\"config\": {\"view\": {\"continuousWidth\": 400, \"continuousHeight\": 300}, \"axis\": {\"grid\": false, \"labelFontSize\": 12, \"titleFontSize\": 12}, \"legend\": {\"labelFontSize\": 12, \"titleFontSize\": 12}, \"title\": {\"fontSize\": 13}}, \"data\": {\"name\": \"data-dacf3c592f6e6a84911b6c5134df536f\"}, \"mark\": \"bar\", \"encoding\": {\"color\": {\"type\": \"nominal\", \"field\": \"Age class\", \"scale\": {\"scheme\": \"set2\"}}, \"column\": {\"type\": \"nominal\", \"field\": \"Age class\", \"sort\": [\"Juvenile\", \"Subadult\", \"Adult\", \"Aged adult\"]}, \"x\": {\"type\": \"quantitative\", \"field\": \"Count\"}, \"y\": {\"type\": \"nominal\", \"field\": \"Cause of death\", \"sort\": null}}, \"title\": [\"The leading primary cause of death is acanthocephalan infection in juveniles, T. gondii encephalitis and shark attack in subadults, and cardiac disease in adults and aged adults\", \"\\n\\n\"], \"width\": 200, \"$schema\": \"https://vega.github.io/schema/vega-lite/v4.8.1.json\", \"datasets\": {\"data-dacf3c592f6e6a84911b6c5134df536f\": [{\"Cause of death\": \"Acanthocephalan infection\", \"Age class\": \"Juvenile\", \"Count\": 9}, {\"Cause of death\": \"Toxoplasma gondii encephalitis\", \"Age class\": \"Juvenile\", \"Count\": 4}, {\"Cause of death\": \"Cardiac disease\", \"Age class\": \"Juvenile\", \"Count\": 0}, {\"Cause of death\": \"Shark attack\", \"Age class\": \"Juvenile\", \"Count\": 1}, {\"Cause of death\": \"Lacerations or trauma (unknown cause)\", \"Age class\": \"Juvenile\", \"Count\": 2}, {\"Cause of death\": \"Sarcocystis neurona encephalitis\", \"Age class\": \"Juvenile\", \"Count\": 3}, {\"Cause of death\": \"Encephalitis - unconfirmed cause\", \"Age class\": \"Juvenile\", \"Count\": 2}, {\"Cause of death\": \"Other intestinal disease\", \"Age class\": \"Juvenile\", \"Count\": 2}, {\"Cause of death\": \"Boat strike\", \"Age class\": \"Juvenile\", \"Count\": 1}, {\"Cause of death\": \"Perinatal mortality\", \"Age class\": \"Juvenile\", \"Count\": 4}, {\"Cause of death\": \"Starvation (early maternal separation)\", \"Age class\": \"Juvenile\", \"Count\": 4}, {\"Cause of death\": \"Domoic acid intoxication\", \"Age class\": \"Juvenile\", \"Count\": 0}, {\"Cause of death\": \"Bite wounds\", \"Age class\": \"Juvenile\", \"Count\": 0}, {\"Cause of death\": \"Gastric ulceration\", \"Age class\": \"Juvenile\", \"Count\": 0}, {\"Cause of death\": \"Nose wounds due to mating trauma\", \"Age class\": \"Juvenile\", \"Count\": 0}, {\"Cause of death\": \"Gunshot\", \"Age class\": \"Juvenile\", \"Count\": 0}, {\"Cause of death\": \"Bacterial pneumonia\", \"Age class\": \"Juvenile\", \"Count\": 0}, {\"Cause of death\": \"Sepsis (unknown cause)\", \"Age class\": \"Juvenile\", \"Count\": 0}, {\"Cause of death\": \"Fungal pneumonia (Coccidioides immitis)\", \"Age class\": \"Juvenile\", \"Count\": 0}, {\"Cause of death\": \"Gill net drowning\", \"Age class\": \"Juvenile\", \"Count\": 0}, {\"Cause of death\": \"Delayed closure of foramen ovale\", \"Age class\": \"Juvenile\", \"Count\": 1}, {\"Cause of death\": \"Oiling\", \"Age class\": \"Juvenile\", \"Count\": 0}, {\"Cause of death\": \"Emaciation\", \"Age class\": \"Juvenile\", \"Count\": 0}, {\"Cause of death\": \"Peritonitis (unknown cause)\", \"Age class\": \"Juvenile\", \"Count\": 0}, {\"Cause of death\": \"Dental disease\", \"Age class\": \"Juvenile\", \"Count\": 0}, {\"Cause of death\": \"Acanthocephalan infection\", \"Age class\": \"Subadult\", \"Count\": 2}, {\"Cause of death\": \"Toxoplasma gondii encephalitis\", \"Age class\": \"Subadult\", \"Count\": 4}, {\"Cause of death\": \"Cardiac disease\", \"Age class\": \"Subadult\", \"Count\": 1}, {\"Cause of death\": \"Shark attack\", \"Age class\": \"Subadult\", \"Count\": 4}, {\"Cause of death\": \"Lacerations or trauma (unknown cause)\", \"Age class\": \"Subadult\", \"Count\": 0}, {\"Cause of death\": \"Sarcocystis neurona encephalitis\", \"Age class\": \"Subadult\", \"Count\": 2}, {\"Cause of death\": \"Encephalitis - unconfirmed cause\", \"Age class\": \"Subadult\", \"Count\": 0}, {\"Cause of death\": \"Other intestinal disease\", \"Age class\": \"Subadult\", \"Count\": 2}, {\"Cause of death\": \"Boat strike\", \"Age class\": \"Subadult\", \"Count\": 0}, {\"Cause of death\": \"Perinatal mortality\", \"Age class\": \"Subadult\", \"Count\": 0}, {\"Cause of death\": \"Starvation (early maternal separation)\", \"Age class\": \"Subadult\", \"Count\": 0}, {\"Cause of death\": \"Domoic acid intoxication\", \"Age class\": \"Subadult\", \"Count\": 0}, {\"Cause of death\": \"Bite wounds\", \"Age class\": \"Subadult\", \"Count\": 0}, {\"Cause of death\": \"Gastric ulceration\", \"Age class\": \"Subadult\", \"Count\": 0}, {\"Cause of death\": \"Nose wounds due to mating trauma\", \"Age class\": \"Subadult\", \"Count\": 0}, {\"Cause of death\": \"Gunshot\", \"Age class\": \"Subadult\", \"Count\": 0}, {\"Cause of death\": \"Bacterial pneumonia\", \"Age class\": \"Subadult\", \"Count\": 0}, {\"Cause of death\": \"Sepsis (unknown cause)\", \"Age class\": \"Subadult\", \"Count\": 0}, {\"Cause of death\": \"Fungal pneumonia (Coccidioides immitis)\", \"Age class\": \"Subadult\", \"Count\": 0}, {\"Cause of death\": \"Gill net drowning\", \"Age class\": \"Subadult\", \"Count\": 0}, {\"Cause of death\": \"Delayed closure of foramen ovale\", \"Age class\": \"Subadult\", \"Count\": 0}, {\"Cause of death\": \"Oiling\", \"Age class\": \"Subadult\", \"Count\": 0}, {\"Cause of death\": \"Emaciation\", \"Age class\": \"Subadult\", \"Count\": 0}, {\"Cause of death\": \"Peritonitis (unknown cause)\", \"Age class\": \"Subadult\", \"Count\": 0}, {\"Cause of death\": \"Dental disease\", \"Age class\": \"Subadult\", \"Count\": 0}, {\"Cause of death\": \"Acanthocephalan infection\", \"Age class\": \"Adult\", \"Count\": 6}, {\"Cause of death\": \"Toxoplasma gondii encephalitis\", \"Age class\": \"Adult\", \"Count\": 7}, {\"Cause of death\": \"Cardiac disease\", \"Age class\": \"Adult\", \"Count\": 9}, {\"Cause of death\": \"Shark attack\", \"Age class\": \"Adult\", \"Count\": 8}, {\"Cause of death\": \"Lacerations or trauma (unknown cause)\", \"Age class\": \"Adult\", \"Count\": 5}, {\"Cause of death\": \"Sarcocystis neurona encephalitis\", \"Age class\": \"Adult\", \"Count\": 1}, {\"Cause of death\": \"Encephalitis - unconfirmed cause\", \"Age class\": \"Adult\", \"Count\": 3}, {\"Cause of death\": \"Other intestinal disease\", \"Age class\": \"Adult\", \"Count\": 1}, {\"Cause of death\": \"Boat strike\", \"Age class\": \"Adult\", \"Count\": 2}, {\"Cause of death\": \"Perinatal mortality\", \"Age class\": \"Adult\", \"Count\": 0}, {\"Cause of death\": \"Starvation (early maternal separation)\", \"Age class\": \"Adult\", \"Count\": 0}, {\"Cause of death\": \"Domoic acid intoxication\", \"Age class\": \"Adult\", \"Count\": 3}, {\"Cause of death\": \"Bite wounds\", \"Age class\": \"Adult\", \"Count\": 2}, {\"Cause of death\": \"Gastric ulceration\", \"Age class\": \"Adult\", \"Count\": 2}, {\"Cause of death\": \"Nose wounds due to mating trauma\", \"Age class\": \"Adult\", \"Count\": 2}, {\"Cause of death\": \"Gunshot\", \"Age class\": \"Adult\", \"Count\": 2}, {\"Cause of death\": \"Bacterial pneumonia\", \"Age class\": \"Adult\", \"Count\": 2}, {\"Cause of death\": \"Sepsis (unknown cause)\", \"Age class\": \"Adult\", \"Count\": 1}, {\"Cause of death\": \"Fungal pneumonia (Coccidioides immitis)\", \"Age class\": \"Adult\", \"Count\": 1}, {\"Cause of death\": \"Gill net drowning\", \"Age class\": \"Adult\", \"Count\": 1}, {\"Cause of death\": \"Delayed closure of foramen ovale\", \"Age class\": \"Adult\", \"Count\": 0}, {\"Cause of death\": \"Oiling\", \"Age class\": \"Adult\", \"Count\": 0}, {\"Cause of death\": \"Emaciation\", \"Age class\": \"Adult\", \"Count\": 0}, {\"Cause of death\": \"Peritonitis (unknown cause)\", \"Age class\": \"Adult\", \"Count\": 0}, {\"Cause of death\": \"Dental disease\", \"Age class\": \"Adult\", \"Count\": 0}, {\"Cause of death\": \"Acanthocephalan infection\", \"Age class\": \"Aged adult\", \"Count\": 0}, {\"Cause of death\": \"Toxoplasma gondii encephalitis\", \"Age class\": \"Aged adult\", \"Count\": 2}, {\"Cause of death\": \"Cardiac disease\", \"Age class\": \"Aged adult\", \"Count\": 4}, {\"Cause of death\": \"Shark attack\", \"Age class\": \"Aged adult\", \"Count\": 1}, {\"Cause of death\": \"Lacerations or trauma (unknown cause)\", \"Age class\": \"Aged adult\", \"Count\": 1}, {\"Cause of death\": \"Sarcocystis neurona encephalitis\", \"Age class\": \"Aged adult\", \"Count\": 1}, {\"Cause of death\": \"Encephalitis - unconfirmed cause\", \"Age class\": \"Aged adult\", \"Count\": 0}, {\"Cause of death\": \"Other intestinal disease\", \"Age class\": \"Aged adult\", \"Count\": 0}, {\"Cause of death\": \"Boat strike\", \"Age class\": \"Aged adult\", \"Count\": 2}, {\"Cause of death\": \"Perinatal mortality\", \"Age class\": \"Aged adult\", \"Count\": 0}, {\"Cause of death\": \"Starvation (early maternal separation)\", \"Age class\": \"Aged adult\", \"Count\": 0}, {\"Cause of death\": \"Domoic acid intoxication\", \"Age class\": \"Aged adult\", \"Count\": 1}, {\"Cause of death\": \"Bite wounds\", \"Age class\": \"Aged adult\", \"Count\": 1}, {\"Cause of death\": \"Gastric ulceration\", \"Age class\": \"Aged adult\", \"Count\": 0}, {\"Cause of death\": \"Nose wounds due to mating trauma\", \"Age class\": \"Aged adult\", \"Count\": 0}, {\"Cause of death\": \"Gunshot\", \"Age class\": \"Aged adult\", \"Count\": 0}, {\"Cause of death\": \"Bacterial pneumonia\", \"Age class\": \"Aged adult\", \"Count\": 0}, {\"Cause of death\": \"Sepsis (unknown cause)\", \"Age class\": \"Aged adult\", \"Count\": 1}, {\"Cause of death\": \"Fungal pneumonia (Coccidioides immitis)\", \"Age class\": \"Aged adult\", \"Count\": 0}, {\"Cause of death\": \"Gill net drowning\", \"Age class\": \"Aged adult\", \"Count\": 0}, {\"Cause of death\": \"Delayed closure of foramen ovale\", \"Age class\": \"Aged adult\", \"Count\": 0}, {\"Cause of death\": \"Oiling\", \"Age class\": \"Aged adult\", \"Count\": 1}, {\"Cause of death\": \"Emaciation\", \"Age class\": \"Aged adult\", \"Count\": 0}, {\"Cause of death\": \"Peritonitis (unknown cause)\", \"Age class\": \"Aged adult\", \"Count\": 0}, {\"Cause of death\": \"Dental disease\", \"Age class\": \"Aged adult\", \"Count\": 0}]}}, {\"mode\": \"vega-lite\"});\n",
       "</script>"
      ],
      "text/plain": [
       "alt.Chart(...)"
      ]
     },
     "execution_count": 102,
     "metadata": {},
     "output_type": "execute_result"
    }
   ],
   "source": [
    "chart_title = 'The leading primary cause of death is acanthocephalan infection in juveniles, T. gondii encephalitis and shark attack in subadults, and cardiac disease in adults and aged adults:\\n\\n'\n",
    "alt.Chart(death_age).mark_bar().encode(\n",
    "    column=alt.Column('Age class', sort=[\"Juvenile\", \"Subadult\", \"Adult\", \"Aged adult\"]),\n",
    "    x='Count',\n",
    "    y=alt.Y('Cause of death', sort=None),\n",
    "    color=alt.Color(\"Age class\", scale=alt.Scale(scheme='set2'))\n",
    ").properties(\n",
    "    title=chart_title.split(':'),\n",
    "    width=200\n",
    ").configure_axis(\n",
    "    grid=False,\n",
    "    labelFontSize=12,\n",
    "    titleFontSize=12\n",
    ").configure_legend(\n",
    "    labelFontSize=12,\n",
    "    titleFontSize=12\n",
    ").configure_title(\n",
    "    fontSize=13\n",
    ")"
   ]
  },
  {
   "cell_type": "markdown",
   "metadata": {
    "id": "GQHvEQXY75In"
   },
   "source": [
    "The leading primary cause of death is acanthocephalan infection in juveniles, T.godii encephalitis and shark attack in subadults, cardiac disease in both adults and aged adults. In other words, the result suggests that generally younger sea otters are more threatened by infection and older sea otterse are more threatened by disease. \n",
    "\n",
    "There are more diverse primary causes of death seen in adults. This result may be due to the fact that 46.7% of the 105 dead sea otters are adults, as mentioned in the report [[1]](#References), or there may be some adult-specific characteristics or behaviors that make them more susceptible to a wider range of causes of death. More data will be needed for further analysis.\n",
    "\n",
    "As juveniles and subadults are especially susceptible to infections, we would like to stress again that more conservational effort is needed in controlling the population of felids and opossums near the coastal area, as well as building natural filter of watershed runoff. "
   ]
  },
  {
   "cell_type": "markdown",
   "metadata": {
    "id": "-LgERvGT75Iq"
   },
   "source": [
    "## References\n",
    "\n",
    "1. <a href=\"https://pubmed.ncbi.nlm.nih.gov/14567210/\" target=\"_blank\">Patterns of mortality in southern sea otters 1998-2001</a>\n",
    "2. <a href=\"https://www.fws.gov/ventura/endangered/species/info/sso.html\" target=\"_blank\">Endangered Speceis</a>\n",
    "3. <a href=\"https://seaworld.org/animals/all-about/otters/care-of-young/\" target=\"_blank\">Seaworld - Sea Otter</a>\n",
    "4. <a href=\"https://animaldiversity.org/accounts/Enhydra_lutris/\" target=\"_blank\">Enhydra_lutris</a>\n",
    "5. <a href=\"https://www.iucnredlist.org/fr/species/7750/21939518#habitat-ecology\" target=\"_blank\">IUCN Red List</a>\n",
    "6. <a href=\"https://interworks.com/blog/kallenspach/2019/04/09/save-the-sea-otters-data-viz/\" target=\"_blank\">Save the sea otters data vizualization</a>\n",
    "7. <a href=\"https://www.seaottersavvy.org/ecosystem-superheroes#:~:text=Sea%20urchins%20are%20herbivores%20and,on%20kelp%20until%20little%20remains.&text=This%20type%20of%20relationship%20between,known%20as%20a%20trophic%20cascade.\" target=\"_blank\">Sea otter ecosystem</a>\n",
    "8. <a href=\"https://www.usgs.gov/centers/werc/science/california-sea-otter-stranding-network?qt-science_center_objects=0#qt-science_center_objects\" target=\"_blank\">California sea otter stranding network</a>\n",
    "9. <a href=\"https://www.iucnredlist.org/resources/summary-sheet\" target=\"_blank\">IUCN summary sheet</a>"
   ]
  },
  {
   "cell_type": "code",
   "execution_count": null,
   "metadata": {},
   "outputs": [],
   "source": []
  }
 ],
 "metadata": {
  "colab": {
   "name": "final_v1.ipynb",
   "provenance": []
  },
  "kernelspec": {
   "display_name": "Python 3",
   "language": "python",
   "name": "python3"
  },
  "language_info": {
   "codemirror_mode": {
    "name": "ipython",
    "version": 3
   },
   "file_extension": ".py",
   "mimetype": "text/x-python",
   "name": "python",
   "nbconvert_exporter": "python",
   "pygments_lexer": "ipython3",
   "version": "3.8.5"
  }
 },
 "nbformat": 4,
 "nbformat_minor": 4
}
