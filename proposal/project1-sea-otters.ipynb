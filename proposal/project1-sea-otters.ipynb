{
 "cells": [
  {
   "cell_type": "markdown",
   "metadata": {},
   "source": [
    "## 95885 Project 1: Sea Otters Population and Conservation\n",
    "##### Jui-Chia Chung: juichiac\n",
    "##### Aman Mohanty: amanmoha"
   ]
  },
  {
   "cell_type": "markdown",
   "metadata": {},
   "source": [
    "### Motivation\n",
    "Sea otters are incredibly adorable and they are important for maintaining a balanced nearshore ecosystem, such as kelp forest. However, sea otters are currently on the IUCN Red List of Endangered Species based on past large-scale population declines and the population continues to decrease. Moreover, the subspecies of sea otters found in Washington and California are listed as threatened. Besides predators and infectious diseases, human activities such as oil spills are polluting sea otters’ natural habitat and posing more threats. We are interested in exploring the conditions of sea otters, such as their population trend and stranding and death cases to better understand how well the population is doing, both chronologically and geographically. By understanding the conditions, we can make better conservation decisions. \n"
   ]
  },
  {
   "cell_type": "markdown",
   "metadata": {},
   "source": [
    "### Related work\n",
    "We love cute sea otters! Watching sea otters videos is an awesome remedy during stressful times. There are videos talking about how sea otters are losing their habitats, so we want to know more about their conditions and what we can do to protect them.   "
   ]
  },
  {
   "cell_type": "markdown",
   "metadata": {},
   "source": [
    "### Data\n",
    "*Note: row counts include the title.*\n",
    "\n",
    "*Other websites using the data:* \n",
    "https://interworks.com/blog/kallenspach/2019/04/09/save-the-sea-otters-data-viz/ \n",
    "\n",
    "1. [Summary of stranded southern sea otters, 1985-2017](https://www.sciencebase.gov/catalog/item/598e1cf6e4b09fa1cb14e184) includes 3 tables in .csv format. \n",
    "Table 1: 16 columns, 34 rows. Columns are year, total count, and various locations.\n",
    "Table 2: 20 columns, 34 rows. Columns are year, total count and various life stages for different genders (Female, Male, Unknown). \n",
    "Table 3: 15 columns, 198 rows. Columns are year, age groups and months.\n",
    "All the tables are tidy and clean.\n",
    "\n",
    "2. [Annual California Sea Otter Census - 1985-2014 Spring Census Summary](https://www.sciencebase.gov/catalog/item/5a32d390e4b08e6a89d88583) is tidy and clean and has 17 columns and 53,781 rows. Columns include perimeter, area, zone code, linear density, area density, 5 year trend, and so on. It also has PDF reports each year from which the raw counts of census data can be extracted.\n",
    "\n",
    "3. [Southern Sea Otter (Enhydra lutris nereis) Population Biology at Big Sur and Monterey, California—Investigating the Consequences of Resource Abundance and Anthropogenic Stressors for Sea Otter Recovery](https://pubs.usgs.gov/of/2019/1022/ofr20191022.pdf)  is a PDF report from which many data tables can be extracted. For example, table 36 is an overview of implant history, and primary and contributing causes of death for tagged, necropsied sea otters from Monterey Peninsula and Big Sur coast study sites, central California. This table is tidy and has 7 columns and 18 rows.\n",
    "\n",
    "4. [Patterns of mortality in southern sea otters 1998-2001](https://pubmed.ncbi.nlm.nih.gov/14567210/) is a PDF report from which we can extract a table about primary and contributing causes of death in 105 southern sea otters from February 1998 to July 2001. This table has 9 columns and 26 rows. The table is not tidy. \n",
    "\n",
    "5. [Mortality trends in northern sea otters (Enhydra lutris kenyoni) collected from the coast of Washington and Oregon during 2002—2015](https://data.usgs.gov/datacatalog/data/USGS:5a4e5b97e4b0d05ee8c662e6) includes a “cause of death” table that has 10 columns and 94 rows and is tidy and clean. Columns include year, month, state, country, sex, age, cause of death manuscript, and so on. Annual summary table has 8 columns and 15 rows. \n"
   ]
  },
  {
   "cell_type": "markdown",
   "metadata": {},
   "source": [
    "### Questions\n",
    "\n",
    "1. **Are there locations that have higher population density than other locations? Are some habitats more suitable for sea otters? Are some habitats no longer sustainable?**\n",
    "\n",
    "    We can use data of the area density of sea otters in various habitats from dataset 2, and see how the population trend changes over the years. We can then compare between different locations and see if there are particular places that are suitable habitats for sea otters, which may need less conservation efforts than places that have less or decreasing population density. This may also tell us about the geographical distribution of sea otters. \n",
    "\n",
    "2. **Is there a relationship between season and stranding?**\n",
    "\n",
    "    We can take table 3 from dataset 1 that has data about year and month and see if there is a particular season that has more stranding cases. This may lead to further investigation on weather effects on sea otters and guide conservation efforts. \n",
    "\n",
    "3. **What are the most common causes of death of sea otters? What percentage of death cases are caused by human activities (e.g. boat strikes, oil spills, etc.)?**\n",
    "\n",
    "    We can take the mortality dataset and categorize the causes into some general categories (e.g. human activities, predators, diseases, etc). We can then count the death cases that fall into these categories and compute the percentages. We can then zoom into categories that we are most interested in, which is human activities, and further analyze what are the specific activities that are most detrimental."
   ]
  },
  {
   "cell_type": "markdown",
   "metadata": {},
   "source": [
    "#### Additional questions\n",
    "We came up with additional questions that are not elaborated here but may be interesting to answer in analysis. \n",
    "\n",
    "**Population-related**\n",
    "1. How well is the total population doing over the years? Is the population growth slow or fast?\n",
    "2. How well does the population recover from a decrease? \n",
    "3. What is the sea otter population structure? (Age group composition)\n",
    "4. Are there large-scale declines and which year did they happen?\n",
    "\n",
    "**Stranding-and-mortality-related**\n",
    "\n",
    "5. Is there a particular age group/ life stage that is more susceptible to stranding?  \n",
    "6. Is there a particular area with more cases of stranding? \n"
   ]
  },
  {
   "cell_type": "markdown",
   "metadata": {},
   "source": [
    "### Possible findings and implications\n",
    "1. We hypothesize that there are certain locations with higher density of sea otters. These may be the areas that have lower human population and less pollution. This may imply that human activities greatly affect sea otter population and their habitats. \n",
    "2. We hypothesize that summer has more stranding cases. Perhaps more people go to the beaches and shores in summer, so there are more observations. More human activities in summer, such as boating, may increase death cases of sea otters. Also, maybe there is a difference in ocean current between seasons, which may affect the number of sea otters getting washed up to the shores. Sea water temperature might also be a factor. This may imply that more support in conservation actions may be needed in summer. \n",
    "3. We hypothesize that predators may be the most common cause of stranding and mortality. Human activities may also contribute to a large percentage of death and stranding cases. The particular human activities that led to the most stranding and death cases may be prohibited or limited by policy to better protect sea otters. \n",
    "\n"
   ]
  },
  {
   "cell_type": "markdown",
   "metadata": {},
   "source": [
    "### References and resources\n",
    "1. https://www.iucnredlist.org/fr/species/7750/21939518#habitat-ecology \n",
    "2. https://www.fws.gov/ventura/endangered/species/info/sso.html \n",
    "3. https://wildlife.ca.gov/OSPR/Science/MWVCRC/Sea-Otter-Necropsy-Program"
   ]
  }
 ],
 "metadata": {
  "kernelspec": {
   "display_name": "Python 3",
   "language": "python",
   "name": "python3"
  },
  "language_info": {
   "codemirror_mode": {
    "name": "ipython",
    "version": 3
   },
   "file_extension": ".py",
   "mimetype": "text/x-python",
   "name": "python",
   "nbconvert_exporter": "python",
   "pygments_lexer": "ipython3",
   "version": "3.8.5"
  }
 },
 "nbformat": 4,
 "nbformat_minor": 4
}
